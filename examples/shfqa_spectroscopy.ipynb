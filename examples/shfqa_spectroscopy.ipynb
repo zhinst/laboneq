{
 "cells": [
  {
   "cell_type": "markdown",
   "id": "26a96d96",
   "metadata": {},
   "source": [
    "# SHFQA spectroscopy\n",
    "\n",
    "Example notebook demonstrating the two different spectroscopy modes supported on the SHFQA - continuous and pulsed spectroscopy"
   ]
  },
  {
   "cell_type": "markdown",
   "id": "2290acec",
   "metadata": {},
   "source": [
    "# 0. General Imports and Definitions"
   ]
  },
  {
   "cell_type": "markdown",
   "id": "8c03fe09",
   "metadata": {},
   "source": [
    "## 0.1 Python Imports"
   ]
  },
  {
   "cell_type": "code",
   "execution_count": null,
   "id": "0580f71a",
   "metadata": {
    "ExecuteTime": {
     "end_time": "2022-05-12T15:37:38.270750Z",
     "start_time": "2022-05-12T15:37:36.478488Z"
    }
   },
   "outputs": [],
   "source": [
    "%config IPCompleter.greedy=True\n",
    "\n",
    "# convenience import for all QCCS software functionality\n",
    "from laboneq.simple import *\n",
    "\n",
    "# helper import\n",
    "from example_notebook_helper import *\n",
    "# from functools import partial"
   ]
  },
  {
   "cell_type": "markdown",
   "id": "95d0c087",
   "metadata": {},
   "source": [
    "# 1. Setup and Calibration\n",
    "## 1.1 Device Setup Descriptor"
   ]
  },
  {
   "cell_type": "code",
   "execution_count": null,
   "id": "9277ba4b",
   "metadata": {
    "ExecuteTime": {
     "end_time": "2022-05-12T15:37:38.316742Z",
     "start_time": "2022-05-12T15:37:38.303744Z"
    }
   },
   "outputs": [],
   "source": [
    "def make_device_setup():\n",
    "    descriptor = f\"\"\"\\\n",
    "    instrument_list:\n",
    "      SHFQA:\n",
    "      - address: DEV12001\n",
    "        uid: device_shfqa\n",
    "      PQSC:  \n",
    "      - address: DEV10001\n",
    "        uid: device_pqsc\n",
    "    connections:\n",
    "      device_shfqa:    \n",
    "        - iq_signal: q0/measure_line\n",
    "          ports: QACHANNELS/0/OUTPUT\n",
    "        - acquire_signal: q0/acquire_line\n",
    "          ports: QACHANNELS/0/INPUT\n",
    "      device_pqsc:\n",
    "        - to: device_shfqa\n",
    "          port: ZSYNCS/0\n",
    "    \"\"\"\n",
    "\n",
    "    device_setup = DeviceSetup.from_descriptor(\n",
    "        yaml_text=descriptor,\n",
    "        server_host=\"my_dataserver_host\",\n",
    "        server_port=8004,\n",
    "        setup_name=\"my_qccs_setup\",\n",
    "    )\n",
    "    \n",
    "    return device_setup"
   ]
  },
  {
   "cell_type": "markdown",
   "id": "9af59d02",
   "metadata": {
    "ExecuteTime": {
     "end_time": "2022-05-12T14:57:36.728835Z",
     "start_time": "2022-05-12T14:57:36.724837Z"
    }
   },
   "source": [
    "## 1.2 Basis Setup Calibration"
   ]
  },
  {
   "cell_type": "code",
   "execution_count": null,
   "id": "d2856702",
   "metadata": {
    "ExecuteTime": {
     "end_time": "2022-05-12T15:37:38.332743Z",
     "start_time": "2022-05-12T15:37:38.318744Z"
    }
   },
   "outputs": [],
   "source": [
    "device_setup = make_device_setup()\n",
    "\n",
    "q0 = device_setup.logical_signal_groups[\"q0\"].logical_signals\n",
    "\n",
    "# define centre frequency \n",
    "lo_freq = 8e9\n",
    "\n",
    "# set centre frequency and output and input range of QA channels\n",
    "q0['measure_line'].calibration = SignalCalibration(\n",
    "    local_oscillator=Oscillator(frequency=lo_freq),\n",
    "    range = 0,\n",
    ")\n",
    "q0['acquire_line'].calibration = SignalCalibration(\n",
    "    range = 0,\n",
    ")"
   ]
  },
  {
   "cell_type": "markdown",
   "id": "63544484",
   "metadata": {},
   "source": [
    "# 2. Continuous spectroscopy\n",
    "\n",
    "In continuous spectroscopy, the output is enabled continuously and modulated with the internal hardware oscillator. Demodulation also uses the hardware oscillator, with the maximum integration length at 16.3 ms"
   ]
  },
  {
   "cell_type": "markdown",
   "id": "de15820d",
   "metadata": {},
   "source": [
    "## 2.1 Additional Experimental Parameters\n",
    "\n",
    "Define the frequency scan and the number of averages"
   ]
  },
  {
   "cell_type": "code",
   "execution_count": null,
   "id": "efaeb408",
   "metadata": {},
   "outputs": [],
   "source": [
    "# only a single measurement per frequency point - long integration takes the role of averaging\n",
    "average_exponent=0\n",
    "\n",
    "# define sweep parameter - frequency of excitation tone is swept\n",
    "start = 100e6\n",
    "stop = 120e6\n",
    "count = 21\n",
    "\n",
    "sweep_parameter = LinearSweepParameter(uid=\"res_freq\", start=start, stop=stop, count=count, axis_name=\"IF, Hz\")"
   ]
  },
  {
   "cell_type": "markdown",
   "id": "de7aa946",
   "metadata": {},
   "source": [
    "## 2.2 Define the Experiment"
   ]
  },
  {
   "cell_type": "code",
   "execution_count": null,
   "id": "d58a3fc5",
   "metadata": {
    "ExecuteTime": {
     "end_time": "2022-05-12T15:58:51.258748Z",
     "start_time": "2022-05-12T15:58:51.248739Z"
    }
   },
   "outputs": [],
   "source": [
    "exp = Experiment(uid=\"Resonator spectroscopy continuous\", \n",
    "    signals=[\n",
    "        \"measure\", \n",
    "        \"acquire\"\n",
    "    ]\n",
    ")\n",
    "\n",
    "# map experimental signals to logical signals\n",
    "exp.map_signal(\"measure\", q0[\"measure_line\"])\n",
    "exp.map_signal(\"acquire\", q0[\"acquire_line\"])\n",
    "\n",
    "# set experiment calibration - frequency sweep of measure signal\n",
    "exp.set_calibration(Calibration(\n",
    "    {\"measure\": SignalCalibration(\n",
    "            oscillator = Oscillator(\n",
    "                frequency=sweep_parameter,\n",
    "                modulation_type=ModulationType.HARDWARE,\n",
    "            )\n",
    "        )\n",
    "    }\n",
    "    )\n",
    ")\n",
    "\n",
    "# define the experimental sequence\n",
    "## outer loop - near time frequency sweep\n",
    "with exp.sweep(uid=\"sweep\", parameter=sweep_parameter):\n",
    "    ## inner loop - real-time data acquisiton in spectroscopy mode\n",
    "    with exp.acquire_loop_rt(uid=\"shots\", \n",
    "                            count=pow(2, average_exponent),\n",
    "                            acquisition_type=AcquisitionType.SPECTROSCOPY\n",
    "    ):\n",
    "        # spectroscopy section - in continuous mode only requires the acquire statement with the length keyword supplied\n",
    "        with exp.section(uid=\"spectroscopy\"):\n",
    "            exp.acquire(signal=\"acquire\", \n",
    "                handle=\"ac_0\", \n",
    "                length=16.7e-3      # Max integration for continuous spectroscopy\n",
    "            ) \n",
    "\n",
    "        # SHFQA issue: Make this very long, 50e-6, to prevent dropped measurements\n",
    "        with exp.section(uid=\"relax\",length=50e-6):\n",
    "            exp.reserve(signal=\"measure\")"
   ]
  },
  {
   "cell_type": "markdown",
   "id": "e819d488",
   "metadata": {},
   "source": [
    "## 2.3 Connect to a Session and Run the Experiment"
   ]
  },
  {
   "cell_type": "code",
   "execution_count": null,
   "id": "57610cb4",
   "metadata": {
    "ExecuteTime": {
     "end_time": "2022-05-12T15:59:57.694059Z",
     "start_time": "2022-05-12T15:59:41.151599Z"
    }
   },
   "outputs": [],
   "source": [
    "session = Session(device_setup=device_setup)\n",
    "session.connect(do_emulation=True)\n",
    "\n",
    "my_results = session.run(exp)"
   ]
  },
  {
   "cell_type": "markdown",
   "id": "c4ab013c",
   "metadata": {},
   "source": [
    "## 2.4 Plot the results"
   ]
  },
  {
   "cell_type": "code",
   "execution_count": null,
   "id": "0558f291",
   "metadata": {
    "ExecuteTime": {
     "end_time": "2022-05-12T16:00:03.953685Z",
     "start_time": "2022-05-12T16:00:03.489777Z"
    }
   },
   "outputs": [],
   "source": [
    "plot2d_abs(my_results, \"ac_0\")"
   ]
  },
  {
   "cell_type": "markdown",
   "id": "ce57accd",
   "metadata": {},
   "source": [
    "# 3. Pulsed spectroscopy\n",
    "\n",
    "In pulsed spectroscopy, the output is additionally modulated with an uploaded waveform. The waveform length is then limited to 16 or 32 us, depending on options installed. Pulsed spectroscopy also uses the internal hardware oscillator for modualtion of the waveform and demodulation of the acquired data."
   ]
  },
  {
   "cell_type": "markdown",
   "id": "cf236d85",
   "metadata": {},
   "source": [
    "## 3.1 Additional Experimental Parameters\n",
    "\n",
    "Define the frequency scan, the number of averages and the readout pulse"
   ]
  },
  {
   "cell_type": "code",
   "execution_count": null,
   "id": "abbfbc1d",
   "metadata": {},
   "outputs": [],
   "source": [
    "# increase number of averages, to compensate for shorter integration length of individual data points \n",
    "average_exponent=10\n",
    "\n",
    "# define sweep parameter\n",
    "start = 100e6\n",
    "stop = 120e6\n",
    "count = 21\n",
    "\n",
    "sweep_parameter = LinearSweepParameter(uid=\"freq_sweep\", start=start, stop=stop, count=count, axis_name=\"IF, Hz\")\n",
    "\n",
    "# readout pulse\n",
    "measure_pulse = pulse_library.const(length=32.768e-6, amplitude=1.0) # max pulse length for spectroscopy"
   ]
  },
  {
   "cell_type": "markdown",
   "id": "a4134890",
   "metadata": {},
   "source": [
    "## 3.2 Define the Experiment"
   ]
  },
  {
   "cell_type": "code",
   "execution_count": null,
   "id": "0a7a0175",
   "metadata": {
    "ExecuteTime": {
     "end_time": "2022-05-12T16:00:05.461477Z",
     "start_time": "2022-05-12T16:00:05.450476Z"
    }
   },
   "outputs": [],
   "source": [
    "exp = Experiment(uid=\"Resonator spectroscopy pulsed\", \n",
    "    signals=[\n",
    "        \"measure\", \n",
    "        \"acquire\"\n",
    "    ]\n",
    ")\n",
    "\n",
    "# map experimental signals to logical signals\n",
    "exp.map_signal(\"measure\", q0[\"measure_line\"])\n",
    "exp.map_signal(\"acquire\", q0[\"acquire_line\"])\n",
    "\n",
    "# set experiment calibration - frequency sweep of measure signal\n",
    "exp.set_calibration(Calibration(\n",
    "    {\"measure\": SignalCalibration(\n",
    "            oscillator = Oscillator(\n",
    "                frequency=sweep_parameter,\n",
    "                modulation_type=ModulationType.HARDWARE,\n",
    "            )\n",
    "        )\n",
    "    }\n",
    "    )\n",
    ")\n",
    "\n",
    "# define the experimental sequence\n",
    "## outer loop - near time frequency sweep\n",
    "with exp.sweep(uid=\"sweep\", parameter=sweep_parameter):\n",
    "    # inner loop - real-time data acquisition in spectroscopy mode\n",
    "    with exp.acquire_loop_rt(uid=\"shots\", \n",
    "                            count=pow(2, average_exponent),\n",
    "                            acquisition_type=AcquisitionType.SPECTROSCOPY\n",
    "    ):\n",
    "        # pulsed spectroscopy - play the measure pulse and start the data acquisition\n",
    "        with exp.section(uid=\"spectroscopy\"):\n",
    "            exp.play(\n",
    "                signal=\"measure\",\n",
    "                pulse=measure_pulse,\n",
    "            )\n",
    "            exp.acquire(signal=\"acquire\", \n",
    "                handle=\"ac_0\", \n",
    "                length=30e-6    # acquire results for 30us\n",
    "            )\n",
    "        # delay inserted to allow for signal processing, KNOWN ISSUE on SHFQA: needs to be very long\n",
    "        with exp.section(uid=\"relax\", length=50e-6):\n",
    "            exp.reserve(signal=\"measure\")"
   ]
  },
  {
   "cell_type": "markdown",
   "id": "0c2b7400",
   "metadata": {},
   "source": [
    "## 3.3 Connect to a Session and Run the Experiment"
   ]
  },
  {
   "cell_type": "code",
   "execution_count": null,
   "id": "fb845e4c",
   "metadata": {
    "ExecuteTime": {
     "end_time": "2022-05-12T16:01:08.877410Z",
     "start_time": "2022-05-12T16:00:48.672901Z"
    },
    "scrolled": false
   },
   "outputs": [],
   "source": [
    "session = Session(device_setup=device_setup)\n",
    "session.connect(do_emulation=True)\n",
    "\n",
    "my_results = session.run(exp)"
   ]
  },
  {
   "cell_type": "markdown",
   "id": "f9cd1994",
   "metadata": {},
   "source": [
    "## 3.4 Plot the results"
   ]
  },
  {
   "cell_type": "code",
   "execution_count": null,
   "id": "9695aaa2",
   "metadata": {
    "ExecuteTime": {
     "end_time": "2022-05-12T15:52:47.025811Z",
     "start_time": "2022-05-12T15:52:46.842809Z"
    }
   },
   "outputs": [],
   "source": [
    "plot2d_abs(my_results, \"ac_0\")"
   ]
  },
  {
   "cell_type": "code",
   "execution_count": null,
   "id": "ce1bc0e1",
   "metadata": {},
   "outputs": [],
   "source": []
  }
 ],
 "metadata": {
  "kernelspec": {
   "display_name": "Python 3.10.6 64-bit ('develop')",
   "language": "python",
   "name": "python3"
  },
  "language_info": {
   "codemirror_mode": {
    "name": "ipython",
    "version": 3
   },
   "file_extension": ".py",
   "mimetype": "text/x-python",
   "name": "python",
   "nbconvert_exporter": "python",
   "pygments_lexer": "ipython3",
   "version": "3.10.6"
  },
  "toc": {
   "base_numbering": 1,
   "nav_menu": {},
   "number_sections": true,
   "sideBar": true,
   "skip_h1_title": false,
   "title_cell": "Table of Contents",
   "title_sidebar": "Contents",
   "toc_cell": false,
   "toc_position": {},
   "toc_section_display": true,
   "toc_window_display": true
  },
  "vscode": {
   "interpreter": {
    "hash": "60d19ab31e2602c798ebca92c5e0dbbdfa80da3d3e1986ed50be48b7d4d0a8f7"
   }
  }
 },
 "nbformat": 4,
 "nbformat_minor": 5
}
