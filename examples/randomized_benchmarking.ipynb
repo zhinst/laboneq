{
 "cells": [
  {
   "cell_type": "markdown",
   "id": "dd656230",
   "metadata": {},
   "source": [
    "# Randomized Benchmarking with the QCCS Software\n",
    "\n",
    "An advanced use case example - Randomized benchmarking using the Clifford group\n",
    "\n",
    "One applies random sequences of Clifford gates for different sequence lengths followed by a recovery gate - the resulting decay of the state fidelity as function of sequence length is a measure of overall gate fidelity"
   ]
  },
  {
   "cell_type": "markdown",
   "id": "fad0c51b",
   "metadata": {},
   "source": [
    "# 0. General Imports and Definitions"
   ]
  },
  {
   "cell_type": "markdown",
   "id": "7b01c7db",
   "metadata": {},
   "source": [
    "## 0.1 Python Imports"
   ]
  },
  {
   "cell_type": "code",
   "execution_count": null,
   "id": "3e772d8d",
   "metadata": {
    "ExecuteTime": {
     "end_time": "2021-09-20T12:02:48.093782Z",
     "start_time": "2021-09-20T12:02:46.601892Z"
    }
   },
   "outputs": [],
   "source": [
    "%config IPCompleter.greedy=True\n",
    "\n",
    "# convenience import of all QCCS functionality\n",
    "from laboneq.simple import *\n",
    "\n",
    "# additional imports needed for Clifford gate calculation\n",
    "import numpy as np\n",
    "from scipy.linalg import expm\n",
    "import matplotlib.pyplot as plt\n",
    "import random\n",
    "\n",
    "# helper import - needed to extract qubit and readout parameters from measurement data\n",
    "from example_notebook_helper import *\n",
    "\n",
    "# RB helper functions - constructing the clifford sequence and calculating the inverse gate\n",
    "from randomized_benchmarking_helper import *"
   ]
  },
  {
   "cell_type": "code",
   "execution_count": null,
   "id": "e221aa1c",
   "metadata": {},
   "outputs": [],
   "source": [
    "## hardcoded properties: \n",
    "GATE_LENGTH = 240e-9 # single Cliffordgate length\n",
    "SAMPLE_RATE = 2.0e9  # sample rate of the AWG -- would be 2.4e-9 only when pulses are played with HDAWG and readout done with UHFQA\n",
    "SIGMA = 1/3 # shape - gaussian with width = 1/3 length"
   ]
  },
  {
   "cell_type": "markdown",
   "id": "f6f2a1fa",
   "metadata": {},
   "source": [
    "# 1. Setting up the QCCS Software\n",
    "\n",
    "Define the device setup, experimental parameters and baseline calibration\n",
    "\n",
    "Establish a session and connect to it"
   ]
  },
  {
   "cell_type": "markdown",
   "id": "c463c14f",
   "metadata": {},
   "source": [
    "## 1.1 Setup Descriptor"
   ]
  },
  {
   "cell_type": "code",
   "execution_count": null,
   "id": "4cf8171b",
   "metadata": {},
   "outputs": [],
   "source": [
    "class MyRack:\n",
    "    shfsg_address = \"DEV12050\"\n",
    "    shfqa_address = \"DEV12036\"\n",
    "    pqsc_address = \"DEV10056\"\n",
    "\n",
    "    server_host = \"10.42.11.0\"\n",
    "    server_port =  \"8004\"\n",
    "    setup_name = \"my_setup\"\n",
    "\n",
    "rack = MyRack\n",
    "\n",
    "my_descriptor=f\"\"\"\\\n",
    "instrument_list:\n",
    "  SHFQA:\n",
    "  - address: {rack.shfqa_address}   \n",
    "    uid: device_shfqa\n",
    "  SHFSG:\n",
    "  - address: {rack.shfsg_address}\n",
    "    uid: device_shfsg\n",
    "  PQSC:  \n",
    "  - address: {rack.pqsc_address}\n",
    "    uid: device_pqsc\n",
    "connections:\n",
    "  device_shfqa:    \n",
    "    - iq_signal: q0/measure_line\n",
    "      ports: [QACHANNELS/0/OUTPUT]\n",
    "    - acquire_signal: q0/acquire_line\n",
    "      ports: [QACHANNELS/0/INPUT]\n",
    "  device_shfsg:\n",
    "    - iq_signal: q0/drive_line\n",
    "      ports: SGCHANNELS/0/OUTPUT\n",
    "  device_pqsc:\n",
    "    - to: device_shfqa\n",
    "      port: ZSYNCS/7\n",
    "    - to: device_shfsg\n",
    "      port: ZSYNCS/6    \n",
    "    - internal_clock_signal\n",
    "\"\"\""
   ]
  },
  {
   "cell_type": "markdown",
   "id": "f1744463",
   "metadata": {},
   "source": [
    "## 1.2 Define Qubit / Experiment Parameters"
   ]
  },
  {
   "cell_type": "code",
   "execution_count": null,
   "id": "4f55e81f",
   "metadata": {
    "ExecuteTime": {
     "end_time": "2021-09-20T12:05:15.631540Z",
     "start_time": "2021-09-20T12:05:15.626553Z"
    }
   },
   "outputs": [],
   "source": [
    "# a collection of qubit control and readout parameters as a python dictionary\n",
    "qubit_parameters = {\n",
    "    'freq': 100e6,  # qubit 0 drive frequency in [Hz] - relative to local oscillator for qubit drive upconversion\n",
    "    'ro_freq': 50e6,\n",
    "    'ro_delay': 0,#15e-9,#100e-9,\n",
    "    'ro_int_delay': 0e-9,#40-9,\n",
    "    'qb_len_spec': 1e-6,\n",
    "    'qb_len': 700e-9,\n",
    "    'qb_amp_spec': 1.0, \n",
    "    'pi_amp': 1,\n",
    "    'qb_len': 200e-9,\n",
    "    'freq_ef': -500e6,\n",
    "    'ro_len': 2.0e-6,\n",
    "    'ro_amp': 1,\n",
    "    'relax': 1e-6\n",
    "    }\n",
    "\n",
    "# up / downconversion settings - to convert between IF and RF frequencies\n",
    "lo_settings = {\n",
    "    'shfqa_lo': 6.0e9,   # SHFQA LO Frequency\n",
    "    'shfsg_lo': 5.0e9    # SHFSG LO Frequencies, one center frequency per two channels\n",
    "}"
   ]
  },
  {
   "cell_type": "markdown",
   "id": "c2dfa493",
   "metadata": {},
   "source": [
    "## 1.3 Baseline Calibration for Device Setup"
   ]
  },
  {
   "cell_type": "code",
   "execution_count": null,
   "id": "3fce9ed6",
   "metadata": {
    "ExecuteTime": {
     "end_time": "2021-10-28T10:30:35.871112Z",
     "start_time": "2021-10-28T10:30:35.858600Z"
    }
   },
   "outputs": [],
   "source": [
    "# function that defines a setup calibration containing the qubit / readout parameters \n",
    "def define_calibration(qubit_parameters, lo_settings):\n",
    "    qubit0_ro_lo = Oscillator(\n",
    "        uid=\"ro_lo_\" + \"q0\" + \"_osc\",\n",
    "        frequency=lo_settings['shfqa_lo'],\n",
    "    )\n",
    "    qubit_0_drive_lo = Oscillator(\n",
    "        uid=\"drive_lo\" + \"q0\" + \"_osc\",\n",
    "        frequency=lo_settings['shfsg_lo'],\n",
    "    )\n",
    "\n",
    "    # the calibration object will later be applied to the device setup\n",
    "    my_calibration = Calibration()\n",
    "    \n",
    "    ## Calibration information for qubit 0\n",
    "    # qubit drive line - the calibration object contains SignalCalibration entries for each logical signal\n",
    "    my_calibration[\"/logical_signal_groups/q0/drive_line\"] = \\\n",
    "        SignalCalibration(\n",
    "            # each logical signal can have an oscillator associated with it\n",
    "            oscillator=Oscillator(\n",
    "                \"q0_drive_osc\",\n",
    "                frequency=qubit_parameters['freq'],\n",
    "                modulation_type=ModulationType.HARDWARE\n",
    "            ),\n",
    "            local_oscillator=qubit_0_drive_lo,\n",
    "            range=10\n",
    "        )\n",
    "\n",
    "    \n",
    "    # readout drive line\n",
    "    my_calibration[\"/logical_signal_groups/q0/measure_line\"] = \\\n",
    "        SignalCalibration(\n",
    "            oscillator=Oscillator(\n",
    "                \"q0_measure_osc\",\n",
    "                frequency=qubit_parameters['ro_freq'],\n",
    "                modulation_type=ModulationType.SOFTWARE\n",
    "            ),\n",
    "            port_delay=qubit_parameters['ro_delay'],\n",
    "            local_oscillator=qubit0_ro_lo,\n",
    "            range=10\n",
    "        )\n",
    "    # acquisition line\n",
    "    my_calibration[\"/logical_signal_groups/q0/acquire_line\"] = \\\n",
    "        SignalCalibration(\n",
    "            oscillator=Oscillator(\n",
    "                \"q0_acquire_osc\",\n",
    "                frequency=qubit_parameters['ro_freq'],\n",
    "                modulation_type=ModulationType.SOFTWARE\n",
    "            ),\n",
    "            # add an offset between the readout pulse and the start of the data acquisition - to compensate for round-trip time of readout pulse \n",
    "            port_delay=qubit_parameters['ro_delay'] + qubit_parameters['ro_int_delay'],\n",
    "            local_oscillator=qubit0_ro_lo,\n",
    "            range=-10,\n",
    "            # add a threshold for the state discrimination -- this requires optimized readout integrator weights\n",
    "            threshold=0.5\n",
    "        )\n",
    "    \n",
    "    return my_calibration"
   ]
  },
  {
   "cell_type": "markdown",
   "id": "001f2e70",
   "metadata": {},
   "source": [
    "## 1.4 Create Device Setup and Apply Baseline Calibration"
   ]
  },
  {
   "cell_type": "code",
   "execution_count": null,
   "id": "42b08ba0",
   "metadata": {
    "ExecuteTime": {
     "end_time": "2021-10-28T10:30:35.887570Z",
     "start_time": "2021-10-28T10:30:35.873938Z"
    }
   },
   "outputs": [],
   "source": [
    "# define the DeviceSetup from descriptor - additionally include information on the dataserver used to connect to the instruments \n",
    "my_setup = DeviceSetup.from_descriptor(\n",
    "    my_descriptor,\n",
    "    server_host=rack.server_host,\n",
    "    server_port=rack.server_port,\n",
    "    setup_name=rack.setup_name,\n",
    ") \n",
    "\n",
    "# define Calibration object based on qubit control and readout parameters\n",
    "my_calibration = define_calibration(qubit_parameters, lo_settings)\n",
    "# apply calibration to device setup\n",
    "my_setup.set_calibration(my_calibration)\n",
    "\n",
    "\n",
    "## define shortcut to logical signals for convenience\n",
    "lsg_q0 = my_setup.logical_signal_groups[\"q0\"].logical_signals\n",
    "drive_Oscillator_q0 = lsg_q0['drive_line'].oscillator\n",
    "readout_Oscillator_q0 = lsg_q0['measure_line'].oscillator\n",
    "acquire_Oscillator_q0 = lsg_q0['acquire_line'].oscillator\n",
    "\n",
    "# map experiment signals to logical signals\n",
    "map_q0 = {\n",
    "    \"drive\": \"/logical_signal_groups/q0/drive_line\",\n",
    "    \"measure\": \"/logical_signal_groups/q0/measure_line\",\n",
    "    \"acquire\": \"/logical_signal_groups/q0/acquire_line\",   \n",
    "}"
   ]
  },
  {
   "cell_type": "markdown",
   "id": "84a4ef0a",
   "metadata": {},
   "source": [
    "## 1.5 Create a Session and Connect to it"
   ]
  },
  {
   "cell_type": "code",
   "execution_count": null,
   "id": "6f993772",
   "metadata": {},
   "outputs": [],
   "source": [
    "emulate = True # perform experiments in emulation mode only?\n",
    "\n",
    "my_session = Session(device_setup=my_setup)\n",
    "my_session.connect(do_emulation=emulate)"
   ]
  },
  {
   "cell_type": "markdown",
   "id": "989af646",
   "metadata": {},
   "source": [
    "# 2. Randomized Benchmarking\n",
    "\n",
    "Perform a randomized benchmarking experiment on a qubit"
   ]
  },
  {
   "cell_type": "markdown",
   "id": "441d7a4c",
   "metadata": {},
   "source": [
    "## 2.1 Additional Experimental Parameters and Pulses\n",
    "\n",
    "Define the number of averages and the pulses used in the experiment"
   ]
  },
  {
   "cell_type": "code",
   "execution_count": null,
   "id": "a7ddba85",
   "metadata": {},
   "outputs": [],
   "source": [
    "# how many averages per point: 2^n_average\n",
    "n_average = 12\n",
    "\n",
    "# qubit readout pulse\n",
    "readout_pulse = pulse_library.const(\n",
    "    uid=\"readout_pulse\", length=qubit_parameters['ro_len'], amplitude=qubit_parameters['ro_amp']\n",
    ")\n",
    "# integration weights for qubit measurement\n",
    "readout_weighting_function = pulse_library.const(\n",
    "    uid=\"readout_weighting_function\", length=qubit_parameters['ro_len'], amplitude=1.0\n",
    ")"
   ]
  },
  {
   "cell_type": "markdown",
   "id": "6a79d209",
   "metadata": {},
   "source": [
    "### 2.1.1 Adjust Pulse Parameters for Clifford Gates\n",
    "\n",
    "Calculate the basic gate set and the pulse objects corresponding to them"
   ]
  },
  {
   "cell_type": "code",
   "execution_count": null,
   "id": "90cfcfab",
   "metadata": {},
   "outputs": [],
   "source": [
    "gate_length = 64e-9\n",
    "\n",
    "gate_set = basic_gate_set(pi_amp=.8, pi_2_amp=0.5, gate_time=gate_length, sigma=SIGMA, sample_rate=SAMPLE_RATE)\n",
    "pulse_set = basic_pulse_set(gate_set)"
   ]
  },
  {
   "cell_type": "markdown",
   "id": "f04294e1",
   "metadata": {},
   "source": [
    "## 2.2 Define and run the RB Experiment \n",
    "The RB experiment will consist of random sequences of different lengths, where each sequence length has a number of instances."
   ]
  },
  {
   "cell_type": "code",
   "execution_count": null,
   "id": "21b5d687",
   "metadata": {},
   "outputs": [],
   "source": [
    "# Different sequence lengths will range from 2^1 to 2^max_seq_length\n",
    "max_seq_length = 3\n",
    "seq_lengths = [ 2**it for it in range(1, max_seq_length+1) ]\n",
    "\n",
    "# number of different random sequences per length\n",
    "n_seq_per_length = 10\n",
    "\n",
    "# the maximum sequence duration is determined by its length,\n",
    "# the max number of basic gates in each Clifford gate, and the length of each gate\n",
    "max_seq_duration = 2**max_seq_length * 3 * gate_length"
   ]
  },
  {
   "cell_type": "markdown",
   "id": "5ee6edee",
   "metadata": {},
   "source": [
    "### Create Randomized Benchmarking Experiment\n",
    "In real time (within `acquire_loop_rt`), the sequence lengths are swept, and for each sequence length, `n_seq_per_length` random sequences are created.\n",
    "\n",
    "Each random sequence consists of three sections:\n",
    "- A right-aligned drive section, which is populated by the helper function `generate_play_rb_pulses`\n",
    "- A readout section\n",
    "- A relax section\n",
    "\n",
    "`generate_play_rb_pulses` first creates a random sequence of Clifford gates together with the recovery gate. Then, the Clifford gates in the sequence are decomposed into the basic gate set and played via an `Experiment.play` command.\n",
    "\n",
    "The `handle` in the `acquire` command follows the sequence length, facilitating straight-forward result processing after the experiment."
   ]
  },
  {
   "cell_type": "code",
   "execution_count": null,
   "id": "e46ebe4e",
   "metadata": {},
   "outputs": [],
   "source": [
    "exp_rb = Experiment(\n",
    "    uid=\"RandomizedBenchmark\",\n",
    "    signals=[\n",
    "        ExperimentSignal(\"drive\"),\n",
    "        ExperimentSignal(\"measure\"),\n",
    "        ExperimentSignal(\"acquire\"),\n",
    "    ]\n",
    ")\n",
    "\n",
    "# outer loop - real-time, cyclic averaging in standard integration mode\n",
    "with exp_rb.acquire_loop_rt(uid=\"rb_shots\", count=pow(2, n_average), averaging_mode=AveragingMode.CYCLIC, acquisition_type=AcquisitionType.DISCRIMINATION):\n",
    "    # inner loop - sweep over sequence lengths\n",
    "    for seq_length in seq_lengths:\n",
    "        # innermost loop - different random sequences for each length\n",
    "        for _ in range(n_seq_per_length):\n",
    "            with exp_rb.section(length=max_seq_duration, alignment=SectionAlignment.RIGHT):\n",
    "                generate_play_rb_pulses(exp_rb, \"drive\", seq_length, clifford_parametrized, pulse_set)\n",
    "            # readout and data acquisition\n",
    "            with exp_rb.section():\n",
    "                exp_rb.reserve(\"drive\")\n",
    "                exp_rb.play(signal=\"measure\", pulse=readout_pulse)\n",
    "                # trigger signal data acquisition\n",
    "                exp_rb.acquire(\n",
    "                    signal=\"acquire\",\n",
    "                    handle=f\"acq_{seq_length}\", # use an individual handle for every sequence length\n",
    "                    kernel=readout_weighting_function\n",
    "                )\n",
    "            with exp_rb.section():\n",
    "                exp_rb.reserve(\"drive\")\n",
    "                # relax time after readout - for qubit relaxation to groundstate and signal processing\n",
    "                exp_rb.delay(signal=\"measure\", time=1e-6)\n"
   ]
  },
  {
   "cell_type": "code",
   "execution_count": null,
   "id": "94cd6836",
   "metadata": {},
   "outputs": [],
   "source": [
    "# set signal map for the experiment\n",
    "exp_rb.set_signal_map(map_q0)\n",
    "\n",
    "# compile the experiment\n",
    "compiler_settings = {\"SHFSG_MIN_PLAYWAVE_HINT\": 256}\n",
    "compiled_exp_rb=my_session.compile(exp_rb, compiler_settings=compiler_settings)"
   ]
  },
  {
   "cell_type": "code",
   "execution_count": null,
   "id": "f657c23c",
   "metadata": {},
   "outputs": [],
   "source": [
    "my_results = my_session.run(compiled_exp_rb)"
   ]
  },
  {
   "cell_type": "markdown",
   "id": "352dbf2a",
   "metadata": {},
   "source": [
    "# Process Results and Plot\n",
    "For each sequence length, the acquired results are averaged and then plotted."
   ]
  },
  {
   "cell_type": "code",
   "execution_count": null,
   "id": "ce89b1df",
   "metadata": {},
   "outputs": [],
   "source": [
    "my_results.get_data(\"acq_2\")\n",
    "avg_meas = []\n",
    "for seq_length in seq_lengths:\n",
    "    avg_meas.append( np.mean( my_results.get_data(f\"acq_{seq_length}\") ) )\n",
    "\n",
    "    "
   ]
  },
  {
   "cell_type": "code",
   "execution_count": null,
   "id": "9ccaaa24",
   "metadata": {},
   "outputs": [],
   "source": [
    "plt.figure()\n",
    "plt.plot(seq_lengths, 1-np.real(avg_meas))\n",
    "plt.xlabel(\"Sequence Length\")\n",
    "plt.ylabel(\"Average Fidelity\")\n",
    "plt.show()"
   ]
  }
 ],
 "metadata": {
  "hide_input": false,
  "kernelspec": {
   "display_name": "Python 3.9.12 ('qccs067')",
   "language": "python",
   "name": "python3"
  },
  "language_info": {
   "codemirror_mode": {
    "name": "ipython",
    "version": 3
   },
   "file_extension": ".py",
   "mimetype": "text/x-python",
   "name": "python",
   "nbconvert_exporter": "python",
   "pygments_lexer": "ipython3",
   "version": "3.9.12"
  },
  "toc": {
   "base_numbering": 1,
   "nav_menu": {},
   "number_sections": true,
   "sideBar": true,
   "skip_h1_title": false,
   "title_cell": "Table of Contents",
   "title_sidebar": "Contents",
   "toc_cell": false,
   "toc_position": {
    "height": "calc(100% - 180px)",
    "left": "10px",
    "top": "150px",
    "width": "409.6px"
   },
   "toc_section_display": true,
   "toc_window_display": true
  },
  "varInspector": {
   "cols": {
    "lenName": 16,
    "lenType": 16,
    "lenVar": 40
   },
   "kernels_config": {
    "python": {
     "delete_cmd_postfix": "",
     "delete_cmd_prefix": "del ",
     "library": "var_list.py",
     "varRefreshCmd": "print(var_dic_list())"
    },
    "r": {
     "delete_cmd_postfix": ") ",
     "delete_cmd_prefix": "rm(",
     "library": "var_list.r",
     "varRefreshCmd": "cat(var_dic_list()) "
    }
   },
   "types_to_exclude": [
    "module",
    "function",
    "builtin_function_or_method",
    "instance",
    "_Feature"
   ],
   "window_display": false
  },
  "vscode": {
   "interpreter": {
    "hash": "94ec98854ebed2d9f7c33f27439334d0509567630007f7b09c1cbd241b46f070"
   }
  }
 },
 "nbformat": 4,
 "nbformat_minor": 5
}
