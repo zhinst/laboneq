{
 "cells": [
  {
   "attachments": {},
   "cell_type": "markdown",
   "metadata": {},
   "source": [
    "# Section Tutorial\n",
    "\n",
    "In this notebook you will build up experiments with the LabOne Q concept of Sections, following along with the Section chapter in the Manual. In the first example, you will go step by step through each part of defining and running your experiment. In the subsequent examples, you will focus on the differences between the sections themselves.\n",
    "\n",
    "By the end of this notebook, you will have constructed a Ramsey sequence, and you will see how you can control the timing of your experiment by manipulating sections, their properties, and their contents.\n",
    "\n",
    "At the end of each step, a pulse sheet will be generated to visualize the behavior. Feel free to modify the experimental sequences and observe the changes in the pulse sheet."
   ]
  },
  {
   "attachments": {},
   "cell_type": "markdown",
   "metadata": {},
   "source": [
    "## Imports"
   ]
  },
  {
   "cell_type": "code",
   "execution_count": null,
   "metadata": {},
   "outputs": [],
   "source": [
    "# Import required packages\n",
    "from laboneq.contrib.example_helpers.generate_device_setup import (\n",
    "    generate_device_setup_qubits,\n",
    ")\n",
    "from laboneq.simple import *"
   ]
  },
  {
   "attachments": {},
   "cell_type": "markdown",
   "metadata": {},
   "source": [
    "## Device Setup"
   ]
  },
  {
   "attachments": {},
   "cell_type": "markdown",
   "metadata": {},
   "source": [
    "We will load a descriptor file to define our device setup and logical signal lines. We could, instead, explicitly include the descriptor here as a string and then use `DeviceSetup.from_descriptor()` below. Choose the best method that works for you!"
   ]
  },
  {
   "cell_type": "code",
   "execution_count": null,
   "metadata": {},
   "outputs": [],
   "source": [
    "# specify the number of qubits you want to use\n",
    "number_of_qubits = 2\n",
    "\n",
    "# generate the device setup and the qubit objects using a helper function\n",
    "device_setup, qubits = generate_device_setup_qubits(\n",
    "    number_qubits=number_of_qubits,\n",
    "    shfqc=[\n",
    "        {\n",
    "            \"serial\": \"DEV12001\",\n",
    "            \"number_of_channels\": 6,\n",
    "            \"readout_multiplex\": 6,\n",
    "            \"options\": None,\n",
    "        }\n",
    "    ],\n",
    "    include_flux_lines=False,\n",
    "    server_host=\"localhost\",\n",
    "    setup_name=f\"my_{number_of_qubits}_fixed_qubit_setup\",\n",
    ")"
   ]
  },
  {
   "attachments": {},
   "cell_type": "markdown",
   "metadata": {},
   "source": [
    "We can look at which logical lines and physical lines are available and if they are calibrated after defining our device setup. They are currently uncalibrated until we provide a calibration later."
   ]
  },
  {
   "cell_type": "code",
   "execution_count": null,
   "metadata": {},
   "outputs": [],
   "source": [
    "device_setup.list_calibratables()"
   ]
  },
  {
   "attachments": {},
   "cell_type": "markdown",
   "metadata": {},
   "source": [
    "## Drive Line Calibration"
   ]
  },
  {
   "attachments": {},
   "cell_type": "markdown",
   "metadata": {},
   "source": [
    "We will start with a basic calibration - providing the intermediate (IF) and local oscillator (LO) frequencies used on our drive line, and specifying the output range of the instrument: "
   ]
  },
  {
   "cell_type": "code",
   "execution_count": null,
   "metadata": {},
   "outputs": [],
   "source": [
    "# Basic calibration of IF and LO frequencies\n",
    "drive_q0_if = Oscillator(\n",
    "    uid=\"drive\" + \"q0\" + \"if\",  # each oscillator object has a unique id\n",
    "    frequency=1.0e8,\n",
    "    modulation_type=ModulationType.HARDWARE,\n",
    ")\n",
    "\n",
    "drive_q0_q1_lo = Oscillator(\n",
    "    uid=\"drive\" + \"q0\" + \"lo\",\n",
    "    frequency=5.0e9,\n",
    ")\n",
    "\n",
    "\n",
    "def calibrate_devices(device_setup):\n",
    "    ## qubit 0\n",
    "    # calibration setting for drive line for qubit 0\n",
    "    device_setup.logical_signal_groups[\"q0\"].logical_signals[\n",
    "        \"drive\"\n",
    "    ].calibration = SignalCalibration(\n",
    "        # oscillator settings - frequency and type of oscillator used to modulate the pulses applied through this signal line\n",
    "        oscillator=drive_q0_if,\n",
    "        local_oscillator=drive_q0_q1_lo,\n",
    "        range=10,\n",
    "    )"
   ]
  },
  {
   "attachments": {},
   "cell_type": "markdown",
   "metadata": {},
   "source": [
    "We can set the calibration:"
   ]
  },
  {
   "cell_type": "code",
   "execution_count": null,
   "metadata": {},
   "outputs": [],
   "source": [
    "calibrate_devices(device_setup)"
   ]
  },
  {
   "attachments": {},
   "cell_type": "markdown",
   "metadata": {},
   "source": [
    "And list our calibrated lines. We will calibrate the unused ones later on."
   ]
  },
  {
   "cell_type": "code",
   "execution_count": null,
   "metadata": {},
   "outputs": [],
   "source": [
    "device_setup.list_calibratables()"
   ]
  },
  {
   "attachments": {},
   "cell_type": "markdown",
   "metadata": {},
   "source": [
    "## First Experiment - Left Aligned Section"
   ]
  },
  {
   "attachments": {},
   "cell_type": "markdown",
   "metadata": {},
   "source": [
    "Now we define our first experiment with a pulse:"
   ]
  },
  {
   "cell_type": "code",
   "execution_count": null,
   "metadata": {},
   "outputs": [],
   "source": [
    "# A pulse to be used in the Experiment\n",
    "x90 = pulse_library.gaussian(uid=\"x90\", length=100e-9, amplitude=0.66)\n",
    "\n",
    "# Define the Experiment\n",
    "exp = Experiment(\n",
    "    uid=\"SectionIntro\",\n",
    "    signals=[\n",
    "        ExperimentSignal(\"drive\"),\n",
    "    ],\n",
    ")\n",
    "## The pulse sequence:\n",
    "# Real time loop\n",
    "with exp.acquire_loop_rt(uid=\"RT_shots\", count=1):\n",
    "    # Left-aligned section of fixed length\n",
    "    with exp.section(uid=\"excitation\", length=2e-6, alignment=SectionAlignment.LEFT):\n",
    "        # Section contents\n",
    "        exp.play(signal=\"drive\", pulse=x90)"
   ]
  },
  {
   "attachments": {},
   "cell_type": "markdown",
   "metadata": {},
   "source": [
    "### Signal Map"
   ]
  },
  {
   "attachments": {},
   "cell_type": "markdown",
   "metadata": {},
   "source": [
    "We define and map our experiment signal line to the appropriate logical signal line:"
   ]
  },
  {
   "cell_type": "code",
   "execution_count": null,
   "metadata": {},
   "outputs": [],
   "source": [
    "# define signal map\n",
    "map_q0_drive = {\n",
    "    \"drive\": device_setup.logical_signal_groups[\"q0\"].logical_signals[\"drive\"]\n",
    "}\n",
    "\n",
    "# set signal map\n",
    "exp.set_signal_map(map_q0_drive)"
   ]
  },
  {
   "attachments": {},
   "cell_type": "markdown",
   "metadata": {},
   "source": [
    "We can check that our lines are mapped how we expect them to be in the following way:"
   ]
  },
  {
   "cell_type": "code",
   "execution_count": null,
   "metadata": {},
   "outputs": [],
   "source": [
    "exp.get_signal_map()"
   ]
  },
  {
   "attachments": {},
   "cell_type": "markdown",
   "metadata": {},
   "source": [
    "### Session and Compilation"
   ]
  },
  {
   "attachments": {},
   "cell_type": "markdown",
   "metadata": {},
   "source": [
    "Now we will start a Session. If you're running without hardware, no problem! Just connect to the session using `do_emulation=True`. Once you're ready to go on your instruments, change `True` to `False`.\n",
    "\n",
    "After connecting to the Session, we can compile or compile and run the experiment. Here, we break it down into separate steps:"
   ]
  },
  {
   "cell_type": "code",
   "execution_count": null,
   "metadata": {},
   "outputs": [],
   "source": [
    "session = Session(device_setup=device_setup)\n",
    "session.connect(do_emulation=True)\n",
    "compiled_exp = session.compile(exp)"
   ]
  },
  {
   "attachments": {},
   "cell_type": "markdown",
   "metadata": {},
   "source": [
    "### Pulse Sheet Viewer"
   ]
  },
  {
   "attachments": {},
   "cell_type": "markdown",
   "metadata": {},
   "source": [
    "Once the experiment is compiled, we can view the pulses in a Pulse Sheet Viewer, a HTML file which shows the sections, pulses, and their relative timings."
   ]
  },
  {
   "cell_type": "code",
   "execution_count": null,
   "metadata": {},
   "outputs": [],
   "source": [
    "show_pulse_sheet(\"1_Section_Intro\", compiled_exp)"
   ]
  },
  {
   "attachments": {},
   "cell_type": "markdown",
   "metadata": {},
   "source": [
    "### Source Code"
   ]
  },
  {
   "attachments": {},
   "cell_type": "markdown",
   "metadata": {},
   "source": [
    "We can also view the source code that gets uploaded and then compiled on the instrument."
   ]
  },
  {
   "cell_type": "code",
   "execution_count": null,
   "metadata": {},
   "outputs": [],
   "source": [
    "print(compiled_exp.src[0][\"text\"])"
   ]
  },
  {
   "attachments": {},
   "cell_type": "markdown",
   "metadata": {},
   "source": [
    "### Running the Experiment"
   ]
  },
  {
   "attachments": {},
   "cell_type": "markdown",
   "metadata": {},
   "source": [
    "Finally, we can run the experiment."
   ]
  },
  {
   "cell_type": "code",
   "execution_count": null,
   "metadata": {},
   "outputs": [],
   "source": [
    "my_results = session.run(compiled_exp)"
   ]
  },
  {
   "attachments": {},
   "cell_type": "markdown",
   "metadata": {},
   "source": [
    "We will now move into other experiments, condensing the signal mapping, compilation, and running of the experiments, and we will focus on how sections modify our experimental pulse sequence."
   ]
  },
  {
   "attachments": {},
   "cell_type": "markdown",
   "metadata": {},
   "source": [
    "## Alignment"
   ]
  },
  {
   "attachments": {},
   "cell_type": "markdown",
   "metadata": {},
   "source": [
    "### Right Aligned Section"
   ]
  },
  {
   "attachments": {},
   "cell_type": "markdown",
   "metadata": {},
   "source": [
    "Section alignment is a extremely useful and powerful way to control pulse timing. Here, we show how changing the alignment of the section changes when the pulse is played."
   ]
  },
  {
   "cell_type": "code",
   "execution_count": null,
   "metadata": {},
   "outputs": [],
   "source": [
    "# Define the Experiment\n",
    "exp = Experiment(\n",
    "    uid=\"Right_Alignment\",\n",
    "    signals=[\n",
    "        ExperimentSignal(\"drive\"),\n",
    "    ],\n",
    ")\n",
    "## The pulse sequence:\n",
    "# Real time loop\n",
    "with exp.acquire_loop_rt(uid=\"RT_shots\", count=1):\n",
    "    # Left-aligned section of fixed length\n",
    "    with exp.section(uid=\"excitation\", length=2e-6, alignment=SectionAlignment.RIGHT):\n",
    "        # Section contents\n",
    "        exp.play(signal=\"drive\", pulse=x90)"
   ]
  },
  {
   "cell_type": "code",
   "execution_count": null,
   "metadata": {},
   "outputs": [],
   "source": [
    "# set experiment calibration and signal map\n",
    "exp.set_signal_map(map_q0_drive)\n",
    "\n",
    "# compile\n",
    "compiled_exp = session.compile(exp)\n",
    "\n",
    "# run the experiment\n",
    "my_results = session.run()\n",
    "\n",
    "# generate the pulse sheet\n",
    "show_pulse_sheet(\"2_Right_Alignment\", session.compiled_experiment)"
   ]
  },
  {
   "attachments": {},
   "cell_type": "markdown",
   "metadata": {},
   "source": [
    "### No Specified Section Length"
   ]
  },
  {
   "attachments": {},
   "cell_type": "markdown",
   "metadata": {},
   "source": [
    "If no section length is specified, the section length will be determined by the section's contents. In the below case with a single pulse, left or right alignment will result in the same timing of the pulse."
   ]
  },
  {
   "cell_type": "code",
   "execution_count": null,
   "metadata": {},
   "outputs": [],
   "source": [
    "# Define the Experiment\n",
    "exp = Experiment(\n",
    "    uid=\"No_Specified_Section_Length\",\n",
    "    signals=[\n",
    "        ExperimentSignal(\"drive\"),\n",
    "    ],\n",
    ")\n",
    "## The pulse sequence:\n",
    "# Real time loop\n",
    "with exp.acquire_loop_rt(uid=\"RT_shots\", count=1):\n",
    "    # Left Aligned section of fixed length\n",
    "    with exp.section(uid=\"excitation\", alignment=SectionAlignment.RIGHT):\n",
    "        # Section contents\n",
    "        exp.play(signal=\"drive\", pulse=x90)"
   ]
  },
  {
   "cell_type": "code",
   "execution_count": null,
   "metadata": {},
   "outputs": [],
   "source": [
    "# set experiment calibration and signal map\n",
    "exp.set_signal_map(map_q0_drive)\n",
    "\n",
    "# compile\n",
    "compiled_exp = session.compile(exp)\n",
    "\n",
    "# run the experiment\n",
    "my_results = session.run()\n",
    "\n",
    "# show pulse sheet\n",
    "show_pulse_sheet(\"3_No_Specified_Length\", session.compiled_experiment)"
   ]
  },
  {
   "attachments": {},
   "cell_type": "markdown",
   "metadata": {},
   "source": [
    "## Signal Delays"
   ]
  },
  {
   "attachments": {},
   "cell_type": "markdown",
   "metadata": {},
   "source": [
    "Here, we add a second pulse to the same section played 100 ns after the first using the `delay` command. "
   ]
  },
  {
   "cell_type": "code",
   "execution_count": null,
   "metadata": {},
   "outputs": [],
   "source": [
    "# Define the Experiment\n",
    "exp = Experiment(\n",
    "    uid=\"Signal_Delay\",\n",
    "    signals=[\n",
    "        ExperimentSignal(\"drive\"),\n",
    "    ],\n",
    ")\n",
    "## The pulse sequence:\n",
    "# Real time loop\n",
    "with exp.acquire_loop_rt(uid=\"RT_shots\", count=1):\n",
    "    # Right Aligned section of fixed length\n",
    "    with exp.section(uid=\"excitation\", alignment=SectionAlignment.RIGHT, length=1e-6):\n",
    "        # Section contents\n",
    "        exp.play(signal=\"drive\", pulse=x90)\n",
    "        exp.delay(signal=\"drive\", time=100e-9)\n",
    "        exp.play(signal=\"drive\", pulse=x90)"
   ]
  },
  {
   "cell_type": "code",
   "execution_count": null,
   "metadata": {},
   "outputs": [],
   "source": [
    "# set experiment calibration and signal map\n",
    "exp.set_signal_map(map_q0_drive)\n",
    "\n",
    "# compile\n",
    "compiled_exp = session.compile(exp)\n",
    "\n",
    "# run the experiment\n",
    "my_results = session.run()\n",
    "\n",
    "# show pulse sheet\n",
    "show_pulse_sheet(\"4_Signal_Delay\", session.compiled_experiment)"
   ]
  },
  {
   "attachments": {},
   "cell_type": "markdown",
   "metadata": {},
   "source": [
    "## Second Drive Line"
   ]
  },
  {
   "attachments": {},
   "cell_type": "markdown",
   "metadata": {},
   "source": [
    "We now introduce a second drive line. Note that we must create a new signal map, as we have introduced a second experiment signal."
   ]
  },
  {
   "cell_type": "code",
   "execution_count": null,
   "metadata": {},
   "outputs": [],
   "source": [
    "# Define a second pulse in addition to x90\n",
    "x180 = pulse_library.gaussian(uid=\"x180\", length=200e-9, amplitude=0.66)\n",
    "\n",
    "# Define the Experiment\n",
    "exp = Experiment(\n",
    "    uid=\"Section_Two_Lines\",\n",
    "    signals=[ExperimentSignal(\"drive\"), ExperimentSignal(\"drive1\")],\n",
    ")\n",
    "## The pulse sequence:\n",
    "# Real time loop\n",
    "with exp.acquire_loop_rt(uid=\"RT_shots\", count=1):\n",
    "    # Right-aligned section with 1 microsecond length\n",
    "    with exp.section(uid=\"excitation\", alignment=SectionAlignment.RIGHT, length=1e-6):\n",
    "        # Section contents\n",
    "        exp.play(signal=\"drive\", pulse=x90)\n",
    "        exp.delay(signal=\"drive\", time=100e-9)\n",
    "        exp.play(signal=\"drive\", pulse=x90)\n",
    "        exp.play(signal=\"drive1\", pulse=x180)\n",
    "        exp.delay(signal=\"drive1\", time=50e-9)\n",
    "        exp.play(signal=\"drive1\", pulse=x90)"
   ]
  },
  {
   "cell_type": "code",
   "execution_count": null,
   "metadata": {},
   "outputs": [],
   "source": [
    "# define signal map\n",
    "map_q0_q1_drive = {\n",
    "    \"drive\": device_setup.logical_signal_groups[\"q0\"].logical_signals[\"drive\"],\n",
    "    \"drive1\": device_setup.logical_signal_groups[\"q1\"].logical_signals[\"drive\"],\n",
    "}"
   ]
  },
  {
   "cell_type": "code",
   "execution_count": null,
   "metadata": {},
   "outputs": [],
   "source": [
    "# Basic calibration of q1 IF and LO frequencies\n",
    "drive_q1_if = Oscillator(\n",
    "    uid=\"drive\" + \"q1\" + \"if\", frequency=0.5e8, modulation_type=ModulationType.HARDWARE\n",
    ")\n",
    "\n",
    "\n",
    "def calibrate_devices_drive1(device_setup):\n",
    "    ## qubit 1\n",
    "    # calibration setting for drive line for qubit 1\n",
    "    device_setup.logical_signal_groups[\"q1\"].logical_signals[\n",
    "        \"drive\"\n",
    "    ].calibration = SignalCalibration(\n",
    "        # oscillator settings - frequency and type of oscillator used to modulate the pulses applied through this signal line\n",
    "        oscillator=drive_q1_if,\n",
    "        local_oscillator=drive_q0_q1_lo,\n",
    "        range=10,\n",
    "    )"
   ]
  },
  {
   "cell_type": "code",
   "execution_count": null,
   "metadata": {},
   "outputs": [],
   "source": [
    "# apply the new calibration\n",
    "calibrate_devices_drive1(device_setup)"
   ]
  },
  {
   "cell_type": "code",
   "execution_count": null,
   "metadata": {},
   "outputs": [],
   "source": [
    "device_setup.list_calibratables()"
   ]
  },
  {
   "cell_type": "code",
   "execution_count": null,
   "metadata": {},
   "outputs": [],
   "source": [
    "# set experiment calibration and signal map\n",
    "exp.set_signal_map(map_q0_q1_drive)\n",
    "\n",
    "# compile\n",
    "compiled_exp = session.compile(exp)\n",
    "\n",
    "# run the experiment\n",
    "my_results = session.run()\n",
    "\n",
    "# show pulse sheet\n",
    "show_pulse_sheet(\"5_Section_Two_Lines\", session.compiled_experiment)"
   ]
  },
  {
   "attachments": {},
   "cell_type": "markdown",
   "metadata": {},
   "source": [
    "## Multiple and Nested Sections\n",
    "\n",
    "An experiment can have multiple sections. If the sections do not comprise the same signal lines (as in the example below), they will be played in parallel."
   ]
  },
  {
   "cell_type": "code",
   "execution_count": null,
   "metadata": {},
   "outputs": [],
   "source": [
    "# Define the Experiment\n",
    "exp = Experiment(\n",
    "    uid=\"Two_Sections\",\n",
    "    signals=[ExperimentSignal(\"drive\"), ExperimentSignal(\"drive1\")],\n",
    ")\n",
    "## The pulse sequence:\n",
    "# Real time loop\n",
    "with exp.acquire_loop_rt(uid=\"RT_shots\", count=1):\n",
    "    # Right-aligned section with 1 microsecond length\n",
    "    with exp.section(uid=\"excitation\", alignment=SectionAlignment.RIGHT, length=1e-6):\n",
    "        # Section contents\n",
    "        exp.play(signal=\"drive\", pulse=x90)\n",
    "        exp.delay(signal=\"drive\", time=100e-9)\n",
    "        exp.play(signal=\"drive\", pulse=x90)\n",
    "    # Left-aligned section with 500 ns length\n",
    "    with exp.section(uid=\"excitation1\", alignment=SectionAlignment.LEFT, length=500e-9):\n",
    "        # Section contents\n",
    "        exp.play(signal=\"drive1\", pulse=x180)\n",
    "        exp.delay(signal=\"drive1\", time=50e-9)\n",
    "        exp.play(signal=\"drive1\", pulse=x90)"
   ]
  },
  {
   "cell_type": "code",
   "execution_count": null,
   "metadata": {},
   "outputs": [],
   "source": [
    "# set experiment calibration and signal map\n",
    "exp.set_signal_map(map_q0_q1_drive)\n",
    "\n",
    "# compile\n",
    "compiled_exp = session.compile(exp)\n",
    "\n",
    "# run the experiment\n",
    "my_results = session.run()\n",
    "\n",
    "# show pulse sheet\n",
    "show_pulse_sheet(\"6_Two_Sections\", session.compiled_experiment)"
   ]
  },
  {
   "attachments": {},
   "cell_type": "markdown",
   "metadata": {},
   "source": [
    "Sections can be nested within parent sections. This is a powerful way to define the timing behavior of more complex experiments."
   ]
  },
  {
   "cell_type": "code",
   "execution_count": null,
   "metadata": {},
   "outputs": [],
   "source": [
    "# Define the Experiment\n",
    "exp = Experiment(\n",
    "    uid=\"Nested_Sections\",\n",
    "    signals=[ExperimentSignal(\"drive\"), ExperimentSignal(\"drive1\")],\n",
    ")\n",
    "## The pulse sequence:\n",
    "# Real time loop\n",
    "with exp.acquire_loop_rt(uid=\"RT_shots\", count=1):\n",
    "    # Parent section with right alignment\n",
    "    with exp.section(uid=\"parent\", alignment=SectionAlignment.RIGHT):\n",
    "        # Right-aligned section with 1 microsecond length\n",
    "        with exp.section(\n",
    "            uid=\"excitation\", alignment=SectionAlignment.RIGHT, length=1e-6\n",
    "        ):\n",
    "            # Section contents\n",
    "            exp.play(signal=\"drive\", pulse=x90)\n",
    "            exp.delay(signal=\"drive\", time=100e-9)\n",
    "            exp.play(signal=\"drive\", pulse=x90)\n",
    "        # Left-aligned section with 50 ns length\n",
    "        with exp.section(\n",
    "            uid=\"excitation1\", alignment=SectionAlignment.LEFT, length=500e-9\n",
    "        ):\n",
    "            # Section contents\n",
    "            exp.play(signal=\"drive1\", pulse=x180)\n",
    "            exp.delay(signal=\"drive1\", time=50e-9)\n",
    "            exp.play(signal=\"drive1\", pulse=x90)"
   ]
  },
  {
   "cell_type": "code",
   "execution_count": null,
   "metadata": {},
   "outputs": [],
   "source": [
    "# set experiment calibration and signal map\n",
    "exp.set_signal_map(map_q0_q1_drive)\n",
    "\n",
    "# compile\n",
    "compiled_exp = session.compile(exp)\n",
    "\n",
    "# run the experiment\n",
    "my_results = session.run()\n",
    "\n",
    "# show pulse sheet\n",
    "show_pulse_sheet(\"7_Nested_Sections\", session.compiled_experiment)"
   ]
  },
  {
   "attachments": {},
   "cell_type": "markdown",
   "metadata": {},
   "source": [
    "## Reusing Sections\n",
    "\n",
    "Sections can be reused by referring to their `uid`. A use case is to define a quantum gate within a section and apply it several times."
   ]
  },
  {
   "cell_type": "code",
   "execution_count": null,
   "metadata": {},
   "outputs": [],
   "source": [
    "# Define the Experiment\n",
    "exp = Experiment(\n",
    "    uid=\"Reusing_Sections\",\n",
    "    signals=[ExperimentSignal(\"drive\"), ExperimentSignal(\"drive1\")],\n",
    ")\n",
    "## The pulse sequence:\n",
    "# Real time loop\n",
    "with exp.acquire_loop_rt(uid=\"RT_shots\", count=1):\n",
    "    # Parent section with right alignment\n",
    "    with exp.section(uid=\"parent\", alignment=SectionAlignment.RIGHT):\n",
    "        # Right-aligned section with 1 microsecond length\n",
    "        with exp.section(\n",
    "            uid=\"excitation\", alignment=SectionAlignment.RIGHT, length=1e-6\n",
    "        ):\n",
    "            # Section contents\n",
    "            exp.play(signal=\"drive\", pulse=x90)\n",
    "            exp.delay(signal=\"drive\", time=100e-9)\n",
    "            exp.play(signal=\"drive\", pulse=x90)\n",
    "        # Left-aligned section with 50 ns length\n",
    "        with exp.section(\n",
    "            uid=\"excitation1\", alignment=SectionAlignment.LEFT, length=500e-9\n",
    "        ) as excitation1:\n",
    "            # Section contents\n",
    "            exp.play(signal=\"drive1\", pulse=x180)\n",
    "            exp.delay(signal=\"drive1\", time=50e-9)\n",
    "            exp.play(signal=\"drive1\", pulse=x90)\n",
    "        exp.add(section=excitation1)\n",
    "        exp.add(section=excitation1)"
   ]
  },
  {
   "cell_type": "code",
   "execution_count": null,
   "metadata": {},
   "outputs": [],
   "source": [
    "# set experiment calibration and signal map\n",
    "exp.set_signal_map(map_q0_q1_drive)\n",
    "\n",
    "# compile\n",
    "compiled_exp = session.compile(exp)\n",
    "\n",
    "# run the experiment\n",
    "my_results = session.run()\n",
    "\n",
    "# show pulse sheet\n",
    "show_pulse_sheet(\"8_Reusing_Sections\", session.compiled_experiment)"
   ]
  },
  {
   "attachments": {},
   "cell_type": "markdown",
   "metadata": {},
   "source": [
    "Instead of using sections defined within the experiment, they can be defined explicitly before the experimental sequence starts:"
   ]
  },
  {
   "cell_type": "code",
   "execution_count": null,
   "metadata": {},
   "outputs": [],
   "source": [
    "my_section = Section(uid=\"my_section\", alignment=SectionAlignment.LEFT, length=500e-9)\n",
    "my_section.play(signal=\"drive1\", pulse=x180)\n",
    "my_section.delay(signal=\"drive1\", time=50e-9)\n",
    "my_section.play(signal=\"drive1\", pulse=x90)\n",
    "\n",
    "# Define the Experiment\n",
    "exp = Experiment(\n",
    "    uid=\"Reusing_Sections_Alternative\",\n",
    "    signals=[ExperimentSignal(\"drive\"), ExperimentSignal(\"drive1\")],\n",
    ")\n",
    "## The pulse sequence:\n",
    "# Real time loop\n",
    "with exp.acquire_loop_rt(uid=\"RT_shots\", count=1):\n",
    "    # Parent section with right alignment\n",
    "    with exp.section(uid=\"parent\", alignment=SectionAlignment.RIGHT):\n",
    "        # Right-aligned section with 1 microsecond length\n",
    "        with exp.section(\n",
    "            uid=\"excitation\", alignment=SectionAlignment.RIGHT, length=1e-6\n",
    "        ):\n",
    "            # Section contents\n",
    "            exp.play(signal=\"drive\", pulse=x90)\n",
    "            exp.delay(signal=\"drive\", time=100e-9)\n",
    "            exp.play(signal=\"drive\", pulse=x90)\n",
    "        # Left-aligned section with 50 ns length\n",
    "        exp.add(section=my_section)\n",
    "        exp.add(section=my_section)\n",
    "        exp.add(section=my_section)"
   ]
  },
  {
   "cell_type": "code",
   "execution_count": null,
   "metadata": {},
   "outputs": [],
   "source": [
    "# set experiment calibration and signal map\n",
    "exp.set_signal_map(map_q0_q1_drive)\n",
    "\n",
    "# compile\n",
    "compiled_exp = session.compile(exp)\n",
    "\n",
    "# run the experiment\n",
    "my_results = session.run()\n",
    "\n",
    "# show pulse sheet\n",
    "show_pulse_sheet(\"9_Reusing_Sections_Alternative\", session.compiled_experiment)"
   ]
  },
  {
   "attachments": {},
   "cell_type": "markdown",
   "metadata": {},
   "source": [
    "## The `play_after` Command\n",
    "\n",
    "The `play_after` command enforces a temporal ordering between sections. We could use it to make sure that a qubit is measured only after the drive section has finished."
   ]
  },
  {
   "cell_type": "code",
   "execution_count": null,
   "metadata": {},
   "outputs": [],
   "source": [
    "# Define the Experiment\n",
    "exp = Experiment(\n",
    "    uid=\"Play_after\",\n",
    "    signals=[ExperimentSignal(\"drive\"), ExperimentSignal(\"drive1\")],\n",
    ")\n",
    "## The pulse sequence:\n",
    "# Real time loop\n",
    "with exp.acquire_loop_rt(uid=\"RT_shots\", count=1):\n",
    "    # Parent section with right alignment\n",
    "    with exp.section(uid=\"parent\", alignment=SectionAlignment.RIGHT):\n",
    "        # Right-aligned section with 1 microsecond length\n",
    "        with exp.section(\n",
    "            uid=\"excitation\", alignment=SectionAlignment.RIGHT, length=1e-6\n",
    "        ):\n",
    "            # Section contents\n",
    "            exp.play(signal=\"drive\", pulse=x90)\n",
    "            exp.delay(signal=\"drive\", time=100e-9)\n",
    "            exp.play(signal=\"drive\", pulse=x90)\n",
    "        # Left-aligned section with 50 ns length\n",
    "        with exp.section(\n",
    "            uid=\"excitation1\",\n",
    "            alignment=SectionAlignment.LEFT,\n",
    "            length=500e-9,\n",
    "            play_after=\"excitation\",\n",
    "        ) as excitation1:\n",
    "            # Section contents\n",
    "            exp.play(signal=\"drive1\", pulse=x180)\n",
    "            exp.delay(signal=\"drive1\", time=50e-9)\n",
    "            exp.play(signal=\"drive1\", pulse=x90)\n",
    "        exp.add(section=excitation1)\n",
    "        exp.add(section=excitation1)"
   ]
  },
  {
   "cell_type": "code",
   "execution_count": null,
   "metadata": {},
   "outputs": [],
   "source": [
    "# set experiment calibration and signal map\n",
    "exp.set_signal_map(map_q0_q1_drive)\n",
    "\n",
    "# compile\n",
    "compiled_exp = session.compile(exp)\n",
    "\n",
    "# run the experiment\n",
    "my_results = session.run()\n",
    "\n",
    "# show pulse sheet\n",
    "show_pulse_sheet(\"10_Play_After\", session.compiled_experiment)"
   ]
  },
  {
   "attachments": {},
   "cell_type": "markdown",
   "metadata": {},
   "source": [
    "## Reserving Signals\n",
    "\n",
    "We can reserve a signal line within a section to make sure that it cannot be used anywhere else in the experiment at the same time:"
   ]
  },
  {
   "cell_type": "code",
   "execution_count": null,
   "metadata": {},
   "outputs": [],
   "source": [
    "# Define the Experiment\n",
    "exp = Experiment(\n",
    "    uid=\"Reserving_Signals\",\n",
    "    signals=[ExperimentSignal(\"drive\"), ExperimentSignal(\"drive1\")],\n",
    ")\n",
    "## The pulse sequence:\n",
    "# Real time loop\n",
    "with exp.acquire_loop_rt(uid=\"RT_shots\", count=1):\n",
    "    # Parent section with right alignment\n",
    "    with exp.section(uid=\"parent\", alignment=SectionAlignment.RIGHT):\n",
    "        # Right-aligned section with 1 microsecond length\n",
    "        with exp.section(\n",
    "            uid=\"excitation\", alignment=SectionAlignment.RIGHT, length=1e-6\n",
    "        ):\n",
    "            # Section contents\n",
    "            exp.play(signal=\"drive\", pulse=x90)\n",
    "            exp.delay(signal=\"drive\", time=100e-9)\n",
    "            exp.play(signal=\"drive\", pulse=x90)\n",
    "            exp.reserve(signal=\"drive1\")\n",
    "        # Left-aligned section with 50 ns length\n",
    "        with exp.section(\n",
    "            uid=\"excitation1\", alignment=SectionAlignment.LEFT, length=500e-9\n",
    "        ) as excitation1:\n",
    "            # Section contents\n",
    "            exp.play(signal=\"drive1\", pulse=x180)\n",
    "            exp.delay(signal=\"drive1\", time=50e-9)\n",
    "            exp.play(signal=\"drive1\", pulse=x90)\n",
    "        exp.add(section=excitation1)"
   ]
  },
  {
   "cell_type": "code",
   "execution_count": null,
   "metadata": {},
   "outputs": [],
   "source": [
    "# set experiment calibration and signal map\n",
    "exp.set_signal_map(map_q0_q1_drive)\n",
    "\n",
    "# compile\n",
    "compiled_exp = session.compile(exp)\n",
    "\n",
    "# run the experiment\n",
    "my_results = session.run()\n",
    "\n",
    "# show pulse sheet\n",
    "show_pulse_sheet(\"11_Reserving_Signals\", session.compiled_experiment)"
   ]
  },
  {
   "cell_type": "markdown",
   "metadata": {},
   "source": [
    "## Phase Resets\n",
    "\n",
    "In addition to the `reset_oscillator_phase` parameter of `sweep()` and `acquire_loop_rt()`, we can also reset the oscillator phase of a signal using the `reset_oscillator_phase()` command. This is useful for resetting the phase of a signal within a section, for example, to ensure that the phase of a signal is reset before a new pulse sequence starts.\n",
    "\n",
    "At the moment, this is however not possible for hardware modulated RF signals."
   ]
  },
  {
   "cell_type": "code",
   "execution_count": null,
   "metadata": {},
   "outputs": [],
   "source": [
    "# Define the Experiment\n",
    "exp = Experiment(\n",
    "    uid=\"Resetting the phase\",\n",
    "    signals=[ExperimentSignal(\"drive\"), ExperimentSignal(\"drive1\")],\n",
    ")\n",
    "## The pulse sequence:\n",
    "# Real time loop\n",
    "with exp.acquire_loop_rt(uid=\"RT_shots\", count=1):\n",
    "    with exp.section(uid=\"parent\"):\n",
    "        exp.play(signal=\"drive\", pulse=x90)\n",
    "        exp.reset_oscillator_phase(signal=\"drive\")\n",
    "        exp.play(signal=\"drive\", pulse=x90)"
   ]
  },
  {
   "cell_type": "code",
   "execution_count": null,
   "metadata": {},
   "outputs": [],
   "source": [
    "# set experiment calibration and signal map\n",
    "exp.set_signal_map(map_q0_q1_drive)\n",
    "\n",
    "# compile\n",
    "compiled_exp = session.compile(exp)\n",
    "\n",
    "# run the experiment\n",
    "my_results = session.run()\n",
    "\n",
    "# show pulse sheet\n",
    "show_pulse_sheet(\"12_Reset_Phase\", session.compiled_experiment)"
   ]
  },
  {
   "cell_type": "markdown",
   "metadata": {},
   "source": [
    "Note that in the pulse sheet, there is a gap between the two pulses, which is the time it takes to reset the phase of the oscillator. Also there is a log message indicating that the additional delay that was added to reset the phase of the oscillator."
   ]
  },
  {
   "attachments": {},
   "cell_type": "markdown",
   "metadata": {},
   "source": [
    "## Ramsey Sequence"
   ]
  },
  {
   "attachments": {},
   "cell_type": "markdown",
   "metadata": {},
   "source": [
    "Now we will implement a full Ramsey sequence using one drive line, a measurement line, and a acquisition line.\n",
    "\n",
    "We will first define some new pulses along with sweeping and averaging parameters."
   ]
  },
  {
   "attachments": {},
   "cell_type": "markdown",
   "metadata": {},
   "source": [
    "### Parameters and pulse definition"
   ]
  },
  {
   "cell_type": "code",
   "execution_count": null,
   "metadata": {},
   "outputs": [],
   "source": [
    "# pulse definitions\n",
    "drive_pulse = pulse_library.gaussian(uid=\"gaussian_drive\", length=700e-9, amplitude=1)\n",
    "readout_pulse = pulse_library.const(uid=\"Readout\", length=300e-9, amplitude=0.8)\n",
    "\n",
    "# averages\n",
    "n_average = 2\n",
    "\n",
    "# sweep parameters\n",
    "n_steps = 7\n",
    "start_delay = 0\n",
    "stop_delay = 13e-6\n",
    "\n",
    "time_sweep = LinearSweepParameter(\n",
    "    uid=\"time_sweep_param\", start=start_delay, stop=stop_delay, count=n_steps\n",
    ")"
   ]
  },
  {
   "attachments": {},
   "cell_type": "markdown",
   "metadata": {},
   "source": [
    "### Pulse Sequence"
   ]
  },
  {
   "attachments": {},
   "cell_type": "markdown",
   "metadata": {},
   "source": [
    "Now we get to our Ramsey experiment! We make use of all of the concepts we've introduced above, along with adding a `sweep` section, where we can choose a parameter that changes, in this case, the delay time between pulses."
   ]
  },
  {
   "cell_type": "code",
   "execution_count": null,
   "metadata": {},
   "outputs": [],
   "source": [
    "# Ramsey experiment and pulse sequence\n",
    "exp_ramsey = Experiment(\n",
    "    uid=\"Ramsey\",\n",
    "    signals=[\n",
    "        ExperimentSignal(\"drive\"),\n",
    "        ExperimentSignal(\"measure\"),\n",
    "        ExperimentSignal(\"acquire\"),\n",
    "    ],\n",
    ")\n",
    "\n",
    "# outer loop - real-time, cyclic averaging\n",
    "with exp_ramsey.acquire_loop_rt(\n",
    "    uid=\"RT_Shots\",\n",
    "    count=n_average,\n",
    "    averaging_mode=AveragingMode.CYCLIC,\n",
    "    acquisition_type=AcquisitionType.INTEGRATION,\n",
    "    repetition_mode=RepetitionMode.AUTO,\n",
    "):\n",
    "    # inner loop - real time sweep of Ramsey time delays\n",
    "    with exp_ramsey.sweep(\n",
    "        uid=\"Ramsey_sweep\", parameter=time_sweep, alignment=SectionAlignment.RIGHT\n",
    "    ):\n",
    "        # play qubit excitation pulse - delay between pulses is swept\n",
    "        with exp_ramsey.section(uid=\"qubit_excitation\"):\n",
    "            exp_ramsey.play(signal=\"drive\", pulse=drive_pulse)\n",
    "            exp_ramsey.delay(signal=\"drive\", time=time_sweep)\n",
    "            exp_ramsey.play(signal=\"drive\", pulse=drive_pulse)\n",
    "        # readout pulse and data acquisition\n",
    "        with exp_ramsey.section(uid=\"readout_section\", play_after=\"qubit_excitation\"):\n",
    "            # play readout pulse on measure line\n",
    "            exp_ramsey.play(signal=\"measure\", pulse=readout_pulse)\n",
    "            # trigger signal data acquisition\n",
    "            exp_ramsey.acquire(\n",
    "                signal=\"acquire\",\n",
    "                handle=\"ramsey\",\n",
    "                kernel=readout_pulse,\n",
    "            )\n",
    "        with exp_ramsey.section(uid=\"relax\", length=1e-6):\n",
    "            # relax time after readout - for qubit relaxation to groundstate and signal processing\n",
    "            exp_ramsey.reserve(signal=\"measure\")"
   ]
  },
  {
   "attachments": {},
   "cell_type": "markdown",
   "metadata": {},
   "source": [
    "### Signal Map"
   ]
  },
  {
   "attachments": {},
   "cell_type": "markdown",
   "metadata": {},
   "source": [
    "As we have introduced new signal lines, we have to define a new map to our logical signals."
   ]
  },
  {
   "cell_type": "code",
   "execution_count": null,
   "metadata": {},
   "outputs": [],
   "source": [
    "# define signal map\n",
    "map_Ramsey = {\n",
    "    \"drive\": device_setup.logical_signal_groups[\"q0\"].logical_signals[\"drive\"],\n",
    "    \"measure\": device_setup.logical_signal_groups[\"q0\"].logical_signals[\"measure\"],\n",
    "    \"acquire\": device_setup.logical_signal_groups[\"q0\"].logical_signals[\"acquire\"],\n",
    "}"
   ]
  },
  {
   "attachments": {},
   "cell_type": "markdown",
   "metadata": {},
   "source": [
    "### Calibration\n",
    "\n",
    "We also add more items to our calibration:"
   ]
  },
  {
   "cell_type": "code",
   "execution_count": null,
   "metadata": {},
   "outputs": [],
   "source": [
    "# Basic calibration of q0 IF and LO readout frequencies\n",
    "readout_qo_if = Oscillator(\n",
    "    uid=\"readout\" + \"_q0\" + \"_if\",\n",
    "    frequency=50e6,\n",
    "    modulation_type=ModulationType.SOFTWARE,\n",
    ")\n",
    "readout_q0_lo = Oscillator(\n",
    "    uid=\"readout\" + \"_q0\" + \"_lo\",\n",
    "    frequency=6.0e9,\n",
    ")\n",
    "\n",
    "\n",
    "def calibrate_devices_readout(device_setup):\n",
    "    # measure drive line q0\n",
    "    device_setup.logical_signal_groups[\"q0\"].logical_signals[\n",
    "        \"measure\"\n",
    "    ].calibration = SignalCalibration(\n",
    "        oscillator=readout_qo_if, port_delay=0, local_oscillator=readout_q0_lo, range=10\n",
    "    )\n",
    "    # acquisition line q0\n",
    "    device_setup.logical_signal_groups[\"q0\"].logical_signals[\n",
    "        \"acquire\"\n",
    "    ].calibration = SignalCalibration(\n",
    "        oscillator=readout_qo_if,\n",
    "        # for an experiment on hardware add an offset between the readout pulse\n",
    "        # and the start of the data acquisition\n",
    "        # to compensate for round-trip time of readout pulse\n",
    "        port_delay=0,\n",
    "        local_oscillator=readout_q0_lo,\n",
    "        range=10,\n",
    "    )"
   ]
  },
  {
   "cell_type": "code",
   "execution_count": null,
   "metadata": {},
   "outputs": [],
   "source": [
    "calibrate_devices_readout(device_setup)"
   ]
  },
  {
   "cell_type": "code",
   "execution_count": null,
   "metadata": {},
   "outputs": [],
   "source": [
    "device_setup.list_calibratables()"
   ]
  },
  {
   "cell_type": "code",
   "execution_count": null,
   "metadata": {},
   "outputs": [],
   "source": [
    "# set experiment calibration and signal map\n",
    "exp_ramsey.set_signal_map(map_Ramsey)\n",
    "\n",
    "# compile\n",
    "compiled_exp = session.compile(exp_ramsey)\n",
    "\n",
    "# run the experiment\n",
    "my_results = session.run()\n",
    "\n",
    "# show pulse sheet\n",
    "show_pulse_sheet(\"13_Ramsey\", session.compiled_experiment)"
   ]
  }
 ],
 "metadata": {
  "kernelspec": {
   "display_name": "develop",
   "language": "python",
   "name": "python3"
  },
  "language_info": {
   "codemirror_mode": {
    "name": "ipython",
    "version": 3
   },
   "file_extension": ".py",
   "mimetype": "text/x-python",
   "name": "python",
   "nbconvert_exporter": "python",
   "pygments_lexer": "ipython3",
   "version": "3.12.4"
  }
 },
 "nbformat": 4,
 "nbformat_minor": 2
}
