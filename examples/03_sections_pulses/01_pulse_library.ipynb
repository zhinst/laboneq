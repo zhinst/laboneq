{
 "cells": [
  {
   "attachments": {},
   "cell_type": "markdown",
   "metadata": {},
   "source": [
    "# Pulse Library and Sampled Pulses\n",
    "\n",
    "This notebook demonstrates the features of the pulse library and will cover:\n",
    "\n",
    "- How to use pre-defined pulses out of the box, and how to sweep their parameters [here](#sweep-parameters-of-an-out-of-the-box-pulse)\n",
    "- How to define your own, parameterized pulses and sweep their parameters [here](#define-a-new-pulse-type-and-sweep-it)\n",
    "- How to define sampled pulses, e.g., from a `numpy` array [here](#create-a-sampled-pulse-from-an-array-of-sampling-points)\n",
    "\n",
    "A demonstration of this notebook is also available on our Youtube channel [here](https://www.youtube.com/watch?v=20sqtgs281Y&list=PLjxUCNDRYw8k1_HTzXDohUHKhYKYFQrbn&index=3&ab_channel=ZurichInstruments)"
   ]
  },
  {
   "attachments": {},
   "cell_type": "markdown",
   "metadata": {},
   "source": [
    "## Setting up: Imports, Device Setup, and Calibration"
   ]
  },
  {
   "attachments": {},
   "cell_type": "markdown",
   "metadata": {},
   "source": [
    "### Imports"
   ]
  },
  {
   "cell_type": "code",
   "execution_count": null,
   "metadata": {},
   "outputs": [],
   "source": [
    "# LabOne Q:\n",
    "import matplotlib.pyplot as plt\n",
    "import numpy as np\n",
    "\n",
    "# Helpers:\n",
    "from laboneq.contrib.example_helpers.generate_device_setup import (\n",
    "    generate_device_setup_qubits,\n",
    ")\n",
    "from laboneq.contrib.example_helpers.plotting.plot_helpers import plot_simulation\n",
    "from laboneq.simple import *"
   ]
  },
  {
   "attachments": {},
   "cell_type": "markdown",
   "metadata": {},
   "source": [
    "### Define the Device Setup\n",
    "\n",
    "We'll load a descriptor file to define our device setup and logical signal lines. We could, instead, explicitly include the descriptor here as a string and then use `DeviceSetup.from_descriptor()` below. Choose the best method that works for you!"
   ]
  },
  {
   "cell_type": "code",
   "execution_count": null,
   "metadata": {},
   "outputs": [],
   "source": [
    "# specify the number of qubits you want to use\n",
    "number_of_qubits = 2\n",
    "\n",
    "# generate the device setup and the qubit objects using a helper function\n",
    "device_setup, qubits = generate_device_setup_qubits(\n",
    "    number_qubits=number_of_qubits,\n",
    "    shfqc=[\n",
    "        {\n",
    "            \"serial\": \"DEV12001\",\n",
    "            \"number_of_channels\": 6,\n",
    "            \"readout_multiplex\": 6,\n",
    "            \"options\": None,\n",
    "        }\n",
    "    ],\n",
    "    include_flux_lines=False,\n",
    "    server_host=\"localhost\",\n",
    "    setup_name=f\"my_{number_of_qubits}_fixed_qubit_setup\",\n",
    ")"
   ]
  },
  {
   "attachments": {},
   "cell_type": "markdown",
   "metadata": {},
   "source": [
    "### Create the Session and Connect to it"
   ]
  },
  {
   "cell_type": "code",
   "execution_count": null,
   "metadata": {},
   "outputs": [],
   "source": [
    "use_emulation = True  # set to False to run on real hardware\n",
    "\n",
    "session = Session(device_setup=device_setup)\n",
    "session.connect(do_emulation=use_emulation)"
   ]
  },
  {
   "attachments": {},
   "cell_type": "markdown",
   "metadata": {},
   "source": [
    "  ## Sweep Parameters Of an Out-of-the-Box Pulse\n",
    "\n",
    "  In a first step, we will create a drag pulse and sweep its amplitude. In a second step, we sweep the drag parameter beta instead."
   ]
  },
  {
   "attachments": {},
   "cell_type": "markdown",
   "metadata": {},
   "source": [
    "### Define Pulses"
   ]
  },
  {
   "cell_type": "code",
   "execution_count": null,
   "metadata": {},
   "outputs": [],
   "source": [
    "# qubit drive pulse\n",
    "x90 = pulse_library.drag(uid=\"drag_pulse\", length=400e-9, amplitude=1.0, beta=0.3)\n",
    "\n",
    "# measure pulse\n",
    "readout_pulse = pulse_library.const(uid=\"readout_pulse\", length=200e-9, amplitude=1.0)\n",
    "# readout integration weights\n",
    "readout_weighting_function = pulse_library.const(\n",
    "    uid=\"readout_weighting_function\", length=200e-9, amplitude=1.0\n",
    ")"
   ]
  },
  {
   "attachments": {},
   "cell_type": "markdown",
   "metadata": {},
   "source": [
    "### Define Experiment with an Amplitude Sweep\n",
    "#### Define Amplitude Sweep"
   ]
  },
  {
   "cell_type": "code",
   "execution_count": null,
   "metadata": {},
   "outputs": [],
   "source": [
    "start = 0.1\n",
    "stop = 1\n",
    "count = 5\n",
    "amplitude_sweep = LinearSweepParameter(\n",
    "    uid=\"amplitude\", start=start, stop=stop, count=count\n",
    ")"
   ]
  },
  {
   "attachments": {},
   "cell_type": "markdown",
   "metadata": {},
   "source": [
    "#### Define Experiment\n",
    "\n",
    "Note that the `amplitude` parameter is an argument of the `Experiment.play` command."
   ]
  },
  {
   "cell_type": "code",
   "execution_count": null,
   "metadata": {},
   "outputs": [],
   "source": [
    "# Create Experiment\n",
    "exp = Experiment(\n",
    "    uid=\"Amplitude Rabi\",\n",
    "    signals=[\n",
    "        ExperimentSignal(\"drive\"),\n",
    "        ExperimentSignal(\"measure\"),\n",
    "        ExperimentSignal(\"acquire\"),\n",
    "    ],\n",
    ")\n",
    "## experimental pulse sequence\n",
    "# outer loop - real-time, cyclic averaging in standard integration mode\n",
    "with exp.acquire_loop_rt(\n",
    "    uid=\"shots\",\n",
    "    count=2**5,\n",
    "    averaging_mode=AveragingMode.CYCLIC,\n",
    "    acquisition_type=AcquisitionType.INTEGRATION,\n",
    "):\n",
    "    # inner loop - real-time sweep of qubit drive pulse amplitude\n",
    "    with exp.sweep(\n",
    "        uid=\"sweep\", parameter=amplitude_sweep, alignment=SectionAlignment.RIGHT\n",
    "    ):\n",
    "        # qubit excitation - pulse amplitude will be swept\n",
    "        with exp.section(uid=\"qubit_excitation\", alignment=SectionAlignment.RIGHT):\n",
    "            exp.play(signal=\"drive\", pulse=x90, amplitude=amplitude_sweep)\n",
    "        # qubit readout pulse and data acquisition\n",
    "        with exp.section(uid=\"qubit_readout\"):\n",
    "            exp.reserve(signal=\"drive\")\n",
    "            # play readout pulse\n",
    "            exp.play(signal=\"measure\", pulse=readout_pulse)\n",
    "            # signal data acquisition\n",
    "            exp.acquire(\n",
    "                signal=\"acquire\",\n",
    "                handle=\"ac_0\",\n",
    "                kernel=readout_weighting_function,\n",
    "            )\n",
    "        # relax time after readout - for signal processing and qubit relaxation to ground state\n",
    "        with exp.section(uid=\"relax\", length=1e-6):\n",
    "            exp.reserve(signal=\"measure\")"
   ]
  },
  {
   "attachments": {},
   "cell_type": "markdown",
   "metadata": {},
   "source": [
    "#### Define Signal Map and Run Experiment"
   ]
  },
  {
   "cell_type": "code",
   "execution_count": null,
   "metadata": {},
   "outputs": [],
   "source": [
    "# define signal maps for qubit 0\n",
    "q0 = device_setup.qubits[\"q0\"]\n",
    "map_q0 = {\n",
    "    \"drive\": q0.signals[\"drive\"],\n",
    "    \"measure\": q0.signals[\"measure\"],\n",
    "    \"acquire\": q0.signals[\"acquire\"],\n",
    "}"
   ]
  },
  {
   "cell_type": "code",
   "execution_count": null,
   "metadata": {},
   "outputs": [],
   "source": [
    "q0_calibration = q0.calibration()\n",
    "calibration = Calibration(\n",
    "    {\n",
    "        \"drive\": q0_calibration[\"q0/drive\"],\n",
    "        \"measure\": q0_calibration[\"q0/measure\"],\n",
    "        \"acquire\": q0_calibration[\"q0/acquire\"],\n",
    "    }\n",
    ")"
   ]
  },
  {
   "cell_type": "code",
   "execution_count": null,
   "metadata": {},
   "outputs": [],
   "source": [
    "exp.set_signal_map(map_q0)\n",
    "exp.set_calibration(calibration)\n",
    "\n",
    "# run experiment on qubit 0\n",
    "my_results = session.run(exp)"
   ]
  },
  {
   "cell_type": "code",
   "execution_count": null,
   "metadata": {},
   "outputs": [],
   "source": [
    "# Plot simulated output signals\n",
    "plot_simulation(session.compiled_experiment, start_time=0, length=10e-6)"
   ]
  },
  {
   "attachments": {},
   "cell_type": "markdown",
   "metadata": {},
   "source": [
    "### Define Experiment with a Drag Parameter Sweep\n",
    "#### Define Drag Parameter Sweep"
   ]
  },
  {
   "cell_type": "code",
   "execution_count": null,
   "metadata": {},
   "outputs": [],
   "source": [
    "start_beta = 0.0\n",
    "stop_beta = 1\n",
    "count = 5\n",
    "\n",
    "beta_sweep = LinearSweepParameter(uid=\"beta\", start=start, stop=stop, count=count)"
   ]
  },
  {
   "attachments": {},
   "cell_type": "markdown",
   "metadata": {},
   "source": [
    "#### Define Experiment\n",
    "\n",
    "Note that the parameter `beta` is unique to the drag pulse (Only the parameters `length` and `amplitude` are shared by all pulses).\n",
    "\n",
    "Therefore, the parameters handled by the `Experiment.play` command slightly differ from amplitude sweep above."
   ]
  },
  {
   "cell_type": "code",
   "execution_count": null,
   "metadata": {},
   "outputs": [],
   "source": [
    "# Create Experiment\n",
    "exp = Experiment(\n",
    "    uid=\"Amplitude Rabi\",\n",
    "    signals=[\n",
    "        ExperimentSignal(\"drive\"),\n",
    "        ExperimentSignal(\"measure\"),\n",
    "        ExperimentSignal(\"acquire\"),\n",
    "    ],\n",
    ")\n",
    "## experimental pulse sequence\n",
    "# outer loop - real-time, cyclic averaging in standard integration mode\n",
    "with exp.acquire_loop_rt(\n",
    "    uid=\"shots\",\n",
    "    count=2**5,\n",
    "    averaging_mode=AveragingMode.CYCLIC,\n",
    "    acquisition_type=AcquisitionType.INTEGRATION,\n",
    "):\n",
    "    # inner loop - real-time sweep of qubit drive pulse drag parameter\n",
    "    with exp.sweep(uid=\"sweep\", parameter=beta_sweep, alignment=SectionAlignment.RIGHT):\n",
    "        # qubit excitation - pulse amplitude will be swept\n",
    "        with exp.section(uid=\"qubit_excitation\", alignment=SectionAlignment.RIGHT):\n",
    "            exp.play(signal=\"drive\", pulse=x90, pulse_parameters={\"beta\": beta_sweep})\n",
    "        # qubit readout pulse and data acquisition\n",
    "        with exp.section(uid=\"qubit_readout\"):\n",
    "            exp.reserve(signal=\"drive\")\n",
    "            # play readout pulse\n",
    "            exp.play(signal=\"measure\", pulse=readout_pulse)\n",
    "            # signal data acquisition\n",
    "            exp.acquire(\n",
    "                signal=\"acquire\",\n",
    "                handle=\"ac_0\",\n",
    "                kernel=readout_weighting_function,\n",
    "            )\n",
    "        # relax time after readout - for signal processing and qubit relaxation to ground state\n",
    "        with exp.section(uid=\"relax\", length=1e-6):\n",
    "            exp.reserve(signal=\"measure\")"
   ]
  },
  {
   "attachments": {},
   "cell_type": "markdown",
   "metadata": {},
   "source": [
    "#### Define Signal Map and Run the Experiment"
   ]
  },
  {
   "cell_type": "code",
   "execution_count": null,
   "metadata": {},
   "outputs": [],
   "source": [
    "# define signal maps for qubit 0\n",
    "map_q0 = {\n",
    "    \"drive\": device_setup.logical_signal_groups[\"q0\"].logical_signals[\"drive\"],\n",
    "    \"measure\": device_setup.logical_signal_groups[\"q0\"].logical_signals[\"measure\"],\n",
    "    \"acquire\": device_setup.logical_signal_groups[\"q0\"].logical_signals[\"acquire\"],\n",
    "}"
   ]
  },
  {
   "cell_type": "code",
   "execution_count": null,
   "metadata": {},
   "outputs": [],
   "source": [
    "q0_calibration = q0.calibration()\n",
    "calibration = Calibration(\n",
    "    {\n",
    "        \"drive\": q0_calibration[\"q0/drive\"],\n",
    "        \"measure\": q0_calibration[\"q0/measure\"],\n",
    "        \"acquire\": q0_calibration[\"q0/acquire\"],\n",
    "    }\n",
    ")"
   ]
  },
  {
   "cell_type": "code",
   "execution_count": null,
   "metadata": {},
   "outputs": [],
   "source": [
    "exp.set_signal_map(map_q0)\n",
    "exp.set_calibration(calibration)\n",
    "\n",
    "# run experiment on qubit 0\n",
    "my_results = session.run(exp)"
   ]
  },
  {
   "cell_type": "code",
   "execution_count": null,
   "metadata": {},
   "outputs": [],
   "source": [
    "# Plot simulated output signals\n",
    "plot_simulation(session.compiled_experiment, start_time=0, length=10e-6)"
   ]
  },
  {
   "attachments": {},
   "cell_type": "markdown",
   "metadata": {},
   "source": [
    "## Define a new Pulse Type and Sweep it\n",
    "\n",
    "You can define arbitrary pulse types. All you need to do is to decorate your functional with the `pulse_library.register_pulse_functional` decorator delivered with LabOne Q. Please refer to the [API Documentation](https://docs.zhinst.com/labone_q_api/apidocs/laboneq.dsl.experiment.html#module-laboneq.dsl.experiment.pulse_library) for more technical details.\n",
    "\n",
    "Here, we create an example with a flat-top Gaussian pulse.\n",
    "\n",
    "When you define your own pulses, just a few constraints exist:\n",
    "- The first argument of your function is `x`, and ranges from -1 to 1.\n",
    "- The last keyword argument `**_` receives the pulse length `length` in absolute time, sampling rate `sampling_rate`, and relative amplitude `amplitude` used when the pulse is actually played. The definition of `flattop_gaussian_v2` further down shows how to use them.\n",
    "- In between, you can define an arbitrary number of your own pulses."
   ]
  },
  {
   "cell_type": "code",
   "execution_count": null,
   "metadata": {},
   "outputs": [],
   "source": [
    "@pulse_library.register_pulse_functional\n",
    "def flattop_gaussian(x, relative_length_flat=0.8, **_):\n",
    "    sigma = (1 - relative_length_flat) / 3\n",
    "    res = np.ones(len(x))\n",
    "\n",
    "    res[x <= -relative_length_flat] = np.exp(\n",
    "        -((x[x <= -relative_length_flat] + relative_length_flat) ** 2) / (2 * sigma**2)\n",
    "    )\n",
    "    res[x >= relative_length_flat] = np.exp(\n",
    "        -((x[x >= relative_length_flat] - relative_length_flat) ** 2) / (2 * sigma**2)\n",
    "    )\n",
    "\n",
    "    return res"
   ]
  },
  {
   "cell_type": "markdown",
   "metadata": {},
   "source": [
    "### Visualising pulse functionals\n",
    "\n",
    "The `PulseFunctional` that is created and registered in the pulse library can be directly evaluated and visualised with the following methods:\n",
    "- `evaluate()` - evaluates the function as it was defined, i.e. with the x-axis extending from -1 to 1, `length` and `amplitude` parameters have no effect, additional pulse parameters can be supplied\n",
    "- `generate_sampled_pulse()` - evaluates the pulse functional as it would be used in the LabOne Q DSL - `length` and `amplitude` are required parameters, additional pulse parameters can be supplied. Returns both the sampled pulse functional and the corresponding sampled time"
   ]
  },
  {
   "cell_type": "code",
   "execution_count": null,
   "metadata": {},
   "outputs": [],
   "source": [
    "x0 = np.linspace(-1, 1, 501)\n",
    "plt.plot(\n",
    "    x0,\n",
    "    flattop_gaussian(relative_length_flat=0.8).evaluate(x=x0),\n",
    ")\n",
    "plt.plot(\n",
    "    x0,\n",
    "    flattop_gaussian(relative_length_flat=0.6).evaluate(x=x0),\n",
    ")\n",
    "plt.plot(\n",
    "    x0,\n",
    "    flattop_gaussian(relative_length_flat=0.4).evaluate(x=x0),\n",
    ")\n",
    "plt.show()"
   ]
  },
  {
   "cell_type": "code",
   "execution_count": null,
   "metadata": {},
   "outputs": [],
   "source": [
    "time, wfm = flattop_gaussian(\n",
    "    length=100e-9, amplitude=0.6, relative_length_flat=0.8\n",
    ").generate_sampled_pulse()\n",
    "plt.plot(time * 1e9, wfm.real)\n",
    "\n",
    "time, wfm = flattop_gaussian(\n",
    "    length=100e-9, amplitude=0.4, relative_length_flat=0.6\n",
    ").generate_sampled_pulse()\n",
    "plt.plot(time * 1e9, wfm.real)\n",
    "\n",
    "time, wfm = flattop_gaussian(\n",
    "    length=100e-9, amplitude=0.2, relative_length_flat=0.4\n",
    ").generate_sampled_pulse()\n",
    "plt.plot(time * 1e9, wfm.real)\n",
    "\n",
    "plt.xlabel(\"Time, $t$ (ns)\")\n",
    "plt.ylabel(\"Amplitude, $A$ (a.u.)\")\n",
    "plt.show()"
   ]
  },
  {
   "attachments": {},
   "cell_type": "markdown",
   "metadata": {},
   "source": [
    "Instead of defining everything relative to the span from -1 to 1, the length argument can be used to obtain an absolute reference in the pulse definition. \n",
    "\n",
    "For a flat-top Gaussian, this could be used to define constant, absolute rise and fall times of the pulse:"
   ]
  },
  {
   "cell_type": "code",
   "execution_count": null,
   "metadata": {},
   "outputs": [],
   "source": [
    "@pulse_library.register_pulse_functional\n",
    "def flattop_gaussian_v2(x, slope_length=15e-9, length=..., **_):\n",
    "    # assume that the rising and falling Gaussian parts should have 3*sigma width\n",
    "    sigma = slope_length / 3\n",
    "    sigma_rel = sigma / length\n",
    "    relative_length_flat = 1 - 6 * sigma_rel  # subtract 3*sigma from the left,\n",
    "\n",
    "    res = np.ones(len(x))\n",
    "\n",
    "    res[x <= -relative_length_flat] = np.exp(\n",
    "        -((x[x <= -relative_length_flat] + relative_length_flat) ** 2)\n",
    "        / (2 * sigma_rel**2)\n",
    "    )\n",
    "    res[x >= relative_length_flat] = np.exp(\n",
    "        -((x[x >= relative_length_flat] - relative_length_flat) ** 2)\n",
    "        / (2 * sigma_rel**2)\n",
    "    )\n",
    "\n",
    "    return res"
   ]
  },
  {
   "cell_type": "code",
   "execution_count": null,
   "metadata": {},
   "outputs": [],
   "source": [
    "flattop = flattop_gaussian(\n",
    "    uid=\"flattop\", length=400e-9, amplitude=1, relative_length_flat=0.9\n",
    ")"
   ]
  },
  {
   "cell_type": "code",
   "execution_count": null,
   "metadata": {},
   "outputs": [],
   "source": [
    "sweep_rel_flat = LinearSweepParameter(\n",
    "    uid=\"sweep_rel_flat\", start=0.05, stop=0.95, count=5\n",
    ")"
   ]
  },
  {
   "cell_type": "code",
   "execution_count": null,
   "metadata": {},
   "outputs": [],
   "source": [
    "# Create Experiment\n",
    "exp = Experiment(\n",
    "    uid=\"Amplitude Rabi\",\n",
    "    signals=[\n",
    "        ExperimentSignal(\"drive\"),\n",
    "        ExperimentSignal(\"measure\"),\n",
    "        ExperimentSignal(\"acquire\"),\n",
    "    ],\n",
    ")\n",
    "## experimental pulse sequence\n",
    "# outer loop - real-time, cyclic averaging in standard integration mode\n",
    "with exp.acquire_loop_rt(\n",
    "    uid=\"shots\",\n",
    "    count=8,\n",
    "    averaging_mode=AveragingMode.CYCLIC,\n",
    "    acquisition_type=AcquisitionType.INTEGRATION,\n",
    "):\n",
    "    # inner loop - real-time sweep of the relative length of the flat part of the drive pulse\n",
    "    with exp.sweep(\n",
    "        uid=\"sweep\", parameter=sweep_rel_flat, alignment=SectionAlignment.RIGHT\n",
    "    ):\n",
    "        # qubit excitation - pulse amplitude will be swept\n",
    "        with exp.section(uid=\"qubit_excitation\", alignment=SectionAlignment.RIGHT):\n",
    "            exp.play(\n",
    "                signal=\"drive\",\n",
    "                pulse=flattop,\n",
    "                pulse_parameters={\"relative_length_flat\": sweep_rel_flat},\n",
    "            )\n",
    "        # qubit readout pulse and data acquisition\n",
    "        with exp.section(uid=\"qubit_readout\"):\n",
    "            exp.reserve(signal=\"drive\")\n",
    "            # play readout pulse\n",
    "            exp.play(\n",
    "                signal=\"measure\", pulse=readout_pulse\n",
    "            )  # , pulse_parameters={\"relative_length_flat\": sweep_rel_flat})\n",
    "            # signal data acquisition\n",
    "            exp.acquire(\n",
    "                signal=\"acquire\",\n",
    "                handle=\"ac_0\",\n",
    "                kernel=readout_weighting_function,\n",
    "            )\n",
    "        # relax time after readout - for signal processing and qubit relaxation to ground state\n",
    "        with exp.section(uid=\"relax\", length=1e-6):\n",
    "            exp.reserve(signal=\"measure\")"
   ]
  },
  {
   "cell_type": "code",
   "execution_count": null,
   "metadata": {},
   "outputs": [],
   "source": [
    "# define signal maps for qubit 0\n",
    "map_q0 = {\n",
    "    \"drive\": device_setup.logical_signal_groups[\"q0\"].logical_signals[\"drive\"],\n",
    "    \"measure\": device_setup.logical_signal_groups[\"q0\"].logical_signals[\"measure\"],\n",
    "    \"acquire\": device_setup.logical_signal_groups[\"q0\"].logical_signals[\"acquire\"],\n",
    "}"
   ]
  },
  {
   "cell_type": "code",
   "execution_count": null,
   "metadata": {},
   "outputs": [],
   "source": [
    "q0_calibration = q0.calibration()\n",
    "calibration = Calibration(\n",
    "    {\n",
    "        \"drive\": q0_calibration[\"q0/drive\"],\n",
    "        \"measure\": q0_calibration[\"q0/measure\"],\n",
    "        \"acquire\": q0_calibration[\"q0/acquire\"],\n",
    "    }\n",
    ")"
   ]
  },
  {
   "cell_type": "code",
   "execution_count": null,
   "metadata": {},
   "outputs": [],
   "source": [
    "exp.set_signal_map(map_q0)\n",
    "exp.set_calibration(calibration)\n",
    "\n",
    "# run experiment on qubit 0\n",
    "my_results = session.run(exp)"
   ]
  },
  {
   "cell_type": "code",
   "execution_count": null,
   "metadata": {},
   "outputs": [],
   "source": [
    "# Plot simulated output signals\n",
    "plot_simulation(session.compiled_experiment, start_time=0, length=10e-6)"
   ]
  },
  {
   "attachments": {},
   "cell_type": "markdown",
   "metadata": {},
   "source": [
    "### Same Experiment with Absolute Timings of `sigma`"
   ]
  },
  {
   "cell_type": "code",
   "execution_count": null,
   "metadata": {},
   "outputs": [],
   "source": [
    "flattop_v2 = flattop_gaussian_v2(\n",
    "    uid=\"flattop_v2\", length=400e-9, amplitude=1, slope_length=15e-9\n",
    ")\n",
    "slope_sweep = LinearSweepParameter(uid=\"slope_sweep\", start=5e-9, stop=180e-9, count=5)"
   ]
  },
  {
   "cell_type": "code",
   "execution_count": null,
   "metadata": {},
   "outputs": [],
   "source": [
    "# Create Experiment\n",
    "exp = Experiment(\n",
    "    uid=\"Amplitude Rabi\",\n",
    "    signals=[\n",
    "        ExperimentSignal(\"drive\"),\n",
    "        ExperimentSignal(\"measure\"),\n",
    "        ExperimentSignal(\"acquire\"),\n",
    "    ],\n",
    ")\n",
    "## experimental pulse sequence\n",
    "# outer loop - real-time, cyclic averaging in standard integration mode\n",
    "with exp.acquire_loop_rt(\n",
    "    uid=\"shots\",\n",
    "    count=8,\n",
    "    averaging_mode=AveragingMode.CYCLIC,\n",
    "    acquisition_type=AcquisitionType.INTEGRATION,\n",
    "):\n",
    "    # inner loop - real-time sweep of the slope sweep\n",
    "    with exp.sweep(\n",
    "        uid=\"sweep\", parameter=slope_sweep, alignment=SectionAlignment.RIGHT\n",
    "    ):\n",
    "        # qubit excitation - pulse amplitude will be swept\n",
    "        with exp.section(uid=\"qubit_excitation\", alignment=SectionAlignment.RIGHT):\n",
    "            exp.play(\n",
    "                signal=\"drive\",\n",
    "                pulse=flattop_v2,\n",
    "                pulse_parameters={\"slope_length\": slope_sweep},\n",
    "            )\n",
    "        # qubit readout pulse and data acquisition\n",
    "        with exp.section(uid=\"qubit_readout\"):\n",
    "            exp.reserve(signal=\"drive\")\n",
    "            # play readout pulse\n",
    "            exp.play(signal=\"measure\", pulse=readout_pulse)\n",
    "            # signal data acquisition\n",
    "            exp.acquire(\n",
    "                signal=\"acquire\",\n",
    "                handle=\"ac_0\",\n",
    "                kernel=readout_weighting_function,\n",
    "            )\n",
    "        # relax time after readout - for signal processing and qubit relaxation to ground state\n",
    "        with exp.section(uid=\"relax\", length=1e-6):\n",
    "            exp.reserve(signal=\"measure\")"
   ]
  },
  {
   "cell_type": "code",
   "execution_count": null,
   "metadata": {},
   "outputs": [],
   "source": [
    "# define signal maps for qubit 0\n",
    "map_q0 = {\n",
    "    \"drive\": device_setup.logical_signal_groups[\"q0\"].logical_signals[\"drive\"],\n",
    "    \"measure\": device_setup.logical_signal_groups[\"q0\"].logical_signals[\"measure\"],\n",
    "    \"acquire\": device_setup.logical_signal_groups[\"q0\"].logical_signals[\"acquire\"],\n",
    "}"
   ]
  },
  {
   "cell_type": "code",
   "execution_count": null,
   "metadata": {},
   "outputs": [],
   "source": [
    "q0_calibration = q0.calibration()\n",
    "calibration = Calibration(\n",
    "    {\n",
    "        \"drive\": q0_calibration[\"q0/drive\"],\n",
    "        \"measure\": q0_calibration[\"q0/measure\"],\n",
    "        \"acquire\": q0_calibration[\"q0/acquire\"],\n",
    "    }\n",
    ")"
   ]
  },
  {
   "cell_type": "code",
   "execution_count": null,
   "metadata": {},
   "outputs": [],
   "source": [
    "exp.set_signal_map(map_q0)\n",
    "exp.set_calibration(calibration)\n",
    "\n",
    "# run experiment on qubit 0\n",
    "my_results = session.run(exp)"
   ]
  },
  {
   "cell_type": "code",
   "execution_count": null,
   "metadata": {},
   "outputs": [],
   "source": [
    "# Plot simulated output signals\n",
    "plot_simulation(session.compiled_experiment, start_time=0, length=10e-6)"
   ]
  },
  {
   "attachments": {},
   "cell_type": "markdown",
   "metadata": {},
   "source": [
    "## Create a Sampled Pulse from an Array of Sampling Points\n",
    "In case you want to play a list of sampling points, you can create a pulse containing these points. The samples can either be real or complex numbers.\n",
    "\n",
    "When you use sampled pulses, please keep two points in mind:\n",
    "- If you want to use sampled pulses, you need to know the sampling rate of your system. Please refer to our [documentation](https://docs.zhinst.com/labone_q_user_manual/concepts/set_up_equipment/#sampling-rates) to learn more.\n",
    "- By definition, sampled pulses are not parameterized. However, their length and phase can be swept as demonstrated in the example below.\n",
    "\n",
    "### Define a Sampled Pulse"
   ]
  },
  {
   "cell_type": "code",
   "execution_count": null,
   "metadata": {},
   "outputs": [],
   "source": [
    "n_samples_real = 1024\n",
    "n_samples_complex = 128\n",
    "\n",
    "sample_list_real = np.random.randn(n_samples_real)\n",
    "sample_list_complex = np.random.randn(n_samples_complex) + 1j * np.random.randn(\n",
    "    n_samples_complex\n",
    ")\n",
    "\n",
    "sampled_pulse_real = pulse_library.PulseSampled(\n",
    "    samples=sample_list_real, uid=\"real_pulse\"\n",
    ")\n",
    "\n",
    "sampled_pulse_complex = pulse_library.PulseSampled(\n",
    "    samples=sample_list_complex, uid=\"complex_pulse\"\n",
    ")"
   ]
  },
  {
   "attachments": {},
   "cell_type": "markdown",
   "metadata": {},
   "source": [
    "### Create Experiment and Amplitude Sweep"
   ]
  },
  {
   "cell_type": "code",
   "execution_count": null,
   "metadata": {},
   "outputs": [],
   "source": [
    "# create two parameter sweeps\n",
    "amplitude_sweep = LinearSweepParameter(\n",
    "    uid=\"amplitude_sweep\", start=0.1, stop=1, count=5\n",
    ")\n",
    "phase_sweep = LinearSweepParameter(uid=\"phase_sweep\", start=0, stop=np.pi / 2, count=5)"
   ]
  },
  {
   "cell_type": "code",
   "execution_count": null,
   "metadata": {},
   "outputs": [],
   "source": [
    "# Create Experiment\n",
    "exp = Experiment(\n",
    "    uid=\"Amplitude Rabi\",\n",
    "    signals=[\n",
    "        ExperimentSignal(\"drive\"),\n",
    "        ExperimentSignal(\"measure\"),\n",
    "        ExperimentSignal(\"acquire\"),\n",
    "    ],\n",
    ")\n",
    "## experimental pulse sequence\n",
    "# outer loop - real-time, cyclic averaging in standard integration mode\n",
    "with exp.acquire_loop_rt(\n",
    "    uid=\"shots\",\n",
    "    count=8,\n",
    "    averaging_mode=AveragingMode.CYCLIC,\n",
    "    acquisition_type=AcquisitionType.INTEGRATION,\n",
    "):\n",
    "    # inner loop - real-time sweep of drive amplitudes\n",
    "    with exp.sweep(\n",
    "        uid=\"sweep\",\n",
    "        parameter=[phase_sweep, amplitude_sweep],\n",
    "        alignment=SectionAlignment.RIGHT,\n",
    "    ):\n",
    "        # qubit excitation - pulse amplitude and phase will be swept\n",
    "        with exp.section(uid=\"qubit_excitation\", alignment=SectionAlignment.RIGHT):\n",
    "            exp.play(signal=\"drive\", pulse=sampled_pulse_real, phase=phase_sweep)\n",
    "            exp.delay(signal=\"drive\", time=100e-9)\n",
    "            exp.play(\n",
    "                signal=\"drive\", pulse=sampled_pulse_complex, amplitude=amplitude_sweep\n",
    "            )\n",
    "        # qubit readout pulse and data acquisition\n",
    "        with exp.section(uid=\"qubit_readout\"):\n",
    "            exp.reserve(signal=\"drive\")\n",
    "            # play readout pulse\n",
    "            exp.play(signal=\"measure\", pulse=readout_pulse)\n",
    "            # signal data acquisition\n",
    "            exp.acquire(\n",
    "                signal=\"acquire\",\n",
    "                handle=\"ac_0\",\n",
    "                kernel=readout_weighting_function,\n",
    "            )\n",
    "        # relax time after readout - for signal processing and qubit relaxation to ground state\n",
    "        with exp.section(uid=\"relax\", length=1e-6):\n",
    "            exp.reserve(signal=\"measure\")"
   ]
  },
  {
   "cell_type": "code",
   "execution_count": null,
   "metadata": {},
   "outputs": [],
   "source": [
    "# define signal maps for qubit 0\n",
    "map_q0 = {\n",
    "    \"drive\": device_setup.logical_signal_groups[\"q0\"].logical_signals[\"drive\"],\n",
    "    \"measure\": device_setup.logical_signal_groups[\"q0\"].logical_signals[\"measure\"],\n",
    "    \"acquire\": device_setup.logical_signal_groups[\"q0\"].logical_signals[\"acquire\"],\n",
    "}"
   ]
  },
  {
   "cell_type": "code",
   "execution_count": null,
   "metadata": {},
   "outputs": [],
   "source": [
    "q0_calibration = q0.calibration()\n",
    "calibration = Calibration(\n",
    "    {\n",
    "        \"drive\": q0_calibration[\"q0/drive\"],\n",
    "        \"measure\": q0_calibration[\"q0/measure\"],\n",
    "        \"acquire\": q0_calibration[\"q0/acquire\"],\n",
    "    }\n",
    ")"
   ]
  },
  {
   "cell_type": "code",
   "execution_count": null,
   "metadata": {},
   "outputs": [],
   "source": [
    "exp.set_signal_map(map_q0)\n",
    "exp.set_calibration(calibration)\n",
    "\n",
    "# run experiment on qubit 0\n",
    "my_results = session.run(exp)"
   ]
  },
  {
   "cell_type": "code",
   "execution_count": null,
   "metadata": {},
   "outputs": [],
   "source": [
    "# Plot simulated output signals\n",
    "plot_simulation(session.compiled_experiment, start_time=0, length=10e-6)"
   ]
  },
  {
   "cell_type": "code",
   "execution_count": null,
   "metadata": {},
   "outputs": [],
   "source": []
  }
 ],
 "metadata": {
  "kernelspec": {
   "display_name": "laboneq_310",
   "language": "python",
   "name": "python3"
  },
  "language_info": {
   "codemirror_mode": {
    "name": "ipython",
    "version": 3
   },
   "file_extension": ".py",
   "mimetype": "text/x-python",
   "name": "python",
   "nbconvert_exporter": "python",
   "pygments_lexer": "ipython3",
   "version": "3.10.16"
  },
  "toc": {
   "base_numbering": 1,
   "nav_menu": {},
   "number_sections": true,
   "sideBar": true,
   "skip_h1_title": false,
   "title_cell": "Table of Contents",
   "title_sidebar": "Contents",
   "toc_cell": false,
   "toc_position": {},
   "toc_section_display": true,
   "toc_window_display": true
  },
  "varInspector": {
   "cols": {
    "lenName": 16,
    "lenType": 16,
    "lenVar": 40
   },
   "kernels_config": {
    "python": {
     "delete_cmd_postfix": "",
     "delete_cmd_prefix": "del ",
     "library": "var_list.py",
     "varRefreshCmd": "print(var_dic_list())"
    },
    "r": {
     "delete_cmd_postfix": ") ",
     "delete_cmd_prefix": "rm(",
     "library": "var_list.r",
     "varRefreshCmd": "cat(var_dic_list()) "
    }
   },
   "types_to_exclude": [
    "module",
    "function",
    "builtin_function_or_method",
    "instance",
    "_Feature"
   ],
   "window_display": false
  }
 },
 "nbformat": 4,
 "nbformat_minor": 4
}
