{
 "cells": [
  {
   "cell_type": "markdown",
   "metadata": {},
   "source": [
    "# Pulse Inspector and Bloch Simulator"
   ]
  },
  {
   "cell_type": "code",
   "execution_count": null,
   "metadata": {},
   "outputs": [],
   "source": [
    "from laboneq.contrib.bloch_simulator_pulse_plotter.inspector.update_inspect import (\n",
    "    pulse_update,\n",
    ")\n",
    "\n",
    "from laboneq.dsl.experiment import pulse_library\n",
    "from laboneq.contrib.bloch_simulator_pulse_plotter.inspector.update_inspect import (\n",
    "    pulse_inspector,\n",
    ")"
   ]
  },
  {
   "attachments": {},
   "cell_type": "markdown",
   "metadata": {},
   "source": [
    "\n",
    "## Inversion with gaussian pulse"
   ]
  },
  {
   "cell_type": "code",
   "execution_count": null,
   "metadata": {},
   "outputs": [],
   "source": [
    "## define pulse\n",
    "my_pulse = pulse_library.gaussian(uid=\"my_pulse\", length=100e-9, amplitude=1.0)\n",
    "\n",
    "## update pulse with spectral window and flip angle and subsequently, peak amplitude\n",
    "my_pulse = pulse_update(\n",
    "    my_pulse,\n",
    "    spectral_window=200e6,\n",
    "    flip_angle=180,\n",
    "    pulse_parameters=my_pulse.pulse_parameters,\n",
    ")"
   ]
  },
  {
   "cell_type": "code",
   "execution_count": null,
   "metadata": {},
   "outputs": [],
   "source": [
    "## plot IQ quadratures - is default (corresponds to output of instruments)\n",
    "pulse_inspector(my_pulse)"
   ]
  },
  {
   "cell_type": "code",
   "execution_count": null,
   "metadata": {},
   "outputs": [],
   "source": [
    "## plot IQ quadratures - is default (corresponds to output of instruments)\n",
    "pulse_inspector(my_pulse, iq=True)"
   ]
  },
  {
   "cell_type": "code",
   "execution_count": null,
   "metadata": {},
   "outputs": [],
   "source": [
    "## plot amplitude and phase quadratures\n",
    "pulse_inspector(my_pulse, amp_phi=True)"
   ]
  },
  {
   "cell_type": "code",
   "execution_count": null,
   "metadata": {},
   "outputs": [],
   "source": [
    "# plot frequency response / Bloch simulation of pulse\n",
    "pulse_inspector(my_pulse, response=True)"
   ]
  },
  {
   "attachments": {},
   "cell_type": "markdown",
   "metadata": {},
   "source": [
    "## Inversion with flat-top Gaussian pulse"
   ]
  },
  {
   "cell_type": "code",
   "execution_count": null,
   "metadata": {},
   "outputs": [],
   "source": [
    "## define pulse\n",
    "my_pulse = pulse_library.gaussian_square(\n",
    "    uid=\"my_pulse\", width=80e-9, length=100e-9, amplitude=1.0\n",
    ")\n",
    "\n",
    "## update pulse with spectral window and flip angle and subsequently, peak amplitude\n",
    "my_pulse = pulse_update(\n",
    "    my_pulse,\n",
    "    spectral_window=200e6,\n",
    "    flip_angle=180,\n",
    "    pulse_parameters=my_pulse.pulse_parameters,\n",
    ")"
   ]
  },
  {
   "cell_type": "code",
   "execution_count": null,
   "metadata": {},
   "outputs": [],
   "source": [
    "## nothing has been provided\n",
    "pulse_inspector(my_pulse)"
   ]
  },
  {
   "cell_type": "code",
   "execution_count": null,
   "metadata": {},
   "outputs": [],
   "source": [
    "## plot IQ quadratures - is default (corresponds to output of instruments)\n",
    "pulse_inspector(my_pulse, iq=True)"
   ]
  },
  {
   "cell_type": "code",
   "execution_count": null,
   "metadata": {},
   "outputs": [],
   "source": [
    "## plot amplitude and phase quadratures\n",
    "pulse_inspector(my_pulse, amp_phi=True)"
   ]
  },
  {
   "cell_type": "code",
   "execution_count": null,
   "metadata": {},
   "outputs": [],
   "source": [
    "## plot frequency response / Bloch simulation of pulse\n",
    "pulse_inspector(my_pulse, response=True)"
   ]
  },
  {
   "cell_type": "markdown",
   "metadata": {},
   "source": [
    "## Inversion with higher-order Gaussian pulse (order = 40)"
   ]
  },
  {
   "cell_type": "code",
   "execution_count": null,
   "metadata": {},
   "outputs": [],
   "source": [
    "## define pulse\n",
    "my_pulse = pulse_library.gaussian(\n",
    "    uid=\"my_pulse\", order=40, length=100e-9, amplitude=1.0\n",
    ")\n",
    "\n",
    "## update pulse with spectral window and flip angle and subsequently, peak amplitude\n",
    "my_pulse = pulse_update(\n",
    "    my_pulse,\n",
    "    spectral_window=200e6,\n",
    "    flip_angle=180,\n",
    "    pulse_parameters=my_pulse.pulse_parameters,\n",
    ")"
   ]
  },
  {
   "cell_type": "code",
   "execution_count": null,
   "metadata": {},
   "outputs": [],
   "source": [
    "## nothing has been provided\n",
    "pulse_inspector(my_pulse)"
   ]
  },
  {
   "cell_type": "code",
   "execution_count": null,
   "metadata": {},
   "outputs": [],
   "source": [
    "## plot IQ quadratures - is default (corresponds to output of instruments)\n",
    "pulse_inspector(my_pulse, iq=True)"
   ]
  },
  {
   "cell_type": "code",
   "execution_count": null,
   "metadata": {},
   "outputs": [],
   "source": [
    "## plot amplitude and phase quadratures\n",
    "pulse_inspector(my_pulse, amp_phi=True)"
   ]
  },
  {
   "cell_type": "code",
   "execution_count": null,
   "metadata": {},
   "outputs": [],
   "source": [
    "## plot frequency response / Bloch simulation of pulse\n",
    "pulse_inspector(my_pulse, response=True)"
   ]
  },
  {
   "attachments": {},
   "cell_type": "markdown",
   "metadata": {},
   "source": [
    "## Inversion with DRAG pulse"
   ]
  },
  {
   "cell_type": "code",
   "execution_count": null,
   "metadata": {},
   "outputs": [],
   "source": [
    "## define pulse\n",
    "my_pulse = pulse_library.drag(uid=\"my_pulse\", length=100e-9, amplitude=1.0, beta=0.2)\n",
    "\n",
    "my_pulse = pulse_update(\n",
    "    my_pulse,\n",
    "    spectral_window=200e6,\n",
    "    flip_angle=180,\n",
    "    pulse_parameters=my_pulse.pulse_parameters,\n",
    ")"
   ]
  },
  {
   "cell_type": "code",
   "execution_count": null,
   "metadata": {},
   "outputs": [],
   "source": [
    "## nothing has been provided\n",
    "pulse_inspector(my_pulse)"
   ]
  },
  {
   "cell_type": "code",
   "execution_count": null,
   "metadata": {},
   "outputs": [],
   "source": [
    "## plot IQ quadratures - is default (corresponds to output of instruments)\n",
    "pulse_inspector(my_pulse, iq=True)"
   ]
  },
  {
   "cell_type": "code",
   "execution_count": null,
   "metadata": {},
   "outputs": [],
   "source": [
    "## plot amplitude and phase quadratures\n",
    "pulse_inspector(my_pulse, amp_phi=True)"
   ]
  },
  {
   "cell_type": "code",
   "execution_count": null,
   "metadata": {},
   "outputs": [],
   "source": [
    "## plot I and Q and amplitude and phase quadratures\n",
    "pulse_inspector(my_pulse, amp_phi=True, iq=True)"
   ]
  },
  {
   "cell_type": "code",
   "execution_count": null,
   "metadata": {},
   "outputs": [],
   "source": [
    "## plot frequency response / Bloch simulation of pulse\n",
    "pulse_inspector(my_pulse, response=True)"
   ]
  },
  {
   "cell_type": "markdown",
   "metadata": {},
   "source": [
    "## Effect of order on flatness of Gaussian pulse"
   ]
  },
  {
   "cell_type": "code",
   "execution_count": null,
   "metadata": {},
   "outputs": [],
   "source": [
    "import numpy as np\n",
    "import matplotlib.pyplot as plt\n",
    "\n",
    "order_values = [2, 4, 8, 16, 64]\n",
    "sigma = 1 / 3\n",
    "x = np.linspace(-1, 1, 1000)\n",
    "\n",
    "plt.figure(figsize=(10, 6))\n",
    "\n",
    "for order in order_values:\n",
    "    y = np.exp(-((x**order) / (2 * sigma**2)))\n",
    "    plt.plot(x, y, label=f\"Order = {order}\")\n",
    "\n",
    "plt.title(\"Gaussian Pulses with Different Orders\")\n",
    "plt.xlabel(\"x\")\n",
    "plt.ylabel(\"y\")\n",
    "plt.legend()\n",
    "plt.grid(True)\n",
    "plt.show()"
   ]
  },
  {
   "cell_type": "markdown",
   "metadata": {},
   "source": [
    "## Flatness (%) vs Order"
   ]
  },
  {
   "cell_type": "code",
   "execution_count": null,
   "metadata": {},
   "outputs": [],
   "source": [
    "import pandas as pd\n",
    "import matplotlib.pyplot as plt\n",
    "from IPython.display import display\n",
    "\n",
    "order_values = [4, 6, 8, 10, 12, 14, 16, 18, 20, 30, 40, 50, 60, 70, 80, 90, 100]\n",
    "\n",
    "sigma = 1\n",
    "x = np.linspace(-1, 1, 1000)\n",
    "\n",
    "per = np.zeros(len(order_values))\n",
    "\n",
    "for i in range(len(order_values)):\n",
    "    y = np.exp(-((x ** order_values[i]) / (2 * sigma**2)))\n",
    "    indices = np.where(y >= 0.999)[0]\n",
    "    x_values = x[indices]\n",
    "    per[i] = 100 * (np.max(x_values) - np.min(x_values)) / 2\n",
    "\n",
    "# Create a DataFrame to display the results in table format\n",
    "df = pd.DataFrame({\"Order\": order_values, \"Flatness (%)\": per})\n",
    "\n",
    "df.set_index(\"Order\", inplace=True)\n",
    "\n",
    "display(df)\n",
    "\n",
    "# Plot\n",
    "plt.scatter(order_values, per)\n",
    "plt.title(\"Order vs Flatness\")\n",
    "plt.xlabel(\"Order\")\n",
    "plt.ylabel(\"Flatness (%)\")\n",
    "plt.grid(True)\n",
    "plt.show()"
   ]
  }
 ],
 "metadata": {
  "kernelspec": {
   "display_name": "Python 3 (ipykernel)",
   "language": "python",
   "name": "python3"
  },
  "language_info": {
   "codemirror_mode": {
    "name": "ipython",
    "version": 3
   },
   "file_extension": ".py",
   "mimetype": "text/x-python",
   "name": "python",
   "nbconvert_exporter": "python",
   "pygments_lexer": "ipython3",
   "version": "3.11.0"
  }
 },
 "nbformat": 4,
 "nbformat_minor": 1
}
