{
 "cells": [
  {
   "cell_type": "markdown",
   "metadata": {},
   "source": [
    "# Using Output Router and Adder (RTR) in LabOne Q\n",
    "\n",
    "The Output Router and Adder (RTR) is an upgrade option for SHFSG and SHFQC that enables routing the output of an AWG sequencers to multiple output channels on the instrument front panel. \n",
    "In LabOne Q this is represented as a routing between different `LogicalSignals`.\n",
    "\n",
    "In this notebook, you will learn how to configure the output router settings in LabOne Q through the `SignalCalibration` setting of a `LogicalSignal` or `ExperimentSignal` and how to sweep these settings in an `Experiment`."
   ]
  },
  {
   "cell_type": "markdown",
   "metadata": {},
   "source": [
    "## Imports"
   ]
  },
  {
   "cell_type": "code",
   "execution_count": null,
   "metadata": {},
   "outputs": [],
   "source": [
    "import numpy as np\n",
    "from laboneq.simple import *\n",
    "\n",
    "from laboneq.contrib.example_helpers.plotting.plot_helpers import plot_simulation"
   ]
  },
  {
   "cell_type": "markdown",
   "metadata": {},
   "source": [
    "## Device Setup\n",
    "\n",
    "We start by creating a device setup and adding our instruments and their connections to it. This is a new way, alternative to the descriptor, to build up your device setup and was introduced in LabOne Q 2.19. The `to_signal` argument take a `logical signal group / logical signal line` and connects it to a physical instrument port."
   ]
  },
  {
   "cell_type": "code",
   "execution_count": null,
   "metadata": {},
   "outputs": [],
   "source": [
    "emulate = True\n",
    "\n",
    "# Add your device setup information here\n",
    "device_setup = DeviceSetup(\"ZI_QCCS\")\n",
    "device_setup.add_dataserver(host=\"10.22.33.44\", port=\"8004\")\n",
    "device_setup.add_instruments(\n",
    "    SHFSG(uid=\"device_shfsg\", address=\"dev12001\", device_options=\"SHFSG8/RTR\"),\n",
    "    HDAWG(uid=\"device_hdawg\", address=\"dev8001\"),\n",
    "    PQSC(uid=\"device_pqsc\", address=\"dev10001\"),\n",
    ")\n",
    "device_setup.add_connections(\n",
    "    \"device_shfsg\",\n",
    "    create_connection(to_signal=\"q0/drive_line\", ports=\"SGCHANNELS/0/OUTPUT\"),\n",
    "    create_connection(to_signal=\"q1/drive_line\", ports=\"SGCHANNELS/1/OUTPUT\"),\n",
    "    create_connection(to_signal=\"q2/drive_line\", ports=\"SGCHANNELS/2/OUTPUT\"),\n",
    ")\n",
    "device_setup.add_connections(\n",
    "    \"device_hdawg\",\n",
    "    create_connection(to_signal=\"q0/flux_line\", ports=\"SIGOUTS/0\"),\n",
    ")\n",
    "device_setup.add_connections(\n",
    "    \"device_pqsc\",\n",
    "    create_connection(to_instrument=\"device_hdawg\"),\n",
    "    create_connection(to_instrument=\"device_shfsg\"),\n",
    ")"
   ]
  },
  {
   "cell_type": "markdown",
   "metadata": {},
   "source": [
    "## Configuring the Output router in the Calibration\n",
    "\n",
    "Here, we use a minimal configuration to demonstrate the output router settings. \n",
    "\n",
    "With the `added_outputs` setting, the outputs of the drive line of q1 and q2 are added to the drive line for q0, scaled by their respective `amplitude_scaling` and phases shifted by `phase_shift`."
   ]
  },
  {
   "cell_type": "code",
   "execution_count": null,
   "metadata": {},
   "outputs": [],
   "source": [
    "q0_drive = device_setup.logical_signal_groups[\"q0\"].logical_signals[\"drive_line\"]\n",
    "q1_drive = device_setup.logical_signal_groups[\"q1\"].logical_signals[\"drive_line\"]\n",
    "q2_drive = device_setup.logical_signal_groups[\"q2\"].logical_signals[\"drive_line\"]\n",
    "q0_flux = device_setup.logical_signal_groups[\"q0\"].logical_signals[\"flux_line\"]\n",
    "\n",
    "q0_drive.calibration = SignalCalibration(\n",
    "    local_oscillator=Oscillator(frequency=1e9),\n",
    "    added_outputs=[\n",
    "        OutputRoute(source=q1_drive, amplitude_scaling=0.1, phase_shift=np.pi / 4),\n",
    "        OutputRoute(source=q2_drive, amplitude_scaling=0.2, phase_shift=np.pi / 2),\n",
    "    ],\n",
    ")\n",
    "q1_drive.calibration = SignalCalibration(\n",
    "    local_oscillator=Oscillator(frequency=1e9),\n",
    ")\n",
    "q2_drive.calibration = SignalCalibration(\n",
    "    local_oscillator=Oscillator(frequency=1e9),\n",
    ")"
   ]
  },
  {
   "cell_type": "code",
   "execution_count": null,
   "metadata": {},
   "outputs": [],
   "source": [
    "# start the session\n",
    "my_session = Session(device_setup=device_setup)\n",
    "my_session.connect(do_emulation=emulate)"
   ]
  },
  {
   "cell_type": "code",
   "execution_count": null,
   "metadata": {},
   "outputs": [],
   "source": [
    "#\n",
    "# print(device_setup.get_calibration())"
   ]
  },
  {
   "cell_type": "markdown",
   "metadata": {},
   "source": [
    "## Sweeping output router settings in an Experiment\n",
    "\n",
    "The values of `amplitude_scaling` and `phase_shft` can be swept in a near-time loop, which can be used for calibrating crosstalk or multiplexed pulses. \n",
    "\n",
    "Here, you will learn how to sweep these configuration settings in an experiment. "
   ]
  },
  {
   "cell_type": "code",
   "execution_count": null,
   "metadata": {},
   "outputs": [],
   "source": [
    "const_pulse = pulse_library.const(length=100e-9, amplitude=1)\n",
    "\n",
    "gauss_pulse = pulse_library.gaussian(length=100e-9, amplitude=1, sigma=0.3)"
   ]
  },
  {
   "cell_type": "code",
   "execution_count": null,
   "metadata": {},
   "outputs": [],
   "source": [
    "def output_router_sweep(\n",
    "    amplitude_min=0,\n",
    "    amplitude_max=0.5,\n",
    "    phase_min=0,\n",
    "    phase_max=1.5 * np.pi,\n",
    "    count=10,\n",
    "    average_count=4,\n",
    "):\n",
    "    exp = Experiment(\n",
    "        uid=\"Output Router Sweep\",\n",
    "        signals=[\n",
    "            ExperimentSignal(\"q0_drive\", map_to=q0_drive),\n",
    "            ExperimentSignal(\"q0_flux\", map_to=q0_flux),\n",
    "            ExperimentSignal(\"q1_drive\", map_to=q1_drive),\n",
    "            ExperimentSignal(\"q2_drive\", map_to=q2_drive),\n",
    "        ],\n",
    "    )\n",
    "\n",
    "    amplitude_sweep = LinearSweepParameter(\n",
    "        start=amplitude_min, stop=amplitude_max, count=count\n",
    "    )\n",
    "    phase_sweep = LinearSweepParameter(start=phase_min, stop=phase_max, count=count)\n",
    "\n",
    "    exp_calibration = Calibration()\n",
    "    exp_calibration[\"q0_drive\"] = SignalCalibration(\n",
    "        added_outputs=[\n",
    "            OutputRoute(\n",
    "                source=q1_drive,\n",
    "                amplitude_scaling=amplitude_sweep,\n",
    "                phase_shift=np.pi / 4,\n",
    "            ),\n",
    "            OutputRoute(\n",
    "                source=q2_drive, amplitude_scaling=0.2, phase_shift=phase_sweep\n",
    "            ),\n",
    "        ]\n",
    "    )\n",
    "\n",
    "    with exp.sweep(\n",
    "        parameter=[amplitude_sweep, phase_sweep], execution_type=ExecutionType.NEAR_TIME\n",
    "    ):\n",
    "        with exp.acquire_loop_rt(count=average_count):\n",
    "            with exp.section(uid=\"simultaneous pulses\"):\n",
    "                exp.play(signal=\"q0_drive\", pulse=const_pulse, amplitude=0.2)\n",
    "                exp.play(signal=\"q1_drive\", pulse=const_pulse, amplitude=0.5)\n",
    "                exp.play(signal=\"q2_drive\", pulse=const_pulse, amplitude=0.5)\n",
    "                exp.play(signal=\"q0_flux\", pulse=const_pulse, amplitude=1.0)\n",
    "            with exp.section(uid=\"gauss on q1\", play_after=\"simultaneous pulses\"):\n",
    "                exp.play(signal=\"q1_drive\", pulse=gauss_pulse)\n",
    "            with exp.section(uid=\"gauss on q2\", play_after=\"gauss on q1\"):\n",
    "                exp.play(signal=\"q2_drive\", pulse=gauss_pulse)\n",
    "                exp.play(signal=\"q0_flux\", pulse=const_pulse, amplitude=0.5)\n",
    "\n",
    "    exp.set_calibration(exp_calibration)\n",
    "\n",
    "    return exp"
   ]
  },
  {
   "cell_type": "code",
   "execution_count": null,
   "metadata": {},
   "outputs": [],
   "source": [
    "my_exp = output_router_sweep()\n",
    "\n",
    "my_cexp = my_session.compile(my_exp)"
   ]
  },
  {
   "cell_type": "code",
   "execution_count": null,
   "metadata": {},
   "outputs": [],
   "source": [
    "my_results = my_session.run(my_cexp)"
   ]
  },
  {
   "cell_type": "code",
   "execution_count": null,
   "metadata": {},
   "outputs": [],
   "source": [
    "# show the pulse sheet, including all sweep steps in real- and near-time\n",
    "show_pulse_sheet(name=\"Output Router Sweep\", compiled_experiment=my_cexp)"
   ]
  },
  {
   "cell_type": "code",
   "execution_count": null,
   "metadata": {},
   "outputs": [],
   "source": [
    "# show the simulated outputs - does not contain the near-time loop, only single iteration of real-time experiment\n",
    "plot_simulation(my_cexp, length=1.2e-6)"
   ]
  }
 ],
 "metadata": {
  "kernelspec": {
   "display_name": "Python 3.10.5 64-bit ('qccs310')",
   "language": "python",
   "name": "python3"
  },
  "language_info": {
   "codemirror_mode": {
    "name": "ipython",
    "version": 3
   },
   "file_extension": ".py",
   "mimetype": "text/x-python",
   "name": "python",
   "nbconvert_exporter": "python",
   "pygments_lexer": "ipython3",
   "version": "3.11.6"
  },
  "orig_nbformat": 4,
  "vscode": {
   "interpreter": {
    "hash": "1c85a3b4c5c056083d107184758f94c1c41fe3d42fcac7760a486edd2517f152"
   }
  }
 },
 "nbformat": 4,
 "nbformat_minor": 2
}
