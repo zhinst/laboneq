{
 "cells": [
  {
   "cell_type": "markdown",
   "id": "6465da362e29365b",
   "metadata": {
    "collapsed": false
   },
   "source": [
    "# Sweeping in combination with match-case statements\n",
    "\n",
    "Typical sweep parameters in standard experiments change some aspect of the experimental pulse sequence, without changing its underlying structure. \n",
    "However, in experiments like randomized benchmarking or dynamical decoupling, each instance of a sweep parameter will affect the structure of the pulse sequence itself. \n",
    "This notebook will show how to achieve this behavior in LabOne Q, by constructing a match-case statement conditioned on a sweep parameter.\n",
    "\n",
    "Advanced examples are also available, for example the [randomized benchmarking demonstration](https://docs.zhinst.com/labone_q_user_manual/applications_library/how-to-guides/sources/01_superconducting_qubits/02_pulse_sequences/02_advanced_qubit_experiments/01_randomized_benchmarking.html) notebook uses this behavior."
   ]
  },
  {
   "cell_type": "markdown",
   "id": "5d0dde9c",
   "metadata": {},
   "source": [
    "## Imports and setup"
   ]
  },
  {
   "cell_type": "code",
   "execution_count": null,
   "id": "9b34660b7adcef48",
   "metadata": {
    "ExecuteTime": {
     "end_time": "2024-01-15T16:41:18.267029100Z",
     "start_time": "2024-01-15T16:41:16.310545800Z"
    },
    "collapsed": false
   },
   "outputs": [],
   "source": [
    "from __future__ import annotations\n",
    "\n",
    "from laboneq.contrib.example_helpers.plotting.plot_helpers import plot_simulation\n",
    "from laboneq.dsl.experiment.builtins import *\n",
    "from laboneq.simple import *\n",
    "\n",
    "import numpy as np"
   ]
  },
  {
   "cell_type": "code",
   "execution_count": null,
   "id": "f53b090c",
   "metadata": {},
   "outputs": [],
   "source": [
    "# construct a simple device setup\n",
    "device_setup = DeviceSetup(uid=\"my_QCCS\")\n",
    "\n",
    "device_setup.add_dataserver(host=\"localhost\", port=\"8004\")\n",
    "\n",
    "device_setup.add_instruments(\n",
    "    SHFQC(uid=\"device_shfqc\", address=\"dev12345\", device_options=\"SHFQC/QC6CH\"),\n",
    ")\n",
    "\n",
    "device_setup.add_connections(\n",
    "    \"device_shfqc\",\n",
    "    create_connection(to_signal=\"q0/drive_line\", ports=\"SGCHANNELS/0/OUTPUT\"),\n",
    "    create_connection(to_signal=\"q1/drive_line\", ports=\"SGCHANNELS/1/OUTPUT\"),\n",
    "    create_connection(to_signal=\"q2/drive_line\", ports=\"SGCHANNELS/2/OUTPUT\"),\n",
    "    create_connection(to_signal=\"q0/measure_line\", ports=\"QACHANNELS/0/OUTPUT\"),\n",
    "    create_connection(to_signal=\"q0/acquire_line\", ports=\"QACHANNELS/0/INPUT\"),\n",
    ")\n",
    "\n",
    "# set a minimal calibration to the device setup\n",
    "drive_lo = Oscillator(frequency=1e9)\n",
    "measure_lo = Oscillator(frequency=4e9)\n",
    "cal = Calibration()\n",
    "cal[\"/logical_signal_groups/q0/drive_line\"] = SignalCalibration(\n",
    "    local_oscillator=drive_lo\n",
    ")\n",
    "cal[\"/logical_signal_groups/q1/drive_line\"] = SignalCalibration(\n",
    "    local_oscillator=drive_lo\n",
    ")\n",
    "cal[\"/logical_signal_groups/q2/drive_line\"] = SignalCalibration(\n",
    "    local_oscillator=drive_lo\n",
    ")\n",
    "cal[\"/logical_signal_groups/q0/measure_line\"] = SignalCalibration(\n",
    "    local_oscillator=measure_lo\n",
    ")\n",
    "cal[\"/logical_signal_groups/q0/acquire_line\"] = SignalCalibration(\n",
    "    local_oscillator=measure_lo\n",
    ")\n",
    "device_setup.set_calibration(cal)"
   ]
  },
  {
   "cell_type": "code",
   "execution_count": null,
   "id": "6f16ba49",
   "metadata": {},
   "outputs": [],
   "source": [
    "# connect to the session\n",
    "emulate = True\n",
    "\n",
    "session = Session(device_setup)\n",
    "session.connect(do_emulation=emulate)"
   ]
  },
  {
   "cell_type": "markdown",
   "id": "58524df45b40d762",
   "metadata": {
    "collapsed": false
   },
   "source": [
    "## Choose different sections or pulses based on sweep parameter\n",
    "\n",
    "In short, a sweep parameters in LabOne Q can appear as the target of a match block:\n",
    "\n",
    "```python\n",
    "with sweep(...) as p:\n",
    "    ...\n",
    "    with match(sweep_parameter=p):\n",
    "        with case(0):\n",
    "            ...\n",
    "        with case(1):\n",
    "            ...\n",
    "        ...\n",
    "```\n",
    "The individual match arms are selected based on the current value of the sweep parameter when stepping through the sweep.\n",
    "\n",
    "The following examples sweep the parameter in real-time. This makes for easy visualization using the output simulator. However, the sweep may equally happen in near-time.\n"
   ]
  },
  {
   "cell_type": "markdown",
   "id": "474d7507",
   "metadata": {},
   "source": [
    "### Simple example"
   ]
  },
  {
   "cell_type": "code",
   "execution_count": null,
   "id": "bd6afdab963dff11",
   "metadata": {
    "ExecuteTime": {
     "end_time": "2024-01-15T16:41:18.726852300Z",
     "start_time": "2024-01-15T16:41:18.366296600Z"
    },
    "collapsed": false
   },
   "outputs": [],
   "source": [
    "# define a set of pulses\n",
    "pulse_const = pulse_library.const(length=100e-9)\n",
    "pulse_saw = pulse_library.sawtooth(length=100e-9)\n",
    "\n",
    "\n",
    "# define an experiment\n",
    "@experiment(signals=[\"drive\"])\n",
    "def match_sweep_simple():\n",
    "    map_signal(\n",
    "        \"drive\", device_setup.logical_signal_groups[\"q0\"].logical_signals[\"drive_line\"]\n",
    "    )\n",
    "    with acquire_loop_rt(1):\n",
    "        with sweep_range(start=0, stop=1, count=2) as pulse_type_sweep:\n",
    "            with section():\n",
    "                delay(\"drive\", 100e-9)\n",
    "            # play either constant or sawtooth pulse depending on the value of pulse_type_sweep\n",
    "            with match(sweep_parameter=pulse_type_sweep):\n",
    "                with case(0):\n",
    "                    play(\"drive\", pulse_const)\n",
    "                with case(1):\n",
    "                    play(\"drive\", pulse_saw)\n",
    "            with section():\n",
    "                delay(\"drive\", 100e-9)\n",
    "\n",
    "\n",
    "# compile experiment and plot the simulated output\n",
    "compiled_match_sweep = session.compile(match_sweep_simple())\n",
    "\n",
    "plot_simulation(\n",
    "    compiled_match_sweep,\n",
    "    start_time=0,\n",
    "    length=6e-7,\n",
    "    signals=[\"drive\"],\n",
    "    plot_height=4,\n",
    "    plot_width=12,\n",
    ")"
   ]
  },
  {
   "cell_type": "markdown",
   "id": "a314289187bda203",
   "metadata": {
    "collapsed": false
   },
   "source": [
    "### Advanced example - Nesting of `match` blocks for different sweep parameters"
   ]
  },
  {
   "cell_type": "code",
   "execution_count": null,
   "id": "12fefa7569767b2c",
   "metadata": {
    "ExecuteTime": {
     "end_time": "2024-01-15T16:41:18.730082600Z",
     "start_time": "2024-01-15T16:41:18.686897Z"
    },
    "collapsed": false
   },
   "outputs": [],
   "source": [
    "# define a set of pulses\n",
    "pulse_const = pulse_library.const(length=100e-9)\n",
    "pulse_saw = pulse_library.sawtooth(length=100e-9)\n",
    "pulse_gauss = pulse_library.gaussian(length=100e-9)\n",
    "pulse_triangle = pulse_library.triangle(length=100e-9)\n",
    "\n",
    "\n",
    "# define an experiment\n",
    "@experiment(signals=[\"drive\"])\n",
    "def match_sweep_nested():\n",
    "    map_signal(\n",
    "        \"drive\", device_setup.logical_signal_groups[\"q0\"].logical_signals[\"drive_line\"]\n",
    "    )\n",
    "    with acquire_loop_rt(1):\n",
    "        with sweep_range(0, 1, 2) as pulse_type_sweep_1:\n",
    "            with sweep_range(0, 1, 2) as pulse_type__sweep_2:\n",
    "                with section():\n",
    "                    delay(\"drive\", 100e-9)\n",
    "                with match(sweep_parameter=pulse_type_sweep_1):\n",
    "                    with case(0):\n",
    "                        with match(sweep_parameter=pulse_type__sweep_2):\n",
    "                            with case(0):\n",
    "                                play(\"drive\", pulse_const)\n",
    "                            with case(1):\n",
    "                                play(\"drive\", pulse_saw)\n",
    "                    with case(1):\n",
    "                        with match(sweep_parameter=pulse_type__sweep_2):\n",
    "                            with case(0):\n",
    "                                play(\"drive\", pulse_gauss)\n",
    "                            with case(1):\n",
    "                                play(\"drive\", pulse_triangle)\n",
    "                with section():\n",
    "                    delay(\"drive\", 100e-9)\n",
    "\n",
    "\n",
    "# compile experiment and plot the simulated output\n",
    "compiled_match_sweep_nested = session.compile(match_sweep_nested())\n",
    "\n",
    "plot_simulation(\n",
    "    compiled_match_sweep_nested,\n",
    "    start_time=0,\n",
    "    length=1.25e-6,\n",
    "    signals=[\"drive\"],\n",
    "    plot_height=4,\n",
    "    plot_width=12,\n",
    ")"
   ]
  },
  {
   "cell_type": "markdown",
   "id": "4e1bddaafe46f27c",
   "metadata": {
    "collapsed": false
   },
   "source": [
    "## Sweeping pulse count for e.g. dynamical decoupling or RB\n",
    "\n",
    "While LabOne Q does not yet have 1st class support for sweeping pulse count, matchable sweep parameters allow us to get there with only minor workarounds. We can create a dedicated `case` section for every pulse count, such that `case(N)` contains `N` pulses.\n",
    "\n",
    "For example, the following plays 1, then 2, and finally 3 pulses."
   ]
  },
  {
   "cell_type": "markdown",
   "id": "181e75ad",
   "metadata": {},
   "source": [
    "### Simple example"
   ]
  },
  {
   "cell_type": "code",
   "execution_count": null,
   "id": "b2f17eb6c1bfd242",
   "metadata": {
    "ExecuteTime": {
     "end_time": "2024-01-15T16:41:18.858824100Z",
     "start_time": "2024-01-15T16:41:18.692624Z"
    },
    "collapsed": false
   },
   "outputs": [],
   "source": [
    "# define a pulse\n",
    "pulse = pulse_library.const(length=30e-9)\n",
    "\n",
    "\n",
    "# define an experiment\n",
    "@experiment(signals=[\"drive\"])\n",
    "def match_pulse_count_simple():\n",
    "    map_signal(\n",
    "        \"drive\", device_setup.logical_signal_groups[\"q0\"].logical_signals[\"drive_line\"]\n",
    "    )\n",
    "    with acquire_loop_rt(1):\n",
    "        with sweep_range(start=0, stop=2, count=3) as pulse_number_sweep:\n",
    "            with section():\n",
    "                delay(\"drive\", 100e-9)\n",
    "            # vary the number of pulse played based on the value of pulse_number_sweep\n",
    "            with match(sweep_parameter=pulse_number_sweep):\n",
    "                with case(0):\n",
    "                    play(\"drive\", pulse)\n",
    "                with case(1):\n",
    "                    play(\"drive\", pulse)\n",
    "                    delay(\"drive\", 30e-9)\n",
    "                    play(\"drive\", pulse)\n",
    "                with case(2):\n",
    "                    play(\"drive\", pulse)\n",
    "                    delay(\"drive\", 30e-9)\n",
    "                    play(\"drive\", pulse)\n",
    "                    delay(\"drive\", 30e-9)\n",
    "                    play(\"drive\", pulse)\n",
    "\n",
    "            with section():\n",
    "                delay(\"drive\", 100e-9)\n",
    "\n",
    "\n",
    "# compile experiment and plot the simulated output\n",
    "compiled_match_pulse_count = session.compile(match_pulse_count_simple())\n",
    "\n",
    "plot_simulation(\n",
    "    compiled_match_pulse_count,\n",
    "    start_time=0,\n",
    "    length=8e-7,\n",
    "    signals=[\"drive\"],\n",
    "    plot_height=4,\n",
    "    plot_width=12,\n",
    ")"
   ]
  },
  {
   "cell_type": "markdown",
   "id": "2724e3fc",
   "metadata": {},
   "source": [
    "### Advanced example - using a helper function to implicitly construct the match-case statement"
   ]
  },
  {
   "cell_type": "markdown",
   "id": "d5c648d261e30916",
   "metadata": {
    "collapsed": false
   },
   "source": [
    "This is a helper function that allows us to conveniently express a number of pulses that is _parametrized_."
   ]
  },
  {
   "cell_type": "code",
   "execution_count": null,
   "id": "9357e18df1ecf61d",
   "metadata": {
    "ExecuteTime": {
     "end_time": "2024-01-15T16:41:18.876729900Z",
     "start_time": "2024-01-15T16:41:18.743876200Z"
    },
    "collapsed": false
   },
   "outputs": [],
   "source": [
    "def repeat(count: int | SweepParameter | LinearSweepParameter):\n",
    "    def decorator(f):\n",
    "        if isinstance(count, (LinearSweepParameter, SweepParameter)):\n",
    "            with match(sweep_parameter=count):\n",
    "                for v in count.values:\n",
    "                    with case(v):\n",
    "                        for _ in range(int(v)):\n",
    "                            f()\n",
    "        else:\n",
    "            for _ in range(count):\n",
    "                f()\n",
    "\n",
    "    return decorator"
   ]
  },
  {
   "cell_type": "markdown",
   "id": "3820e235fa7c470e",
   "metadata": {
    "collapsed": false
   },
   "source": [
    "Now a similar experiment is easily expressed. "
   ]
  },
  {
   "cell_type": "code",
   "execution_count": null,
   "id": "13865f52e03d2163",
   "metadata": {
    "ExecuteTime": {
     "end_time": "2024-01-15T16:41:19.974208200Z",
     "start_time": "2024-01-15T16:41:18.801933100Z"
    },
    "collapsed": false
   },
   "outputs": [],
   "source": [
    "# define 90 and 190 degree rotations\n",
    "pulse_pi = pulse_library.gaussian(length=30e-9)\n",
    "pulse_pi_half = pulse_library.gaussian(length=30e-9, amplitude=0.5)\n",
    "\n",
    "\n",
    "# define a dynamical decoupling experiment\n",
    "@experiment(signals=[\"drive\"])\n",
    "def dynamical_decoupling():\n",
    "    map_signal(\n",
    "        \"drive\", device_setup.logical_signal_groups[\"q0\"].logical_signals[\"drive_line\"]\n",
    "    )\n",
    "    with acquire_loop_rt(1):\n",
    "        with sweep_range(start=2, stop=50, count=10) as pulse_count:\n",
    "            with section(length=2.5e-6):\n",
    "                with section():\n",
    "                    play(\"drive\", pulse_pi_half)\n",
    "                    delay(\"drive\", 15e-9)\n",
    "\n",
    "                @repeat(pulse_count)\n",
    "                def _():\n",
    "                    with section():\n",
    "                        play(\"drive\", pulse_pi)\n",
    "                        delay(\"drive\", 15e-9)\n",
    "\n",
    "                with section():\n",
    "                    play(\"drive\", pulse_pi_half)\n",
    "\n",
    "\n",
    "# compile experiment and plot the simulated output\n",
    "compiled_dynamical_decouplimg = session.compile(dynamical_decoupling())\n",
    "\n",
    "plot_simulation(\n",
    "    compiled_dynamical_decouplimg,\n",
    "    start_time=0,\n",
    "    length=0.6e-5,\n",
    "    signals=[\"drive\"],\n",
    "    plot_height=5,\n",
    "    plot_width=15,\n",
    ")"
   ]
  },
  {
   "cell_type": "markdown",
   "id": "14e58f80",
   "metadata": {},
   "source": [
    "## Complex nested sweeping \n",
    "\n",
    "Sweep parameter values even in nested sweeps may be used to calculate arbitrary pulse parameters within those sweeps by using nested match-case constructs. \n",
    "The following example demonstrates one such usage. \n",
    "\n",
    "We use two nested sweep parameters, each of which drives the amplitude of a pulse played on individual lines. \n",
    "The amplitude of a pulse played on a third signal line is then calculated as the product of the two sweep parameter values. "
   ]
  },
  {
   "cell_type": "code",
   "execution_count": null,
   "id": "32314986",
   "metadata": {},
   "outputs": [],
   "source": [
    "# define a generic drive pulse\n",
    "pulse_drive = pulse_library.gaussian(length=30e-9)"
   ]
  },
  {
   "cell_type": "code",
   "execution_count": null,
   "id": "750486e8",
   "metadata": {},
   "outputs": [],
   "source": [
    "# define two sweep parameters\n",
    "amplitudes_1 = LinearSweepParameter(uid=\"amplitudes_1\", start=-0.9, stop=0.9, count=5)\n",
    "amplitudes_2 = LinearSweepParameter(uid=\"amplitudes_2\", start=-0.5, stop=0.5, count=5)"
   ]
  },
  {
   "cell_type": "code",
   "execution_count": null,
   "id": "cdf79772",
   "metadata": {},
   "outputs": [],
   "source": [
    "# define the experiment with three distinct drive signals\n",
    "@experiment(signals=[\"drive_q0\", \"drive_q1\", \"drive_q2\"])\n",
    "def complex_amplitude_sweeping():\n",
    "    map_signal(\n",
    "        \"drive_q0\",\n",
    "        device_setup.logical_signal_groups[\"q0\"].logical_signals[\"drive_line\"],\n",
    "    )\n",
    "    map_signal(\n",
    "        \"drive_q1\",\n",
    "        device_setup.logical_signal_groups[\"q1\"].logical_signals[\"drive_line\"],\n",
    "    )\n",
    "    map_signal(\n",
    "        \"drive_q2\",\n",
    "        device_setup.logical_signal_groups[\"q2\"].logical_signals[\"drive_line\"],\n",
    "    )\n",
    "    with acquire_loop_rt(1):\n",
    "        # sweep first signal amplitude\n",
    "        with sweep(uid=\"amplitude_sweep_1\", parameter=amplitudes_1):\n",
    "            # sweep second signal amplitude\n",
    "            with sweep(uid=\"amplitude_sweep_2\", parameter=amplitudes_2):\n",
    "                #  construct a nested match-case structure for all parameter values of the enclosing sweeps\n",
    "                with match(sweep_parameter=amplitudes_1, uid=\"nested_match_case\"):\n",
    "                    for amp_1 in amplitudes_1.values:\n",
    "                        with case(amp_1):\n",
    "                            with match(sweep_parameter=amplitudes_2):\n",
    "                                for amp_2 in amplitudes_2.values:\n",
    "                                    with case(amp_2):\n",
    "                                        # play pulse with first signal amplitude\n",
    "                                        play(\n",
    "                                            signal=\"drive_q0\",\n",
    "                                            pulse=pulse_drive,\n",
    "                                            amplitude=amplitudes_1,\n",
    "                                        )\n",
    "                                        # play pulse with second signal amplitude\n",
    "                                        play(\n",
    "                                            signal=\"drive_q1\",\n",
    "                                            pulse=pulse_drive,\n",
    "                                            amplitude=amplitudes_2,\n",
    "                                            phase=np.pi / 2,\n",
    "                                        )\n",
    "                                        # play pulse with amplitude and phase calculated depending on both outer sweep parameters\n",
    "                                        play(\n",
    "                                            signal=\"drive_q2\",\n",
    "                                            pulse=pulse_drive,\n",
    "                                            amplitude=amp_1 * amp_2 + 0.1,\n",
    "                                            phase=amp_2 * np.pi / 4,\n",
    "                                        )\n",
    "                                        delay(signal=\"drive_q0\", time=25e-9)\n",
    "            #  add a delay for better visibility\n",
    "            with section(uid=\"sweep_delay\", play_after=\"amplitude_sweep_2\"):\n",
    "                delay(signal=\"drive_q0\", time=100e-9)"
   ]
  },
  {
   "cell_type": "code",
   "execution_count": null,
   "id": "071f86e3",
   "metadata": {},
   "outputs": [],
   "source": [
    "# compile experiment and plot the simulated output\n",
    "compiled_complex_amplitude_sweeping = session.compile(complex_amplitude_sweeping())\n",
    "\n",
    "plot_simulation(\n",
    "    compiled_complex_amplitude_sweeping,\n",
    "    start_time=0,\n",
    "    length=2e-6,\n",
    "    signals=[\"drive_q0\", \"drive_q1\", \"drive_q2\"],\n",
    "    plot_height=5,\n",
    "    plot_width=15,\n",
    ")"
   ]
  },
  {
   "cell_type": "code",
   "execution_count": null,
   "id": "0ff4d689",
   "metadata": {},
   "outputs": [],
   "source": []
  },
  {
   "cell_type": "code",
   "execution_count": null,
   "id": "a13a7fc8",
   "metadata": {},
   "outputs": [],
   "source": []
  }
 ],
 "metadata": {
  "kernelspec": {
   "display_name": "repo",
   "language": "python",
   "name": "python3"
  },
  "language_info": {
   "codemirror_mode": {
    "name": "ipython",
    "version": 3
   },
   "file_extension": ".py",
   "mimetype": "text/x-python",
   "name": "python",
   "nbconvert_exporter": "python",
   "pygments_lexer": "ipython3",
   "version": "3.13.2"
  }
 },
 "nbformat": 4,
 "nbformat_minor": 5
}
