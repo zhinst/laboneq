{
 "cells": [
  {
   "cell_type": "markdown",
   "metadata": {},
   "source": [
    "# Workflow Syntax"
   ]
  },
  {
   "cell_type": "markdown",
   "metadata": {},
   "source": [
    "All the variables inside a workflow are of type `Reference`. Hence, all the arguments of the initial workflow function and the return\n",
    "values of any workflow construct (`task`, etc.) are of type `Reference`.\n",
    "\n",
    "A workflow reference (`Reference`) is a placeholder for objects used while a workflow is being constructed. If tasks are the nodes in the workflow graph, then references define the edges.\n",
    "\n",
    "`Reference` is a proxy for the underlying object it represents within the workflow. This means that operations done\n",
    "on the `Reference` at definition time are applied to the object only when the workflow is executed."
   ]
  },
  {
   "cell_type": "markdown",
   "metadata": {},
   "source": [
    "## Variables as references\n",
    "\n",
    "When a function decorated with the `@workflow` decorated is instantiated, the function is executed to build the workflow and the connections between the operations inside it. \n",
    "\n",
    "Consider a workflow that takes in an argument `qubit`, and we `print` it within the workflow definition:"
   ]
  },
  {
   "cell_type": "code",
   "execution_count": null,
   "metadata": {},
   "outputs": [],
   "source": [
    "from laboneq import workflow\n",
    "\n",
    "\n",
    "class Qubit:\n",
    "    def __init__(self, name: str):\n",
    "        self.name = name\n",
    "\n",
    "\n",
    "@workflow.workflow\n",
    "def a_workflow(qubit):\n",
    "    print(qubit)\n",
    "    print(qubit.name)"
   ]
  },
  {
   "cell_type": "markdown",
   "metadata": {},
   "source": [
    "Now when we instantiate the workflow, the function `a_workflow` is executed to create the actual workflow and connections between the workflow's arguments, tasks, and operations.\n",
    "\n",
    "As we can see below, the workflow is not yet run, yet the `print()` was executed at the collection phase and `qubit` is of type `Reference`, which points to the workflow argument `qubit`. Another `Reference` was created when the `.name` attribute was accessed."
   ]
  },
  {
   "cell_type": "code",
   "execution_count": null,
   "metadata": {},
   "outputs": [],
   "source": [
    "wf = a_workflow(Qubit(name=\"q1\"))"
   ]
  },
  {
   "cell_type": "markdown",
   "metadata": {},
   "source": [
    "To keep the workflow definition simple, most regular Python operations should be done inside tasks, i.e. in functions decorated with `@workflow.task`. Let's see how this works.\n",
    "\n",
    "Below,  we refactor the workflow to have a task that prints the object information. "
   ]
  },
  {
   "cell_type": "code",
   "execution_count": null,
   "metadata": {},
   "outputs": [],
   "source": [
    "@workflow.task\n",
    "def task_display_input(inp):\n",
    "    print(\"Task input:\", inp)\n",
    "\n",
    "\n",
    "@workflow.workflow\n",
    "def a_workflow(qubit):\n",
    "    task_display_input(qubit)\n",
    "    task_display_input(qubit.name)"
   ]
  },
  {
   "cell_type": "markdown",
   "metadata": {},
   "source": [
    "When instantiating the workflow, we do not see any `print()` messages, as the workflow and the task is not yet executed. However the workflow function was executed and we can inspect\n",
    "the simple graph it made."
   ]
  },
  {
   "cell_type": "code",
   "execution_count": null,
   "metadata": {},
   "outputs": [],
   "source": [
    "wf = a_workflow(Qubit(name=\"q1\"))\n",
    "wf.graph.tree"
   ]
  },
  {
   "cell_type": "markdown",
   "metadata": {},
   "source": [
    "By running the workflow, the references inside it are automatically resolved when the task is called, and we should see the `print()` output for `qubit` and `qubit.name`:"
   ]
  },
  {
   "cell_type": "code",
   "execution_count": null,
   "metadata": {},
   "outputs": [],
   "source": [
    "_ = wf.run()"
   ]
  },
  {
   "cell_type": "markdown",
   "metadata": {},
   "source": [
    "In the rest of the code snippets below, we will use the `task_display_input(...)` task defined here to print the arguments passed to it."
   ]
  },
  {
   "cell_type": "markdown",
   "metadata": {},
   "source": [
    "## Constant variables\n",
    "\n",
    "Variables can be defined and overwritten inside a workflow."
   ]
  },
  {
   "cell_type": "markdown",
   "metadata": {},
   "source": [
    "In the following example we define a workflow constant variable `result = 5` and overwrite it if the conditional `workflow.if_()` returns `True`."
   ]
  },
  {
   "cell_type": "code",
   "execution_count": null,
   "metadata": {},
   "outputs": [],
   "source": [
    "@workflow.task\n",
    "def addition(x, y):\n",
    "    return x + y\n",
    "\n",
    "\n",
    "@workflow.workflow\n",
    "def a_workflow(obj):\n",
    "    result = 5\n",
    "    with workflow.if_(obj):\n",
    "        result = addition(1, 2)\n",
    "    workflow.return_(result)"
   ]
  },
  {
   "cell_type": "markdown",
   "metadata": {},
   "source": [
    "Since the conditional branch is `True` and executed, the constant variable `result` is overwritten by the result of `addition`."
   ]
  },
  {
   "cell_type": "code",
   "execution_count": null,
   "metadata": {},
   "outputs": [],
   "source": [
    "result = a_workflow(True).run()\n",
    "result.output"
   ]
  },
  {
   "cell_type": "markdown",
   "metadata": {},
   "source": [
    "Constant variable `result` is not overwritten if the conditional branching is `False`."
   ]
  },
  {
   "cell_type": "code",
   "execution_count": null,
   "metadata": {},
   "outputs": [],
   "source": [
    "result = a_workflow(False).run()\n",
    "result.output"
   ]
  },
  {
   "cell_type": "markdown",
   "metadata": {},
   "source": [
    "## Unresolved variables and references\n",
    "\n",
    "Potentially undefined variables and unresolved references are not checked at the definition time and will fail at runtime for an unresolved value. This can happen especially in conditional branching."
   ]
  },
  {
   "cell_type": "markdown",
   "metadata": {},
   "source": [
    "Let's modify the previous example to show this. Like before, we have a conditional block that is executed only if the input is `True` and that sets the workflow output to the result of task `addition`. However, here we do not define the value of `result` before the conditional block, so if the condition is `False`, then `result` is not defined. "
   ]
  },
  {
   "cell_type": "code",
   "execution_count": null,
   "metadata": {},
   "outputs": [],
   "source": [
    "@workflow.task\n",
    "def addition(x, y):\n",
    "    return x + y\n",
    "\n",
    "\n",
    "@workflow.workflow\n",
    "def a_workflow(obj):\n",
    "    with workflow.if_(obj):\n",
    "        result = addition(1, 2)\n",
    "    workflow.return_(result)\n",
    "\n",
    "\n",
    "result = a_workflow(True).run()\n",
    "result.output"
   ]
  },
  {
   "cell_type": "markdown",
   "metadata": {},
   "source": [
    "As expected, when the condition is True, the workflow executes fine, because the `result` variable within the workflow was defined by entering the `workflow.if_()` block.\n",
    "\n",
    "However, when the input is set to `False`, the workflow fails for unresolved `Reference` as the `result` variable never exists and is needed for `workflow.result_()`. `workflow.result_()` knows that it expects the value from `addition`, but it never gets it at runtime."
   ]
  },
  {
   "cell_type": "code",
   "execution_count": null,
   "metadata": {
    "scrolled": true,
    "tags": [
     "raises-exception"
    ]
   },
   "outputs": [],
   "source": [
    "a_workflow(False).run()"
   ]
  },
  {
   "cell_type": "markdown",
   "metadata": {},
   "source": [
    "## Supported operations\n",
    "\n",
    "Not all the normal Python operations are supported by the `Reference` object, which is mostly by design in order to keep the workflow definition simple. This is because, when an operation is done on the `Reference`, it produces a new `Reference` which then applies the operation specified during the definition phase at runtime. This means that if an invalid operation, for example, an invalid attribute is accessed, it will fail at runtime.\n",
    "\n",
    "The supported operations on `Reference` is currently limited by design as workflow tasks should handle most of the operations within an workflow.\n",
    "\n",
    "The following operations are supported:\n",
    "\n",
    "### Getting an attribute"
   ]
  },
  {
   "cell_type": "code",
   "execution_count": null,
   "metadata": {},
   "outputs": [],
   "source": [
    "@workflow.workflow\n",
    "def a_workflow(obj):\n",
    "    task_display_input(obj.name)\n",
    "\n",
    "\n",
    "_ = a_workflow(Qubit(name=\"q1\")).run()"
   ]
  },
  {
   "cell_type": "markdown",
   "metadata": {},
   "source": [
    "### Getting an item"
   ]
  },
  {
   "cell_type": "code",
   "execution_count": null,
   "metadata": {},
   "outputs": [],
   "source": [
    "@workflow.workflow\n",
    "def a_workflow(obj):\n",
    "    task_display_input(obj[\"qubit\"])\n",
    "    task_display_input(obj[\"qubit\"][\"name\"])\n",
    "\n",
    "\n",
    "qubit_dict = {\"qubit\": {\"name\": \"q1\"}}\n",
    "\n",
    "_ = a_workflow(qubit_dict).run()"
   ]
  },
  {
   "cell_type": "markdown",
   "metadata": {},
   "source": [
    "### Testing for equality"
   ]
  },
  {
   "cell_type": "code",
   "execution_count": null,
   "metadata": {},
   "outputs": [],
   "source": [
    "@workflow.workflow\n",
    "def a_workflow(obj):\n",
    "    task_display_input(obj == 1)\n",
    "\n",
    "\n",
    "_ = a_workflow(obj=1).run()\n",
    "_ = a_workflow(obj=2).run()"
   ]
  },
  {
   "cell_type": "markdown",
   "metadata": {},
   "source": [
    "## Limitations\n",
    "\n",
    "The `Reference` allows some operations to be performed on it by utilizing Python's magic methods, e.g `__eq__()` and so on. However, not all Python operations can be mocked in this way."
   ]
  },
  {
   "cell_type": "markdown",
   "metadata": {},
   "source": [
    "### Identity operations\n",
    "\n",
    "Python identity operation `is` should not be used at the workflow level. This is a Python limitation since it is not viable to overwrite this specific Python behaviour in objects.\n",
    "\n",
    "In the example below, we demonstrate what happens when a workflow function uses the `is`statement by applying `is True` on the workflow input."
   ]
  },
  {
   "cell_type": "code",
   "execution_count": null,
   "metadata": {},
   "outputs": [],
   "source": [
    "@workflow.workflow\n",
    "def input_is_true(obj):\n",
    "    task_display_input(obj is True)\n",
    "\n",
    "\n",
    "_ = input_is_true(obj=True).run()\n",
    "_ = input_is_true(obj=False).run()"
   ]
  },
  {
   "cell_type": "markdown",
   "metadata": {},
   "source": [
    "The argument to `task_display_input` resolves to `False` no matter the value of `obj`. Therefore, the boolean object itself should be passed in, as shown below."
   ]
  },
  {
   "cell_type": "code",
   "execution_count": null,
   "metadata": {},
   "outputs": [],
   "source": [
    "@workflow.workflow\n",
    "def input_is_true(obj):\n",
    "    task_display_input(obj)\n",
    "\n",
    "\n",
    "_ = input_is_true(obj=True).run()\n",
    "_ = input_is_true(obj=False).run()"
   ]
  },
  {
   "cell_type": "markdown",
   "metadata": {},
   "source": [
    "### References inside containers\n",
    "\n",
    "Variables and references inside a workflow should not be put into containers (`list`, `dict`, etc.), as the workflow engine needs to \"see\" the reference to be able to resolve it."
   ]
  },
  {
   "cell_type": "markdown",
   "metadata": {},
   "source": [
    "In the following example, we'll pass the workflow input parameter `obj` as a `list` into a task argument."
   ]
  },
  {
   "cell_type": "code",
   "execution_count": null,
   "metadata": {},
   "outputs": [],
   "source": [
    "@workflow.workflow\n",
    "def input_is_true(obj):\n",
    "    task_display_input([obj])\n",
    "\n",
    "\n",
    "_ = input_is_true(obj=1).run()"
   ]
  },
  {
   "cell_type": "markdown",
   "metadata": {},
   "source": [
    "As we can see from the output, the task got an argument of type `list`, which contains a `Reference`, not the expected `[1]`.\n",
    "\n",
    "However by passing `obj=[1]` to the workflow input, we obtain the expected behaviour and our task gets the correct value:"
   ]
  },
  {
   "cell_type": "code",
   "execution_count": null,
   "metadata": {},
   "outputs": [],
   "source": [
    "@workflow.workflow\n",
    "def input_is_true(obj):\n",
    "    task_display_input(obj)\n",
    "\n",
    "\n",
    "_ = input_is_true(obj=[1]).run()"
   ]
  },
  {
   "cell_type": "markdown",
   "metadata": {},
   "source": [
    "### Getting around the limitations\n",
    "\n",
    "As there are operations that are not supported on the workflow level, we can implement them inside `tasks`."
   ]
  },
  {
   "cell_type": "markdown",
   "metadata": {},
   "source": [
    "In the following example we create a helper task, which converts its input into a boolean. We also configure the task with `save=False`, which signals to the `LogBook` to not save it's input and output on disk."
   ]
  },
  {
   "cell_type": "code",
   "execution_count": null,
   "metadata": {},
   "outputs": [],
   "source": [
    "@workflow.task(save=False)\n",
    "def is_true(x):\n",
    "    return bool(x)\n",
    "\n",
    "\n",
    "@workflow.workflow\n",
    "def input_is_true(obj):\n",
    "    task_display_input(is_true(obj))\n",
    "\n",
    "\n",
    "_ = input_is_true(obj=True).run()\n",
    "_ = input_is_true(obj=False).run()\n",
    "_ = input_is_true(obj=[]).run()\n",
    "_ = input_is_true(obj=[1]).run()"
   ]
  },
  {
   "cell_type": "markdown",
   "metadata": {},
   "source": [
    "As a final example, let's define a helper task that appends entries to a list."
   ]
  },
  {
   "cell_type": "code",
   "execution_count": null,
   "metadata": {},
   "outputs": [],
   "source": [
    "@workflow.task\n",
    "def append_things(things_list, thing):\n",
    "    things_list += [thing]\n",
    "    return things_list\n",
    "\n",
    "\n",
    "@workflow.task\n",
    "def append_things_dynamic(things_list, thing):\n",
    "    things_list += [thing]\n",
    "\n",
    "\n",
    "@workflow.workflow\n",
    "def workflow_to_append_things():\n",
    "    lst = []\n",
    "    with workflow.for_(list(range(6))) as i:\n",
    "        lst = append_things(lst, i)\n",
    "        append_things_dynamic(lst, i)\n",
    "    workflow.return_(lst)\n",
    "\n",
    "\n",
    "result = workflow_to_append_things().run()\n",
    "result.output"
   ]
  },
  {
   "cell_type": "markdown",
   "metadata": {
    "scrolled": true
   },
   "source": [
    "Notice that both returning the extended list (`append_things`) and modifying it in place inside the task (`append_things_dynamic`) leads to the same correct behaviour. "
   ]
  }
 ],
 "metadata": {
  "kernelspec": {
   "display_name": "Python 3 (ipykernel)",
   "language": "python",
   "name": "python3"
  },
  "language_info": {
   "codemirror_mode": {
    "name": "ipython",
    "version": 3
   },
   "file_extension": ".py",
   "mimetype": "text/x-python",
   "name": "python",
   "nbconvert_exporter": "python",
   "pygments_lexer": "ipython3",
   "version": "3.12.7"
  }
 },
 "nbformat": 4,
 "nbformat_minor": 4
}
