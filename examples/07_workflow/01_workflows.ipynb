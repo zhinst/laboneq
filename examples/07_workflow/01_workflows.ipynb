{
 "cells": [
  {
   "cell_type": "markdown",
   "metadata": {},
   "source": [
    "# Building and Using a Workflow\n",
    "\n",
    "In this tutorial, you'll learn about the `workflow` package in LabOne Q, what you can do with it, and how to make and use workflows of your own."
   ]
  },
  {
   "cell_type": "markdown",
   "metadata": {},
   "source": [
    "## Imports"
   ]
  },
  {
   "cell_type": "code",
   "execution_count": null,
   "metadata": {},
   "outputs": [],
   "source": [
    "from laboneq import workflow"
   ]
  },
  {
   "cell_type": "markdown",
   "metadata": {},
   "source": [
    "## Define the tasks\n",
    "\n",
    "A task is any Python function that represents a single unit of work within a workflow. The workflow stores the input and outputs of all its tasks.\n",
    "\n",
    "Python functions can be marked as workflow tasks by wrapping them with\n",
    "`workflow.task` decorator. When used outside of a workflow, tasks behave as normal Python functions. \n",
    "\n",
    "To learn more about `Tasks` in LabOne Q, check out the [tutorial on Tasks](https://docs.zhinst.com/labone_q_user_manual/core/functionality_and_concepts/07_workflow/tutorials/00_tasks.html)."
   ]
  },
  {
   "cell_type": "code",
   "execution_count": null,
   "metadata": {},
   "outputs": [],
   "source": [
    "@workflow.task\n",
    "def measure() -> int:\n",
    "    return 100\n",
    "\n",
    "\n",
    "@workflow.task\n",
    "def analyze(measurement_result: int, threshold: int) -> str:\n",
    "    if measurement_result < threshold:\n",
    "        return \"PASS\"\n",
    "    return \"FAIL\""
   ]
  },
  {
   "cell_type": "markdown",
   "metadata": {},
   "source": [
    "## Define the workflow\n",
    "\n",
    "In this section we go through the process of combining our predefined tasks into a\n",
    "single workflow.\n",
    "\n",
    "A workflow in itself should be as simple as possible and it should not contain any complex\n",
    "operations. Most operations should happen within the tasks.\n",
    "\n",
    "A workflow can be defined by decorating a Python function with `@workflow` decorator.\n",
    "\n",
    "#### Important remarks\n",
    "\n",
    "When a function is marked as a `workflow`, it has some limitations to a normal Python\n",
    "execution flow:\n",
    "\n",
    "* Only functions marked as tasks should be called within a workflow definition\n",
    "* Using Python statements (`if`, `else`, `for`, `return` etc.) should not be used in the Workflow, however they can be used freely in tasks.\n",
    "\n",
    "The reasons for above limitations is to ensure that a graph of dependencies between tasks\n",
    "can be created and the `Workflow` can then fully control the execution flow.\n",
    "\n",
    "#### Workflow references\n",
    "\n",
    "While the workflow is being constructed, the actual variables (workflow inputs, task outputs) are replaced\n",
    "with a `Reference` object that then connects the producing and receiving ends of an variable.\n",
    "\n",
    "By default `Reference` supports only a subset of default Python operations, for example, `__getitem__` and\n",
    "`__getattr__`. The supported operations can be seen from `Reference` documentation."
   ]
  },
  {
   "cell_type": "markdown",
   "metadata": {},
   "source": [
    "## Build a workflow"
   ]
  },
  {
   "cell_type": "code",
   "execution_count": null,
   "metadata": {},
   "outputs": [],
   "source": [
    "@workflow.workflow\n",
    "def experiment(threshold: int):\n",
    "    measurement = measure()\n",
    "    analyze(measurement, threshold)"
   ]
  },
  {
   "cell_type": "markdown",
   "metadata": {},
   "source": [
    "## Instantiate and run the workflow"
   ]
  },
  {
   "cell_type": "code",
   "execution_count": null,
   "metadata": {},
   "outputs": [],
   "source": [
    "wf = experiment(threshold=101)\n",
    "wf"
   ]
  },
  {
   "cell_type": "code",
   "execution_count": null,
   "metadata": {},
   "outputs": [],
   "source": [
    "result = wf.run()"
   ]
  },
  {
   "cell_type": "markdown",
   "metadata": {},
   "source": [
    "## Inspect the results"
   ]
  },
  {
   "cell_type": "code",
   "execution_count": null,
   "metadata": {},
   "outputs": [],
   "source": [
    "result"
   ]
  },
  {
   "cell_type": "markdown",
   "metadata": {},
   "source": [
    "### Inspecting the tasks"
   ]
  },
  {
   "cell_type": "code",
   "execution_count": null,
   "metadata": {},
   "outputs": [],
   "source": [
    "result.tasks"
   ]
  },
  {
   "cell_type": "markdown",
   "metadata": {},
   "source": [
    "There are several ways to get the individual tasks from the `WorkflowResult`"
   ]
  },
  {
   "cell_type": "code",
   "execution_count": null,
   "metadata": {},
   "outputs": [],
   "source": [
    "result.tasks[1], result.tasks[\"analyze\"]"
   ]
  },
  {
   "cell_type": "markdown",
   "metadata": {},
   "source": [
    "Specific task lookup with indexing\n",
    "\n",
    "The first argument is the name of the task and the second is an integer or a\n",
    "`slice`"
   ]
  },
  {
   "cell_type": "code",
   "execution_count": null,
   "metadata": {},
   "outputs": [],
   "source": [
    "result.tasks[\"analyze\", :]  # All tasks named 'analyze'"
   ]
  },
  {
   "cell_type": "code",
   "execution_count": null,
   "metadata": {},
   "outputs": [],
   "source": [
    "result.tasks[\"analyze\", 0]  # First task entry for 'analyze'"
   ]
  },
  {
   "cell_type": "markdown",
   "metadata": {},
   "source": [
    "Inspecting individual task information"
   ]
  },
  {
   "cell_type": "code",
   "execution_count": null,
   "metadata": {},
   "outputs": [],
   "source": [
    "# Task output\n",
    "result.tasks[\"analyze\"].output"
   ]
  },
  {
   "cell_type": "code",
   "execution_count": null,
   "metadata": {},
   "outputs": [],
   "source": [
    "# Task input\n",
    "result.tasks[\"analyze\"].input"
   ]
  },
  {
   "cell_type": "markdown",
   "metadata": {},
   "source": [
    "## Iteration in workflow\n",
    "\n",
    "Previously we defined a workflow with a single measurement value and checked\n",
    "for the analysis results.\n",
    "Now we modify the `measure(...)` task to take in a parameter and with that,\n",
    "the output changes. We will find at which parameter our analysis will pass.\n",
    "\n",
    "To iterate over different values, we use `workflow.for_(values)`."
   ]
  },
  {
   "cell_type": "code",
   "execution_count": null,
   "metadata": {},
   "outputs": [],
   "source": [
    "@workflow.task\n",
    "def measure_parameter(parameter: int) -> int:\n",
    "    return 10 + parameter\n",
    "\n",
    "\n",
    "@workflow.workflow\n",
    "def experiment(parameters: list[int], threshold: int):\n",
    "    with workflow.for_(parameters) as parameter:\n",
    "        measurement = measure_parameter(parameter)\n",
    "        analyze(measurement, threshold)\n",
    "\n",
    "\n",
    "parameters = [80, 90, 100]\n",
    "wf = experiment(parameters=parameters, threshold=100)\n",
    "result = wf.run()"
   ]
  },
  {
   "cell_type": "markdown",
   "metadata": {},
   "source": [
    "Let's look at the tasks stored in `result`:"
   ]
  },
  {
   "cell_type": "code",
   "execution_count": null,
   "metadata": {},
   "outputs": [],
   "source": [
    "for t in result.tasks:\n",
    "    print(t)"
   ]
  },
  {
   "cell_type": "markdown",
   "metadata": {},
   "source": [
    "Notice that the index of the iteration is automatically added to the `TaskResults` to distinguish between the different runs. \n",
    "\n",
    "We can also programme the index to be a string of our choosing:"
   ]
  },
  {
   "cell_type": "code",
   "execution_count": null,
   "metadata": {},
   "outputs": [],
   "source": [
    "@workflow.workflow\n",
    "def experiment(parameters: list[int], threshold: int):\n",
    "    with workflow.for_(parameters, lambda p: f\"value = {p}\") as parameter:\n",
    "        measurement = measure_parameter(parameter)\n",
    "        analyze(measurement, threshold)\n",
    "\n",
    "\n",
    "parameters = [80, 90, 100]\n",
    "wf = experiment(parameters=parameters, threshold=100)\n",
    "result = wf.run()\n",
    "\n",
    "for t in result.tasks:\n",
    "    print(t)"
   ]
  },
  {
   "cell_type": "markdown",
   "metadata": {},
   "source": [
    "Let's get all the `analyze` tasks:"
   ]
  },
  {
   "cell_type": "code",
   "execution_count": null,
   "metadata": {},
   "outputs": [],
   "source": [
    "result.tasks[\"analyze\", :]"
   ]
  },
  {
   "cell_type": "markdown",
   "metadata": {},
   "source": [
    "Note that `result.tasks[\"analyze\"]` returns only the first task in the list above. "
   ]
  },
  {
   "cell_type": "markdown",
   "metadata": {},
   "source": [
    "To inspect the index of a task, use the `index` property:"
   ]
  },
  {
   "cell_type": "code",
   "execution_count": null,
   "metadata": {},
   "outputs": [],
   "source": [
    "result.tasks[\"analyze\"].index"
   ]
  },
  {
   "cell_type": "markdown",
   "metadata": {},
   "source": [
    "Let's now display the output of each of the `measure_parameter` and `analyze` tasks:"
   ]
  },
  {
   "cell_type": "code",
   "execution_count": null,
   "metadata": {},
   "outputs": [],
   "source": [
    "for i, parameter in enumerate(parameters):\n",
    "    analyze_task = result.tasks[\"analyze\", i]\n",
    "    measure_task = result.tasks[\"measure_parameter\", i]\n",
    "    print(\n",
    "        f\"Input parameter value: {parameter}. \"\n",
    "        f\"Measurement result: {measure_task.output}. \"\n",
    "        f\"Analysis result: {analyze_task.output}\"\n",
    "    )"
   ]
  },
  {
   "cell_type": "markdown",
   "metadata": {},
   "source": [
    "## Conditionals and workflow output\n",
    "\n",
    "In the previous example we defined a workflow which tries different parameters \n",
    "and finds which ones are successful.\n",
    "\n",
    "However, it iterates over all the given parameters even after our analysis has failed,\n",
    "which might be wasteful.\n",
    "\n",
    "Now we define a workflow that returns immediately when analysis fails."
   ]
  },
  {
   "cell_type": "markdown",
   "metadata": {},
   "source": [
    "* We use `workflow.if_(condition)` to check for the condition\n",
    "\n",
    "* We use `workflow.return_(value)` to immediately exit the workflow and set the workflow output value"
   ]
  },
  {
   "cell_type": "code",
   "execution_count": null,
   "metadata": {},
   "outputs": [],
   "source": [
    "@workflow.workflow\n",
    "def experiment(parameters: list[int], threshold: int):\n",
    "    with workflow.for_(parameters) as parameter:\n",
    "        measurement = measure_parameter(parameter)\n",
    "        analyze_result = analyze(measurement, threshold)\n",
    "        with workflow.if_(analyze_result == \"FAIL\"):\n",
    "            workflow.return_(analyze_result)\n",
    "    workflow.return_(analyze_result)\n",
    "\n",
    "\n",
    "parameters = [80, 90, 100]\n",
    "wf = experiment(parameters=parameters, threshold=100)\n",
    "result = wf.run()"
   ]
  },
  {
   "cell_type": "markdown",
   "metadata": {},
   "source": [
    "When inspecting the results, we only see two results since the iteration only went through\n",
    "two steps instead of all of the parameters, because the `analyze` task failed."
   ]
  },
  {
   "cell_type": "code",
   "execution_count": null,
   "metadata": {},
   "outputs": [],
   "source": [
    "for idx, analyze_task in enumerate(result.tasks[\"analyze\", :]):\n",
    "    measure_task = result.tasks[\"measure_parameter\", idx]\n",
    "    parameter = parameters[idx]\n",
    "    print(\n",
    "        f\"Input parameter value: {parameter}. \"\n",
    "        f\"Measurement result: {measure_task.output}. \"\n",
    "        f\"Analysis result: {analyze_task.output}\"\n",
    "    )"
   ]
  },
  {
   "cell_type": "markdown",
   "metadata": {},
   "source": [
    "We can also check if the workflow passed as a whole, as we set the workflow output \n",
    "to the result of `analyze`"
   ]
  },
  {
   "cell_type": "code",
   "execution_count": null,
   "metadata": {},
   "outputs": [],
   "source": [
    "print(\"Workflow outcome: \", result.output)"
   ]
  },
  {
   "cell_type": "markdown",
   "metadata": {},
   "source": [
    "Our workflow did not pass with the given values, however now we know the parameter range in which it could pass.\n",
    "\n",
    "We modify the input parameters and examine the output of our workflow:"
   ]
  },
  {
   "cell_type": "code",
   "execution_count": null,
   "metadata": {},
   "outputs": [],
   "source": [
    "parameters = [80, 85]\n",
    "wf = experiment(parameters=parameters, threshold=100)\n",
    "result = wf.run()\n",
    "print(\"Workflow outcome: \", result.output)"
   ]
  },
  {
   "cell_type": "markdown",
   "metadata": {},
   "source": [
    "## Inspect a workflow that has failed\n",
    "\n",
    "In case there is an error during the execution of a workflow, we can still inspect the tasks that have run up to the task that triggered the error using `recover()`. Note that `recover()` stores only one execution result and can only be called once; a second call to `recover()` raises an exception.\n",
    "\n",
    "For experiment workflows, this is useful for debugging a failed compilation task by inspecting the experiment sequence produced by the previous task. \n",
    "\n",
    "In this example, we will add an assertion error to the `analyze` task."
   ]
  },
  {
   "cell_type": "code",
   "execution_count": null,
   "metadata": {},
   "outputs": [],
   "source": [
    "@workflow.task\n",
    "def measure() -> int:\n",
    "    return 100\n",
    "\n",
    "\n",
    "@workflow.task\n",
    "def analyze(measurement_result: int, threshold: int) -> str:\n",
    "    # let's add an error in this task\n",
    "    if not (measurement_result >= 100 and threshold >= 100):\n",
    "        raise RuntimeError(\"Something went wrong.\")\n",
    "    if measurement_result < threshold:\n",
    "        return \"PASS\"\n",
    "    return \"FAIL\"\n",
    "\n",
    "\n",
    "@workflow.workflow\n",
    "def experiment(threshold: int):\n",
    "    measurement = measure()\n",
    "    result = analyze(measurement, threshold)\n",
    "    workflow.return_(result)"
   ]
  },
  {
   "cell_type": "code",
   "execution_count": null,
   "metadata": {
    "tags": [
     "raises-exception"
    ]
   },
   "outputs": [],
   "source": [
    "result = experiment(99).run()"
   ]
  },
  {
   "cell_type": "code",
   "execution_count": null,
   "metadata": {},
   "outputs": [],
   "source": [
    "recovered_result = experiment.recover()\n",
    "recovered_result"
   ]
  },
  {
   "cell_type": "code",
   "execution_count": null,
   "metadata": {},
   "outputs": [],
   "source": [
    "# Check that the measure task returns a result that is >= 100\n",
    "recovered_result.tasks[\"measure\"].output"
   ]
  },
  {
   "cell_type": "code",
   "execution_count": null,
   "metadata": {},
   "outputs": [],
   "source": [
    "# Check the value of the threshold passed to the taskbook\n",
    "recovered_result.output"
   ]
  },
  {
   "cell_type": "code",
   "execution_count": null,
   "metadata": {},
   "outputs": [],
   "source": [
    "# Now we know we have to increase the value of the threshold\n",
    "result = experiment(101).run()\n",
    "result.output"
   ]
  },
  {
   "cell_type": "markdown",
   "metadata": {},
   "source": [
    "## Run a partial Workflow\n",
    "\n",
    "In some cases during development, only parts of a workflow need to be executed.\n",
    "For this reason, workflows can be \n",
    "executed until a specific `task` within the workflow.\n",
    "\n",
    "In the example below, we will use the previously defined workflow and execute only\n",
    "the `measure()` part of the workflow to validate everything is working as expected before\n",
    "continuing to `analyze()` and finishing the workflow."
   ]
  },
  {
   "cell_type": "markdown",
   "metadata": {},
   "source": [
    "First we run the experiment workflow with an `until` argument"
   ]
  },
  {
   "cell_type": "code",
   "execution_count": null,
   "metadata": {},
   "outputs": [],
   "source": [
    "exp = experiment(100)\n",
    "partial_result = exp.run(until=\"measure\")\n",
    "partial_result.tasks"
   ]
  },
  {
   "cell_type": "code",
   "execution_count": null,
   "metadata": {},
   "outputs": [],
   "source": [
    "# Inspect the partial result\n",
    "print(partial_result.tasks)\n",
    "print(partial_result.tasks[0].output)\n",
    "print(partial_result.output)"
   ]
  },
  {
   "cell_type": "markdown",
   "metadata": {},
   "source": [
    "After checking that our simple task works as expected, the workflow can be resumed\n",
    "by calling `.resume()` without the `until` argument.\n",
    "\n",
    "The already-executed tasks are not executed again, and their results are used in the following\n",
    "workflow execution."
   ]
  },
  {
   "cell_type": "code",
   "execution_count": null,
   "metadata": {},
   "outputs": [],
   "source": [
    "result = exp.resume()\n",
    "print(result.tasks)\n",
    "print(result.output)"
   ]
  },
  {
   "cell_type": "markdown",
   "metadata": {},
   "source": [
    "## Nested workflows\n",
    "\n",
    "Workflows can be nested and they behave just like tasks within another workflow as they have inputs\n",
    "and an output.\n",
    "\n",
    "To define a workflow within a workflow, it should not be initialized, but instead a Python function\n",
    "decorated with `@workflow` should be called with desired arguments.\n",
    "\n",
    "As the workflow definition is building the graph of tasks and workflows to execute, the \n",
    "`workflow(...)` inside a workflow adds a sub-graph to the workflow being built.\n",
    "\n",
    "When a workflow decorated function is called within another workflow it does not return a\n",
    "`Workflow` instance, but the result of that workflow. This is the same object when `Workflow.run()` is\n",
    "called outside of a workflow definition."
   ]
  },
  {
   "cell_type": "markdown",
   "metadata": {},
   "source": [
    "### Building and running a nested workflow\n",
    "\n",
    "In the example below, we will create a new workflow to calculate a threshold limit and pass it to the previously\n",
    "defined `experiment()` workflow and create a task to check the `output` of the `experiment()`"
   ]
  },
  {
   "cell_type": "code",
   "execution_count": null,
   "metadata": {},
   "outputs": [],
   "source": [
    "@workflow.task\n",
    "def calculate_threshold(value: int) -> int:\n",
    "    return value - 5\n",
    "\n",
    "\n",
    "@workflow.task\n",
    "def validate_experiment_result(result: str) -> str:\n",
    "    if result == \"PASS\":\n",
    "        return \"The experiment passed!\"\n",
    "    return \"The experiment failed!\"\n",
    "\n",
    "\n",
    "@workflow.workflow\n",
    "def calculate_threshold_experiment(value: int):\n",
    "    threshold = calculate_threshold(value)\n",
    "    result = experiment(threshold)\n",
    "    result_validation = validate_experiment_result(result.output)\n",
    "    workflow.return_(result_validation)"
   ]
  },
  {
   "cell_type": "code",
   "execution_count": null,
   "metadata": {},
   "outputs": [],
   "source": [
    "wf = calculate_threshold_experiment(110)\n",
    "result = wf.run()"
   ]
  },
  {
   "cell_type": "markdown",
   "metadata": {},
   "source": [
    "### Inspecting the results\n",
    "\n",
    "Nested workflow result exists within the top level `WorkflowResult` returned\n",
    "by `Workflow.run()`.\n",
    "\n",
    "The workflows can be inspected just like tasks."
   ]
  },
  {
   "cell_type": "code",
   "execution_count": null,
   "metadata": {},
   "outputs": [],
   "source": [
    "result.tasks"
   ]
  },
  {
   "cell_type": "code",
   "execution_count": null,
   "metadata": {},
   "outputs": [],
   "source": [
    "# Threshold task inspection\n",
    "result.tasks[\"calculate_threshold\"].output"
   ]
  },
  {
   "cell_type": "code",
   "execution_count": null,
   "metadata": {},
   "outputs": [],
   "source": [
    "# Inspecting the nested WorkflowResult produced by `experiment()` workflow\n",
    "result.tasks[\"experiment\"].tasks"
   ]
  },
  {
   "cell_type": "code",
   "execution_count": null,
   "metadata": {},
   "outputs": [],
   "source": [
    "result.tasks[\"validate_experiment_result\"].output"
   ]
  },
  {
   "cell_type": "markdown",
   "metadata": {},
   "source": [
    "## Inspecting the graph\n",
    "\n",
    "Workflow graph, alongside the nested ones, can be accessed via `Workflow.graph` attribute.\n",
    "\n",
    "We will use the workflow defined in the previous section."
   ]
  },
  {
   "cell_type": "markdown",
   "metadata": {},
   "source": [
    "### Getting graph as a tree"
   ]
  },
  {
   "cell_type": "code",
   "execution_count": null,
   "metadata": {},
   "outputs": [],
   "source": [
    "wf.graph.tree"
   ]
  }
 ],
 "metadata": {
  "kernelspec": {
   "display_name": "Python 3 (ipykernel)",
   "language": "python",
   "name": "python3"
  },
  "language_info": {
   "codemirror_mode": {
    "name": "ipython",
    "version": 3
   },
   "file_extension": ".py",
   "mimetype": "text/x-python",
   "name": "python",
   "nbconvert_exporter": "python",
   "pygments_lexer": "ipython3",
   "version": "3.12.7"
  }
 },
 "nbformat": 4,
 "nbformat_minor": 4
}
