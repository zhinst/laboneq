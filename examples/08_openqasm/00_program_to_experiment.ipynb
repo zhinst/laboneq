{
 "cells": [
  {
   "cell_type": "markdown",
   "metadata": {},
   "source": [
    "# OpenQASM with LabOne Q\n",
    "\n",
    "This is a tutorial on how to translate OpenQASM 3.0 programs into LabOne Q Experiments.\n",
    "\n",
    "The tutorial assumes that the reader has a basic understanding of OpenQASM, `laboneq` DSL objects, `QuantumElement`,  and `QuantumOperations`."
   ]
  },
  {
   "cell_type": "markdown",
   "metadata": {},
   "source": [
    "## Quickstart\n",
    "\n",
    "This is a quickstart on introducing the core objects needed for turning OpenQASM programs into `laboneq` `Experiment`s.\n",
    "\n",
    "We define a program with 2 qubits and a single-qubit X gate that sequentially acts on the qubits."
   ]
  },
  {
   "cell_type": "code",
   "execution_count": null,
   "metadata": {},
   "outputs": [],
   "source": [
    "program = \"\"\"\n",
    "OPENQASM 3;\n",
    "\n",
    "qubit q0;\n",
    "qubit q1;\n",
    "x q0;\n",
    "x q1;\n",
    "\"\"\""
   ]
  },
  {
   "cell_type": "markdown",
   "metadata": {},
   "source": [
    "###  Qubits\n",
    "\n",
    "We will define our `DeviceSetup` and three `Transmon` qubits `q0`, `q1`, and `q2` by using the helper function `generate_device_setup_qubits()`.\n",
    "\n",
    "These qubits are used for the rest of the examples in this notebook."
   ]
  },
  {
   "cell_type": "code",
   "execution_count": null,
   "metadata": {},
   "outputs": [],
   "source": [
    "from laboneq.contrib.example_helpers.generate_device_setup import (\n",
    "    generate_device_setup_qubits,\n",
    ")\n",
    "\n",
    "# Select the number of qubits\n",
    "number_of_qubits = 3\n",
    "\n",
    "# Generate the device setup and the qubit objects using a helper function\n",
    "device_setup, qubits = generate_device_setup_qubits(\n",
    "    number_qubits=number_of_qubits,\n",
    "    pqsc=[{\"serial\": \"DEV10001\"}],\n",
    "    hdawg=[\n",
    "        {\n",
    "            \"serial\": \"DEV8001\",\n",
    "            \"zsync\": 0,\n",
    "            \"number_of_channels\": 8,\n",
    "            \"options\": None,\n",
    "        }\n",
    "    ],\n",
    "    shfqa=[\n",
    "        {\n",
    "            \"serial\": \"DEV12001\",\n",
    "            \"zsync\": 1,\n",
    "            \"readout_multiplex\": 6,\n",
    "            \"options\": None,\n",
    "        }\n",
    "    ],\n",
    "    shfsg=[\n",
    "        {\n",
    "            \"serial\": \"DEV12002\",\n",
    "            \"zsync\": 2,\n",
    "            \"number_of_channels\": 8,\n",
    "            \"options\": None,\n",
    "        }\n",
    "    ],\n",
    "    include_flux_lines=True,\n",
    "    server_host=\"localhost\",\n",
    "    setup_name=f\"my_{number_of_qubits}_tunable_qubit_setup\",\n",
    ")"
   ]
  },
  {
   "cell_type": "markdown",
   "metadata": {},
   "source": [
    "### QuantumOperations\n",
    "\n",
    "Quantum operations map to OpenQASM gates and operations that act on qubits."
   ]
  },
  {
   "cell_type": "code",
   "execution_count": null,
   "metadata": {},
   "outputs": [],
   "source": [
    "from laboneq import simple\n",
    "from laboneq.dsl import quantum"
   ]
  },
  {
   "cell_type": "code",
   "execution_count": null,
   "metadata": {},
   "outputs": [],
   "source": [
    "class TransmonOperations(quantum.QuantumOperations):\n",
    "    QUBIT_TYPES = simple.Transmon\n",
    "\n",
    "    @quantum.quantum_operation\n",
    "    def x(self, qubit):\n",
    "        # Implement x gate\n",
    "        ..."
   ]
  },
  {
   "cell_type": "markdown",
   "metadata": {},
   "source": [
    "Initialize a `QPU` with selected qubits and `QuantumOperations`."
   ]
  },
  {
   "cell_type": "code",
   "execution_count": null,
   "metadata": {},
   "outputs": [],
   "source": "qpu = quantum.QPU(quantum_elements=qubits, quantum_operations=TransmonOperations())"
  },
  {
   "cell_type": "markdown",
   "metadata": {},
   "source": [
    "### OpenQASM transpiler\n",
    "\n",
    "`laboneq` provides an `OpenQASMTranspiler`, which converts OpenQASM programs into target `QPU` compatible `Experiments`."
   ]
  },
  {
   "cell_type": "code",
   "execution_count": null,
   "metadata": {},
   "outputs": [],
   "source": [
    "from laboneq import openqasm3"
   ]
  },
  {
   "cell_type": "markdown",
   "metadata": {},
   "source": [
    "Initializing `OpenQASMTranspiler` with chosen `QPU`. \n",
    "\n",
    "This transpiler and attached `QPU` are used in the rest of the tutorial."
   ]
  },
  {
   "cell_type": "code",
   "execution_count": null,
   "metadata": {},
   "outputs": [],
   "source": [
    "transpiler = openqasm3.OpenQASMTranspiler(qpu)"
   ]
  },
  {
   "cell_type": "markdown",
   "metadata": {},
   "source": [
    "Now we'll use `OpenQASMTranspiler.experiment()` which generates an `Experiment` from given OpenQASM program.\n",
    "\n",
    "We map the qubits used within the OpenQASM program to the qubits provided by the `QPU` in the `qubit_map` argument."
   ]
  },
  {
   "cell_type": "code",
   "execution_count": null,
   "metadata": {},
   "outputs": [],
   "source": [
    "exp = transpiler.experiment(\n",
    "    program=program,\n",
    "    qubit_map={\"q0\": \"q0\", \"q1\": \"q1\"},\n",
    "    options=openqasm3.SingleProgramOptions(\n",
    "        count=2,\n",
    "        averaging_mode=simple.AveragingMode.CYCLIC,\n",
    "        acquisition_type=simple.AcquisitionType.RAW,\n",
    "        reset_oscillator_phase=False,\n",
    "    ),\n",
    ")"
   ]
  },
  {
   "cell_type": "markdown",
   "metadata": {},
   "source": [
    "The generated `Experiment` can be then compiled via `Session` and executed."
   ]
  },
  {
   "cell_type": "markdown",
   "metadata": {},
   "source": [
    "## Qubit mapping\n",
    "\n",
    "OpenQASM defined qubits can be mapped into LabOneQ Qubits via the `qubit_map` argument."
   ]
  },
  {
   "cell_type": "markdown",
   "metadata": {},
   "source": [
    "### Qubit register\n",
    "\n",
    "As mentioned above, qubits defined in the OpenQASM program can be mapped to LabOne Q Qubits via the `qubit_map` argument. Either individual qubits or qubit registers may be supplied in the mapping. Individual qubits may be OpenQASM \"logical\" qubits or hardware qubits. The different possibilities are demonstrated below.\n",
    "\n",
    "Qubit registers must be a list of qubits matching the size defined in the program."
   ]
  },
  {
   "cell_type": "code",
   "execution_count": null,
   "metadata": {},
   "outputs": [],
   "source": [
    "program = \"\"\"\n",
    "OPENQASM 3;\n",
    "qubit[2] qregister;\n",
    "\"\"\"\n",
    "\n",
    "exp = transpiler.experiment(\n",
    "    program=program,\n",
    "    qubit_map={\"qregister\": [\"q1\", \"q2\"]},\n",
    ")"
   ]
  },
  {
   "cell_type": "markdown",
   "metadata": {},
   "source": [
    "### Logical and hardware qubits"
   ]
  },
  {
   "cell_type": "code",
   "execution_count": null,
   "metadata": {},
   "outputs": [],
   "source": [
    "program = \"\"\"\n",
    "OPENQASM 3;\n",
    "qubit q0;\n",
    "x q0;\n",
    "x $2;\n",
    "\"\"\"\n",
    "\n",
    "exp = transpiler.experiment(\n",
    "    program=program,\n",
    "    qubit_map={\"q0\": \"q0\", \"$2\": \"q1\"},\n",
    ")"
   ]
  },
  {
   "cell_type": "markdown",
   "metadata": {},
   "source": [
    "## Gates and operations\n",
    "\n",
    "The OpenQASM gates are implemented via `QuantumOperations`.\n",
    "\n",
    "By default the name of the gates/operations are mapped to the identically named operations defined in `QuantumOperations`.\n",
    "\n",
    "The qubits on which the gate is applied to, is always supplied first to the quantum operation. The qubit arguments\n",
    "are in the same order as defined in the program."
   ]
  },
  {
   "cell_type": "markdown",
   "metadata": {},
   "source": [
    "#### Fixed gates\n",
    "\n",
    "Fixed gates are always supplied by the mapped qubits."
   ]
  },
  {
   "cell_type": "code",
   "execution_count": null,
   "metadata": {},
   "outputs": [],
   "source": [
    "\"\"\"\n",
    "OPENQASM 3;\n",
    "qubit q0;\n",
    "x q0;\n",
    "cnot q0, q1;\n",
    "\"\"\"\n",
    "\n",
    "\n",
    "class TransmonOperations(quantum.QuantumOperations):\n",
    "    QUBIT_TYPES = simple.Transmon\n",
    "\n",
    "    @quantum.quantum_operation\n",
    "    def x(self, qubit): ...\n",
    "\n",
    "    @quantum.quantum_operation\n",
    "    def cnot(self, control, target): ..."
   ]
  },
  {
   "cell_type": "markdown",
   "metadata": {},
   "source": [
    "### Broadcasting\n",
    "\n",
    "When one of the inputs of the gate is a qubit register, the gate is broadcasted to all qubits in the register.\n",
    "\n",
    "In the example below, the X gate is applied to all qubits in the register simultaneously.\n",
    "We then apply the cnot gate two times, one with the pair `q0` and `qregister[0]`, and the other with the pair `q0` and `qregister[1]`."
   ]
  },
  {
   "cell_type": "code",
   "execution_count": null,
   "metadata": {},
   "outputs": [],
   "source": [
    "\"\"\"\n",
    "OPENQASM 3;\n",
    "qubit q0;\n",
    "qubit[2] qregister;\n",
    "x qregister;\n",
    "cnot q0, qregister;\n",
    "\"\"\""
   ]
  },
  {
   "cell_type": "markdown",
   "metadata": {},
   "source": [
    "#### Parametrized gates\n",
    "\n",
    "Parametrized gates are called on `QuantumOperations` in the following way.\n",
    "\n",
    "The qubits on which the gate is applied are always supplied first to the quantum operation.\n",
    "The rest of the variables are passed in as arguments."
   ]
  },
  {
   "cell_type": "code",
   "execution_count": null,
   "metadata": {},
   "outputs": [],
   "source": [
    "\"\"\"\n",
    "OPENQASM 3;\n",
    "qubit q0;\n",
    "x(pi/2) q0;\n",
    "\"\"\"\n",
    "\n",
    "\n",
    "class TransmonOperations(quantum.QuantumOperations):\n",
    "    QUBIT_TYPES = simple.Transmon\n",
    "\n",
    "    @quantum.quantum_operation\n",
    "    def x(self, qubit, angle):  # q0, pi/2\n",
    "        ..."
   ]
  },
  {
   "cell_type": "markdown",
   "metadata": {},
   "source": [
    "## Inputs\n",
    "\n",
    "Input mapping can be done via the `inputs` argument."
   ]
  },
  {
   "cell_type": "code",
   "execution_count": null,
   "metadata": {},
   "outputs": [],
   "source": [
    "program = \"\"\"\n",
    "OPENQASM 3;\n",
    "input bool a;\n",
    "\"\"\"\n",
    "\n",
    "exp = transpiler.experiment(program=program, qubit_map={}, inputs={\"a\": False})"
   ]
  },
  {
   "cell_type": "markdown",
   "metadata": {},
   "source": [
    "## Delay instruction\n",
    "\n",
    "Delays support SI units of time.\n",
    "Backend-dependent units are not supported. \n",
    "\n",
    "The following example demonstrates how to insert a delay of 100 ns on the qubit `q` and then a delay of 100 ns on the qubit register `qregister` between two `x` gates."
   ]
  },
  {
   "cell_type": "code",
   "execution_count": null,
   "metadata": {},
   "outputs": [],
   "source": [
    "program = \"\"\"\n",
    "OPENQASM 3;\n",
    "\n",
    "qubit q;\n",
    "qubit[2] qregister;\n",
    "\n",
    "x q;\n",
    "delay[100ns] q;\n",
    "delay[100ns] qregister;\n",
    "x q;\n",
    "\n",
    "\"\"\"\n",
    "\n",
    "exp = transpiler.experiment(\n",
    "    program=program, qubit_map={\"q\": \"q0\", \"qregister\": [\"q1\", \"q2\"]}\n",
    ")"
   ]
  },
  {
   "cell_type": "markdown",
   "metadata": {},
   "source": [
    "## Barrier instruction\n",
    "\n",
    "Barrier instruction is supported by default and is not required to be implemented in `QuantumOperations`.\n",
    "The default implementation will reserve all the signal lines on each qubit in `barrier` statement.\n",
    "\n",
    "The barrier instruction is supported via `QuantumOperations.barrier(*qubits)`.\n",
    "\n",
    "It is suggested for `barrier` to take arbitrary number of qubits, but this might change in the future when broadcasting \n",
    "is fully supported."
   ]
  },
  {
   "cell_type": "code",
   "execution_count": null,
   "metadata": {},
   "outputs": [],
   "source": [
    "program = \"\"\"\n",
    "OPENQASM 3;\n",
    "\n",
    "qubit q0;\n",
    "qubit q1;\n",
    "\n",
    "qubit[2] qregister;\n",
    "\n",
    "barrier;  // all qubits\n",
    "barrier q0;  // single qubit\n",
    "barrier q0, q1;  // Multiple qubits\n",
    "barrier qregister;  // apply barrier to all qubits in qregister\n",
    "\"\"\"\n",
    "\n",
    "\n",
    "class TransmonOperations(quantum.QuantumOperations):\n",
    "    QUBIT_TYPES = simple.Transmon\n",
    "\n",
    "    @quantum.quantum_operation\n",
    "    def barrier(self, *qubits):\n",
    "        # QuantumOperations will reserve all qubit signal lines by default\n",
    "        ..."
   ]
  },
  {
   "cell_type": "markdown",
   "metadata": {},
   "source": [
    "## Measurement\n",
    "\n",
    "The `measure` statement is supported via `QuantumOperations` by implementing a `measure(qubit, handle)` method.\n",
    "\n",
    "The `handle` is the name of the target `bit` defined in the program. \n",
    "It is up to the user to ensure the handles are unique across the produced `Experiment`."
   ]
  },
  {
   "cell_type": "code",
   "execution_count": null,
   "metadata": {},
   "outputs": [],
   "source": [
    "program = \"\"\"\n",
    "OPENQASM 3;\n",
    "\n",
    "qubit q0;\n",
    "qubit[2] qregister;\n",
    "bit b;\n",
    "bit[2] c;\n",
    "\n",
    "b = measure q0;\n",
    "c = measure qregister;\n",
    "\"\"\""
   ]
  },
  {
   "cell_type": "code",
   "execution_count": null,
   "metadata": {},
   "outputs": [],
   "source": [
    "class TransmonOperations(quantum.QuantumOperations):\n",
    "    QUBIT_TYPES = simple.Transmon\n",
    "\n",
    "    @quantum.quantum_operation\n",
    "    def measure(self, qubit, handle):\n",
    "        print(f\"Measurement is done with {qubit.uid} associated with handle {handle}\")\n",
    "\n",
    "\n",
    "transpiler_meas = openqasm3.OpenQASMTranspiler(\n",
    "    quantum.QPU(quantum_elements=qubits, quantum_operations=TransmonOperations())\n",
    ")\n",
    "\n",
    "exp = transpiler_meas.experiment(\n",
    "    program, qubit_map={\"q0\": \"q0\", \"qregister\": [\"q1\", \"q2\"]}\n",
    ")"
   ]
  },
  {
   "cell_type": "markdown",
   "metadata": {},
   "source": [
    "## Extern function calls\n",
    "\n",
    "Extern function calls can be mapped to Python `callable`s via the `externs` argument."
   ]
  },
  {
   "cell_type": "code",
   "execution_count": null,
   "metadata": {},
   "outputs": [],
   "source": [
    "program = \"\"\"\n",
    "OPENQASM 3;\n",
    "defcalgrammar \"openpulse\";\n",
    "\n",
    "extern elongate(duration, float[64]) -> duration;\n",
    "duration x = elongate(10ns, 3);\n",
    "\n",
    "qubit q;\n",
    "delay[x] q;\n",
    "\"\"\"\n",
    "\n",
    "\n",
    "def elongate(duration, multiple):\n",
    "    return duration * multiple\n",
    "\n",
    "\n",
    "exp = transpiler.experiment(\n",
    "    program=program, qubit_map={\"q\": \"q0\"}, externs={\"elongate\": elongate}\n",
    ")"
   ]
  },
  {
   "cell_type": "markdown",
   "metadata": {},
   "source": [
    "## Pragmas\n",
    "\n",
    "`laboneq` has specific pragma syntax to define experiment values, `zi.<value>`.\n",
    "\n",
    "Currently supported pragmas:\n",
    "\n",
    "- `zi.acquisition_type <AcquisitionType>`: Sets the experiment real time loop acquisition type"
   ]
  },
  {
   "cell_type": "code",
   "execution_count": null,
   "metadata": {},
   "outputs": [],
   "source": [
    "program = \"\"\"\n",
    "OPENQASM 3;\n",
    "\n",
    "pragma zi.acquisition_type raw\n",
    "\"\"\"\n",
    "\n",
    "exp = transpiler.experiment(\n",
    "    program=program,\n",
    "    qubit_map={},\n",
    ")\n",
    "print(exp.sections[0].acquisition_type)"
   ]
  },
  {
   "cell_type": "markdown",
   "metadata": {},
   "source": [
    "## Openpulse grammar"
   ]
  },
  {
   "cell_type": "markdown",
   "metadata": {},
   "source": [
    "#### Ports\n",
    "\n",
    "The port mapping from program defined ports to LabOne Q Qubit signals can be done via `externs` argument."
   ]
  },
  {
   "cell_type": "code",
   "execution_count": null,
   "metadata": {},
   "outputs": [],
   "source": [
    "program = \"\"\"\n",
    "OPENQASM 3;\n",
    "include \"stdgates.inc\";\n",
    "defcalgrammar \"openpulse\";\n",
    "\n",
    "const int frequency = 4.5e9;\n",
    "cal {\n",
    "    extern port drive;\n",
    "    frame frame0 = newframe(drive, 6.1e9, 0.0);\n",
    "    set_frequency(frame0, frequency);\n",
    "}\n",
    "\"\"\"\n",
    "\n",
    "exp = transpiler.experiment(\n",
    "    program=program,\n",
    "    qubit_map={\"q0\": \"q0\"},\n",
    "    externs={\"drive\": openqasm3.port(\"q0\", \"drive\")},\n",
    ")"
   ]
  },
  {
   "cell_type": "markdown",
   "metadata": {},
   "source": [
    "#### Setting the frequency"
   ]
  },
  {
   "cell_type": "code",
   "execution_count": null,
   "metadata": {},
   "outputs": [],
   "source": [
    "program = \"\"\"\n",
    "OPENQASM 3;\n",
    "include \"stdgates.inc\";\n",
    "defcalgrammar \"openpulse\";\n",
    "\n",
    "const int frequency = 4.5e9;\n",
    "cal {\n",
    "    extern port q0drive;\n",
    "    frame frame0 = newframe(q0drive, 6.1e9, 0.0);\n",
    "    set_frequency(frame0, frequency);\n",
    "}\n",
    "\"\"\"\n",
    "\n",
    "exp = transpiler.experiment(\n",
    "    program=program,\n",
    "    qubit_map={\"q0\": \"q0\"},\n",
    "    externs={\"q0drive\": openqasm3.port(\"q0\", \"drive\")},\n",
    ")"
   ]
  },
  {
   "cell_type": "markdown",
   "metadata": {},
   "source": [
    "#### Playing a waveform\n",
    "\n",
    "`play()` is supported with `waveform` as an argument or as an implicit input.\n",
    "When waveform is used as an implicit input, they must be defined in `inputs` argument.\n",
    "\n",
    "`waveform` declared type must either be a `laboneq` `Pulse` or a list of samples."
   ]
  },
  {
   "cell_type": "markdown",
   "metadata": {},
   "source": [
    "Input waveform as an implicit argument"
   ]
  },
  {
   "cell_type": "code",
   "execution_count": null,
   "metadata": {},
   "outputs": [],
   "source": [
    "program = \"\"\"\n",
    "OPENQASM 3;\n",
    "include \"stdgates.inc\";\n",
    "defcalgrammar \"openpulse\";\n",
    "\n",
    "const int frequency = 4.5e9;\n",
    "\n",
    "cal {\n",
    "    extern port drive;\n",
    "    frame frame0 = newframe(drive, 6.1e9, 0.0);\n",
    "    play(frame0, wf0);\n",
    "}\n",
    "\"\"\"\n",
    "\n",
    "exp = transpiler.experiment(\n",
    "    program=program,\n",
    "    qubit_map={\"q0\": \"q0\"},\n",
    "    externs={\"drive\": openqasm3.port(\"q0\", \"drive\")},\n",
    "    inputs={\n",
    "        \"wf0\": simple.pulse_library.gaussian_square(\n",
    "            uid=\"q0_readout\", length=2e-7, amplitude=0.5\n",
    "        )\n",
    "    },\n",
    ")"
   ]
  },
  {
   "cell_type": "markdown",
   "metadata": {},
   "source": [
    "Input `waveform` from an `extern`"
   ]
  },
  {
   "cell_type": "code",
   "execution_count": null,
   "metadata": {},
   "outputs": [],
   "source": [
    "program = \"\"\"\n",
    "OPENQASM 3;\n",
    "defcalgrammar \"openpulse\";\n",
    "\n",
    "cal {\n",
    "    extern constant_pulse(complex[float[64]], duration) -> waveform;\n",
    "}\n",
    "\n",
    "cal {\n",
    "    waveform two_ten_ns = constant_pulse(0.7, 10ns);\n",
    "    extern port drive;\n",
    "    frame frame0 = newframe(drive, 6.1e9, 0.0);\n",
    "    play(frame0, two_ten_ns);\n",
    "}\n",
    "\"\"\"\n",
    "\n",
    "\n",
    "def constant_pulse(amplitude, duration):\n",
    "    return simple.pulse_library.const(amplitude=amplitude, length=duration)\n",
    "\n",
    "\n",
    "exp = transpiler.experiment(\n",
    "    program=program,\n",
    "    qubit_map={\"q0\": \"q0\"},\n",
    "    externs={\"constant_pulse\": constant_pulse, \"drive\": openqasm3.port(\"q0\", \"drive\")},\n",
    ")"
   ]
  },
  {
   "cell_type": "markdown",
   "metadata": {},
   "source": [
    "## Experiment settings\n",
    "\n",
    "A set of LabOne Q specific `Experiment` settings can be supplied to the transpiler."
   ]
  },
  {
   "cell_type": "code",
   "execution_count": null,
   "metadata": {},
   "outputs": [],
   "source": [
    "program = \"\"\"\n",
    "OPENQASM 3;\n",
    "\n",
    "qubit q0;\n",
    "qubit q1;\n",
    "x q0;\n",
    "x q1;\n",
    "\"\"\"\n",
    "\n",
    "exp = transpiler.experiment(\n",
    "    program=program,\n",
    "    qubit_map={\"q0\": \"q0\", \"q1\": \"q1\"},\n",
    "    options=openqasm3.SingleProgramOptions(\n",
    "        count=2,\n",
    "        averaging_mode=simple.AveragingMode.CYCLIC,\n",
    "        acquisition_type=simple.AcquisitionType.RAW,\n",
    "        reset_oscillator_phase=False,\n",
    "    ),\n",
    ")"
   ]
  },
  {
   "cell_type": "markdown",
   "metadata": {},
   "source": [
    "## Combine multiple QASM programs\n",
    "\n",
    "Multiple OpenQASM programs can be combined into a single `Experiment` by using `OpenQASMTranspiler.batch_experiment()`.\n",
    "\n",
    "The mapping arguments are similar to single programs and are shared among the programs.\n",
    "\n",
    "The generated experiment content outside of programs can be controlled via `MultiProgramOptions`"
   ]
  },
  {
   "cell_type": "markdown",
   "metadata": {},
   "source": [
    "### Add a measurement\n",
    "\n",
    "By default the multi program experiment adds a measurement for all used qubits.\n",
    "This can be controlled via `MultiProgramOptions.add_measurement` flag.\n",
    "\n",
    "When measurement is used, the `QuantumOperations` associated with qubits must have `measure` operation defined.\n",
    "The measure is added after the OpenQASM programs.\n",
    "\n",
    "The `handle` is the name of the target `qubit` defined in the program."
   ]
  },
  {
   "cell_type": "code",
   "execution_count": null,
   "metadata": {},
   "outputs": [],
   "source": [
    "class TransmonOperations(quantum.QuantumOperations):\n",
    "    QUBIT_TYPES = simple.Transmon\n",
    "\n",
    "    @quantum.quantum_operation\n",
    "    def x(self, qubit): ...\n",
    "\n",
    "    @quantum.quantum_operation\n",
    "    def measure(self, qubit, handle):\n",
    "        # measure is called with qubit and handle name\n",
    "        ...\n",
    "\n",
    "\n",
    "qpu = quantum.QPU(quantum_elements=qubits, quantum_operations=TransmonOperations())\n",
    "transpiler = openqasm3.OpenQASMTranspiler(qpu)"
   ]
  },
  {
   "cell_type": "code",
   "execution_count": null,
   "metadata": {},
   "outputs": [],
   "source": [
    "program_0 = \"\"\"\n",
    "OPENQASM 3;\n",
    "qubit q1;\n",
    "x q1;\n",
    "\"\"\"\n",
    "\n",
    "program_1 = \"\"\"\n",
    "OPENQASM 3;\n",
    "qubit q1;\n",
    "qubit q2;\n",
    "x q1;\n",
    "x q2;\n",
    "\"\"\"\n",
    "\n",
    "exp = transpiler.batch_experiment(\n",
    "    programs=[program_0, program_1],\n",
    "    qubit_map={\"q1\": \"q0\", \"q2\": \"q1\"},\n",
    "    options=openqasm3.MultiProgramOptions(\n",
    "        add_measurement=True,\n",
    "    ),\n",
    ")"
   ]
  },
  {
   "cell_type": "markdown",
   "metadata": {},
   "source": [
    "### Add a qubit reset\n",
    "\n",
    "When `MultiProgramOptions.add_reset` is set to `True` (default: `False`), an reset operation is added\n",
    "for each qubit used in the `Experiment`.\n",
    "\n",
    "Reset expects an `reset()` operation to be defined in `QuantumOperations`.\n",
    "\n",
    "Reset is added before the OpenQASM programs are executed."
   ]
  },
  {
   "cell_type": "code",
   "execution_count": null,
   "metadata": {},
   "outputs": [],
   "source": [
    "class TransmonOperations(quantum.QuantumOperations):\n",
    "    QUBIT_TYPES = simple.Transmon\n",
    "\n",
    "    @quantum.quantum_operation\n",
    "    def x(self, qubit): ...\n",
    "\n",
    "    @quantum.quantum_operation\n",
    "    def reset(self, qubit): ...\n",
    "\n",
    "\n",
    "qpu = quantum.QPU(quantum_elements=qubits, quantum_operations=TransmonOperations())\n",
    "transpiler = openqasm3.OpenQASMTranspiler(qpu)\n",
    "\n",
    "\n",
    "exp = transpiler.batch_experiment(\n",
    "    programs=[program_0, program_1],\n",
    "    qubit_map={\"q1\": \"q0\", \"q2\": \"q1\"},\n",
    "    options=openqasm3.MultiProgramOptions(add_reset=True, add_measurement=False),\n",
    ")"
   ]
  }
 ],
 "metadata": {
  "kernelspec": {
   "display_name": "laboneq",
   "language": "python",
   "name": "python3"
  },
  "language_info": {
   "codemirror_mode": {
    "name": "ipython",
    "version": 3
   },
   "file_extension": ".py",
   "mimetype": "text/x-python",
   "name": "python",
   "nbconvert_exporter": "python",
   "pygments_lexer": "ipython3"
  }
 },
 "nbformat": 4,
 "nbformat_minor": 2
}
