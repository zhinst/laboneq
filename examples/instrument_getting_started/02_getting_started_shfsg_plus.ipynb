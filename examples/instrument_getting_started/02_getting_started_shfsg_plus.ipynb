{
 "cells": [
  {
   "cell_type": "markdown",
   "metadata": {},
   "source": [
    "# Getting Started With the SHFSG+"
   ]
  },
  {
   "cell_type": "markdown",
   "metadata": {},
   "source": [
    "## Device Setup and Data Server\n",
    "\n",
    "Let's start by creating a `DeviceSetup` with a single SHFSG+ instrument. To learn more about what a `DeviceSetup` is and how to use it, have a look at [this page](https://docs.zhinst.com/labone_q_user_manual/core/functionality_and_concepts/00_device_setup/concepts/index.html).\n",
    "\n",
    "First, we import `laboneq.simple`, which contains the `DeviceSetup`."
   ]
  },
  {
   "cell_type": "code",
   "execution_count": 1,
   "metadata": {
    "ExecuteTime": {
     "end_time": "2025-06-05T11:55:03.248924Z",
     "start_time": "2025-06-05T11:54:50.706201Z"
    }
   },
   "outputs": [],
   "source": [
    "from laboneq.simple import *"
   ]
  },
  {
   "cell_type": "markdown",
   "metadata": {},
   "source": [
    "Create the `DeviceSetup` with the information about the data server it should connect to. Here, we use \"localhost\". Change this to the LabOne data server that is running on your computer. You can find the IP address of LabOne data server by navigating to Config > Data Server > Host in the LabOne UI.\n",
    "\n",
    "Note that calling `add_dataserver` below does not attempt to make the connection yet. This will be done only upon calling `Session.connect()`."
   ]
  },
  {
   "cell_type": "code",
   "execution_count": 2,
   "metadata": {
    "ExecuteTime": {
     "end_time": "2025-06-05T11:55:03.639445Z",
     "start_time": "2025-06-05T11:55:03.627629Z"
    }
   },
   "outputs": [],
   "source": [
    "device_setup = DeviceSetup(\"ZI_SHFSG+\")\n",
    "device_setup.add_dataserver(\n",
    "    host=\"111.22.33.44\",\n",
    "    port=\"8004\",\n",
    ")"
   ]
  },
  {
   "cell_type": "markdown",
   "metadata": {},
   "source": [
    "Create an `SHFSG` instrument, which was imported from `laboneq.simple`, and add it to the `DeviceSetup`. \n",
    "\n",
    "When creating the instrument instance, you need to specify the device ID under `address`; for example, `dev12345`.\n",
    "\n",
    "If you do not have an active LabOne data server running to connect to the instrument, you also need to specify the `device_options` that are installed on your instrument. These options are used to ensure a correct experiment compilation for your system.\n",
    "\n",
    "The possible options you can set for an SHFSG instrument are:\n",
    "* either `\"SHFSG8\"` if you have an 8-channel instrument or `\"SHFSG4\"` for the 4-channel version;\n",
    "* `PLUS` if you have the SHFSG+;\n",
    "* `\"RTR\"` for the output router and adder option.\n",
    "\n",
    "When passing these options to the instrument, add them in any order, separated by a forward slash (`\"/\"`). Below, we will use `device_options=\"SHFSG8/PLUS/RTR\"`. Have a look at [this page](https://docs.zhinst.com/labone_q_user_manual/core/functionality_and_concepts/00_device_setup/concepts/01_instrument_options.html) to learn more about the possible options of our instruments.\n",
    "\n",
    "You can also pass additional input parameters to configure your instrument:\n",
    "  \n",
    "* the `interface` over which to connect to the instrument, either `\"1GbE\"` (default) or `\"usb\"`. Note that **to ensure the stability of the connection to the instrument, we recommend to use the ethernet interface instead of USB**;\n",
    "\n",
    "* the `reference_clock_source` for the instrument, either as `\"internal\"` to use the instrument's own internal reference clock, or `\"external\"` (default) if you are using an external source like the PQSC instrument, for example."
   ]
  },
  {
   "cell_type": "code",
   "execution_count": 3,
   "metadata": {
    "ExecuteTime": {
     "end_time": "2025-06-05T11:55:03.720923Z",
     "start_time": "2025-06-05T11:55:03.712788Z"
    }
   },
   "outputs": [],
   "source": [
    "shfsg = SHFSG(\n",
    "    uid=\"shfsg\",\n",
    "    address=\"dev12345\",\n",
    "    interface=\"1GbE\",\n",
    "    device_options=\"SHFSG8/PLUS/RTR\",\n",
    "    reference_clock_source=\"internal\",\n",
    ")\n",
    "\n",
    "device_setup.add_instruments(shfsg)"
   ]
  },
  {
   "cell_type": "markdown",
   "metadata": {},
   "source": "Next, we create connections to each of the 8 ports of the instrument and add these connections to the `DeviceSetup`. These connections are represented in LabOne Q as [logical signal lines](https://docs.zhinst.com/labone_q_user_manual/core/functionality_and_concepts/02_logical_signals/concepts/index.html) between the instruments and your device under test. Here, we assume the device under test is an eight-qubit QPU and use the physical lines of these qubits as a naming convention for our signal lines. Note that the instances of the `LogicalSignal`s will be created automatically by the `add_connections` method of `DeviceSetup`, with the names that we have specified."
  },
  {
   "cell_type": "code",
   "execution_count": 4,
   "metadata": {
    "ExecuteTime": {
     "end_time": "2025-06-05T11:55:03.770041Z",
     "start_time": "2025-06-05T11:55:03.761935Z"
    }
   },
   "outputs": [],
   "source": [
    "# Create drive lines for all 8 qubits, connected to the 8 SG channels on the instrument.\n",
    "\n",
    "for idx in range(8):\n",
    "    device_setup.add_connections(\n",
    "        \"shfsg\",\n",
    "        create_connection(\n",
    "            to_signal=f\"q{idx}/drive\", ports=f\"SGCHANNELS/{idx}/OUTPUT\", type=\"iq\"\n",
    "        ),\n",
    "    )"
   ]
  },
  {
   "cell_type": "markdown",
   "metadata": {},
   "source": [
    "You can inspect the `LogicalSignal`s that have been created by calling `device_setup.logical_signal_by_uid(signal_name)`; for example:"
   ]
  },
  {
   "cell_type": "code",
   "execution_count": 5,
   "metadata": {
    "ExecuteTime": {
     "end_time": "2025-06-05T11:55:03.880677Z",
     "start_time": "2025-06-05T11:55:03.838744Z"
    }
   },
   "outputs": [
    {
     "data": {
      "text/plain": [
       "\u001B[1;35mLogicalSignal\u001B[0m\u001B[1m(\u001B[0m\n",
       "\u001B[2;32m│   \u001B[0m\u001B[33muid\u001B[0m=\u001B[32m'q0/drive'\u001B[0m,\n",
       "\u001B[2;32m│   \u001B[0m\u001B[33mdirection\u001B[0m=\u001B[35mIODirection\u001B[0m.OUT,\n",
       "\u001B[2;32m│   \u001B[0m\u001B[33mname\u001B[0m=\u001B[32m'drive'\u001B[0m,\n",
       "\u001B[2;32m│   \u001B[0m\u001B[33mcalibration\u001B[0m=\u001B[3;35mNone\u001B[0m,\n",
       "\u001B[2;32m│   \u001B[0m\u001B[33mpath\u001B[0m=\u001B[32m'/logical_signal_groups/q0/drive'\u001B[0m,\n",
       "\u001B[2;32m│   \u001B[0m\u001B[33mphysical_channel\u001B[0m=\u001B[1;35mPhysicalChannel\u001B[0m\u001B[1m(\u001B[0m\n",
       "\u001B[2;32m│   │   \u001B[0m\u001B[33muid\u001B[0m=\u001B[32m'shfsg/sgchannels_0_output'\u001B[0m,\n",
       "\u001B[2;32m│   │   \u001B[0m\u001B[33mname\u001B[0m=\u001B[32m'sgchannels_0_output'\u001B[0m,\n",
       "\u001B[2;32m│   │   \u001B[0m\u001B[33mtype\u001B[0m=\u001B[1m<\u001B[0m\u001B[1;95mPhysicalChannelType.IQ_CHANNEL:\u001B[0m\u001B[39m \u001B[0m\u001B[32m'iq_channel'\u001B[0m\u001B[1m>\u001B[0m,\n",
       "\u001B[2;32m│   │   \u001B[0m\u001B[33mpath\u001B[0m=\u001B[32m'/physical_channel_groups/shfsg/sgchannels_0_output'\u001B[0m,\n",
       "\u001B[2;32m│   │   \u001B[0m\u001B[33mcalibration\u001B[0m=\u001B[3;35mNone\u001B[0m\n",
       "\u001B[2;32m│   \u001B[0m\u001B[1m)\u001B[0m\n",
       "\u001B[1m)\u001B[0m\n"
      ]
     },
     "execution_count": 5,
     "metadata": {},
     "output_type": "execute_result"
    }
   ],
   "source": [
    "device_setup.logical_signal_by_uid(\"q0/drive\")"
   ]
  },
  {
   "cell_type": "markdown",
   "metadata": {},
   "source": [
    "Next, we need to configure the `calibration` of the signal lines of the `DeviceSetup`. We will set the most common properties:\n",
    "\n",
    "* `range` - the output power range in dBm;\n",
    "* `local_oscillator` - an instance of `Oscillator` where we specify the local oscillator frequency;\n",
    "* `oscillator` - an instance of `Oscillator` where we specify the IF frequency that will be mixed with local oscillator frequency.\n",
    "\n",
    "Keep in mind that the channels in each of the channel pairs 0-1, 2-3, 4-5, 6-7 share the local oscillator, so the local oscillator for these channels in these channel pairs must be configured with the same frequency value."
   ]
  },
  {
   "cell_type": "code",
   "execution_count": 9,
   "metadata": {
    "ExecuteTime": {
     "end_time": "2025-06-05T11:55:04.514435Z",
     "start_time": "2025-06-05T11:55:04.505898Z"
    }
   },
   "outputs": [],
   "source": [
    "drive_lo_01 = Oscillator(frequency=6e9)\n",
    "drive_lo_23 = Oscillator(frequency=6.2e9)\n",
    "drive_lo_45 = Oscillator(frequency=6.4e9)\n",
    "drive_lo_67 = Oscillator(frequency=6.6e9)\n",
    "\n",
    "config = Calibration()\n",
    "for idx, drive_lo in enumerate([drive_lo_01, drive_lo_23, drive_lo_45, drive_lo_67]):\n",
    "    config[f\"q{2 * idx}/drive\"] = SignalCalibration(\n",
    "        local_oscillator=drive_lo, oscillator=Oscillator(frequency=100e6), range=10\n",
    "    )\n",
    "    config[f\"q{2 * idx + 1}/drive\"] = SignalCalibration(\n",
    "        local_oscillator=drive_lo, oscillator=Oscillator(frequency=100e6), range=10\n",
    "    )\n",
    "\n",
    "# Apply the configuration to the DeviceSetup\n",
    "device_setup.set_calibration(config)"
   ]
  },
  {
   "cell_type": "markdown",
   "metadata": {},
   "source": [
    "Great! We have our `DeviceSetup` for a single SHFSG+ instrument.\n",
    "\n",
    "Before we can play a signal on the instrument, we first have to connect it to the LabOne data server via the LabOne Q [Session](https://docs.zhinst.com/labone_q_user_manual/core/functionality_and_concepts/01_session/concepts/index.html). Here, we connect in emulation mode by calling `Session.connect` with `do_emulation=True`. Set this flag to False in order to connect to a physical setup."
   ]
  },
  {
   "cell_type": "code",
   "execution_count": null,
   "metadata": {},
   "outputs": [],
   "source": [
    "session = Session(device_setup)\n",
    "session.connect(do_emulation=True)  # do_emulation=False when at a physical setup"
   ]
  },
  {
   "cell_type": "markdown",
   "metadata": {},
   "source": [
    "## Generate a Simple Experiment\n",
    "\n",
    "Let's create a simple experiment that plays back a 200-ns gaussian pulse on all of the 8 drive channels. In addition, we will sweep the amplitude of the pulses.\n",
    "\n",
    "To learn more about the `Experiment` object and how to write experiments in LabOne Q, have a look at the [\"Experiment Definition\"](https://docs.zhinst.com/labone_q_user_manual/core/functionality_and_concepts/05_experiment/concepts/index.html) and [\"Writing and Experiment Workflow\"](https://docs.zhinst.com/labone_q_user_manual/applications_library/tutorials/sources/writing_experiments.html#write-the-experiment-pulse-sequence) sections of the manual."
   ]
  },
  {
   "cell_type": "code",
   "execution_count": null,
   "metadata": {},
   "outputs": [],
   "source": [
    "import numpy as np\n",
    "\n",
    "\n",
    "@dsl.experiment(signals=[f\"q{idx}_drive\" for idx in range(8)])\n",
    "def simple_experiment(count):\n",
    "    with dsl.acquire_loop_rt(\n",
    "        count=count,\n",
    "        averaging_mode=AveragingMode.CYCLIC,\n",
    "        acquisition_type=AcquisitionType.INTEGRATION,\n",
    "    ):\n",
    "        with dsl.sweep(\n",
    "            name=\"amplitude_sweep\",\n",
    "            parameter=SweepParameter(\"drive_pulse_amplitudes\", np.linspace(0, 1, 7)),\n",
    "        ) as amplitude:\n",
    "            for idx in range(8):\n",
    "                with dsl.section(name=f\"play-drive-pulse_q{idx}\"):\n",
    "                    dsl.play(\n",
    "                        f\"q{idx}_drive\",\n",
    "                        pulse_library.gaussian(amplitude=1, length=200e-9),\n",
    "                        amplitude=amplitude,\n",
    "                    )\n",
    "                    dsl.delay(f\"q{idx}_drive\", time=0.5e-6)\n",
    "\n",
    "    # Map the ExperimentSignals \"q{idx}_drive\" to the logical signal lines defined in the `DeviceSetup`\n",
    "    for idx in range(8):\n",
    "        dsl.map_signal(f\"q{idx}_drive\", f\"q{idx}/drive\")"
   ]
  },
  {
   "cell_type": "markdown",
   "metadata": {},
   "source": "Next, we instantiate the `Experiment` by running the function `simple_experiment`."
  },
  {
   "cell_type": "code",
   "execution_count": null,
   "metadata": {},
   "outputs": [],
   "source": [
    "experiment = simple_experiment(5)"
   ]
  },
  {
   "cell_type": "markdown",
   "metadata": {},
   "source": [
    "Note that, the mapping between the `ExperimentSignal`s and the logical signal lines do not have to be done as part of `simple_experiment` but can also be done or modified on the `Experiment` instance returned by `simple_experiment` as follows:\n",
    "\n",
    "```python\n",
    "q0_ls = device_setup.logical_signal_groups[\"q0\"].logical_signals\n",
    "experiment.map_signal(f\"q{idx}_drive\", q_ls[\"drive\"])\n",
    "```\n",
    "\n",
    "You can also map an `ExperimentSignal` directly to a `LogicalSignal` instead of its UID, as written above."
   ]
  },
  {
   "cell_type": "markdown",
   "metadata": {},
   "source": [
    "Compile the simple_experiment and inspect it using `plot_simulation`:"
   ]
  },
  {
   "cell_type": "code",
   "execution_count": null,
   "metadata": {},
   "outputs": [],
   "source": [
    "compiled_experiment = session.compile(experiment)"
   ]
  },
  {
   "cell_type": "code",
   "execution_count": null,
   "metadata": {},
   "outputs": [],
   "source": [
    "from laboneq.contrib.example_helpers.plotting.plot_helpers import plot_simulation\n",
    "\n",
    "plot_simulation(compiled_experiment, start_time=0, length=5e-6)"
   ]
  },
  {
   "cell_type": "markdown",
   "metadata": {},
   "source": [
    "You can inspect your pulse sequence in more detail by using the interactive pulse-sheet viewer. Calling the function `show_pulse_sheet` creates an HTML file that you can open in your browser. To show the pulse sheet in the kernel, set `interactive=True`."
   ]
  },
  {
   "cell_type": "code",
   "execution_count": null,
   "metadata": {},
   "outputs": [],
   "source": [
    "show_pulse_sheet(\"simple_pulse_sequence\", compiled_experiment, interactive=True)"
   ]
  },
  {
   "cell_type": "markdown",
   "metadata": {},
   "source": [
    "Finally, let's run the pulse sequence on the instrument."
   ]
  },
  {
   "cell_type": "code",
   "execution_count": null,
   "metadata": {},
   "outputs": [],
   "source": [
    "_ = session.run()"
   ]
  }
 ],
 "metadata": {
  "kernelspec": {
   "display_name": "Python 3 (ipykernel)",
   "language": "python",
   "name": "python3"
  },
  "language_info": {
   "codemirror_mode": {
    "name": "ipython",
    "version": 3
   },
   "file_extension": ".py",
   "mimetype": "text/x-python",
   "name": "python",
   "nbconvert_exporter": "python",
   "pygments_lexer": "ipython3",
   "version": "3.13.2"
  }
 },
 "nbformat": 4,
 "nbformat_minor": 4
}
