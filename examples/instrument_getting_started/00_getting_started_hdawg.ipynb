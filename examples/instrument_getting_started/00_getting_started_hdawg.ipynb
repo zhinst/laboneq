{
 "cells": [
  {
   "cell_type": "markdown",
   "metadata": {},
   "source": [
    "# Getting Started With the HDAWG"
   ]
  },
  {
   "cell_type": "markdown",
   "metadata": {},
   "source": [
    "## Device Setup and Data Server\n",
    "\n",
    "Let's start by creating a `DeviceSetup` with a single HDAWG instrument. To learn more about what a `DeviceSetup` is and how to use it, have a look at [this page](https://docs.zhinst.com/labone_q_user_manual/core/functionality_and_concepts/00_device_setup/concepts/index.html).\n",
    "\n",
    "First, we import `laboneq.simple`, which contains the `DeviceSetup`."
   ]
  },
  {
   "cell_type": "code",
   "metadata": {},
   "source": [
    "from laboneq.simple import *\n",
    "from laboneq.contrib.example_helpers.plotting.plot_helpers import plot_simulation\n",
    "import numpy as np"
   ],
   "outputs": [],
   "execution_count": null
  },
  {
   "cell_type": "markdown",
   "metadata": {},
   "source": [
    "Create the `DeviceSetup` and add the information about the data server it should connect to. Note that calling `add_dataserver` does not attempt the connection yet. This will be done only upon calling `Session.connect`."
   ]
  },
  {
   "cell_type": "code",
   "metadata": {},
   "source": [
    "device_setup = DeviceSetup(\"ZI_HDAWG\")\n",
    "device_setup.add_dataserver(\n",
    "    host=\"localhost\",\n",
    "    port=\"8004\",\n",
    ")"
   ],
   "outputs": [],
   "execution_count": null
  },
  {
   "cell_type": "markdown",
   "metadata": {},
   "source": [
    "Create an `HDAWG` instrument, which was imported from `laboneq.simple`, and add it to the `DeviceSetup`. \n",
    "\n",
    "When creating the instrument instance, you need to specify the device ID under `address`; for example, `dev8123`.\n",
    "\n",
    "If you do not have an active LabOne data server running to connect to the instrument, you also need to specify the `device_options` that are installed on your instrument. These options are used to ensure a correct experiment compilation for your system. The possible options you can set for an HDAWG instrument are:\n",
    "\n",
    "* either `\"HDAWG8\"` if you have an 8-channel instrument or `\"HDAWG4\"` for the 4-channel version;\n",
    "* `\"CNT\"` for the pulse counter option;\n",
    "* `\"MF\"` for the multi-frequency option;\n",
    "* `\"ME\"` for the memory extension option;\n",
    "* `\"PC\"` for the real-time precompensation option;\n",
    "* `\"SKW\"` for the output skew control option.\n",
    "\n",
    "When passing these options to the instrument, add them in any order, separated by a forward slash (`\"/\"`). Below, we will use `device_options=\"HDAWG8/MF/CNT/PC\"`. Have a look at [this page](https://docs.zhinst.com/labone_q_user_manual/core/functionality_and_concepts/00_device_setup/concepts/01_instrument_options.html) to learn more about the possible options of our instruments.\n",
    "\n",
    "You can also pass additional input parameters to configure your instrument:\n",
    "  \n",
    "* the `interface` over which to connect to the instrument, either `\"1GbE\"` (default) or `\"usb\"`. Note that **to ensure the stability of the connection to the instrument, we recommend to use the ethernet interface instead of USB**;\n",
    "\n",
    "* the `reference_clock_source` for the instrument, either as `\"internal\"` to use the instrument's own internal reference clock, or `\"external\"` (default) if you are using an external source like the PQSC instrument, for example."
   ]
  },
  {
   "cell_type": "code",
   "metadata": {},
   "source": [
    "hdawg = HDAWG(\n",
    "    uid=\"hdawg\",\n",
    "    interface=\"1GbE\",\n",
    "    address=\"dev8123\",\n",
    "    device_options=\"HDAWG8/MF/CNT/PC\",\n",
    "    reference_clock_source=\"internal\",\n",
    ")\n",
    "\n",
    "device_setup.add_instruments(hdawg)"
   ],
   "outputs": [],
   "execution_count": null
  },
  {
   "cell_type": "markdown",
   "metadata": {},
   "source": "Next, we create connections to each of the 8 ports of the instrument and add these connections to the `DeviceSetup`. These connections are represented in LabOne Q as [logical signal lines](https://docs.zhinst.com/labone_q_user_manual/core/functionality_and_concepts/02_logical_signals/concepts/index.html) between the instruments and your device under test. Here, we assume the device under test is a six-qubit QPU and use the physical lines of these qubits as a naming convention for our signal lines. Note that the instances of the `LogicalSignal`s will be created automatically by the `add_connections` method of `DeviceSetup`, with the names that we have specified."
  },
  {
   "cell_type": "code",
   "metadata": {},
   "source": [
    "# Create flux lines for 6 qubits (signal type is \"rf\")\n",
    "for idx in range(4):\n",
    "    device_setup.add_connections(\n",
    "        \"hdawg\",\n",
    "        create_connection(to_signal=f\"q{idx}/flux\", ports=f\"SIGOUTS/{idx}\", type=\"rf\"),\n",
    "    )\n",
    "\n",
    "# Create a drive line for two qubits that use two ports of the HDAWG (signal type is \"iq\")\n",
    "device_setup.add_connections(\n",
    "    \"hdawg\",\n",
    "    create_connection(\n",
    "        to_signal=\"q4/drive\", ports=[\"SIGOUTS/4\", \"SIGOUTS/5\"], type=\"iq\"\n",
    "    ),\n",
    ")\n",
    "device_setup.add_connections(\n",
    "    \"hdawg\",\n",
    "    create_connection(\n",
    "        to_signal=\"q5/drive\", ports=[\"SIGOUTS/6\", \"SIGOUTS/7\"], type=\"iq\"\n",
    "    ),\n",
    ")"
   ],
   "outputs": [],
   "execution_count": null
  },
  {
   "cell_type": "markdown",
   "metadata": {},
   "source": [
    "You can inspect the `LogicalSignal`s that have been created by calling `device_setup.logical_signal_by_uid(signal_name)`; for example:"
   ]
  },
  {
   "cell_type": "code",
   "metadata": {},
   "source": [
    "device_setup.logical_signal_by_uid(\"q4/drive\")"
   ],
   "outputs": [],
   "execution_count": null
  },
  {
   "cell_type": "markdown",
   "metadata": {},
   "source": [
    "Next, we configure the `calibration` of the signal lines of the `DeviceSetup`. We will set a few common properties:\n",
    "\n",
    "* `range` - the power range in dBm of the output ports. Here we will set 10 dBm;\n",
    "* `voltage_offset` - the DC voltage offset to be played on each channel. Here we set 0 V for all channels;\n",
    "* `oscillator` - an instance of `Oscillator` where we specify the IF frequency that will modulate the pulses that are played back. Here we choose 200 MHz."
   ]
  },
  {
   "cell_type": "code",
   "metadata": {},
   "source": [
    "config = Calibration()\n",
    "for idx in range(4):\n",
    "    config[f\"q{idx}/flux\"] = SignalCalibration(voltage_offset=0, range=10)\n",
    "\n",
    "config[\"q5/drive\"] = SignalCalibration(\n",
    "    oscillator=Oscillator(frequency=200e6), voltage_offset=0, range=10\n",
    ")\n",
    "config[\"q4/drive\"] = SignalCalibration(\n",
    "    oscillator=Oscillator(frequency=200e6), voltage_offset=0, range=10\n",
    ")\n",
    "\n",
    "# Apply the configuration to the DeviceSetup\n",
    "device_setup.set_calibration(config)"
   ],
   "outputs": [],
   "execution_count": null
  },
  {
   "cell_type": "markdown",
   "metadata": {},
   "source": [
    "Great! We have our `DeviceSetup` for a single HDAWG instrument.\n",
    "\n",
    "Before we can play a signal on the instrument, we first have to connect it to the LabOne data server via the LabOne Q [Session](https://docs.zhinst.com/labone_q_user_manual/core/functionality_and_concepts/01_session/concepts/index.html). Here, we connect in emulation mode by calling `Session.connect` with `do_emulation=True`. Set this flag to False in order to connect to a physical setup."
   ]
  },
  {
   "cell_type": "code",
   "metadata": {},
   "source": [
    "session = Session(device_setup)\n",
    "session.connect(do_emulation=True)  # do_emulation=False when at a physical setup"
   ],
   "outputs": [],
   "execution_count": null
  },
  {
   "cell_type": "markdown",
   "metadata": {},
   "source": [
    "## Generate a Simple Playback Experiment\n",
    "\n",
    "Let's create a simple experiment that plays back a 200-ns gaussian pulse on all 8 drive channels. In addition, we will sweep the amplitude of the pulses.\n",
    "\n",
    "To learn more about the `Experiment` object and how to write experiments in LabOne Q, have a look at the [\"Experiment Definition\"](https://docs.zhinst.com/labone_q_user_manual/core/functionality_and_concepts/05_experiment/concepts/index.html) and [\"Writing and Experiment Workflow\"](https://docs.zhinst.com/labone_q_user_manual/applications_library/tutorials/sources/writing_experiments.html#write-the-experiment-pulse-sequence) sections of the manual."
   ]
  },
  {
   "cell_type": "code",
   "metadata": {},
   "source": [
    "@dsl.experiment(signals=[f\"q{idx}_flux\" for idx in range(4)] + [\"q4_drive\"])\n",
    "def simple_experiment(count):\n",
    "    with dsl.acquire_loop_rt(\n",
    "        count=count,\n",
    "        averaging_mode=AveragingMode.CYCLIC,\n",
    "        acquisition_type=AcquisitionType.INTEGRATION,\n",
    "    ):\n",
    "        with dsl.sweep(\n",
    "            name=\"amplitude_sweep\",\n",
    "            parameter=SweepParameter(\"drive_pulse_amplitudes\", np.linspace(0, 1, 7)),\n",
    "        ) as amplitude:\n",
    "            for idx in range(4):\n",
    "                with dsl.section(name=f\"play-drive-pulse_q{idx}\"):\n",
    "                    dsl.play(\n",
    "                        f\"q{idx}_flux\",\n",
    "                        pulse_library.gaussian(amplitude=1, length=200e-9),\n",
    "                        amplitude=amplitude,\n",
    "                    )\n",
    "                    dsl.delay(f\"q{idx}_flux\", time=0.5e-6)\n",
    "\n",
    "            with dsl.section(name=\"play-drive-pulse_q4\"):\n",
    "                dsl.play(\n",
    "                    \"q4_drive\",\n",
    "                    pulse_library.drag(amplitude=1, length=200e-9, beta=0.2),\n",
    "                    amplitude=amplitude,\n",
    "                )\n",
    "                dsl.delay(\"q4_drive\", time=0.5e-6)\n",
    "\n",
    "    # Map the ExperimentSignals \"q{idx}_flux\", \"q{idx}_drive\" to the logical signal lines defined in the `DeviceSetup`\n",
    "    for idx in range(4):\n",
    "        dsl.map_signal(f\"q{idx}_flux\", f\"q{idx}/flux\")\n",
    "    dsl.map_signal(\"q4_drive\", \"q4/drive\")"
   ],
   "outputs": [],
   "execution_count": null
  },
  {
   "cell_type": "markdown",
   "metadata": {},
   "source": "Next, we instantiate the `Experiment` by running the function `simple_experiment`."
  },
  {
   "cell_type": "code",
   "metadata": {},
   "source": [
    "experiment = simple_experiment(5)"
   ],
   "outputs": [],
   "execution_count": null
  },
  {
   "metadata": {},
   "cell_type": "markdown",
   "source": [
    "Note that, the mapping between the `ExperimentSignal`s and the logical signal lines do not have to be done as part of `simple_experiment` but can also be done or modified on the `Experiment` instance returned by `simple_experiment` as follows:\n",
    "\n",
    "```python\n",
    "q0_ls = device_setup.logical_signal_groups[\"q0\"].logical_signals\n",
    "experiment.map_signal(\"q0_flux\", q0_ls[\"flux\"])\n",
    "q4_ls = device_setup.logical_signal_groups[\"q4\"].logical_signals\n",
    "experiment.map_signal(\"q4_drive\", q4_ls[\"drive\"])\n",
    "```\n",
    "\n",
    "You can also map an `ExperimentSignal` directly to a `LogicalSignal` instead of its UID, as written above."
   ]
  },
  {
   "cell_type": "markdown",
   "metadata": {},
   "source": [
    "Compile the simple_experiment and inspect it using `plot_simulation`:"
   ]
  },
  {
   "cell_type": "code",
   "metadata": {},
   "source": [
    "compiled_experiment = session.compile(experiment)"
   ],
   "outputs": [],
   "execution_count": null
  },
  {
   "cell_type": "code",
   "metadata": {},
   "source": [
    "plot_simulation(compiled_experiment, start_time=0, length=5e-6)"
   ],
   "outputs": [],
   "execution_count": null
  },
  {
   "cell_type": "markdown",
   "metadata": {},
   "source": [
    "You can inspect your pulse sequence in more detail by using the interactive pulse-sheet viewer. Calling the function `show_pulse_sheet` creates an HTML file that you can open in your browser. To show the pulse sheet in the kernel, set `interactive=True`."
   ]
  },
  {
   "cell_type": "code",
   "metadata": {},
   "source": "show_pulse_sheet(\"simple_pulse_sequence\", compiled_experiment, interactive=True)",
   "outputs": [],
   "execution_count": null
  },
  {
   "cell_type": "markdown",
   "metadata": {},
   "source": [
    "Finally, let's run the pulse sequence on the instrument."
   ]
  },
  {
   "cell_type": "code",
   "metadata": {},
   "source": "_ = session.run()",
   "outputs": [],
   "execution_count": null
  },
  {
   "cell_type": "markdown",
   "metadata": {},
   "source": [
    "## Using Markers and Triggers\n",
    "\n",
    "Let's create a simple experiment that plays back a marker and a trigger output in addition to the waveforms. Below, we create an experiment where:\n",
    "\n",
    "* we use an `rf` signal line (`q0/flux`) to play a 200-ns Gaussian pulse on `SIGOUT/0` of the HDAWG, accompanied by a constant pulse of the same length on the marker output of `SIGOUT/0`. We enable the marker by using \"enable\";\n",
    "\n",
    "* we use an `rf` signal line (`q1/flux`) to play a 200-ns Gaussian pulse on `SIGOUT/1` of the HDAWG, accompanied by a 1-$\\mu$s output on the corresponding trigger port;\n",
    "\n",
    "* we use an `iq` signal line (`q4/drive`) to play a 200-ns DRAG pulse on the HDAWG ports [`SIGOUT/4`, `SIGOUT/5`], accompanied by a 100-ns constant pulse on the marker of `SIGOUT/4` (`\"marker1\"`), and a 200-ns constant pulse on the marker of `SIGOUT/5` (`\"marker2\"`). We specify `\"marker1\"` using `\"start\"` and `\"length\"`, and `\"marker2\"` as a waveform;\n",
    "\n",
    "* we use an `iq` signal line (`q5/drive`) to play a 200-ns DRAG pulse on the HDAWG ports [`SIGOUT/4`, `SIGOUT/5`], accompanied by a 1-$\\mu$s output on each of the two corresponding trigger ports by setting the `\"state\"` to 3. Use 1 to produce an output only on the trigger port of `SIGOUT/4`, or 2 to produce an output only on the trigger port of `SIGOUT/5`.\n",
    "\n",
    "To learn more details about configuring markers and trigger in LabOne Q, have a look at this page [ADD LINK]."
   ]
  },
  {
   "cell_type": "code",
   "metadata": {},
   "source": [
    "@dsl.experiment(signals=[\"q0_flux\", \"q1_flux\", \"q4_drive\", \"q5_drive\"])\n",
    "def experiment_trig_mark(count):\n",
    "    with dsl.acquire_loop_rt(\n",
    "        count=count,\n",
    "        averaging_mode=AveragingMode.CYCLIC,\n",
    "        acquisition_type=AcquisitionType.INTEGRATION,\n",
    "    ):\n",
    "        # Marker on rf channel\n",
    "        with dsl.section(name=\"rf-signal_q0\"):\n",
    "            dsl.play(\n",
    "                signal=\"q0_flux\",\n",
    "                pulse=pulse_library.gaussian(amplitude=1, length=200e-9),\n",
    "                marker={\"marker1\": {\"enable\": True}},\n",
    "            )\n",
    "            dsl.delay(\"q0_flux\", time=0.5e-6)\n",
    "\n",
    "        # Trigger on rf channel\n",
    "        with dsl.section(\n",
    "            name=\"rf-signal_q1\", length=1e-6, trigger={\"q1_flux\": {\"state\": 1}}\n",
    "        ):\n",
    "            dsl.play(\n",
    "                signal=\"q1_flux\",\n",
    "                pulse=pulse_library.gaussian(amplitude=1, length=200e-9),\n",
    "            )\n",
    "            dsl.delay(\"q1_flux\", time=0.5e-6)\n",
    "\n",
    "        # Markers on iq channel\n",
    "        with dsl.section(name=\"iq_signal_q4\"):\n",
    "            dsl.play(\n",
    "                \"q4_drive\",\n",
    "                pulse_library.drag(amplitude=1, length=200e-9, beta=0.2),\n",
    "                marker={\n",
    "                    \"marker1\": {\"start\": 100e-9, \"length\": 100e-9},\n",
    "                    \"marker2\": {\n",
    "                        \"waveform\": pulse_library.const(amplitude=0.5, length=200e-9)\n",
    "                    },\n",
    "                },\n",
    "            )\n",
    "            dsl.delay(\"q4_drive\", time=0.5e-6)\n",
    "\n",
    "        # Trigger on iq channel\n",
    "        with dsl.section(\n",
    "            name=\"iq_signal_q5\", length=1e-6, trigger={\"q5_drive\": {\"state\": 3}}\n",
    "        ):\n",
    "            dsl.play(\n",
    "                \"q5_drive\",\n",
    "                pulse_library.drag(amplitude=1, length=400e-9, beta=0.2),\n",
    "            )\n",
    "\n",
    "    # Map the ExperimentSignals \"q0_flux\", \"q1_flux\", \"q4_drive\", \"q5_drive\" to the logical signal line names defined in the `DeviceSetup`\n",
    "    dsl.map_signal(\"q0_flux\", \"q0/flux\")\n",
    "    dsl.map_signal(\"q1_flux\", \"q1/flux\")\n",
    "    dsl.map_signal(\"q4_drive\", \"q4/drive\")\n",
    "    dsl.map_signal(\"q5_drive\", \"q5/drive\")"
   ],
   "outputs": [],
   "execution_count": null
  },
  {
   "cell_type": "code",
   "metadata": {},
   "source": [
    "exp_trig_mark = experiment_trig_mark(5)\n",
    "compiled_experiment_trig_mark = session.compile(exp_trig_mark)"
   ],
   "outputs": [],
   "execution_count": null
  },
  {
   "cell_type": "code",
   "metadata": {},
   "source": [
    "plot_simulation(compiled_experiment_trig_mark, start_time=0, length=5e-6)"
   ],
   "outputs": [],
   "execution_count": null
  },
  {
   "cell_type": "code",
   "metadata": {},
   "source": [
    "_ = session.run(compiled_experiment_trig_mark)"
   ],
   "outputs": [],
   "execution_count": null
  },
  {
   "cell_type": "markdown",
   "metadata": {
    "ExecuteTime": {
     "end_time": "2025-05-22T12:42:15.780276Z",
     "start_time": "2025-05-22T12:42:15.778021Z"
    }
   },
   "source": [
    "## Sweeping the voltage offset\n",
    "\n",
    "Here we show you how to sweep the voltage offset on an `rf` channel of the HDAWG. We also play a 200-ns Gaussian pulse on the `SIGOUT/0` output of the HDAWG."
   ]
  },
  {
   "cell_type": "code",
   "metadata": {},
   "source": [
    "@dsl.experiment(signals=[\"q0_flux\"])\n",
    "def experiment_voltage_offset(count):\n",
    "    with dsl.sweep(\n",
    "        name=\"voltage_offset_sweep\",\n",
    "        parameter=SweepParameter(\"voltages\", np.arange(0, 1.05, 0.1)),\n",
    "    ) as voltage_offset_sweep:\n",
    "        with dsl.acquire_loop_rt(\n",
    "            count=count,\n",
    "            averaging_mode=AveragingMode.CYCLIC,\n",
    "            acquisition_type=AcquisitionType.INTEGRATION,\n",
    "        ):\n",
    "            with dsl.section(name=\"rf-signal_q0\"):\n",
    "                dsl.play(\n",
    "                    signal=\"q0_flux\",\n",
    "                    pulse=pulse_library.gaussian(amplitude=1, length=200e-9),\n",
    "                )\n",
    "                dsl.delay(\"q0_flux\", time=0.5e-6)\n",
    "\n",
    "    # Set the voltage sweep in the experiment calibration\n",
    "    exp_calibration = dsl.experiment_calibration()\n",
    "    exp_calibration[\"q0_flux\"] = SignalCalibration(voltage_offset=voltage_offset_sweep)\n",
    "\n",
    "    # Map the ExperimentSignals \"q0_flux\" the logical signal line name defined in the `DeviceSetup`\n",
    "    dsl.map_signal(\"q0_flux\", \"q0/flux\")"
   ],
   "outputs": [],
   "execution_count": null
  },
  {
   "cell_type": "code",
   "metadata": {},
   "source": [
    "exp_voltage_offset = experiment_voltage_offset(5)\n",
    "compiled_experiment_voltage_offset = session.compile(exp_voltage_offset)\n",
    "_ = session.run(compiled_experiment_voltage_offset)"
   ],
   "outputs": [],
   "execution_count": null
  }
 ],
 "metadata": {
  "kernelspec": {
   "display_name": "Python 3 (ipykernel)",
   "language": "python",
   "name": "python3"
  },
  "language_info": {
   "codemirror_mode": {
    "name": "ipython",
    "version": 3
   },
   "file_extension": ".py",
   "mimetype": "text/x-python",
   "name": "python",
   "nbconvert_exporter": "python",
   "pygments_lexer": "ipython3",
   "version": "3.13.2"
  }
 },
 "nbformat": 4,
 "nbformat_minor": 4
}
