{
 "cells": [
  {
   "cell_type": "markdown",
   "metadata": {},
   "source": "# Getting Started With the SHFQA+"
  },
  {
   "cell_type": "markdown",
   "metadata": {},
   "source": [
    "## Device Setup and Data Server\n",
    "\n",
    "Let's start by creating a `DeviceSetup` with a single SHFQA+ instrument. To learn more about what a `DeviceSetup` is and how to use it, have a look at [this page](https://docs.zhinst.com/labone_q_user_manual/core/functionality_and_concepts/00_device_setup/concepts/index.html).\n",
    "\n",
    "First, we import `laboneq.simple`, which contains the `DeviceSetup`."
   ]
  },
  {
   "cell_type": "code",
   "execution_count": null,
   "metadata": {},
   "outputs": [],
   "source": [
    "from laboneq.simple import *"
   ]
  },
  {
   "cell_type": "markdown",
   "metadata": {},
   "source": [
    "Create the `DeviceSetup` with the information about the data server it should connect to. Here, we use \"localhost\". Change this to the LabOne data server that is running on your computer. You can find the IP address of LabOne data server by navigating to Config > Data Server > Host in the LabOne UI.\n",
    "\n",
    "Note that calling `add_dataserver` below does not attempt to make the connection yet. This will be done only upon calling `Session.connect()`."
   ]
  },
  {
   "cell_type": "code",
   "execution_count": null,
   "metadata": {},
   "outputs": [],
   "source": [
    "device_setup = DeviceSetup(\"ZI_SHFQA+\")\n",
    "device_setup.add_dataserver(\n",
    "    host=\"localhost\",\n",
    "    port=\"8004\",\n",
    ")"
   ]
  },
  {
   "cell_type": "markdown",
   "metadata": {},
   "source": [
    "Create an `SHFQA` instrument, which was imported from `laboneq.simple`, and add it to the `DeviceSetup`. \n",
    "\n",
    "When creating the instrument instance, you need to specify the device ID under `address`; for example, `dev12345`.\n",
    "\n",
    "If you do not have an active LabOne data server running to connect to the instrument, you also need to specify the `device_options` that are installed on your instrument. These options are used to ensure a correct experiment compilation for your system.\n",
    "\n",
    "The possible options you can set for an SHFQA instrument are:\n",
    "* either `\"SHFQA4\"` if you have a 4-channel instrument or `\"SHFQA2\"` for a 2-channel version;\n",
    "* `PLUS` if you have the SHFQA+;\n",
    "* `\"16W\"` available only in combination with `\"SHFQA2\"`to extend the avilable integration weights to 16 per channel.\n",
    "\n",
    "When passing these options to the instrument, add them in any order, separated by a forward slash (`\"/\"`). Below, we will use `device_options=\"SHFQA4/PLUS\"`. Have a look at [this page](https://docs.zhinst.com/labone_q_user_manual/core/functionality_and_concepts/00_device_setup/concepts/01_instrument_options.html) to learn more about the possible options of our instruments.\n",
    "\n",
    "You can also pass additional input parameters to configure your instrument:\n",
    "  \n",
    "* the `interface` over which to connect to the instrument, either `\"1GbE\"` (default) or `\"usb\"`. Note that **to ensure the stability of the connection to the instrument, we recommend to use the ethernet interface instead of USB**;\n",
    "\n",
    "* the `reference_clock_source` for the instrument, either as `\"internal\"` to use the instrument's own internal reference clock, or `\"external\"` (default) if you are using an external source like the PQSC instrument, for example."
   ]
  },
  {
   "cell_type": "code",
   "execution_count": null,
   "metadata": {},
   "outputs": [],
   "source": [
    "shfqa = SHFQA(\n",
    "    uid=\"shfqa\",\n",
    "    address=\"dev12345\",\n",
    "    interface=\"1GbE\",\n",
    "    device_options=\"SHFQA4/PLUS\",\n",
    "    reference_clock_source=\"internal\",\n",
    ")\n",
    "\n",
    "device_setup.add_instruments(shfqa)"
   ]
  },
  {
   "cell_type": "markdown",
   "metadata": {},
   "source": "Next, we create connections to each of the 4 ports of the instrument and add these connections to the `DeviceSetup`. These connections are represented in LabOne Q as [logical signal lines](https://docs.zhinst.com/labone_q_user_manual/core/functionality_and_concepts/02_logical_signals/concepts/index.html) between the instruments and your device under test. Here, we assume the device under test is a four-qubit QPU and use the physical lines of these qubits as a naming convention for our signal lines. Note that the instances of the `LogicalSignal`s will be created automatically by the `add_connections` method of `DeviceSetup`, with the names that we have specified."
  },
  {
   "cell_type": "code",
   "execution_count": null,
   "metadata": {},
   "outputs": [],
   "source": [
    "# Create measure and acquire lines for the 4 qubits connected to the 4 QA output and input ports of the instrument.\n",
    "\n",
    "for idx in range(4):\n",
    "    device_setup.add_connections(\n",
    "        \"shfqa\",\n",
    "        create_connection(\n",
    "            to_signal=f\"q{idx}/measure\", ports=f\"QACHANNELS/{idx}/OUTPUT\", type=\"iq\"\n",
    "        ),\n",
    "        create_connection(\n",
    "            to_signal=f\"q{idx}/acquire\", ports=f\"QACHANNELS/{idx}/INPUT\", type=\"acquire\"\n",
    "        ),\n",
    "    )"
   ]
  },
  {
   "cell_type": "markdown",
   "metadata": {},
   "source": "You can inspect the `LogicalSignal`s that have been created by calling `device_setup.logical_signal_by_uid(signal_name)`; for example:"
  },
  {
   "cell_type": "code",
   "execution_count": null,
   "metadata": {},
   "outputs": [],
   "source": [
    "device_setup.logical_signal_by_uid(\"q0/measure\")"
   ]
  },
  {
   "cell_type": "markdown",
   "metadata": {},
   "source": [
    "Next, we need to configure the `calibration` of the signal lines of the `DeviceSetup`. We will set the most common properties:\n",
    "\n",
    "* `range` - the power range in dBm of the input and output ports;\n",
    "* `local_oscillator` - an instance of `Oscillator` where we specify the local oscillator frequency;\n",
    "* `oscillator` - an instance of `Oscillator` where we specify the IF frequency that will be mixed with local oscillator frequency.\n",
    "\n",
    "Keep in mind that the channels 0-1 and 2-3 share the local oscillator, so the local oscillator for these channels must be configured with the same frequency value."
   ]
  },
  {
   "cell_type": "code",
   "execution_count": null,
   "metadata": {},
   "outputs": [],
   "source": [
    "qa_lo_0 = Oscillator(frequency=7e9)\n",
    "qa_lo_1 = Oscillator(frequency=7.2e9)\n",
    "\n",
    "config = Calibration()\n",
    "for idx, qa_lo in enumerate([qa_lo_0, qa_lo_1]):\n",
    "    config[f\"q{2 * idx}/measure\"] = SignalCalibration(\n",
    "        local_oscillator=qa_lo, oscillator=Oscillator(frequency=100e6), range=5\n",
    "    )\n",
    "    config[f\"q{2 * idx}/acquire\"] = SignalCalibration(\n",
    "        local_oscillator=qa_lo, oscillator=Oscillator(frequency=100e6), range=10\n",
    "    )\n",
    "    config[f\"q{2 * idx + 1}/measure\"] = SignalCalibration(\n",
    "        local_oscillator=qa_lo, oscillator=Oscillator(frequency=100e6), range=5\n",
    "    )\n",
    "    config[f\"q{2 * idx + 1}/acquire\"] = SignalCalibration(\n",
    "        local_oscillator=qa_lo, oscillator=Oscillator(frequency=100e6), range=10\n",
    "    )\n",
    "\n",
    "# Apply the configuration to the DeviceSetup\n",
    "device_setup.set_calibration(config)"
   ]
  },
  {
   "cell_type": "markdown",
   "metadata": {},
   "source": [
    "Great! We have our `DeviceSetup` for a single SHFQA+ instrument.\n",
    "\n",
    "Before we can play a signal on the instrument, we first have to connect it to the LabOne data server via the LabOne Q [Session](https://docs.zhinst.com/labone_q_user_manual/core/functionality_and_concepts/01_session/concepts/index.html). Here, we connect in emulation mode by calling `Session.connect` with `do_emulation=True`. Set this flag to False in order to connect to a physical setup."
   ]
  },
  {
   "cell_type": "code",
   "execution_count": null,
   "metadata": {},
   "outputs": [],
   "source": [
    "session = Session(device_setup)\n",
    "session.connect(do_emulation=True)  # do_emulation=False when at a physical setup"
   ]
  },
  {
   "cell_type": "markdown",
   "metadata": {},
   "source": [
    "## Generate a Simple Experiment\n",
    "\n",
    "Let's create a simple experiment that plays back a 2-$\\mu$s gaussian-square pulse on each of the output ports of the SHFQA+, and run an integrated average acquisition using a constant 2-$\\mu$s integration kernel. In addition, we sweep the amplitude of the pulses that are output.\n",
    "\n",
    "To learn more about the `Experiment` object and how to write experiments in LabOne Q, have a look at the [\"Experiment Definition\"](https://docs.zhinst.com/labone_q_user_manual/core/functionality_and_concepts/05_experiment/concepts/index.html) and [\"Writing and Experiment Workflow\"](https://docs.zhinst.com/labone_q_user_manual/applications_library/tutorials/sources/writing_experiments.html#write-the-experiment-pulse-sequence) sections of the manual."
   ]
  },
  {
   "cell_type": "code",
   "execution_count": null,
   "metadata": {},
   "outputs": [],
   "source": [
    "import numpy as np\n",
    "\n",
    "\n",
    "@dsl.experiment(\n",
    "    signals=[f\"q{idx}_measure\" for idx in range(4)]\n",
    "    + [f\"q{idx}_acquire\" for idx in range(4)]\n",
    ")\n",
    "def simple_experiment(count):\n",
    "    with dsl.sweep(\n",
    "        name=\"amplitude_sweep\",\n",
    "        parameter=SweepParameter(\"measure_pulse_amplitudes\", np.linspace(0, 1, 7)),\n",
    "    ) as amplitude:\n",
    "        with dsl.acquire_loop_rt(\n",
    "            count=count,\n",
    "            averaging_mode=AveragingMode.CYCLIC,\n",
    "            acquisition_type=AcquisitionType.INTEGRATION,\n",
    "        ):\n",
    "            for idx in range(4):\n",
    "                with dsl.section(name=f\"play-measure-pulse-and-acquire-q{idx}\"):\n",
    "                    dsl.play(\n",
    "                        f\"q{idx}_measure\",\n",
    "                        pulse_library.gaussian_square(amplitude=1, length=2e-6),\n",
    "                    )\n",
    "                    dsl.acquire(\n",
    "                        f\"q{idx}_acquire\",\n",
    "                        handle=f\"q{idx}/result\",\n",
    "                        kernel=pulse_library.const(amplitude=1, length=2e-6),\n",
    "                    )\n",
    "                    # add a processing delay\n",
    "                    dsl.delay(f\"q{idx}_acquire\", time=0.5e-6)\n",
    "\n",
    "    # Set the amplitude sweep in the experiment calibration to sweep the gain of the output channel\n",
    "    exp_calibration = dsl.experiment_calibration()\n",
    "    for idx in range(4):\n",
    "        exp_calibration[f\"q{idx}_measure\"] = SignalCalibration(amplitude=amplitude)\n",
    "\n",
    "        # Map the ExperimentSignals \"q{idx}_measure\", \"q{idx}_acquire\" to the logical signal lines defined in the `DeviceSetup`\n",
    "        dsl.map_signal(f\"q{idx}_measure\", f\"q{idx}/measure\")\n",
    "        dsl.map_signal(f\"q{idx}_acquire\", f\"q{idx}/acquire\")"
   ]
  },
  {
   "cell_type": "markdown",
   "metadata": {},
   "source": "Next, we instantiate the `Experiment` by running the function `simple_experiment`."
  },
  {
   "cell_type": "code",
   "execution_count": null,
   "metadata": {},
   "outputs": [],
   "source": [
    "experiment = simple_experiment(5)"
   ]
  },
  {
   "cell_type": "markdown",
   "metadata": {},
   "source": [
    "Note that, the mapping between the `ExperimentSignal`s and the logical signal lines do not have to be done as part of `simple_experiment` but can also be done or modified on the `Experiment` instance returned by `simple_experiment` as follows:\n",
    "\n",
    "```python\n",
    "q0_ls = device_setup.logical_signal_groups[\"q0\"].logical_signals\n",
    "experiment.map_signal(\"measure\", q0_ls[\"measure\"])\n",
    "experiment.map_signal(\"acquire\", q0_ls[\"acquire\"])\n",
    "```\n",
    "\n",
    "You can also map an `ExperimentSignal` directly to a `LogicalSignal` instead of its UID, as written above."
   ]
  },
  {
   "cell_type": "markdown",
   "metadata": {},
   "source": "Now we compile the experiment and inspect it using `plot_simulation`. Note that we will not see the amplitude changing in the simulation below. In this case, the amplitude is being swept by changing the linear gain factor on the output line of the SHFQA while the amplitude of the pulse generated by the AWG (what is plotted by the simulator) remains constant."
  },
  {
   "cell_type": "code",
   "execution_count": null,
   "metadata": {},
   "outputs": [],
   "source": [
    "compiled_experiment = session.compile(experiment)"
   ]
  },
  {
   "cell_type": "code",
   "execution_count": null,
   "metadata": {},
   "outputs": [],
   "source": [
    "from laboneq.contrib.example_helpers.plotting.plot_helpers import plot_simulation\n",
    "\n",
    "plot_simulation(compiled_experiment, start_time=0, length=15e-6)"
   ]
  },
  {
   "cell_type": "markdown",
   "metadata": {},
   "source": "You can inspect your experiment in more detail by using the interactive pulse-sheet viewer. Calling the function `show_pulse_sheet` creates an HTML file that you can open in your browser. To show the pulse sheet in the kernel, set `interactive=True`."
  },
  {
   "cell_type": "code",
   "execution_count": null,
   "metadata": {},
   "outputs": [],
   "source": [
    "show_pulse_sheet(\"simple_pulse_sequence\", compiled_experiment, interactive=True)"
   ]
  },
  {
   "cell_type": "markdown",
   "metadata": {},
   "source": "Finally, let's run the experiment on the instrument. "
  },
  {
   "cell_type": "code",
   "execution_count": null,
   "metadata": {},
   "outputs": [],
   "source": [
    "results = session.run()"
   ]
  },
  {
   "cell_type": "markdown",
   "metadata": {},
   "source": "You can inspect the acquired results using the handle name that we've specified when defining the pulse sequence, `q0/result`:"
  },
  {
   "cell_type": "code",
   "execution_count": null,
   "metadata": {},
   "outputs": [],
   "source": [
    "results[\"q0/result\"]"
   ]
  },
  {
   "cell_type": "markdown",
   "metadata": {},
   "source": "Or, alternatively,"
  },
  {
   "cell_type": "code",
   "execution_count": null,
   "metadata": {},
   "outputs": [],
   "source": [
    "results.q0.result"
   ]
  }
 ],
 "metadata": {
  "kernelspec": {
   "display_name": "Python 3 (ipykernel)",
   "language": "python",
   "name": "python3"
  },
  "language_info": {
   "codemirror_mode": {
    "name": "ipython",
    "version": 3
   },
   "file_extension": ".py",
   "mimetype": "text/x-python",
   "name": "python",
   "nbconvert_exporter": "python",
   "pygments_lexer": "ipython3",
   "version": "3.13.2"
  }
 },
 "nbformat": 4,
 "nbformat_minor": 4
}
