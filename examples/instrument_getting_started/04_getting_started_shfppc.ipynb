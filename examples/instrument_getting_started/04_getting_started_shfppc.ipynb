{
 "cells": [
  {
   "cell_type": "markdown",
   "metadata": {},
   "source": [
    "# Getting Started With the SHFPPC"
   ]
  },
  {
   "cell_type": "markdown",
   "metadata": {},
   "source": [
    "## Device Setup and Data Server\n",
    "\n",
    "The SHFPPC instrument is intended to be used together with an SHFQA+ or SHFQC+ instrument. Similar to a travelling-wave parametric amplifier (TWPA), the SHFPPC is an optional element added to the signal path connected to the acquire line of a QPU.\n",
    "While the TWPA is added to the acquire-signal path at cryogenic temperatures, providing amplification of the measurement signal that returns from the QPU, the SHFPPC is added to the same signal path at room temperature to cancel the TWPA pump tone in the measurement signal before the signal is recorded with the QA. To learn more about how to connect the SHFPPC to an SHFQA+ instrument, have a look at [the tutorials](https://docs.zhinst.com/shfppc_user_manual/tutorials/index.html) in the user's manual for the SHFPPC.\n",
    "\n",
    "Let's start by creating a `DeviceSetup` with a SHFPPC instrument and an SHFQA+. To learn more about what a `DeviceSetup` is and how to use it, have a look at [this page](https://docs.zhinst.com/labone_q_user_manual/core/functionality_and_concepts/00_device_setup/concepts/index.html).\n",
    "\n",
    "First, we import `laboneq.simple`, which contains the `DeviceSetup`."
   ]
  },
  {
   "cell_type": "code",
   "execution_count": null,
   "metadata": {},
   "outputs": [],
   "source": [
    "from laboneq.simple import *"
   ]
  },
  {
   "cell_type": "markdown",
   "metadata": {},
   "source": [
    "Create the `DeviceSetup` and add the information about the data server it should connect to. Note that calling `add_dataserver` does not attempt the connection yet. This will be done only upon calling `Session.connect`."
   ]
  },
  {
   "cell_type": "code",
   "execution_count": null,
   "metadata": {},
   "outputs": [],
   "source": [
    "device_setup = DeviceSetup(\"ZI_SHFPPC_SHFQA\")\n",
    "device_setup.add_dataserver(\n",
    "    host=\"localhost\",\n",
    "    port=\"8004\",\n",
    ")"
   ]
  },
  {
   "cell_type": "markdown",
   "metadata": {},
   "source": [
    "Create the `SHFQA` and `SHFPPC` instruments, and add them to the `DeviceSetup`. Assign unique identifiers (`uid`) of your choice to each instrument, and specify the device names under `address`. For the SHFQA, specify the options that are installed on your instrument. The possible options you can set for an SHFQA instrument are:\n",
    "\n",
    "* either `\"SHFQA4\"` if you have a 4-channel instrument or `\"SHFQA2\"` for a 2-channel version;\n",
    "* `PLUS` if you have the SHFQA+;\n",
    "* `\"16W\"` available only in combination with `\"SHFQA2\"`to extend the avilable integration weights to 16 per channel.\n",
    "\n",
    "When passing these options to the instrument, add them in any order, separated by a forward slash (`\"/\"`). Below, we will use `device_options=\"SHFQA4/PLUS\"`. Have a look at [this page](https://docs.zhinst.com/labone_q_user_manual/core/functionality_and_concepts/00_device_setup/concepts/02_instrument_options.html?h=instrument+options) to learn more about the possible options of our instruments.\n",
    "\n",
    "\n",
    "You can also pass additional input parameters to configure your instruments:\n",
    "\n",
    "* the `interface` over which to connect to the instrument, either `\"1GbE\"` (default) or `\"usb\"`. Note that **to ensure the stability of the connection to the instrument, we recommend to use the ethernet interface instead of USB**;\n",
    "\n",
    "* (only for the SHFQA) the `reference_clock_source` for the instrument, either as `\"internal\"` to use the instrument's own internal reference clock, or `\"external\"` (default) if you are using an external source like the PQSC instrument, for example."
   ]
  },
  {
   "cell_type": "code",
   "execution_count": null,
   "metadata": {},
   "outputs": [],
   "source": [
    "device_setup.add_instruments(\n",
    "    SHFQA(\n",
    "        uid=\"shfqa\",\n",
    "        address=\"dev12300\",\n",
    "        interface=\"1GbE\",\n",
    "        device_options=\"SHFQA4/PLUS/16W\",\n",
    "        reference_clock_source=\"internal\",\n",
    "    )\n",
    ")\n",
    "device_setup.add_instruments(\n",
    "    SHFPPC(\n",
    "        uid=\"shfpcc\",\n",
    "        interface=\"1GbE\",\n",
    "        address=\"dev12301\",\n",
    "    )\n",
    ")"
   ]
  },
  {
   "cell_type": "markdown",
   "metadata": {},
   "source": "Next, we create connections from each of the four I/O ports of the SHFPPC to the four input ports of the SHFQA+ instrument, and add these connections to the `DeviceSetup`. These connections are represented in LabOne Q as [logical signal lines](https://docs.zhinst.com/labone_q_user_manual/core/functionality_and_concepts/02_logical_signals/concepts/index.html) between the instruments and your device under test. Here, we assume the device under test is a six-qubit QPU and use the physical lines of these qubits as a naming convention for our signal lines. Note that the instances of the `LogicalSignal`s will be created automatically by the `add_connections` method of `DeviceSetup`, with the names that we have specified."
  },
  {
   "cell_type": "code",
   "execution_count": null,
   "metadata": {},
   "outputs": [],
   "source": [
    "for idx in range(4):\n",
    "    device_setup.add_connections(\n",
    "        \"shfqa\",\n",
    "        create_connection(\n",
    "            to_signal=f\"twpa{idx}/measure\",\n",
    "            ports=f\"QACHANNELS/{idx}/OUTPUT\",\n",
    "        ),\n",
    "        create_connection(\n",
    "            to_signal=f\"twpa{idx}/acquire\", ports=f\"QACHANNELS/{idx}/INPUT\"\n",
    "        ),\n",
    "    )\n",
    "    device_setup.add_connections(\n",
    "        \"shfpcc\",\n",
    "        create_connection(to_signal=f\"twpa{idx}/acquire\", ports=f\"PPCHANNELS/{idx}\"),\n",
    "    )"
   ]
  },
  {
   "cell_type": "markdown",
   "metadata": {},
   "source": [
    "You can inspect the `LogicalSignal`s that have been created by calling `device_setup.logical_signal_by_uid(signal_name)`; for example:"
   ]
  },
  {
   "cell_type": "code",
   "execution_count": null,
   "metadata": {},
   "outputs": [],
   "source": [
    "device_setup.logical_signal_by_uid(\"twpa0/measure\")"
   ]
  },
  {
   "cell_type": "markdown",
   "metadata": {},
   "source": [
    "Next, we need to configure the `calibration` of the signal lines of the `DeviceSetup`. Next, we need to configure the `calibration` of the signal lines of the `DeviceSetup`. We will set the most common properties for the measure and acquire lines:\n",
    "\n",
    "* `range` - the power range in dBm of the input and output ports;\n",
    "* `local_oscillator` - an instance of `Oscillator` where we specify the local oscillator frequency;\n",
    "* `oscillator` - an instance of `Oscillator` where we specify the IF frequency that will be mixed with local oscillator frequency.\n",
    "\n",
    "Keep in mind that the channels 0-1 and 2-3 share the local oscillator, so the local oscillator for these channels must be configured with the same frequency value.\n",
    "\n",
    "Configuring the SHFPPC usually means setting the pump frequency and power, the probe-tone frequency, and the cancellation properties. Below, we set the same values to these parameters for all 4 acquire lines."
   ]
  },
  {
   "cell_type": "code",
   "execution_count": null,
   "metadata": {},
   "outputs": [],
   "source": [
    "qa_lo_0 = Oscillator(frequency=7e9)\n",
    "qa_lo_1 = Oscillator(frequency=7.2e9)\n",
    "pump_frequency = 8e9\n",
    "\n",
    "config = Calibration()\n",
    "for idx, qa_lo in enumerate([qa_lo_0, qa_lo_1]):\n",
    "    config[f\"q{2 * idx}/measure\"] = SignalCalibration(\n",
    "        local_oscillator=qa_lo, oscillator=Oscillator(frequency=100e6), range=5\n",
    "    )\n",
    "    config[f\"q{2 * idx + 1}/measure\"] = SignalCalibration(\n",
    "        local_oscillator=qa_lo, oscillator=Oscillator(frequency=100e6), range=5\n",
    "    )\n",
    "\n",
    "    config[f\"q{2 * idx}/acquire\"] = SignalCalibration(\n",
    "        local_oscillator=qa_lo,\n",
    "        oscillator=Oscillator(frequency=100e6),\n",
    "        range=10,\n",
    "        amplifier_pump=AmplifierPump(\n",
    "            pump_frequency=pump_frequency,\n",
    "            pump_power=12.5,\n",
    "            pump_on=True,\n",
    "            pump_filter_on=True,\n",
    "            cancellation_on=False,\n",
    "            cancellation_phase=0,\n",
    "            cancellation_attenuation=10,\n",
    "            cancellation_source=CancellationSource.INTERNAL,\n",
    "            cancellation_source_frequency=pump_frequency,\n",
    "            alc_on=True,\n",
    "            probe_on=False,\n",
    "            probe_frequency=6.8e9,\n",
    "            probe_power=0,\n",
    "        ),\n",
    "    )\n",
    "    config[f\"q{2 * idx + 1}/acquire\"] = SignalCalibration(\n",
    "        local_oscillator=qa_lo,\n",
    "        oscillator=Oscillator(frequency=100e6),\n",
    "        range=10,\n",
    "        amplifier_pump=AmplifierPump(\n",
    "            pump_frequency=pump_frequency,\n",
    "            pump_power=12.5,\n",
    "            pump_on=True,\n",
    "            pump_filter_on=True,\n",
    "            cancellation_on=False,\n",
    "            cancellation_phase=0,\n",
    "            cancellation_attenuation=10,\n",
    "            cancellation_source=CancellationSource.INTERNAL,\n",
    "            cancellation_source_frequency=pump_frequency,\n",
    "            alc_on=True,\n",
    "            probe_on=False,\n",
    "            probe_frequency=6.8e9,\n",
    "            probe_power=0,\n",
    "        ),\n",
    "    )\n",
    "\n",
    "# Apply the configuration to the DeviceSetup\n",
    "device_setup.set_calibration(config)"
   ]
  },
  {
   "cell_type": "markdown",
   "metadata": {},
   "source": [
    "Great! We have our `DeviceSetup` for a system containing an SHFPPC and an SHFQA+.\n",
    "\n",
    "Before we can play a signal on the instrument, we first have to connect it to the LabOne data server via the LabOne Q [Session](https://docs.zhinst.com/labone_q_user_manual/core/functionality_and_concepts/01_session/concepts/index.html). Here, we connect in emulation mode by calling `Session.connect` with `do_emulation=True`. Set this flag to False in order to connect to a physical setup."
   ]
  },
  {
   "cell_type": "code",
   "execution_count": null,
   "metadata": {},
   "outputs": [],
   "source": [
    "session = Session(device_setup)\n",
    "session.connect(do_emulation=True)  # do_emulation=False when at a physical setup"
   ]
  },
  {
   "cell_type": "markdown",
   "metadata": {},
   "source": [
    "## Scan Pump Parameters Experiment\n",
    "\n",
    "Let's create a simple experiment that sweeps the power and frequency on all 4 of the the pump output ports of the SHFPPC. We also configure the 4 corresponding SHFQA+ input channels to perform an integrated average acquisition using a constant 2-$\\mu$s integration kernel."
   ]
  },
  {
   "cell_type": "code",
   "execution_count": null,
   "metadata": {},
   "outputs": [],
   "source": [
    "import numpy as np\n",
    "\n",
    "\n",
    "@dsl.experiment(\n",
    "    signals=[f\"twpa{idx}_measure\" for idx in range(4)]\n",
    "    + [f\"twpa{idx}_acquire\" for idx in range(4)]\n",
    ")\n",
    "def scan_pump_parameters_experiment(count):\n",
    "    with dsl.acquire_loop_rt(\n",
    "        count=count,\n",
    "        averaging_mode=AveragingMode.CYCLIC,\n",
    "        acquisition_type=AcquisitionType.INTEGRATION,\n",
    "    ):\n",
    "        with dsl.sweep(\n",
    "            name=\"power_sweep\",\n",
    "            parameter=SweepParameter(\"pump_powers\", np.linspace(8, 16, 3)),\n",
    "        ) as power:\n",
    "            with dsl.sweep(\n",
    "                name=\"frequency_sweep\",\n",
    "                parameter=SweepParameter(\"pump_frequencies\", np.linspace(6e9, 7e9, 11)),\n",
    "            ) as frequency:\n",
    "                for idx in range(4):\n",
    "                    with dsl.section(name=f\"acquire-twpa{idx}\"):\n",
    "                        dsl.acquire(\n",
    "                            f\"twpa{idx}_acquire\",\n",
    "                            handle=f\"twpa{idx}/result\",\n",
    "                            kernel=pulse_library.const(amplitude=1, length=2e-6),\n",
    "                        )\n",
    "                        # add a processing delay\n",
    "                        dsl.delay(f\"twpa{idx}_acquire\", time=0.5e-6)\n",
    "\n",
    "    # Set the pump frequency and power sweeps in the experiment calibration\n",
    "    exp_calibration = dsl.experiment_calibration()\n",
    "    for idx in range(4):\n",
    "        exp_calibration[f\"twpa{idx}_acquire\"] = SignalCalibration(\n",
    "            amplifier_pump=AmplifierPump(pump_frequency=frequency, pump_power=power)\n",
    "        )\n",
    "\n",
    "        # Map the ExperimentSignals \"q{idx}_measure\", \"q{idx}_acquire\" to the logical signal lines defined in the `DeviceSetup`\n",
    "        dsl.map_signal(f\"twpa{idx}_measure\", f\"twpa{idx}/measure\")\n",
    "        dsl.map_signal(f\"twpa{idx}_acquire\", f\"twpa{idx}/acquire\")"
   ]
  },
  {
   "cell_type": "markdown",
   "metadata": {},
   "source": [
    "Next, we instantiate the `Experiment` by running the function `simple_experiment`."
   ]
  },
  {
   "cell_type": "code",
   "execution_count": null,
   "metadata": {},
   "outputs": [],
   "source": [
    "experiment = scan_pump_parameters_experiment(5)"
   ]
  },
  {
   "cell_type": "markdown",
   "metadata": {},
   "source": [
    "Note that, the mapping between the `ExperimentSignal`s and the logical signal lines do not have to be done as part of `simple_experiment` but can also be done or modified on the `Experiment` instance returned by `simple_experiment` as follows:\n",
    "\n",
    "```python\n",
    "twpa0_ls = device_setup.logical_signal_groups[\"twpa0\"].logical_signals\n",
    "experiment.map_signal(\"measure\", twpa0_ls[\"measure\"])\n",
    "experiment.map_signal(\"acquire\", twpa0_ls[\"acquire\"])\n",
    "```\n",
    "\n",
    "You can also map an `ExperimentSignal` directly to a `LogicalSignal` instead of its UID, as written above."
   ]
  },
  {
   "cell_type": "markdown",
   "metadata": {},
   "source": [
    "Compile the simple_experiment and inspect it using the pulse-sheet viewer:"
   ]
  },
  {
   "cell_type": "code",
   "execution_count": null,
   "metadata": {},
   "outputs": [],
   "source": [
    "compiled_experiment = session.compile(experiment)"
   ]
  },
  {
   "cell_type": "markdown",
   "metadata": {},
   "source": [
    "You can inspect your experiment by using the interactive pulse-sheet viewer. Calling the function `show_pulse_sheet` creates an HTML file that you can open in your browser. To show the pulse sheet in the kernel, set `interactive=True`."
   ]
  },
  {
   "cell_type": "code",
   "execution_count": null,
   "metadata": {},
   "outputs": [],
   "source": [
    "show_pulse_sheet(\"scan_pump_parameters\", compiled_experiment, interactive=True)"
   ]
  },
  {
   "cell_type": "markdown",
   "metadata": {},
   "source": [
    "Finally, let's run the experiment on the instrument."
   ]
  },
  {
   "cell_type": "code",
   "execution_count": null,
   "metadata": {},
   "outputs": [],
   "source": [
    "results = session.run()"
   ]
  },
  {
   "cell_type": "markdown",
   "metadata": {},
   "source": [
    "You can inspect the acquired results for any of the handle names that we've specified when defining the pulse sequence; for example, `twpa0/result`:"
   ]
  },
  {
   "cell_type": "code",
   "execution_count": null,
   "metadata": {},
   "outputs": [],
   "source": [
    "results[\"twpa0/result\"]"
   ]
  },
  {
   "cell_type": "markdown",
   "metadata": {},
   "source": [
    "Or, alternatively,"
   ]
  },
  {
   "cell_type": "code",
   "execution_count": null,
   "metadata": {},
   "outputs": [],
   "source": [
    "results.twpa0.result"
   ]
  }
 ],
 "metadata": {
  "kernelspec": {
   "display_name": "Python 3 (ipykernel)",
   "language": "python",
   "name": "python3"
  },
  "language_info": {
   "codemirror_mode": {
    "name": "ipython",
    "version": 3
   },
   "file_extension": ".py",
   "mimetype": "text/x-python",
   "name": "python",
   "nbconvert_exporter": "python",
   "pygments_lexer": "ipython3",
   "version": "3.13.2"
  }
 },
 "nbformat": 4,
 "nbformat_minor": 4
}
