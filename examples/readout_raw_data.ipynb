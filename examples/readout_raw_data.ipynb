{
 "cells": [
  {
   "cell_type": "markdown",
   "id": "19683d8e",
   "metadata": {},
   "source": [
    "# Readout Raw Data\n",
    "\n",
    "In this notebook, we demonstrate how to access the raw time traces of the readout integration unit for both UHFQA and SHFQA, which may be used to optimize the readout fidelity when designing matched filter functions for the readout integration weights"
   ]
  },
  {
   "cell_type": "markdown",
   "id": "2091d81c",
   "metadata": {},
   "source": [
    "# 0. Python Imports"
   ]
  },
  {
   "cell_type": "code",
   "execution_count": null,
   "id": "537d6564",
   "metadata": {
    "ExecuteTime": {
     "end_time": "2021-11-22T09:37:42.367732Z",
     "start_time": "2021-11-22T09:37:39.002934Z"
    }
   },
   "outputs": [],
   "source": [
    "%config IPCompleter.greedy=True\n",
    "\n",
    "# convenience import for all QCCS software functionality\n",
    "from laboneq.simple import *\n",
    "\n",
    "# helper import \n",
    "from example_notebook_helper import *"
   ]
  },
  {
   "cell_type": "markdown",
   "id": "91e842db",
   "metadata": {},
   "source": [
    "# 1. Define Device Setup and Calibration"
   ]
  },
  {
   "cell_type": "markdown",
   "id": "4e01d7e4",
   "metadata": {},
   "source": [
    "## 1.1 Device Setup\n",
    "\n",
    "This device setup contains both an UHFQA and a SHFQA in order to demonstrate raw readout trace access for both device types"
   ]
  },
  {
   "cell_type": "code",
   "execution_count": null,
   "id": "c4275166",
   "metadata": {
    "ExecuteTime": {
     "end_time": "2021-11-22T09:37:42.430089Z",
     "start_time": "2021-11-22T09:37:42.415542Z"
    }
   },
   "outputs": [],
   "source": [
    "descriptor=\"\"\"\\\n",
    "instrument_list:\n",
    "  HDAWG:\n",
    "  - address: DEV8001\n",
    "    uid: device_hdawg \n",
    "  UHFQA:\n",
    "  - address: DEV2001    \n",
    "    uid: device_uhfqa\n",
    "  SHFQA:\n",
    "  - address: DEV12001    \n",
    "    uid: device_shfqa\n",
    "  PQSC:  \n",
    "  - address: DEV10001\n",
    "    uid: device_pqsc\n",
    "connections:\n",
    "  device_hdawg:    \n",
    "    - iq_signal: q0/drive_line\n",
    "      ports: [SIGOUTS/0, SIGOUTS/1]        \n",
    "    - iq_signal: q1/drive_line\n",
    "      ports: [SIGOUTS/2, SIGOUTS/3]\n",
    "    - rf_signal: q0/flux_line\n",
    "      ports: [SIGOUTS/4]        \n",
    "    - rf_signal: q1/flux_line\n",
    "      ports: [SIGOUTS/5]              \n",
    "    - to: device_uhfqa\n",
    "      port: DIOS/0\n",
    "  device_uhfqa:    \n",
    "    - iq_signal: q0/measure_line\n",
    "      ports: [SIGOUTS/0, SIGOUTS/1]        \n",
    "    - acquire_signal: q0/acquire_line\n",
    "  device_shfqa:\n",
    "    - iq_signal: q1/measure_line\n",
    "      ports: QACHANNELS/0/OUTPUT\n",
    "    - acquire_signal: q1/acquire_line\n",
    "      ports: QACHANNELS/0/INPUT\n",
    "  device_pqsc:\n",
    "    - to: device_hdawg\n",
    "      port: ZSYNCS/0\n",
    "    - to: device_shfqa\n",
    "      port: ZSYNCS/1\n",
    "\"\"\""
   ]
  },
  {
   "cell_type": "markdown",
   "id": "8129d20c",
   "metadata": {},
   "source": [
    "## 1.2 Calibration"
   ]
  },
  {
   "cell_type": "code",
   "execution_count": null,
   "id": "c92e41eb",
   "metadata": {
    "ExecuteTime": {
     "end_time": "2021-11-22T09:37:43.392095Z",
     "start_time": "2021-11-22T09:37:43.377110Z"
    }
   },
   "outputs": [],
   "source": [
    "def calibrate_devices(device_setup):\n",
    "    \n",
    "    device_setup.logical_signal_groups[\"q0\"].logical_signals[\"drive_line\"].calibration = \\\n",
    "        SignalCalibration(\n",
    "            oscillator=Oscillator(\n",
    "                uid=\"drive_q0_osc\",\n",
    "                frequency=1e8,\n",
    "                modulation_type=ModulationType.HARDWARE\n",
    "            ),\n",
    "            mixer_calibration=MixerCalibration(\n",
    "                voltage_offsets=[0.02, 0.01],\n",
    "                correction_matrix = [\n",
    "                    [1.0, 0.0],\n",
    "                    [0.0, 1.0],\n",
    "                ]\n",
    "            )\n",
    "        )\n",
    "    device_setup.logical_signal_groups[\"q0\"].logical_signals[\"measure_line\"].calibration = \\\n",
    "        SignalCalibration(\n",
    "            oscillator=Oscillator(\n",
    "                uid=\"measure_q0_osc\",\n",
    "                frequency=1e8,\n",
    "                modulation_type=ModulationType.SOFTWARE\n",
    "            ),\n",
    "        )\n",
    "    device_setup.logical_signal_groups[\"q0\"].logical_signals[\"acquire_line\"].calibration = SignalCalibration(\n",
    "        oscillator = Oscillator(\n",
    "            uid=\"acquire_q0_osc\",\n",
    "            frequency=1e8,\n",
    "            modulation_type=ModulationType.SOFTWARE\n",
    "            ),\n",
    "            # delay between readout pulse and start of signal integration\n",
    "            port_delay=50e-9\n",
    "        )\n",
    "    \n",
    "    device_setup.logical_signal_groups[\"q1\"].logical_signals[\"drive_line\"].calibration = \\\n",
    "        SignalCalibration(\n",
    "            oscillator=Oscillator(\n",
    "                uid=\"drive_q1_osc\",\n",
    "                frequency=1e8,\n",
    "                modulation_type=ModulationType.HARDWARE\n",
    "            ),\n",
    "            mixer_calibration=MixerCalibration(\n",
    "                voltage_offsets=[0.02, 0.01],\n",
    "                correction_matrix = [\n",
    "                    [1.0, 0.0],\n",
    "                    [0.0, 1.0],\n",
    "                ]\n",
    "            )\n",
    "        )\n",
    "    device_setup.logical_signal_groups[\"q1\"].logical_signals[\"measure_line\"].calibration = \\\n",
    "        SignalCalibration(\n",
    "            oscillator=Oscillator(\n",
    "                uid=\"measure_q1_osc\",\n",
    "                frequency=1e8,\n",
    "                modulation_type=ModulationType.SOFTWARE\n",
    "            ),\n",
    "            local_oscillator=Oscillator(\n",
    "                frequency=4e9,\n",
    "                carrier_type=CarrierType.RF\n",
    "            ),\n",
    "            range=10\n",
    "        )\n",
    "\n",
    "    device_setup.logical_signal_groups[\"q1\"].logical_signals[\"acquire_line\"].calibration = SignalCalibration(\n",
    "        oscillator = Oscillator(\n",
    "            uid=\"acquire_q1_osc\",\n",
    "            frequency=1e8,\n",
    "            modulation_type=ModulationType.SOFTWARE\n",
    "        ),\n",
    "        # delay between readout pulse and start of signal integration\n",
    "        port_delay=150e-9,\n",
    "    )\n",
    "       "
   ]
  },
  {
   "cell_type": "markdown",
   "id": "0cd675b0",
   "metadata": {},
   "source": [
    "## 1.3 Create device setup"
   ]
  },
  {
   "cell_type": "code",
   "execution_count": null,
   "id": "9593232d",
   "metadata": {
    "ExecuteTime": {
     "end_time": "2021-11-22T09:37:45.523620Z",
     "start_time": "2021-11-22T09:37:45.513649Z"
    }
   },
   "outputs": [],
   "source": [
    "def create_device_setup():\n",
    "    device_setup = DeviceSetup.from_descriptor(\n",
    "        descriptor,\n",
    "        server_host=\"my_ip_address\",\n",
    "        server_port=\"8004\",\n",
    "        setup_name=\"my_QCCS_setup\",\n",
    "    ) \n",
    "    calibrate_devices(device_setup)\n",
    "    return device_setup"
   ]
  },
  {
   "cell_type": "markdown",
   "id": "5f9e26d9",
   "metadata": {},
   "source": [
    "# 2. Readout raw time traces with a UHFQA or an SHFQA\n",
    "\n",
    "readout raw integrsation traces for two situations - qubit in groundstate and qubit in excited state\n",
    "\n",
    "difference in raw traces can be used for readout weight optimisation"
   ]
  },
  {
   "cell_type": "markdown",
   "id": "aae294c3",
   "metadata": {},
   "source": [
    "## 2.1 Define the Experiment"
   ]
  },
  {
   "cell_type": "code",
   "execution_count": null,
   "id": "f6bd48ce",
   "metadata": {},
   "outputs": [],
   "source": [
    "# create the device setup\n",
    "device_setup = create_device_setup()\n",
    "\n",
    "# how many averages\n",
    "average_exponent = 10  # used for 2^n averages, n=average_exponent, maximum: n = 19\n",
    "\n",
    "## define pulses used for experiment\n",
    "\n",
    "# qubit drive - needs to be calibrated pulse to bring qubit into excited state\n",
    "x180 = pulse_library.gaussian(uid=\"x180\", length=100e-9, amplitude=1.0)\n",
    "# qubit readout pulse\n",
    "readout_pulse = pulse_library.const(\n",
    "    uid=\"readout_pulse\", length=100e-9, amplitude=1.0\n",
    ")\n",
    "# readout integration weights - here simple square pulse, i.e. same weights at all times\n",
    "readout_weighting_function = pulse_library.const(\n",
    "    uid=\"readout_weighting_function\", length=200e-9, amplitude=1.0\n",
    ")"
   ]
  },
  {
   "cell_type": "code",
   "execution_count": null,
   "id": "05c89091",
   "metadata": {
    "ExecuteTime": {
     "end_time": "2021-11-22T09:38:02.293433Z",
     "start_time": "2021-11-22T09:37:55.697345Z"
    }
   },
   "outputs": [],
   "source": [
    "# Create Experiment - qubit remains in ground state\n",
    "exp_0 = Experiment(\n",
    "    uid=\"Optimal weights\",\n",
    "    signals=[\n",
    "        ExperimentSignal(uid=\"drive\"),\n",
    "        ExperimentSignal(uid=\"measure\"),\n",
    "        ExperimentSignal(uid=\"acquire\"),\n",
    "    ],\n",
    ")\n",
    "# outer averaging loop - real-time averaging of raw data\n",
    "with exp_0.acquire_loop_rt(uid=\"shots\", count=pow(2, average_exponent), \n",
    "    averaging_mode=AveragingMode.CYCLIC, acquisition_type=AcquisitionType.RAW\n",
    "    ):\n",
    "    # qubit readout and data acquisition\n",
    "    with exp_0.section(uid=\"qubit_readout\"):\n",
    "        exp_0.play(signal=\"measure\", pulse=readout_pulse)\n",
    "        exp_0.acquire(\n",
    "            signal=\"acquire\",\n",
    "            handle=\"ac_0\",\n",
    "            kernel=readout_weighting_function\n",
    "        )\n",
    "    # delay section - to facilitate signal processing\n",
    "    with exp_0.section(uid=\"relax\"):\n",
    "        exp_0.delay(signal=\"measure\", time=1e-6)"
   ]
  },
  {
   "cell_type": "code",
   "execution_count": null,
   "id": "bcef9651",
   "metadata": {},
   "outputs": [],
   "source": [
    "# Create Experiment - qubit gets excited into excited state\n",
    "exp_1 = Experiment(\n",
    "    uid=\"Optimal weights\",\n",
    "    signals=[\n",
    "        ExperimentSignal(uid=\"drive\"),\n",
    "        ExperimentSignal(uid=\"measure\"),\n",
    "        ExperimentSignal(uid=\"acquire\"),\n",
    "    ],\n",
    ")\n",
    "# outer averaging loop - real-time averaging of raw data\n",
    "with exp_1.acquire_loop_rt(uid=\"shots\", count=pow(2, average_exponent), \n",
    "    averaging_mode=AveragingMode.CYCLIC, acquisition_type=AcquisitionType.RAW\n",
    "    ):\n",
    "    # qubit excitation section - drive qubit into excited state\n",
    "    with exp_1.section(uid=\"qubit_excitation\"):\n",
    "        exp_1.play(signal=\"drive\", pulse=x180)\n",
    "    # qubit readout and data acquisition\n",
    "    with exp_1.section(uid=\"qubit_readout\"):\n",
    "        exp_1.reserve(signal=\"drive\")\n",
    "        exp_1.play(signal=\"measure\", pulse=readout_pulse)\n",
    "        exp_1.acquire(\n",
    "            signal=\"acquire\",\n",
    "            handle=\"ac_1\",\n",
    "            kernel=readout_weighting_function\n",
    "        )\n",
    "    # delay section - to facilitate signal processing\n",
    "    with exp_1.section(uid=\"relax\"):\n",
    "        exp_1.delay(signal=\"measure\", time=1e-6)"
   ]
  },
  {
   "cell_type": "code",
   "execution_count": null,
   "id": "6c29cf9a",
   "metadata": {},
   "outputs": [],
   "source": [
    "# play pulses on and readout qubit 0 to use UHFQA for readout\n",
    "signal_map_q0 = {\n",
    "    \"drive\": \"/logical_signal_groups/q0/drive_line\",\n",
    "    \"measure\": \"/logical_signal_groups/q0/measure_line\",\n",
    "    \"acquire\": \"/logical_signal_groups/q0/acquire_line\",\n",
    "}"
   ]
  },
  {
   "cell_type": "code",
   "execution_count": null,
   "id": "9c8add8e",
   "metadata": {},
   "outputs": [],
   "source": [
    "# create session and connect to it\n",
    "session = Session(device_setup=device_setup)\n",
    "session.connect(do_emulation=True)\n",
    "\n",
    "# apply signal map for qubit 0\n",
    "exp_0.set_signal_map(signal_map_q0)\n",
    "exp_1.set_signal_map(signal_map_q0)\n",
    "\n",
    "# run the first experiment and access the data\n",
    "results_0 = session.run(exp_0)\n",
    "raw_0 = results_0.get_data(\"ac_0\")\n",
    "\n",
    "# run the second experiment and access the data\n",
    "results_1 = session.run(exp_1)\n",
    "raw_1 = results_1.get_data(\"ac_1\")"
   ]
  },
  {
   "cell_type": "markdown",
   "id": "13d24ca1",
   "metadata": {},
   "source": [
    "## 2.2 Plot the results"
   ]
  },
  {
   "cell_type": "code",
   "execution_count": null,
   "id": "fa2040a3",
   "metadata": {
    "ExecuteTime": {
     "end_time": "2021-11-22T09:38:06.751744Z",
     "start_time": "2021-11-22T09:38:06.590533Z"
    }
   },
   "outputs": [],
   "source": [
    "time = np.linspace(0, len(raw_0)/1.8, len(raw_0))\n",
    "# for groundstate\n",
    "plt.plot(time, np.real(raw_0), 'b')\n",
    "plt.plot(time, np.imag(raw_0), '-b')\n",
    "# for excited state\n",
    "plt.plot(time, np.real(raw_1), 'r')\n",
    "plt.plot(time, np.imag(raw_1), '-r')\n",
    "\n",
    "plt.xlabel(\"Time (ns)\")\n",
    "plt.ylabel(\"Amplitude (a.u.)\")"
   ]
  },
  {
   "cell_type": "code",
   "execution_count": null,
   "id": "61ef68ae",
   "metadata": {},
   "outputs": [],
   "source": []
  }
 ],
 "metadata": {
  "hide_input": false,
  "kernelspec": {
   "display_name": "Python 3.10.6 64-bit ('0.67')",
   "language": "python",
   "name": "python3"
  },
  "language_info": {
   "codemirror_mode": {
    "name": "ipython",
    "version": 3
   },
   "file_extension": ".py",
   "mimetype": "text/x-python",
   "name": "python",
   "nbconvert_exporter": "python",
   "pygments_lexer": "ipython3",
   "version": "3.10.6"
  },
  "toc": {
   "base_numbering": 1,
   "nav_menu": {},
   "number_sections": true,
   "sideBar": true,
   "skip_h1_title": false,
   "title_cell": "Table of Contents",
   "title_sidebar": "Contents",
   "toc_cell": false,
   "toc_position": {
    "height": "calc(100% - 180px)",
    "left": "10px",
    "top": "150px",
    "width": "426.667px"
   },
   "toc_section_display": true,
   "toc_window_display": true
  },
  "varInspector": {
   "cols": {
    "lenName": 16,
    "lenType": 16,
    "lenVar": 40
   },
   "kernels_config": {
    "python": {
     "delete_cmd_postfix": "",
     "delete_cmd_prefix": "del ",
     "library": "var_list.py",
     "varRefreshCmd": "print(var_dic_list())"
    },
    "r": {
     "delete_cmd_postfix": ") ",
     "delete_cmd_prefix": "rm(",
     "library": "var_list.r",
     "varRefreshCmd": "cat(var_dic_list()) "
    }
   },
   "types_to_exclude": [
    "module",
    "function",
    "builtin_function_or_method",
    "instance",
    "_Feature"
   ],
   "window_display": false
  },
  "vscode": {
   "interpreter": {
    "hash": "2964833902abb4b504aeb8d051fc3da97bb3d067d9ea2cab4642be07339a901d"
   }
  }
 },
 "nbformat": 4,
 "nbformat_minor": 5
}
