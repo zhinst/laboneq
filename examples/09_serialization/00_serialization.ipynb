{
 "cells": [
  {
   "cell_type": "markdown",
   "metadata": {},
   "source": [
    "# New serializers in LabOne Q\n",
    "\n",
    "The new LabOne Q serialization framework allows for more flexibility in the serialization process. It has a versioning scheme that keeps track of changes in the LabOne Q data structures and ensures backwards compatibility between different versions of LabOne Q.\n",
    "\n",
    "The new serialization framework also makes it possible to serialize and deserialize objects that are not part of the standard LabOne Q library. Such features are useful, for example, when users want to implement new [quantum elements](https://docs.zhinst.com/labone_q_user_manual/core/functionality_and_concepts/04_quantum_processing_unit/tutorials/01_quantum_elements.html) or [quantum operations](https://docs.zhinst.com/labone_q_user_manual/core/functionality_and_concepts/04_quantum_processing_unit/tutorials/00_quantum_operations.html) classes.\n",
    "\n",
    "When the structure of the object changes, new versions of the serialization can be added to the serializer. The serializer can then handle the different versions of the objects automatically and hence maintain the backwards compatibility.\n",
    "\n",
    "The currently supported objects for serialization are:\n",
    "* Python built-in data types\n",
    "* Numpy arrays\n",
    "* QPU\n",
    "* QuantumParameters\n",
    "* QuantumElement\n",
    "* Results\n",
    "* Workflow\n",
    "* DeviceSetup\n",
    "* Calibration\n",
    "* Experiment\n",
    "* CompiledExperiment"
   ]
  },
  {
   "cell_type": "markdown",
   "metadata": {},
   "source": [
    "## What is new in the serialization framework"
   ]
  },
  {
   "cell_type": "markdown",
   "metadata": {},
   "source": [
    "### Session\n",
    "\n",
    "The serialization for `Session` objects is no longer supported in the new serialization framework."
   ]
  },
  {
   "cell_type": "markdown",
   "metadata": {},
   "source": [
    "### CompiledExperiment\n",
    "\n",
    "As is already the case in the old serialization framework, the new serialization framework does not promise backward compatibility for `CompiledExperiment`. A successful compilation with a previous version of LabOne Q is not guaranteed. Users are advised to save the `Experiment` object and recreate the `CompiledExperiment` by calling [`session.compile()`](https://docs.zhinst.com/labone_q_user_manual/core/reference/dsl/session.html?h=session+compile#laboneq.dsl.session.Session.compile) or the task [`compile_experiment()`](https://docs.zhinst.com/labone_q_user_manual/core/reference/workflow/tasks/compile_experiment.html?h=compile_experiment#laboneq.workflow.tasks.compile_experiment)."
   ]
  },
  {
   "cell_type": "markdown",
   "metadata": {},
   "source": [
    "### Saving and loading methods\n",
    "\n",
    "The new serialization framework uses a centralised interface for saving and loading LabOne Q data classes: `save`, `load`, `from_dict`, `to_dict`, `from_json` and `to_json` that can be imported from `laboneq.simple`. These centralised functions supersede the `.save` and `.load` class methods associated with the LabOne Q data classes, which are no longer supported; for example, `Experiment.load` and `Experiment.save`.\n",
    "\n",
    "Saving and loading any LabOne Q data class in the new serialization framework becomes simply:\n",
    "\n",
    "```python\n",
    "from laboneq.simple import *\n",
    "\n",
    "save(laboneq_object, filepath)  # save\n",
    "laboneq_object = load(filepath)  # load\n",
    "```\n"
   ]
  },
  {
   "cell_type": "markdown",
   "metadata": {},
   "source": [
    "Let's have a look at how the new serializers work.\n",
    "\n",
    "First, we import the serialization functions from `laboneq.simple`:"
   ]
  },
  {
   "cell_type": "code",
   "execution_count": null,
   "metadata": {},
   "outputs": [],
   "source": [
    "from __future__ import annotations\n",
    "\n",
    "from laboneq.simple import from_dict, to_dict, to_json, from_json, save, load"
   ]
  },
  {
   "cell_type": "markdown",
   "metadata": {},
   "source": [
    "If you want to serialize an object to a dictionary form, just call `to_dict()`. For example, to serialize a `QuantumElement` object ,"
   ]
  },
  {
   "cell_type": "code",
   "execution_count": null,
   "metadata": {},
   "outputs": [],
   "source": [
    "from laboneq.simple import QuantumElement\n",
    "\n",
    "q0 = QuantumElement(\"q0\")\n",
    "serialized_q0 = to_dict(q0)\n",
    "serialized_q0"
   ]
  },
  {
   "cell_type": "markdown",
   "metadata": {},
   "source": [
    "Let's have a look at what is contained in the returned dictionary.\n",
    "\n",
    "The most important field is `__data__`, which contains information required to initialize the serialized objects again.\n",
    "The meta fields `__serializer__` and `__version__` help to reload the object with correct versioning. We will learn more about these fields in the next section.\n",
    "The field `__creator__` tells us the version of LabOne Q that performs the serialization. This is not crucial for the serialization process but could be useful for troubleshooting.\n",
    "\n",
    "Please note that the returned dictionary is not directly Json-serializable as it may contain numpy arrays which requires a third party library such as `orjson` to convert it to a json. If you want to serialize the object directly to json, consider using `to_json` that will be explained shortly."
   ]
  },
  {
   "cell_type": "markdown",
   "metadata": {},
   "source": [
    "To load the object back, we use the `from_dict` function:"
   ]
  },
  {
   "cell_type": "code",
   "execution_count": null,
   "metadata": {},
   "outputs": [],
   "source": [
    "loaded_q0 = from_dict(serialized_q0)\n",
    "loaded_q0"
   ]
  },
  {
   "cell_type": "markdown",
   "metadata": {},
   "source": [
    "The functions `to_json` and `from_json` can be used in a similar way to convert objects to/from byte strings. Serializing objects to a byte strings could be useful when we want to send them over a network."
   ]
  },
  {
   "cell_type": "code",
   "execution_count": null,
   "metadata": {},
   "outputs": [],
   "source": [
    "byte_string_q0 = to_json(q0)\n",
    "byte_string_q0"
   ]
  },
  {
   "cell_type": "code",
   "execution_count": null,
   "metadata": {},
   "outputs": [],
   "source": [
    "loaded_q0 = from_json(byte_string_q0)\n",
    "loaded_q0"
   ]
  },
  {
   "cell_type": "markdown",
   "metadata": {},
   "source": [
    "Last but not least, we can convert objects to byte strings and save them to a file by using `save`:"
   ]
  },
  {
   "cell_type": "code",
   "execution_count": null,
   "metadata": {},
   "outputs": [],
   "source": [
    "save(q0, \"q0.json\")"
   ]
  },
  {
   "cell_type": "markdown",
   "metadata": {},
   "source": [
    "And to load it back,"
   ]
  },
  {
   "cell_type": "code",
   "execution_count": null,
   "metadata": {},
   "outputs": [],
   "source": [
    "loaded_q0 = load(\"q0.json\")\n",
    "loaded_q0"
   ]
  },
  {
   "cell_type": "markdown",
   "metadata": {},
   "source": [
    "### Custom serializers"
   ]
  },
  {
   "cell_type": "markdown",
   "metadata": {},
   "source": [
    "In the new serialization framework, serialization is decoupled from the data classes. A serializer class must be written for each data class that needs support for serialization.\n",
    "\n",
    "LabOne Q provides a global default serializer registry that already contains serializers for the LabOne Q objects listed [at the top of this notebook](#new-serializers-in-labone-q). To serialize LabOne Q objects that are not in this list, and hence not supported directly by one of the new serializers, you can write a new serialization class and add it into the serializer registry. Let's have a look at how to do this."
   ]
  },
  {
   "cell_type": "markdown",
   "metadata": {},
   "source": [
    "#### Writing and registering new serializers\n",
    "\n",
    "A serializer must be written for any new class that does not have an existing serializer implemented for it or its parent classes.\n",
    "\n",
    "We will learn how to write a new serializer class by writing one for the `QuantumElement` class and calling it `QuantumElementSerializer`.\n",
    "\n",
    "<div class=\"alert alert-block alert-info\">\n",
    "<b>Note:</b>\n",
    "The serializer for the `QuantumElement` class is already implemented in the `laboneq` package. You can immediately save and load `QuantumElement` without writing a new one.\n",
    "This is just an example to illustrate how to write a new serializer.\n",
    "</div>\n",
    "\n",
    "\n",
    "\n"
   ]
  },
  {
   "cell_type": "markdown",
   "metadata": {},
   "source": [
    "Let's start by importing the needed modules and objects:"
   ]
  },
  {
   "cell_type": "code",
   "execution_count": null,
   "metadata": {},
   "outputs": [],
   "source": [
    "import attrs\n",
    "\n",
    "from laboneq.serializers.base import VersionedClassSerializer\n",
    "from laboneq.serializers.serializer_registry import serializer\n",
    "from laboneq.serializers.types import (\n",
    "    DeserializationOptions,\n",
    "    JsonSerializableType,\n",
    "    SerializationOptions,\n",
    ")\n",
    "from laboneq.serializers.core import import_cls"
   ]
  },
  {
   "cell_type": "markdown",
   "metadata": {},
   "source": [
    "The new serializer class must inherit from `VersionedClassSerializer` and must define the two class variables `SERIALIZER_ID` and `VERSION`.\n",
    "\n",
    "Specifying `SERIALIZER_ID` as the path to the class could be helpful when the serializer is not registered in the global `serializer_registry`. In this case, the serialization engine imports the class of the object using the path specified in `SERIALIZER_ID`.\n",
    "\n",
    "We should not forget to add our new serializer to `serializer_registry`. This can be done via the decorator `@serializer`. "
   ]
  },
  {
   "cell_type": "code",
   "execution_count": null,
   "metadata": {},
   "outputs": [],
   "source": [
    "@serializer(types=[QuantumElement], public=True)\n",
    "class QuantumElementSerializer(VersionedClassSerializer[QuantumElement]):\n",
    "    SERIALIZER_ID = \"QuantumElementSerializer\"\n",
    "    VERSION = 1"
   ]
  },
  {
   "cell_type": "markdown",
   "metadata": {},
   "source": [
    "In addition, we need to implement the following methods for the serializer: `to_dict` and `from_dict_vx`, where `x` is the version of the serializer.\n",
    "\n",
    "Let's first look at the `to_dict` method, which returns a dictionary with three compulsory fields: `__serializer__`, `__version__`, and `__data__`.\n",
    "\n",
    "The former two are metadata and required for selecting the right serializer with the correct version.\n",
    "\n",
    "The field `__data__` contains information required for loading the objects properly. Inspecting the definition of the  `QuantumElement` class, we see that we need the following attributes to create a `QuantumElement` instance: `uid`, `signals`, and `parameters`. Because both `uid` and `signals` are Python primitive data types, we can simply assign the corresponding values `obj.uid` and `obj.signals`. However, we need both the class name and the serialized form for abstract data types such as `parameters`.\n",
    "\n",
    "Finally, the name of the class we are serializing goes into `quantum_element_class`.\n"
   ]
  },
  {
   "cell_type": "code",
   "execution_count": null,
   "metadata": {},
   "outputs": [],
   "source": [
    "@classmethod\n",
    "def to_dict(\n",
    "    cls, obj: QuantumElement, options: SerializationOptions | None = None\n",
    ") -> JsonSerializableType:\n",
    "    return {\n",
    "        \"__serializer__\": cls.serializer_id(),\n",
    "        \"__version__\": cls.version(),\n",
    "        \"__data__\": {\n",
    "            \"quantum_element_class\": f\"{obj.__class__.__module__}.{obj.__class__.__name__}\",\n",
    "            \"uid\": obj.uid,\n",
    "            \"signals\": obj.signals,\n",
    "            \"parameter_class\": f\"{obj.parameters.__class__.__module__}.{obj.parameters.__class__.__name__}\",\n",
    "            \"parameters\": attrs.asdict(obj.parameters),\n",
    "        },\n",
    "    }"
   ]
  },
  {
   "cell_type": "markdown",
   "metadata": {},
   "source": [
    "Let's continue with the deserializing method `from_dict_v1`, which initializes a new `QuantumElement` object with inputs taken from the fields of `__data__`."
   ]
  },
  {
   "cell_type": "code",
   "execution_count": null,
   "metadata": {},
   "outputs": [],
   "source": [
    "@classmethod\n",
    "def from_dict_v1(\n",
    "    cls,\n",
    "    serialized_data: JsonSerializableType,\n",
    "    options: DeserializationOptions | None = None,\n",
    ") -> QuantumElement:\n",
    "    data = serialized_data[\"__data__\"]\n",
    "    qe_cls = import_cls(data[\"quantum_element_class\"])\n",
    "    param_cls = import_cls(data[\"parameter_class\"])\n",
    "    return qe_cls(\n",
    "        uid=data[\"uid\"],\n",
    "        signals=data[\"signals\"],\n",
    "        parameters=param_cls(**from_dict(data[\"parameters\"])),\n",
    "    )"
   ]
  },
  {
   "cell_type": "markdown",
   "metadata": {},
   "source": [
    "#### Adding a new version to an existing serializer and dealing with API changes\n",
    "\n",
    "Now let's imagine we'd like to rename `parameters` to `attributes`. This certainly breaks the backwards compatibility of `QuantumElement` class and requires us to update its serializer, `QuantumElementSerializer`.\n",
    "\n",
    "We first need to increase `VERSION` of the serializer to 2 and update `to_dict` accordingly."
   ]
  },
  {
   "cell_type": "code",
   "execution_count": null,
   "metadata": {},
   "outputs": [],
   "source": [
    "@serializer(types=[QuantumElement], public=True)\n",
    "class QuantumElementSerializer(VersionedClassSerializer[QuantumElement]):\n",
    "    SERIALIZER_ID = \"laboneq.serializers.implementations.QuantumElementSerializer\"\n",
    "    VERSION = 2\n",
    "\n",
    "    @classmethod\n",
    "    def to_dict(\n",
    "        cls, obj: QuantumElement, options: SerializationOptions | None = None\n",
    "    ) -> JsonSerializableType:\n",
    "        return {\n",
    "            \"__serializer__\": cls.serializer_id(),\n",
    "            \"__version__\": cls.version(),\n",
    "            \"__data__\": {\n",
    "                \"quantum_element_class\": f\"{obj.__class__.__module__}.{obj.__class__.__name__}\",\n",
    "                \"uid\": obj.uid,\n",
    "                \"signals\": obj.signals,\n",
    "                \"attribute_class\": f\"{obj.attributes.__class__.__module__}.{obj.attributes.__class__.__name__}\",\n",
    "                \"attribute\": attrs.asdict(obj.attributes),\n",
    "            },\n",
    "        }"
   ]
  },
  {
   "cell_type": "markdown",
   "metadata": {},
   "source": [
    "We then add `from_dict_v2` using the new signature of `QuantumElement` class."
   ]
  },
  {
   "cell_type": "code",
   "execution_count": null,
   "metadata": {},
   "outputs": [],
   "source": [
    "@classmethod\n",
    "def from_dict_v2(\n",
    "    cls,\n",
    "    serialized_data: JsonSerializableType,\n",
    "    options: DeserializationOptions | None = None,\n",
    ") -> QuantumElement:\n",
    "    data = serialized_data[\"__data__\"]\n",
    "    qe_cls = import_cls(data[\"quantum_element_class\"])\n",
    "    param_cls = import_cls(data[\"attribute_class\"])\n",
    "    return qe_cls(\n",
    "        uid=data[\"uid\"],\n",
    "        signals=data[\"signals\"],\n",
    "        attribute=param_cls(**from_dict(data[\"attribute\"])),\n",
    "    )"
   ]
  },
  {
   "cell_type": "markdown",
   "metadata": {},
   "source": [
    "## Performance improvement\n",
    "\n",
    "The speed of saving and loading has been enhanced in the new serialization framework.\n",
    "\n",
    "To illustrate this improvement, we compare the performance of the old serializer and the new one when saving and loading randomized benchmarking experiments. These experiments are based on examples from our [how-to-guide](https://docs.zhinst.com/labone_q_user_manual/applications_library/how-to-guides/sources/01_superconducting_qubits/02_pulse_sequences/02_advanced_qubit_experiments/01_randomized_benchmarking.html).\n",
    "\n",
    "For a realistic comparison, we set the experiment parameters as follows: `(max_sequence_exponent=10, n_sequences_per_length=10, chunk_count=10)`\n",
    "\n",
    "The comparison was performed with the new serializer in LabOneQ release 2.56 and the old serializer that existed in LabOneQ up until version 2.55.\n",
    "\n",
    "| Task    | Speed up|\n",
    "| -------- | ------- |\n",
    "| `to_dict(experiment)`  | 2x   |\n",
    "| `from_dict(experiment)` | 3x     |\n",
    "| `save(experiment)`   | 2x    |\n",
    "| `load(experiment)`   | 2x    |\n",
    "| `save(compiled_experiment)`   | 1.5x    |\n",
    "| `load(compiled_experiment)`   | 1.9x    |"
   ]
  },
  {
   "cell_type": "markdown",
   "metadata": {},
   "source": [
    "## Deprecation\n",
    "\n",
    "**The old LabOne Q serialization framework was removed in LabOne Q version 2.55.0 on June 19th.** We advise our users to migrate to the new serialization framework as soon as possible.\n",
    "\n",
    "The old and the new serializers have different serialization format. While the new serializers are still able to load the data saved by the old serializers, this is not ensured after the old serializers are removed completely. Hence, we strongly advise users to migrate to the new serialization framework as soon as possible.\n",
    "\n",
    "### Migration path\n",
    "\n",
    "- In your codebase, replace the calls to the class methods `.save()` and `.load()` with calls to the new functions `save()` and `load()` available in `laboneq.simple`.\n",
    "- Use the new functions `save()` and `load()` available in `laboneq.simple` to serialize LabOne Q objects.\n",
    "- Migrate saved objects by loading them into the corresponding classes using the class methods `.save()` and `.load()` of the old serialization framework, and then save them again into the new serialization format using the `save()` and `load()` functions available in `laboneq.simple`.\n",
    "\n",
    "### Is there a risk that your data is lost?\n",
    "\n",
    "No! Even after the old serialization framework is removed, you can still retrieve objects saved with the old serializers by downgrading LabOne Q to version 2.54.0 and loading your objects via their `.load()` method. For example, to load a saved `Experiment` object:\n",
    "\n",
    "```python\n",
    "from laboneq.dsl.experiment import Experiment\n",
    "\n",
    "experiment = Experiment.load(filepath)\n",
    "```"
   ]
  }
 ],
 "metadata": {
  "kernelspec": {
   "display_name": "laboneq_39",
   "language": "python",
   "name": "python3"
  },
  "language_info": {
   "codemirror_mode": {
    "name": "ipython",
    "version": 3
   },
   "file_extension": ".py",
   "mimetype": "text/x-python",
   "name": "python",
   "nbconvert_exporter": "python",
   "pygments_lexer": "ipython3",
   "version": "3.9.6"
  }
 },
 "nbformat": 4,
 "nbformat_minor": 4
}
