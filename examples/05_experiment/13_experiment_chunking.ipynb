{
 "cells": [
  {
   "cell_type": "markdown",
   "id": "19a82d3d",
   "metadata": {},
   "source": "# Chunking Experiments"
  },
  {
   "cell_type": "markdown",
   "id": "8c81af8ecfecf22b",
   "metadata": {},
   "source": [
    "### What is chunking?\n",
    "\n",
    "Quantum control instruments are specialized computing devices that contain various electronic components such as processing units, memories, registers, data buses, etc.\n",
    "Such components have limited resources in all control instruments.\n",
    "For example, instruments have limited storage for pulses and for instructions needed to execute an experiment.\n",
    "Large experiments might not fit into the available resources.\n",
    "\n",
    "Experiment chunking is a technique that enables running large experiments in the presence of these resource limitations."
   ]
  },
  {
   "cell_type": "markdown",
   "id": "6ec8758614471690",
   "metadata": {},
   "source": [
    "Let's look at an example to understand how this works.\n",
    "Waveform memory is where digitized waveforms are stored.\n",
    "We will build a large experiment that needs to use a lot of waveform memory, and then demonstrate how chunking helps run this experiment seamlessly.\n",
    "\n",
    "First things first, let's construct a minimal device setup for our example.\n",
    "It is a setup containing a single SHFSG instrument:"
   ]
  },
  {
   "cell_type": "code",
   "id": "b2e34a13f50b810e",
   "metadata": {},
   "source": [
    "from laboneq.simple import DeviceSetup, SHFSG, create_connection\n",
    "\n",
    "setup = DeviceSetup(\"my_setup\")\n",
    "setup.add_dataserver(host=\"localhost\", port=\"8004\")\n",
    "setup.add_instruments(SHFSG(uid=\"shfsg\", address=\"dev12021\"))\n",
    "setup.add_connections(\n",
    "    \"shfsg\", create_connection(to_signal=\"q0/drive_line\", ports=\"SGCHANNELS/0/OUTPUT\")\n",
    ")"
   ],
   "outputs": [],
   "execution_count": null
  },
  {
   "cell_type": "markdown",
   "id": "7abfafa8d401137d",
   "metadata": {},
   "source": "And create a session instance in emulation mode (for this exercise we don't need to run anything, just compile, so emulation mode is perfectly fine):"
  },
  {
   "cell_type": "code",
   "id": "7385919042c2e41c",
   "metadata": {},
   "source": [
    "from laboneq.simple import Session\n",
    "\n",
    "session = Session(device_setup=setup)\n",
    "session.connect(do_emulation=True)"
   ],
   "outputs": [],
   "execution_count": null
  },
  {
   "cell_type": "markdown",
   "id": "8fa44003f088ec52",
   "metadata": {},
   "source": "Now, let's build a simple experiment where we sweep the length of a Gaussian pulse."
  },
  {
   "cell_type": "code",
   "id": "55a504a116519be1",
   "metadata": {},
   "source": [
    "from laboneq.simple import (\n",
    "    LinearSweepParameter,\n",
    "    Oscillator,\n",
    "    SignalCalibration,\n",
    "    pulse_library,\n",
    ")\n",
    "from laboneq.dsl.experiment.builtins import *\n",
    "\n",
    "\n",
    "@experiment(signals=[\"drive\"])\n",
    "def exp():\n",
    "    pulse = pulse_library.gaussian(length=100e-9)\n",
    "    length_sweep_param = LinearSweepParameter(start=100e-9, stop=299e-9, count=200)\n",
    "    with acquire_loop_rt(1):\n",
    "        with sweep(parameter=length_sweep_param) as swp:\n",
    "            play(\"drive\", pulse=pulse, length=swp)\n",
    "\n",
    "    map_signal(\"drive\", setup.logical_signal_groups[\"q0\"].logical_signals[\"drive_line\"])\n",
    "\n",
    "    experiment_calibration()[\"drive\"] = SignalCalibration(\n",
    "        local_oscillator=Oscillator(frequency=1.0e9),\n",
    "        oscillator=Oscillator(frequency=100e6),\n",
    "    )\n",
    "\n",
    "\n",
    "length_sweep_exp = exp()"
   ],
   "outputs": [],
   "execution_count": null
  },
  {
   "cell_type": "markdown",
   "id": "7a8d7002c27f3e06",
   "metadata": {},
   "source": [
    "This example is artificially built to hit the waveform memory limitation of the instrument.\n",
    "In practice, you may hit this limit doing a large meaningful experiment, such as randomized benchmarking.\n",
    "Since the length of the pulse is critical for the timing of the entire experiment, LabOneQ will separately sample the swept pulse for each length.\n",
    "This creates a lot of samples which will hit the waveform memory limit and demonstrate the main point of this tutorial.\n",
    "\n",
    "Let's now attempt to compile the experiment:"
   ]
  },
  {
   "cell_type": "code",
   "id": "d9b4b94afaccd580",
   "metadata": {
    "tags": [
     "raises-exception"
    ]
   },
   "source": [
    "compiled = session.compile(length_sweep_exp)"
   ],
   "outputs": [],
   "execution_count": null
  },
  {
   "cell_type": "markdown",
   "id": "a19387f07d4ebad2",
   "metadata": {},
   "source": [
    "It fails with an error that says:\n",
    "\n",
    "```\n",
    "LabOneQException: Compilation error - resource limitation exceeded.\n",
    "To circumvent this, try one or more of the following:\n",
    "- Double check the integrity of your experiment (look for unexpectedly long pulses, large number of sweep steps, etc.)\n",
    "- Reduce the number of sweep steps\n",
    "- Reduce the number of variations in the pulses that are being played\n",
    "- Enable chunking for a sweep\n",
    "- If chunking is already enabled, increase the chunk count or switch to automatic chunking\n",
    "```\n",
    "\n",
    "If you scroll up in the Python traceback, you should also see the underlying cause of the problem, in this case `waveforms are not fitting into wave memory`."
   ]
  },
  {
   "cell_type": "markdown",
   "id": "cd37be8ce4791c53",
   "metadata": {},
   "source": [
    "\n",
    "\n",
    "To circumvent this, we could split the sweep range into two halves, and execute two separate experiments.\n",
    "However this is inconvenient - first, we would be running multiple experiments, but we conceptually need only one, second, we would need to deal with multiple result objects, and third, halving may not be enough and we may need to split more.\n",
    "Fortunately, LabOneQ provides a much more convenient way of doing this split without actually doing it yourself.\n",
    "In your experiment definition you can tell LabOneQ how many pieces do you want this experiment be executed in.\n",
    "We call them \"chunks\", and the way to use it is just by updating the sweep definition:\n",
    "\n",
    "```python\n",
    "with sweep(parameter=length_sweep_param, chunk_count=2) as swp:\n",
    "```"
   ]
  },
  {
   "cell_type": "markdown",
   "id": "6950deb764c4cb86",
   "metadata": {},
   "source": [
    "After this change, you can verify that the compilation succeeds.\n",
    "We've told the compiler to compile the experiment as two separate real-time chunks.\n",
    "This is the only change you need to make in your program.\n",
    "If you have measurements in your experiment, then the results that you get back will look exactly as if they come from a single experiment execution."
   ]
  },
  {
   "cell_type": "markdown",
   "id": "1d37961bce60c051",
   "metadata": {},
   "source": [
    "Besides saving us from manually splitting the experiment, the chunking option also utilizes hardware resources more efficiently compared to executing separate experiments.\n",
    "A chunked experiment will be executed faster, which becomes a noticeable benefit when the number of chunks is much larger than in our example above.\n",
    "The compilation time remains roughly the same as compiling separate half-experiments."
   ]
  },
  {
   "cell_type": "markdown",
   "id": "c01546f34960d5c",
   "metadata": {},
   "source": [
    "### But wait, how do I know what is a good value for chunk_count?\n",
    "You're probably thinking that you don't know the size of the waveform memory on the instrument, and moreover, you don't know what optimizations the LabOneQ compiler performs, so you can't predict how much waveform memory the generated program needs.\n",
    "\n",
    "You are of course welcome to study instrument manuals, learn the limitations, and find an optimal `chunk_count` value for your experiment by trial and error.\n",
    "In a lot of cases figuring out a good `chunk_count` is very easy and one would need to do it once for an experiment and use forever.\n",
    "Nevertheless, if this is not a route that you want to take, you can just use the `auto_chunking` option instead, in which case the LabOneQ compiler will determine a good `chunk_count` on its own:\n",
    "\n",
    "```python\n",
    "with sweep(parameter=length_sweep_param, auto_chunking=True) as swp:\n",
    "```\n",
    "\n",
    "Compiling the experiment with this change is again successful, and in the compiler log you should see a message like `Auto-chunked sweep divided into 2 chunks`."
   ]
  },
  {
   "cell_type": "markdown",
   "id": "8b77ba683d5e5128",
   "metadata": {},
   "source": [
    "### Why doesn't LabOneQ chunk the sweep automatically always?\n",
    "\n",
    "If automatic determination of `chunk_count` is possible, why does LabOneQ even need chunking options to be specified?\n",
    "\n",
    "Consider a more complicated experiment with multiple nested sweeps. There are two key points:\n",
    "\n",
    "1. Only one sweep can be chunked\n",
    "2. The LabOneQ compiler shouldn't decide on your behalf which one to chunk. There are use cases where you need to chunk a specific sweep only, since some parts of the program should always be executed together in one go. Think about state tomography experiments.\n",
    "\n",
    "As a user, you have control over which sweep to chunk.\n",
    "\n",
    "Note that sometimes the experiment structure will pretty much enforce which sweep to chunk. For example, imagine the experiment we used above with another sweep on top of it.\n",
    "Each iteration of that outer sweep is basically one instance of our original experiment, which we already know doesn't fit into waveform memory.\n",
    "In this case, chunking the outer sweep will not help, so the inner one should be chunked"
   ]
  },
  {
   "cell_type": "markdown",
   "id": "f70cd77e0634ba82",
   "metadata": {},
   "source": [
    "### Why shouldn't I use auto_chunking always?\n",
    "\n",
    "Automatically determining a chunk count requires running parts of the compilation process multiple times, which leads to increased compilation times.\n",
    "Additionally, the compiler may make assumptions about which chunking is best.\n",
    "If you as the author of the experiment know how the experiment should be chunked, it is recommended to supply the specific `chunk_count`.\n",
    "This will reduce compilation time and be guaranteed to give you exactly the result you want.\n",
    "\n",
    "The exact underlying mechanism/algorithm of auto chunking is not important and may change from one LabOneQ version to another."
   ]
  },
  {
   "cell_type": "markdown",
   "id": "ca0ce4613eba2954",
   "metadata": {},
   "source": [
    "### What are the resource limitations that are covered by chunking?\n",
    "\n",
    "Strictly speaking, you do not need to know/remember the list of all hardware resources, hitting the limitations of which can be circumvented by chunking.\n",
    "However, there are few important points to note:\n",
    "\n",
    "1. `auto_chunking` can be used for any resource limitation that results into an error message that we saw earlier in this tutorial. If you encounter a situation where the error messages looks like some sort of resource limitation was hit, but it is not the error we saw above, please get in touch with us.\n",
    "2. On the other hand, `chunk_count` can be used anytime, particularly for situations not covered by `auto_chunking`, and even when you are not dealing a resource limitation. Even though it is mainly designed to circumvent hardware resource limitations, you can use it for whatever other reasons you need to split a sweep execution into parts.\n",
    "\n",
    "Nevertheless, for the curious reader, here is a non-exhaustive list of the main resources that are currently covered by the auto chunking algorithm:\n",
    "\n",
    "- Waveform memory\n",
    "- Command table memory\n",
    "- Program/Instruction memory\n",
    "- Various cache memories"
   ]
  },
  {
   "cell_type": "markdown",
   "id": "d882052a6ca1a48f",
   "metadata": {},
   "source": [
    "### Chunking rules\n",
    "\n",
    "1. In each experiment, only one real-time sweep can be chunked.\n",
    "2. Near-time sweeps cannot be chunked (chunking is not meaningful for near-time sweeps).\n",
    "3. The `chunk_count` must evenly divide the number of corresponding sweep points.\n",
    "4. An experiment should be chunked so that all chunks have the same measurement operations. They can be at different times though.\n"
   ]
  },
  {
   "cell_type": "markdown",
   "id": "35987db4a0eb7b34",
   "metadata": {},
   "source": [
    "### Known shortcomings\n",
    "\n",
    "The chunking rules 3. and 4. exist because of a shortcoming in the measurement result processing, and shall go away in some future releases.\n",
    "\n",
    "ADditionally, there are some resource limitations that we know should be coveered by `auto_chunking`, but currently are not:\n",
    "\n",
    "- Measurement result buffer size. It is the part of the hardware where measurement results are collected. If you need to record too many measurement results (e.g. running an experiment with a lot of measurement operations, or an experiment in single-shot readout mode), you may hit this limitation.\n",
    "\n",
    "NOTE: \"Manual\" chunking with `chunk_count` can still be used to cover these cases."
   ]
  }
 ],
 "metadata": {
  "kernelspec": {
   "display_name": "laboneq",
   "language": "python",
   "name": "python3"
  },
  "language_info": {
   "codemirror_mode": {
    "name": "ipython",
    "version": 3
   },
   "file_extension": ".py",
   "mimetype": "text/x-python",
   "name": "python",
   "nbconvert_exporter": "python",
   "pygments_lexer": "ipython3",
   "version": "3.10.16"
  }
 },
 "nbformat": 4,
 "nbformat_minor": 5
}
