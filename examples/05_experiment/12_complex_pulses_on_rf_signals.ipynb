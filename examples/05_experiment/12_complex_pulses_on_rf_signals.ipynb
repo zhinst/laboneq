{
 "cells": [
  {
   "cell_type": "markdown",
   "id": "19a82d3d",
   "metadata": {},
   "source": [
    "# Complex Pulses on Baseband RF Signals"
   ]
  },
  {
   "cell_type": "markdown",
   "id": "8641b5f7",
   "metadata": {},
   "source": [
    "A common use case for HDAWG instruments is to use its baseband outputs individually (i.e. without combining pairs into IQ signals).\n",
    "It is possbile to use complex-valued pulse envelopes on such signals, however there is a nuance related to their modulation.\n",
    "\n",
    "If software modulation is used, it fully allows programming complex-valued baseband signals on RF signal lines. LabOneQ modulates the complex-valued pulse envelope with a complex oscillator, as if modulating an IQ signal. The physical output is the real part of the modulation result.\n",
    "\n",
    "The situation is different when hardware modulation is used - there is only a single hardware oscillator, hence it cannot modulate the signal in its full complex form. Thus, the imaginary part of the pulse envolpe is ignored, and a warning is logged.\n",
    "\n",
    "In conclusion, in use cases where baseband RF signals are used in conjuction with complex-valued pulse envelopes, you should use software modulation.\n",
    "In use cases where baseband RF signals are used with real-valued pulse envelopes, both modulation modes can be used at your convenience.\n",
    "\n",
    "Below, we demonstrate the difference between using different modulation types for RF signals with complex-valued pulse envelopes."
   ]
  },
  {
   "cell_type": "markdown",
   "id": "0c0a1a82",
   "metadata": {},
   "source": [
    "# Simple Example\n",
    "\n",
    "Let's consider a minimal example with the below setup and a corresponding session object:"
   ]
  },
  {
   "cell_type": "code",
   "execution_count": null,
   "id": "2a3d9935",
   "metadata": {},
   "outputs": [],
   "source": [
    "from laboneq.simple import DeviceSetup, HDAWG, Session, create_connection\n",
    "\n",
    "setup = DeviceSetup(\"rf_signal_setup\")\n",
    "setup.add_dataserver(host=\"localhost\", port=\"8004\")\n",
    "setup.add_instruments(HDAWG(uid=\"hdawg\", address=\"dev8047\"))\n",
    "setup.add_connections(\n",
    "    \"hdawg\", create_connection(to_signal=\"q0/rf_line\", ports=\"SIGOUTS/0\")\n",
    ")\n",
    "\n",
    "session = Session(device_setup=setup)\n",
    "_ = session.connect(do_emulation=True)"
   ]
  },
  {
   "cell_type": "markdown",
   "id": "f6908d43",
   "metadata": {},
   "source": [
    "Now, let's build a simple experiment that plays a few DRAG pulses on the line `q0/rf_line`. DRAG pulses are complex-valued."
   ]
  },
  {
   "cell_type": "code",
   "execution_count": null,
   "id": "19212e94",
   "metadata": {},
   "outputs": [],
   "source": [
    "from laboneq.simple import Oscillator, SignalCalibration, ModulationType, pulse_library\n",
    "from laboneq.dsl.experiment.builtins import *\n",
    "\n",
    "\n",
    "@experiment(signals=[\"rf_line\"])\n",
    "def exp(modulation_type: ModulationType):\n",
    "    freq = 1e6\n",
    "    drag = pulse_library.drag(length=104e-9, amplitude=0.1)\n",
    "    with acquire_loop_rt(1):\n",
    "        for _ in range(20):\n",
    "            play(\"rf_line\", pulse=drag)\n",
    "\n",
    "    map_signal(\"rf_line\", setup.logical_signal_groups[\"q0\"].logical_signals[\"rf_line\"])\n",
    "    experiment_calibration()[\"rf_line\"] = SignalCalibration(\n",
    "        oscillator=Oscillator(frequency=freq, modulation_type=modulation_type)\n",
    "    )"
   ]
  },
  {
   "cell_type": "markdown",
   "id": "d8d558f9",
   "metadata": {},
   "source": [
    "First, let us build and compile this experiment using software modulation:"
   ]
  },
  {
   "cell_type": "code",
   "execution_count": null,
   "id": "22826581",
   "metadata": {},
   "outputs": [],
   "source": [
    "compiled = session.compile(exp(ModulationType.SOFTWARE))"
   ]
  },
  {
   "cell_type": "markdown",
   "id": "8ddb5aca",
   "metadata": {},
   "source": [
    "Below, we can view the output waveforms using the output simulator.\n",
    "As can be seen the pulse envelope starts as Gaussian, gradually transforms into a Gaussian derivative (as the oscillator accumulates $\\pi / 2$ phase), then goes back to Gaussian, and so forth. This is precisely because the pulse underwent complex modulation.\n",
    "We have intentionally used a very low modulation frequency, so that the complex-valued nature of the modulation is easy to demonstrate."
   ]
  },
  {
   "cell_type": "code",
   "execution_count": null,
   "id": "a501731d",
   "metadata": {},
   "outputs": [],
   "source": [
    "from laboneq.contrib.example_helpers.plotting.plot_helpers import plot_simulation\n",
    "\n",
    "plot_simulation(compiled, 0, 2000e-9, plot_height=3)"
   ]
  },
  {
   "cell_type": "markdown",
   "id": "337d3a1f",
   "metadata": {},
   "source": [
    "Now, let's do the same but using hardware modulation:"
   ]
  },
  {
   "cell_type": "code",
   "execution_count": null,
   "id": "0f96751a",
   "metadata": {},
   "outputs": [],
   "source": [
    "compiled = session.compile(exp(ModulationType.HARDWARE))"
   ]
  },
  {
   "cell_type": "markdown",
   "id": "844d327b",
   "metadata": {},
   "source": [
    "The output of this one we cannot fully view using the output simulator, since part of the waveform formation (the modulation) happens on hardware.\n",
    "An oscilloscope is needed to capture the output. Below is a screenshot of the output from an oscilloscope. As can be see, it differs from the software modulation case. \n",
    "As the oscillator accumulates phase, we can only see scaled Gaussian envelopes - the derivative component is not present since it was ignored during modulation."
   ]
  },
  {
   "cell_type": "code",
   "execution_count": null,
   "id": "4344b209",
   "metadata": {},
   "outputs": [],
   "source": [
    "# _ = session.run(compiled)"
   ]
  },
  {
   "cell_type": "markdown",
   "id": "37d95063",
   "metadata": {},
   "source": [
    "<div style=\"max-width:800px;\">\n",
    "\n",
    "![image.png](images/drag_rf_hw_mod.png)\n",
    "\n",
    "</div>"
   ]
  }
 ],
 "metadata": {
  "kernelspec": {
   "display_name": "laboneq",
   "language": "python",
   "name": "python3"
  },
  "language_info": {
   "codemirror_mode": {
    "name": "ipython",
    "version": 3
   },
   "file_extension": ".py",
   "mimetype": "text/x-python",
   "name": "python",
   "nbconvert_exporter": "python",
   "pygments_lexer": "ipython3",
   "version": "3.10.16"
  }
 },
 "nbformat": 4,
 "nbformat_minor": 5
}
