{
 "cells": [
  {
   "cell_type": "markdown",
   "id": "32e40b7136f49820",
   "metadata": {
    "collapsed": false
   },
   "source": [
    "# Using the in-sequencer PRNG with LabOne Q\n",
    "\n",
    "The PRNG is a peripheral of the sequencer on HDAWG and SHFSG for generating pseudo-random numbers.\n",
    "\n",
    "The PRNG enables to play a (deterministically) shuffled sequence of pulses or gates, while efficiently using sequencer memory. \n",
    "This may be particularly interesting for long randomized benchmarking sequences and similar experiments.\n"
   ]
  },
  {
   "cell_type": "markdown",
   "id": "ab861622",
   "metadata": {},
   "source": [
    "## General notes on PRNG setup and sampling \n",
    "\n",
    "In LabOne Q, usage of the PRNG can be invoked via the `setup_prng()`, `prng_loop()` commands. An experiment using the PRNG roughly has the following structure:\n",
    "\n",
    "```python\n",
    "with prng_setup(seed=..., range=...) as prng:  # 1.\n",
    "    with prng_loop(prng=prng, count=...) as prng_sample:  # 2.\n",
    "        ...\n",
    "        with match(prng_sample=prng_sample):  # 3.\n",
    "            with case(0):\n",
    "                play(...)\n",
    "            with case(1):\n",
    "                play(...)\n",
    "            ...\n",
    "```\n",
    "\n",
    "The important steps here:\n",
    "1. We _seed_ the PRNG and specify its range with `prng_setup()`. We can now draw random numbers from the PRNG, in the range of 0 to `range - 1`.\n",
    "   \n",
    "   The seed and range are valid within the scope of the `prng_setup()` block. As there is only a single PRNG available per sequencer, PRNG setups cannot be nested, but we are free to reseed the PRNG again later.\n",
    "   \n",
    "2. The actual sampling of the random numbers happens in `prng_loop()`. This block marks a section that will be executed `count` times, with a new random number drawn each time. The result of the context manager (i.e. the right-hand side of `as`, here `prng_sample`) provides us with a handle to those random numbers.\n",
    " \n",
    "   It may be helpful to think of `prng_sample` as similar to a sweep parameter. Like a sweep parameter, it is representative of the values that the variable will take during the iterations of the loop. The PRNG sample is also a convenient way to access a simulation of the PRNG values, see below.\n",
    "  \n",
    "3. We use the PRNG sample to branch into one of multiple options. We do this with a `match` block, and providing one `case` for each value the PRNG might emit.\n",
    "\n",
    "\n",
    "## Note on PRNG loop iteration length\n",
    "\n",
    "If the body of the PRNG loop between subsequent calls to `get_sample()` is too short, the waveform play-back may contain gaps as the sequencer may become unable to issue new waveforms fast enough. \n",
    "We recommend to always make the body of the PRNG loop at least 64 samples long. \n"
   ]
  },
  {
   "cell_type": "markdown",
   "id": "aaa4bf28",
   "metadata": {},
   "source": [
    "## Imports and setup"
   ]
  },
  {
   "cell_type": "code",
   "execution_count": null,
   "id": "initial_id",
   "metadata": {
    "collapsed": true
   },
   "outputs": [],
   "source": [
    "import numpy as np\n",
    "\n",
    "# To use the PRNG in LabOne Q DSL, we currently require the experiment builtins\n",
    "from laboneq.contrib.example_helpers.plotting.plot_helpers import plot_simulation\n",
    "from laboneq.dsl.experiment import PlayPulse\n",
    "from laboneq.dsl.experiment.builtins import *\n",
    "from laboneq.simple import *"
   ]
  },
  {
   "cell_type": "markdown",
   "id": "77aaaeb8474651df",
   "metadata": {
    "collapsed": false
   },
   "source": [
    "Create a device setup and connect to a session"
   ]
  },
  {
   "cell_type": "code",
   "execution_count": null,
   "id": "7abdb8fc",
   "metadata": {},
   "outputs": [],
   "source": [
    "device_setup = DeviceSetup(uid=\"my_QCCS\")\n",
    "\n",
    "device_setup.add_dataserver(host=\"localhost\", port=\"8004\")\n",
    "\n",
    "device_setup.add_instruments(\n",
    "    SHFQC(uid=\"device_shfqc\", address=\"dev12345\", device_options=\"SHFQC/QC6CH\")\n",
    ")\n",
    "\n",
    "device_setup.add_connections(\n",
    "    \"device_shfqc\",\n",
    "    create_connection(to_signal=\"q0/drive_line\", ports=\"SGCHANNELS/0/OUTPUT\"),\n",
    "    create_connection(to_signal=\"q0/measure_line\", ports=\"QACHANNELS/0/OUTPUT\"),\n",
    "    create_connection(to_signal=\"q0/acquire_line\", ports=\"QACHANNELS/0/INPUT\"),\n",
    ")\n",
    "\n",
    "# set a minimal calibration to device setup\n",
    "drive_lo = Oscillator(frequency=1e9)\n",
    "measure_lo = Oscillator(frequency=4e9)\n",
    "cal = Calibration()\n",
    "cal[\"/logical_signal_groups/q0/drive_line\"] = SignalCalibration(\n",
    "    local_oscillator=drive_lo\n",
    ")\n",
    "cal[\"/logical_signal_groups/q0/measure_line\"] = SignalCalibration(\n",
    "    local_oscillator=measure_lo\n",
    ")\n",
    "cal[\"/logical_signal_groups/q0/acquire_line\"] = SignalCalibration(\n",
    "    local_oscillator=measure_lo\n",
    ")\n",
    "device_setup.set_calibration(cal)"
   ]
  },
  {
   "cell_type": "code",
   "execution_count": null,
   "id": "45a335ea0ac4ae47",
   "metadata": {
    "collapsed": false
   },
   "outputs": [],
   "source": [
    "emulate = True\n",
    "\n",
    "session = Session(device_setup)\n",
    "session.connect(do_emulation=emulate)"
   ]
  },
  {
   "cell_type": "markdown",
   "id": "12f3c53a",
   "metadata": {},
   "source": [
    "## Simple example\n",
    "\n",
    "Let us look at a simple but already complete example."
   ]
  },
  {
   "cell_type": "markdown",
   "id": "a29019655d7438b0",
   "metadata": {
    "collapsed": false
   },
   "source": [
    "To keep it simple, we specify `range=4` when setting up the PRNG. This means the PRNG will only produce the numbers 0, 1, 2, and 3. We then play twenty pulses where the amplitude of each pulse is determined by the random number. After these 20 pulses, we read out, and then start over by reseeding the PRNG."
   ]
  },
  {
   "cell_type": "code",
   "execution_count": null,
   "id": "e58a64841b27a96",
   "metadata": {
    "collapsed": false
   },
   "outputs": [],
   "source": [
    "const_pulse = pulse_library.const(length=100e-9)\n",
    "\n",
    "# needed to access the generated prng samples after experiment creation\n",
    "prng_sample = None\n",
    "\n",
    "\n",
    "@experiment(signals=[\"drive\", \"measure\", \"acquire\"])\n",
    "def prng_example1():\n",
    "    global prng_sample\n",
    "    with acquire_loop_rt(8):\n",
    "        with prng_setup(range=4, seed=123, uid=\"prng_setup\") as prng:\n",
    "            with prng_loop(prng, count=20, uid=\"prng_sample\") as prng_sample:\n",
    "                with match(prng_sample=prng_sample):\n",
    "                    with case(0):\n",
    "                        play(\"drive\", const_pulse, amplitude=0.2)\n",
    "                    with case(1):\n",
    "                        play(\"drive\", const_pulse, amplitude=0.4)\n",
    "                    with case(2):\n",
    "                        play(\"drive\", const_pulse, amplitude=0.6)\n",
    "                    with case(3):\n",
    "                        play(\"drive\", const_pulse, amplitude=0.8)\n",
    "\n",
    "        with section(uid=\"readout\", play_after=\"prng_setup\"):\n",
    "            play(\"measure\", const_pulse)\n",
    "            acquire(signal=\"acquire\", kernel=const_pulse, handle=\"h1\")\n",
    "\n",
    "            delay(\"measure\", 100e-9)"
   ]
  },
  {
   "cell_type": "code",
   "execution_count": null,
   "id": "f06b60b0",
   "metadata": {},
   "outputs": [],
   "source": [
    "exp1 = prng_example1()\n",
    "q0_ls = device_setup.logical_signal_groups[\"q0\"].logical_signals\n",
    "exp1.map_signal(\"drive\", q0_ls[\"drive_line\"])\n",
    "exp1.map_signal(\"measure\", q0_ls[\"measure_line\"])\n",
    "exp1.map_signal(\"acquire\", q0_ls[\"acquire_line\"])"
   ]
  },
  {
   "cell_type": "markdown",
   "id": "39440c6c0054f51",
   "metadata": {
    "collapsed": false
   },
   "source": [
    "Compile the experiment. We can then inspect the generated seqc code for the HDAWG (`drive` signal) to see the code that drives the PRNG."
   ]
  },
  {
   "cell_type": "code",
   "execution_count": null,
   "id": "ce1c00a0eada2d97",
   "metadata": {
    "collapsed": false
   },
   "outputs": [],
   "source": [
    "compiled_exp1 = session.compile(exp1)"
   ]
  },
  {
   "cell_type": "code",
   "execution_count": null,
   "id": "b1a7ddb010360ed5",
   "metadata": {
    "collapsed": false
   },
   "outputs": [],
   "source": [
    "# print the sequencer code generated by the example\n",
    "print(compiled_exp1.src[1][\"text\"])"
   ]
  },
  {
   "cell_type": "markdown",
   "id": "a38f0f914a33d008",
   "metadata": {
    "collapsed": false
   },
   "source": [
    "Indeed we can see that the inner loop of 20 pulses is a simple `repeat(20) {...}` loop, with the random number used as an pointer into the command table.\n",
    "\n",
    "### Simulation\n",
    "\n",
    "We can simulate this experiment with the `OutputSimulator`."
   ]
  },
  {
   "cell_type": "code",
   "execution_count": null,
   "id": "34005d9b885a1494",
   "metadata": {
    "collapsed": false
   },
   "outputs": [],
   "source": [
    "plot_simulation(\n",
    "    compiled_exp1,\n",
    "    start_time=0,\n",
    "    length=1e-3,\n",
    "    signals=[\"drive\"],\n",
    "    plot_height=5,\n",
    "    plot_width=15,\n",
    ")"
   ]
  },
  {
   "cell_type": "markdown",
   "id": "6c0058688f2b286f",
   "metadata": {
    "collapsed": false
   },
   "source": [
    "### Tracing the values produced by the PRNG\n",
    "\n",
    "While the output simulator produces an accurate preview of the waveform that the AWG will produce, it'd be tedious to attempt to reconstruct the actual sequence of random numbers from the waveform alone.\n",
    "\n",
    "Instead, LabOne Q can directly give us the values that the PRNG will emit as part of the `PRNGSample` produced by `prng_loop`.\n",
    "\n",
    "We can inspect the `prng_sample.values` from the example above (note how we had to sneak in a `global prng_sample` to exfiltrate the object out of the `@experiment` definition):"
   ]
  },
  {
   "cell_type": "code",
   "execution_count": null,
   "id": "916c9843584722f0",
   "metadata": {
    "collapsed": false
   },
   "outputs": [],
   "source": [
    "print(prng_sample.values)"
   ]
  },
  {
   "cell_type": "markdown",
   "id": "b00db0cad11fb93d",
   "metadata": {},
   "source": [
    "### Syntactic sugar: `play_indexed()`\n",
    "\n",
    "If you want to distinguish many different options for the random variable (e.g. 28 Clifford gates for a simple RB experiment, or even more), the `match...case` notation becomes overly verbose. \n",
    "LabOne Q provides a helper function that allows you to more concisely specify a list of pulses.\n",
    "The command `playIndexed(pulses, index)` takes an iterable (e.g. a list) of pulses, and plays one of them based on `index: PRNGSample`.\n",
    "\n",
    "The argument of `pulses` needs to contain instances of `PlayPulse`, this may be extended to complete sections in the future. \n",
    "It is also currently not possible to play more than a single pulse per branch when using `play_indexed()`.\n",
    "\n",
    "The earlier example looked like so:\n",
    "```python\n",
    "    with prng_loop(prng, count=20, uid=\"prng_sample\") as prng_sample:\n",
    "        with match(prng_sample=prng_sample):\n",
    "            with case(0):\n",
    "                play(\"drive\", pulse, amplitude=0.2)\n",
    "            with case(1):\n",
    "                play(\"drive\", pulse, amplitude=0.4)\n",
    "            with case(2):\n",
    "                play(\"drive\", pulse, amplitude=0.6)\n",
    "            with case(3):\n",
    "                play(\"drive\", pulse, amplitude=0.8)\n",
    "```\n",
    "\n",
    "We can rewrite it using `play_indexed()`:\n",
    "```python\n",
    "    pulses = [\n",
    "        PlayPulse(signal=\"drive\", pulse=pulse, amplitude=a)\n",
    "        for a in [0.2, 0.4, 0.6, 0.8]\n",
    "    ]\n",
    "    with prng_loop(prng, count=20, uid=\"prng_sample\") as prng_sample:\n",
    "        play_indexed(pulses, prng_samples)\n",
    "```\n",
    "\n",
    "Note that `play_indexed()` is purely for convenience, it calls `match()` internally, and both snippets yield the same experiment object.\n"
   ]
  },
  {
   "cell_type": "markdown",
   "id": "465a66c855da253a",
   "metadata": {
    "collapsed": false
   },
   "source": [
    "## Measurements inside PRNG loop\n",
    "\n",
    "Measuring a qubit inside `prng_loop()` is of course allowed. In this case, the results object will contain an extra dimension, labelled with the `PRNGSample`, just as it would have if the PRNG loop was instead a sweep over some parameter."
   ]
  },
  {
   "cell_type": "code",
   "execution_count": null,
   "id": "242ede48f6b3b4ab",
   "metadata": {
    "collapsed": false
   },
   "outputs": [],
   "source": [
    "pulses = [\n",
    "    PlayPulse(signal=\"drive\", pulse=const_pulse, amplitude=a)\n",
    "    for a in [0.2, 0.4, 0.6, 0.8]\n",
    "]\n",
    "\n",
    "\n",
    "@experiment(signals=[\"drive\", \"measure\", \"acquire\"])\n",
    "def prng_example():\n",
    "    with acquire_loop_rt(4):\n",
    "        # We add a 'dummy' sweep here, to illustrate how sweeps compose with the PRNG.\n",
    "        with sweep_range(0, 1, count=5, axis_name=\"sweep_param\"):\n",
    "            # Seed the PRNG\n",
    "            with prng_setup(range=4, seed=0xABCD, uid=\"seed_prng\") as prng:\n",
    "                # Draw values from the PRNG in a loop\n",
    "                with prng_loop(prng, 35, uid=\"prng_loop\") as prng_sample:\n",
    "                    # 'match' the PRNG sample to choose a pulse to play\n",
    "                    play_indexed(pulses, prng_sample)\n",
    "\n",
    "                    # Readout _inside_ the PRNG loop\n",
    "                    with section():\n",
    "                        reserve(\"drive\")\n",
    "                        play(\"measure\", const_pulse)\n",
    "                        acquire(\"acquire\", kernel=const_pulse, handle=\"h1\")\n",
    "                        delay(\"measure\", 100e-9)\n",
    "\n",
    "\n",
    "exp = prng_example()\n",
    "q0_ls = device_setup.logical_signal_groups[\"q0\"].logical_signals\n",
    "exp.map_signal(\"drive\", q0_ls[\"drive_line\"])\n",
    "exp.map_signal(\"measure\", q0_ls[\"measure_line\"])\n",
    "exp.map_signal(\"acquire\", q0_ls[\"acquire_line\"])"
   ]
  },
  {
   "cell_type": "code",
   "execution_count": null,
   "id": "268e2876",
   "metadata": {},
   "outputs": [],
   "source": [
    "compiled = session.compile(exp)\n",
    "\n",
    "results = session.run(compiled)"
   ]
  },
  {
   "cell_type": "code",
   "execution_count": null,
   "id": "b0c6b503",
   "metadata": {},
   "outputs": [],
   "source": [
    "acquired_results = results.acquired_results[\"h1\"]\n",
    "print(f\"Result shape: {acquired_results.data.shape}\")\n",
    "print(f\"Result axes: {acquired_results.axis_name}\")\n",
    "print(\"Result coordinates:\")\n",
    "for name, coords in zip(acquired_results.axis_name, acquired_results.axis):\n",
    "    print(f\"   {name}: {coords}\")"
   ]
  },
  {
   "cell_type": "markdown",
   "id": "b96904c52eeeda3f",
   "metadata": {
    "collapsed": false
   },
   "source": [
    "## Advanced examples"
   ]
  },
  {
   "cell_type": "markdown",
   "id": "43dca27c",
   "metadata": {},
   "source": [
    "### Reseeding the PRNG\n",
    "\n",
    "Reseeding the PRNG is allowed. For example, consider this DSL snippet.\n",
    "\n",
    "```python\n",
    "# seed the PRNG with the value 0xCAFE, with a max. value of 9\n",
    "with prng_setup(seed=0xCAFE, range=10) as prng:\n",
    "    with prng_loop(prng=prng, count=...) as prng_sample:\n",
    "        ...\n",
    "        with match(prng_sample=prng_sample):\n",
    "            # play something coniditionally on `prng_sample`\n",
    "            ...\n",
    "\n",
    "# reseed the PRNG with a different value, e.g. 0xBEEF, and an upper value of 15\n",
    "with prng_setup(seed=0xBEEF, range=16) as prng2:\n",
    "     with prng_loop(prng=prng2, count=...) as prng_sample2:\n",
    "         ...\n",
    "         with match(prng_sample=prng_sample2):\n",
    "             # play something coniditionally on `prng_sample2`\n",
    "             ...\n",
    "```\n",
    "\n",
    "Naturally, the count of iterations in both instances of `prng_loop` need not be identical either, nor do the pulses played in the match block.\n",
    "The compiler will enforce that we cannot match `prng_sample2` inside the first `prng_setup` block and vice versa."
   ]
  },
  {
   "cell_type": "code",
   "execution_count": null,
   "id": "987770e8",
   "metadata": {},
   "outputs": [],
   "source": [
    "pulses = [\n",
    "    PlayPulse(signal=\"drive\", pulse=const_pulse, amplitude=a)\n",
    "    for a in np.linspace(0.1, 1, 10)\n",
    "]\n",
    "\n",
    "\n",
    "@experiment(signals=[\"drive\", \"measure\", \"acquire\"])\n",
    "def prng_reseeding_example():\n",
    "    with acquire_loop_rt(4):\n",
    "        # seed the PRNG with the value 0xCAFE, with a max. value of 9\n",
    "        with prng_setup(seed=0xCAFE, range=10) as prng:\n",
    "            with prng_loop(prng=prng, count=5) as prng_sample:\n",
    "                play_indexed(pulses, prng_sample)\n",
    "                # Readout _inside_ the first PRNG loop\n",
    "                with section():\n",
    "                    reserve(\"drive\")\n",
    "                    play(\"measure\", const_pulse)\n",
    "                    acquire(\"acquire\", kernel=const_pulse, handle=\"h1\")\n",
    "                    delay(\"measure\", 100e-9)\n",
    "\n",
    "        # reseed the PRNG with a different value, e.g. 0xBEEF, and an upper value of 4\n",
    "        with prng_setup(seed=0xBEEF, range=5) as prng2:\n",
    "            with prng_loop(prng=prng2, count=10) as prng_sample2:\n",
    "                play_indexed(pulses[::2], prng_sample2)\n",
    "                # Readout _inside_ the second PRNG loop\n",
    "                with section():\n",
    "                    reserve(\"drive\")\n",
    "                    play(\"measure\", const_pulse)\n",
    "                    acquire(\"acquire\", kernel=const_pulse, handle=\"h2\")\n",
    "                    delay(\"measure\", 100e-9)\n",
    "\n",
    "\n",
    "exp = prng_reseeding_example()\n",
    "q0_ls = device_setup.logical_signal_groups[\"q0\"].logical_signals\n",
    "exp.map_signal(\"drive\", q0_ls[\"drive_line\"])\n",
    "exp.map_signal(\"measure\", q0_ls[\"measure_line\"])\n",
    "exp.map_signal(\"acquire\", q0_ls[\"acquire_line\"])"
   ]
  },
  {
   "cell_type": "code",
   "execution_count": null,
   "id": "30ee71d0",
   "metadata": {},
   "outputs": [],
   "source": [
    "compiled = session.compile(exp)\n",
    "\n",
    "results = session.run(compiled)"
   ]
  },
  {
   "cell_type": "code",
   "execution_count": null,
   "id": "3bc0c176",
   "metadata": {},
   "outputs": [],
   "source": [
    "for handle in [\"h1\", \"h2\"]:\n",
    "    print(f\"=== Result handle {handle} ===\")\n",
    "    acquired_results = results.acquired_results[handle]\n",
    "    print(f\"Result shape: {acquired_results.data.shape}\")\n",
    "    print(f\"Result axes: {acquired_results.axis_name}\")\n",
    "    print(\"Result coordinates:\")\n",
    "    for name, coords in zip(acquired_results.axis_name, acquired_results.axis):\n",
    "        print(f\"   {name}: {coords}\")\n",
    "    print()"
   ]
  },
  {
   "cell_type": "markdown",
   "id": "d1d64ebb",
   "metadata": {},
   "source": [
    "### Multiple PRNG loops without reseeding\n",
    "\n",
    "Similarly, we can also opt _not_ to reseed, and directly command another `prng_loop()`. \n",
    "\n",
    "```python\n",
    "with prng_setup(seed=0xCAFE, range=10) as prng:\n",
    "    with prng_loop(prng=prng, count=...) as prng_sample:\n",
    "        with match(prng_sample=prng_sample):\n",
    "            # play something conditionally on `prng_sample`\n",
    "            ...\n",
    "  \n",
    "    # do something that is not randomized\n",
    "    play(...)\n",
    "\n",
    "   # enter another PRNG loop without reseeding\n",
    "    with prng_loop(prng=prng, count=...) as prng_sample2:\n",
    "        with match(prng_sample=prng_sample2):\n",
    "            # play something conditionally on `prng_sample2`\n",
    "            ...\n",
    "```\n",
    "\n",
    "\n",
    "\n",
    "#### Note \n",
    "When using multiple PRNG loops without reseeding, the values provided by `PRNGSample.values` are not correct. Similarly, the values stored in the results object (`AcquiredResult.axis`) are also not accurate. Indeed, these values are computed under the assumption that the PRNG _was_ in fact freshly seeded before entering the loop.\n",
    "\n",
    "\n",
    "If you still need to elaborate the values the PRNG will emit, use `laboneq.core.utilities.prng` to simulate the PRNG at a lower level."
   ]
  },
  {
   "cell_type": "code",
   "execution_count": null,
   "id": "c5f7193f09eab315",
   "metadata": {
    "collapsed": false
   },
   "outputs": [],
   "source": [
    "from laboneq.core.utilities.prng import PRNG as PRNGSim\n",
    "\n",
    "# `upper` is the maximum value produced, i.e. it corresponds to `range - 1` in the DSL\n",
    "prng_sim = PRNGSim(seed=0xCAFE, upper=17)\n",
    "\n",
    "# the first 10 values\n",
    "print([next(prng_sim) for _ in range(10)])"
   ]
  }
 ],
 "metadata": {
  "kernelspec": {
   "display_name": "repo",
   "language": "python",
   "name": "python3"
  },
  "language_info": {
   "codemirror_mode": {
    "name": "ipython",
    "version": 3
   },
   "file_extension": ".py",
   "mimetype": "text/x-python",
   "name": "python",
   "nbconvert_exporter": "python",
   "pygments_lexer": "ipython3",
   "version": "3.12.7"
  }
 },
 "nbformat": 4,
 "nbformat_minor": 5
}
