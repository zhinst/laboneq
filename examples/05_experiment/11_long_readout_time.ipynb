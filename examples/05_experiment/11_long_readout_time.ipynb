{
 "cells": [
  {
   "cell_type": "markdown",
   "metadata": {},
   "source": [
    "# Using the Long Readout Time (LRT) option\n",
    "\n",
    "This notebook demonstrates how to make use of the long readout time option on SHFQA and SHFQC instruments. "
   ]
  },
  {
   "cell_type": "markdown",
   "metadata": {},
   "source": [
    "## Python Imports\n",
    "\n",
    "Import the necessary DSL classes from LabOne Q"
   ]
  },
  {
   "cell_type": "code",
   "execution_count": 1,
   "metadata": {},
   "outputs": [],
   "source": [
    "from laboneq.contrib.example_helpers.generate_device_setup import (\n",
    "    generate_device_setup_qubits,\n",
    ")\n",
    "from laboneq.simple import *"
   ]
  },
  {
   "cell_type": "markdown",
   "metadata": {},
   "source": [
    "## Device Setup\n",
    "\n",
    "Create the device setup instance including qubits."
   ]
  },
  {
   "cell_type": "code",
   "execution_count": 25,
   "metadata": {},
   "outputs": [],
   "source": [
    "# specify the number of qubits you want to use\n",
    "number_of_qubits = 2\n",
    "\n",
    "# generate the device setup and the qubit objects using a helper function\n",
    "device_setup, qubits = generate_device_setup_qubits(\n",
    "    number_qubits=number_of_qubits,\n",
    "    pqsc=[{\"serial\": \"DEV10056\"}],\n",
    "    shfsg=[\n",
    "        {\n",
    "            \"serial\": \"DEV12001\",\n",
    "            \"zsync\": 1,\n",
    "            \"number_of_channels\": 8,\n",
    "            \"options\": \"SHFSG8/RTR\",\n",
    "        }\n",
    "    ],\n",
    "    shfqa=[\n",
    "        {\n",
    "            \"serial\": \"DEV12002\",\n",
    "            \"zsync\": 2,\n",
    "            \"number_of_channels\": 4,\n",
    "            \"readout_multiplex\": 6,\n",
    "            \"options\": \"SHFQA4/LRT\",\n",
    "        }\n",
    "    ],\n",
    "    include_flux_lines=False,\n",
    "    server_host=\"localhost\",\n",
    "    setup_name=f\"my_{number_of_qubits}_tuneable_qubit_setup\",\n",
    ")\n",
    "\n",
    "q0, q1 = qubits[:2]"
   ]
  },
  {
   "cell_type": "code",
   "execution_count": null,
   "metadata": {},
   "outputs": [],
   "source": [
    "use_emulation = True\n",
    "\n",
    "session = Session(device_setup)\n",
    "session.connect(do_emulation=use_emulation, ignore_version_mismatch=True)"
   ]
  },
  {
   "cell_type": "markdown",
   "metadata": {},
   "source": [
    "## Experiment\n",
    "\n",
    "Define an experiment that makes use of the long readout time functionality.\n",
    "\n",
    "* Specify a readout pulse or integration kernel that is longer than 4096 samples or 2.043 us.\n",
    "* The readout pulse needs to be compressible, meaning that the middle part of it needs to be constant. Note that the total length of the non-constant part still cannot exceed 4096 samples. \n",
    "* Enable hardware modulation for both the readout and acquisition logical signal."
   ]
  },
  {
   "cell_type": "code",
   "execution_count": 27,
   "metadata": {},
   "outputs": [],
   "source": [
    "def long_readout_experiment(qubit, readout_time=10e-6, average_count=2**3):\n",
    "    exp = Experiment(\n",
    "        signals=[\n",
    "            ExperimentSignal(\"drive\", map_to=qubit.signals[\"drive\"]),\n",
    "            ExperimentSignal(\"acquire\", map_to=qubit.signals[\"acquire\"]),\n",
    "            ExperimentSignal(\"measure\", map_to=qubit.signals[\"measure\"]),\n",
    "        ]\n",
    "    )\n",
    "    # generate readout pulse - enable compression to use pulses longer than 2us\n",
    "    readout_pulse = pulse_library.const(\n",
    "        length=readout_time,\n",
    "        amplitude=0.5,\n",
    "        can_compress=True,\n",
    "    )\n",
    "\n",
    "    # generate and set the configuration for the long readout - use hardware modulation for long readout\n",
    "    experiment_configuration = Calibration()\n",
    "    experiment_configuration[\"measure\"] = SignalCalibration(\n",
    "        oscillator=Oscillator(\n",
    "            frequency=qubit.parameters.readout_frequency,\n",
    "            modulation_type=ModulationType.HARDWARE,\n",
    "        )\n",
    "    )\n",
    "    experiment_configuration[\"acquire\"] = SignalCalibration(\n",
    "        oscillator=Oscillator(\n",
    "            frequency=qubit.parameters.readout_frequency,\n",
    "            modulation_type=ModulationType.HARDWARE,\n",
    "        )\n",
    "    )\n",
    "    exp.set_calibration(experiment_configuration)\n",
    "\n",
    "    with exp.acquire_loop_rt(\n",
    "        count=average_count,\n",
    "        acquisition_type=AcquisitionType.INTEGRATION,\n",
    "        averaging_mode=AveragingMode.SINGLE_SHOT,\n",
    "    ):\n",
    "        with exp.section(uid=\"drive\"):\n",
    "            exp.play(\"drive\", pulse=pulse_library.drag())\n",
    "        with exp.section(uid=\"long_readout\", play_after=\"drive\"):\n",
    "            exp.play(\"measure\", pulse=readout_pulse)\n",
    "            exp.acquire(\"acquire\", kernel=readout_pulse, handle=\"my_results\")\n",
    "            exp.delay(\"acquire\", 500e-9)\n",
    "\n",
    "    return exp"
   ]
  },
  {
   "cell_type": "code",
   "execution_count": 28,
   "metadata": {},
   "outputs": [],
   "source": [
    "# generate the experiment with a 20us long readout pulse\n",
    "my_exp = long_readout_experiment(qubit=q0, readout_time=30e-6)"
   ]
  },
  {
   "cell_type": "code",
   "execution_count": null,
   "metadata": {},
   "outputs": [],
   "source": [
    "compiled_exp = session.compile(my_exp)"
   ]
  },
  {
   "cell_type": "code",
   "execution_count": null,
   "metadata": {},
   "outputs": [],
   "source": [
    "my_results = session.run(compiled_exp)"
   ]
  },
  {
   "cell_type": "code",
   "execution_count": null,
   "metadata": {},
   "outputs": [],
   "source": [
    "# inspect the pulse sheet\n",
    "\n",
    "# show_pulse_sheet(name=\"long readout experiment\", compiled_experiment=compiled_exp)"
   ]
  }
 ],
 "metadata": {
  "kernelspec": {
   "display_name": "repo",
   "language": "python",
   "name": "python3"
  },
  "language_info": {
   "codemirror_mode": {
    "name": "ipython",
    "version": 3
   },
   "file_extension": ".py",
   "mimetype": "text/x-python",
   "name": "python",
   "nbconvert_exporter": "python",
   "pygments_lexer": "ipython3",
   "version": "3.12.8"
  }
 },
 "nbformat": 4,
 "nbformat_minor": 4
}
