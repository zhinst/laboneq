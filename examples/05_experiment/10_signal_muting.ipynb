{
 "cells": [
  {
   "cell_type": "markdown",
   "metadata": {},
   "source": [
    "# Signal Muting"
   ]
  },
  {
   "cell_type": "markdown",
   "metadata": {},
   "source": [
    "This notebook demonstrates the signal muting functionality of SHF+ devices.\n",
    "Signal muting can be used to effectively reduce the noise on idle signal lines."
   ]
  },
  {
   "cell_type": "markdown",
   "metadata": {},
   "source": [
    "## Python Imports"
   ]
  },
  {
   "cell_type": "markdown",
   "metadata": {},
   "source": [
    "Import the necessary DSL classes from LabOne Q"
   ]
  },
  {
   "cell_type": "code",
   "execution_count": null,
   "metadata": {},
   "outputs": [],
   "source": [
    "from laboneq.contrib.example_helpers.generate_device_setup import (\n",
    "    generate_device_setup_qubits,\n",
    ")\n",
    "from laboneq.simple import *"
   ]
  },
  {
   "cell_type": "markdown",
   "metadata": {},
   "source": [
    "## Device Setup"
   ]
  },
  {
   "cell_type": "markdown",
   "metadata": {},
   "source": [
    "Create the device setup instance for the SHFQC instrument.\n"
   ]
  },
  {
   "cell_type": "code",
   "execution_count": null,
   "metadata": {},
   "outputs": [],
   "source": [
    "# specify the number of qubits you want to use\n",
    "number_of_qubits = 6\n",
    "\n",
    "# generate the device setup and the qubit objects using a helper function\n",
    "device_setup, qubits = generate_device_setup_qubits(\n",
    "    number_qubits=number_of_qubits,\n",
    "    pqsc=[{\"serial\": \"DEV10001\"}],\n",
    "    hdawg=[{\"serial\": \"DEV8001\", \"zsync\": 0, \"number_of_channels\": 8, \"options\": None}],\n",
    "    shfqc=[\n",
    "        {\n",
    "            \"serial\": \"DEV12001\",\n",
    "            \"zsync\": 1,\n",
    "            \"number_of_channels\": 6,\n",
    "            \"readout_multiplex\": 6,\n",
    "            \"options\": None,\n",
    "        }\n",
    "    ],\n",
    "    include_flux_lines=True,\n",
    "    server_host=\"localhost\",\n",
    "    setup_name=f\"my_{number_of_qubits}_tuneable_qubit_setup\",\n",
    ")"
   ]
  },
  {
   "cell_type": "code",
   "execution_count": null,
   "metadata": {},
   "outputs": [],
   "source": [
    "use_emulation = True\n",
    "\n",
    "session = Session(device_setup)\n",
    "session.connect(do_emulation=use_emulation)"
   ]
  },
  {
   "cell_type": "markdown",
   "metadata": {},
   "source": [
    "## `automute` Calibration Option"
   ]
  },
  {
   "cell_type": "markdown",
   "metadata": {},
   "source": [
    "Define the calibration function for the `acquire` and `measure` line of the SHFQA.\n",
    "\n",
    "* The muting functionality is enabled on the `measure` line with the option `automute`."
   ]
  },
  {
   "cell_type": "code",
   "execution_count": null,
   "metadata": {},
   "outputs": [],
   "source": [
    "q0 = device_setup.logical_signal_groups[\"q0\"]\n",
    "\n",
    "q0.logical_signals[\"acquire\"].calibration = SignalCalibration(\n",
    "    oscillator=Oscillator(modulation_type=ModulationType.SOFTWARE, frequency=-2.5e8),\n",
    "    local_oscillator=Oscillator(frequency=2e9),\n",
    "    range=5,\n",
    ")\n",
    "\n",
    "q0.logical_signals[\"measure\"].calibration = SignalCalibration(\n",
    "    oscillator=Oscillator(modulation_type=ModulationType.SOFTWARE, frequency=-2.5e8),\n",
    "    local_oscillator=Oscillator(frequency=2e9),\n",
    "    automute=True,  # <-- Mute this output line when not playing pulses\n",
    "    range=10,\n",
    ")"
   ]
  },
  {
   "cell_type": "markdown",
   "metadata": {},
   "source": [
    "## Experiment"
   ]
  },
  {
   "cell_type": "markdown",
   "metadata": {},
   "source": [
    "Define an experiment that makes use of the muting functionality.\n",
    "\n",
    "* The small amplitude of the play pulse operation allows us see the effect of the muting function better.\n",
    "* While muting was already enabled by the calibration option `automute`, this functionality needs a sufficiently long delay in between pulses to become active.\n",
    "* More specifically, a minimum delay of 280 ns is needed to mute a given signal line after a pulse has been played on it."
   ]
  },
  {
   "cell_type": "code",
   "execution_count": null,
   "metadata": {},
   "outputs": [],
   "source": [
    "exp = Experiment(\n",
    "    signals=[\n",
    "        ExperimentSignal(\"acquire\", map_to=q0.logical_signals[\"acquire\"]),\n",
    "        ExperimentSignal(\"measure\", map_to=q0.logical_signals[\"measure\"]),\n",
    "    ]\n",
    ")\n",
    "pulse = pulse_library.const(length=5e-7, amplitude=1)\n",
    "\n",
    "with exp.acquire_loop_rt(count=2**5):\n",
    "    with exp.section(uid=\"measure\"):\n",
    "        exp.play(\"measure\", pulse=pulse, amplitude=0.01)\n",
    "        exp.acquire(\"acquire\", kernel=pulse, handle=\"h\")\n",
    "        exp.delay(\"acquire\", 280e-9)\n",
    "        exp.delay(\"measure\", 280e-9)  # <-- muting active for delays >= 280 ns\n",
    "\n",
    "compiled_exp = session.compile(exp)\n",
    "print(\"\\nSeqC:\\n\")\n",
    "print(compiled_exp.scheduled_experiment.artifacts.src[0][\"text\"])"
   ]
  },
  {
   "cell_type": "markdown",
   "metadata": {},
   "source": [
    "## Result"
   ]
  },
  {
   "cell_type": "markdown",
   "metadata": {},
   "source": [
    "We are now ready to run the experiment and observe the muting of the signal on an oscilloscope.\n",
    "\n",
    "The following wiring to the oscilloscope is used\n",
    "* QA output signal\n",
    "* QA marker signal\n"
   ]
  },
  {
   "cell_type": "code",
   "execution_count": null,
   "metadata": {},
   "outputs": [],
   "source": [
    "_ = session.run(compiled_exp)"
   ]
  },
  {
   "cell_type": "markdown",
   "metadata": {},
   "source": [
    "We see the behavior of the QA output and marker signal before and during the sequence of pulses played by\n",
    "```\n",
    "    exp.play(\"measure\", pulse=pulse, amplitude=0.01)\n",
    "```\n",
    "\n",
    "and observe the following\n",
    "\n",
    "* Without muting, we see the same noise level before and during the sequence of pulses \n",
    "\n",
    "* We see the muting function being active from the marker signal.\n",
    "\n",
    "* When muting is active the noise level between individual pulses is reduced compared to before the pulse sequence.\n"
   ]
  }
 ],
 "metadata": {
  "kernelspec": {
   "display_name": "develop",
   "language": "python",
   "name": "python3"
  },
  "language_info": {
   "codemirror_mode": {
    "name": "ipython",
    "version": 3
   },
   "file_extension": ".py",
   "mimetype": "text/x-python",
   "name": "python",
   "nbconvert_exporter": "python",
   "pygments_lexer": "ipython3",
   "version": "3.12.4"
  }
 },
 "nbformat": 4,
 "nbformat_minor": 4
}
