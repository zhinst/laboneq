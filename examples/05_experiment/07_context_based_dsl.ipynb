{
 "cells": [
  {
   "cell_type": "markdown",
   "id": "85f7ea6f-1690-490c-813a-f9ab50886b3e",
   "metadata": {},
   "source": [
    "# Context-Based DSL Style\n",
    "\n",
    "As described in the [Declarative DSL Style](https://docs.zhinst.com/labone_q_user_manual/core/functionality_and_concepts/10_advanced_topics/tutorials/05_declarative_dsl.html) tutorial, you can choose between the imperative, the context-based, and\n",
    "the declarative DSL style when writing experiments. This tutorial describes the context-based style.\n",
    "\n",
    "Like the imperative style, the context-based style provides a syntax where the structure of the experiment\n",
    "matches the structure of the Python code you write and makes extensive use of the Python `with` statement.\n",
    "\n",
    "In addition, it provides an experiment context that reduces the amount of boilerplate and results in more\n",
    "compact and readable experiments.\n",
    "\n",
    "The context-based style supports writing experiments in two ways:\n",
    "\n",
    "* Using signal lines directly.\n",
    "* Using qubits.\n",
    "\n",
    "The two ways overlap substantially -- only how the experiment context is created differs. This tutorial covers both."
   ]
  },
  {
   "cell_type": "markdown",
   "id": "6c47d2e7-0691-4524-8c71-e9c44a5e2c0b",
   "metadata": {},
   "source": [
    "## Imports\n",
    "\n",
    "Everything one needs to build experiments using the context-based DSL is available in `laboneq.simple.dsl`. Let's import it now along with the rest of `laboneq.simple`:"
   ]
  },
  {
   "cell_type": "code",
   "execution_count": null,
   "id": "392ba1ae-d839-4d0a-b3e8-10b169178c1b",
   "metadata": {},
   "outputs": [],
   "source": [
    "from laboneq.simple import *"
   ]
  },
  {
   "cell_type": "markdown",
   "id": "ffeb33c3-e0e4-4eac-bf7a-695a8686f6e8",
   "metadata": {},
   "source": [
    "Add create a demonstration device setup to work with:"
   ]
  },
  {
   "cell_type": "code",
   "execution_count": null,
   "id": "04aa3cdc-c110-48c5-a3f6-93e57a2f6190",
   "metadata": {},
   "outputs": [],
   "source": [
    "# Example device setup creator:\n",
    "from laboneq.contrib.example_helpers.generate_device_setup import (\n",
    "    generate_device_setup_qubits,\n",
    ")\n",
    "\n",
    "# Helpers:\n",
    "from laboneq.contrib.example_helpers.plotting.plot_helpers import plot_simulation"
   ]
  },
  {
   "cell_type": "code",
   "execution_count": null,
   "id": "6a3850bc-c839-4903-aa35-71c2a3e810ee",
   "metadata": {},
   "outputs": [],
   "source": [
    "# specify the number of qubits you want to use\n",
    "number_of_qubits = 2\n",
    "\n",
    "# generate the device setup and the qubit objects using a helper function\n",
    "device_setup, qubits = generate_device_setup_qubits(\n",
    "    number_qubits=number_of_qubits,\n",
    "    pqsc=[{\"serial\": \"DEV10001\"}],\n",
    "    hdawg=[{\"serial\": \"DEV8001\", \"zsync\": 0, \"number_of_channels\": 8, \"options\": None}],\n",
    "    shfqc=[\n",
    "        {\n",
    "            \"serial\": \"DEV12001\",\n",
    "            \"zsync\": 1,\n",
    "            \"number_of_channels\": 6,\n",
    "            \"readout_multiplex\": 6,\n",
    "            \"options\": None,\n",
    "        }\n",
    "    ],\n",
    "    include_flux_lines=True,\n",
    "    server_host=\"localhost\",\n",
    "    setup_name=f\"my_{number_of_qubits}_fixed_qubit_setup\",\n",
    ")\n",
    "\n",
    "q0, q1 = qubits[:2]"
   ]
  },
  {
   "cell_type": "code",
   "execution_count": null,
   "id": "a9058fa1-1d0a-4075-b283-906b87431d10",
   "metadata": {},
   "outputs": [],
   "source": [
    "use_emulation = True\n",
    "\n",
    "# create a session\n",
    "session = Session(device_setup)\n",
    "# connect to session\n",
    "session.connect(do_emulation=use_emulation)"
   ]
  },
  {
   "cell_type": "markdown",
   "id": "1efefa30-3318-4a9c-a892-7cd0708b5f17",
   "metadata": {},
   "source": [
    "## Writing experiments with signals\n",
    "\n",
    "We write an experiment by defining a function and decorating it with the `@dsl.experiment` decorator. When the function is called, it will create an experiment context and any sections or operations used inside the function will be added to the experiment being built. The decorated function will return the experiment created.\n",
    "\n",
    "Let's create an completely empty experiment to see how this works:"
   ]
  },
  {
   "cell_type": "code",
   "execution_count": null,
   "id": "1c444ace-1336-4dca-b4ae-1a7f02d1a57e",
   "metadata": {},
   "outputs": [],
   "source": [
    "@dsl.experiment()\n",
    "def empty_experiment():\n",
    "    # the experiment context is active inside the function\n",
    "    ..."
   ]
  },
  {
   "cell_type": "markdown",
   "id": "b50deb41-0b43-4c9a-9625-6b1b6b4ee1a5",
   "metadata": {},
   "source": [
    "And now we call the function to create the experiment:"
   ]
  },
  {
   "cell_type": "code",
   "execution_count": null,
   "id": "6cd5d631-7861-45c9-9228-1078e7c7a3cd",
   "metadata": {},
   "outputs": [],
   "source": [
    "empty_experiment()"
   ]
  },
  {
   "cell_type": "markdown",
   "id": "3d7a70ae-79d6-4bf6-b41e-583b6107a4c9",
   "metadata": {},
   "source": [
    "The experiment we just created is not very useful -- it plays no pulses and has no signals or sections. Let's write a more useful experiment that plays a constant pulse of a given amplitude and length:"
   ]
  },
  {
   "cell_type": "code",
   "execution_count": null,
   "id": "86f7b0ec-5565-4fad-9de8-caf0ffb1ed07",
   "metadata": {},
   "outputs": [],
   "source": [
    "@dsl.experiment(signals=[\"drive\"])\n",
    "def constant_drive_experiment(amplitude, length, count):\n",
    "    \"\"\"An experiment that plays a constant drive pulse.\n",
    "\n",
    "    Arguments:\n",
    "        amplitude:\n",
    "            The amplitude of the pulse to play.\n",
    "        length:\n",
    "            The length of the pulse to play (s).\n",
    "        count:\n",
    "            The number of acquire loop iterations to perform.\n",
    "    \"\"\"\n",
    "    with dsl.acquire_loop_rt(count=count):\n",
    "        with dsl.section(name=\"play-drive-pulse\"):\n",
    "            dsl.play(\n",
    "                \"drive\", dsl.pulse_library.const(amplitude=amplitude, length=length)\n",
    "            )"
   ]
  },
  {
   "cell_type": "markdown",
   "id": "c3331322-34ab-4409-93cb-f064575cd664",
   "metadata": {},
   "source": [
    "In the function above we've used a features we haven't seen yet:\n",
    "\n",
    "* `@dsl.experiment(signals=[\"drive\"])`: We can specify the signals used by the experiment when calling the `dsl.experiment` decorator.\n",
    "* `def constant_drive_experiment(amplitude, length, count)`: We can pass parameters to our experiment function and use them within the experiment being created.\n",
    "* `dsl.section`: We can create sections using a `with` block just as we do with the imperative DSL.\n",
    "* `dsl.play`: We can perform operations inside sections blocks.\n",
    "\n",
    "The section created is automatically added to the experiment and the play operation is automatically added to the surrounding section.\n",
    "\n",
    "Let's call `constant_drive_experiment` and examine the experiment it returns:"
   ]
  },
  {
   "cell_type": "code",
   "execution_count": null,
   "id": "7aac8b4c-21e6-4775-866c-b3a82df864e7",
   "metadata": {},
   "outputs": [],
   "source": [
    "exp = constant_drive_experiment(amplitude=0.5, length=10e-9, count=10)\n",
    "exp"
   ]
  },
  {
   "cell_type": "markdown",
   "id": "8b73e680-6c05-4093-884a-c734153822cd",
   "metadata": {},
   "source": [
    "The experiment has been created but the signals are not yet mapped. We'll need to associate them with a logical signal from a device setup before we can compile the experiment.\n",
    "\n",
    "The values we supplied for the `amplitude` (0.5) and `length` (10e-9) of the pulse have been filled in.\n",
    "\n",
    "Let's map the logical signal and compile the experiment:"
   ]
  },
  {
   "cell_type": "code",
   "execution_count": null,
   "id": "74aa80a7-5b81-4013-9fd2-f00cf34a107e",
   "metadata": {},
   "outputs": [],
   "source": [
    "exp.map_signal(\"drive\", \"q0/drive\")"
   ]
  },
  {
   "cell_type": "code",
   "execution_count": null,
   "id": "8044dbbe-5b31-4622-a575-aabf3fbb3ada",
   "metadata": {},
   "outputs": [],
   "source": [
    "exp.signals[\"drive\"]"
   ]
  },
  {
   "cell_type": "code",
   "execution_count": null,
   "id": "98173c8e-9d05-49e3-9943-f9c76cd1a3e7",
   "metadata": {},
   "outputs": [],
   "source": [
    "compiled_experiment = session.compile(exp)"
   ]
  },
  {
   "cell_type": "markdown",
   "id": "fd3c63cb-0fba-42c6-b43d-7801dab95ad9",
   "metadata": {},
   "source": [
    "Let's examine the compiled experiment by running the output simulator:"
   ]
  },
  {
   "cell_type": "code",
   "execution_count": null,
   "id": "7c508901-08c8-4f6d-80d3-e6524f46bbdc",
   "metadata": {},
   "outputs": [],
   "source": [
    "# Simulate experiment\n",
    "\n",
    "# Plot simulated output signals with helper function\n",
    "plot_simulation(\n",
    "    compiled_experiment,\n",
    "    start_time=0,\n",
    "    length=15e-9,\n",
    "    plot_width=10,\n",
    "    plot_height=3,\n",
    ")"
   ]
  },
  {
   "cell_type": "markdown",
   "id": "478788c7-5efe-43b7-8df9-4c514f13103d",
   "metadata": {},
   "source": [
    "You've now written your first experiment using the context-based DSL. All of the other features extend this basic structure. The other features can be organized into two main categories -- those that add sections and those that add operations:\n",
    "\n",
    "**Functions that add sections**:\n",
    "\n",
    "* [acquire_loop_rt](https://docs.zhinst.com/labone_q_user_manual/core/reference/simple_dsl.html#laboneq.simple.dsl.acquire_loop_rt) (adds an acquire loop)\n",
    "* [add](https://docs.zhinst.com/labone_q_user_manual/core/reference/simple_dsl.html#laboneq.simple.dsl.add) (adds an already created section)\n",
    "* [case](https://docs.zhinst.com/labone_q_user_manual/core/reference/simple_dsl.html#laboneq.simple.dsl.case) (adds a `case` section)\n",
    "- [match](https://docs.zhinst.com/labone_q_user_manual/core/reference/simple_dsl.html#laboneq.simple.dsl.match) (adds a `match` section)\n",
    "- [section](https://docs.zhinst.com/labone_q_user_manual/core/reference/simple_dsl.html#laboneq.simple.dsl.section) (adds a generic `section`)\n",
    "- [sweep](https://docs.zhinst.com/labone_q_user_manual/core/reference/simple_dsl.html#laboneq.simple.dsl.sweep) (adds a `sweep` section)\n",
    "\n",
    "**Functions that add operations**:\n",
    "\n",
    "- [acquire](https://docs.zhinst.com/labone_q_user_manual/core/reference/simple_dsl.html#laboneq.simple.dsl.acquire)\n",
    "- [call](https://docs.zhinst.com/labone_q_user_manual/core/reference/simple_dsl.html#laboneq.simple.dsl.call)\n",
    "- [delay](https://docs.zhinst.com/labone_q_user_manual/core/reference/simple_dsl.html#laboneq.simple.dsl.delay)\n",
    "- [measure](https://docs.zhinst.com/labone_q_user_manual/core/reference/simple_dsl.html#laboneq.simple.dsl.measure)\n",
    "- [play](https://docs.zhinst.com/labone_q_user_manual/core/reference/simple_dsl.html#laboneq.simple.dsl.play)\n",
    "- [reserve](https://docs.zhinst.com/labone_q_user_manual/core/reference/simple_dsl.html#laboneq.simple.dsl.reserve)\n",
    "- [set_node](https://docs.zhinst.com/labone_q_user_manual/core/reference/simple_dsl.html#laboneq.simple.dsl.set_node)\n",
    "\n",
    "There are also a few other functions that are helpful:\n",
    "\n",
    "**Other**:\n",
    "\n",
    "- [active_section](https://docs.zhinst.com/labone_q_user_manual/core/reference/simple_dsl.html#laboneq.simple.dsl..active_section) (returns the currently active section)\n",
    "- [experiment](https://docs.zhinst.com/labone_q_user_manual/core/reference/simple_dsl.html#laboneq.simple.dsl..experiment) (the `experiment` decorator we have just used)\n",
    "- [experiment_calibration](https://docs.zhinst.com/labone_q_user_manual/core/reference/simple_dsl.html#laboneq.simple.dsl..experiment_calibration) (returns the calibration of the current experiment)\n",
    "- [map_signal](https://docs.zhinst.com/labone_q_user_manual/core/reference/simple_dsl.html#laboneq.simple.dsl..map_signal) (maps an experiment signal on the current experiment)\n",
    "- [uid](https://docs.zhinst.com/labone_q_user_manual/core/reference/simple_dsl.html#laboneq.simple.dsl.uid) (returns a unique identifier that is unique to the current experiment)\n",
    "- [pulse_library](https://docs.zhinst.com/labone_q_user_manual/core/reference/simple_dsl.html#laboneq.simple.dsl.pulse_library) (convenient access to the pulse library module)\n",
    "\n",
    "The reference documentation for all the other methods can be found [here](https://docs.zhinst.com/labone_q_user_manual/core/reference/simple_dsl.html).\n",
    "\n",
    "We'll look at some of the functions that are unique to the context-base DSL later in this tutorial."
   ]
  },
  {
   "cell_type": "markdown",
   "id": "21189d1a-285d-49fb-884a-fe0f26a9a68d",
   "metadata": {},
   "source": [
    "## Writing experiments with qubits\n",
    "\n",
    "We've just seen how to write context-based DSL experiments that use signals directly. Now let's see how to write experiments that take qubits as arguments.\n",
    "\n",
    "The two big changes are:\n",
    "\n",
    "* We'll use the `@dsl.qubit_experiment` decorator instead of the `@dsl.experiment` decorator.\n",
    "* When we apply operations to our signals we'll pass the qubit signal (e.g. `qubit.signals[\"drive\"]`) instead of the experiment signal name (e.g. `\"drive\"`).\n",
    "\n",
    "Here's an empty experiment that takes a qubit as an argument:"
   ]
  },
  {
   "cell_type": "code",
   "execution_count": null,
   "id": "39d525e6-b041-4e25-811e-7e450f1a87bd",
   "metadata": {},
   "outputs": [],
   "source": [
    "@dsl.qubit_experiment\n",
    "def empty_qubit_experiment(q):\n",
    "    # the experiment context is active inside the function\n",
    "    ..."
   ]
  },
  {
   "cell_type": "markdown",
   "id": "18e50f32-ecb9-4dd6-b06d-9825245a6140",
   "metadata": {},
   "source": [
    "Let's run it and examine the experiment. We'll use `q0` the first qubit from our device setup:"
   ]
  },
  {
   "cell_type": "code",
   "execution_count": null,
   "id": "c78aecbd-6e84-4f99-9948-a43ddb4c9553",
   "metadata": {},
   "outputs": [],
   "source": [
    "empty_qubit_experiment(q0)"
   ]
  },
  {
   "cell_type": "markdown",
   "id": "243c30cf-2867-4c81-a500-1a1c3f5040cd",
   "metadata": {},
   "source": [
    "Notice that in the experiment above:\n",
    "\n",
    "* all the qubit signal lines have been added as experiment signals\n",
    "* the experiment signals are already mapped to the appropriate logical signals\n",
    "* the signal line calibration generated by the qubit has been set\n",
    "\n",
    "If we call our function with a different qubit it will create an experiment with the new qubits lines mapped.\n",
    "\n",
    "The qubit signals are determined by calling the `.experiment_signals` method of the `QuantumElement` class.\n",
    "\n",
    "The `empty_qubit_experiment` accepts only a single qubit, but `@dsl.qubit_experiment` supports functions that take multiple quantum elements or even lists or tuples of quantum elements as positional arguments:"
   ]
  },
  {
   "cell_type": "code",
   "execution_count": null,
   "id": "e65c67bf-216d-4257-ad01-0cac5c5a8d78",
   "metadata": {},
   "outputs": [],
   "source": [
    "@dsl.qubit_experiment\n",
    "def empty_multi_qubit_experiment(q, other_qubits):\n",
    "    # the experiment context is active inside the function\n",
    "    ..."
   ]
  },
  {
   "cell_type": "code",
   "execution_count": null,
   "id": "05c7b0bc-086a-41fb-9f3c-72070c818b13",
   "metadata": {},
   "outputs": [],
   "source": [
    "empty_multi_qubit_experiment(q0, [q1])"
   ]
  },
  {
   "cell_type": "markdown",
   "id": "9e582a33-9a86-4907-ad82-b949ee3a6da6",
   "metadata": {},
   "source": [
    "Now we're ready to write the qubit equivalent of a simple constant drive pulse experiment:"
   ]
  },
  {
   "cell_type": "code",
   "execution_count": null,
   "id": "40fbee07-ec60-4e0d-8383-8ae6e7146b63",
   "metadata": {},
   "outputs": [],
   "source": [
    "@dsl.qubit_experiment\n",
    "def constant_qubit_drive_experiment(q, amplitude, length, count):\n",
    "    \"\"\"An experiment that plays a constant pulse on the qubit drive line.\n",
    "\n",
    "    Arguments:\n",
    "        amplitude:\n",
    "            The amplitude of the pulse to play.\n",
    "        length:\n",
    "            The length of the pulse to play (s).\n",
    "        count:\n",
    "            The number of acquire loop iterations to perform.\n",
    "    \"\"\"\n",
    "    with dsl.acquire_loop_rt(count=count):\n",
    "        with dsl.section(name=\"play-drive-pulse\"):\n",
    "            dsl.play(\n",
    "                q.signals[\"drive\"],\n",
    "                pulse_library.const(amplitude=amplitude, length=length),\n",
    "            )"
   ]
  },
  {
   "cell_type": "markdown",
   "id": "25a8e3e3-3168-4c95-8b3a-ff3a9ed86141",
   "metadata": {},
   "source": [
    "And we can run it to obtain the experiment. This time we'll use qubit `q1`:"
   ]
  },
  {
   "cell_type": "code",
   "execution_count": null,
   "id": "4ea223a6-22c1-4ee2-8cf6-9fa714eae458",
   "metadata": {},
   "outputs": [],
   "source": [
    "exp = constant_qubit_drive_experiment(q1, amplitude=0.5, length=10e-9, count=10)\n",
    "exp"
   ]
  },
  {
   "cell_type": "markdown",
   "id": "a0362c88-ca48-4cea-a4a4-5a4cc96ae9a4",
   "metadata": {},
   "source": [
    "Since the experiment signals are already mapped and the calibration applied, we can compile the experiment without any further work:"
   ]
  },
  {
   "cell_type": "code",
   "execution_count": null,
   "id": "8bb31baf-349f-4789-bec4-5b020a546d10",
   "metadata": {},
   "outputs": [],
   "source": [
    "compiled_experiment = session.compile(exp)"
   ]
  },
  {
   "cell_type": "markdown",
   "id": "0b2a8312-94af-4762-a880-a9ca900d8a4b",
   "metadata": {},
   "source": [
    "And again we can examine the compiled experiment by running the output simulator:"
   ]
  },
  {
   "cell_type": "code",
   "execution_count": null,
   "id": "50a30e54-3c6c-49fc-a78c-5af6e6b7bbff",
   "metadata": {},
   "outputs": [],
   "source": [
    "# Simulate experiment\n",
    "\n",
    "# Plot simulated output signals with helper function\n",
    "plot_simulation(\n",
    "    compiled_experiment,\n",
    "    start_time=0,\n",
    "    length=15e-9,\n",
    "    plot_width=10,\n",
    "    plot_height=3,\n",
    "    signals=[\"q1/drive\"],\n",
    ")"
   ]
  },
  {
   "cell_type": "markdown",
   "id": "caf6cb82-4096-469d-b91f-e19cac3914fe",
   "metadata": {},
   "source": [
    "When working with qubit experiments, it can be useful to write quantum operations for your qubits. These are documented in their own [tutorial](https://docs.zhinst.com/labone_q_user_manual/core/functionality_and_concepts/04_quantum_processing_unit/tutorials/00_quantum_operations.html) and are available in `laboneq.simple.dsl` for convenience:\n",
    "\n",
    "* [QuantumOperations](https://docs.zhinst.com/labone_q_user_manual/core/reference/simple_dsl.html#laboneq.simple.dsl.QuantumOperations) (the base class for defining sets of quantum operations)\n",
    "* [quantum_operation](https://docs.zhinst.com/labone_q_user_manual/core/reference/simple_dsl.html#laboneq.simple.dsl.quantum_operation) (a decorator to use for defining individual quantum operations)"
   ]
  },
  {
   "cell_type": "markdown",
   "id": "586fe8b1-386e-4571-b028-661371d5a1db",
   "metadata": {},
   "source": [
    "## Sweeps\n",
    "\n",
    "Sweeps are common in tune-up experiments and `dsl.sweep` works a little differently to the other context-based DSL functions that create sections. Instead of returning the section, it returns the sweep parameter.\n",
    "\n",
    "Here is a small experiment that performs an amplitude sweep of a drive pulse using `dsl.sweep`:"
   ]
  },
  {
   "cell_type": "code",
   "execution_count": null,
   "id": "7072774e-9603-4cc9-bbb0-19f447b5c0f8",
   "metadata": {},
   "outputs": [],
   "source": [
    "@dsl.qubit_experiment\n",
    "def qubit_sweep_experiment(q, amplitudes, count):\n",
    "    \"\"\"A simple sweep.\"\"\"\n",
    "    amplitude_sweep = SweepParameter(\"amplitude_sweep\", amplitudes)\n",
    "\n",
    "    with dsl.acquire_loop_rt(count=count):\n",
    "        with dsl.sweep(amplitude_sweep) as amplitude:\n",
    "            dsl.play(\n",
    "                q.signals[\"drive\"],\n",
    "                pulse_library.const(amplitude=1.0, length=10e-9),\n",
    "                amplitude=amplitude,\n",
    "            )"
   ]
  },
  {
   "cell_type": "markdown",
   "id": "3ce9b545-6ea3-4881-963d-a67aed184b27",
   "metadata": {},
   "source": [
    "Note how in `with dsl.sweep(amplitude_sweep) as amplitude` the `amplitude` is the sweep parameter (and not the created section).\n",
    "\n",
    "In this particular case we also need to pass the amplitude sweep directly to `dsl.play` because LabOne Q does not support sweeping the amplitude pulse parameter:\n",
    "\n",
    "```python\n",
    "        pulse_library.const(amplitude=1.0, length=10e-9),\n",
    "        amplitude=amplitude,  # <-- we pass the amplitude sweep here\n",
    "```\n",
    "\n",
    "Let's build and compile the experiment so we can examine the output with the output simulator:"
   ]
  },
  {
   "cell_type": "code",
   "execution_count": null,
   "id": "38c655cb-b498-4ac2-ba13-51bf86265573",
   "metadata": {},
   "outputs": [],
   "source": [
    "exp = qubit_sweep_experiment(q0, amplitudes=[0.1, 0.2, 0.3], count=10)"
   ]
  },
  {
   "cell_type": "code",
   "execution_count": null,
   "id": "ffe4178d-414f-43dd-a646-8cf3d135207f",
   "metadata": {},
   "outputs": [],
   "source": [
    "compiled_experiment = session.compile(exp)"
   ]
  },
  {
   "cell_type": "code",
   "execution_count": null,
   "id": "627d3cd4-53b9-4bd1-980a-0e3f8358b523",
   "metadata": {},
   "outputs": [],
   "source": [
    "# Simulate experiment\n",
    "\n",
    "# Plot simulated output signals with helper function\n",
    "plot_simulation(\n",
    "    compiled_experiment,\n",
    "    start_time=0,\n",
    "    length=0.6e-6,\n",
    "    plot_width=10,\n",
    "    plot_height=3,\n",
    "    signals=[\"q0/drive\"],\n",
    ")"
   ]
  },
  {
   "cell_type": "markdown",
   "id": "5288946f-be61-4f09-b50a-c45e00003d04",
   "metadata": {},
   "source": [
    "Above we can see the ten iterations of the acquire loop, each with a sweep of the pulse amplitude through three different values, just as we expected."
   ]
  },
  {
   "cell_type": "markdown",
   "id": "8bdf9197-b4b6-42b3-8a2f-fcfd90a8f2b0",
   "metadata": {},
   "source": [
    "## Accessing the experiment calibration"
   ]
  },
  {
   "cell_type": "code",
   "execution_count": null,
   "id": "63c76508-6baa-4bdc-ab45-8d362086e482",
   "metadata": {},
   "outputs": [],
   "source": [
    "@dsl.qubit_experiment\n",
    "def qubit_frequency_sweep_experiment(q, frequencies, count):\n",
    "    \"\"\"A simple sweep.\"\"\"\n",
    "    frequency_sweep = SweepParameter(\"frequency_sweep\", frequencies)\n",
    "\n",
    "    calibration = dsl.experiment_calibration()\n",
    "    signal_calibration = calibration[q.signals[\"drive\"]]\n",
    "    signal_calibration.oscillator.frequency = frequency_sweep\n",
    "    # Note: Here we set the modulation type to software so that\n",
    "    #       we can see the frequency modulation in the output\n",
    "    #       simulator. In a real experiment one would likely choose\n",
    "    #       to omit the line below.\n",
    "    signal_calibration.oscillator.modulation_type = ModulationType.SOFTWARE\n",
    "\n",
    "    with dsl.acquire_loop_rt(count=count):\n",
    "        with dsl.sweep(frequency_sweep):\n",
    "            dsl.play(\n",
    "                q.signals[\"drive\"],\n",
    "                pulse_library.const(amplitude=1.0, length=100e-9),\n",
    "            )"
   ]
  },
  {
   "cell_type": "code",
   "execution_count": null,
   "id": "58a39981-87ef-4b1b-bf93-0b2bbdff4320",
   "metadata": {},
   "outputs": [],
   "source": [
    "exp = qubit_frequency_sweep_experiment(\n",
    "    q0,\n",
    "    frequencies=[5.1e9, 5.2e9, 5.3e9],\n",
    "    count=10,\n",
    ")"
   ]
  },
  {
   "cell_type": "code",
   "execution_count": null,
   "id": "0ea40c9b-7183-4413-8654-616cc174a1f4",
   "metadata": {},
   "outputs": [],
   "source": [
    "compiled_experiment = session.compile(exp)"
   ]
  },
  {
   "cell_type": "markdown",
   "id": "609c1c4f-df9b-4541-adc1-e132ef53868e",
   "metadata": {},
   "source": [
    "Let's look at the output simulator. This time we'll zoom into just the first acquire loop iteration by setting `length=0.4e-6` so that we can see the frequency changes more clearly:"
   ]
  },
  {
   "cell_type": "code",
   "execution_count": null,
   "id": "521c640c-7fca-4da2-9e8e-e6b2279635d7",
   "metadata": {},
   "outputs": [],
   "source": [
    "# Simulate experiment\n",
    "\n",
    "# Plot simulated output signals with helper function\n",
    "plot_simulation(\n",
    "    compiled_experiment,\n",
    "    start_time=0,\n",
    "    length=0.4e-6,\n",
    "    plot_width=10,\n",
    "    plot_height=3,\n",
    "    signals=[\"q0/drive\"],\n",
    ")"
   ]
  },
  {
   "cell_type": "markdown",
   "id": "d4b2dd34-dbc3-4397-9d7b-aa2d816c643d",
   "metadata": {},
   "source": [
    "## Setting section properties\n",
    "\n",
    "When writing experiments one sometimes needs to set section parameters such as section alignment, section length, and whether the section is required to be on the system grid or not.\n",
    "\n",
    "Usually either the function creating the section, for example `dsl.acquire_loop_rt` or `dsl.section`, allows passing the section parameter as an argument, or the section object is available and the parameter can be set directly on it.\n",
    "\n",
    "Sometimes when using sweeps or writing quantum operations the current section is not immediately accessible. In these cases one can use `dsl.active_section` to retrieve the current section and set its attributes.\n",
    "\n",
    "Let's look at an example where we write a function that right aligns the current section:"
   ]
  },
  {
   "cell_type": "code",
   "execution_count": null,
   "id": "22b763df-9db1-4f48-99a1-c226390340b3",
   "metadata": {},
   "outputs": [],
   "source": [
    "def right_align():\n",
    "    \"\"\"Right align the current section.\"\"\"\n",
    "    section = dsl.active_section()\n",
    "    section.alignment = SectionAlignment.RIGHT\n",
    "\n",
    "\n",
    "@dsl.qubit_experiment\n",
    "def qubit_sweep_experiment_with_minimum_length(q, amplitudes, count):\n",
    "    \"\"\"A simple sweep.\"\"\"\n",
    "    amplitude_sweep = SweepParameter(\"amplitude_sweep\", amplitudes)\n",
    "\n",
    "    with dsl.acquire_loop_rt(count=count):\n",
    "        # We add a bigger pulse so we can see that the sweep ends\n",
    "        # up being right aligned in the output simulator:\n",
    "        with dsl.section():\n",
    "            dsl.play(\n",
    "                q.signals[\"drive\"],\n",
    "                pulse_library.const(amplitude=1.0, length=10e-9),\n",
    "            )\n",
    "\n",
    "        with dsl.sweep(amplitude_sweep) as amplitude:\n",
    "            right_align()  # --> here we right align the section\n",
    "            dsl.play(\n",
    "                q.signals[\"drive\"],\n",
    "                pulse_library.const(amplitude=1.0, length=10e-9),\n",
    "                amplitude=amplitude,\n",
    "            )"
   ]
  },
  {
   "cell_type": "code",
   "execution_count": null,
   "id": "f7ecafc7-539b-4c81-b6d1-5c01f66b2526",
   "metadata": {},
   "outputs": [],
   "source": [
    "exp = qubit_sweep_experiment_with_minimum_length(\n",
    "    q0,\n",
    "    amplitudes=[0.1, 0.2, 0.3],\n",
    "    count=10,\n",
    ")"
   ]
  },
  {
   "cell_type": "code",
   "execution_count": null,
   "id": "4e03ace2-6e9c-4d6c-aed9-c850ad95d459",
   "metadata": {},
   "outputs": [],
   "source": [
    "compiled_experiment = session.compile(exp)"
   ]
  },
  {
   "cell_type": "markdown",
   "id": "5449f028-ed24-4e36-9d06-676ee64bd220",
   "metadata": {},
   "source": [
    "In the output simulator plot below one can see that the sweep is right aligned so that the last pulse from the sweep touches the start of our bigger reference pulse in the next acquire loop iteration:"
   ]
  },
  {
   "cell_type": "code",
   "execution_count": null,
   "id": "aa139e10-a4b4-42b0-a2ed-4f4cc0ad0704",
   "metadata": {},
   "outputs": [],
   "source": [
    "# Simulate experiment\n",
    "\n",
    "# Plot simulated output signals with helper function\n",
    "plot_simulation(\n",
    "    compiled_experiment,\n",
    "    start_time=0,\n",
    "    length=0.6e-6,\n",
    "    plot_width=10,\n",
    "    plot_height=3,\n",
    "    signals=[\"q0/drive\"],\n",
    ")"
   ]
  },
  {
   "cell_type": "markdown",
   "id": "b8a186c1-ff82-4883-a0b8-1e7ea5f298d3",
   "metadata": {},
   "source": [
    "## Mapping signals while building an experiment\n",
    "\n",
    "Previously when writing experiments with signals we saw that we had to call `experiment.map_signal(...)` to map the experiment signal after the experiment was created.\n",
    "\n",
    "Using `dsl.map_signal(...)` we can pass the logical signal as a parameter to the function that builds the experiment and have the function apply the mapping for us right away:"
   ]
  },
  {
   "cell_type": "code",
   "execution_count": null,
   "id": "e85d1a50-fbe7-4864-a580-8d8f93c52862",
   "metadata": {},
   "outputs": [],
   "source": [
    "@dsl.experiment(signals=[\"drive\"])\n",
    "def auto_map_drive_experiment(amplitude, length, count, drive_signal):\n",
    "    \"\"\"An experiment that plays a constant drive pulse.\n",
    "\n",
    "    Arguments:\n",
    "        amplitude:\n",
    "            The amplitude of the pulse to play.\n",
    "        length:\n",
    "            The length of the pulse to play (s).\n",
    "        count:\n",
    "            The number of acquire loop iterations to perform.\n",
    "    \"\"\"\n",
    "    dsl.map_signal(\"drive\", drive_signal)\n",
    "    with dsl.acquire_loop_rt(count=count):\n",
    "        with dsl.section(name=\"play-drive-pulse\"):\n",
    "            dsl.play(\"drive\", pulse_library.const(amplitude=amplitude, length=length))"
   ]
  },
  {
   "cell_type": "code",
   "execution_count": null,
   "id": "4425c46a-37c4-42e3-afff-da7315639d6d",
   "metadata": {},
   "outputs": [],
   "source": [
    "exp = auto_map_drive_experiment(\n",
    "    amplitude=0.5,\n",
    "    length=10e-9,\n",
    "    count=10,\n",
    "    drive_signal=q0.signals[\"drive\"],\n",
    ")"
   ]
  },
  {
   "cell_type": "markdown",
   "id": "18fd878b-c097-497d-b3c7-5544eabe7835",
   "metadata": {},
   "source": [
    "Examining the experiment we can see that the signal is already mapped:"
   ]
  },
  {
   "cell_type": "code",
   "execution_count": null,
   "id": "f6952800-be94-4bc9-9f5c-da65d9f189ef",
   "metadata": {},
   "outputs": [],
   "source": [
    "exp.signals[\"drive\"]"
   ]
  },
  {
   "cell_type": "markdown",
   "id": "f4e80137-2e2b-4895-ac50-38be4d1bce48",
   "metadata": {},
   "source": [
    "And we can compile the experiment immediately:"
   ]
  },
  {
   "cell_type": "code",
   "execution_count": null,
   "id": "2ad18640-48b3-4198-8f28-acbb3902926d",
   "metadata": {},
   "outputs": [],
   "source": [
    "compiled_experiment = session.compile(exp)"
   ]
  },
  {
   "cell_type": "markdown",
   "id": "ba8dfeda-177b-41ce-88c3-273c2de840bd",
   "metadata": {},
   "source": [
    "## Avoiding specifying unique identifiers\n",
    "\n",
    "When working with the context-based DSL one should seldom have to explicitly set unique identifiers (uids) for sections. Set a section name instead. If a section has no UID, one is generated using the section name as the prefix.\n",
    "\n",
    "Let's see how this works:"
   ]
  },
  {
   "cell_type": "code",
   "execution_count": null,
   "id": "95f2c87a-24e1-4efe-b39a-903cd3ffdfdb",
   "metadata": {},
   "outputs": [],
   "source": [
    "@dsl.experiment()\n",
    "def using_names_experiment():\n",
    "    \"\"\"A demonstration of section naming.\"\"\"\n",
    "    with dsl.section(name=\"section_a\"):\n",
    "        pass\n",
    "    with dsl.section(name=\"section_b\"):\n",
    "        pass\n",
    "    with dsl.section(name=\"section_a\"):  # another section named 'section_a'\n",
    "        pass"
   ]
  },
  {
   "cell_type": "markdown",
   "id": "71ad87a3-8bad-4360-af19-98aacff2e9a3",
   "metadata": {},
   "source": [
    "Now we can build the experiment and examine the generated UIDs:"
   ]
  },
  {
   "cell_type": "code",
   "execution_count": null,
   "id": "cc9bf0cc-f580-419c-8a9f-516f23cc6dc3",
   "metadata": {},
   "outputs": [],
   "source": [
    "exp = using_names_experiment()\n",
    "exp"
   ]
  },
  {
   "cell_type": "markdown",
   "id": "e6e0ac56-a271-429d-9b9c-cf0f357c1c38",
   "metadata": {},
   "source": [
    "Let's go through the UIDs one by one:\n",
    "\n",
    "- the first `section_a` has a UID generated from its name (`section_a_0`).\n",
    "- `section_b` has a UID with the prefix `x` (`section_b_0`).\n",
    "- the second `section_a` also has a UID with from its name (`section_a_1`).\n",
    "\n",
    "Note that the generated UIDs are unique only to a particular experiment. If we create the experiment again, it will have the same UIDs:"
   ]
  },
  {
   "cell_type": "code",
   "execution_count": null,
   "id": "d664f6a1-c3a3-4a58-bc95-45a03c93d5bf",
   "metadata": {},
   "outputs": [],
   "source": [
    "exp = using_names_experiment()\n",
    "exp"
   ]
  },
  {
   "cell_type": "markdown",
   "id": "c3ebc3e1-9b8a-44e5-8bc4-fdb575300ced",
   "metadata": {},
   "source": [
    "This is a great feature because it means that you can rely on the generated UIDs being consistent."
   ]
  },
  {
   "cell_type": "markdown",
   "id": "8c075354-98c9-4601-8cc5-e455faadd897",
   "metadata": {},
   "source": [
    "Now you know all the basics of using the context-based DSL! Don't forget to have a look at the reference documentation for all the functions we didn't cover in this tutorial."
   ]
  }
 ],
 "metadata": {
  "kernelspec": {
   "display_name": "Python 3 (ipykernel)",
   "language": "python",
   "name": "python3"
  },
  "language_info": {
   "codemirror_mode": {
    "name": "ipython",
    "version": 3
   },
   "file_extension": ".py",
   "mimetype": "text/x-python",
   "name": "python",
   "nbconvert_exporter": "python",
   "pygments_lexer": "ipython3",
   "version": "3.12.8"
  }
 },
 "nbformat": 4,
 "nbformat_minor": 5
}
