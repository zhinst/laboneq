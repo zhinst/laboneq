{
 "cells": [
  {
   "attachments": {},
   "cell_type": "markdown",
   "metadata": {},
   "source": [
    "# Declarative DSL Style\n",
    "\n",
    "LabOne Q's domain-specific language (DSL) is the immediate user interface to define experiments, calibrations and everything else LabOne Q specific.\n",
    "\n",
    "Particularly when you define experiments, you can choose between the imperative, the context-based, and the declarative DSL style. Each one might have some distinct advantages useful for specific situations.\n",
    "\n",
    "In this notebook, you will learn how to:\n",
    "- Use the declarative DSL style to build a Ramsey experiment\n",
    "- How to manipulate sections to change the experiment's behavior without having to redefine the entire experiment.\n",
    "\n",
    "In the following, it might help you to think of your experiment as a tree: Often, its trunk is a real-time acquisition loop, which governs the averaging. It's branches are sections, which contain either more sections or pulses.\n",
    "\n",
    "## The Imperative Style\n",
    "\n",
    "Most of our example notebooks use the imperative DSL style to define experiments. The imperative style makes extensive use of Python's `with` statements, and the structure of the code represents the structure of the experiment.\n",
    "\n",
    "## The Context-Based Style\n",
    "\n",
    "The context-based style takes the imperative style one step further and adds an experiment context that allows one to write `play(...)` rather than `exp.play(...)`. Sections and operations are automatically\n",
    "added to the experiment and section being constructed.\n",
    "\n",
    "## The Declarative Style\n",
    "\n",
    "In the declarative DSL style, you define the constituent elements (sweeps, sections) of your experiments, and then \"declare\" how they interact with each other."
   ]
  },
  {
   "attachments": {},
   "cell_type": "markdown",
   "metadata": {},
   "source": [
    "## Imports"
   ]
  },
  {
   "cell_type": "code",
   "execution_count": null,
   "metadata": {},
   "outputs": [],
   "source": [
    "# Import required packages\n",
    "import numpy as np\n",
    "\n",
    "from laboneq.contrib.example_helpers.generate_device_setup import (\n",
    "    generate_device_setup_qubits,\n",
    ")\n",
    "from laboneq.simple import *"
   ]
  },
  {
   "attachments": {},
   "cell_type": "markdown",
   "metadata": {},
   "source": [
    "## Device Setup and Calibration"
   ]
  },
  {
   "attachments": {},
   "cell_type": "markdown",
   "metadata": {},
   "source": [
    "We'll generate a device setup and logical signal lines.\n",
    "\n",
    "In contrast to actual experiments, we do not apply a setup calibration to keep the notebook brief. To get familiar with using `Calibration`, please refer to our tutorial [here](https://docs.zhinst.com/labone_q_user_manual/core/functionality_and_concepts/02_logical_signals/tutorials/01_calibration.html)."
   ]
  },
  {
   "cell_type": "code",
   "execution_count": null,
   "metadata": {},
   "outputs": [],
   "source": [
    "# specify the number of qubits you want to use\n",
    "number_of_qubits = 2\n",
    "\n",
    "# generate the device setup and the qubit objects using a helper function\n",
    "device_setup, qubits = generate_device_setup_qubits(\n",
    "    number_qubits=number_of_qubits,\n",
    "    pqsc=[{\"serial\": \"DEV10001\"}],\n",
    "    hdawg=[{\"serial\": \"DEV8001\", \"zsync\": 0, \"number_of_channels\": 8, \"options\": None}],\n",
    "    shfqc=[\n",
    "        {\n",
    "            \"serial\": \"DEV12001\",\n",
    "            \"zsync\": 1,\n",
    "            \"number_of_channels\": 6,\n",
    "            \"readout_multiplex\": 6,\n",
    "            \"options\": None,\n",
    "        }\n",
    "    ],\n",
    "    include_flux_lines=True,\n",
    "    server_host=\"localhost\",\n",
    "    setup_name=f\"my_{number_of_qubits}_fixed_qubit_setup\",\n",
    ")\n",
    "\n",
    "q0, q1 = qubits[:2]"
   ]
  },
  {
   "attachments": {},
   "cell_type": "markdown",
   "metadata": {},
   "source": [
    "## Ramsey Experiment"
   ]
  },
  {
   "cell_type": "markdown",
   "metadata": {},
   "source": [
    "We start by defining the pulses and the parameter sweep"
   ]
  },
  {
   "cell_type": "code",
   "execution_count": null,
   "metadata": {},
   "outputs": [],
   "source": [
    "# pulse definitions\n",
    "drive_pulse = pulse_library.gaussian(uid=\"gaussian_drive\", length=700e-9, amplitude=1)\n",
    "readout_pulse = pulse_library.const(uid=\"Readout\", length=300e-9, amplitude=0.8)\n",
    "\n",
    "# averages\n",
    "n_average = 2\n",
    "\n",
    "# sweep parameters\n",
    "n_steps = 7\n",
    "start_delay = 0\n",
    "stop_delay = 13e-6\n",
    "\n",
    "time_sweep = LinearSweepParameter(\n",
    "    uid=\"time_sweep_param\", start=start_delay, stop=stop_delay, count=n_steps\n",
    ")"
   ]
  },
  {
   "cell_type": "markdown",
   "metadata": {},
   "source": [
    "Then, we start to define the experiment.\n",
    "\n",
    "The experiment comprises a real-time acquisition loop, which governs the averaging; and a parameter sweep, which governs the delay between the pulses.\n",
    "\n",
    "We'll use three sections to define our experimental sequence: In the first section, we will excite the qubit, in the second section, we'll measure it, and the third section introduces some delay for the qubit thermalization."
   ]
  },
  {
   "cell_type": "code",
   "execution_count": null,
   "metadata": {},
   "outputs": [],
   "source": [
    "exp_ramsey = Experiment(uid=\"Ramsey_Experiment\")\n",
    "exp_ramsey.add_signal(\n",
    "    \"drive\",\n",
    "    connect_to=device_setup.logical_signal_groups[\"q0\"].logical_signals[\"drive\"],\n",
    ")\n",
    "exp_ramsey.add_signal(\n",
    "    \"measure\",\n",
    "    connect_to=device_setup.logical_signal_groups[\"q0\"].logical_signals[\"measure\"],\n",
    ")\n",
    "exp_ramsey.add_signal(\n",
    "    \"acquire\",\n",
    "    connect_to=device_setup.logical_signal_groups[\"q0\"].logical_signals[\"acquire\"],\n",
    ")\n",
    "\n",
    "acquire_loop = AcquireLoopRt(\n",
    "    uid=\"RT_Shots\",\n",
    "    count=n_average,\n",
    "    averaging_mode=AveragingMode.CYCLIC,\n",
    "    repetition_mode=RepetitionMode.AUTO,\n",
    ")\n",
    "sweep = Sweep(\n",
    "    uid=\"Ramsey_Sweep\", parameters=[time_sweep], alignment=SectionAlignment.RIGHT\n",
    ")\n",
    "\n",
    "# Qubit Excitation\n",
    "excitation_section = Section(uid=\"qubit_excitation\")\n",
    "excitation_section.play(signal=\"drive\", pulse=drive_pulse)\n",
    "excitation_section.delay(signal=\"drive\", time=time_sweep)\n",
    "excitation_section.play(signal=\"drive\", pulse=drive_pulse)\n",
    "\n",
    "# Qubit Readout\n",
    "readout_section = Section(uid=\"readout\")\n",
    "readout_section.play_after = excitation_section\n",
    "readout_section.play(signal=\"measure\", pulse=readout_pulse)\n",
    "readout_section.acquire(\n",
    "    signal=\"acquire\",\n",
    "    handle=\"ramsey\",\n",
    "    kernel=readout_pulse,\n",
    ")\n",
    "\n",
    "# Qubit Thermalization\n",
    "delay_section = Section(uid=\"delay\", length=2e-6)\n",
    "delay_section.play_after = readout_section"
   ]
  },
  {
   "cell_type": "markdown",
   "metadata": {},
   "source": [
    "After having defined the constituent elements, we can put them together:\n",
    "\n",
    "We add the acquisition loop to the experiment, the sweep to the acquisition loop, and the sections to the sweep."
   ]
  },
  {
   "cell_type": "code",
   "execution_count": null,
   "metadata": {},
   "outputs": [],
   "source": [
    "exp_ramsey.add(acquire_loop)\n",
    "\n",
    "acquire_loop.add(sweep)\n",
    "\n",
    "sweep.add(excitation_section)\n",
    "sweep.add(readout_section)\n",
    "sweep.add(delay_section)"
   ]
  },
  {
   "cell_type": "markdown",
   "metadata": {},
   "source": [
    "### Inspect Experiment Tree\n",
    "\n",
    "You can use the `print` command to print the experiment tree as you have just defined it:"
   ]
  },
  {
   "cell_type": "code",
   "execution_count": null,
   "metadata": {},
   "outputs": [],
   "source": [
    "print(exp_ramsey)"
   ]
  },
  {
   "attachments": {},
   "cell_type": "markdown",
   "metadata": {},
   "source": [
    "### Experiment Compilation\n",
    "\n",
    "Before you can compile (or execute) the experiment, you need to open a session that connects to the instruments (or, here, emulates that connection)."
   ]
  },
  {
   "cell_type": "code",
   "execution_count": null,
   "metadata": {},
   "outputs": [],
   "source": [
    "session = Session(device_setup=device_setup)\n",
    "session.connect(do_emulation=True)"
   ]
  },
  {
   "cell_type": "code",
   "execution_count": null,
   "metadata": {},
   "outputs": [],
   "source": [
    "compiled_exp = session.compile(exp_ramsey)"
   ]
  },
  {
   "attachments": {},
   "cell_type": "markdown",
   "metadata": {},
   "source": [
    "### Inspect with Pulse Sheet Viewer"
   ]
  },
  {
   "attachments": {},
   "cell_type": "markdown",
   "metadata": {},
   "source": [
    "Once the experiment is compiled, we can view the pulses in a Pulse Sheet Viewer, a HTML file which shows the sections, pulses, and their relative timings."
   ]
  },
  {
   "cell_type": "code",
   "execution_count": null,
   "metadata": {},
   "outputs": [],
   "source": [
    "show_pulse_sheet(\"Ramsey_Declarative\", compiled_exp)"
   ]
  },
  {
   "cell_type": "markdown",
   "metadata": {},
   "source": [
    "### Changing Elements After the Experiment Definition\n",
    "\n",
    "When you use the declarative style of the DSL, the elements of your experiment can be changed individually. Assume that you require a longer thermalization time:"
   ]
  },
  {
   "cell_type": "code",
   "execution_count": null,
   "metadata": {},
   "outputs": [],
   "source": [
    "delay_section.length = 10e-6"
   ]
  },
  {
   "cell_type": "code",
   "execution_count": null,
   "metadata": {},
   "outputs": [],
   "source": [
    "compiled_exp = session.compile(exp_ramsey)\n",
    "\n",
    "show_pulse_sheet(\"Slower_Ramsey_Declarative\", compiled_exp)"
   ]
  },
  {
   "cell_type": "markdown",
   "metadata": {},
   "source": [
    "## Reusing Sections\n",
    "\n",
    "The declarative DSL style is particularly handy when you want to re-use sections. You could, for example, define a personal gate and apply it twice.\n",
    "\n",
    "We create an experiment from scratch, define a gate section, and use it several times across the experiment. "
   ]
  },
  {
   "cell_type": "code",
   "execution_count": null,
   "metadata": {},
   "outputs": [],
   "source": [
    "gate_section = Section()\n",
    "gate_section.play(signal=\"drive\", pulse=drive_pulse, amplitude=0.5)\n",
    "gate_section.play(signal=\"drive\", pulse=drive_pulse, amplitude=0.5, phase=np.pi / 2)\n",
    "\n",
    "readout_section = Section(uid=\"readout\")\n",
    "readout_section.play(signal=\"measure\", pulse=readout_pulse)\n",
    "readout_section.acquire(\n",
    "    signal=\"acquire\",\n",
    "    handle=\"ramsey\",\n",
    "    kernel=readout_pulse,\n",
    ")\n",
    "readout_section.reserve(signal=\"drive\")\n",
    "\n",
    "exp_gate = Experiment(uid=\"personal_experiment\")\n",
    "exp_gate.add_signal(\n",
    "    \"drive\",\n",
    "    connect_to=device_setup.logical_signal_groups[\"q0\"].logical_signals[\"drive\"],\n",
    ")\n",
    "exp_gate.add_signal(\n",
    "    \"measure\",\n",
    "    connect_to=device_setup.logical_signal_groups[\"q0\"].logical_signals[\"measure\"],\n",
    ")\n",
    "exp_gate.add_signal(\n",
    "    \"acquire\",\n",
    "    connect_to=device_setup.logical_signal_groups[\"q0\"].logical_signals[\"acquire\"],\n",
    ")"
   ]
  },
  {
   "cell_type": "markdown",
   "metadata": {},
   "source": [
    "We still want the readout section to be played after the gate section. However, using the `play_after` command is not possible anymore, because we cannot specify whether it should be played after the first or the second gate section. Instead, we reserve the drive line in the readout section, to make sure that the sections do not overlap in time:"
   ]
  },
  {
   "cell_type": "code",
   "execution_count": null,
   "metadata": {},
   "outputs": [],
   "source": [
    "rt_loop = AcquireLoopRt(count=2**4)\n",
    "\n",
    "parent_section = Section(uid=\"parent_section\")\n",
    "\n",
    "parent_section.add(gate_section)\n",
    "parent_section.add(gate_section)\n",
    "parent_section.add(readout_section)\n",
    "\n",
    "rt_loop.add(parent_section)\n",
    "\n",
    "exp_gate.add(rt_loop)"
   ]
  },
  {
   "cell_type": "code",
   "execution_count": null,
   "metadata": {},
   "outputs": [],
   "source": [
    "compiled_gate_exp = session.compile(exp_gate)\n",
    "\n",
    "show_pulse_sheet(\"Reusing_sections\", compiled_gate_exp)"
   ]
  },
  {
   "cell_type": "code",
   "execution_count": null,
   "metadata": {},
   "outputs": [],
   "source": []
  }
 ],
 "metadata": {
  "kernelspec": {
   "display_name": "Python 3 (ipykernel)",
   "language": "python",
   "name": "python3"
  },
  "language_info": {
   "codemirror_mode": {
    "name": "ipython",
    "version": 3
   },
   "file_extension": ".py",
   "mimetype": "text/x-python",
   "name": "python",
   "nbconvert_exporter": "python",
   "pygments_lexer": "ipython3",
   "version": "3.12.8"
  }
 },
 "nbformat": 4,
 "nbformat_minor": 4
}
