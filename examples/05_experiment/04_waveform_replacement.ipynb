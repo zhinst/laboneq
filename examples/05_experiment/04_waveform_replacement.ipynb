{
 "cells": [
  {
   "attachments": {},
   "cell_type": "markdown",
   "metadata": {},
   "source": [
    "# Waveform Replacement\n",
    "\n",
    "In this notebook, you'll learn how to use a [callback function](https://docs.zhinst.com/labone_q_user_manual/core/functionality_and_concepts/05_experiment/concepts/01_callback_functions.html) in a [near-time sweep](https://docs.zhinst.com/labone_q_user_manual/core/functionality_and_concepts/03_sections_pulses/concepts/04_averaging_sweeping.html#real-time-and-near-time-sweeps) to perform a waveform replacement experiment. This kind of functionality can be adapted to your own experiment, e.g., VQE or optimal control."
   ]
  },
  {
   "attachments": {},
   "cell_type": "markdown",
   "metadata": {},
   "source": [
    "## General Imports and Definitions"
   ]
  },
  {
   "cell_type": "code",
   "execution_count": null,
   "metadata": {},
   "outputs": [],
   "source": [
    "# LabOne Q:\n",
    "# Other imports\n",
    "from pathlib import Path\n",
    "\n",
    "import numpy as np\n",
    "\n",
    "# Helper files for fitting and plotting\n",
    "from laboneq.contrib.example_helpers.generate_device_setup import (\n",
    "    generate_device_setup_qubits,\n",
    ")\n",
    "from laboneq.contrib.example_helpers.plotting.plot_helpers import plot_simulation\n",
    "from laboneq.simple import *"
   ]
  },
  {
   "attachments": {},
   "cell_type": "markdown",
   "metadata": {},
   "source": [
    "## Create Device Setup"
   ]
  },
  {
   "attachments": {},
   "cell_type": "markdown",
   "metadata": {},
   "source": [
    "Generate the device setup and some qubit objects from pre-defined parameters in a helper file"
   ]
  },
  {
   "cell_type": "code",
   "execution_count": null,
   "metadata": {},
   "outputs": [],
   "source": [
    "# specify the number of qubits you want to use\n",
    "number_of_qubits = 2\n",
    "\n",
    "# generate the device setup and the qubit objects using a helper function\n",
    "device_setup, qubits = generate_device_setup_qubits(\n",
    "    number_qubits=number_of_qubits,\n",
    "    shfqc=[\n",
    "        {\n",
    "            \"serial\": \"DEV12001\",\n",
    "            \"zsync\": 1,\n",
    "            \"number_of_channels\": 6,\n",
    "            \"readout_multiplex\": 6,\n",
    "            \"options\": None,\n",
    "        }\n",
    "    ],\n",
    "    include_flux_lines=False,\n",
    "    server_host=\"localhost\",\n",
    "    setup_name=f\"my_{number_of_qubits}_fixed_qubit_setup\",\n",
    ")\n",
    "\n",
    "q0, q1 = qubits[:2]"
   ]
  },
  {
   "attachments": {},
   "cell_type": "markdown",
   "metadata": {},
   "source": [
    "## Create and Connect to a QCCS Session "
   ]
  },
  {
   "cell_type": "code",
   "execution_count": null,
   "metadata": {},
   "outputs": [],
   "source": [
    "# perform experiments in emulation mode only? - if True, also generate dummy data for fitting\n",
    "emulate = True\n",
    "\n",
    "# create and connect to a session\n",
    "session = Session(device_setup=device_setup)\n",
    "session.connect(do_emulation=emulate)"
   ]
  },
  {
   "attachments": {},
   "cell_type": "markdown",
   "metadata": {},
   "source": [
    "## Pulse Exchange Experiment"
   ]
  },
  {
   "attachments": {},
   "cell_type": "markdown",
   "metadata": {},
   "source": [
    "### Pulse Definitions\n",
    "\n",
    "Below, we define the pulse definitions to be used in the experiment. The only restriction is that pulses must be of the same length of those that they are replacing."
   ]
  },
  {
   "cell_type": "code",
   "execution_count": null,
   "metadata": {},
   "outputs": [],
   "source": [
    "pulse_length = 256  # in samples\n",
    "pulse_time = 256 / 2.0e9  # in seconds\n",
    "\n",
    "# first pulse - constant, square pulse\n",
    "p_const = pulse_library.const(uid=\"const\", length=pulse_time, amplitude=1)\n",
    "\n",
    "# second pulse - gaussian\n",
    "p_gauss = pulse_library.gaussian(\n",
    "    uid=\"gauss\", length=pulse_time, amplitude=0.8, sigma=0.3\n",
    ")\n",
    "\n",
    "# third pulse - drag\n",
    "p_drag = pulse_library.drag(\n",
    "    uid=\"drag\", length=pulse_time, amplitude=1, sigma=0.3, beta=0.1\n",
    ")\n",
    "\n",
    "\n",
    "# user defined pulse\n",
    "@pulse_library.register_pulse_functional\n",
    "def flattop_gaussian(x, relative_length_flat=0.6, **_):\n",
    "    sigma = (1 - relative_length_flat) / 3\n",
    "    res = np.ones(len(x))\n",
    "\n",
    "    res[x <= -relative_length_flat] = np.exp(\n",
    "        -((x[x <= -relative_length_flat] + relative_length_flat) ** 2) / (2 * sigma**2)\n",
    "    )\n",
    "    res[x >= relative_length_flat] = np.exp(\n",
    "        -((x[x >= relative_length_flat] - relative_length_flat) ** 2) / (2 * sigma**2)\n",
    "    )\n",
    "\n",
    "    return res\n",
    "\n",
    "\n",
    "p_flattop = flattop_gaussian(uid=\"flattop\", length=pulse_time, amplitude=1)"
   ]
  },
  {
   "attachments": {},
   "cell_type": "markdown",
   "metadata": {},
   "source": [
    "### Replace pulse function\n",
    "\n",
    "Below, we define the function to replace our pulse with another."
   ]
  },
  {
   "cell_type": "code",
   "execution_count": null,
   "metadata": {},
   "outputs": [],
   "source": [
    "def neartime_callback_to_replace_pulse(session: Session, idx):\n",
    "    # take pulse index and replace\n",
    "    if idx > 0.5 and idx < 1.5:\n",
    "        # replace library pulse with library pulse\n",
    "        session.replace_pulse(p_flattop, p_gauss)\n",
    "        print(f\"{idx} First replacement: p_flattop replaced by p_gauss\")\n",
    "        return\n",
    "    elif idx > 1.5 and idx < 2.5:\n",
    "        # replace library pulse with library pulse\n",
    "        session.replace_pulse(p_gauss, p_drag)\n",
    "        print(f\"{idx} Second replacement: p_gauss replaced by p_drag\")\n",
    "        return\n",
    "    elif idx > 2.5:\n",
    "        # replace library pulse with sampled pulse\n",
    "        session.replace_pulse(p_drag, p_const)\n",
    "        print(f\"{idx} Third replacement: p_drag replaced by p_const\")\n",
    "        return\n",
    "    print(idx)\n",
    "    return"
   ]
  },
  {
   "attachments": {},
   "cell_type": "markdown",
   "metadata": {},
   "source": [
    "### Experiment definition\n",
    "\n",
    "In our experiment, we increase a index (`instance_idx`) where, once the index increases over the threshold set in the above near-time callback, once pulse is replaced with another."
   ]
  },
  {
   "cell_type": "code",
   "execution_count": null,
   "metadata": {},
   "outputs": [],
   "source": [
    "def exp_waveform_exchange(\n",
    "    count,\n",
    "    qubit=q0,\n",
    "):\n",
    "    exp = Experiment(\n",
    "        signals=[ExperimentSignal(\"drive\", map_to=qubit.signals[\"drive\"])],\n",
    "        uid=\"Exchange Experiment\",\n",
    "    )\n",
    "\n",
    "    instance_idx = LinearSweepParameter(\n",
    "        uid=\"x90_instance_idx\", start=0, stop=3, count=count\n",
    "    )\n",
    "\n",
    "    # pulse index sweep in near time\n",
    "    with exp.sweep(uid=\"x90_tune\", parameter=instance_idx):\n",
    "        # acquisition loop\n",
    "        with exp.acquire_loop_rt(\n",
    "            uid=\"shots\", count=1, acquisition_type=AcquisitionType.INTEGRATION\n",
    "        ):\n",
    "            # play a sequence of pulses\n",
    "            with exp.section(uid=\"play\"):\n",
    "                exp.play(signal=\"drive\", pulse=p_flattop, phase=0)\n",
    "\n",
    "                exp.delay(signal=\"drive\", time=25e-9)\n",
    "\n",
    "                exp.play(signal=\"drive\", pulse=p_gauss)\n",
    "\n",
    "                exp.delay(signal=\"drive\", time=25e-9)\n",
    "\n",
    "                exp.play(signal=\"drive\", pulse=p_drag, phase=np.pi / 2.0, amplitude=0.3)\n",
    "\n",
    "                exp.delay(signal=\"drive\", time=25e-9)\n",
    "\n",
    "                exp.play(signal=\"drive\", pulse=p_gauss, length=50e-9)\n",
    "\n",
    "                exp.delay(signal=\"drive\", time=0.5)\n",
    "\n",
    "        # replace pulses with a callback function\n",
    "        exp.call(neartime_callback_to_replace_pulse, idx=instance_idx)\n",
    "\n",
    "    calibration = Calibration({\"drive\": qubit.calibration()[f\"{qubit.uid}/drive\"]})\n",
    "    exp.set_calibration(calibration)\n",
    "    return exp"
   ]
  },
  {
   "attachments": {},
   "cell_type": "markdown",
   "metadata": {},
   "source": [
    "### Compilation"
   ]
  },
  {
   "cell_type": "code",
   "execution_count": null,
   "metadata": {},
   "outputs": [],
   "source": [
    "# register near-time callback in session\n",
    "session.register_neartime_callback(neartime_callback_to_replace_pulse)\n",
    "\n",
    "# compile\n",
    "comp_waveform_replacement = session.compile(exp_waveform_exchange(30))"
   ]
  },
  {
   "attachments": {},
   "cell_type": "markdown",
   "metadata": {},
   "source": [
    "### Simulation\n",
    "\n",
    "Here, the simulation shows the first real-time pulse sequence, before the pulses are replaced using our near-time callback."
   ]
  },
  {
   "cell_type": "code",
   "execution_count": null,
   "metadata": {},
   "outputs": [],
   "source": [
    "plot_simulation(comp_waveform_replacement, start_time=0, length=1e-6)"
   ]
  },
  {
   "attachments": {},
   "cell_type": "markdown",
   "metadata": {},
   "source": [
    "### Create pulse sheet"
   ]
  },
  {
   "cell_type": "code",
   "execution_count": null,
   "metadata": {},
   "outputs": [],
   "source": [
    "Path(\"Pulse_sheets\").mkdir(parents=True, exist_ok=True)\n",
    "show_pulse_sheet(\"Pulse_sheets/waveform_replacement\", comp_waveform_replacement)"
   ]
  },
  {
   "attachments": {},
   "cell_type": "markdown",
   "metadata": {},
   "source": [
    "### Run experiment"
   ]
  },
  {
   "cell_type": "code",
   "execution_count": null,
   "metadata": {},
   "outputs": [],
   "source": [
    "# run the compiled experiemnt\n",
    "waveform_replacement_results = session.run(comp_waveform_replacement)"
   ]
  }
 ],
 "metadata": {
  "kernelspec": {
   "display_name": "Python 3 (ipykernel)",
   "language": "python",
   "name": "python3"
  },
  "language_info": {
   "codemirror_mode": {
    "name": "ipython",
    "version": 3
   },
   "file_extension": ".py",
   "mimetype": "text/x-python",
   "name": "python",
   "nbconvert_exporter": "python",
   "pygments_lexer": "ipython3",
   "version": "3.12.8"
  }
 },
 "nbformat": 4,
 "nbformat_minor": 4
}
