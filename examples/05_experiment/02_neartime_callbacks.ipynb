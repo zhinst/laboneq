{
 "cells": [
  {
   "attachments": {},
   "cell_type": "markdown",
   "id": "04084920",
   "metadata": {
    "code_folding": []
   },
   "source": [
    "# Callbacks in Near-Time Loops\n",
    "\n",
    "In near-time loops of experiments, any Python function can be executed. These functions are dubbed near-time callback or user functions.\n",
    "\n",
    "They can be used to:\n",
    "- control non-QCCS instruments, such as Zurich Instruments lock-in amplifiers or third-party instruments, and acquire results from these instruments\n",
    "- access and process the results the experiment has yielded so far\n",
    "- exchange waveforms between real-time loops (e.g., based on measurement results)"
   ]
  },
  {
   "attachments": {},
   "cell_type": "markdown",
   "id": "7cc49c84",
   "metadata": {},
   "source": [
    "## Imports"
   ]
  },
  {
   "cell_type": "code",
   "execution_count": null,
   "id": "c21fb915",
   "metadata": {},
   "outputs": [],
   "source": [
    "# LabOne Q:\n",
    "import matplotlib.pyplot as plt\n",
    "import numpy as np\n",
    "\n",
    "# Helpers:\n",
    "from laboneq.contrib.example_helpers.plotting.plot_helpers import plot_simulation\n",
    "from laboneq.simple import *"
   ]
  },
  {
   "attachments": {},
   "cell_type": "markdown",
   "id": "26c88141",
   "metadata": {},
   "source": [
    "## Device Setup and Calibration"
   ]
  },
  {
   "attachments": {},
   "cell_type": "markdown",
   "id": "2a0751ec",
   "metadata": {},
   "source": [
    "### Descriptor\n",
    "\n",
    "The descriptor contains all information on instruments used, internal connections between instruments as well as wiring to the experiment"
   ]
  },
  {
   "cell_type": "code",
   "execution_count": null,
   "id": "6d4233b6",
   "metadata": {},
   "outputs": [],
   "source": [
    "descriptor = \"\"\"\\\n",
    "instruments:\n",
    "  HDAWG:\n",
    "  - address: DEV8001\n",
    "    uid: device_hdawg\n",
    "  UHFQA:\n",
    "  - address: DEV2001\n",
    "    uid: device_uhfqa\n",
    "  PQSC:\n",
    "  - address: DEV10001\n",
    "    uid: device_pqsc\n",
    "connections:\n",
    "  device_hdawg:\n",
    "    - iq_signal: q0/drive_line\n",
    "      ports: [SIGOUTS/0, SIGOUTS/1]\n",
    "    - iq_signal: q1/drive_line\n",
    "      ports: [SIGOUTS/2, SIGOUTS/3]\n",
    "    - rf_signal: q0/flux_line\n",
    "      ports: [SIGOUTS/4]\n",
    "    - rf_signal: q1/flux_line\n",
    "      ports: [SIGOUTS/5]\n",
    "    - to: device_uhfqa\n",
    "      port: DIOS/0\n",
    "  device_uhfqa:\n",
    "    - iq_signal: q0/measure_line\n",
    "      ports: [SIGOUTS/0, SIGOUTS/1]\n",
    "    - acquire_signal: q0/acquire_line\n",
    "    - iq_signal: q1/measure_line\n",
    "      ports: [SIGOUTS/0, SIGOUTS/1]\n",
    "    - acquire_signal: q1/acquire_line\n",
    "\"\"\""
   ]
  },
  {
   "attachments": {},
   "cell_type": "markdown",
   "id": "9bd1917c",
   "metadata": {},
   "source": [
    "### Calibration Settings\n",
    "\n",
    "Modify the calibration on the device setup with known parameters for qubit control and readout - qubit control and readout frequencies, mixer calibration corrections"
   ]
  },
  {
   "cell_type": "code",
   "execution_count": null,
   "id": "bbe82326",
   "metadata": {},
   "outputs": [],
   "source": [
    "# functions that modifies the calibration on a given device setup\n",
    "\n",
    "\n",
    "def calibrate_devices(device_setup):\n",
    "    ## qubit 0\n",
    "    # calibration setting for drive line for qubit 0\n",
    "    device_setup.logical_signal_groups[\"q0\"].logical_signals[\n",
    "        \"drive_line\"\n",
    "    ].calibration = SignalCalibration(\n",
    "        # oscillator settings - frequency and type of oscillator used to modulate the pulses applied through this signal line\n",
    "        oscillator=Oscillator(\n",
    "            uid=\"drive_q0_osc\", frequency=1e8, modulation_type=ModulationType.HARDWARE\n",
    "        ),\n",
    "        # mixer calibration settings to compensate for non-ideal mixer configuration\n",
    "        mixer_calibration=MixerCalibration(\n",
    "            voltage_offsets=[0.0, 0.0],\n",
    "            correction_matrix=[\n",
    "                [1.0, 0.0],\n",
    "                [0.0, 1.0],\n",
    "            ],\n",
    "        ),\n",
    "    )\n",
    "    # calibration setting for flux line for qubit 0\n",
    "    device_setup.logical_signal_groups[\"q0\"].logical_signals[\n",
    "        \"flux_line\"\n",
    "    ].calibration = SignalCalibration(\n",
    "        oscillator=Oscillator(\n",
    "            uid=\"flux_q0_osc\", frequency=1e8, modulation_type=ModulationType.HARDWARE\n",
    "        ),\n",
    "    )\n",
    "    # calibration setting for readout pulse line for qubit 0\n",
    "    device_setup.logical_signal_groups[\"q0\"].logical_signals[\n",
    "        \"measure_line\"\n",
    "    ].calibration = SignalCalibration(\n",
    "        oscillator=Oscillator(\n",
    "            uid=\"measure_q0_osc\", frequency=1e8, modulation_type=ModulationType.SOFTWARE\n",
    "        )\n",
    "    )\n",
    "    # calibration setting for data acquisition line for qubit 0\n",
    "    device_setup.logical_signal_groups[\"q0\"].logical_signals[\n",
    "        \"acquire_line\"\n",
    "    ].calibration = SignalCalibration(\n",
    "        oscillator=Oscillator(\n",
    "            uid=\"acquire_osc\", frequency=1e8, modulation_type=ModulationType.SOFTWARE\n",
    "        ),\n",
    "    )"
   ]
  },
  {
   "attachments": {},
   "cell_type": "markdown",
   "id": "ed80e075",
   "metadata": {},
   "source": [
    "### Create Device Setup and Apply Calibration"
   ]
  },
  {
   "cell_type": "code",
   "execution_count": null,
   "id": "4e70b8c0",
   "metadata": {},
   "outputs": [],
   "source": [
    "# Emulation mode does not create connection to the devices\n",
    "do_emulation = True\n",
    "\n",
    "\n",
    "# Function returning a calibrated device setup\n",
    "def create_device_setup():\n",
    "    device_setup = DeviceSetup.from_descriptor(\n",
    "        descriptor,\n",
    "        server_host=\"111.22.33.44\",  # ip address of the LabOne dataserver used to communicate with the instruments\n",
    "        server_port=\"8004\",  # port number of the dataserver - default is 8004\n",
    "        setup_name=\"ZI_QCCS\",  # setup name\n",
    "    )\n",
    "    calibrate_devices(device_setup)\n",
    "    return device_setup\n",
    "\n",
    "\n",
    "# create device setup\n",
    "device_setup = create_device_setup()"
   ]
  },
  {
   "attachments": {},
   "cell_type": "markdown",
   "id": "28d93015",
   "metadata": {},
   "source": [
    "## Near-time callbacks\n",
    "\n",
    "First, the near-time callbacks are defined. Near-time callbacks can contain name arguments and return values. Then, the near-time callbacks are used in a near-time sweep in an example experiment."
   ]
  },
  {
   "attachments": {},
   "cell_type": "markdown",
   "id": "e13deef6-9cd4-486b-bd58-46f54c8c5c35",
   "metadata": {},
   "source": [
    "### Define pulses"
   ]
  },
  {
   "cell_type": "code",
   "execution_count": null,
   "id": "bc24e358-84a6-484c-b9c2-970961fa50f5",
   "metadata": {},
   "outputs": [],
   "source": [
    "# qubit drive pulse\n",
    "x90 = pulse_library.gaussian(uid=\"x90\", length=100e-9, amplitude=1.0)\n",
    "x90_rect = pulse_library.const(uid=\"x90_rect\", length=100e-9, amplitude=1.0)\n",
    "# readout drive pulse\n",
    "readout_pulse = pulse_library.const(uid=\"readout_pulse\", length=400e-9, amplitude=1.0)\n",
    "# readout weights for integration\n",
    "readout_weighting_function = pulse_library.const(\n",
    "    uid=\"readout_weighting_function\", length=200e-9, amplitude=1.0\n",
    ")"
   ]
  },
  {
   "attachments": {},
   "cell_type": "markdown",
   "id": "6d973230",
   "metadata": {},
   "source": [
    "### Define near-time callbacks\n",
    "Near-time callbacks are normal Python functions, but their first argument must be the `session` object. This enables access to all QCCS instruments and the results that have already been collected. The return values will be stored in the `session.results` object."
   ]
  },
  {
   "cell_type": "code",
   "execution_count": null,
   "id": "8837f2fe",
   "metadata": {},
   "outputs": [],
   "source": [
    "# additional import for the purpose of demonstration\n",
    "import logging\n",
    "\n",
    "mylogger = logging.getLogger(\"neartime_callback\")\n",
    "\n",
    "\n",
    "# A near-time callback is a regular python function, taking named arguments\n",
    "# The function may return values, which will be accessible after execution\n",
    "# The first argument must be the LabOne Q SW session\n",
    "def neartime_callback(session, frequency, amplitude):\n",
    "    mylogger.info(\n",
    "        f\"Called 'neartime_callback' with params: frequency={frequency}, amplitude={amplitude:.1f}\"\n",
    "    )\n",
    "    return f\"frequency={frequency}, amplitude={amplitude:.1f}\"\n",
    "\n",
    "\n",
    "# Any return type is allowed, values will be put into the results list as is\n",
    "def my_power_func(session, amplitude, gain):\n",
    "    mylogger.info(\n",
    "        f\"Called 'my_power_func' with params: amplitude={amplitude:.1f}, gain={gain}\"\n",
    "    )\n",
    "    return amplitude, (amplitude * gain) ** 2"
   ]
  },
  {
   "attachments": {},
   "cell_type": "markdown",
   "id": "05eba49d",
   "metadata": {},
   "source": [
    "#### Controlling individual devices\n",
    "\n",
    "Configured devices can be controlled via `zhinst-toolkit` API."
   ]
  },
  {
   "cell_type": "code",
   "execution_count": null,
   "id": "fd9541a1",
   "metadata": {},
   "outputs": [],
   "source": [
    "def query_hdawg_device_info(session):\n",
    "    \"\"\"This function queries information from the configured HDAWG device and can be called during the experiment.\n",
    "\n",
    "    Requires device connection: emulation must be set to False.\"\"\"\n",
    "    if not do_emulation:\n",
    "        device_hdawg = session.devices[\"device_hdawg\"]\n",
    "        amplitudes = device_hdawg.awgs[\"*\"].outputs[\"*\"].amplitude()\n",
    "        gains = device_hdawg.awgs[\"*\"].outputs[\"*\"].gains[\"*\"]()\n",
    "        awg_osc_freq = device_hdawg.oscs[\"*\"].freqawg()\n",
    "        return amplitudes, gains, awg_osc_freq"
   ]
  },
  {
   "attachments": {},
   "cell_type": "markdown",
   "id": "ef00bb1d",
   "metadata": {},
   "source": [
    "Near-time callbacks can be added before or after the near-time sweep acquisition. The order of their execution follows this position:\n",
    "\n",
    "`inner_neartime_callback` fills the `inner_results` list in the inner loop, `after_inner_neartime_callback` consumes and clears it afterwards."
   ]
  },
  {
   "cell_type": "code",
   "execution_count": null,
   "id": "0ca18dc4",
   "metadata": {},
   "outputs": [],
   "source": [
    "inner_results = []\n",
    "multiplier = [1]\n",
    "\n",
    "\n",
    "def inner_neartime_callback(session, param):\n",
    "    inner_results.append(param * multiplier[0])\n",
    "    mylogger.info(f\"Called 'inner_neartime_callback' with param={param}\")\n",
    "\n",
    "\n",
    "def after_inner_neartime_callback(session):\n",
    "    mylogger.info(\n",
    "        f\"Called 'after_inner_neartime_callback', collected inner values: {inner_results}\"\n",
    "    )\n",
    "    res = inner_results.copy()\n",
    "    inner_results.clear()\n",
    "    multiplier[0] = multiplier[0] * 2\n",
    "    return res"
   ]
  },
  {
   "attachments": {},
   "cell_type": "markdown",
   "id": "e2875948",
   "metadata": {},
   "source": [
    "Near-time callbacks can access the results the experiment has already acquired:"
   ]
  },
  {
   "cell_type": "code",
   "execution_count": null,
   "id": "09558070",
   "metadata": {},
   "outputs": [],
   "source": [
    "def process_partial_result(session: Session):\n",
    "    # get a reference to the results\n",
    "    res = session.results\n",
    "\n",
    "    # the first dimension of results corresponds to the near-time sweep\n",
    "    # the second dimension corresponds to the real-time sweep\n",
    "    if res is not None:  # check that first results already in\n",
    "        # index of last acquired data point in near-time sweep\n",
    "        ind = res.get_last_nt_step(\"ac_0\")\n",
    "        m = np.mean(res.get_data(\"ac_0\")[ind])  # average latest result sweep\n",
    "        if np.abs(m) > 0.5:\n",
    "            session.replace_pulse(\"x90\", x90_rect)\n",
    "        else:\n",
    "            session.replace_pulse(\"x90\", x90)"
   ]
  },
  {
   "attachments": {},
   "cell_type": "markdown",
   "id": "833a8491",
   "metadata": {},
   "source": [
    "### Experiment definition"
   ]
  },
  {
   "cell_type": "code",
   "execution_count": null,
   "id": "99e2a53e",
   "metadata": {},
   "outputs": [],
   "source": [
    "## define calibration settings\n",
    "lsg = device_setup.logical_signal_groups[\"q0\"].logical_signals\n",
    "# Apply as baseline calibration\n",
    "lsg[\"drive_line\"].calibration.oscillator.frequency = 100e6\n",
    "lsg[\"measure_line\"].calibration.oscillator.frequency = 100e6\n",
    "lsg[\"drive_line\"].calibration.amplitude = 0.5\n",
    "lsg[\"acquire_line\"].calibration.port_delay = 100e-9"
   ]
  },
  {
   "attachments": {},
   "cell_type": "markdown",
   "id": "8981ff85",
   "metadata": {},
   "source": [
    "Define sweep parameters for the outer near-time and the inner real-time sweep"
   ]
  },
  {
   "cell_type": "code",
   "execution_count": null,
   "id": "f3cfbe5f",
   "metadata": {},
   "outputs": [],
   "source": [
    "outer_sweep_parameter = LinearSweepParameter(uid=\"amp\", start=0.1, stop=1.0, count=10)\n",
    "\n",
    "inner_arbitrary_sweep = SweepParameter(uid=\"inner\", values=[1, 1.1, 3.5, 7])\n",
    "\n",
    "# define number of averages\n",
    "average_exponent = 1  # used for 2^n averages, n=average_exponent, maximum: n = 17"
   ]
  },
  {
   "cell_type": "code",
   "execution_count": null,
   "id": "0eb406b1",
   "metadata": {},
   "outputs": [],
   "source": [
    "# Create Experiment - no explicit mapping to qubit lines\n",
    "exp = Experiment(\n",
    "    uid=\"Near-time Callback\",\n",
    "    signals=[\n",
    "        ExperimentSignal(\"q0_drive\"),\n",
    "        ExperimentSignal(\"q0_measure\"),\n",
    "        ExperimentSignal(\"q0_acquire\"),\n",
    "    ],\n",
    ")\n",
    "\n",
    "## experimental pulse sequence\n",
    "# outer loop - near-time sweep\n",
    "with exp.sweep(uid=\"sweep\", parameter=outer_sweep_parameter):\n",
    "    # Call near-time callbacks.\n",
    "\n",
    "    # Either constant float values or parameters of the containing loop can be\n",
    "    # used as arguments. Only named arguments supported, arguments to `exp.call`\n",
    "    # must match those of the near-time callbacks being called.\n",
    "\n",
    "    # Variant 1: Use python function name as reference\n",
    "    exp.call(neartime_callback, frequency=500e6, amplitude=outer_sweep_parameter)\n",
    "\n",
    "    # Variant 2: Use custom name as reference, see section 2.3 below\n",
    "    exp.call(\"calc_power\", amplitude=outer_sweep_parameter, gain=1.0)\n",
    "\n",
    "    # Calling same function multiple times allowed, results will be\n",
    "    # appended to the same result list in order of execution\n",
    "    exp.call(\"calc_power\", amplitude=outer_sweep_parameter, gain=2.0)\n",
    "\n",
    "    # Same python function may be registered with different reference names,\n",
    "    # in which case it is treated as a separate function, producing its own\n",
    "    # result list, see sections \"2.4 Results\" below\n",
    "    exp.call(\"calc_power_alt\", amplitude=outer_sweep_parameter, gain=4.0)\n",
    "\n",
    "    # process partial results and feed forward to next real-time execution\n",
    "    exp.call(\"process_partial_result\")\n",
    "\n",
    "    exp.call(query_hdawg_device_info)\n",
    "    # inner loop - near-time sweep\n",
    "    with exp.sweep(uid=\"inner_sweep\", parameter=inner_arbitrary_sweep):\n",
    "        # Variant 2: Use custom name as reference\n",
    "        exp.call(\"inner_neartime_callback\", param=inner_arbitrary_sweep)\n",
    "        # innermost loop - real-time pulse sequence with averaging\n",
    "        with exp.acquire_loop_rt(\n",
    "            uid=\"shots\",\n",
    "            count=pow(2, average_exponent),\n",
    "            acquisition_type=AcquisitionType.INTEGRATION,\n",
    "        ):\n",
    "            # qubit excitation pulse\n",
    "            with exp.section(uid=\"qubit_excitation\"):\n",
    "                exp.play(signal=\"q0_drive\", pulse=x90)\n",
    "            # readout and data acquisition\n",
    "            with exp.section(uid=\"qubit_readout\"):\n",
    "                exp.reserve(signal=\"q0_drive\")\n",
    "                # add a delay before the readout pulse\n",
    "                exp.delay(signal=\"q0_measure\", time=10e-9)\n",
    "                exp.delay(signal=\"q0_acquire\", time=10e-9)\n",
    "                # play readout pulse\n",
    "                exp.play(signal=\"q0_measure\", pulse=readout_pulse)\n",
    "                # add an offset between the readout pulse and the start of  the data acquisition\n",
    "                exp.delay(signal=\"q0_acquire\", time=100e-9)\n",
    "                # signal data acquisition\n",
    "                exp.acquire(\n",
    "                    signal=\"q0_acquire\",\n",
    "                    handle=\"ac_0\",\n",
    "                    kernel=readout_weighting_function,\n",
    "                )\n",
    "            # relax time after readout - for signal processing and qubit relaxation to groundstate\n",
    "            with exp.section(uid=\"relax\", length=1e-6):\n",
    "                exp.reserve(signal=\"q0_measure\")\n",
    "    # The call order of near-time callbacks is preserved relative to the nested sections\n",
    "    exp.call(\"after_inner_neartime_callback\")"
   ]
  },
  {
   "cell_type": "code",
   "execution_count": null,
   "id": "2111b281",
   "metadata": {},
   "outputs": [],
   "source": [
    "# define signal map\n",
    "map_q0 = {\n",
    "    \"q0_drive\": device_setup.logical_signal_groups[\"q0\"].logical_signals[\"drive_line\"],\n",
    "    \"q0_measure\": device_setup.logical_signal_groups[\"q0\"].logical_signals[\n",
    "        \"measure_line\"\n",
    "    ],\n",
    "    \"q0_acquire\": device_setup.logical_signal_groups[\"q0\"].logical_signals[\n",
    "        \"acquire_line\"\n",
    "    ],\n",
    "}\n",
    "\n",
    "# set signal map\n",
    "exp.set_signal_map(map_q0)"
   ]
  },
  {
   "attachments": {},
   "cell_type": "markdown",
   "id": "a1b00c22",
   "metadata": {},
   "source": [
    "### Run the Experiment"
   ]
  },
  {
   "cell_type": "code",
   "execution_count": null,
   "id": "33b82f00",
   "metadata": {},
   "outputs": [],
   "source": [
    "# create a session\n",
    "session = Session(device_setup)"
   ]
  },
  {
   "attachments": {},
   "cell_type": "markdown",
   "id": "68f0504f",
   "metadata": {},
   "source": [
    "All near-time callbacks referred to from the experiment must be registered with the session."
   ]
  },
  {
   "cell_type": "code",
   "execution_count": null,
   "id": "73791ae5",
   "metadata": {},
   "outputs": [],
   "source": [
    "# Variant 1: Use python function name as reference\n",
    "session.register_neartime_callback(neartime_callback)\n",
    "session.register_neartime_callback(query_hdawg_device_info)\n",
    "\n",
    "# Variant 2: Give the name explicitly\n",
    "session.register_neartime_callback(my_power_func, \"calc_power\")\n",
    "\n",
    "# Same python function may be registered multiple times with different names\n",
    "session.register_neartime_callback(my_power_func, \"calc_power_alt\")\n",
    "\n",
    "session.register_neartime_callback(inner_neartime_callback, \"inner_neartime_callback\")\n",
    "session.register_neartime_callback(\n",
    "    after_inner_neartime_callback, \"after_inner_neartime_callback\"\n",
    ")\n",
    "\n",
    "session.register_neartime_callback(process_partial_result)"
   ]
  },
  {
   "attachments": {},
   "cell_type": "markdown",
   "id": "bc5556f9",
   "metadata": {},
   "source": [
    "Continue with the standard routine to run an experiment in a session."
   ]
  },
  {
   "cell_type": "code",
   "execution_count": null,
   "id": "159bb2e2",
   "metadata": {},
   "outputs": [],
   "source": [
    "# connect to session\n",
    "session.connect(do_emulation=do_emulation)\n",
    "# run experiment\n",
    "my_results = session.run(exp)"
   ]
  },
  {
   "cell_type": "code",
   "execution_count": null,
   "id": "268299c3",
   "metadata": {},
   "outputs": [],
   "source": [
    "# Plot simulated output signals\n",
    "plot_simulation(session.compiled_experiment, start_time=0, length=3e-6)"
   ]
  },
  {
   "attachments": {},
   "cell_type": "markdown",
   "id": "c9ef5231",
   "metadata": {},
   "source": [
    "### Results\n",
    "\n",
    "Investigate the results returned from the calls of near-time callbacks"
   ]
  },
  {
   "cell_type": "code",
   "execution_count": null,
   "id": "a6d4ff09",
   "metadata": {},
   "outputs": [],
   "source": [
    "# Return values of near-time callbacks upon execution are available per function, use function name as a key.\n",
    "my_results.neartime_callback_results[\"neartime_callback\"]"
   ]
  },
  {
   "cell_type": "code",
   "execution_count": null,
   "id": "46b02701",
   "metadata": {},
   "outputs": [],
   "source": [
    "# Two calls per iteration to `calc_power` result in two adjacent entries in the results\n",
    "my_results.neartime_callback_results[\"calc_power\"]"
   ]
  },
  {
   "cell_type": "code",
   "execution_count": null,
   "id": "4d99bc5b",
   "metadata": {},
   "outputs": [],
   "source": [
    "plt.scatter(*zip(*my_results.neartime_callback_results[\"calc_power\"]))"
   ]
  },
  {
   "cell_type": "code",
   "execution_count": null,
   "id": "1b0db61c",
   "metadata": {},
   "outputs": [],
   "source": [
    "my_results.neartime_callback_results[\"calc_power_alt\"]"
   ]
  },
  {
   "cell_type": "code",
   "execution_count": null,
   "id": "57708301",
   "metadata": {},
   "outputs": [],
   "source": [
    "plt.scatter(*zip(*my_results.neartime_callback_results[\"calc_power_alt\"]))"
   ]
  },
  {
   "cell_type": "code",
   "execution_count": null,
   "id": "c24d8a44",
   "metadata": {},
   "outputs": [],
   "source": [
    "my_results.neartime_callback_results[\"after_inner_neartime_callback\"]"
   ]
  },
  {
   "cell_type": "code",
   "execution_count": null,
   "id": "2831755c",
   "metadata": {},
   "outputs": [],
   "source": [
    "my_results.neartime_callback_results[\"query_hdawg_device_info\"]"
   ]
  },
  {
   "cell_type": "markdown",
   "id": "fdf1dd78e2180bf5",
   "metadata": {
    "collapsed": false
   },
   "source": [
    "### Aborting experiment execution\n",
    "\n",
    "Call `session.abort_execution()` in a near-time callback to gracefully terminate the execution of the experiment. "
   ]
  },
  {
   "cell_type": "code",
   "execution_count": null,
   "id": "428255cef1667833",
   "metadata": {
    "collapsed": false
   },
   "outputs": [],
   "source": [
    "# Create Experiment - no explicit mapping to qubit lines\n",
    "exp = Experiment(\n",
    "    uid=\"Near-time Callback\",\n",
    "    signals=[ExperimentSignal(\"q0_drive\")],\n",
    ")\n",
    "exp.set_signal_map(\n",
    "    {\"q0_drive\": device_setup.logical_signal_groups[\"q0\"].logical_signals[\"drive_line\"]}\n",
    ")\n",
    "\n",
    "sweep_parameter = LinearSweepParameter(start=0, stop=10, count=11)\n",
    "\n",
    "\n",
    "def neartime_callback_abort_experiment(session, foo):\n",
    "    print(f\"In near-time callback, foo={foo}\")\n",
    "    if foo >= 5:  # Abort execution after 5 steps\n",
    "        print(\"Aborting execution\")\n",
    "        session.abort_execution()\n",
    "    # Calling `session.abort_execution()` will not return. The code below is not executed for `foo == 5`.\n",
    "    print(\"Continuing execution\")\n",
    "\n",
    "\n",
    "session.register_neartime_callback(neartime_callback_abort_experiment)\n",
    "\n",
    "## experimental pulse sequence\n",
    "# outer loop - near-time sweep\n",
    "with exp.sweep(uid=\"sweep\", parameter=sweep_parameter):\n",
    "    # Call near-time callback\n",
    "    exp.call(neartime_callback_abort_experiment, foo=sweep_parameter)\n",
    "\n",
    "    with exp.acquire_loop_rt(\n",
    "        uid=\"shots\",\n",
    "        count=pow(2, average_exponent),\n",
    "        acquisition_type=AcquisitionType.INTEGRATION,\n",
    "    ):\n",
    "        # dummy pulse playback\n",
    "        with exp.section(uid=\"qubit_excitation\"):\n",
    "            exp.play(signal=\"q0_drive\", pulse=x90)"
   ]
  },
  {
   "cell_type": "code",
   "execution_count": null,
   "id": "4c708bf7afddcbe2",
   "metadata": {
    "collapsed": false
   },
   "outputs": [],
   "source": [
    "my_results = session.run(exp)"
   ]
  }
 ],
 "metadata": {
  "kernelspec": {
   "display_name": "2.42",
   "language": "python",
   "name": "python3"
  },
  "language_info": {
   "codemirror_mode": {
    "name": "ipython",
    "version": 3
   },
   "file_extension": ".py",
   "mimetype": "text/x-python",
   "name": "python",
   "nbconvert_exporter": "python",
   "pygments_lexer": "ipython3",
   "version": "3.12.7"
  },
  "toc": {
   "base_numbering": 1,
   "nav_menu": {},
   "number_sections": true,
   "sideBar": true,
   "skip_h1_title": false,
   "title_cell": "Table of Contents",
   "title_sidebar": "Contents",
   "toc_cell": false,
   "toc_position": {},
   "toc_section_display": true,
   "toc_window_display": true
  },
  "varInspector": {
   "cols": {
    "lenName": 16,
    "lenType": 16,
    "lenVar": 40
   },
   "kernels_config": {
    "python": {
     "delete_cmd_postfix": "",
     "delete_cmd_prefix": "del ",
     "library": "var_list.py",
     "varRefreshCmd": "print(var_dic_list())"
    },
    "r": {
     "delete_cmd_postfix": ") ",
     "delete_cmd_prefix": "rm(",
     "library": "var_list.r",
     "varRefreshCmd": "cat(var_dic_list()) "
    }
   },
   "types_to_exclude": [
    "module",
    "function",
    "builtin_function_or_method",
    "instance",
    "_Feature"
   ],
   "window_display": false
  }
 },
 "nbformat": 4,
 "nbformat_minor": 5
}
