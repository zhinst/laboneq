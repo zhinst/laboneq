{
 "cells": [
  {
   "cell_type": "markdown",
   "id": "fe2d00d7-c88e-4c5c-a2ca-8d6bc78ebe3e",
   "metadata": {
    "tags": []
   },
   "source": [
    "# Single Qubit Tuneup\n",
    "\n",
    "In this notebook we demonstrate single qubit tuneup with the QCCS software, implemented as a sequence of experiments. \n",
    "\n",
    "Before starting the experiments, we define a set of initial qubit parameters, as might be known from fabrication. \n",
    "\n",
    "Stepping through the experiments, starting with resonator spectroscopy, then qubit spectroscopy, amplitude Rabi and then T1 and Ramsey experiments, these parameters are succesively updated with the ones determined from the measurement data. "
   ]
  },
  {
   "cell_type": "markdown",
   "id": "4d4e7d0b-b53a-40e4-831c-236ed9d97c42",
   "metadata": {},
   "source": [
    "# 0. General Imports and Definitions"
   ]
  },
  {
   "cell_type": "markdown",
   "id": "f3ecf2ff-f304-472a-b6d2-a50792a39a0d",
   "metadata": {
    "jp-MarkdownHeadingCollapsed": true,
    "tags": []
   },
   "source": [
    "## 0.1 Python Imports "
   ]
  },
  {
   "cell_type": "code",
   "execution_count": null,
   "id": "f383ab20",
   "metadata": {
    "ExecuteTime": {
     "end_time": "2021-09-20T12:02:48.093782Z",
     "start_time": "2021-09-20T12:02:46.601892Z"
    }
   },
   "outputs": [],
   "source": [
    "%config IPCompleter.greedy=True\n",
    "\n",
    "# convenience import for all QCCS software functionality\n",
    "from laboneq.simple import *\n",
    "\n",
    "# helper import - needed to extract qubit and readout parameters from measurement data\n",
    "from example_notebook_helper import *"
   ]
  },
  {
   "cell_type": "markdown",
   "id": "0d9141f7-3fc4-4e0e-b553-59ea490e84cc",
   "metadata": {
    "tags": []
   },
   "source": [
    "# 1. Define the Instrument Setup and Required Experimental Parameters"
   ]
  },
  {
   "cell_type": "markdown",
   "id": "fd09ab91-8aee-4b32-8fb7-30dcc4f18139",
   "metadata": {
    "jp-MarkdownHeadingCollapsed": true,
    "tags": []
   },
   "source": [
    "## 1.1 Setup Descriptor\n",
    "\n",
    "The descriptor defines the QCCS setup - it contains instrument identifiers, internal wiring between instruments as well as the definition of the logical signals and their names"
   ]
  },
  {
   "cell_type": "code",
   "execution_count": null,
   "id": "df843e7e",
   "metadata": {},
   "outputs": [],
   "source": [
    "my_descriptor=\"\"\"\\\n",
    "instrument_list:\n",
    "  HDAWG:\n",
    "  - address: DEV8001\n",
    "    uid: device_hdawg\n",
    "  UHFQA:\n",
    "  - address: DEV2001    \n",
    "    uid: device_uhfqa\n",
    "  PQSC:  \n",
    "  - address: DEV10001\n",
    "    uid: device_pqsc\n",
    "connections:\n",
    "  device_hdawg:    \n",
    "    - iq_signal: q0/drive_line\n",
    "      ports: [SIGOUTS/0, SIGOUTS/1]        \n",
    "    - iq_signal: q1/drive_line\n",
    "      ports: [SIGOUTS/2, SIGOUTS/3]\n",
    "    - rf_signal: q0/flux_line\n",
    "      ports: [SIGOUTS/4]        \n",
    "    - rf_signal: q1/flux_line\n",
    "      ports: [SIGOUTS/5]              \n",
    "    - to: device_uhfqa\n",
    "      port: DIOS/0\n",
    "  device_uhfqa:    \n",
    "    - iq_signal: q0/measure_line\n",
    "      ports: [SIGOUTS/0, SIGOUTS/1]        \n",
    "    - acquire_signal: q0/acquire_line\n",
    "    - iq_signal: q1/measure_line\n",
    "      ports: [SIGOUTS/0, SIGOUTS/1]        \n",
    "    - acquire_signal: q1/acquire_line\n",
    "  device_pqsc:\n",
    "    - to: device_hdawg\n",
    "      port: ZSYNCS/0\n",
    "\"\"\""
   ]
  },
  {
   "cell_type": "markdown",
   "id": "ccd7bbc2-5a08-448a-ae5a-1273f2879a7f",
   "metadata": {
    "jp-MarkdownHeadingCollapsed": true,
    "tags": []
   },
   "source": [
    "## 1.2 Qubit Parameters\n",
    "\n",
    "A python dictionary containing all parameters needed to control and readout the qubits - frequencies, pulse lengths, timings\n",
    "\n",
    "May initially contain only the design parameters and will be updated with measurement results during the tuneup procedure"
   ]
  },
  {
   "cell_type": "code",
   "execution_count": null,
   "id": "e5ca3e9f",
   "metadata": {
    "ExecuteTime": {
     "end_time": "2021-09-20T12:05:15.631540Z",
     "start_time": "2021-09-20T12:05:15.626553Z"
    }
   },
   "outputs": [],
   "source": [
    "# a collection of qubit control and readout parameters as a python dictionary\n",
    "qubit_parameters = {\n",
    "    'ro_freq_q0' :  50e6,       # readout frequency of qubit 0 in [Hz] - relative to local oscillator for readout drive upconversion\n",
    "    'ro_freq_q1' :  100e6,      # readout frequency of qubit 0 in [Hz] - relative to local oscillator for readout drive upconversion\n",
    "    'ro_amp' : 1.0,             # readout amplitude\n",
    "    'ro_amp_spec': 1.0,         # readout amplitude for spectroscopy\n",
    "    'ro_len' : 2.1e-6,          # readout pulse length in [s]\n",
    "    'ro_len_spec' : 15e-6,      # readout pulse length for resonator spectroscopy in [s]\n",
    "    'ro_delay': 100e-9,         # readout delay after last drive signal in [s]\n",
    "    'ro_int_delay' : 40e-9,     # readout line offset calibration - delay between readout pulse and start of signal acquisition in [s]\n",
    "    'qb0_freq': 100e6,          # qubit 0 drive frequency in [Hz] - relative to local oscillator for qubit drive upconversion\n",
    "    'qb1_freq': 50e6,           # qubit 1 drive frequency in [Hz] - relative to local oscillator for qubit drive upconversion\n",
    "    'qb_amp_spec': 1.0,         # drive amplitude of qubit spectroscopy\n",
    "    'qb_len_spec': 15e-6 ,      # drive pulse length for qubit spectroscopy in [s]\n",
    "    'qb_len' : 20e-9,           # qubit drive pulse length in [s]\n",
    "    'pi_amp' : 1.0,             # qubit drive amplitude for pi pulse\n",
    "    'pihalf_amp' : 0.5,         # qubit drive amplitude for pi/2 pulse\n",
    "    'ramsey_det' : 1e6,         # detuning applied to drive for Ramsey experiment  in [Hz]\n",
    "    'T1' : 10e-6,               # qubit lifetime T1 in [s]\n",
    "    'T2_ramsey' : 10e-6,        # qubit dephasing time T2 in [s]\n",
    "    'T2_echo' : 25e-6,          # qubit echo dephasing time T2_E in [s]\n",
    "    'relax' : 1e-6              # delay time after each measurement for qubit reset (minimum time 1us - signal acquisition and processing delay of UHFQA) in [s]\n",
    "}\n",
    "\n",
    "# up / downconversion settings - to convert between IF and RF frequencies\n",
    "lo_settings = {\n",
    "    'qb_lo': 5.3e9,               # qubit LO frequency in [Hz]\n",
    "    'ro_lo': 6.4e9                # readout LO frequency in [Hz]\n",
    "}"
   ]
  },
  {
   "cell_type": "markdown",
   "id": "1cf5143d-d3dc-48e9-9636-7c429a290f83",
   "metadata": {
    "jp-MarkdownHeadingCollapsed": true,
    "tags": []
   },
   "source": [
    "## 1.3 Setup Calibration\n",
    "\n",
    "Generate a calibration object from the qubit control and readout parameters"
   ]
  },
  {
   "cell_type": "code",
   "execution_count": null,
   "id": "ec886946",
   "metadata": {
    "ExecuteTime": {
     "end_time": "2021-10-28T10:30:35.871112Z",
     "start_time": "2021-10-28T10:30:35.858600Z"
    }
   },
   "outputs": [],
   "source": [
    "# function that defines a setup calibration containing the qubit / readout parameters \n",
    "def define_calibration(parameters):\n",
    "\n",
    "    # the calibration object will later be applied to the device setup\n",
    "    my_calibration = Calibration()\n",
    "    \n",
    "    ## Calibration information for qubit 0\n",
    "    # qubit drive line - the calibration object contains SignalCalibration entries for each logical signal\n",
    "    my_calibration[\"/logical_signal_groups/q0/drive_line\"] = \\\n",
    "        SignalCalibration(\n",
    "            # each logical signal can have an oscillator associated with it\n",
    "            oscillator=Oscillator(\n",
    "                \"q0_drive_osc\",\n",
    "                frequency=parameters['qb0_freq'],\n",
    "                modulation_type=ModulationType.HARDWARE\n",
    "            ),\n",
    "            # each logical signal may contain mixer calibration settings \n",
    "            mixer_calibration=MixerCalibration(\n",
    "                voltage_offsets=[0.0, 0.0],\n",
    "                correction_matrix = [\n",
    "                    [1.0, 0.0],\n",
    "                    [0.0, 1.0],\n",
    "                ]\n",
    "            )\n",
    "        )\n",
    "    # readout drive line\n",
    "    my_calibration[\"/logical_signal_groups/q0/measure_line\"] = \\\n",
    "        SignalCalibration(\n",
    "            oscillator=Oscillator(\n",
    "                \"q0_measure_osc\",\n",
    "                frequency=parameters['ro_freq_q0'],\n",
    "                modulation_type=ModulationType.SOFTWARE\n",
    "            ),\n",
    "            # use delay_signal on measure line to ensure compatibility with UHFQA\n",
    "            delay_signal=parameters['ro_delay'],\n",
    "        )\n",
    "    # acquisition line\n",
    "    my_calibration[\"/logical_signal_groups/q0/acquire_line\"] = \\\n",
    "        SignalCalibration(\n",
    "            oscillator=Oscillator(\n",
    "                \"q0_acquire_osc\",\n",
    "                frequency=parameters['ro_freq_q0'],\n",
    "                modulation_type=ModulationType.SOFTWARE\n",
    "            ),\n",
    "            # add an offset between the readout pulse and the start of the data acquisition - to compensate for round-trip time of readout pulse \n",
    "            port_delay=parameters['ro_delay'] + parameters['ro_int_delay'],\n",
    "        )\n",
    "\n",
    "    ## Calibration information for qubit 1\n",
    "    # qubit drive line \n",
    "    my_calibration[\"/logical_signal_groups/q1/drive_line\"] = \\\n",
    "        SignalCalibration(\n",
    "            oscillator=Oscillator(\n",
    "                \"q1_drive_osc\",\n",
    "                frequency=parameters['qb1_freq'],\n",
    "                modulation_type=ModulationType.HARDWARE\n",
    "            ),\n",
    "            mixer_calibration=MixerCalibration(\n",
    "                voltage_offsets=[0.0, 0.0],\n",
    "                correction_matrix = [\n",
    "                    [1.0, 0.0],\n",
    "                    [0.0, 1.0],\n",
    "                ]\n",
    "            )\n",
    "        )\n",
    "    # readout pulse line\n",
    "    my_calibration[\"/logical_signal_groups/q1/measure_line\"] = \\\n",
    "        SignalCalibration(\n",
    "            oscillator=Oscillator(\n",
    "                \"q1_measure_osc\",\n",
    "                frequency=parameters['ro_freq_q1'],\n",
    "                modulation_type=ModulationType.SOFTWARE\n",
    "            ),\n",
    "            # use delay_signal on measure line to ensure compatibility with UHFQA\n",
    "            delay_signal=parameters['ro_delay'],\n",
    "        )\n",
    "    # acquisition line\n",
    "    my_calibration[\"/logical_signal_groups/q1/acquire_line\"] = \\\n",
    "        SignalCalibration(\n",
    "            oscillator=Oscillator(\n",
    "                \"q1_acquire_osc\",\n",
    "                frequency=parameters['ro_freq_q1'],\n",
    "                modulation_type=ModulationType.SOFTWARE\n",
    "            ),\n",
    "            # add an offset between the readout pulse and the start of the data acquisition - to compensate for round-trip time of readout pulse \n",
    "            port_delay=parameters['ro_delay'] + parameters['ro_int_delay'],\n",
    "        )\n",
    "    \n",
    "    return my_calibration"
   ]
  },
  {
   "cell_type": "markdown",
   "id": "f147afc0-dcde-4475-a96c-2a5e53e5176e",
   "metadata": {
    "tags": []
   },
   "source": [
    "# 2. Create Device Setup and Apply Calibration Data, Connect to the Instruments"
   ]
  },
  {
   "cell_type": "markdown",
   "id": "7a113bea-2b36-4f29-9eb7-2b76b061983d",
   "metadata": {},
   "source": [
    "## 2.1 The Device Setup\n",
    "\n",
    "Create the device setup from the descriptor and apply to qubit control and readout calibration to it"
   ]
  },
  {
   "cell_type": "code",
   "execution_count": null,
   "id": "57226b3c",
   "metadata": {
    "ExecuteTime": {
     "end_time": "2021-10-28T10:30:35.887570Z",
     "start_time": "2021-10-28T10:30:35.873938Z"
    }
   },
   "outputs": [],
   "source": [
    "# define the DeviceSetup from descriptor - additionally include information on the dataserver used to connect to the instruments \n",
    "my_setup = DeviceSetup.from_descriptor(\n",
    "    my_descriptor,\n",
    "    server_host=\"my_dataserver_ip\",\n",
    "    server_port=\"8004\",\n",
    "    setup_name=\"my_qccs_setup\",\n",
    ") \n",
    "\n",
    "# define Calibration object based on qubit control and readout parameters\n",
    "my_calibration = define_calibration(parameters=qubit_parameters)\n",
    "# apply calibration to device setup\n",
    "my_setup.set_calibration(my_calibration)\n",
    "\n",
    "\n",
    "## define shortcut to logical signals for convenience\n",
    "lsg_q0 = my_setup.logical_signal_groups[\"q0\"].logical_signals\n",
    "drive_Oscillator_q0 = lsg_q0['drive_line'].oscillator\n",
    "readout_Oscillator_q0 = lsg_q0['measure_line'].oscillator\n",
    "acquire_Oscillator_q0 = lsg_q0['acquire_line'].oscillator\n",
    "\n",
    "lsg_q1 = my_setup.logical_signal_groups[\"q1\"].logical_signals\n",
    "drive_Oscillator_q1 = lsg_q1['drive_line'].oscillator\n",
    "readout_Oscillator_q1 = lsg_q1['measure_line'].oscillator\n",
    "acquire_Oscillator_q1 = lsg_q1['acquire_line'].oscillator"
   ]
  },
  {
   "cell_type": "markdown",
   "id": "62ae58f8-4016-43e2-8c33-ee88645c7268",
   "metadata": {},
   "source": [
    "## 2.2 Create and Connect to a QCCS Session \n",
    "\n",
    "Establishes the connection to the instruments and readies them for experiments"
   ]
  },
  {
   "cell_type": "code",
   "execution_count": null,
   "id": "6bb93815",
   "metadata": {},
   "outputs": [],
   "source": [
    "# perform experiments in emulation mode only? - if True, also generate dummy data for fitting\n",
    "emulate = True\n",
    "\n",
    "# create and connect to a session\n",
    "my_session = Session(device_setup=my_setup)\n",
    "my_session.connect(do_emulation=emulate)"
   ]
  },
  {
   "cell_type": "markdown",
   "id": "7f026e91-dff5-4548-9ecd-fb6db4f85a50",
   "metadata": {
    "tags": []
   },
   "source": [
    "# 3. Single Qubit Tuneup - Experimental Sequence\n",
    "\n",
    "Sequence of experiments for tuneup from scratch of a superconducting qubit in circuit QED architecture "
   ]
  },
  {
   "cell_type": "markdown",
   "id": "18e4a41a-b1c7-432e-8cbf-d845da55b19a",
   "metadata": {
    "jp-MarkdownHeadingCollapsed": true,
    "tags": []
   },
   "source": [
    "## 3.1 Resonator Spectroscopy\n",
    "\n",
    "Find the resonance frequency of the qubit readout resonator by looking at the transmission or reflection of a probe signal applied through the readout line"
   ]
  },
  {
   "cell_type": "markdown",
   "id": "42dc8040-ce2a-4a52-8e14-cf87f0c52916",
   "metadata": {
    "jp-MarkdownHeadingCollapsed": true,
    "tags": []
   },
   "source": [
    "### 3.1.1 Additional Experimental Parameters\n",
    "\n",
    "Define the frequency scan and the excitation pulse"
   ]
  },
  {
   "cell_type": "code",
   "execution_count": null,
   "id": "ec430d0c",
   "metadata": {},
   "outputs": [],
   "source": [
    "# frequency range of spectroscopy scan - around expected centre frequency as defined in qubit parameters\n",
    "spec_range = 200e6\n",
    "# how many frequency points to measure\n",
    "spec_num = 50\n",
    "\n",
    "# define sweep parameters for two qubits\n",
    "freq_sweep_q0 = LinearSweepParameter(uid=\"res_freq\", start=qubit_parameters['ro_freq_q0'] - spec_range / 2, stop=qubit_parameters['ro_freq_q0'] + spec_range / 2, count=spec_num)\n",
    "freq_sweep_q1 = LinearSweepParameter(uid=\"res_freq\", start=qubit_parameters['ro_freq_q1'] - spec_range / 2, stop=qubit_parameters['ro_freq_q1'] + spec_range / 2, count=spec_num)\n",
    "\n",
    "# take how many averages per point: 2^n_average\n",
    "n_average = 10\n",
    "\n",
    "# spectroscopy excitation pulse\n",
    "readout_pulse_spec = pulse_library.const(\n",
    "    length=qubit_parameters['ro_len_spec'], amplitude=qubit_parameters['ro_amp_spec']\n",
    ")"
   ]
  },
  {
   "cell_type": "markdown",
   "id": "44bed766-917f-4d01-98c8-86c6e841fc44",
   "metadata": {
    "jp-MarkdownHeadingCollapsed": true,
    "tags": []
   },
   "source": [
    "### 3.1.2 Experiment Definition\n",
    "\n",
    "Define the experimental pulse and readout sequence - here without any explicit qubit reference\n",
    "\n",
    "Explicit qubit reference is then given through different experimental calibration and signal maps"
   ]
  },
  {
   "cell_type": "code",
   "execution_count": null,
   "id": "0a23b124",
   "metadata": {
    "ExecuteTime": {
     "end_time": "2021-09-20T12:05:33.764520Z",
     "start_time": "2021-09-20T12:05:18.364861Z"
    }
   },
   "outputs": [],
   "source": [
    "# function that defines a resonator spectroscopy experiment, and takes the frequency sweep as a parameter\n",
    "def res_spectroscopy(freq_sweep):\n",
    "    # Create resonator spectroscopy experiment - uses only readout drive and signal acquisition\n",
    "    exp_spec = Experiment(\n",
    "        uid=\"Resonator Spectroscopy\",\n",
    "        signals=[\n",
    "            ExperimentSignal(\"measure\"), \n",
    "            ExperimentSignal(\"acquire\"),\n",
    "        ]\n",
    "    )\n",
    "\n",
    "    ## define experimental sequence\n",
    "    # outer loop - vary drive frequency\n",
    "    with exp_spec.sweep(uid=\"res_freq\", parameter=freq_sweep):\n",
    "        # inner loop - average multiple measurements for each frequency - measurement in spectroscopy mode\n",
    "        with exp_spec.acquire_loop_rt(\n",
    "                uid=\"shots\",\n",
    "                count=pow(2, n_average),\n",
    "                acquisition_type=AcquisitionType.SPECTROSCOPY\n",
    "        ):\n",
    "            # readout pulse and data acquisition\n",
    "            with exp_spec.section(uid=\"spectroscopy\"):\n",
    "                # play resonator excitation pulse\n",
    "                exp_spec.play(\n",
    "                    signal=\"measure\", \n",
    "                    pulse=readout_pulse_spec\n",
    "                )\n",
    "                # resonator signal readout \n",
    "                exp_spec.acquire(\n",
    "                    signal=\"acquire\", \n",
    "                    handle=\"res_spec\", \n",
    "                    length=qubit_parameters['ro_len_spec']\n",
    "                )\n",
    "            with exp_spec.section(uid=\"delay\"):\n",
    "                # holdoff time after signal acquisition - minimum 1us required for data processing on UHFQA\n",
    "                exp_spec.delay(signal=\"measure\", time=1e-6)\n",
    "    \n",
    "    return exp_spec"
   ]
  },
  {
   "cell_type": "code",
   "execution_count": null,
   "id": "ef6af11c",
   "metadata": {},
   "outputs": [],
   "source": [
    "# function that returns the calibration of the readout line oscillator for the experimental signals\n",
    "def res_spec_calib(freq_sweep):\n",
    "        exp_calibration = Calibration()\n",
    "        # sets the oscillator of the experimental measure signal\n",
    "        exp_calibration[\"measure\"] = SignalCalibration(\n",
    "                # for spectroscopy, use the hardware oscillator of the QA, and set the sweep parameter as frequency\n",
    "                oscillator = Oscillator(\n",
    "                        \"readout_osc\",\n",
    "                        frequency=freq_sweep,\n",
    "                        modulation_type=ModulationType.HARDWARE)\n",
    "                        )\n",
    "        return exp_calibration\n",
    "\n",
    "# signal maps for the two different qubits - maps the logical signal of the device setup to the experimental signals of the experiment\n",
    "res_spec_map_q0 = {\n",
    "    \"measure\": \"/logical_signal_groups/q0/measure_line\",\n",
    "    \"acquire\": \"/logical_signal_groups/q0/acquire_line\",\n",
    "    }\n",
    "res_spec_map_q1 = {\n",
    "    \"measure\": \"/logical_signal_groups/q1/measure_line\",\n",
    "    \"acquire\": \"/logical_signal_groups/q1/acquire_line\",\n",
    "    }"
   ]
  },
  {
   "cell_type": "markdown",
   "id": "818a5d99-8982-4758-8120-446be6f0a016",
   "metadata": {
    "tags": []
   },
   "source": [
    "### 3.1.3 Run and Evaluate Experiment for Both Qubits\n",
    "\n",
    "Runs the experiment and evaluates the data returned by the measurement"
   ]
  },
  {
   "cell_type": "markdown",
   "id": "f61b28f3-7e4c-4f83-91d0-81ba2c52b06b",
   "metadata": {
    "jp-MarkdownHeadingCollapsed": true,
    "tags": []
   },
   "source": [
    "#### - for qubit 0"
   ]
  },
  {
   "cell_type": "code",
   "execution_count": null,
   "id": "4c2fae1a",
   "metadata": {},
   "outputs": [],
   "source": [
    "# define the experiment with the frequency sweep relevant for qubit 0\n",
    "exp_spec = res_spectroscopy(freq_sweep_q0)\n",
    "\n",
    "# set signal calibration and signal map for experiment to qubit 0\n",
    "exp_spec.set_calibration(res_spec_calib(freq_sweep_q0))\n",
    "exp_spec.set_signal_map(res_spec_map_q0)\n",
    "\n",
    "# run the experiment on the open instrument session\n",
    "my_results = my_session.run(exp_spec)"
   ]
  },
  {
   "cell_type": "code",
   "execution_count": null,
   "id": "57d5da9b",
   "metadata": {},
   "outputs": [],
   "source": [
    "# get the measurement data returned by the instruments from the QCCS session\n",
    "spec_res = my_results.get_data('res_spec')\n",
    "\n",
    "# define the frequency axis from the qubit parameters\n",
    "spec_freq = lo_settings['ro_lo'] + my_results.get_axis('res_spec')[0]\n",
    "\n",
    "if emulate:\n",
    "    # create some dummy data if running in emulation mode\n",
    "    spec_res = func_invLorentz(spec_freq, 5e6, qubit_parameters['ro_freq_q0'] * (.995 + .01 * np.random.rand(1)[0]) + lo_settings['ro_lo'], 1e7, 10) + .2 * np.random.rand(len(spec_freq))"
   ]
  },
  {
   "cell_type": "code",
   "execution_count": null,
   "id": "e7c91894",
   "metadata": {},
   "outputs": [],
   "source": [
    "# plot the measurement data \n",
    "fig, [ax1,ax2] = plt.subplots(2, 1)\n",
    "ax1.plot(spec_freq / 1e9, abs(spec_res), '.k')\n",
    "ax2.plot(spec_freq / 1e9, np.unwrap(np.angle(spec_res)), 'orange')\n",
    "ax1.set_ylabel('A (a.u.)')\n",
    "ax2.set_ylabel('$\\phi$ (rad)')\n",
    "ax2.set_xlabel('Frequency (GHz)')\n",
    "\n",
    "# increase number of plot points for smooth plotting of fit results\n",
    "freq_plot = np.linspace(spec_freq[0], spec_freq[-1], 5 * len(spec_freq))\n",
    "\n",
    "# fit the measurement data to extract the resonance frequency - here assuming a Lorentzian resonance lineshape\n",
    "popt, pcov = fit_Spec(spec_freq, abs(spec_res), 5e6, qubit_parameters['ro_freq_q0'] + lo_settings['ro_lo'], 1e7, off=10, plot=False, bounds=[[0, 6.0e9, 0, -.1], [10e6, 7e9, 1e8, 20]])\n",
    "print(popt)\n",
    "\n",
    "# plot the fit results together with the measurement data\n",
    "ax1.plot(freq_plot / 1e9, func_invLorentz(freq_plot, *popt), '-r')"
   ]
  },
  {
   "cell_type": "code",
   "execution_count": null,
   "id": "e2b228d2",
   "metadata": {},
   "outputs": [],
   "source": [
    "# update qubit parameter dictionary with results from data fitting\n",
    "qubit_parameters['ro_freq_q0'] = popt[1] - lo_settings['ro_lo']\n",
    "qubit_parameters['ro_freq_q0']"
   ]
  },
  {
   "cell_type": "markdown",
   "id": "d284173a-1d64-406c-b7e3-c6df73ee4a62",
   "metadata": {
    "jp-MarkdownHeadingCollapsed": true,
    "tags": []
   },
   "source": [
    "#### - for qubit 1"
   ]
  },
  {
   "cell_type": "code",
   "execution_count": null,
   "id": "75322178",
   "metadata": {},
   "outputs": [],
   "source": [
    "# define the experiment with the frequency sweep relevant for qubit 1\n",
    "exp_spec = res_spectroscopy(freq_sweep_q1)\n",
    "\n",
    "# set signal calibration and signal map for experiment to qubit 0\n",
    "exp_spec.set_calibration(res_spec_calib(freq_sweep_q1))\n",
    "exp_spec.set_signal_map(res_spec_map_q1)\n",
    "\n",
    "# run the experiment on the open instrument session\n",
    "my_results = my_session.run(exp_spec)"
   ]
  },
  {
   "cell_type": "code",
   "execution_count": null,
   "id": "4d12b39b",
   "metadata": {},
   "outputs": [],
   "source": [
    "# get the measurement data returned by the instruments from the QCCS session\n",
    "spec_res = my_results.get_data('res_spec')\n",
    "\n",
    "# define the frequency axis from the qubit parameters\n",
    "spec_freq = lo_settings['ro_lo'] + my_results.get_axis('res_spec')[0]\n",
    "\n",
    "if emulate:\n",
    "    # create some dummy data if running in emulation mode\n",
    "    spec_res = func_invLorentz(spec_freq, 5e6, qubit_parameters['ro_freq_q1'] * (.995 + .01 * np.random.rand(1)[0]) + lo_settings['ro_lo'], 1e7, 10) + .2 * np.random.rand(len(spec_freq))"
   ]
  },
  {
   "cell_type": "code",
   "execution_count": null,
   "id": "baaac08e",
   "metadata": {},
   "outputs": [],
   "source": [
    "# plot the measurement data \n",
    "fig, [ax1,ax2] = plt.subplots(2, 1)\n",
    "ax1.plot(spec_freq / 1e9, abs(spec_res), '.k')\n",
    "ax2.plot(spec_freq / 1e9, np.unwrap(np.angle(spec_res)), 'orange')\n",
    "ax1.set_ylabel('A (a.u.)')\n",
    "ax2.set_ylabel('$\\phi$ (rad)')\n",
    "ax2.set_xlabel('Frequency (GHz)')\n",
    "\n",
    "# increase number of plot points for smooth plotting of fit results\n",
    "freq_plot = np.linspace(spec_freq[0], spec_freq[-1], 5 * len(spec_freq))\n",
    "\n",
    "# fit the measurement data to extract the resonance frequency - here assuming a Lorentzian resonance lineshape\n",
    "popt, pcov = fit_Spec(spec_freq, abs(spec_res), 5e6, qubit_parameters['ro_freq_q1'] + lo_settings['ro_lo'], 1e7, off=10, plot=False, bounds=[[0, 6.0e9, 0, -.1], [10e6, 7e9, 1e8, 20]])\n",
    "print(popt)\n",
    "\n",
    "# plot the fit results together with the measurement data\n",
    "ax1.plot(freq_plot / 1e9, func_invLorentz(freq_plot, *popt), '-r')"
   ]
  },
  {
   "cell_type": "code",
   "execution_count": null,
   "id": "5a332cb8",
   "metadata": {},
   "outputs": [],
   "source": [
    "# update qubit parameter dictionary with results from data fitting\n",
    "qubit_parameters['ro_freq_q1'] = popt[1] - lo_settings['ro_lo']\n",
    "qubit_parameters['ro_freq_q1']"
   ]
  },
  {
   "cell_type": "markdown",
   "id": "8a682b18-6de8-4b17-97e9-08d92ac239bd",
   "metadata": {
    "jp-MarkdownHeadingCollapsed": true,
    "tags": []
   },
   "source": [
    "## 3.2 Pulsed Qubit Spectroscopy\n",
    "\n",
    "Find the resonance frequency of the qubit bu looking at the change in resonator transmission when sweeping the frequency of a qubit excitation pulse"
   ]
  },
  {
   "cell_type": "markdown",
   "id": "49f08d92-4194-4937-aa15-209faef72b8f",
   "metadata": {
    "jp-MarkdownHeadingCollapsed": true,
    "tags": []
   },
   "source": [
    "### 3.2.1 Additional Experimental Parameters\n",
    "\n",
    "Define the frequency scan and the pulses used in the experiment"
   ]
  },
  {
   "cell_type": "code",
   "execution_count": null,
   "id": "26b38cd7",
   "metadata": {},
   "outputs": [],
   "source": [
    "# frequency range of spectroscopy scan - defined around expected qubit frequency as defined in qubit parameters\n",
    "qspec_range = 100e6\n",
    "# how many frequency points to measure\n",
    "qspec_num = 51\n",
    "\n",
    "# set up sweep parameters - qubit drive frequency\n",
    "freq_sweep_q0 = LinearSweepParameter(uid=\"freq-qubit\", start=qubit_parameters['qb0_freq'] - qspec_range/2, stop=qubit_parameters['qb0_freq'] + qspec_range/2, count=qspec_num)\n",
    "freq_sweep_q1 = LinearSweepParameter(uid=\"freq-qubit\", start=qubit_parameters['qb1_freq'] - qspec_range/2, stop=qubit_parameters['qb1_freq'] + qspec_range/2, count=qspec_num)\n",
    "\n",
    "# how many averages per point: 2^n_average\n",
    "n_average = 10\n",
    "\n",
    "# square pulse to excite the qubit \n",
    "square_pulse = pulse_library.const(\n",
    "    uid=\"const_iq\", length=qubit_parameters['qb_len_spec'], amplitude=qubit_parameters['qb_amp_spec']\n",
    ")\n",
    "# qubit readout pulse - here simple constant pulse\n",
    "readout_pulse = pulse_library.const(\n",
    "    uid=\"readout_pulse\", length=qubit_parameters['ro_len'], amplitude=qubit_parameters['ro_amp']\n",
    ")\n",
    "# integration weights for qubit measurement - here simple constant weights, i.e. all parts of the return signal are weighted equally\n",
    "readout_weighting_function = pulse_library.const(\n",
    "    uid=\"readout_weighting_function\", length=qubit_parameters['ro_len'], amplitude=1.0\n",
    ")"
   ]
  },
  {
   "cell_type": "markdown",
   "id": "ce9320fc-a450-4a19-9c40-1cdedb0ab01c",
   "metadata": {
    "jp-MarkdownHeadingCollapsed": true,
    "tags": []
   },
   "source": [
    "### 3.2.2 Readout Pulse and Signal Acquisition \n",
    "\n",
    "Define a reusable code section containing the readout pulse and signal acquisition statements - will be used in all subsequent experiments"
   ]
  },
  {
   "cell_type": "code",
   "execution_count": null,
   "id": "fd762ced",
   "metadata": {},
   "outputs": [],
   "source": [
    "# function that modifies an experiment by adding the qubit readout and signal acquisition sections\n",
    "def readoutQubit(exp, section_id=\"qubit_readout\", readout_id=\"q0_measure\", acquire_id=\"q0_acquire\", acquire_handle= \"q0_acquire\", reserve_id=None, \n",
    "        readout_pulse=readout_pulse, readout_weights=readout_weighting_function, relax_time=1e-6):\n",
    "    # section for readout pulse and data acquisition\n",
    "    with exp.section(uid=section_id):\n",
    "        # reserve drive line for duration of readout and data acquisition - if selected\n",
    "        if reserve_id is not None:\n",
    "            exp.reserve(signal=reserve_id)\n",
    "        # play readout pulse on measure line\n",
    "        exp.play(signal=readout_id, pulse=readout_pulse)\n",
    "        # trigger signal data acquisition\n",
    "        exp.acquire(\n",
    "            signal=acquire_id,\n",
    "            handle=acquire_handle,\n",
    "            kernel=readout_weights,\n",
    "        )\n",
    "    with exp.section(uid=\"delay\"):\n",
    "        # relax time after readout - for qubit relaxation to groundstate and signal processing\n",
    "        exp.delay(signal=readout_id, time=relax_time)\n",
    "        # make sure that the drive line is reserved also for the relax time, if selected\n",
    "        if reserve_id is not None:\n",
    "            exp.reserve(signal=reserve_id)"
   ]
  },
  {
   "cell_type": "markdown",
   "id": "a29e05fe-7871-4407-be51-cc52133b8049",
   "metadata": {
    "jp-MarkdownHeadingCollapsed": true,
    "tags": []
   },
   "source": [
    "### 3.2.3 Change Calibration of Readout and Acquire Line\n",
    "\n",
    "Apply the readout frequency parameter as measured in the resonator spectroscopy experiment"
   ]
  },
  {
   "cell_type": "code",
   "execution_count": null,
   "id": "718bf0bd",
   "metadata": {},
   "outputs": [],
   "source": [
    "## configure oscillator settings for readout and acquisition - defined as calibration on device setup as persistent baseline settings\n",
    "\n",
    "# readout pulse frequency resonant with the readout resonator\n",
    "readout_Oscillator_q0.frequency = qubit_parameters['ro_freq_q0']\n",
    "# change oscillator type to sfotware to enable multiplexed qubit readout\n",
    "readout_Oscillator_q0.modulation_type = ModulationType.SOFTWARE\n",
    "# demodulation frequency same as readout pulse frequency\n",
    "acquire_Oscillator_q0.frequency = qubit_parameters['ro_freq_q0']\n",
    "acquire_Oscillator_q0.modulation_type = ModulationType.SOFTWARE\n",
    "\n",
    "readout_Oscillator_q1.frequency = qubit_parameters['ro_freq_q1']\n",
    "readout_Oscillator_q1.modulation_type = ModulationType.SOFTWARE\n",
    "acquire_Oscillator_q1.frequency = qubit_parameters['ro_freq_q1']\n",
    "acquire_Oscillator_q1.modulation_type = ModulationType.SOFTWARE"
   ]
  },
  {
   "cell_type": "markdown",
   "id": "fefd645d-ceee-41d3-a86c-403d63d5b4f1",
   "metadata": {},
   "source": [
    "### 3.2.4 Experiment Definition\n",
    "\n",
    "Define the experimental pulse and readout sequence - here without any explicit qubit reference\n",
    "\n",
    "Explicit qubit reference is then given through different experimental calibration and signal maps"
   ]
  },
  {
   "cell_type": "code",
   "execution_count": null,
   "id": "4106f823",
   "metadata": {
    "ExecuteTime": {
     "end_time": "2021-09-20T12:08:26.284527Z",
     "start_time": "2021-09-20T12:08:06.953858Z"
    }
   },
   "outputs": [],
   "source": [
    "# function that returns a qubit spectroscopy experiment- accepts frequency sweep range as parameter\n",
    "def qubit_spectroscopy(freq_sweep):\n",
    "    # Create qubit spectroscopy Experiment - uses qubit drive, readout drive and data acquisition lines\n",
    "    exp_qspec = Experiment(\n",
    "        uid=\"Qubit Spectroscopy\",\n",
    "        signals=[\n",
    "            ExperimentSignal(\"drive\"),\n",
    "            ExperimentSignal(\"measure\"),\n",
    "            ExperimentSignal(\"acquire\"),\n",
    "        ]\n",
    "    )\n",
    "\n",
    "    ## define experimental pulse sequence\n",
    "    # outer loop - near time qubit drive frequency sweep\n",
    "    with exp_qspec.sweep(uid=\"qfreq_sweep\", parameter=freq_sweep, execution_type=ExecutionType.NEAR_TIME):\n",
    "        # inner loop - real-time averaging - QA in integration mode\n",
    "        with exp_qspec.acquire_loop_rt(uid=\"qfreq_shots\", count=pow(2, n_average), acquisition_type=AcquisitionType.INTEGRATION):\n",
    "            # qubit drive\n",
    "            with exp_qspec.section(uid=\"qubit_excitation\"):\n",
    "                exp_qspec.play(signal=\"drive\", pulse=square_pulse)\n",
    "            # readout pulse and data acquisition - use code section defined earlier\n",
    "            readoutQubit(exp_qspec, section_id=\"qubit_readout\", readout_id=\"measure\", \n",
    "                acquire_id=\"acquire\", reserve_id=\"drive\", acquire_handle=\"q0_spec\",\n",
    "                readout_pulse=readout_pulse, readout_weights=readout_weighting_function, relax_time=qubit_parameters['relax']\n",
    "            )\n",
    "            \n",
    "    return exp_qspec"
   ]
  },
  {
   "cell_type": "code",
   "execution_count": null,
   "id": "67230743",
   "metadata": {},
   "outputs": [],
   "source": [
    "# experiment signal calibration for qubit 0\n",
    "exp_calibration_q0 = Calibration()\n",
    "exp_calibration_q0[\"drive\"] = SignalCalibration(\n",
    "        oscillator = Oscillator(\n",
    "                frequency=freq_sweep_q0,\n",
    "                modulation_type=ModulationType.HARDWARE,\n",
    "                ),\n",
    "            )\n",
    "# signal map for qubit 0\n",
    "q0_map = {\"drive\": \"/logical_signal_groups/q0/drive_line\",\n",
    "        \"measure\": \"/logical_signal_groups/q0/measure_line\",\n",
    "        \"acquire\": \"/logical_signal_groups/q0/acquire_line\",\n",
    "        }\n",
    "\n",
    "# experiment signal calibration for qubit 1\n",
    "exp_calibration_q1 = Calibration()\n",
    "exp_calibration_q1[\"drive\"] = SignalCalibration(\n",
    "        oscillator = Oscillator(\n",
    "                frequency=freq_sweep_q1,\n",
    "                modulation_type=ModulationType.HARDWARE,\n",
    "                ),\n",
    "            )\n",
    "# signal map for qubit 1\n",
    "q1_map = {\"drive\": \"/logical_signal_groups/q1/drive_line\",\n",
    "        \"measure\": \"/logical_signal_groups/q1/measure_line\",\n",
    "        \"acquire\": \"/logical_signal_groups/q1/acquire_line\",\n",
    "        }"
   ]
  },
  {
   "cell_type": "markdown",
   "id": "46bf613c-2f03-4a02-8bc0-1201b845468a",
   "metadata": {},
   "source": [
    "### 3.2.5 Run and Evaluate Experiment for Both Qubits\n",
    "\n",
    "Runs the experiment and evaluates the data returned by the measurement"
   ]
  },
  {
   "cell_type": "markdown",
   "id": "adf615a4-6376-4a7d-8d06-80d7366f7122",
   "metadata": {},
   "source": [
    "#### - for qubit 0"
   ]
  },
  {
   "cell_type": "code",
   "execution_count": null,
   "id": "3e6493a3",
   "metadata": {},
   "outputs": [],
   "source": [
    "# define experiment with frequency sweep for qubit 0\n",
    "exp_qspec = qubit_spectroscopy(freq_sweep_q0)\n",
    "\n",
    "# apply calibration and signal map for qubit 0\n",
    "exp_qspec.set_calibration(exp_calibration_q0)\n",
    "exp_qspec.set_signal_map(q0_map)\n",
    "\n",
    "# run the experiment on qubit 0\n",
    "my_results = my_session.run(exp_qspec)"
   ]
  },
  {
   "cell_type": "code",
   "execution_count": null,
   "id": "6f26ea90",
   "metadata": {},
   "outputs": [],
   "source": [
    "# get measurement data returned by the instruments\n",
    "qspec_res = my_results.get_data('q0_spec')\n",
    "\n",
    "# define a frequency axis from the parameters\n",
    "qspec_freq = lo_settings['qb_lo'] + my_results.get_axis('q0_spec')[0]\n",
    "\n",
    "if emulate:\n",
    "    # create some dummy data if running in emulation mode\n",
    "    qspec_res = func_invLorentz(qspec_freq, 5e6, qubit_parameters['qb0_freq'] * (.995 + .01 * np.random.rand(1)[0]) + lo_settings['qb_lo'], 2e6, 1) + .1 * np.random.rand(len(qspec_freq))"
   ]
  },
  {
   "cell_type": "code",
   "execution_count": null,
   "id": "b613b85c",
   "metadata": {},
   "outputs": [],
   "source": [
    "# plot measurement data\n",
    "fig = plt.figure()\n",
    "plt.plot(qspec_freq / 1e9, abs(qspec_res), '.k')\n",
    "plt.ylabel('A (a.u.)')\n",
    "plt.xlabel('Frequency (GHz)')\n",
    "\n",
    "# increase number of plot points for smooth plotting of fit reults\n",
    "freq_plot = np.linspace(qspec_freq[0], qspec_freq[-1], 5 * len(qspec_freq))\n",
    "\n",
    "# fit measurement data - here assuming an inverted Lorentzian response\n",
    "popt, pcov = fit_Spec(qspec_freq, abs(qspec_res), 5e6, qubit_parameters['qb0_freq'] + lo_settings['qb_lo'], 1e6, off=1, plot=False, bounds=[[0, 4e9, 0, 0], [10e6, 6e9, 1e8, 2]])\n",
    "print(popt)\n",
    "\n",
    "# plot fit results together with measurement data\n",
    "plt.plot(freq_plot / 1e9, func_invLorentz(freq_plot, *popt), '-r')"
   ]
  },
  {
   "cell_type": "code",
   "execution_count": null,
   "id": "bb43baf4",
   "metadata": {},
   "outputs": [],
   "source": [
    "# update qubit parameters\n",
    "qubit_parameters['qb0_freq'] = popt[1] - lo_settings['qb_lo']\n",
    "qubit_parameters['qb0_freq']"
   ]
  },
  {
   "cell_type": "markdown",
   "id": "d800ef7d-8c30-4e70-b2f8-09716663157f",
   "metadata": {},
   "source": [
    "#### - for qubit 1"
   ]
  },
  {
   "cell_type": "code",
   "execution_count": null,
   "id": "b4f75ee3",
   "metadata": {},
   "outputs": [],
   "source": [
    "# define experiment with frequency sweep for qubit 1\n",
    "exp_qspec = qubit_spectroscopy(freq_sweep_q1)\n",
    "\n",
    "# apply calibration and signal map for qubit 1\n",
    "exp_qspec.set_calibration(exp_calibration_q1)\n",
    "exp_qspec.set_signal_map(q1_map)\n",
    "\n",
    "# run the experiment on qubit 1\n",
    "my_results = my_session.run(exp_qspec)"
   ]
  },
  {
   "cell_type": "code",
   "execution_count": null,
   "id": "b9c49dbd",
   "metadata": {},
   "outputs": [],
   "source": [
    "# get measurement data returned by the instruments\n",
    "qspec_res = my_results.get_data('q0_spec')\n",
    "\n",
    "# define a frequency axis from the parameters\n",
    "qspec_freq = lo_settings['qb_lo'] + my_results.get_axis('q0_spec')[0]\n",
    "\n",
    "if emulate:\n",
    "    # create some dummy data if running in emulation mode\n",
    "    qspec_res = func_invLorentz(qspec_freq, 5e6, qubit_parameters['qb1_freq'] * (.995 + .01 * np.random.rand(1)[0]) + lo_settings['qb_lo'], 2e6, 1) + .1 * np.random.rand(len(qspec_freq))"
   ]
  },
  {
   "cell_type": "code",
   "execution_count": null,
   "id": "8096a590",
   "metadata": {},
   "outputs": [],
   "source": [
    "# plot measurement data\n",
    "fig = plt.figure()\n",
    "plt.plot(qspec_freq / 1e9, abs(qspec_res), '.k')\n",
    "plt.ylabel('A (a.u.)')\n",
    "plt.xlabel('Frequency (GHz)')\n",
    "\n",
    "# increase number of plot points for smooth plotting of fit reults\n",
    "freq_plot = np.linspace(qspec_freq[0], qspec_freq[-1], 5 * len(qspec_freq))\n",
    "\n",
    "# fit measurement data - here assuming an inverted Lorentzian response\n",
    "popt, pcov = fit_Spec(qspec_freq, abs(qspec_res), 5e6, qubit_parameters['qb1_freq'] + lo_settings['qb_lo'], 1e6, off=1, plot=False, bounds=[[0, 4e9, 0, 0], [10e6, 6e9, 1e8, 2]])\n",
    "print(popt)\n",
    "\n",
    "# plot fit results together with measurement data\n",
    "plt.plot(freq_plot / 1e9, func_invLorentz(freq_plot, *popt), '-r')"
   ]
  },
  {
   "cell_type": "code",
   "execution_count": null,
   "id": "a7d77864",
   "metadata": {},
   "outputs": [],
   "source": [
    "# update qubit parameters\n",
    "qubit_parameters['qb1_freq'] = popt[1] - lo_settings['qb_lo']\n",
    "qubit_parameters['qb1_freq']"
   ]
  },
  {
   "cell_type": "markdown",
   "id": "023ba502-7f83-49b2-a208-6207d54793f4",
   "metadata": {
    "jp-MarkdownHeadingCollapsed": true,
    "tags": []
   },
   "source": [
    "## 3.3 Amplitude Rabi Experiment\n",
    "\n",
    "Sweep the pulse amplitude of a qubit drive pulse to determine the ideal amplitudes for specific qubit rotation angles"
   ]
  },
  {
   "cell_type": "markdown",
   "id": "685c68e5-effa-4e0f-a7ab-500b1377c2fc",
   "metadata": {
    "jp-MarkdownHeadingCollapsed": true,
    "tags": []
   },
   "source": [
    "### 3.3.1 Additional Experimental Parameters\n",
    "\n",
    "Define the amplitude sweep range and qubit excitation pulse"
   ]
  },
  {
   "cell_type": "code",
   "execution_count": null,
   "id": "59213419",
   "metadata": {},
   "outputs": [],
   "source": [
    "# range of pulse amplitude scan\n",
    "amp_min = 0\n",
    "amp_max = min([qubit_parameters['pi_amp'] * 2.2, 1.0])\n",
    "# how many amplitude points to measure\n",
    "amp_num = 101\n",
    "\n",
    "# set up sweep parameter - qubit drive pulse amplitude\n",
    "rabi_sweep = LinearSweepParameter(uid=\"rabi_amp\", start=amp_min, stop=amp_max, count=amp_num)\n",
    "\n",
    "# how many averages per point: 2^n_average\n",
    "n_average = 10\n",
    "\n",
    "# Rabi excitation pulse - gaussian of unit amplitude - amplitude will be scaled with sweep parameter in experiment\n",
    "gaussian_pulse = pulse_library.gaussian(\n",
    "    uid=\"gaussian_pulse\", length=qubit_parameters['qb_len'], amplitude=1.0\n",
    ")"
   ]
  },
  {
   "cell_type": "markdown",
   "id": "dbd8ca83-2ce7-409a-9e21-7b4e27e01b35",
   "metadata": {
    "jp-MarkdownHeadingCollapsed": true,
    "tags": []
   },
   "source": [
    "### 3.3.2 Change Calibration of Qubit Drive Line\n",
    "\n",
    "Apply the qubit resonance frequency, as found in the qubit spectroscopy experiment"
   ]
  },
  {
   "cell_type": "code",
   "execution_count": null,
   "id": "b95e5f78",
   "metadata": {},
   "outputs": [],
   "source": [
    "# qubit drive frequency - defined in calibration on device setup as baseline reference\n",
    "drive_Oscillator_q0.frequency = qubit_parameters['qb0_freq']\n",
    "# set oscillator type to hardware to ensure optimal use of the instrument functionality\n",
    "drive_Oscillator_q0.modulation_type = ModulationType.HARDWARE\n",
    "\n",
    "drive_Oscillator_q1.frequency = qubit_parameters['qb1_freq']\n",
    "drive_Oscillator_q1.modulation_type = ModulationType.HARDWARE"
   ]
  },
  {
   "cell_type": "markdown",
   "id": "bb70a8d7-22df-4396-a167-d1ac4a5277c1",
   "metadata": {
    "jp-MarkdownHeadingCollapsed": true,
    "tags": []
   },
   "source": [
    "### 3.3.3 Experiment Definition\n",
    "\n",
    "Define the experimental pulse and readout sequence - here without any explicit qubit reference\n",
    "\n",
    "Explicit qubit reference is then given through different experimental calibration and signal maps"
   ]
  },
  {
   "cell_type": "code",
   "execution_count": null,
   "id": "9bab6736",
   "metadata": {
    "ExecuteTime": {
     "end_time": "2021-09-20T12:14:39.604236Z",
     "start_time": "2021-09-20T12:14:27.154245Z"
    }
   },
   "outputs": [],
   "source": [
    "# function that returns an amplitude Rabi experiment\n",
    "exp_rabi = Experiment(\n",
    "    uid=\"Amplitude Rabi\",\n",
    "    signals=[\n",
    "        ExperimentSignal(\"drive\"),\n",
    "        ExperimentSignal(\"measure\"),\n",
    "        ExperimentSignal(\"acquire\"),\n",
    "    ],\n",
    ")\n",
    "\n",
    "## define Rabi experiment pulse sequence\n",
    "# outer loop - real-time, cyclic averaging \n",
    "with exp_rabi.acquire_loop_rt(uid=\"rabi_shots\", count=pow(2, n_average), averaging_mode=AveragingMode.CYCLIC, acquisition_type=AcquisitionType.INTEGRATION):\n",
    "    # inner loop - real time sweep of Rabi ampitudes\n",
    "    with exp_rabi.sweep(uid=\"rabi_sweep\", parameter=rabi_sweep):\n",
    "        # play qubit excitation pulse - pulse amplitude is swept\n",
    "        with exp_rabi.section(uid=\"qubit_excitation\"):\n",
    "            exp_rabi.play(signal=\"drive\", pulse=gaussian_pulse, amplitude=rabi_sweep)\n",
    "        # readout pulse and data acquisition\n",
    "        readoutQubit(exp_rabi, section_id=\"qubit_readout\", readout_id=\"measure\", \n",
    "            acquire_id=\"acquire\", reserve_id=\"drive\", acquire_handle=\"q0_rabi\",\n",
    "            readout_pulse=readout_pulse, readout_weights=readout_weighting_function, relax_time=qubit_parameters['relax']\n",
    "        )"
   ]
  },
  {
   "cell_type": "code",
   "execution_count": null,
   "id": "8b76af62",
   "metadata": {},
   "outputs": [],
   "source": [
    "# signal maps for both qubits - map experimental signals to logical signals\n",
    "q0_map = {\"drive\": lsg_q0[\"drive_line\"],\n",
    "        \"measure\": lsg_q0[\"measure_line\"],\n",
    "        \"acquire\": lsg_q0[\"acquire_line\"],}\n",
    "\n",
    "q1_map = {\"drive\": lsg_q1[\"drive_line\"],\n",
    "        \"measure\": lsg_q1[\"measure_line\"],\n",
    "        \"acquire\": lsg_q1[\"acquire_line\"],}"
   ]
  },
  {
   "cell_type": "markdown",
   "id": "1dc2ff96-f8ff-4de5-b62a-872108c7814f",
   "metadata": {
    "jp-MarkdownHeadingCollapsed": true,
    "tags": []
   },
   "source": [
    "### 3.3.4 Run Experiments and Evaluate Measurement Results"
   ]
  },
  {
   "cell_type": "markdown",
   "id": "25f61625-b0e6-4d1c-9800-2347876bad97",
   "metadata": {
    "jp-MarkdownHeadingCollapsed": true,
    "tags": []
   },
   "source": [
    "#### - run for qubit 0 "
   ]
  },
  {
   "cell_type": "code",
   "execution_count": null,
   "id": "afcf9b66",
   "metadata": {},
   "outputs": [],
   "source": [
    "# set signal map for qubit 0 - no experimental calibration necessary, calibration taken from DeviceSetup, i.e. baseline\n",
    "exp_rabi.set_signal_map(q0_map)\n",
    "\n",
    "# run the experiment on qubit 0\n",
    "my_results = my_session.run(exp_rabi)"
   ]
  },
  {
   "cell_type": "markdown",
   "id": "e2aa5eca-c743-46aa-be06-73d38d0d15b2",
   "metadata": {
    "jp-MarkdownHeadingCollapsed": true,
    "tags": []
   },
   "source": [
    "#### - run for qubit 1"
   ]
  },
  {
   "cell_type": "code",
   "execution_count": null,
   "id": "d98a6dff",
   "metadata": {},
   "outputs": [],
   "source": [
    "# set signal map for qubit 1 - no experimental calibration necessary, calibration taken from DeviceSetup, i.e. baseline\n",
    "exp_rabi.set_signal_map(q1_map)\n",
    "\n",
    "# run the experiment on qubit 1\n",
    "my_results = my_session.run(exp_rabi)"
   ]
  },
  {
   "cell_type": "markdown",
   "id": "c39c5016-5f6d-42ea-9fe3-35cc574ddba2",
   "metadata": {},
   "source": [
    "#### - plot and evaluate measurement results"
   ]
  },
  {
   "cell_type": "code",
   "execution_count": null,
   "id": "ffc829ed",
   "metadata": {},
   "outputs": [],
   "source": [
    "# get measurement data returned by the instruments\n",
    "rabi_res = my_results.get_data('q0_rabi')\n",
    "\n",
    "# define amplitude axis from qubit parameters\n",
    "rabi_amp = my_results.get_axis('q0_rabi')[0]\n",
    "\n",
    "if emulate:\n",
    "     # create some dummy data if running in emulation mode\n",
    "    rabi_res = func_osc(rabi_amp, 10, 0, 1, 1.2) + 0.2 * np.random.rand(len(rabi_amp))"
   ]
  },
  {
   "cell_type": "code",
   "execution_count": null,
   "id": "9af53d17",
   "metadata": {},
   "outputs": [],
   "source": [
    "# plot measurement data\n",
    "fig = plt.figure()\n",
    "plt.plot(rabi_amp, rabi_res, '.k')\n",
    "plt.ylabel('A (a.u.)')\n",
    "plt.xlabel('amplitude (a.u.)')\n",
    "\n",
    "# increase number of plot points for smooth plotting of fit results\n",
    "amp_plot = np.linspace(rabi_amp[0], rabi_amp[-1], 5 * len(rabi_amp))\n",
    "\n",
    "# fit measurement results - assume sinusoidal oscillation with drive amplitude\n",
    "popt, pcov = fit_Rabi(rabi_amp, rabi_res, 10, 0, 1, 1.2, plot=False)\n",
    "print(popt)\n",
    "\n",
    "# plot fit results together with measurement data\n",
    "plt.plot(amp_plot, func_osc(amp_plot, *popt), '-r')"
   ]
  },
  {
   "cell_type": "code",
   "execution_count": null,
   "id": "79c14cb9",
   "metadata": {},
   "outputs": [],
   "source": [
    "# update qubit parameters - pulse amplitdues for pi and pi/2 pulses\n",
    "\n",
    "qubit_parameters['pi_amp'] = np.pi / (popt[0])\n",
    "print(qubit_parameters['pi_amp'])\n",
    "\n",
    "qubit_parameters['pihalf_amp'] = np.pi / 2 / (popt[0])\n",
    "qubit_parameters['pihalf_amp']"
   ]
  },
  {
   "cell_type": "markdown",
   "id": "0eee6d06-7aac-4827-954d-bcb568842682",
   "metadata": {
    "jp-MarkdownHeadingCollapsed": true,
    "tags": []
   },
   "source": [
    "## 3.4. T1 Experiment\n",
    "\n",
    "Sweep the delay between a qubit excitation pulse and the readout to measure the energy releaxation time of the qubit"
   ]
  },
  {
   "cell_type": "markdown",
   "id": "fbafbb09-97b4-4fcc-a3ce-559a2a833a30",
   "metadata": {
    "jp-MarkdownHeadingCollapsed": true,
    "tags": []
   },
   "source": [
    "### 3.4.1 Additional Experimental Parameters"
   ]
  },
  {
   "cell_type": "code",
   "execution_count": null,
   "id": "313c1b1c",
   "metadata": {},
   "outputs": [],
   "source": [
    "# delay range for ramsey pulses\n",
    "t1_min = 0.\n",
    "t1_max = 5 * qubit_parameters['T1']\n",
    "# how many delay points to sweep\n",
    "t1_num = 60\n",
    "\n",
    "# set up sweep parameter\n",
    "t1_sweep = LinearSweepParameter(uid=\"t1_delay\", start=t1_min, stop=t1_max, count=t1_num)\n",
    "\n",
    "# how many averages per point: 2^n_average\n",
    "n_average = 10\n",
    "\n",
    "# T1 excitation pulse - qubit pi pulse\n",
    "x180 = pulse_library.gaussian(\n",
    "    uid=\"x180\", length=qubit_parameters['qb_len'], amplitude=qubit_parameters['pi_amp']\n",
    ")"
   ]
  },
  {
   "cell_type": "markdown",
   "id": "102b7521-562e-4ede-b055-58b0b36cc665",
   "metadata": {
    "jp-MarkdownHeadingCollapsed": true,
    "tags": []
   },
   "source": [
    "### 3.4.2 Experiment Definition\n",
    "\n",
    "Define the experimental pulse and readout sequence - here without any explicit qubit reference\n",
    "\n",
    "Explicit qubit reference is then given through different experimental calibration and signal maps"
   ]
  },
  {
   "cell_type": "code",
   "execution_count": null,
   "id": "f14987b6",
   "metadata": {
    "ExecuteTime": {
     "end_time": "2021-09-20T12:28:32.887248Z",
     "start_time": "2021-09-20T12:28:20.490853Z"
    }
   },
   "outputs": [],
   "source": [
    "# Create T1 Experiment - uses qubit drive line, readout drive line and acquisition line\n",
    "exp_t1 = Experiment(\n",
    "    uid=\"Qubit T1\",\n",
    "    signals=[\n",
    "        ExperimentSignal(\"drive\"),\n",
    "        ExperimentSignal(\"measure\"),\n",
    "        ExperimentSignal(\"acquire\"),\n",
    "    ],\n",
    ")\n",
    "\n",
    "## define experiment sequence\n",
    "# outer loop - real-time, cyclic averaging\n",
    "with exp_t1.acquire_loop_rt(uid=\"t1_shots\", count=pow(2, n_average), averaging_mode=AveragingMode.CYCLIC, acquisition_type=AcquisitionType.INTEGRATION):\n",
    "    # inner loop - real-time sweep of delay between pi-pulse and readout\n",
    "    with exp_t1.sweep(uid=\"t1_sweep\", parameter=t1_sweep):\n",
    "        # qubit pi pulse and following delay - use right aligned section of constant length for optimised timing behavior\n",
    "        with exp_t1.section(uid=\"qubit_excitation\", length=t1_max+2*x180.length, alignment=SectionAlignment.RIGHT):\n",
    "            exp_t1.play(signal=\"drive\", pulse=x180)\n",
    "            exp_t1.delay(signal=\"drive\", time=t1_sweep)\n",
    "        # readout pulse and data acquisition\n",
    "        readoutQubit(exp_t1, section_id=\"qubit_readout\", readout_id=\"measure\", \n",
    "            acquire_id=\"acquire\", reserve_id=\"drive\", acquire_handle=\"q0_t1\",\n",
    "            readout_pulse=readout_pulse, readout_weights=readout_weighting_function, relax_time=qubit_parameters['relax']\n",
    "        )"
   ]
  },
  {
   "cell_type": "markdown",
   "id": "a11d660e-1055-4d48-a647-5cdde89d0b24",
   "metadata": {
    "tags": []
   },
   "source": [
    "### 3.4.3 Run and Evaluate Experiment for Both Qubits"
   ]
  },
  {
   "cell_type": "markdown",
   "id": "413e3970-f238-4088-a0c8-55e3ed77752e",
   "metadata": {
    "tags": []
   },
   "source": [
    "#### - run for qubit 0"
   ]
  },
  {
   "cell_type": "code",
   "execution_count": null,
   "id": "d8f9321f",
   "metadata": {},
   "outputs": [],
   "source": [
    "# set signal map for qubit 0 - no other calibration necesary, taken from DeviceSetup / baseline\n",
    "exp_t1.set_signal_map(q0_map)\n",
    "\n",
    "# run the experiment on qubit 0\n",
    "my_results = my_session.run(exp_t1)"
   ]
  },
  {
   "cell_type": "markdown",
   "id": "074c336a-b788-4434-bd74-0a56a198853b",
   "metadata": {
    "tags": []
   },
   "source": [
    "#### - run for qubit 1"
   ]
  },
  {
   "cell_type": "code",
   "execution_count": null,
   "id": "a6a55d5e",
   "metadata": {},
   "outputs": [],
   "source": [
    "# set signal map for qubit 1 - no other calibration necesary, taken from DeviceSetup / baseline\n",
    "exp_t1.set_signal_map(q1_map)\n",
    "\n",
    "# run the experiment on qubit 1\n",
    "my_results = my_session.run(exp_t1)"
   ]
  },
  {
   "cell_type": "markdown",
   "id": "5898d608-a801-4373-9ba7-1e95232f8829",
   "metadata": {
    "tags": []
   },
   "source": [
    "#### - plot and evaluate measurement results"
   ]
  },
  {
   "cell_type": "code",
   "execution_count": null,
   "id": "feeb3377",
   "metadata": {},
   "outputs": [],
   "source": [
    "# get measurement data returned by the instruments\n",
    "t1_res = my_results.get_data('q0_t1')\n",
    "\n",
    "# define time axis from qubit parameters\n",
    "t1_delay = my_results.get_axis('q0_t1')[0]\n",
    "\n",
    "if emulate:\n",
    "    # create dummy data if running in emulation mode\n",
    "    t1_res = func_exp(t1_delay, 2/qubit_parameters['T1'], .1, 1) + .1 * np.random.rand(len(t1_delay))"
   ]
  },
  {
   "cell_type": "code",
   "execution_count": null,
   "id": "43244fe6",
   "metadata": {},
   "outputs": [],
   "source": [
    "# plot measurement results\n",
    "fig = plt.figure()\n",
    "plt.plot(t1_delay, t1_res, '.k')\n",
    "plt.ylabel('A (a.u.)')\n",
    "plt.xlabel('delay (s)')\n",
    "\n",
    "# increase number of plot points for smooth plotting of fit results\n",
    "delay_plot = np.linspace(t1_delay[0], t1_delay[-1], 5 * len(t1_delay))\n",
    "\n",
    "# fit measurement results to decaying exponential curve\n",
    "popt, pcov = fit_T1(t1_delay, t1_res, 1e6, 0, plot=False)\n",
    "print(popt)\n",
    "\n",
    "# plot fit results together with measurement data\n",
    "plt.plot(delay_plot, func_exp(delay_plot, *popt), '-r')"
   ]
  },
  {
   "cell_type": "code",
   "execution_count": null,
   "id": "c564da21",
   "metadata": {},
   "outputs": [],
   "source": [
    "# update qubit parameters - here relaxation time / qubit lifetime\n",
    "qubit_parameters['T1'] = 1/popt[0]\n",
    "qubit_parameters['T1']"
   ]
  },
  {
   "cell_type": "markdown",
   "id": "34a9146b-d461-402f-a836-d5482755df33",
   "metadata": {
    "jp-MarkdownHeadingCollapsed": true,
    "tags": []
   },
   "source": [
    "## 3.5 Ramsey Experiment\n",
    "\n",
    "Sweep the delay between two slightly detuned pi/2 pulses to determine the qubit dephasing time as well as fine calibration its excited state frequency"
   ]
  },
  {
   "cell_type": "markdown",
   "id": "fcd07f1c-6abd-4c74-882e-83c5483dc02f",
   "metadata": {},
   "source": [
    "### 3.5.1 Additional Experimental Parameters"
   ]
  },
  {
   "cell_type": "code",
   "execution_count": null,
   "id": "1d7be06a",
   "metadata": {},
   "outputs": [],
   "source": [
    "# delay range for ramsey pulses\n",
    "ramsey_min = 0.0\n",
    "ramsey_max = 2.5 * qubit_parameters['T2_ramsey']\n",
    "# how many delay points to sweep\n",
    "ramsey_num = 150\n",
    "\n",
    "# set up delay sweep parameter\n",
    "ramsey_sweep = LinearSweepParameter(uid=\"ramsey_delay\", start=ramsey_min, stop=ramsey_max, count=ramsey_num)\n",
    "\n",
    "# how many averages per point: 2^n_average\n",
    "n_average = 10\n",
    "\n",
    "# Ramsey excitation pulse - qubit pi/2 pulse - will be slightly detuned\n",
    "x90 = pulse_library.gaussian(\n",
    "    uid=\"x90\", length=qubit_parameters['qb_len'], amplitude=qubit_parameters['pihalf_amp']\n",
    ")"
   ]
  },
  {
   "cell_type": "markdown",
   "id": "9faf0399-7ffb-454c-bf13-98c2c8f1325a",
   "metadata": {},
   "source": [
    "### 3.5.2 Experiment Definition\n",
    "\n",
    "Define the experimental pulse and readout sequence - here without any explicit qubit reference\n",
    "\n",
    "Explicit qubit reference is then given through different experimental calibration and signal maps"
   ]
  },
  {
   "cell_type": "code",
   "execution_count": null,
   "id": "9dfbc015",
   "metadata": {
    "ExecuteTime": {
     "end_time": "2021-09-20T12:15:35.251435Z",
     "start_time": "2021-09-20T12:15:20.138146Z"
    }
   },
   "outputs": [],
   "source": [
    "# Create Ramsey Experiment - uses qubit drive line, readout drive line and acquisition line\n",
    "exp_ramsey = Experiment(\n",
    "    uid=\"Ramsey\",\n",
    "    signals=[\n",
    "        ExperimentSignal(\"drive\"),\n",
    "        ExperimentSignal(\"measure\"),\n",
    "        ExperimentSignal(\"acquire\"),\n",
    "    ],\n",
    ")\n",
    "\n",
    "## define Experiment sequence\n",
    "# outer loop - real-time, cyclic averaging\n",
    "with exp_ramsey.acquire_loop_rt(uid=\"ramsey_shots\", count=pow(2, n_average), averaging_mode=AveragingMode.CYCLIC, acquisition_type=AcquisitionType.INTEGRATION):\n",
    "   # inner loop - sweep Ramsey delay in real time\n",
    "    with exp_ramsey.sweep(uid=\"ramsey_sweep\", parameter=ramsey_sweep):\n",
    "        # Ramsey pulse sequence on qubit - use right-aligned, constant length section for optimised timing behavior\n",
    "        with exp_ramsey.section(uid=\"qubit_excitation\", length=ramsey_max+2*x90.length, alignment=SectionAlignment.RIGHT):\n",
    "            exp_ramsey.play(signal=\"drive\", pulse=x90)\n",
    "            exp_ramsey.delay(signal=\"drive\", time=ramsey_sweep)\n",
    "            exp_ramsey.play(signal=\"drive\", pulse=x90)\n",
    "        # readout pulse and data acquisition\n",
    "        readoutQubit(exp_ramsey, section_id=\"qubit_readout\", readout_id=\"measure\", \n",
    "            acquire_id=\"acquire\", reserve_id=\"drive\", acquire_handle=\"q0_ramsey\",\n",
    "            readout_pulse=readout_pulse, readout_weights=readout_weighting_function, relax_time=qubit_parameters['relax']\n",
    "        )"
   ]
  },
  {
   "cell_type": "code",
   "execution_count": null,
   "id": "1e551bd7",
   "metadata": {},
   "outputs": [],
   "source": [
    "# Calibration for qubit 0 - additional Ramsey detuning applied to drive line to induce Ramsey oscillations\n",
    "ramsey_cal_0 = Calibration()\n",
    "ramsey_cal_0[\"drive\"] = SignalCalibration(\n",
    "    oscillator = Oscillator(\n",
    "        frequency = qubit_parameters['qb0_freq'] + qubit_parameters['ramsey_det'],\n",
    "        modulation_type=ModulationType.HARDWARE,\n",
    "    )\n",
    ")\n",
    "\n",
    "# Calibration for qubit 1 - additional Ramsey detuning applied to drive line to induce Ramsey oscillations\n",
    "ramsey_cal_1 = Calibration()\n",
    "ramsey_cal_1[\"drive\"] = SignalCalibration(\n",
    "    oscillator = Oscillator(\n",
    "        frequency = qubit_parameters['qb1_freq'] + 2 * qubit_parameters['ramsey_det'],\n",
    "        modulation_type=ModulationType.HARDWARE,\n",
    "    )\n",
    ")"
   ]
  },
  {
   "cell_type": "markdown",
   "id": "8b6502d1-162f-4f33-8bb4-9ab28f511f99",
   "metadata": {},
   "source": [
    "### 3.5.3 Run and Evaluate Experiment for Both Qubits"
   ]
  },
  {
   "cell_type": "markdown",
   "id": "735d236f-0481-403a-94a0-caeafdbcb6bc",
   "metadata": {},
   "source": [
    "#### - run for qubit 0"
   ]
  },
  {
   "cell_type": "code",
   "execution_count": null,
   "id": "b1686a0c",
   "metadata": {},
   "outputs": [],
   "source": [
    "# set calibration and signal map for qubit 0\n",
    "exp_ramsey.set_calibration(ramsey_cal_0)\n",
    "exp_ramsey.set_signal_map(q0_map)\n",
    "\n",
    "# run experiment on qubit 0\n",
    "my_results = my_session.run(exp_ramsey)"
   ]
  },
  {
   "cell_type": "markdown",
   "id": "ae21badd-8e62-4341-a567-ae6d52c2d274",
   "metadata": {},
   "source": [
    "#### - run for qubit 1"
   ]
  },
  {
   "cell_type": "code",
   "execution_count": null,
   "id": "4acb0a78",
   "metadata": {},
   "outputs": [],
   "source": [
    "# set calibration and signal map for qubit 1\n",
    "exp_ramsey.set_calibration(ramsey_cal_1)\n",
    "exp_ramsey.set_signal_map(q1_map)\n",
    "\n",
    "# run experiment on qubit 1\n",
    "my_results = my_session.run(exp_ramsey)"
   ]
  },
  {
   "cell_type": "markdown",
   "id": "fdf6c2d0-c598-46bd-8dca-75486e3c9df4",
   "metadata": {},
   "source": [
    "#### - plot and evaluate measurements results"
   ]
  },
  {
   "cell_type": "code",
   "execution_count": null,
   "id": "dc842fca",
   "metadata": {},
   "outputs": [],
   "source": [
    "# get measurement data returned by the instruments\n",
    "ramsey_res = my_results.get_data('q0_ramsey')\n",
    "\n",
    "# define time axis from qubit parameters\n",
    "ramsey_delay = my_results.get_axis('q0_ramsey')[0]\n",
    "\n",
    "if emulate:\n",
    "    # create dummy data if running in emulation mode\n",
    "    ramsey_res = func_decayOsc(ramsey_delay, qubit_parameters['ramsey_det'], 0, 1/qubit_parameters['T2_ramsey'], amp=0.5, off=0.5) + 0.12 * np.random.rand(len(ramsey_delay))"
   ]
  },
  {
   "cell_type": "code",
   "execution_count": null,
   "id": "01a3fa8d",
   "metadata": {},
   "outputs": [],
   "source": [
    "# plot measurement results\n",
    "fig = plt.figure()\n",
    "plt.plot(ramsey_delay, ramsey_res, '.k')\n",
    "plt.ylabel('A (a.u.)')\n",
    "plt.xlabel('delay (s)')\n",
    "\n",
    "# increase number of plot points for smooth plotting of fit results\n",
    "delay_plot = np.linspace(ramsey_delay[0], ramsey_delay[-1], 5 * len(ramsey_delay))\n",
    "\n",
    "## fit measurement data to decaying sinusoidal oscillatio\n",
    "popt, pcov = fit_Ramsey(ramsey_delay, ramsey_res, qubit_parameters['ramsey_det'], 0, 2/qubit_parameters['T2_ramsey'], amp=.5, off=.5, plot=False, \n",
    "                            bounds=[[.01e6, 0, .1/qubit_parameters['T2_ramsey'], .2, .2], [15e6, np.pi, 10/qubit_parameters['T2_ramsey'], 2, 2]])\n",
    "print(popt)\n",
    "\n",
    "# plot fit results together with experimental data\n",
    "plt.plot(delay_plot, func_decayOsc(delay_plot, *popt), '-r')"
   ]
  },
  {
   "cell_type": "code",
   "execution_count": null,
   "id": "a7c02d83",
   "metadata": {},
   "outputs": [],
   "source": [
    "# update qubit parameters - here qubit dephasing time\n",
    "qubit_parameters['T2_ramsey'] = 1/popt[2]\n",
    "qubit_parameters['T2_ramsey']"
   ]
  },
  {
   "cell_type": "markdown",
   "id": "7f2ebfda-b727-44a4-9150-757530273bb3",
   "metadata": {
    "jp-MarkdownHeadingCollapsed": true,
    "tags": []
   },
   "source": [
    "## 3.6 Hahn Echo Experiment\n",
    "\n",
    "Sweep the delay between two pi/2 pulses and a pi pulse inserted at exactly half time between them, in order to determine the qubit dephasing time without noise components that are constant on the sequence time scale - gets rid of 1/f noise contributions"
   ]
  },
  {
   "cell_type": "markdown",
   "id": "bae89d79-4c55-4d0c-96ad-1812668051c1",
   "metadata": {},
   "source": [
    "### 3.5.1 Additional Experimental Parameters"
   ]
  },
  {
   "cell_type": "code",
   "execution_count": null,
   "id": "8c0be049",
   "metadata": {},
   "outputs": [],
   "source": [
    "# delay range for echo pulses\n",
    "echo_min = 0.0\n",
    "echo_max = 1.5 * qubit_parameters['T2_echo']\n",
    "# how many delay points to sweep\n",
    "echo_num = 150\n",
    "\n",
    "# set up delay sweep parameter - max of sweep parameter is half of max delay since here are two delays in sequence\n",
    "echo_sweep = LinearSweepParameter(uid=\"echo_delay\", start=echo_min, stop=echo_max/2, count=echo_num)\n",
    "\n",
    "# how many averages per point: 2^n_average\n",
    "n_average = 10\n",
    "\n",
    "# Echo excitation pulses - qubit pi/2 and pi pulse \n",
    "x90 = pulse_library.gaussian(\n",
    "    uid=\"x90\", length=qubit_parameters['qb_len'], amplitude=qubit_parameters['pihalf_amp']\n",
    ")\n",
    "x180 = pulse_library.gaussian(\n",
    "    uid=\"x180\", length=qubit_parameters['qb_len'], amplitude=qubit_parameters['pi_amp']\n",
    ")"
   ]
  },
  {
   "cell_type": "markdown",
   "id": "ffbd9243-227a-4683-bcd8-368d50d52856",
   "metadata": {},
   "source": [
    "### 3.5.2 Experiment Definition\n",
    "\n",
    "Define the experimental pulse and readout sequence - here without any explicit qubit reference\n",
    "\n",
    "Explicit qubit reference is then given through different experimental calibration and signal maps"
   ]
  },
  {
   "cell_type": "code",
   "execution_count": null,
   "id": "265e2111",
   "metadata": {
    "ExecuteTime": {
     "end_time": "2021-09-20T12:15:35.251435Z",
     "start_time": "2021-09-20T12:15:20.138146Z"
    }
   },
   "outputs": [],
   "source": [
    "# Create Ramsey Experiment - uses qubit drive line, readout drive line and acquisition line\n",
    "exp_echo = Experiment(\n",
    "    uid=\"Echo\",\n",
    "    signals=[\n",
    "        ExperimentSignal(\"drive\"),\n",
    "        ExperimentSignal(\"measure\"),\n",
    "        ExperimentSignal(\"acquire\"),\n",
    "    ],\n",
    ")\n",
    "\n",
    "## define Experiment sequence\n",
    "# outer loop - real-time, cyclic averaging\n",
    "with exp_echo.acquire_loop_rt(uid=\"echo_shots\", count=pow(2, n_average), averaging_mode=AveragingMode.CYCLIC, acquisition_type=AcquisitionType.INTEGRATION):\n",
    "   # inner loop - sweep Ramsey delay in real time\n",
    "    with exp_echo.sweep(uid=\"echo_sweep\", parameter=echo_sweep):\n",
    "        # Ramsey pulse sequence on qubit - use right-aligned, constant length section for optimised timing behavior\n",
    "        with exp_echo.section(uid=\"qubit_excitation\", length=echo_max+2*x90.length+x180.length, alignment=SectionAlignment.RIGHT):\n",
    "            exp_echo.play(signal=\"drive\", pulse=x90)\n",
    "            exp_echo.delay(signal=\"drive\", time=echo_sweep)\n",
    "            exp_echo.play(signal=\"drive\", pulse=x180)\n",
    "            exp_echo.delay(signal=\"drive\", time=echo_sweep)\n",
    "            exp_echo.play(signal=\"drive\", pulse=x90)\n",
    "        # readout pulse and data acquisition\n",
    "        readoutQubit(exp_echo, section_id=\"qubit_readout\", readout_id=\"measure\", \n",
    "            acquire_id=\"acquire\", reserve_id=\"drive\", acquire_handle=\"q0_echo\",\n",
    "            readout_pulse=readout_pulse, readout_weights=readout_weighting_function, relax_time=qubit_parameters['relax']\n",
    "        )"
   ]
  },
  {
   "cell_type": "markdown",
   "id": "30f92285-395b-4ac0-879c-576e25ad62a3",
   "metadata": {},
   "source": [
    "### 3.5.3 Run and Evaluate Experiment for Both Qubits"
   ]
  },
  {
   "cell_type": "markdown",
   "id": "fb50449c-2e22-4e9b-9e25-bdad3862a68a",
   "metadata": {
    "jp-MarkdownHeadingCollapsed": true,
    "tags": []
   },
   "source": [
    "#### - run for qubit 0"
   ]
  },
  {
   "cell_type": "code",
   "execution_count": null,
   "id": "19d9a182",
   "metadata": {},
   "outputs": [],
   "source": [
    "# set signal map for qubit 0\n",
    "exp_echo.set_signal_map(q0_map)\n",
    "\n",
    "# run experiment on qubit 0\n",
    "my_results = my_session.run(exp_echo)"
   ]
  },
  {
   "cell_type": "markdown",
   "id": "210aa96d-0fac-48db-a451-efbac490a573",
   "metadata": {
    "jp-MarkdownHeadingCollapsed": true,
    "tags": []
   },
   "source": [
    "#### - run for qubit 1"
   ]
  },
  {
   "cell_type": "code",
   "execution_count": null,
   "id": "44006640",
   "metadata": {},
   "outputs": [],
   "source": [
    "# set signal map for qubit 1\n",
    "exp_echo.set_signal_map(q1_map)\n",
    "\n",
    "# run experiment on qubit 1\n",
    "my_results = my_session.run(exp_echo)"
   ]
  },
  {
   "cell_type": "markdown",
   "id": "db0cdb65-e17b-445c-a031-468f046d8266",
   "metadata": {},
   "source": [
    "#### - plot and evaluate measurements results"
   ]
  },
  {
   "cell_type": "code",
   "execution_count": null,
   "id": "cd846e0e",
   "metadata": {},
   "outputs": [],
   "source": [
    "# get measurement data returned by the instruments\n",
    "echo_res = my_results.get_data('q0_echo')\n",
    "\n",
    "# define time axis from qubit parameters\n",
    "echo_delay = my_results.get_axis('q0_echo')[0]\n",
    "\n",
    "if emulate:\n",
    "    # create dummy data if running in emulation mode\n",
    "    echo_res = func_exp(echo_delay, 2/qubit_parameters['T2_echo'], .1, -1) + .1 * np.random.rand(len(echo_delay))"
   ]
  },
  {
   "cell_type": "code",
   "execution_count": null,
   "id": "3c755ded",
   "metadata": {},
   "outputs": [],
   "source": [
    "# plot measurement results - multiply delay by factor of two to get full sequence length\n",
    "fig = plt.figure()\n",
    "plt.plot(2 * echo_delay, echo_res, '.k')\n",
    "plt.ylabel('A (a.u.)')\n",
    "plt.xlabel('delay (s)')\n",
    "\n",
    "# increase number of plot points for smooth plotting of fit results\n",
    "delay_plot = np.linspace(echo_delay[0], 2 * echo_delay[-1], 5 * len(echo_delay))\n",
    "\n",
    "## fit measurement data to decaying sinusoidal oscillatio\n",
    "popt, pcov = fit_T1(2 * echo_delay, echo_res, 1e6, 0, -1, plot=False)\n",
    "print(popt)\n",
    "\n",
    "# plot fit results together with experimental data\n",
    "plt.plot(delay_plot, func_exp(delay_plot, *popt), '-r')"
   ]
  },
  {
   "cell_type": "code",
   "execution_count": null,
   "id": "3f9fd895",
   "metadata": {},
   "outputs": [],
   "source": [
    "# update qubit parameters - here qubit dephasing time\n",
    "qubit_parameters['T2_echo'] = 1/popt[0]\n",
    "qubit_parameters['T2_echo']"
   ]
  },
  {
   "cell_type": "code",
   "execution_count": null,
   "id": "132e1d5f",
   "metadata": {},
   "outputs": [],
   "source": []
  }
 ],
 "metadata": {
  "hide_input": false,
  "kernelspec": {
   "display_name": "Python 3.10.6 64-bit ('develop')",
   "language": "python",
   "name": "python3"
  },
  "language_info": {
   "codemirror_mode": {
    "name": "ipython",
    "version": 3
   },
   "file_extension": ".py",
   "mimetype": "text/x-python",
   "name": "python",
   "nbconvert_exporter": "python",
   "pygments_lexer": "ipython3",
   "version": "3.10.6"
  },
  "toc": {
   "base_numbering": 1,
   "nav_menu": {},
   "number_sections": true,
   "sideBar": true,
   "skip_h1_title": false,
   "title_cell": "Table of Contents",
   "title_sidebar": "Contents",
   "toc_cell": false,
   "toc_position": {
    "height": "calc(100% - 180px)",
    "left": "10px",
    "top": "150px",
    "width": "409.6px"
   },
   "toc_section_display": true,
   "toc_window_display": true
  },
  "varInspector": {
   "cols": {
    "lenName": 16,
    "lenType": 16,
    "lenVar": 40
   },
   "kernels_config": {
    "python": {
     "delete_cmd_postfix": "",
     "delete_cmd_prefix": "del ",
     "library": "var_list.py",
     "varRefreshCmd": "print(var_dic_list())"
    },
    "r": {
     "delete_cmd_postfix": ") ",
     "delete_cmd_prefix": "rm(",
     "library": "var_list.r",
     "varRefreshCmd": "cat(var_dic_list()) "
    }
   },
   "types_to_exclude": [
    "module",
    "function",
    "builtin_function_or_method",
    "instance",
    "_Feature"
   ],
   "window_display": false
  },
  "vscode": {
   "interpreter": {
    "hash": "60d19ab31e2602c798ebca92c5e0dbbdfa80da3d3e1986ed50be48b7d4d0a8f7"
   }
  }
 },
 "nbformat": 4,
 "nbformat_minor": 5
}
