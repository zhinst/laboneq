{
 "cells": [
  {
   "cell_type": "markdown",
   "id": "5be91863",
   "metadata": {
    "code_folding": []
   },
   "source": [
    "# Node set in near-time loop"
   ]
  },
  {
   "cell_type": "markdown",
   "id": "b3bdf9c9",
   "metadata": {},
   "source": [
    "## Imports"
   ]
  },
  {
   "cell_type": "code",
   "execution_count": null,
   "id": "efd8d357",
   "metadata": {},
   "outputs": [],
   "source": [
    "%config IPCompleter.greedy=True\n",
    "\n",
    "# convenience import for all QCCS software functionality\n",
    "from laboneq.simple import *"
   ]
  },
  {
   "cell_type": "markdown",
   "id": "085c010a",
   "metadata": {},
   "source": [
    "## Device setup"
   ]
  },
  {
   "cell_type": "code",
   "execution_count": null,
   "id": "85d3de96",
   "metadata": {},
   "outputs": [],
   "source": [
    "descriptor=\"\"\"\\\n",
    "instrument_list:\n",
    "  HDAWG:\n",
    "  - address: DEV1001\n",
    "    uid: device_hdawg \n",
    "  UHFQA:\n",
    "  - address: DEV2001    \n",
    "    uid: device_uhfqa\n",
    "  PQSC:  \n",
    "  - address: DEV3001\n",
    "    uid: device_pqsc\n",
    "connections:\n",
    "  device_hdawg:    \n",
    "    - iq_signal: q0/drive_line\n",
    "      ports: [SIGOUTS/0, SIGOUTS/1]        \n",
    "    - iq_signal: q1/drive_line\n",
    "      ports: [SIGOUTS/2, SIGOUTS/3]\n",
    "    - rf_signal: q0/flux_line\n",
    "      ports: [SIGOUTS/4]        \n",
    "    - rf_signal: q1/flux_line\n",
    "      ports: [SIGOUTS/5]              \n",
    "    - to: device_uhfqa\n",
    "      port: DIOS/0\n",
    "  device_uhfqa:    \n",
    "    - iq_signal: q0/measure_line\n",
    "      ports: [SIGOUTS/0, SIGOUTS/1]        \n",
    "    - acquire_signal: q0/acquire_line\n",
    "    - iq_signal: q1/measure_line\n",
    "      ports: [SIGOUTS/0, SIGOUTS/1]        \n",
    "    - acquire_signal: q1/acquire_line\n",
    "  device_pqsc:\n",
    "    - to: device_hdawg\n",
    "      port: ZSYNCS/0\n",
    "\"\"\""
   ]
  },
  {
   "cell_type": "markdown",
   "id": "fcca342c",
   "metadata": {},
   "source": [
    "## Calibration"
   ]
  },
  {
   "cell_type": "code",
   "execution_count": null,
   "id": "6ad66161",
   "metadata": {},
   "outputs": [],
   "source": [
    "def calibrate_devices(device_setup):\n",
    "    \n",
    "    device_setup.logical_signal_groups[\"q0\"].logical_signals[\"drive_line\"].calibration = \\\n",
    "        SignalCalibration(\n",
    "            oscillator = Oscillator(\n",
    "                uid=\"drive_q0_osc\",\n",
    "                frequency=1e8,\n",
    "                modulation_type=ModulationType.HARDWARE\n",
    "            ),\n",
    "            mixer_calibration=MixerCalibration(\n",
    "                voltage_offsets=[0.02, 0.01],\n",
    "                correction_matrix = [\n",
    "                    [1.0, 0.0],\n",
    "                    [0.0, 1.0],\n",
    "                ]\n",
    "            )\n",
    "        )\n",
    "    device_setup.logical_signal_groups[\"q0\"].logical_signals[\"flux_line\"].oscillator = Oscillator(\n",
    "        uid=\"flux_q0_osc\",\n",
    "        frequency=1e8,\n",
    "        modulation_type=ModulationType.HARDWARE\n",
    "    )\n",
    "    device_setup.logical_signal_groups[\"q0\"].logical_signals[\"measure_line\"].calibration = \\\n",
    "        SignalCalibration(\n",
    "            oscillator = Oscillator(\n",
    "                uid=\"measure_q0_osc\",\n",
    "                frequency=1e8,\n",
    "                modulation_type=ModulationType.SOFTWARE\n",
    "            ),\n",
    "            mixer_calibration=MixerCalibration(\n",
    "                voltage_offsets=[0.02, 0.01],\n",
    "                correction_matrix = [\n",
    "                    [1.0, 0.0],\n",
    "                    [0.0, 1.0],\n",
    "                ]\n",
    "            )\n",
    "        )\n",
    "    device_setup.logical_signal_groups[\"q0\"].logical_signals[\"acquire_line\"].oscillator = Oscillator(\n",
    "        uid=\"acquire_q0_osc\",\n",
    "        frequency=1e8,\n",
    "        modulation_type=ModulationType.SOFTWARE\n",
    "    )\n",
    "    \n",
    "    device_setup.logical_signal_groups[\"q1\"].logical_signals[\"drive_line\"].calibration = \\\n",
    "        SignalCalibration(\n",
    "            oscillator = Oscillator(\n",
    "                uid=\"drive_q1_osc\",\n",
    "                frequency=1e8,\n",
    "                modulation_type=ModulationType.HARDWARE\n",
    "            ),\n",
    "            mixer_calibration=MixerCalibration(\n",
    "                voltage_offsets=[0.02, 0.01],\n",
    "                correction_matrix = [\n",
    "                    [1.0, 0.0],\n",
    "                    [0.0, 1.0],\n",
    "                ]\n",
    "            )\n",
    "        )\n",
    "    device_setup.logical_signal_groups[\"q1\"].logical_signals[\"flux_line\"].oscillator = Oscillator(\n",
    "        uid=\"flux_q1_osc\",\n",
    "        frequency=1e8,\n",
    "        modulation_type=ModulationType.HARDWARE\n",
    "    )\n",
    "    device_setup.logical_signal_groups[\"q1\"].logical_signals[\"measure_line\"].calibration = \\\n",
    "        SignalCalibration(\n",
    "            oscillator = Oscillator(\n",
    "                uid=\"measure_q1_osc\",\n",
    "                frequency=1e8,\n",
    "                modulation_type=ModulationType.SOFTWARE\n",
    "            )\n",
    "        )\n",
    "    device_setup.logical_signal_groups[\"q1\"].logical_signals[\"acquire_line\"].oscillator = Oscillator(\n",
    "        uid=\"acquire_q1_osc\",\n",
    "        frequency=1e8,\n",
    "        modulation_type=ModulationType.SOFTWARE\n",
    "    )"
   ]
  },
  {
   "cell_type": "markdown",
   "id": "dcff2d97",
   "metadata": {},
   "source": [
    "### Create device setup"
   ]
  },
  {
   "cell_type": "code",
   "execution_count": null,
   "id": "f155d4ab",
   "metadata": {},
   "outputs": [],
   "source": [
    "device_setup = DeviceSetup.from_descriptor(\n",
    "    descriptor,\n",
    "    server_host=\"111.22.33.44\",\n",
    "    server_port=\"8004\",\n",
    "    setup_name=\"ZI_QCCS\",\n",
    ") \n",
    "calibrate_devices(device_setup)"
   ]
  },
  {
   "cell_type": "markdown",
   "id": "3583baae",
   "metadata": {},
   "source": [
    "## Experiment definition"
   ]
  },
  {
   "cell_type": "code",
   "execution_count": null,
   "id": "28c09485",
   "metadata": {},
   "outputs": [],
   "source": [
    "# Near-time loop range\n",
    "count = 10\n",
    "start = 0.1\n",
    "stop = 1.0\n",
    "\n",
    "x90 = pulse_library.gaussian(uid=\"x90\", length=100e-9, amplitude=1.0)\n",
    "readout_pulse = pulse_library.const(\n",
    "    uid=\"readout_pulse\", length=400e-9, amplitude=1.0\n",
    ")\n",
    "readout_weighting_function = pulse_library.const(\n",
    "    uid=\"readout_weighting_function\", length=200e-9, amplitude=1.0\n",
    ")\n",
    "\n",
    "# Create Experiment\n",
    "exp = Experiment(\n",
    "    uid=\"User Function\",\n",
    "    signals=[\n",
    "        ExperimentSignal(uid=\"q0_drive\"),\n",
    "        ExperimentSignal(uid=\"q0_measure\"),\n",
    "        ExperimentSignal(uid=\"q0_acquire\"),\n",
    "    ],\n",
    ")\n",
    "\n",
    "q0 = device_setup.logical_signal_groups[\"q0\"]\n",
    "\n",
    "# Connect experiment signals to logical signals\n",
    "exp.map_signal(\"q0_drive\", q0.logical_signals[\"drive_line\"])\n",
    "exp.map_signal(\"q0_measure\", q0.logical_signals[\"measure_line\"])\n",
    "exp.map_signal(\"q0_acquire\", q0.logical_signals[\"acquire_line\"])\n",
    "\n",
    "# Apply calibration\n",
    "q0.logical_signals[\"drive_line\"].calibration.oscillator.frequency = 100e6\n",
    "q0.logical_signals[\"measure_line\"].calibration.oscillator.frequency = 100e6\n",
    "q0.logical_signals[\"drive_line\"].calibration.amplitude = 0.5\n",
    "q0.logical_signals[\"acquire_line\"].calibration.port_delay = 100e-9\n",
    "\n",
    "average_exponent = 0  # used for 2^n averages, n=average_exponent, maximum: n = 19\n",
    "\n",
    "sweep_parameter_1 = LinearSweepParameter(\n",
    "    uid=\"amp\", start=start, stop=stop, count=count\n",
    ")\n",
    "sweep_parameter_2 = LinearSweepParameter(\n",
    "    uid=\"reg\", start=0, stop=18, count=count\n",
    ")\n",
    "\n",
    "hdawg_address = device_setup.instrument_by_uid('device_hdawg').address\n",
    "uhfqa_address = device_setup.instrument_by_uid('device_uhfqa').address\n",
    "\n",
    "with exp.sweep(uid=\"sweep\", parameter=[sweep_parameter_1, sweep_parameter_2]):\n",
    "    \n",
    "    # Set arbitrary ZI device nodes:\n",
    "    exp.set(path=f'/{hdawg_address}/sigouts/2/offset', key='', value=sweep_parameter_1)\n",
    "    exp.set(path=f'/{hdawg_address}/awgs/0/userregs/0', key='', value=sweep_parameter_2)\n",
    "    exp.set(path=f'/{uhfqa_address}/oscs/0/freq', key='', value=1e6)\n",
    "    \n",
    "    with exp.acquire_loop_rt(uid=\"shots\", count=pow(2, average_exponent), acquisition_type=AcquisitionType.INTEGRATION):\n",
    "        with exp.section(uid=\"qubit_excitation\"):\n",
    "            exp.play(signal=\"q0_drive\", pulse=x90)\n",
    "        with exp.section(uid=\"qubit_readout\"):\n",
    "            exp.reserve(signal=\"q0_drive\")\n",
    "            exp.delay(signal=\"q0_measure\", time=10e-9)\n",
    "            exp.delay(signal=\"q0_acquire\", time=10e-9)\n",
    "            exp.play(signal=\"q0_measure\", pulse=readout_pulse)\n",
    "            exp.acquire(\n",
    "                signal=\"q0_acquire\",\n",
    "                handle=\"q0\",\n",
    "                kernel=readout_weighting_function,\n",
    "            )\n",
    "        with exp.section(uid=\"relax\"):\n",
    "            exp.play(\n",
    "                signal=\"q0_measure\",\n",
    "                pulse=pulse_library.const(length=1e-6, amplitude=0.0),\n",
    "            )  # KNOWN ISSUE: Need to wait for 1us to prevent QA holdoff error"
   ]
  },
  {
   "cell_type": "markdown",
   "id": "f684d959",
   "metadata": {},
   "source": [
    "## Execution"
   ]
  },
  {
   "cell_type": "code",
   "execution_count": null,
   "id": "9a3e46b2",
   "metadata": {
    "scrolled": false
   },
   "outputs": [],
   "source": [
    "session = Session(device_setup)\n",
    "session.connect(do_emulation=True)\n",
    "my_results = session.run(exp)"
   ]
  },
  {
   "cell_type": "markdown",
   "id": "c9b93c45",
   "metadata": {},
   "source": [
    "## Results"
   ]
  },
  {
   "cell_type": "code",
   "execution_count": null,
   "id": "410efed7",
   "metadata": {},
   "outputs": [],
   "source": [
    "# Nothing specific to the nodes set functionality"
   ]
  }
 ],
 "metadata": {
  "kernelspec": {
   "display_name": "Python 3.10.6 64-bit ('develop')",
   "language": "python",
   "name": "python3"
  },
  "language_info": {
   "codemirror_mode": {
    "name": "ipython",
    "version": 3
   },
   "file_extension": ".py",
   "mimetype": "text/x-python",
   "name": "python",
   "nbconvert_exporter": "python",
   "pygments_lexer": "ipython3",
   "version": "3.10.6"
  },
  "toc": {
   "base_numbering": 1,
   "nav_menu": {},
   "number_sections": true,
   "sideBar": true,
   "skip_h1_title": false,
   "title_cell": "Table of Contents",
   "title_sidebar": "Contents",
   "toc_cell": false,
   "toc_position": {
    "height": "calc(100% - 180px)",
    "left": "10px",
    "top": "150px",
    "width": "426.667px"
   },
   "toc_section_display": true,
   "toc_window_display": true
  },
  "varInspector": {
   "cols": {
    "lenName": 16,
    "lenType": 16,
    "lenVar": 40
   },
   "kernels_config": {
    "python": {
     "delete_cmd_postfix": "",
     "delete_cmd_prefix": "del ",
     "library": "var_list.py",
     "varRefreshCmd": "print(var_dic_list())"
    },
    "r": {
     "delete_cmd_postfix": ") ",
     "delete_cmd_prefix": "rm(",
     "library": "var_list.r",
     "varRefreshCmd": "cat(var_dic_list()) "
    }
   },
   "types_to_exclude": [
    "module",
    "function",
    "builtin_function_or_method",
    "instance",
    "_Feature"
   ],
   "window_display": false
  },
  "vscode": {
   "interpreter": {
    "hash": "60d19ab31e2602c798ebca92c5e0dbbdfa80da3d3e1986ed50be48b7d4d0a8f7"
   }
  }
 },
 "nbformat": 4,
 "nbformat_minor": 5
}
