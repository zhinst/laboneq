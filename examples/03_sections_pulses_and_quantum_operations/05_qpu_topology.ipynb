{
 "cells": [
  {
   "cell_type": "markdown",
   "id": "d3611cf6-7a79-458d-95a1-0d3cd5c4915a",
   "metadata": {},
   "source": [
    "# QPU Topology\n",
    "\n",
    "In a typical experiment, the quantum elements that we would like to control are on a quantum processing unit (QPU) with a given topology, which describes how the quantum elements are connected to each other. Understanding the properties of the QPU is important in a variety of situations, such as applying multi-qubit gates or compensating for crosstalk.\n",
    "\n",
    "In LabOne Q, we use the [dsl.QPU](https://docs.zhinst.com/labone_q_user_manual/core/reference/dsl/quantum.html#laboneq.dsl.quantum.qpu.QPU) class to organize this information, which takes the given quantum elements and quantum operations as input arguments. The default QPU topology is then constructed on initialization from these quantum elements and is accessible via the `topology` attribute. Additional connections in the topology can be made at a later stage.\n",
    "\n",
    "In this tutorial, we will go through the basic properties of the `QPU` class, including: how to initialize a QPU, how to modify its topology, and how this may be applied in the context of a real experiment."
   ]
  },
  {
   "cell_type": "markdown",
   "id": "602fb977-057a-4cf7-8f13-1d5c59461888",
   "metadata": {},
   "source": [
    "## Imports"
   ]
  },
  {
   "cell_type": "code",
   "execution_count": null,
   "id": "f2434940-6d0b-4c0c-997b-aed3d13f2ffc",
   "metadata": {},
   "outputs": [],
   "source": [
    "from laboneq.simple import *\n",
    "from laboneq.dsl.quantum import (\n",
    "    QPU,\n",
    "    Transmon,\n",
    "    QuantumOperations,\n",
    "    QuantumParameters,\n",
    "    QuantumElement,\n",
    ")"
   ]
  },
  {
   "cell_type": "markdown",
   "id": "5328a607-09c3-48aa-99e3-daf06cf5275b",
   "metadata": {},
   "source": [
    "## Define the quantum elements and operations\n",
    "\n",
    "Following from the previous tutorials, we will demonstrate the functionality of the QPU class using `Transmon` qubits. We start by defining an example qubit template together with a set of example qubit operations."
   ]
  },
  {
   "cell_type": "code",
   "execution_count": null,
   "id": "d18d31cc-14c6-4d57-909e-5b8d3b2de7e8",
   "metadata": {},
   "outputs": [],
   "source": [
    "def qubit_template(i):\n",
    "    return Transmon(\n",
    "        uid=f\"q{i}\",\n",
    "        signals={\n",
    "            \"drive\": f\"q{i}/drive\",\n",
    "            \"measure\": f\"q{i}/measure\",\n",
    "            \"acquire\": f\"q{i}/acquire\",\n",
    "        },\n",
    "        parameters={\"resonance_frequency_ge\": i},\n",
    "    )\n",
    "\n",
    "\n",
    "class TransmonOperations(QuantumOperations):\n",
    "    QUBIT_TYPES = Transmon"
   ]
  },
  {
   "cell_type": "markdown",
   "id": "647052fa-6e5b-4e3d-a4b4-a446b3592176",
   "metadata": {},
   "source": [
    "In addition to qubits, we may also have other quantum elements on the QPU. For example, we define a custom `Coupler` quantum element below. "
   ]
  },
  {
   "cell_type": "code",
   "execution_count": null,
   "id": "692ce5d3-17f0-4817-9c34-63eae2022f73",
   "metadata": {},
   "outputs": [],
   "source": [
    "class CouplerParameters(QuantumParameters):\n",
    "    amplitude = 0.5\n",
    "    length = 100e-9\n",
    "    pulse = {\"function\": \"gaussian_square\"}\n",
    "\n",
    "\n",
    "class Coupler(QuantumElement):\n",
    "    PARAMETERS_TYPE = CouplerParameters\n",
    "    REQUIRED_SIGNALS = (\"flux\",)\n",
    "\n",
    "\n",
    "c0 = Coupler(\n",
    "    uid=\"c0\",\n",
    "    signals={\"flux\": \"c0/flux\"},\n",
    ")"
   ]
  },
  {
   "cell_type": "markdown",
   "id": "a8ad267d-fd8c-4fbb-ac11-ec0d793c0083",
   "metadata": {},
   "source": [
    "## Define the QPU"
   ]
  },
  {
   "cell_type": "markdown",
   "id": "d56b04d4-af2d-4bec-9a54-f386660f2634",
   "metadata": {},
   "source": [
    "A `QPU` object can be defined from a single quantum element, a sequence of quantum elements, or a dictionary of quantum element groups, together with a subclass of `QuantumOperations`. For example, we can define a QPU simply using a list of quantum elements, as shown below."
   ]
  },
  {
   "cell_type": "code",
   "execution_count": null,
   "id": "0bc60411-b6b1-4873-bcf8-79778a478b88",
   "metadata": {
    "scrolled": true
   },
   "outputs": [],
   "source": [
    "quantum_element_list = [qubit_template(i) for i in range(2)] + [c0]\n",
    "qpu = QPU(quantum_elements=quantum_element_list, quantum_operations=TransmonOperations)\n",
    "qpu"
   ]
  },
  {
   "cell_type": "markdown",
   "id": "1a997b84-9d18-4e4d-8916-5a686b6e7a3a",
   "metadata": {},
   "source": [
    "In this case, we can see that we have three quantum elements on our QPU with UIDs: `q0`, `q1`, `c0`. This corresponds to two transmon qubits and one tunable coupler in the experiment. We can access these quantum elements directly from the QPU by UID, slice, or subclass."
   ]
  },
  {
   "cell_type": "code",
   "execution_count": null,
   "id": "2bab6046-e161-4ff4-b5ee-1b68f0f809d2",
   "metadata": {},
   "outputs": [],
   "source": [
    "qpu[\"q0\"]  # returns a single quantum element by UID\n",
    "qpu[[\"q0\", \"q1\"]]  # returns a list of quantum elements by UID\n",
    "qpu[:2]  # returns the first two quantum elements by slice\n",
    "qpu[Transmon]  # returns the quantum elements of a given type"
   ]
  },
  {
   "cell_type": "markdown",
   "id": "d941c31b-3f7c-421e-93a5-2a3305ba69f6",
   "metadata": {},
   "source": [
    "If there are multiple kinds of quantum elements present in the QPU, then it may be useful to categorise them into groups. The advantage of this is that we can then conveniently retrieve these custom groups as attributes of `qpu.groups`. The behaviour of the QPU is otherwise unaffected."
   ]
  },
  {
   "cell_type": "code",
   "execution_count": null,
   "id": "b350cab0-25df-4b4c-a62a-7b2f079cdb01",
   "metadata": {},
   "outputs": [],
   "source": [
    "quantum_element_dict = {\n",
    "    \"qubits\": [qubit_template(i) for i in range(2)],\n",
    "    \"couplers\": [c0],\n",
    "}\n",
    "qpu = QPU(quantum_elements=quantum_element_dict, quantum_operations=TransmonOperations)\n",
    "qpu.groups.qubits\n",
    "qpu.groups.couplers"
   ]
  },
  {
   "cell_type": "markdown",
   "id": "ccbe4d6b-6cfe-4ac9-b3f0-40d088776252",
   "metadata": {},
   "source": [
    "The instructions that our QPU supports are the `TransmonOperations` that we defined above. There are no connections between our quantum elements by default and so there are currently no edges in the `topology` attribute. "
   ]
  },
  {
   "cell_type": "markdown",
   "id": "93d5c075-d920-4b72-bd5b-23a1139bba69",
   "metadata": {},
   "source": [
    "## Define the QPU topology\n",
    "\n",
    "By default, all of the quantum elements on the QPU are initialized as disconnected nodes in the QPU topology. We can check this by plotting the initial QPU topology graph with `disconnected=True`. Note that the `quantum_elements` argument for `QPU` is a complete list of all the quantum elements present on the QPU and therefore, nodes cannot be added or removed from the topology after the QPU has been defined."
   ]
  },
  {
   "cell_type": "code",
   "execution_count": null,
   "id": "d7ad6ba8-6b0d-4446-a0d8-3f44a106160b",
   "metadata": {},
   "outputs": [],
   "source": [
    "qpu.topology.plot(disconnected=True)"
   ]
  },
  {
   "cell_type": "markdown",
   "id": "ec5149a2-077a-45aa-8923-63621a5206ee",
   "metadata": {},
   "source": [
    "### Nodes\n",
    "\n",
    "The information about the nodes can be looked up using the `nodes` and `node_keys` iterators. The `nodes` iterator generates the quantum elements at the nodes, and the `node_keys` iterator generates the UIDs of the quantum_elements at the nodes."
   ]
  },
  {
   "cell_type": "code",
   "execution_count": null,
   "id": "b8a70623-fd16-40c5-93ce-1157fae3dad2",
   "metadata": {
    "scrolled": true
   },
   "outputs": [],
   "source": [
    "for node in qpu.topology.nodes():\n",
    "    print(node)"
   ]
  },
  {
   "cell_type": "code",
   "execution_count": null,
   "id": "11d9da7c-f1bc-4398-adc3-5dca0226fcb0",
   "metadata": {},
   "outputs": [],
   "source": [
    "for node_key in qpu.topology.node_keys():\n",
    "    print(node_key)"
   ]
  },
  {
   "cell_type": "markdown",
   "id": "07a29ec5-bad3-4770-85a9-486a2a173224",
   "metadata": {},
   "source": [
    "It is also possible to retrieve the information on a specific node in the graph using the `get_node` method."
   ]
  },
  {
   "cell_type": "code",
   "execution_count": null,
   "id": "0d86c777-11d9-4859-be9e-724edab397a5",
   "metadata": {},
   "outputs": [],
   "source": [
    "qpu.topology.get_node(\"q0\")"
   ]
  },
  {
   "cell_type": "markdown",
   "id": "80665a05-baa5-4879-89d5-18290784bb31",
   "metadata": {},
   "source": [
    "<div class=\"alert alert-block alert-info\">\n",
    "<b>Note:</b>\n",
    "\n",
    "The node retrieval methods in the `QPUTopology` class are provided for completeness. Accessing the nodes in `QPUTopology` is discouraged, in favour of equivalent methods in the `QPU` class. \n",
    "    \n",
    "For example, we recommend using `qpu[\"q0\"]` instead of `qpu.topology.get_node(\"q0\")`. \n",
    "</div>"
   ]
  },
  {
   "cell_type": "markdown",
   "id": "2696b62a-efa8-4b63-9402-c98b3aea229d",
   "metadata": {},
   "source": [
    "### Edges\n",
    "\n",
    "Since the nodes represent the complete set of quantum elements on the QPU, and therefore cannot be changed after the QPU is defined, modifications to the QPU topology come in the form of adding and removing edges. An edge is a directed connection between two nodes. Optionally, an edge may also have its own set of parameters and/or its own associated quantum element.\n",
    "\n",
    "<div class=\"alert alert-block alert-info\">\n",
    "<b>Note:</b>\n",
    "The quantum element associated to an edge may only come from the pool of quantum elements that are present on the QPU.\n",
    "</div>\n",
    "\n",
    "Since there may be multiple edges between two nodes on the QPU, we provide each edge with a user-defined string called a `tag`. In this way, an edge may be accessed via the tuple `(tag, source_node, target_node)`, where `tag` is a user-defined string, `source_node` is the UID of the source node, and `target_node` is the UID of the target node.\n",
    "\n",
    "Here, we will look at a few examples to demonstrate how this works. We start by adding a single edge between nodes 0 and 1. The edge appears on the graph as an arrow going from the source to the target node. The edge tag is labeled on the arrow. Analogously, edges may be removed using the `remove_edge` method."
   ]
  },
  {
   "cell_type": "code",
   "execution_count": null,
   "id": "9dbbdda7-c3a3-4626-aed5-54df8c21e4a4",
   "metadata": {
    "scrolled": true
   },
   "outputs": [],
   "source": [
    "qpu.topology.add_edge(\"empty\", \"q0\", \"q1\")\n",
    "qpu.topology.plot()"
   ]
  },
  {
   "cell_type": "markdown",
   "id": "5a36725d-d4cc-4f52-876a-e3b890c83714",
   "metadata": {},
   "source": [
    "In this fashion, we can continue to add edges to the graph until the topology of the QPU is accurately described. For example, we can add an additional edge from node 0 to node 1, and we can add an edge in the opposite direction, from node 1 to node 0. Each edge may also have a set of edge parameters and its own quantum element. In the example below, we add the coupler `c0` to the edge going from `q0` to `q1`. For clarity, the edge quantum element UID is printed next to the edge tag."
   ]
  },
  {
   "cell_type": "code",
   "execution_count": null,
   "id": "8fed110b-8e49-4417-a7b1-8a36a363e8b6",
   "metadata": {},
   "outputs": [],
   "source": [
    "qpu.topology.add_edge(\"coupler\", \"q0\", \"q1\", quantum_element=\"c0\")\n",
    "qpu.topology.add_edge(\"empty\", \"q1\", \"q0\")\n",
    "qpu.topology.plot()"
   ]
  },
  {
   "cell_type": "markdown",
   "id": "2f8f35fe-6948-4b6e-8032-1b2dae05b439",
   "metadata": {},
   "source": [
    "Similar to the nodes, information about the edges may be looked up using the `edges` and `edge_keys` iterators. The `edges` iterator generates the edges in the graph, which are `TopologyEdge` objects, and the `edge_keys` iterator generates the keys of the edges, which are the `(tag, source_node, target_node)` tuples."
   ]
  },
  {
   "cell_type": "code",
   "execution_count": null,
   "id": "9ef958ff-112f-469e-b086-3a94a10fe243",
   "metadata": {},
   "outputs": [],
   "source": [
    "for edges in qpu.topology.edges():\n",
    "    print(edges)"
   ]
  },
  {
   "cell_type": "code",
   "execution_count": null,
   "id": "f9bb3544-abf4-4a95-9ca4-237b0c0e0378",
   "metadata": {},
   "outputs": [],
   "source": [
    "for edge_key in qpu.topology.edge_keys():\n",
    "    print(edge_key)"
   ]
  },
  {
   "cell_type": "markdown",
   "id": "54f58829-73fd-429c-a77c-d3e7a36f4ff2",
   "metadata": {},
   "source": [
    "It is also possible to retrieve the information on a particular edge directly from the QPU topology."
   ]
  },
  {
   "cell_type": "code",
   "execution_count": null,
   "id": "84b2c8df-9d47-4eba-9fd3-59d0d303933f",
   "metadata": {},
   "outputs": [],
   "source": [
    "qpu.topology[\"coupler\", \"q0\", \"q1\"]"
   ]
  },
  {
   "cell_type": "markdown",
   "id": "6b897408-f364-4987-a562-3e1f03d7d7b6",
   "metadata": {},
   "source": [
    "Alternatively, we can retrieve information on multiple edges by replacing one or more of the edge key elements with null slices. For example, we can list all of the outgoing edges from \"q0\"."
   ]
  },
  {
   "cell_type": "code",
   "execution_count": null,
   "id": "216182a4-68d9-410b-882f-2fe123d27824",
   "metadata": {},
   "outputs": [],
   "source": [
    "qpu.topology[:, \"q0\", :]"
   ]
  },
  {
   "cell_type": "markdown",
   "id": "37c59a4b-0f49-4121-9b89-1bca654cd281",
   "metadata": {},
   "source": [
    "To improve the plot readability, we can fix the positions of the quantum elements, set an equal aspect ratio, and omit the edge tags."
   ]
  },
  {
   "cell_type": "code",
   "execution_count": null,
   "id": "361b0759-5098-464b-ac55-74f1f905e05d",
   "metadata": {},
   "outputs": [],
   "source": [
    "qpu.topology.plot(\n",
    "    fixed_pos={\"q0\": (0, 0), \"q1\": (1, 0)}, equal_aspect=True, show_tags=False\n",
    ")"
   ]
  },
  {
   "cell_type": "markdown",
   "id": "146e051f-730d-466e-a7a1-0bf7f5540318",
   "metadata": {},
   "source": [
    "We can also check and filter the list of neighbouring nodes using the `neighbours` method. Using this, we can check for example, whether all qubits are connected before performing a quantum operation."
   ]
  },
  {
   "cell_type": "code",
   "execution_count": null,
   "id": "cedda4cb-66e4-461b-9bbf-e438546809dc",
   "metadata": {},
   "outputs": [],
   "source": [
    "qpu.topology.neighbours(\"q0\")"
   ]
  },
  {
   "cell_type": "markdown",
   "id": "4223e78f-5c01-4399-84be-b48275075c5a",
   "metadata": {},
   "source": [
    "## Saving/loading the QPU\n",
    "\n",
    "Finally, we can view the summary information for our newly-defined QPU by printing the `QPU` object."
   ]
  },
  {
   "cell_type": "code",
   "execution_count": null,
   "id": "9df070dd-6cfe-4e92-9b67-067f1f14dfc6",
   "metadata": {},
   "outputs": [],
   "source": [
    "qpu"
   ]
  },
  {
   "cell_type": "markdown",
   "id": "a75cd439-d488-4877-a82e-c78050b734a3",
   "metadata": {},
   "source": [
    "Here, we can see that we have two edge tags in our topology graph: `empty` and `coupler`. Since `empty` appears twice and `coupler` appears once, our topology graph has three edges in total.\n",
    "\n",
    "Once we are finished, the QPU object may be saved and loaded just like other quantum objects in LabOne Q, using the `save`/`load` methods from `laboneq.serializers`.\n",
    "\n",
    "For further information on designing your own experiment in LabOne Q, please see the [LabOne Q Applications Library](https://docs.zhinst.com/labone_q_user_manual/applications_library/index.html)."
   ]
  }
 ],
 "metadata": {
  "kernelspec": {
   "display_name": "Python 3 (ipykernel)",
   "language": "python",
   "name": "python3"
  },
  "language_info": {
   "codemirror_mode": {
    "name": "ipython",
    "version": 3
   },
   "file_extension": ".py",
   "mimetype": "text/x-python",
   "name": "python",
   "nbconvert_exporter": "python",
   "pygments_lexer": "ipython3",
   "version": "3.13.2"
  }
 },
 "nbformat": 4,
 "nbformat_minor": 5
}
