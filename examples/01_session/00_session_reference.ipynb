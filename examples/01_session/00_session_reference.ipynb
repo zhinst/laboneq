{
 "cells": [
  {
   "attachments": {},
   "cell_type": "markdown",
   "id": "771e7eff",
   "metadata": {},
   "source": [
    "# Session Reference\n",
    "\n",
    "This notebook is intended as a reference to help you learn what can be saved from or loaded to a LabOne Q session. \n",
    "\n",
    "## Imports"
   ]
  },
  {
   "cell_type": "code",
   "execution_count": null,
   "id": "09fe582e",
   "metadata": {},
   "outputs": [],
   "source": [
    "# LabOne Q:\n",
    "from laboneq.simple import *\n",
    "\n",
    "# pretty printing\n",
    "from pprint import pprint"
   ]
  },
  {
   "cell_type": "markdown",
   "id": "a1f4fb8c",
   "metadata": {},
   "source": [
    "## Device Descriptor"
   ]
  },
  {
   "cell_type": "code",
   "execution_count": null,
   "id": "9ac23cb7",
   "metadata": {},
   "outputs": [],
   "source": [
    "descriptor = \"\"\"\\\n",
    "instruments:\n",
    "  HDAWG:\n",
    "  - address: DEV1001\n",
    "    uid: device_hdawg\n",
    "  UHFQA:\n",
    "  - address: DEV2001\n",
    "    uid: device_uhfqa\n",
    "  PQSC:\n",
    "  - address: DEV3001\n",
    "    uid: device_pqsc\n",
    "connections:\n",
    "  device_hdawg:\n",
    "    - iq_signal: q0/drive_line\n",
    "      ports: [SIGOUTS/0, SIGOUTS/1]\n",
    "    - iq_signal: q1/drive_line\n",
    "      ports: [SIGOUTS/2, SIGOUTS/3]\n",
    "    - rf_signal: q0/flux_line\n",
    "      ports: [SIGOUTS/4]\n",
    "    - rf_signal: q1/flux_line\n",
    "      ports: [SIGOUTS/5]\n",
    "    - to: device_uhfqa\n",
    "      port: DIOS/0\n",
    "  device_uhfqa:\n",
    "    - iq_signal: q0/measure_line\n",
    "      ports: [SIGOUTS/0, SIGOUTS/1]\n",
    "    - acquire_signal: q0/acquire_line\n",
    "    - iq_signal: q1/measure_line\n",
    "      ports: [SIGOUTS/0, SIGOUTS/1]\n",
    "    - acquire_signal: q1/acquire_line\n",
    "\"\"\""
   ]
  },
  {
   "cell_type": "markdown",
   "id": "6c1038ef",
   "metadata": {},
   "source": [
    "## Device Calibration"
   ]
  },
  {
   "cell_type": "code",
   "execution_count": null,
   "id": "55001de3",
   "metadata": {},
   "outputs": [],
   "source": [
    "def calibrate_devices(device_setup):\n",
    "    device_setup.logical_signal_groups[\"q0\"].logical_signals[\n",
    "        \"drive_line\"\n",
    "    ].calibration = SignalCalibration(\n",
    "        oscillator=Oscillator(\n",
    "            uid=\"drive_q0_osc\", frequency=1e8, modulation_type=ModulationType.HARDWARE\n",
    "        ),\n",
    "        mixer_calibration=MixerCalibration(\n",
    "            voltage_offsets=[0.02, 0.01],\n",
    "            correction_matrix=[\n",
    "                [1.0, 0.0],\n",
    "                [0.0, 1.0],\n",
    "            ],\n",
    "        ),\n",
    "    )\n",
    "    device_setup.logical_signal_groups[\"q0\"].logical_signals[\n",
    "        \"measure_line\"\n",
    "    ].calibration = SignalCalibration(\n",
    "        oscillator=Oscillator(\n",
    "            uid=\"measure_q0_osc\", frequency=1e8, modulation_type=ModulationType.SOFTWARE\n",
    "        ),\n",
    "        mixer_calibration=MixerCalibration(\n",
    "            voltage_offsets=[0.02, 0.01],\n",
    "        ),\n",
    "    )\n",
    "    device_setup.logical_signal_groups[\"q0\"].logical_signals[\n",
    "        \"acquire_line\"\n",
    "    ].oscillator = Oscillator(\n",
    "        uid=\"acquire_q0_osc\", frequency=1e8, modulation_type=ModulationType.SOFTWARE\n",
    "    )\n",
    "\n",
    "    device_setup.logical_signal_groups[\"q1\"].logical_signals[\n",
    "        \"drive_line\"\n",
    "    ].calibration = SignalCalibration(\n",
    "        oscillator=Oscillator(\n",
    "            uid=\"drive_q1_osc\", frequency=1e8, modulation_type=ModulationType.HARDWARE\n",
    "        ),\n",
    "        mixer_calibration=MixerCalibration(\n",
    "            voltage_offsets=[0.02, 0.01],\n",
    "            correction_matrix=[\n",
    "                [1.0, 0.0],\n",
    "                [0.0, 1.0],\n",
    "            ],\n",
    "        ),\n",
    "    )\n",
    "    device_setup.logical_signal_groups[\"q1\"].logical_signals[\n",
    "        \"measure_line\"\n",
    "    ].calibration = SignalCalibration(\n",
    "        oscillator=Oscillator(\n",
    "            uid=\"measure_q1_osc\", frequency=1e8, modulation_type=ModulationType.SOFTWARE\n",
    "        ),\n",
    "        mixer_calibration=MixerCalibration(\n",
    "            voltage_offsets=[0.02, 0.01],\n",
    "        ),\n",
    "    )\n",
    "    device_setup.logical_signal_groups[\"q1\"].logical_signals[\n",
    "        \"acquire_line\"\n",
    "    ].oscillator = Oscillator(\n",
    "        uid=\"acquire_q1_osc\", frequency=1e8, modulation_type=ModulationType.SOFTWARE\n",
    "    )"
   ]
  },
  {
   "cell_type": "markdown",
   "id": "9337a75a",
   "metadata": {},
   "source": [
    "## Device Setup"
   ]
  },
  {
   "cell_type": "code",
   "execution_count": null,
   "id": "dfcaf748",
   "metadata": {},
   "outputs": [],
   "source": [
    "device_setup = DeviceSetup.from_descriptor(\n",
    "    descriptor,\n",
    "    server_host=\"111.22.33.44\",\n",
    "    server_port=\"8004\",\n",
    "    setup_name=\"ZI_QCCS\",\n",
    ")\n",
    "calibrate_devices(device_setup)"
   ]
  },
  {
   "cell_type": "markdown",
   "id": "4853ff73",
   "metadata": {},
   "source": [
    "## Experiment Definition"
   ]
  },
  {
   "cell_type": "code",
   "execution_count": null,
   "id": "debb49d6",
   "metadata": {},
   "outputs": [],
   "source": [
    "# Create Resonator Spectroscopy example experiment\n",
    "exp = Experiment(\n",
    "    uid=\"Resonator Spectroscopy\",\n",
    "    signals=[ExperimentSignal(\"q0_measure\"), ExperimentSignal(\"q0_acquire\")],\n",
    ")\n",
    "\n",
    "# Connect experiment signals to logical signals\n",
    "exp.map_signal(\n",
    "    \"q0_measure\",\n",
    "    device_setup.logical_signal_groups[\"q0\"].logical_signals[\"measure_line\"],\n",
    ")\n",
    "exp.map_signal(\n",
    "    \"q0_acquire\",\n",
    "    device_setup.logical_signal_groups[\"q0\"].logical_signals[\"acquire_line\"],\n",
    ")\n",
    "\n",
    "start = -100e6\n",
    "stop = 100e6\n",
    "count = 20\n",
    "average_exponent = 10  # used for 2^n averages, n=average_exponent, maximum: n = 17\n",
    "\n",
    "sweep_parameter = LinearSweepParameter(\n",
    "    uid=\"sweep_param\", start=start, stop=stop, count=count\n",
    ")\n",
    "\n",
    "device_setup.logical_signal_groups[\"q0\"].logical_signals[\n",
    "    \"measure_line\"\n",
    "].oscillator.frequency = sweep_parameter\n",
    "device_setup.logical_signal_groups[\"q0\"].logical_signals[\n",
    "    \"measure_line\"\n",
    "].oscillator.modulation_type = ModulationType.HARDWARE\n",
    "\n",
    "\n",
    "with exp.sweep(uid=\"sweep\", parameter=sweep_parameter):\n",
    "    with exp.acquire_loop_rt(\n",
    "        uid=\"avg\",\n",
    "        count=pow(2, average_exponent),\n",
    "        averaging_mode=AveragingMode.SEQUENTIAL,\n",
    "        acquisition_type=AcquisitionType.SPECTROSCOPY,\n",
    "    ):\n",
    "        with exp.section(uid=\"spectroscopy\"):\n",
    "            exp.play(\n",
    "                signal=\"q0_measure\",\n",
    "                pulse=pulse_library.const(length=1e-6, amplitude=1.0),\n",
    "            )\n",
    "            exp.acquire(\n",
    "                signal=\"q0_acquire\",\n",
    "                handle=\"h\",\n",
    "                length=1e-6,\n",
    "            )\n",
    "        with exp.section(uid=\"relax\"):\n",
    "            exp.delay(\n",
    "                signal=\"q0_measure\",\n",
    "                time=1e-6,\n",
    "            )  # KNOWN ISSUE: Need to wait for 1us to prevent QA holdoff error"
   ]
  },
  {
   "attachments": {},
   "cell_type": "markdown",
   "id": "c6460f9b",
   "metadata": {},
   "source": [
    "## Session instantiation"
   ]
  },
  {
   "cell_type": "code",
   "execution_count": null,
   "id": "908f939f",
   "metadata": {},
   "outputs": [],
   "source": [
    "session = Session(device_setup=device_setup)\n",
    "session.connect(do_emulation=True)"
   ]
  },
  {
   "attachments": {},
   "cell_type": "markdown",
   "id": "c6ec7b08",
   "metadata": {},
   "source": [
    "## Experiment compilation"
   ]
  },
  {
   "cell_type": "code",
   "execution_count": null,
   "id": "e801abd3",
   "metadata": {},
   "outputs": [],
   "source": [
    "compiled_experiment = session.compile(experiment=exp)"
   ]
  },
  {
   "attachments": {},
   "cell_type": "markdown",
   "id": "88798ec6",
   "metadata": {},
   "source": [
    "Compiled experiment can also be retrieved from the session at any time, once available:"
   ]
  },
  {
   "cell_type": "code",
   "execution_count": null,
   "id": "6fbcf932",
   "metadata": {},
   "outputs": [],
   "source": [
    "compiled_experiment = session.compiled_experiment"
   ]
  },
  {
   "cell_type": "code",
   "execution_count": null,
   "id": "7a4668c0-f500-4083-8843-609d26049129",
   "metadata": {},
   "outputs": [],
   "source": [
    "recipe = compiled_experiment.recipe\n",
    "src = compiled_experiment.src\n",
    "waves = compiled_experiment.waves"
   ]
  },
  {
   "attachments": {},
   "cell_type": "markdown",
   "id": "edf40dd9",
   "metadata": {},
   "source": [
    "## Experiment execution\n",
    "\n",
    "Returns a reference to the results object obtained by running this experiment"
   ]
  },
  {
   "cell_type": "code",
   "execution_count": null,
   "id": "c97a458c",
   "metadata": {},
   "outputs": [],
   "source": [
    "my_results = session.run(compiled_experiment)"
   ]
  },
  {
   "attachments": {},
   "cell_type": "markdown",
   "id": "defb6204",
   "metadata": {},
   "source": [
    "## Result Handling"
   ]
  },
  {
   "attachments": {},
   "cell_type": "markdown",
   "id": "894cd6e7",
   "metadata": {},
   "source": [
    "Results are available after executing an experiment:"
   ]
  },
  {
   "attachments": {},
   "cell_type": "markdown",
   "id": "fcb9cf95",
   "metadata": {},
   "source": [
    "### Get a results object\n",
    "\n",
    "Containing the results from the last execution"
   ]
  },
  {
   "cell_type": "code",
   "execution_count": null,
   "id": "3d4cfb39",
   "metadata": {},
   "outputs": [],
   "source": [
    "results = session.results"
   ]
  },
  {
   "attachments": {},
   "cell_type": "markdown",
   "id": "f4f9bcc0",
   "metadata": {},
   "source": [
    "> **Note:** This results object contains a reference of the data stored in the session\n",
    "and care has to be taken when using this to not affect the results in the session."
   ]
  },
  {
   "cell_type": "code",
   "execution_count": null,
   "id": "3d4cfb38",
   "metadata": {},
   "outputs": [],
   "source": [
    "results_copy = session.get_results()"
   ]
  },
  {
   "attachments": {},
   "cell_type": "markdown",
   "id": "f4f9bcca",
   "metadata": {},
   "source": [
    "> **Note:** To obtain a copy of the results contained within the session, use the get_results method instead"
   ]
  },
  {
   "cell_type": "code",
   "execution_count": null,
   "id": "480ce057",
   "metadata": {},
   "outputs": [],
   "source": [
    "acquired_results = results.acquired_results\n",
    "neartime_callback_results = results.neartime_callback_results\n",
    "execution_errors = results.execution_errors"
   ]
  },
  {
   "attachments": {},
   "cell_type": "markdown",
   "id": "d943cf47",
   "metadata": {},
   "source": [
    "### Acquired Results\n",
    "The structure of the acquired results will change. For now, it is just adapted to the current controller implementation."
   ]
  },
  {
   "cell_type": "code",
   "execution_count": null,
   "id": "6faab255",
   "metadata": {},
   "outputs": [],
   "source": [
    "pprint(acquired_results)"
   ]
  },
  {
   "attachments": {},
   "cell_type": "markdown",
   "id": "b3a15441",
   "metadata": {},
   "source": [
    "### Convenience getters on Results object"
   ]
  },
  {
   "attachments": {},
   "cell_type": "markdown",
   "id": "a35104d8",
   "metadata": {},
   "source": [
    "Get acquired results for a given buffer (handle):"
   ]
  },
  {
   "cell_type": "code",
   "execution_count": null,
   "id": "e8fa5095",
   "metadata": {},
   "outputs": [],
   "source": [
    "acquired_data = results.get_data(\"h\")\n",
    "# 1D -> one axis only\n",
    "axis_grid = results.get_axis(\"h\")[0]\n",
    "axis_name = results.get_axis_name(\"h\")[0]"
   ]
  },
  {
   "attachments": {},
   "cell_type": "markdown",
   "id": "bceaaaf3",
   "metadata": {},
   "source": [
    "## Serialization\n",
    "\n",
    "<div class=\"alert alert-block alert-info\">\n",
    "<b>Deprecation notice\n",
    "</div>\n",
    "\n",
    "Serialising the `Session` class will no longer be possible from June 19th (LabOne Q version 2.55.0), when the LabOne Q serialisation framework will be removed in favour of the new serialisation framework. See [our tutorial](https://docs.zhinst.com/labone_q_user_manual/core/functionality_and_concepts/09_serialization/00_serialization.html) to learn more about the new LabOne Q serialisation framework and how to migrate to it."
   ]
  },
  {
   "attachments": {},
   "cell_type": "markdown",
   "id": "7ae9cab0",
   "metadata": {},
   "source": [
    "## Plotting"
   ]
  },
  {
   "attachments": {},
   "cell_type": "markdown",
   "id": "4653ff5a",
   "metadata": {},
   "source": [
    "Plotting the acquired results:"
   ]
  },
  {
   "cell_type": "code",
   "execution_count": null,
   "id": "d6be0425",
   "metadata": {},
   "outputs": [],
   "source": [
    "import matplotlib.pyplot as plt\n",
    "import numpy as np\n",
    "\n",
    "plt.plot(axis_grid, np.absolute(acquired_data))\n",
    "plt.xlabel(axis_name)"
   ]
  },
  {
   "attachments": {},
   "cell_type": "markdown",
   "id": "b86d7abb",
   "metadata": {},
   "source": [
    "Plotting device output signals:"
   ]
  },
  {
   "cell_type": "code",
   "execution_count": null,
   "id": "0404e29d",
   "metadata": {},
   "outputs": [],
   "source": [
    "from laboneq.simulator.output_simulator import OutputSimulator\n",
    "\n",
    "simulator = OutputSimulator(compiled_experiment)"
   ]
  },
  {
   "cell_type": "code",
   "execution_count": null,
   "id": "6400b916",
   "metadata": {},
   "outputs": [],
   "source": [
    "qb = device_setup.logical_signal_groups[\"q0\"].logical_signals\n",
    "\n",
    "measure_iq_port = qb[\"measure_line\"].physical_channel\n",
    "acquire_port = qb[\"acquire_line\"].physical_channel\n",
    "\n",
    "snippet_measure = simulator.get_snippet(measure_iq_port, start=0, output_length=1e-5)\n",
    "snippet_acquire = simulator.get_snippet(acquire_port, start=0, output_length=1e-5)"
   ]
  },
  {
   "cell_type": "code",
   "execution_count": null,
   "id": "411f9a21",
   "metadata": {},
   "outputs": [],
   "source": [
    "fig, ax = plt.subplots(3, 1, figsize=(5, 5), sharex=True)\n",
    "fig.subplots_adjust(hspace=0.4)\n",
    "\n",
    "time = snippet_measure.time\n",
    "ax[0].plot(time, snippet_measure.wave.real)\n",
    "ax[0].set_ylabel(\"Amplitude\")\n",
    "ax[0].set_title(\"Readout pulse I\")\n",
    "\n",
    "ax[1].plot(time, snippet_measure.wave.imag)\n",
    "ax[1].set_ylabel(\"Amplitude\")\n",
    "ax[1].set_title(\"Readout pulse Q\")\n",
    "\n",
    "time = snippet_acquire.time\n",
    "ax[2].plot(time, snippet_acquire.wave.real)\n",
    "ax[2].set_title(\"QA trigger\")"
   ]
  }
 ],
 "metadata": {
  "hide_input": false,
  "kernelspec": {
   "display_name": "Python 3 (ipykernel)",
   "language": "python",
   "name": "python3"
  },
  "language_info": {
   "codemirror_mode": {
    "name": "ipython",
    "version": 3
   },
   "file_extension": ".py",
   "mimetype": "text/x-python",
   "name": "python",
   "nbconvert_exporter": "python",
   "pygments_lexer": "ipython3",
   "version": "3.12.8"
  },
  "toc": {
   "base_numbering": 1,
   "nav_menu": {},
   "number_sections": true,
   "sideBar": true,
   "skip_h1_title": false,
   "title_cell": "Table of Contents",
   "title_sidebar": "Contents",
   "toc_cell": false,
   "toc_position": {},
   "toc_section_display": true,
   "toc_window_display": false
  },
  "varInspector": {
   "cols": {
    "lenName": 16,
    "lenType": 16,
    "lenVar": 40
   },
   "kernels_config": {
    "python": {
     "delete_cmd_postfix": "",
     "delete_cmd_prefix": "del ",
     "library": "var_list.py",
     "varRefreshCmd": "print(var_dic_list())"
    },
    "r": {
     "delete_cmd_postfix": ") ",
     "delete_cmd_prefix": "rm(",
     "library": "var_list.r",
     "varRefreshCmd": "cat(var_dic_list()) "
    }
   },
   "types_to_exclude": [
    "module",
    "function",
    "builtin_function_or_method",
    "instance",
    "_Feature"
   ],
   "window_display": false
  }
 },
 "nbformat": 4,
 "nbformat_minor": 5
}
