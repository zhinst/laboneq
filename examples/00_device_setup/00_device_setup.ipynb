{
 "cells": [
  {
   "cell_type": "markdown",
   "metadata": {},
   "source": [
    "# Device Setup\n",
    "\n",
    "## Components and Purpose\n",
    "The device setup class in LabOne Q allows you to represent all information on the hardware of your experimental setup.\n",
    "This includes\n",
    "* Instruments i.e. Zurich Instruments' control electronics including\n",
    "  * Serial numbers of the instruments\n",
    "  * User-defined ids to reference each instrument\n",
    "  * Upgradable [device options](https://docs.zhinst.com/labone_q_user_manual/core/functionality_and_concepts/00_device_setup/concepts/01_instrument_options.html)\n",
    "  * Connections between instruments for signal synchronization (e.g. ZSync)\n",
    "* Definition of signal lines, qubits, etc.\n",
    "  * Signal types\n",
    "  * Logical signal lines\n",
    "  * Physical ports\n",
    "  * Other connection options\n",
    "* (Optimal) Information on LabOne data server information used to connect to the instruments\n",
    "  * User-defined id to reference the data server\n",
    "  * IP address\n",
    "  * Port numbers\n",
    "\n",
    "Additional electronics may be part of the setup, such as DC sources or radio-frequency signal generators. These are not included in the descriptor since LabOne Q does not provide drivers for these instruments. Nevertheless, LabOne Q provides an interface to control such instruments in the normal workflow via user-defined callback functions.\n",
    "\n",
    "## Usage Scenarios and Learning Goals\n",
    "When using LabOne Q to run experiments, one will typically define a `DeviceSetup` instance once in the very beginning and later only load and modify such objects when needed.\n",
    "\n",
    "The following sections of this tutorial will guide you through the technical details of the device setup class and demonstrate how to define and use its components.\n",
    "You will find these concepts likely useful when...\n",
    "* creating `DeviceSetup` objects whose components you need to alter often within your notebook\n",
    "* or when defining large device setups programmatically at scale \n",
    "\n",
    "After you gained some familiarity with the device setup class itself we will learn the details of the device descriptor.\n",
    "The device descriptor is a string-based input format the you can use to...\n",
    "* load and/or store an initial definition of a `DeviceSetup` object (without any calibration settings applied)\n",
    "* or initialize device setups of typically small to medium scale\n",
    "\n",
    "In the following we will examine examples of different device setups and finally take a look at some device setup templates that can be loaded and used for as starting point and for prototyping."
   ]
  },
  {
   "cell_type": "markdown",
   "metadata": {},
   "source": [
    "## Initialization and Data Server\n",
    "After importing the `DeviceSetup` class from the standard LabOne Q import ..."
   ]
  },
  {
   "cell_type": "code",
   "execution_count": null,
   "metadata": {},
   "outputs": [],
   "source": [
    "from laboneq.simple import *"
   ]
  },
  {
   "cell_type": "markdown",
   "metadata": {},
   "source": [
    "you can instantiate a device setup object ..."
   ]
  },
  {
   "cell_type": "code",
   "execution_count": null,
   "metadata": {},
   "outputs": [],
   "source": [
    "device_setup = DeviceSetup(\"ZI_QCCS\")"
   ]
  },
  {
   "cell_type": "markdown",
   "metadata": {},
   "source": [
    "and then add information about the data server the instruments of this setup are connected to."
   ]
  },
  {
   "cell_type": "code",
   "execution_count": null,
   "metadata": {},
   "outputs": [],
   "source": [
    "device_setup.add_dataserver(\n",
    "    host=\"111.22.33.44\",\n",
    "    port=\"8004\",\n",
    ")"
   ]
  },
  {
   "cell_type": "markdown",
   "metadata": {},
   "source": [
    "## Instrument Objects\n",
    "The instruments of a device setup are represented by instances of a corresponding instrument class.\n",
    "These objects contain \n",
    "* a user-defined id\n",
    "* the serial number of the instrument\n",
    "* the specific model and upgradeable options (see the [documentation](https://docs.zhinst.com/labone_q_user_manual/core/functionality_and_concepts/00_device_setup/concepts/01_instrument_options.html))\n",
    "* incoming and outgoing connections (see below)\n",
    "\n",
    "The following example shows how to instantiate a SHFQC+ qubit controller in 6-channel configuration with enabled Output Router and Adder option."
   ]
  },
  {
   "cell_type": "code",
   "execution_count": null,
   "metadata": {},
   "outputs": [],
   "source": [
    "SHFQC(uid=\"shfqc\", address=\"dev12345\", device_options=\"SHFQC6/RTR/16W\")"
   ]
  },
  {
   "cell_type": "markdown",
   "metadata": {},
   "source": [
    "The `add_instruments` functionality can be used to include such instrument objects in the device setup instance.\n",
    "With the following example we assemble a device setup consisting of a SHFSG, a SHFQA, and a PQSC using the internal reference clock of the latter."
   ]
  },
  {
   "cell_type": "code",
   "execution_count": null,
   "metadata": {},
   "outputs": [],
   "source": [
    "device_setup.add_instruments(\n",
    "    SHFQA(uid=\"shfqa\", address=\"dev12000\", device_options=\"SHFQA4\"),\n",
    "    SHFSG(uid=\"shfsg\", address=\"dev12001\", device_options=\"SHFSG8/RTR\"),\n",
    "    PQSC(uid=\"pqsc\", address=\"dev10001\", reference_clock_source=\"internal\"),\n",
    ")"
   ]
  },
  {
   "cell_type": "markdown",
   "metadata": {},
   "source": [
    "Note that adding instruments with an existing id is not permitted."
   ]
  },
  {
   "cell_type": "code",
   "execution_count": null,
   "metadata": {},
   "outputs": [],
   "source": [
    "try:\n",
    "    device_setup.add_instruments(PQSC(uid=\"pqsc\"))\n",
    "except:\n",
    "    print(\"LabOneQException as expected: Instrument already in device setup\")"
   ]
  },
  {
   "cell_type": "markdown",
   "metadata": {},
   "source": [
    "### Sampling Rates\n",
    "The sampling rate of the instruments in a setup depends on the specific combination of instruments it comprises.\n",
    "\n",
    "| Setup                   | Sampling rates                     |\n",
    "|-------------------------|------------------------------------|\n",
    "| HDAWG + UHFQA           | HDAWG: 2.4 GSa/s, UHFQA: 1.8 GSa/s |\n",
    "| HDAWG + SHF instruments | 2.0 GSa/s                          |\n",
    "| UHFQA + SHF instruments | not supported                      |"
   ]
  },
  {
   "cell_type": "markdown",
   "metadata": {},
   "source": [
    "## Connections\n",
    "Connections represent either internal connections between instruments (ZSYNC) or signal connections to the quantum element (e.g. logical signal lines to qubits).\n",
    "\n",
    "Connection objects can be generated with the `create_connection` helper function ..."
   ]
  },
  {
   "cell_type": "code",
   "execution_count": null,
   "metadata": {},
   "outputs": [],
   "source": [
    "drive_line = create_connection(\n",
    "    to_signal=\"q0/drive\", ports=\"SGCHANNELS/0/OUTPUT\", type=\"iq\"\n",
    ")"
   ]
  },
  {
   "cell_type": "markdown",
   "metadata": {},
   "source": [
    "and added to a device setup instance with the `add_connection` function."
   ]
  },
  {
   "cell_type": "code",
   "execution_count": null,
   "metadata": {},
   "outputs": [],
   "source": [
    "device_setup.add_connections(\"shfsg\", drive_line)"
   ]
  },
  {
   "cell_type": "markdown",
   "metadata": {},
   "source": [
    "Note, the following\n",
    "* The connection's origin is specified in the `add_connection function` while it's target (here: the logical signal line) is an argument of `create_connection`.\n",
    "* When defining connections for a specific instrument/port refer to this [table](https://docs.zhinst.com/labone_q_user_manual/core/functionality_and_concepts/02_logical_signals/concepts/01_signal_types.html) for possible options\n",
    "\n",
    "Multiple connections from the same instrument can be added at once."
   ]
  },
  {
   "cell_type": "code",
   "execution_count": null,
   "metadata": {},
   "outputs": [],
   "source": [
    "device_setup.add_connections(\n",
    "    \"shfqa\",\n",
    "    create_connection(to_signal=\"q0/measure\", ports=\"QACHANNELS/0/OUTPUT\", type=\"iq\"),\n",
    "    create_connection(\n",
    "        to_signal=\"q0/acquire\", ports=\"QACHANNELS/0/INPUT\", type=\"acquire\"\n",
    "    ),\n",
    ")"
   ]
  },
  {
   "cell_type": "markdown",
   "metadata": {},
   "source": [
    "Defining internal ZSYNC connections is no longer necessary and should be avoided."
   ]
  },
  {
   "cell_type": "markdown",
   "metadata": {},
   "source": [
    "Note, that a common pitfall is a mismatch between the ZSYNC port definition in the device setup and the physical wiring on the PQSC. If the specified port and instrument pairs do not match the actual setup configuration, the software will return an error."
   ]
  },
  {
   "cell_type": "markdown",
   "metadata": {},
   "source": [
    "## Accessing Objects in the Device Setup\n",
    "The device setup allows to retrieve individual instruments..."
   ]
  },
  {
   "cell_type": "code",
   "execution_count": null,
   "metadata": {},
   "outputs": [],
   "source": [
    "device_setup.instrument_by_uid(\"shfqa\")"
   ]
  },
  {
   "cell_type": "markdown",
   "metadata": {},
   "source": [
    "or specific logical signal lines."
   ]
  },
  {
   "cell_type": "code",
   "execution_count": null,
   "metadata": {},
   "outputs": [],
   "source": [
    "device_setup.logical_signal_by_uid(\"q0/measure\")"
   ]
  },
  {
   "cell_type": "markdown",
   "metadata": {},
   "source": [
    "In the [Logical Signals Tutorial](https://docs.zhinst.com/labone_q_user_manual/core/functionality_and_concepts/02_logical_signals/concepts/index.html) you will furthermore learn about the [`Calibration`](https://docs.zhinst.com/labone_q_user_manual/core/functionality_and_concepts/02_logical_signals/tutorials/01_calibration.ipynb) object that is used to apply settings to instrument nodes.\n",
    "The `get_calibration` functionality of the device setup allows you to retrieve such an object containing the current settings."
   ]
  },
  {
   "cell_type": "code",
   "execution_count": null,
   "metadata": {},
   "outputs": [],
   "source": [
    "device_setup.get_calibration()"
   ]
  },
  {
   "cell_type": "markdown",
   "metadata": {},
   "source": [
    "## Device Descriptor\n",
    "The device descriptor is a string format that you can use to define an initialize a device setup.\n",
    "The following shows an example of a device descriptor and how it is used to construct a `DeviceSetup` instance equivalent to that constructed programmatically above.\n",
    "Also see the [options supported by the device descriptor format](https://docs.zhinst.com/labone_q_user_manual/core/functionality_and_concepts/00_device_setup/concepts/00_device_descriptor_options.html) for a complete list."
   ]
  },
  {
   "cell_type": "code",
   "execution_count": null,
   "metadata": {},
   "outputs": [],
   "source": [
    "descriptor = \"\"\"\\\n",
    "instruments:\n",
    "  PQSC:\n",
    "  - address: dev10001\n",
    "    uid: pqsc\n",
    "    options: PQSC\n",
    "  SHFQA:\n",
    "  - address: dev12000\n",
    "    uid: shfqa\n",
    "    options: SHFQA4\n",
    "  SHFSG:\n",
    "  - address: dev12001\n",
    "    uid: shfsg\n",
    "    options: SHFSG8/RTR\n",
    "connections:\n",
    "  shfsg:\n",
    "    - iq_signal: q0/drive\n",
    "      ports: SGCHANNELS/0/OUTPUT\n",
    "  shfqa:\n",
    "    - iq_signal: q0/measure\n",
    "      ports: QACHANNELS/0/OUTPUT\n",
    "    - acquire_signal: q0/acquire\n",
    "      ports: QACHANNELS/0/INPUT\n",
    "\"\"\"\n",
    "\n",
    "device_setup_from_descriptor = DeviceSetup.from_descriptor(\n",
    "    descriptor,\n",
    "    server_host=\"111.22.33.44\",\n",
    "    server_port=\"8004\",\n",
    ")"
   ]
  },
  {
   "cell_type": "markdown",
   "metadata": {},
   "source": [
    "Note, that instrument options are passed via the keyword `options`.\n",
    "This will become mandatory in future versions of LabOne Q.\n",
    "See the [available instrument options](https://docs.zhinst.com/labone_q_user_manual/core/functionality_and_concepts/00_device_setup/concepts/01_instrument_options.html) for details."
   ]
  },
  {
   "cell_type": "markdown",
   "metadata": {},
   "source": [
    "## Storing and Loading Device Setups\n",
    "The `save` functionality can be used to serialize a `DeviceSetup` instance into the human readable json format and store it to a file.  "
   ]
  },
  {
   "cell_type": "code",
   "execution_count": null,
   "metadata": {},
   "outputs": [],
   "source": [
    "from laboneq.simple import save, load"
   ]
  },
  {
   "cell_type": "code",
   "execution_count": null,
   "metadata": {},
   "outputs": [],
   "source": [
    "save(device_setup_from_descriptor, \"saved_device_setup.json\")"
   ]
  },
  {
   "cell_type": "markdown",
   "metadata": {},
   "source": [
    "Correspondingly, the `load` functionality reconstructs a `DeviceSetup` object from a json file."
   ]
  },
  {
   "cell_type": "code",
   "execution_count": null,
   "metadata": {},
   "outputs": [],
   "source": [
    "loaded_device_setup = load(\"saved_device_setup.json\")"
   ]
  },
  {
   "cell_type": "markdown",
   "metadata": {},
   "source": [
    "## Examples"
   ]
  },
  {
   "cell_type": "markdown",
   "metadata": {},
   "source": [
    "### Programmatic Setup Generation\n",
    "Below we show how to construct a large scale device setup for controlling 64 qubits programmatically."
   ]
  },
  {
   "cell_type": "code",
   "execution_count": null,
   "metadata": {},
   "outputs": [],
   "source": [
    "scaled_setup = DeviceSetup(\"my_scaled_setup\")\n",
    "scaled_setup.add_dataserver(host=\"111.22.33.44\", port=\"8004\")\n",
    "scaled_setup.add_instruments(\n",
    "    PQSC(uid=\"pqsc\", address=\"dev10001\", reference_clock_source=\"internal\")\n",
    ")"
   ]
  },
  {
   "cell_type": "markdown",
   "metadata": {},
   "source": [
    "Add drive line signals using an SHFSG for each eight qubits."
   ]
  },
  {
   "cell_type": "code",
   "execution_count": null,
   "metadata": {},
   "outputs": [],
   "source": [
    "for i in range(8):\n",
    "    scaled_setup.add_instruments(SHFSG(uid=f\"shfsg_{i}\", address=f\"dev1212{i}\"))\n",
    "    scaled_setup.add_connections(\n",
    "        f\"shfsg_{i}\",\n",
    "        *[\n",
    "            create_connection(\n",
    "                to_signal=f\"q{i * 8 + _}/drive\", ports=f\"SGCHANNELS/{_}/OUTPUT\"\n",
    "            )\n",
    "            for _ in range(8)\n",
    "        ],\n",
    "    )"
   ]
  },
  {
   "cell_type": "markdown",
   "metadata": {},
   "source": [
    "Likewise, add flux line signals using an HDAWG for eight qubits."
   ]
  },
  {
   "cell_type": "code",
   "execution_count": null,
   "metadata": {},
   "outputs": [],
   "source": [
    "for i in range(8):\n",
    "    scaled_setup.add_instruments(HDAWG(uid=f\"hdawg_{i}\", address=f\"dev876{i}\"))\n",
    "    scaled_setup.add_connections(\n",
    "        f\"hdawg_{i}\",\n",
    "        *[\n",
    "            create_connection(to_signal=f\"q{i * 8 + _}/flux\", ports=f\"SIGOUTS/{_}\")\n",
    "            for _ in range(8)\n",
    "        ],\n",
    "    )"
   ]
  },
  {
   "cell_type": "markdown",
   "metadata": {},
   "source": [
    "Define pairs of measure and acquire signals together, 8 qubits per QA unit with 4 QA units per SHFQA."
   ]
  },
  {
   "cell_type": "code",
   "execution_count": null,
   "metadata": {},
   "outputs": [],
   "source": [
    "for i in range(2):\n",
    "    scaled_setup.add_instruments(SHFQA(uid=f\"shfqa_{i}\", address=f\"dev1234{i}\"))\n",
    "    for j in range(4):\n",
    "        scaled_setup.add_connections(\n",
    "            f\"shfqa_{i}\",\n",
    "            *[\n",
    "                create_connection(\n",
    "                    to_signal=f\"q{i * 32 + j * 8 + _}/measure\",\n",
    "                    ports=f\"QACHANNELS/{j}/OUTPUT\",\n",
    "                )\n",
    "                for _ in range(8)\n",
    "            ],\n",
    "            *[\n",
    "                create_connection(\n",
    "                    to_signal=f\"q{i * 32 + j * 8 + _}/acquire\",\n",
    "                    ports=f\"QACHANNELS/{j}/INPUT\",\n",
    "                )\n",
    "                for _ in range(8)\n",
    "            ],\n",
    "        )"
   ]
  },
  {
   "cell_type": "markdown",
   "metadata": {},
   "source": [
    "We verify that we have defined the logical signal groups q0 to q63, each with a drive, flux, measure, and acquire line, respectively."
   ]
  },
  {
   "cell_type": "code",
   "execution_count": null,
   "metadata": {},
   "outputs": [],
   "source": [
    "for lsg in scaled_setup.logical_signal_groups:\n",
    "    print(lsg, *scaled_setup.logical_signal_groups[lsg].logical_signals.keys())"
   ]
  },
  {
   "cell_type": "markdown",
   "metadata": {},
   "source": [
    "### Device Descriptors for Common Use Cases\n",
    "#### Device Descriptor for PQSC, HDAWG and UHFQA\n",
    "The first example setup comprises one PQSC (for system synchronization), one HDAWG (for qubit control) and one UHFQA (for qubit readout).\n",
    "We use a device descriptor for defining this setup looks as follows."
   ]
  },
  {
   "cell_type": "code",
   "execution_count": null,
   "metadata": {},
   "outputs": [],
   "source": [
    "descriptor = \"\"\"\\\n",
    "dataservers:\n",
    "  my_qccs_dataserver:\n",
    "    host: 111.22.33.44\n",
    "    port: 8004\n",
    "instruments:\n",
    "  HDAWG:\n",
    "  - address: DEV8000\n",
    "    uid: hdawg\n",
    "    options: HDAWG8/CNT/MF/ME/PC/SKW/IQ\n",
    "  UHFQA:\n",
    "  - address: DEV2000\n",
    "    uid: uhfqa\n",
    "    options: UHFQA/AWG/DIG/RUB\n",
    "  PQSC:\n",
    "  - address: DEV10000\n",
    "    uid: pqsc\n",
    "    options: PQSC\n",
    "connections:\n",
    "  hdawg:\n",
    "    - iq_signal: q0/drive\n",
    "      ports: [SIGOUTS/0, SIGOUTS/1]\n",
    "    - rf_signal: q0/flux\n",
    "      ports: [SIGOUTS/2]\n",
    "    - to: uhfqa\n",
    "      port: DIOS/0\n",
    "  uhfqa:\n",
    "    - iq_signal: q0/measure\n",
    "      ports: [SIGOUTS/0, SIGOUTS/1]\n",
    "    - acquire_signal: q0/acquire\n",
    "\"\"\"\n",
    "\n",
    "device_setup_pqsc_hdawg_uhfqa = DeviceSetup.from_descriptor(\n",
    "    descriptor,\n",
    ")"
   ]
  },
  {
   "cell_type": "markdown",
   "metadata": {},
   "source": [
    "Note, that a device descriptor can include information on the dataserver as shown above.\n",
    "However, this information will be overwritten whenever the arguments `server_host`/`server_port` are provided to the `from_descriptor` method. "
   ]
  },
  {
   "cell_type": "markdown",
   "metadata": {},
   "source": [
    "#### Device Descriptor for PQSC and SHF Instruments\n",
    "For setups comprising instruments of the SHF series (SHFSG, SHFQA, SHFQC), the descriptor looks similar to before. Due to the integrated frequency up- and down-conversion, the SHF instruments require only single output ports per logical signal line."
   ]
  },
  {
   "cell_type": "code",
   "execution_count": null,
   "metadata": {},
   "outputs": [],
   "source": [
    "descriptor = \"\"\"\\\n",
    "instruments:\n",
    "  SHFSG:\n",
    "  - address: DEV12000\n",
    "    uid: shfsg\n",
    "    options: SHFSG8/RTR\n",
    "  SHFQA:\n",
    "  - address: DEV12001\n",
    "    uid: shfqa\n",
    "    options: SHFQA2/16W\n",
    "  PQSC:\n",
    "  - address: DEV10000\n",
    "    uid: pqsc\n",
    "    options: PQSC\n",
    "connections:\n",
    "  shfsg:\n",
    "    - iq_signal: q0/drive\n",
    "      ports: SGCHANNELS/0/OUTPUT\n",
    "  shfqa:\n",
    "    - iq_signal: q0/measure\n",
    "      ports: QACHANNELS/0/OUTPUT\n",
    "    - acquire_signal: q0/acquire\n",
    "      ports: QACHANNELS/0/INPUT\n",
    "\"\"\"\n",
    "\n",
    "device_setup_pqsc_shf_instruments = DeviceSetup.from_descriptor(\n",
    "    descriptor,\n",
    "    server_host=\"111.22.33.44\",\n",
    "    server_port=\"8004\",\n",
    ")"
   ]
  },
  {
   "cell_type": "markdown",
   "metadata": {},
   "source": [
    "#### Device Descriptor for Single HDAWG and Single UHFQA\n",
    "Similarly to device setups with a PQSC, the descriptor contains information about the instruments, the connections and the logical signal lines.\n",
    "All available keywords for e.g. signal types stay the same."
   ]
  },
  {
   "cell_type": "code",
   "execution_count": null,
   "metadata": {},
   "outputs": [],
   "source": [
    "descriptor = \"\"\"\\\n",
    "instruments:\n",
    "  HDAWG:\n",
    "  - address: dev8000\n",
    "    uid: hdawg\n",
    "    options: HDAWG8/CNT/MF/ME/PC/SKW/IQ\n",
    "  UHFQA:\n",
    "  - address: dev2000\n",
    "    uid: uhfqa\n",
    "    options: UHFQA/AWG/DIG/RUB\n",
    "connections:\n",
    "  hdawg:\n",
    "    - iq_signal: q0/drive\n",
    "      ports: [SIGOUTS/0, SIGOUTS/1]\n",
    "    - to: uhfqa\n",
    "      port: DIOS/0\n",
    "  uhfqa:\n",
    "    - iq_signal: q0/measure\n",
    "      ports: [SIGOUTS/0, SIGOUTS/1]\n",
    "    - acquire_signal: q0/acquire\n",
    "\"\"\"\n",
    "\n",
    "device_setup_small = DeviceSetup.from_descriptor(\n",
    "    descriptor,\n",
    "    server_host=\"111.22.33.44\",\n",
    "    server_port=\"8004\",\n",
    ")"
   ]
  },
  {
   "cell_type": "markdown",
   "metadata": {},
   "source": [
    "#### Device Descriptor for a Single HDAWG\n",
    "The descriptor for a standalone instrument setup such as a single HDAWG is shown below."
   ]
  },
  {
   "cell_type": "code",
   "execution_count": null,
   "metadata": {},
   "outputs": [],
   "source": [
    "descriptor = \"\"\"\\\n",
    "instruments:\n",
    "  HDAWG:\n",
    "  - address: dev8000\n",
    "    uid: hdawg\n",
    "    options: HDAWG8/CNT/MF/ME/PC/SKW/IQ\n",
    "connections:\n",
    "  hdawg:\n",
    "    - iq_signal: q0/drive\n",
    "      ports: [SIGOUTS/0, SIGOUTS/1]\n",
    "    - rf_signal: q0/flux\n",
    "      ports: [SIGOUTS/2]\n",
    "\"\"\"\n",
    "\n",
    "device_single_hdawg = DeviceSetup.from_descriptor(\n",
    "    descriptor,\n",
    "    server_host=\"111.22.33.44\",\n",
    "    server_port=\"8004\",\n",
    ")"
   ]
  },
  {
   "cell_type": "markdown",
   "metadata": {},
   "source": [
    "In such a setup, the HDAWG uses its internal reference clock by default."
   ]
  }
 ],
 "metadata": {
  "kernelspec": {
   "display_name": "laboneq_310",
   "language": "python",
   "name": "python3"
  },
  "language_info": {
   "codemirror_mode": {
    "name": "ipython",
    "version": 3
   },
   "file_extension": ".py",
   "mimetype": "text/x-python",
   "name": "python",
   "nbconvert_exporter": "python",
   "pygments_lexer": "ipython3",
   "version": "3.10.16"
  }
 },
 "nbformat": 4,
 "nbformat_minor": 2
}
