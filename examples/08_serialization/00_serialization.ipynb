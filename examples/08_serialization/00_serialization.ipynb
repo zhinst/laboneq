{
 "cells": [
  {
   "cell_type": "code",
   "metadata": {
    "ExecuteTime": {
     "end_time": "2025-03-21T12:41:50.974962Z",
     "start_time": "2025-03-21T12:41:49.691651Z"
    }
   },
   "source": [
    "from __future__ import annotations\n",
    "\n",
    "import attrs\n",
    "\n",
    "from laboneq.serializers.base import VersionedClassSerializer\n",
    "from laboneq.simple import QuantumElement\n",
    "from laboneq.serializers.serializer_registry import serializer\n",
    "from laboneq.serializers.types import (\n",
    "    DeserializationOptions,\n",
    "    JsonSerializableType,\n",
    "    SerializationOptions,\n",
    ")\n",
    "from laboneq.serializers.core import import_cls"
   ],
   "outputs": [],
   "execution_count": 1
  },
  {
   "cell_type": "markdown",
   "metadata": {},
   "source": [
    "# New serializers in LabOneQ\n",
    "\n",
    "The new LabOne Q serializer allows for more flexibility in the serialization process.\n",
    "\n",
    "It is now possible to serialize and deserialize objects that are not part of the standard library. Such features are useful, for example, when users want to implement new [quantum elements](https://docs.zhinst.com/labone_q_user_manual/core/functionality_and_concepts/03_sections_pulses_and_quantum_operations/tutorials/04_quantum_elements.html) or [quantum operations](https://docs.zhinst.com/labone_q_user_manual/core/functionality_and_concepts/03_sections_pulses_and_quantum_operations/concepts/08_quantum_operations.html) classes.\n",
    "\n",
    "When the API of the objects changes, new versions of the serialization can be added to the serializer. The serializer can then handle the different versions of the objects automatically and hence maintain the backward compatibility."
   ]
  },
  {
   "cell_type": "markdown",
   "metadata": {},
   "source": [
    "The new serializer engine provides generic methods for saving and loading any objects that are supported for serialization. Let's import them.\n"
   ]
  },
  {
   "cell_type": "code",
   "metadata": {
    "ExecuteTime": {
     "end_time": "2025-03-21T12:41:50.979575Z",
     "start_time": "2025-03-21T12:41:50.977876Z"
    }
   },
   "source": [
    "from laboneq.serializers import from_dict, to_dict, to_json, from_json, save, load"
   ],
   "outputs": [],
   "execution_count": 2
  },
  {
   "cell_type": "markdown",
   "metadata": {},
   "source": [
    "If you want to serialize an object to a dictionary form, just call `to_dict()`. For example, to serialize a `QuantumElement` object ,"
   ]
  },
  {
   "cell_type": "code",
   "metadata": {
    "ExecuteTime": {
     "end_time": "2025-03-21T12:41:51.078650Z",
     "start_time": "2025-03-21T12:41:51.074398Z"
    }
   },
   "source": [
    "q0 = QuantumElement(\"q0\")\n",
    "serialized_q0 = to_dict(q0)\n",
    "serialized_q0"
   ],
   "outputs": [
    {
     "data": {
      "text/plain": [
       "{'__serializer__': 'laboneq.serializers.implementations.QuantumElementSerializer',\n",
       " '__version__': 1,\n",
       " '__data__': {'quantum_element_class': 'laboneq.dsl.quantum.quantum_element.QuantumElement',\n",
       "  'uid': 'q0',\n",
       "  'signals': {},\n",
       "  'parameter_class': 'laboneq.dsl.quantum.quantum_element.QuantumParameters',\n",
       "  'parameters': {}},\n",
       " '__creator__': ['laboneq', '2.49.0']}"
      ]
     },
     "execution_count": 3,
     "metadata": {},
     "output_type": "execute_result"
    }
   ],
   "execution_count": 3
  },
  {
   "cell_type": "markdown",
   "metadata": {},
   "source": [
    "It worths mentioning what is contained in the returned dictionary. \n",
    "Perhaps the most important field is `__data__` which contains information required to initialize the serialized objects again.\n",
    "The meta field `__serializer__`, `__version__` helps to reload the objects with correct versioning. We will learn more about these fields in the next section.\n",
    "`__creator__` tells us the version of LabOne Q that performs the serialization. This is not crucial for the serialization process but could be useful for troubleshooting. \n",
    "\n",
    "Please note that the returned dictionary is not directly Json-serializable as it may contain numpy arrays which requires a third party library such as `orjson` to convert it to a json. If users would like to serialize the object to json directly, consider using `to_json` that will be explained shortly."
   ]
  },
  {
   "metadata": {},
   "cell_type": "code",
   "source": "serialized_q0",
   "outputs": [],
   "execution_count": null
  },
  {
   "cell_type": "markdown",
   "metadata": {},
   "source": [
    "And to load the object back,"
   ]
  },
  {
   "cell_type": "code",
   "metadata": {},
   "source": [
    "loaded_q0 = from_dict(serialized_q0)\n",
    "loaded_q0"
   ],
   "outputs": [],
   "execution_count": null
  },
  {
   "cell_type": "markdown",
   "metadata": {},
   "source": [
    "`to_json` and `from_json` can be used in a similar way to convert objects to/from byte strings. Serializing objects to a byte strings could be useful when we want to send them over a network."
   ]
  },
  {
   "cell_type": "code",
   "metadata": {},
   "source": [
    "byte_string_q0 = to_json(q0)\n",
    "byte_string_q0"
   ],
   "outputs": [],
   "execution_count": null
  },
  {
   "cell_type": "code",
   "metadata": {},
   "source": [
    "loaded_q0 = from_json(byte_string_q0)\n",
    "loaded_q0"
   ],
   "outputs": [],
   "execution_count": null
  },
  {
   "cell_type": "markdown",
   "metadata": {},
   "source": [
    "Last but not least, we can convert objects to byte strings and save it to a file by using `save`."
   ]
  },
  {
   "cell_type": "code",
   "metadata": {
    "ExecuteTime": {
     "end_time": "2025-03-21T12:41:51.202042Z",
     "start_time": "2025-03-21T12:41:51.199536Z"
    }
   },
   "source": [
    "save(q0, \"q0.json\")"
   ],
   "outputs": [],
   "execution_count": 8
  },
  {
   "cell_type": "markdown",
   "metadata": {},
   "source": [
    "And to load it back,"
   ]
  },
  {
   "cell_type": "code",
   "metadata": {},
   "source": [
    "loaded_q0 = load(\"q0.json\")\n",
    "loaded_q0"
   ],
   "outputs": [],
   "execution_count": null
  },
  {
   "cell_type": "markdown",
   "metadata": {},
   "source": [
    "Another different aspect of the new serializer is that the serializing is decoupled from data classes. A serializer class must be written for each data class that we want to support serialization for.\n",
    "\n",
    "LabOne Q provides a global default serializer registry that already contains serializers for some of the LabOne Q objects.\n",
    "\n",
    "The currently supported objects for serialization are:\n",
    "* Python built-in data types\n",
    "* Numpy arrays\n",
    "* QPU\n",
    "* QuantumParameters\n",
    "* QuantumElement\n",
    "* RunExperimentResults\n",
    "* Workflow\n",
    "* Workflow Namespace\n",
    "\n",
    "Note that when encountering LabOne Q objects that are not in this list, and hence not supported directly by one of the new serializers, the new serialization engine will resort to use the classic versions of the serializers to do the job. In the future versions of LabOne Q, we are going to replace the old serializers with the new ones, so we won't cover the old serializers more in this tutorial.\n",
    "\n",
    "In the following sections, we will learn how to write a new serializer and add it into the serializer registry."
   ]
  },
  {
   "cell_type": "markdown",
   "metadata": {},
   "source": [
    "# How to write and register new serializers\n",
    "\n",
    "A serializer must be written for any new class that does not have an existing serializer implemented for itself or its parent classes.\n",
    "\n",
    "We will learn how to write a new serializer class by actually writing one for the `QuantumElement` class and call it `QuantumElementSerializer`.\n",
    "\n",
    "<div class=\"alert alert-block alert-info\">\n",
    "<b>Note:</b>\n",
    "The serializer for the `QuantumElement` class is already implemented in the `laboneq` package. You can immediately save and load `QuantumElement` without writing a new one.\n",
    "This is just an example to illustrate how to write a new serializer.\n",
    "</div>\n",
    "\n",
    "\n",
    "\n"
   ]
  },
  {
   "cell_type": "markdown",
   "metadata": {},
   "source": [
    "The new serializer class must inherit from `VersionedClassSerializer` and must define the two class variables `SERIALIZER_ID` and `VERSION`.\n",
    "\n",
    "Specifying `SERIALIZER_ID` as the path for the class could be helpful when the serializer is not registered in the global `serializer_registry`. In this case, the serialization engine imports the class of the object using the path specified in `SERIALIZER_ID`.\n",
    "\n",
    "We should not forget to add our new serializer to `serializer_registry`. This can be done via the decorator `@serializer`. "
   ]
  },
  {
   "cell_type": "code",
   "metadata": {
    "ExecuteTime": {
     "end_time": "2025-03-21T12:41:51.228277Z",
     "start_time": "2025-03-21T12:41:51.226245Z"
    }
   },
   "source": [
    "@serializer(types=[QuantumElement], public=True)\n",
    "class QuantumElementSerializer(VersionedClassSerializer[QuantumElement]):\n",
    "    SERIALIZER_ID = \"laboneq.serializers.implementations.QuantumElementSerializer\"\n",
    "    VERSION = 1"
   ],
   "outputs": [],
   "execution_count": 10
  },
  {
   "cell_type": "markdown",
   "metadata": {},
   "source": [
    "In addition, we need to implement the following methods for the serializer: `to_dict` and `from_dict_vx`, where `x` is the version of the serializer.\n",
    "\n",
    "Let's first look at the `to_dict` method, which is supposed to return a dictionary with three compulsory fields: `__serializer__`, `__version__`, and `__data__`. \n",
    "\n",
    "The former two are metadata and required for selecting the right serializer with the correct version.\n",
    "\n",
    "On the other hand, `__data__` contains information required for loading the objects properly. Peeking at the definition of the  `QuantumElement` class, we know that we need the following attributes for creating a `QuantumElement` instance: `uid`, `signals`, and `parameters`. \n",
    "\n",
    "Because both `uid` and `signals` are Python primitive data types, we could simply assign the corresponding values `obj.uid` and `obj.signals`. \n",
    "\n",
    "We, however, need both the class name and the serialized form for abstract data types such as `parameters`. \n",
    "\n",
    "Furthermore, we should not forget about the name of the class we are serializing which goes into `quantum_element_class`.\n"
   ]
  },
  {
   "cell_type": "code",
   "metadata": {
    "ExecuteTime": {
     "end_time": "2025-03-21T12:41:51.234854Z",
     "start_time": "2025-03-21T12:41:51.232929Z"
    }
   },
   "source": [
    "@classmethod\n",
    "def to_dict(\n",
    "    cls, obj: QuantumElement, options: SerializationOptions | None = None\n",
    ") -> JsonSerializableType:\n",
    "    return {\n",
    "        \"__serializer__\": cls.serializer_id(),\n",
    "        \"__version__\": cls.version(),\n",
    "        \"__data__\": {\n",
    "            \"quantum_element_class\": f\"{obj.__class__.__module__}.{obj.__class__.__name__}\",\n",
    "            \"uid\": obj.uid,\n",
    "            \"signals\": obj.signals,\n",
    "            \"parameter_class\": f\"{obj.parameters.__class__.__module__}.{obj.parameters.__class__.__name__}\",\n",
    "            \"parameters\": attrs.asdict(obj.parameters),\n",
    "        },\n",
    "    }"
   ],
   "outputs": [],
   "execution_count": 11
  },
  {
   "cell_type": "markdown",
   "metadata": {},
   "source": [
    "Let's continue with the deserializing method `from_dict_v1`, which initializes a new `QuantumElement` object with inputs taken from the fields of `__data__`"
   ]
  },
  {
   "cell_type": "code",
   "metadata": {
    "ExecuteTime": {
     "end_time": "2025-03-21T12:41:51.240948Z",
     "start_time": "2025-03-21T12:41:51.238874Z"
    }
   },
   "source": [
    "@classmethod\n",
    "def from_dict_v1(\n",
    "    cls,\n",
    "    serialized_data: JsonSerializableType,\n",
    "    options: DeserializationOptions | None = None,\n",
    ") -> QuantumElement:\n",
    "    data = serialized_data[\"__data__\"]\n",
    "    qe_cls = import_cls(data[\"quantum_element_class\"])\n",
    "    param_cls = import_cls(data[\"parameter_class\"])\n",
    "    return qe_cls(\n",
    "        uid=data[\"uid\"],\n",
    "        signals=data[\"signals\"],\n",
    "        parameters=param_cls(**from_dict(data[\"parameters\"])),\n",
    "    )"
   ],
   "outputs": [],
   "execution_count": 12
  },
  {
   "cell_type": "markdown",
   "metadata": {},
   "source": [
    "## How to add a new version to an existing serializer and how to deal with API changes.\n",
    "\n",
    "Now let's imagine we'd like to rename `parameters` to `attributes`. This certainly breaks the backwards compatibility of `QuantumElement` class and requires us to update its serializer, `QuantumElementSerializer`.\n",
    "\n",
    "We first need to increase `VERSION` of the serializer to 2 and update `to_dict` accordingly."
   ]
  },
  {
   "cell_type": "code",
   "metadata": {
    "ExecuteTime": {
     "end_time": "2025-03-21T12:41:51.247219Z",
     "start_time": "2025-03-21T12:41:51.244956Z"
    }
   },
   "source": [
    "@serializer(types=[QuantumElement], public=True)\n",
    "class QuantumElementSerializer(VersionedClassSerializer[QuantumElement]):\n",
    "    SERIALIZER_ID = \"laboneq.serializers.implementations.QuantumElementSerializer\"\n",
    "    VERSION = 2\n",
    "\n",
    "    @classmethod\n",
    "    def to_dict(\n",
    "        cls, obj: QuantumElement, options: SerializationOptions | None = None\n",
    "    ) -> JsonSerializableType:\n",
    "        return {\n",
    "            \"__serializer__\": cls.serializer_id(),\n",
    "            \"__version__\": cls.version(),\n",
    "            \"__data__\": {\n",
    "                \"quantum_element_class\": f\"{obj.__class__.__module__}.{obj.__class__.__name__}\",\n",
    "                \"uid\": obj.uid,\n",
    "                \"signals\": obj.signals,\n",
    "                \"attribute_class\": f\"{obj.attributes.__class__.__module__}.{obj.attributes.__class__.__name__}\",\n",
    "                \"attribute\": attrs.asdict(obj.attributes),\n",
    "            },\n",
    "        }"
   ],
   "outputs": [],
   "execution_count": 13
  },
  {
   "cell_type": "markdown",
   "metadata": {},
   "source": [
    "We then add `from_dict_v2` using the new signature of `QuantumElement` class."
   ]
  },
  {
   "cell_type": "code",
   "metadata": {
    "ExecuteTime": {
     "end_time": "2025-03-21T12:41:51.253432Z",
     "start_time": "2025-03-21T12:41:51.251336Z"
    }
   },
   "source": [
    "@classmethod\n",
    "def from_dict_v2(\n",
    "    cls,\n",
    "    serialized_data: JsonSerializableType,\n",
    "    options: DeserializationOptions | None = None,\n",
    ") -> QuantumElement:\n",
    "    data = serialized_data[\"__data__\"]\n",
    "    qe_cls = import_cls(data[\"quantum_element_class\"])\n",
    "    param_cls = import_cls(data[\"attribute_class\"])\n",
    "    return qe_cls(\n",
    "        uid=data[\"uid\"],\n",
    "        signals=data[\"signals\"],\n",
    "        attribute=param_cls(**from_dict(data[\"attribute\"])),\n",
    "    )"
   ],
   "outputs": [],
   "execution_count": 14
  }
 ],
 "metadata": {
  "kernelspec": {
   "display_name": "laboneq",
   "language": "python",
   "name": "python3"
  },
  "language_info": {
   "codemirror_mode": {
    "name": "ipython",
    "version": 3
   },
   "file_extension": ".py",
   "mimetype": "text/x-python",
   "name": "python",
   "nbconvert_exporter": "python",
   "pygments_lexer": "ipython3",
   "version": "3.10.0"
  }
 },
 "nbformat": 4,
 "nbformat_minor": 2
}
