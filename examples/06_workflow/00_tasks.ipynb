{
 "cells": [
  {
   "cell_type": "markdown",
   "id": "d15d4ecd",
   "metadata": {},
   "source": [
    "# Tasks"
   ]
  },
  {
   "cell_type": "markdown",
   "id": "ddad75a6",
   "metadata": {},
   "source": [
    "`Tasks` are normal Python functions that serve as processing steps inside [Workflows](https://docs.zhinst.com/labone_q_user_manual/core/functionality_and_concepts/07_workflow/index.html). \n",
    "\n",
    "To turn a Python function into a task, simply decorate it with `@workflow.task`:"
   ]
  },
  {
   "cell_type": "code",
   "execution_count": null,
   "id": "ecd0790a-26bf-45b1-8ce4-fd922f36c59d",
   "metadata": {},
   "outputs": [],
   "source": [
    "from laboneq import workflow\n",
    "\n",
    "\n",
    "@workflow.task\n",
    "def add(a, b):\n",
    "    return a + b"
   ]
  },
  {
   "cell_type": "markdown",
   "id": "afe07e74-ed4a-4bef-9c93-10d00c2e794a",
   "metadata": {},
   "source": [
    "When used by themselves, `Tasks` behave like regular Python functions:"
   ]
  },
  {
   "cell_type": "code",
   "execution_count": null,
   "id": "0b03d9c3-6974-46a0-86e7-27400b3525a6",
   "metadata": {},
   "outputs": [],
   "source": [
    "add(1, 2)"
   ]
  },
  {
   "cell_type": "markdown",
   "id": "ac146563-543c-45b1-be4e-3c768018b958",
   "metadata": {},
   "source": [
    "When a `Task` is used inside a `Workflow`, its input and output parameters are stored in the result of the executed `Workflow`; \n",
    "check out the [Workflow tutorial](https://docs.zhinst.com/labone_q_user_manual/core/functionality_and_concepts/07_workflow/01_workflows.html) to see how this works. \n",
    "\n",
    "The inputs and outputs of the `Task` are also saved\n",
    "to disk if a `FolderStore` has been configured; see the [LogBook tutorial](https://docs.zhinst.com/labone_q_user_manual/applications_library/tutorials/sources/logbooks.html#the-folderstore).\n",
    "\n",
    "A `Task` can be configured to never have it's inputs and outputs saved to disk during the execution of a `Workflow`. This is done when the `Task` is created,\n",
    "using the `save=False` argument:"
   ]
  },
  {
   "cell_type": "code",
   "execution_count": null,
   "id": "23faa6b7-c25a-43e1-a4ab-826364027181",
   "metadata": {},
   "outputs": [],
   "source": [
    "@workflow.task(save=False)\n",
    "def add(a, b):\n",
    "    return a + b"
   ]
  },
  {
   "cell_type": "markdown",
   "id": "d04f80d4-f41d-4fb1-94e4-32153248429f",
   "metadata": {},
   "source": [
    "**Note**: When used inside a `Workflow`, a `Task` **does not** behave as a simple Python function anymore. Instead, it become an instance \n",
    "of a [Reference class](https://docs.zhinst.com/labone_q_user_manual/core/reference/workflow/reference.html#laboneq.workflow.reference.Reference), \n",
    "which gets resolved to the Python function implemented by the `Task` only when the `Workflow` is executed. This is explained in more detail in the\n",
    "tutorial on the [Workflow Syntax](https://docs.zhinst.com/labone_q_user_manual/core/functionality_and_concepts/07_workflow/02_workflow_syntax.html)."
   ]
  },
  {
   "cell_type": "markdown",
   "id": "7cb2e42d",
   "metadata": {},
   "source": [
    "### Ready-Made Tasks in LabOne Q\n",
    "\n",
    "When running quantum-computing experiments with LabOne Q there are usually a few higher-level steps that one has to perform:\n",
    "\n",
    "- Build an [Experiment](https://docs.zhinst.com/labone_q_user_manual/core/functionality_and_concepts/04_experiment_sequence/concepts/00_experiment.html) describing the\n",
    "    pulse-sequence description of your measurement.\n",
    "- Compile the `Experiment`.\n",
    "- Run the `Experiment`.\n",
    "\n",
    "LabOne Q provides ready-made `Tasks` for [compiling](https://docs.zhinst.com/labone_q_user_manual/core/reference/workflow/tasks/compile_experiment.html) \n",
    "and [running](https://docs.zhinst.com/labone_q_user_manual/core/reference/workflow/tasks/run_experiment.html#laboneq.workflow.tasks.run_experiment.run_experiment) \n",
    "`Experiments`, and for combining several [Results](https://docs.zhinst.com/labone_q_user_manual/core/reference/workflow/tasks/collect_experiment_results.html) \n",
    "into one single instance.\n",
    "\n",
    "Let's have a look at the first two: "
   ]
  },
  {
   "cell_type": "code",
   "execution_count": null,
   "id": "65b99a47-230a-4d79-b9b0-e179a8550dd1",
   "metadata": {},
   "outputs": [],
   "source": [
    "from laboneq.workflow.tasks import compile_experiment, run_experiment"
   ]
  },
  {
   "cell_type": "markdown",
   "id": "7265c07f-969b-43b8-912c-a3269f6cf078",
   "metadata": {},
   "source": [
    "Inspect the docstrings"
   ]
  },
  {
   "cell_type": "code",
   "execution_count": null,
   "id": "5d63193b",
   "metadata": {
    "scrolled": true
   },
   "outputs": [],
   "source": [
    "# docstring\n",
    "compile_experiment?"
   ]
  },
  {
   "cell_type": "code",
   "execution_count": null,
   "id": "572a2b10-22f6-48f8-a2a0-612119be5eb9",
   "metadata": {
    "scrolled": true
   },
   "outputs": [],
   "source": [
    "# docstring\n",
    "run_experiment?"
   ]
  },
  {
   "cell_type": "markdown",
   "id": "d7f9ae6c-766f-4cbd-9b21-31cba516845e",
   "metadata": {},
   "source": [
    "Inspect the source code"
   ]
  },
  {
   "cell_type": "code",
   "execution_count": null,
   "id": "1404fa8a",
   "metadata": {
    "scrolled": true
   },
   "outputs": [],
   "source": [
    "# source code\n",
    "compile_experiment.src"
   ]
  },
  {
   "cell_type": "code",
   "execution_count": null,
   "id": "93d6dbda-54f4-446c-9b30-2aa86f52007a",
   "metadata": {
    "scrolled": true
   },
   "outputs": [],
   "source": [
    "# source code\n",
    "run_experiment.src"
   ]
  },
  {
   "cell_type": "markdown",
   "id": "b49924f1-b691-48da-90ee-a0467aae7617",
   "metadata": {},
   "source": [
    "#### Tasks for Building an Experiment"
   ]
  },
  {
   "cell_type": "markdown",
   "id": "5f6ec5a7-9d62-4a2c-b782-e83ba5bf1da7",
   "metadata": {},
   "source": [
    "The `Task` for building an `Experiment` pulse sequence depends on the quantum experiment that is being created. \n",
    "\n",
    "In LabOne Q, we call these tasks `create_experiment`. You can find our implementations of such tasks for many common quantum-computing\n",
    "experiments in the [LabOne Q Applications Library](https://docs.zhinst.com/labone_q_user_manual/applications_library/how-to-guides/sources/01_superconducting_qubits/index.html#workflow-based-experiments). Check them out!"
   ]
  },
  {
   "cell_type": "markdown",
   "id": "59cf03e6",
   "metadata": {},
   "source": [
    "### Why have tasks at all?\n",
    "\n",
    "Using `Tasks` and `Workflows` comes with many advantages: \n",
    "\n",
    "* Being able to produce a well-organised experiment record when tasks are used in workflows; see [here](https://docs.zhinst.com/labone_q_user_manual/core/functionality_and_concepts/07_workflow/01_workflows.html#inspect-the-results).\n",
    "* Being able to [supply options](https://docs.zhinst.com/labone_q_user_manual/core/functionality_and_concepts/07_workflow/03_options.html) to tasks in a structured way.\n",
    "* Being able to [recover partial results when errors occur](https://docs.zhinst.com/labone_q_user_manual/core/functionality_and_concepts/07_workflow/01_workflows.html#inspect-a-workflow-that-has-failed).\n",
    "* Being able to [pause and resume workflow execution](https://docs.zhinst.com/labone_q_user_manual/core/functionality_and_concepts/07_workflow/01_workflows.html#run-a-partial-workflow).\n",
    "* Being able to build complex dynamic workflows that can [execute tasks conditionally](https://docs.zhinst.com/labone_q_user_manual/core/functionality_and_concepts/07_workflow/01_workflows.html#conditionals-and-workflow-output)\n",
    "  or [run tasks in loops](https://docs.zhinst.com/labone_q_user_manual/core/functionality_and_concepts/07_workflow/01_workflows.html#iteration-in-workflow)."
   ]
  }
 ],
 "metadata": {
  "kernelspec": {
   "display_name": "Python 3 (ipykernel)",
   "language": "python",
   "name": "python3"
  },
  "language_info": {
   "codemirror_mode": {
    "name": "ipython",
    "version": 3
   },
   "file_extension": ".py",
   "mimetype": "text/x-python",
   "name": "python",
   "nbconvert_exporter": "python",
   "pygments_lexer": "ipython3",
   "version": "3.12.8"
  }
 },
 "nbformat": 4,
 "nbformat_minor": 5
}
