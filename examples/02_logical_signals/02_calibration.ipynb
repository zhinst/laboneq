{
 "cells": [
  {
   "cell_type": "markdown",
   "metadata": {},
   "source": [
    "# Calibration\n",
    "\n",
    "## Purpose\n",
    "The calibration class in LabOne Q allows to hierarchically organize settings in order to \n",
    "* apply settings to the instruments of the device setup\n",
    "* alter those settings temporarily for the duration of an experiment\n",
    "* sweep the value of specific nodes in real-time or near-time sweeps\n",
    "\n",
    "Objects of this class are typically structured hierarchically and need to be compatible with the device setup or experiment signals they are applied to.\n",
    "\n",
    "## Usage Scenarios and Learning Goals\n",
    "In the following tutorial you will first learn how to access the elements of a device setup to which calibrations can be applied.\n",
    "This is then used to construct and apply calibration objects to the device setup.\n",
    "Subsequently, you will see how experiment signals can be calibrated and how these calibrations can be used to implement sweeps or specific signal settings.   "
   ]
  },
  {
   "cell_type": "markdown",
   "metadata": {},
   "source": [
    "## Imports and Initialization\n",
    "The `Calibration` class is one of the primary components of LabOne Q's DSL and there available from the standard LabOne Q import."
   ]
  },
  {
   "cell_type": "code",
   "execution_count": null,
   "metadata": {},
   "outputs": [],
   "source": [
    "from laboneq.contrib.example_helpers.generate_device_setup import (\n",
    "    generate_device_setup_qubits,\n",
    ")\n",
    "from laboneq.contrib.example_helpers.reference_experiments import (\n",
    "    make_reference_experiment,\n",
    ")\n",
    "from laboneq.simple import *"
   ]
  },
  {
   "cell_type": "markdown",
   "metadata": {},
   "source": [
    "To get started, we will furthermore use an externally defined device setup object. "
   ]
  },
  {
   "cell_type": "code",
   "execution_count": null,
   "metadata": {},
   "outputs": [],
   "source": [
    "# specify the number of qubits you want to use\n",
    "number_of_qubits = 1\n",
    "\n",
    "# generate the device setup and the qubit objects using a helper function\n",
    "device_setup, qubits = generate_device_setup_qubits(\n",
    "    number_qubits=number_of_qubits,\n",
    "    pqsc=[{\"serial\": \"DEV10001\"}],\n",
    "    hdawg=[\n",
    "        {\n",
    "            \"serial\": \"DEV8001\",\n",
    "            \"zsync\": 0,\n",
    "            \"number_of_channels\": 8,\n",
    "            \"options\": None,\n",
    "        }\n",
    "    ],\n",
    "    shfqa=[\n",
    "        {\n",
    "            \"serial\": \"DEV12001\",\n",
    "            \"zsync\": 1,\n",
    "            \"readout_multiplex\": 6,\n",
    "            \"options\": None,\n",
    "        }\n",
    "    ],\n",
    "    shfsg=[\n",
    "        {\n",
    "            \"serial\": \"DEV12002\",\n",
    "            \"zsync\": 2,\n",
    "            \"number_of_channels\": 8,\n",
    "            \"options\": None,\n",
    "        }\n",
    "    ],\n",
    "    include_flux_lines=True,\n",
    "    server_host=\"localhost\",\n",
    "    setup_name=f\"my_{number_of_qubits}_tunable_qubit_setup\",\n",
    ")"
   ]
  },
  {
   "cell_type": "markdown",
   "metadata": {},
   "source": [
    "The `Calibration` objects used to change settings of this device setup need to contain components with compatible paths and types.\n",
    "We therefore look at the calibratable elements of the device setup first and then construct a matching `Calibration` instance from this information. \n",
    "\n",
    "The `get_calibration` function of a device setup object returns a `Calibration` instance that represents an up to date device setup configuration (see the [Device Setup Tutorial](\"01_device_setup.ipynb\"))."
   ]
  },
  {
   "cell_type": "code",
   "execution_count": null,
   "metadata": {},
   "outputs": [],
   "source": [
    "calibration = device_setup.get_calibration()"
   ]
  },
  {
   "cell_type": "markdown",
   "metadata": {},
   "source": [
    "The calibration objects obtained this way serve as a baseline calibration of the hardware setup.\n",
    "\n",
    "Calibration objects are internally organized in terms of calibration items.\n",
    "We can access the paths of these items as follows:"
   ]
  },
  {
   "cell_type": "code",
   "execution_count": null,
   "metadata": {},
   "outputs": [],
   "source": [
    "for calibration_item in calibration:\n",
    "    print(calibration_item)"
   ]
  },
  {
   "cell_type": "markdown",
   "metadata": {},
   "source": [
    "For each of these calibration items we can obtain its respective base line calibration from the `device_setup` directly. For example:"
   ]
  },
  {
   "cell_type": "code",
   "execution_count": null,
   "metadata": {},
   "outputs": [],
   "source": [
    "calibration_item = \"logical_signal_groups/q0/acquire\"\n",
    "print(device_setup.get_calibration(calibration_item))"
   ]
  },
  {
   "cell_type": "markdown",
   "metadata": {},
   "source": [
    "Note, that the `device_setup` instance used here is still uncalibrated so that the `get_calibration` function returns `None` at this point.  "
   ]
  },
  {
   "cell_type": "markdown",
   "metadata": {},
   "source": [
    "## Calibratables\n",
    "Looking at the above list of calibration items in `device_setup`, we notice two types of such \\\"calibratables\\\", Logical Signals and Physical Channels."
   ]
  },
  {
   "cell_type": "markdown",
   "metadata": {},
   "source": [
    "\n",
    "### Logical Signals\n",
    "Logical signals are organized by logical signal groups and can e.g. be accessed and inspected as follows."
   ]
  },
  {
   "cell_type": "code",
   "execution_count": null,
   "metadata": {},
   "outputs": [],
   "source": [
    "def list_ls_calibratables(device_setup):\n",
    "    # header\n",
    "    print(f\"{'LOGICAL SIGNAL':^33s} | {'CALIBRATED':<10} | {'TYPE':^12s}\")\n",
    "\n",
    "    # loop over logical signal groups\n",
    "    for g in device_setup.logical_signal_groups:\n",
    "        logical_signal_group = device_setup.logical_signal_groups[g]\n",
    "\n",
    "        # loop over logical signals\n",
    "        for ls in logical_signal_group.logical_signals:\n",
    "            logical_signal = logical_signal_group.logical_signals[ls]\n",
    "\n",
    "            # inspect and show information\n",
    "            print(\n",
    "                f\"{logical_signal.path:<33s} | {str(logical_signal.is_calibrated()):<10} | {type(logical_signal).__name__}\"\n",
    "            )\n",
    "\n",
    "\n",
    "list_ls_calibratables(device_setup)"
   ]
  },
  {
   "cell_type": "markdown",
   "metadata": {},
   "source": [
    "### Physical Channels\n",
    "Physical signals are organized by physical channel groups and can be accessed and inspected analogously to logical signals."
   ]
  },
  {
   "cell_type": "code",
   "execution_count": null,
   "metadata": {},
   "outputs": [],
   "source": [
    "def list_pc_calibratables(device_setup):\n",
    "    # header\n",
    "    print(f\"{'PHYSICAL CHANNEL':^50s} | {'CALIBRATED':<10} | {'TYPE'}\")\n",
    "\n",
    "    # loop over physical channel groups\n",
    "    for g in device_setup.physical_channel_groups:\n",
    "        physical_channel_group = device_setup.physical_channel_groups[g]\n",
    "\n",
    "        # loop over physical channels\n",
    "        for pc in physical_channel_group.channels:\n",
    "            physical_channel = physical_channel_group.channels[pc]\n",
    "\n",
    "            # list information\n",
    "            print(\n",
    "                f\"{physical_channel.path:<50s} | {str(physical_channel.is_calibrated()):<10} | {type(physical_channel).__name__}\"\n",
    "            )\n",
    "\n",
    "\n",
    "list_pc_calibratables(device_setup)"
   ]
  },
  {
   "cell_type": "markdown",
   "metadata": {},
   "source": [
    "The calibration of physical channels refers to actual instrument settings.\n",
    "In most cases, such settings need to be changed for channels that are associated with one or more logical signals.\n",
    "We can directly access the calibration of a physical channel from its logical signal as follows."
   ]
  },
  {
   "cell_type": "code",
   "execution_count": null,
   "metadata": {},
   "outputs": [],
   "source": [
    "logical_signal = device_setup.logical_signal_groups[\"q0\"].logical_signals[\"drive\"]\n",
    "logical_signal.physical_channel.calibration"
   ]
  },
  {
   "cell_type": "markdown",
   "metadata": {},
   "source": [
    "## Signal Calibration\n",
    "Logical signals and physical channels can both be calibrated with `SignalCalibration` objects.\n",
    "We can define an example instance for the logical signal `drive` as follows."
   ]
  },
  {
   "cell_type": "code",
   "execution_count": null,
   "metadata": {},
   "outputs": [],
   "source": [
    "drive_calibration = SignalCalibration(range=0)"
   ]
  },
  {
   "cell_type": "markdown",
   "metadata": {},
   "source": [
    "We can also set a new value for `range` and any other option of the `SignalCalibration` by explicit assignment."
   ]
  },
  {
   "cell_type": "code",
   "execution_count": null,
   "metadata": {},
   "outputs": [],
   "source": [
    "drive_calibration.range = 5"
   ]
  },
  {
   "cell_type": "markdown",
   "metadata": {},
   "source": [
    "The [manual](https://docs.zhinst.com/labone_q_user_manual/concepts/instrument_calibration/) provides the details regarding which [signal calibration properties](https://docs.zhinst.com/labone_q_user_manual/concepts/instrument_calibration/calibration_properties/) are supported for [logical signals](https://docs.zhinst.com/labone_q_user_manual/concepts/instrument_calibration/#logical-signal-lines) and [physical channels](https://docs.zhinst.com/labone_q_user_manual/concepts/instrument_calibration/#advanced-topic-physical-channels), respectively.\n",
    "\n",
    "Some [signal calibration properties](https://docs.zhinst.com/labone_q_user_manual/concepts/instrument_calibration/calibration_properties/) have values which in turn contain other calibration settings.\n",
    "`MixerCalibration`, `Precompensation`, and `Oscillator` are the most common example of such types.\n",
    "\n",
    "The latter can be used to calibrate digital oscillators..."
   ]
  },
  {
   "cell_type": "code",
   "execution_count": null,
   "metadata": {},
   "outputs": [],
   "source": [
    "drive_calibration.oscillator = Oscillator(\n",
    "    uid=\"q0_drive_ge_osc\",\n",
    "    frequency=-250e6,\n",
    "    modulation_type=ModulationType.AUTO,\n",
    "    carrier_type=None,\n",
    ")"
   ]
  },
  {
   "cell_type": "markdown",
   "metadata": {},
   "source": [
    "and local oscillator settings."
   ]
  },
  {
   "cell_type": "code",
   "execution_count": null,
   "metadata": {},
   "outputs": [],
   "source": [
    "drive_calibration.local_oscillator = Oscillator(\n",
    "    uid=\"q0_drive_local_osc\",\n",
    "    frequency=4e9,\n",
    "    modulation_type=ModulationType.AUTO,\n",
    "    carrier_type=None,\n",
    ")"
   ]
  },
  {
   "cell_type": "markdown",
   "metadata": {},
   "source": [
    "We can assign the assembled `SignalCalibration` instance under the appropriate path in the `Calibration` object..."
   ]
  },
  {
   "cell_type": "code",
   "execution_count": null,
   "metadata": {},
   "outputs": [],
   "source": [
    "calibration[\"/logical_signal_groups/q0/drive\"] = drive_calibration"
   ]
  },
  {
   "cell_type": "markdown",
   "metadata": {},
   "source": [
    "and confirm that the `drive` signal of the logical signal group `q0` now has the correct `SignalCalibration` assigned."
   ]
  },
  {
   "cell_type": "code",
   "execution_count": null,
   "metadata": {},
   "outputs": [],
   "source": [
    "calibration"
   ]
  },
  {
   "cell_type": "markdown",
   "metadata": {},
   "source": [
    "## Calibrating the Device Setup\n",
    "The settings of a calibration object can be set directly to the device setup."
   ]
  },
  {
   "cell_type": "code",
   "execution_count": null,
   "metadata": {},
   "outputs": [],
   "source": [
    "device_setup.set_calibration(calibration)"
   ]
  },
  {
   "cell_type": "markdown",
   "metadata": {},
   "source": [
    "We can apply such `Calibration` objects repeatedly to fill or update the calibratables in the device setup.\n",
    "\n",
    "A new `Calibration` instance containing only the `readout` signal of logical signal group `q0` is assigned below."
   ]
  },
  {
   "cell_type": "code",
   "execution_count": null,
   "metadata": {},
   "outputs": [],
   "source": [
    "calibratable = device_setup.logical_signal_groups[\"q0\"].logical_signals[\"measure\"].path\n",
    "calibration_item = SignalCalibration(\n",
    "    oscillator=Oscillator(\n",
    "        uid=\"q0_readout_acquire_osc\",\n",
    "        frequency=-250e6,\n",
    "        modulation_type=ModulationType.AUTO,\n",
    "    ),\n",
    "    local_oscillator=Oscillator(\n",
    "        uid=\"q0_readout_local_osc\",\n",
    "        frequency=6e9,\n",
    "        modulation_type=ModulationType.AUTO,\n",
    "    ),\n",
    "    port_delay=4e-08,\n",
    "    range=10,\n",
    ")\n",
    "\n",
    "device_setup.set_calibration(Calibration({calibratable: calibration_item}))"
   ]
  },
  {
   "cell_type": "markdown",
   "metadata": {},
   "source": [
    "We can verify that both logical signals are now calibrated..."
   ]
  },
  {
   "cell_type": "code",
   "execution_count": null,
   "metadata": {},
   "outputs": [],
   "source": [
    "list_ls_calibratables(device_setup)"
   ]
  },
  {
   "cell_type": "markdown",
   "metadata": {},
   "source": [
    "while noting that the settings are also propagated to the corresponding physical channels."
   ]
  },
  {
   "cell_type": "code",
   "execution_count": null,
   "metadata": {},
   "outputs": [],
   "source": [
    "list_pc_calibratables(device_setup)"
   ]
  },
  {
   "cell_type": "markdown",
   "metadata": {},
   "source": [
    "The physical channel associated with the signal `drive` of group `q0` has therefore a calibrated local oscillator. "
   ]
  },
  {
   "cell_type": "code",
   "execution_count": null,
   "metadata": {},
   "outputs": [],
   "source": [
    "path = (\n",
    "    device_setup.logical_signal_groups[\"q0\"]\n",
    "    .logical_signals[\"drive\"]\n",
    "    .physical_channel.path\n",
    ")\n",
    "\n",
    "device_setup.get_calibration(path)"
   ]
  },
  {
   "cell_type": "markdown",
   "metadata": {},
   "source": [
    "## Calibrating Experiments\n",
    "`Calibration` instances can also be applied to [experimental signals](https://docs.zhinst.com/labone_q_user_manual/concepts/experiment_calibration/) in `Experiment` objects.\n",
    "To examine this in more detail, we import a simple example of an experiment object."
   ]
  },
  {
   "cell_type": "code",
   "execution_count": null,
   "metadata": {},
   "outputs": [],
   "source": [
    "experiment = make_reference_experiment()"
   ]
  },
  {
   "cell_type": "markdown",
   "metadata": {},
   "source": [
    "Here we will only discuss the aspects of this object relevant to the calibration.\n",
    "However, you can find out more about the details and functionality of the `Experiment` class in the [next tutorials](./03_experiment.ipynb) and the [manual](https://docs.zhinst.com/labone_q_user_manual/concepts/experiment/)."
   ]
  },
  {
   "cell_type": "markdown",
   "metadata": {},
   "source": [
    "### Temporary Calibration of Experiment Signals\n",
    "Experimental signals act as calibratables in an experiment."
   ]
  },
  {
   "cell_type": "code",
   "execution_count": null,
   "metadata": {},
   "outputs": [],
   "source": [
    "for id, signal in experiment.signals.items():\n",
    "    print(f\"{id:8s} | {type(signal).__name__}\")"
   ]
  },
  {
   "cell_type": "markdown",
   "metadata": {},
   "source": [
    "These experimental signals will ultimately be [mapped](https://docs.zhinst.com/labone_q_user_manual/concepts/experiment/#experimental-signal-map) to compatible logical signals.\n",
    "We can therefore use the same types of `Calibration` and `SignalCalibration` objects to calibrate experimental signals are we did above for logical signals.\n",
    "\n",
    "For example, to change the `range` parameter of the `drive` signal for the duration of the expeirment we first instantiate a new `Calibration` object..."
   ]
  },
  {
   "cell_type": "code",
   "execution_count": null,
   "metadata": {},
   "outputs": [],
   "source": [
    "experiment_calibration = Calibration({\"drive\": SignalCalibration(range=-5)})"
   ]
  },
  {
   "cell_type": "markdown",
   "metadata": {},
   "source": [
    "and apply it then directly to the experiment."
   ]
  },
  {
   "cell_type": "code",
   "execution_count": null,
   "metadata": {},
   "outputs": [],
   "source": [
    "experiment.set_calibration(experiment_calibration)"
   ]
  },
  {
   "cell_type": "markdown",
   "metadata": {},
   "source": [
    "We can now inspect the calibration of the experiment signal to confirm that these changes have indeed been applied correctly."
   ]
  },
  {
   "cell_type": "code",
   "execution_count": null,
   "metadata": {},
   "outputs": [],
   "source": [
    "experiment.signals[\"drive\"].calibration"
   ]
  },
  {
   "cell_type": "markdown",
   "metadata": {},
   "source": [
    "### Sweep Calibrations\n",
    "Applying `Calibration` objects to experiments also allows you enable sweeps of individual calibration nodes.\n",
    "Before being able to execute the above experiment, we need to calibrate the frequency sweep of the `drive` signal.\n",
    "\n",
    "For this we require a `SweepParameter` that is used in the definition of the experiment. \n",
    "Here, we simply re-create this object and inspect it to confirm that it sweeps the frequency from -100 to +100 MHz around the center frequency:"
   ]
  },
  {
   "cell_type": "code",
   "execution_count": null,
   "metadata": {},
   "outputs": [],
   "source": [
    "freq_sweep = LinearSweepParameter(uid=\"drive_freq_q0\", start=-1e8, stop=1e8, count=1001)\n",
    "freq_sweep"
   ]
  },
  {
   "cell_type": "markdown",
   "metadata": {},
   "source": [
    "With this `SweepParameter` object we can then construct a new signal calibration property for the digital oscillator of the drive signal and assign it to the calibration item."
   ]
  },
  {
   "cell_type": "code",
   "execution_count": null,
   "metadata": {},
   "outputs": [],
   "source": [
    "experiment_calibration[\"drive\"].oscillator = Oscillator(\n",
    "    uid=\"q0_drive_sweep\",\n",
    "    frequency=freq_sweep,\n",
    "    modulation_type=ModulationType.AUTO,\n",
    "    carrier_type=None,\n",
    ")"
   ]
  },
  {
   "cell_type": "markdown",
   "metadata": {},
   "source": [
    "Assigning the calibration again to the experiment..."
   ]
  },
  {
   "cell_type": "code",
   "execution_count": null,
   "metadata": {},
   "outputs": [],
   "source": [
    "experiment.set_calibration(experiment_calibration)"
   ]
  },
  {
   "cell_type": "markdown",
   "metadata": {},
   "source": [
    "now assigns the `SweepParameter` object to the frequency of the `drive` signal..."
   ]
  },
  {
   "cell_type": "code",
   "execution_count": null,
   "metadata": {},
   "outputs": [],
   "source": [
    "experiment.signals[\"drive\"].calibration"
   ]
  },
  {
   "cell_type": "markdown",
   "metadata": {},
   "source": [
    "which enables LabOne Q to sweep this hardware node. See [the manual table](https://docs.zhinst.com/labone_q_user_manual/concepts/sweepable_calibration_nodes/) for an overview of the calibration nodes that support sweeping."
   ]
  }
 ],
 "metadata": {
  "kernelspec": {
   "display_name": "repo",
   "language": "python",
   "name": "python3"
  },
  "language_info": {
   "codemirror_mode": {
    "name": "ipython",
    "version": 3
   },
   "file_extension": ".py",
   "mimetype": "text/x-python",
   "name": "python",
   "nbconvert_exporter": "python",
   "pygments_lexer": "ipython3",
   "version": "3.12.4"
  }
 },
 "nbformat": 4,
 "nbformat_minor": 4
}
