{
 "cells": [
  {
   "cell_type": "markdown",
   "id": "0ed599f8-b026-4714-8243-4df4bc485ea6",
   "metadata": {},
   "source": [
    "# Two qubit experiments \n",
    "\n",
    "In this reference notebook we show how to define basic two qubit tuneup experiments - simultaneous Rabi and simultaneous Ramsey"
   ]
  },
  {
   "cell_type": "markdown",
   "id": "961a420e-7dc7-46fd-aea8-12af1cea8aa2",
   "metadata": {},
   "source": [
    "# 0. General Imports and Definitions"
   ]
  },
  {
   "cell_type": "markdown",
   "id": "2a01d7d5-527b-4324-aa74-95d768f9a2ef",
   "metadata": {},
   "source": [
    "## 0.1 Python Imports"
   ]
  },
  {
   "cell_type": "code",
   "execution_count": null,
   "id": "537d6564",
   "metadata": {
    "ExecuteTime": {
     "end_time": "2021-12-06T23:14:33.099597Z",
     "start_time": "2021-12-06T23:14:31.715508Z"
    }
   },
   "outputs": [],
   "source": [
    "%config IPCompleter.greedy=True\n",
    "\n",
    "# convenience import for all QCCS software functionality\n",
    "from laboneq.simple import *\n",
    "\n",
    "# helper import \n",
    "from example_notebook_helper import *"
   ]
  },
  {
   "cell_type": "markdown",
   "id": "c8aa3c8e-12ce-4f86-a5bb-7f76e0c0f5d7",
   "metadata": {},
   "source": [
    "# 1. Define Device Setup and Calibration"
   ]
  },
  {
   "cell_type": "markdown",
   "id": "f44d74bf-d663-4421-b826-bd156e65415c",
   "metadata": {},
   "source": [
    "## 1.1 Define a Device Setup\n",
    "\n",
    "Descriptor contains all information on instruments used, internal connections between instruments as well as wiring to the experiment"
   ]
  },
  {
   "cell_type": "code",
   "execution_count": null,
   "id": "c4275166",
   "metadata": {
    "ExecuteTime": {
     "end_time": "2021-12-06T23:14:33.115126Z",
     "start_time": "2021-12-06T23:14:33.099597Z"
    }
   },
   "outputs": [],
   "source": [
    "descriptor=\"\"\"\\\n",
    "instrument_list:\n",
    "  HDAWG:\n",
    "  - address: DEV8001\n",
    "    uid: device_hdawg \n",
    "  UHFQA:\n",
    "  - address: DEV2001    \n",
    "    uid: device_uhfqa\n",
    "  PQSC:  \n",
    "  - address: DEV10001\n",
    "    uid: device_pqsc\n",
    "connections:\n",
    "  device_hdawg:    \n",
    "    - iq_signal: q0/drive_line\n",
    "      ports: [SIGOUTS/0, SIGOUTS/1]        \n",
    "    - iq_signal: q1/drive_line\n",
    "      ports: [SIGOUTS/2, SIGOUTS/3]\n",
    "    - rf_signal: q0/flux_line\n",
    "      ports: [SIGOUTS/4]        \n",
    "    - rf_signal: q1/flux_line\n",
    "      ports: [SIGOUTS/5]              \n",
    "    - to: device_uhfqa\n",
    "      port: DIOS/0\n",
    "  device_uhfqa:    \n",
    "    - iq_signal: q0/measure_line\n",
    "      ports: [SIGOUTS/0, SIGOUTS/1]        \n",
    "    - acquire_signal: q0/acquire_line\n",
    "    - iq_signal: q1/measure_line\n",
    "      ports: [SIGOUTS/0, SIGOUTS/1]        \n",
    "    - acquire_signal: q1/acquire_line\n",
    "  device_pqsc:\n",
    "    - to: device_hdawg\n",
    "      port: ZSYNCS/0\n",
    "\"\"\""
   ]
  },
  {
   "cell_type": "markdown",
   "id": "81eae8d4-aaac-486e-ae41-0c0bc01c706e",
   "metadata": {},
   "source": [
    "## 1.2 Define Calibration Settings\n",
    "\n",
    "Modify the calibration on the device setup with known parameters for qubit control and readout - qubit control and readout frequencies, mixer calibration corrections"
   ]
  },
  {
   "cell_type": "code",
   "execution_count": null,
   "id": "c92e41eb",
   "metadata": {
    "ExecuteTime": {
     "end_time": "2021-12-06T23:14:33.151459Z",
     "start_time": "2021-12-06T23:14:33.120171Z"
    }
   },
   "outputs": [],
   "source": [
    "# functions that modifies the calibration on a given device setup\n",
    "def calibrate_devices(device_setup):\n",
    "    ## qubit 0\n",
    "    # calibration setting for drive line for qubit 0\n",
    "    device_setup.logical_signal_groups[\"q0\"].logical_signals[\"drive_line\"].calibration = SignalCalibration(\n",
    "        # oscillator settings - frequency and type of oscillator used to modulate the pulses applied through this signal line\n",
    "        oscillator=Oscillator(\n",
    "            uid=\"drive_q0_osc\",\n",
    "            frequency=1e8,\n",
    "            modulation_type=ModulationType.HARDWARE),\n",
    "        # mixer calibration settings to compensate for non-ideal mixer configuration\n",
    "        mixer_calibration=MixerCalibration(\n",
    "            voltage_offsets=[0.0, 0.0],\n",
    "            correction_matrix=[\n",
    "                [1.0, 0.0],\n",
    "                [0.0, 1.0],\n",
    "            ]\n",
    "        ),\n",
    "        # global and static delay of logical signal line: use to align pulses and compensate skew\n",
    "        port_delay=0,       # applied to corresponding instrument node, bound to hardware limits\n",
    "        delay_signal=0,     # inserted in sequencer code, bound to waveform granularity\n",
    "    )\n",
    "    # calibration setting for flux line for qubit 0\n",
    "    device_setup.logical_signal_groups[\"q0\"].logical_signals[\"flux_line\"].calibration = SignalCalibration(\n",
    "        oscillator=Oscillator(\n",
    "            uid=\"flux_q0_osc\",\n",
    "            frequency=1e8,\n",
    "            modulation_type=ModulationType.HARDWARE),\n",
    "        # global and static delay of logical signal line: use to align pulses and compensate skew\n",
    "        port_delay=0,       # applied to corresponding instrument node, bound to hardware limits\n",
    "        delay_signal=0,     # inserted in sequencer code, bound to waveform granularity\n",
    "    )\n",
    "    # calibration setting for readout pulse line for qubit 0\n",
    "    device_setup.logical_signal_groups[\"q0\"].logical_signals[\"measure_line\"].calibration = SignalCalibration(\n",
    "        oscillator = Oscillator(\n",
    "            uid=\"measure_q0_osc\",\n",
    "            frequency=1e8,\n",
    "            modulation_type=ModulationType.SOFTWARE),\n",
    "        delay_signal=0,     # inserted in sequencer code, bound to waveform granularity\n",
    "        )\n",
    "    # calibration setting for data acquisition line for qubit 0\n",
    "    device_setup.logical_signal_groups[\"q0\"].logical_signals[\"acquire_line\"].calibration = SignalCalibration(\n",
    "        oscillator=Oscillator(\n",
    "            uid=\"acquire_osc\",\n",
    "            frequency=1e8,\n",
    "            modulation_type=ModulationType.SOFTWARE),\n",
    "        # delays the start of integration in relation to the start of the readout pulse to compensate for signal propagation time\n",
    "        port_delay=10e-9,   # applied to corresponding instrument node, bound to hardware limits\n",
    "        delay_signal=0,     # inserted in sequencer code, bound to waveform granularity\n",
    "    )\n",
    "    ## qubit 1\n",
    "    # calibration setting for drive line for qubit 1\n",
    "    device_setup.logical_signal_groups[\"q1\"].logical_signals[\"drive_line\"].calibration = SignalCalibration(\n",
    "        oscillator=Oscillator(\n",
    "            uid=\"drive_q1_osc\",\n",
    "            frequency=.5e8,\n",
    "            modulation_type=ModulationType.HARDWARE),\n",
    "        mixer_calibration=MixerCalibration(\n",
    "            voltage_offsets=[0.0, 0.0],\n",
    "            correction_matrix=[\n",
    "                [1.0, 0.0],\n",
    "                [0.0, 1.0],\n",
    "            ]\n",
    "        ),\n",
    "        # global and static delay of logical signal line: use to align pulses and compensate skew\n",
    "        port_delay=0,\n",
    "        delay_signal=0,\n",
    "    )\n",
    "    # calibration setting for flux line for qubit 1\n",
    "    device_setup.logical_signal_groups[\"q1\"].logical_signals[\"flux_line\"].calibration = SignalCalibration(\n",
    "        oscillator=Oscillator(\n",
    "            uid=\"flux_q1_osc\",\n",
    "            frequency=.5e8,\n",
    "            modulation_type=ModulationType.HARDWARE),\n",
    "        # global and static delay of logical signal line: use to align pulses and compensate skew\n",
    "        port_delay=0,\n",
    "        delay_signal=0,\n",
    "    )\n",
    "    # calibration setting for readout pulse line for qubit 0\n",
    "    device_setup.logical_signal_groups[\"q1\"].logical_signals[\"measure_line\"].calibration = SignalCalibration(\n",
    "        oscillator=Oscillator(\n",
    "            uid=\"measure_q1_osc\",\n",
    "            frequency=.5e8,\n",
    "            modulation_type=ModulationType.SOFTWARE),\n",
    "        delay_signal=0,\n",
    "    )\n",
    "    # calibration setting for data acquisition line for qubit 0\n",
    "    device_setup.logical_signal_groups[\"q1\"].logical_signals[\"acquire_line\"].calibration = SignalCalibration(\n",
    "        oscillator=Oscillator(\n",
    "            uid=\"acquire_q1_osc\",\n",
    "            frequency=.5e8,\n",
    "            modulation_type=ModulationType.SOFTWARE),\n",
    "        # delays the start of integration in relation to the start of the readout pulse to compensate for signal propagation time\n",
    "        port_delay=10e-9,\n",
    "        delay_signal=0,\n",
    "    )"
   ]
  },
  {
   "cell_type": "markdown",
   "id": "ce42775c-9f55-422d-8430-595a620cba87",
   "metadata": {},
   "source": [
    "## 1.3 Create Device Setup and Apply Calibration Settings"
   ]
  },
  {
   "cell_type": "code",
   "execution_count": null,
   "id": "9593232d",
   "metadata": {
    "ExecuteTime": {
     "end_time": "2021-12-06T23:14:33.167077Z",
     "start_time": "2021-12-06T23:14:33.151459Z"
    }
   },
   "outputs": [],
   "source": [
    "# Function returning a calibrated device setup \n",
    "def create_device_setup():\n",
    "    device_setup = DeviceSetup.from_descriptor(\n",
    "        descriptor,\n",
    "        server_host=\"my_ip_address\",    # ip address of the LabOne dataserver used to communicate with the instruments\n",
    "        server_port=\"8004\",             # port number of the dataserver - default is 8004\n",
    "        setup_name=\"my_QCCS_setup\",     # setup name\n",
    "    ) \n",
    "    calibrate_devices(device_setup)\n",
    "    return device_setup\n",
    "\n",
    "# create device setup\n",
    "device_setup = create_device_setup()"
   ]
  },
  {
   "cell_type": "code",
   "execution_count": null,
   "id": "ee2364e7",
   "metadata": {},
   "outputs": [],
   "source": [
    "# use emulation mode - change, if running on hardware\n",
    "use_emulation=True"
   ]
  },
  {
   "cell_type": "markdown",
   "id": "38438dd2-6905-4f99-a556-bb27363c3a1f",
   "metadata": {},
   "source": [
    "# 2. Simultaneous Two Qubit Amplitude Rabi Experiment\n",
    "\n",
    "Sweep the pulse amplitude of a qubit drive pulse to determine the ideal amplitudes for specific qubit rotation angles - done simultaneously on two qubits\n",
    "\n",
    "With multiplexed readout, the amplitudes of the readout pulse have to be adjusted to the number of qubits on the line, in order to avoid clipping when the readout pulses are added up. The readout kernels do not need to be scaled."
   ]
  },
  {
   "cell_type": "markdown",
   "id": "d068797e-1673-4a5b-93c2-c450e8c061ab",
   "metadata": {},
   "source": [
    "## 2.1 Define the Experiment"
   ]
  },
  {
   "cell_type": "code",
   "execution_count": null,
   "id": "b1dbdd2a",
   "metadata": {},
   "outputs": [],
   "source": [
    "## define pulses\n",
    "n_qubits = 2\n",
    "\n",
    "# qubit drive pulse - unit amplitude, but will be scaled with sweep parameter - here use the same pulse for both qubits, can be different\n",
    "x90 = pulse_library.gaussian(uid=\"x90\", length=100e-9, amplitude=1.0)\n",
    "# readout drive pulse \n",
    "readout_pulse = pulse_library.const(\n",
    "    uid=\"readout_pulse\", length=400e-9, amplitude=1.0/n_qubits\n",
    ")\n",
    "# readout integration weights\n",
    "readout_weighting_function = pulse_library.const(\n",
    "    uid=\"readout_weighting_function\", length=400e-9, amplitude=1.0\n",
    ")\n",
    "\n",
    "## define calibration settings for readout and drive - set here into the baseline calibration on DeviceSetup \n",
    "lsg = device_setup.logical_signal_groups[\"q0\"].logical_signals\n",
    "lsg[\"drive_line\"].calibration.oscillator.frequency = 100e6\n",
    "lsg[\"drive_line\"].oscillator.modulation_type = ModulationType.HARDWARE\n",
    "lsg[\"measure_line\"].calibration.oscillator.frequency = 100e6\n",
    "lsg[\"measure_line\"].oscillator.modulation_type = ModulationType.SOFTWARE\n",
    "lsg[\"acquire_line\"].calibration.port_delay=20e-9\n",
    "lsg[\"acquire_line\"].calibration.oscillator.frequency = 100e6\n",
    "lsg[\"acquire_line\"].oscillator.modulation_type = ModulationType.SOFTWARE\n",
    "\n",
    "lsg = device_setup.logical_signal_groups[\"q1\"].logical_signals\n",
    "lsg[\"drive_line\"].calibration.oscillator.frequency = 50e6\n",
    "lsg[\"drive_line\"].oscillator.modulation_type = ModulationType.HARDWARE\n",
    "lsg[\"measure_line\"].calibration.oscillator.frequency = 50e6\n",
    "lsg[\"measure_line\"].oscillator.modulation_type = ModulationType.SOFTWARE\n",
    "lsg[\"acquire_line\"].calibration.port_delay=20e-9\n",
    "lsg[\"acquire_line\"].calibration.oscillator.frequency = 50e6\n",
    "lsg[\"acquire_line\"].oscillator.modulation_type = ModulationType.SOFTWARE"
   ]
  },
  {
   "cell_type": "code",
   "execution_count": null,
   "id": "b81901e0",
   "metadata": {},
   "outputs": [],
   "source": [
    "# define the pulse sequence of a Rabi experiment\n",
    "def rabi_pulses(exp, drive_id, measure_id, acquire_id, acquire_handle, sweep_parameter, \n",
    "    excitation_pulse=x90, measure_pulse=readout_pulse, readout_weights=readout_weighting_function):\n",
    "    # qubit excitation - pulse amplitude will be swept\n",
    "    with exp.section():\n",
    "        exp.play(signal=drive_id, pulse=excitation_pulse, amplitude=sweep_parameter)\n",
    "    # qubit readout pulse and data acquisition\n",
    "    with exp.section():\n",
    "        exp.reserve(signal=drive_id)\n",
    "        # play readout pulse\n",
    "        exp.play(signal=measure_id, pulse=measure_pulse)\n",
    "        # signal data acquisition\n",
    "        exp.acquire(\n",
    "            signal=acquire_id,\n",
    "            handle=acquire_handle,\n",
    "            kernel=readout_weights,\n",
    "        )\n",
    "    # relax time after readout - for signal processing and qubit relaxation to groundstate\n",
    "    with exp.section():\n",
    "        exp.delay(signal=measure_id, time=1e-6)"
   ]
  },
  {
   "cell_type": "code",
   "execution_count": null,
   "id": "4b1deeb5",
   "metadata": {
    "ExecuteTime": {
     "end_time": "2021-12-06T23:14:35.740577Z",
     "start_time": "2021-12-06T23:14:35.139445Z"
    }
   },
   "outputs": [],
   "source": [
    "# set up sweep parameter - drive amplitude - different for the two qubits, but needs same length\n",
    "count = 10\n",
    "# qubit 0\n",
    "start = 0.1\n",
    "stop = .5\n",
    "sweep_parameter_q0 = LinearSweepParameter(uid=\"amplitude_q0\", start=start, stop=stop, count=count)\n",
    "# qubit 1\n",
    "start=0.5\n",
    "stop=1.0\n",
    "sweep_parameter_q1 = LinearSweepParameter(uid=\"amplitude_q1\", start=start, stop=stop, count=count)\n",
    "\n",
    "# number of averages\n",
    "average_exponent = 1  # used for 2^n averages, n=average_exponent, maximum: n = 17\n",
    "\n",
    "# Create Experiment\n",
    "exp = Experiment(\n",
    "    uid=\"Amplitude Rabi for two\",\n",
    "    signals=[\n",
    "        ExperimentSignal(\"drive_q0\"),\n",
    "        ExperimentSignal(\"measure_q0\"),\n",
    "        ExperimentSignal(\"acquire_q0\"),\n",
    "        ExperimentSignal(\"drive_q1\"),\n",
    "        ExperimentSignal(\"measure_q1\"),\n",
    "        ExperimentSignal(\"acquire_q1\"),\n",
    "\n",
    "    ],\n",
    ")\n",
    "## experimental pulse sequence\n",
    "# outer loop - real-time, cyclic averaging in standard integration mode\n",
    "with exp.acquire_loop_rt(uid=\"shots\", count=pow(2, average_exponent),\n",
    "    averaging_mode=AveragingMode.CYCLIC, acquisition_type=AcquisitionType.INTEGRATION\n",
    "    ):\n",
    "    # inner loop - real-time sweep of qubit drive pulse amplitude\n",
    "    with exp.sweep(uid=\"sweep\", parameter=[sweep_parameter_q0, sweep_parameter_q1]):\n",
    "        # rabi for qubit 0\n",
    "        rabi_pulses(exp, drive_id=\"drive_q0\", measure_id=\"measure_q0\", acquire_id=\"acquire_q0\", \n",
    "            acquire_handle=\"q0\", sweep_parameter=sweep_parameter_q0\n",
    "        )\n",
    "        # rabi for qubit 1\n",
    "        rabi_pulses(exp, drive_id=\"drive_q1\", measure_id=\"measure_q1\", acquire_id=\"acquire_q1\", \n",
    "            acquire_handle=\"q1\", sweep_parameter=sweep_parameter_q1\n",
    "        )"
   ]
  },
  {
   "cell_type": "code",
   "execution_count": null,
   "id": "b10527ec",
   "metadata": {},
   "outputs": [],
   "source": [
    "# define signal maps for qubits 0 and 1\n",
    "map_q0q1 = {\n",
    "    \"drive_q0\": device_setup.logical_signal_groups[\"q0\"].logical_signals[\"drive_line\"],\n",
    "    \"measure_q0\": device_setup.logical_signal_groups[\"q0\"].logical_signals[\"measure_line\"],\n",
    "    \"acquire_q0\": device_setup.logical_signal_groups[\"q0\"].logical_signals[\"acquire_line\"],\n",
    "    \"drive_q1\": device_setup.logical_signal_groups[\"q1\"].logical_signals[\"drive_line\"],\n",
    "    \"measure_q1\": device_setup.logical_signal_groups[\"q1\"].logical_signals[\"measure_line\"],\n",
    "    \"acquire_q1\": device_setup.logical_signal_groups[\"q1\"].logical_signals[\"acquire_line\"],\n",
    "}\n"
   ]
  },
  {
   "cell_type": "markdown",
   "id": "7e485382-ccd1-4c32-8253-1f5e9e2ad127",
   "metadata": {},
   "source": [
    "## 2.2 Run the Experiment and Plot the Measurement Results and Pulse Sequence"
   ]
  },
  {
   "cell_type": "code",
   "execution_count": null,
   "id": "dc48e4a3",
   "metadata": {},
   "outputs": [],
   "source": [
    "# set signal map to qubit 0\n",
    "exp.set_signal_map(map_q0q1)\n",
    "\n",
    "# create and connect to session\n",
    "session = Session(device_setup=device_setup)\n",
    "session.connect(do_emulation=use_emulation)\n",
    "\n",
    "# run experiment on both qubit 0 and qubit 1\n",
    "my_results = session.run(exp, do_simulation=True)"
   ]
  },
  {
   "cell_type": "code",
   "execution_count": null,
   "id": "3c3cb2d3",
   "metadata": {
    "ExecuteTime": {
     "end_time": "2021-12-06T23:14:36.373217Z",
     "start_time": "2021-12-06T23:14:35.742540Z"
    }
   },
   "outputs": [],
   "source": [
    "# Plot the simualted output waveforms\n",
    "plot_output_signals_2(my_results)"
   ]
  },
  {
   "cell_type": "code",
   "execution_count": null,
   "id": "42e169c3",
   "metadata": {},
   "outputs": [],
   "source": [
    "# plot measurement results - qubit 0\n",
    "plot_result_2d(my_results, 'q0', mult_axis=0)"
   ]
  },
  {
   "cell_type": "code",
   "execution_count": null,
   "id": "5703a844",
   "metadata": {},
   "outputs": [],
   "source": [
    "# plot measurement results - qubit 1\n",
    "plot_result_2d(my_results, 'q1', mult_axis=1)"
   ]
  },
  {
   "cell_type": "code",
   "execution_count": null,
   "id": "71910b2b",
   "metadata": {},
   "outputs": [],
   "source": [
    "# use pulse sheet viewer to display the pulse sequence - only recommended for small number of averages and sweep steps to avoid performance issues\n",
    "compiled_exp = session.compiled_experiment\n",
    "show_pulse_sheet(\"Amplitude Rabi for two\", compiled_exp)"
   ]
  },
  {
   "cell_type": "markdown",
   "id": "f4a0f631-ec16-436b-9e38-fdb306ff052c",
   "metadata": {
    "tags": []
   },
   "source": [
    "# 3. Simultaneous Two Qubit Ramsey Experiment\n",
    "\n",
    "Sweep the delay between two slightly detuned pi/2 pulses to determine the qubit dephasing time as well as for fine calibration its excited state frequency - for two qubits in parallel. Again, we need to scale the amplitude of the readout pulse, to avoid clipping of the signal when the readout pulses for both pulses are added."
   ]
  },
  {
   "cell_type": "markdown",
   "id": "ac0d5da7-7416-4f32-b3e8-0114efd383f7",
   "metadata": {},
   "source": [
    "## 3.1 Define the Experiment"
   ]
  },
  {
   "cell_type": "code",
   "execution_count": null,
   "id": "0dc0ba0a-bc2e-456f-a3d0-e03c1de52ec4",
   "metadata": {},
   "outputs": [],
   "source": [
    "## define pulses\n",
    "\n",
    "# qubit drive pulse - use amplitude calibrated by amplitude Rabi experiment - different for two qubits\n",
    "x90_q0 = pulse_library.gaussian(uid=\"x90_q0\", length=100e-9, amplitude=0.88)\n",
    "x90_q1 = pulse_library.gaussian(uid=\"x90_q1\", length=80e-9, amplitude=0.55)\n",
    "\n",
    "# readout drive pulse\n",
    "readout_pulse = pulse_library.const(\n",
    "    uid=\"readout_pulse\", length=400e-9, amplitude=1.0/n_qubits\n",
    ")\n",
    "# readout integration weights\n",
    "readout_weighting_function = pulse_library.const(\n",
    "    uid=\"readout_weighting_function\", length=400e-9, amplitude=1.0\n",
    ")"
   ]
  },
  {
   "cell_type": "code",
   "execution_count": null,
   "id": "c85e2517",
   "metadata": {},
   "outputs": [],
   "source": [
    "# define pulse sequence for Ramsey experiment - right aligned drive sections for constant timing of readout\n",
    "def ramsey_pulses(exp, drive_id, measure_id, acquire_id, acquire_handle, sweep_parameter, excitation_length,\n",
    "    excitation_pulse=x90, measure_pulse=readout_pulse, readout_weights=readout_weighting_function\n",
    "    ):\n",
    "    # qubit drive pulses - use right-aligned, constant length section to optimize overall experimental sequence\n",
    "    with exp.section(length=excitation_length, alignment=SectionAlignment.RIGHT):\n",
    "        exp.play(signal=drive_id, pulse=excitation_pulse)\n",
    "        exp.delay(signal=drive_id, time=sweep_parameter)\n",
    "        exp.play(signal=drive_id, pulse=excitation_pulse)\n",
    "    # qubit readout pulse and data acquisition\n",
    "    with exp.section():\n",
    "        exp.reserve(signal=drive_id)\n",
    "        # play readout pulse\n",
    "        exp.play(signal=measure_id, pulse=measure_pulse)\n",
    "        # signal data acquisition\n",
    "        exp.acquire(\n",
    "            signal=acquire_id,\n",
    "            handle=acquire_handle,\n",
    "            kernel=readout_weights,\n",
    "        )\n",
    "    # relax time after readout - for signal processing and qubit relaxation to groundstate\n",
    "    with exp.section():\n",
    "        exp.delay(signal=measure_id, time=1e-6)"
   ]
  },
  {
   "cell_type": "code",
   "execution_count": null,
   "id": "3d1cbd3d",
   "metadata": {
    "ExecuteTime": {
     "end_time": "2021-12-06T23:14:36.843184Z",
     "start_time": "2021-12-06T23:14:36.375034Z"
    },
    "tags": []
   },
   "outputs": [],
   "source": [
    "# set up sweep parameter - delay between pi/2 pulses\n",
    "start = 0.0\n",
    "stop = 1000e-9\n",
    "count = 10\n",
    "\n",
    "sweep_parameter = LinearSweepParameter(uid=\"delay\", start=start, stop=stop, count=count)\n",
    "\n",
    "# calculate length of excitation section\n",
    "drive_length = stop + 2 * max([x90_q0.length, x90_q1.length])\n",
    "\n",
    "# number of averages\n",
    "average_exponent = 1  # used for 2^n averages, n=average_exponent, maximum: n = 17\n",
    "\n",
    "# Create Experiment\n",
    "exp = Experiment(\n",
    "    uid=\"Ramsey for two\",\n",
    "    signals=[\n",
    "        ExperimentSignal(\"drive_q0\"),\n",
    "        ExperimentSignal(\"measure_q0\"),\n",
    "        ExperimentSignal(\"acquire_q0\"),\n",
    "        ExperimentSignal(\"drive_q1\"),\n",
    "        ExperimentSignal(\"measure_q1\"),\n",
    "        ExperimentSignal(\"acquire_q1\"),\n",
    "    ],\n",
    ")\n",
    "## experimental pulse sequence\n",
    "# outer loop - real-time, cyclic averaging in standard integration mode\n",
    "with exp.acquire_loop_rt(uid=\"shots\", count=pow(2, average_exponent),\n",
    "    averaging_mode=AveragingMode.CYCLIC, acquisition_type=AcquisitionType.INTEGRATION\n",
    "    ):\n",
    "    # inner loop - real-time sweep over delay between qubit pulses\n",
    "    with exp.sweep(uid=\"sweep\", parameter=sweep_parameter):\n",
    "        # ramsey sequence for qubit 0\n",
    "        ramsey_pulses(exp, drive_id=\"drive_q0\", measure_id=\"measure_q0\", acquire_id=\"acquire_q0\", \n",
    "            acquire_handle=\"q0\", sweep_parameter=sweep_parameter, excitation_length=drive_length,\n",
    "            excitation_pulse=x90_q0\n",
    "        )\n",
    "        # ramsey sequence for qubit 1\n",
    "        ramsey_pulses(exp, drive_id=\"drive_q1\", measure_id=\"measure_q1\", acquire_id=\"acquire_q1\", \n",
    "            acquire_handle=\"q1\", sweep_parameter=sweep_parameter, excitation_length=drive_length,\n",
    "            excitation_pulse=x90_q1\n",
    "        )"
   ]
  },
  {
   "cell_type": "code",
   "execution_count": null,
   "id": "4cae7fb5",
   "metadata": {},
   "outputs": [],
   "source": [
    "# define signal maps for qubits 0 and 1\n",
    "map_q0q1 = {\n",
    "    \"drive_q0\": device_setup.logical_signal_groups[\"q0\"].logical_signals[\"drive_line\"],\n",
    "    \"measure_q0\": device_setup.logical_signal_groups[\"q0\"].logical_signals[\"measure_line\"],\n",
    "    \"acquire_q0\": device_setup.logical_signal_groups[\"q0\"].logical_signals[\"acquire_line\"],\n",
    "    \"drive_q1\": device_setup.logical_signal_groups[\"q1\"].logical_signals[\"drive_line\"],\n",
    "    \"measure_q1\": device_setup.logical_signal_groups[\"q1\"].logical_signals[\"measure_line\"],\n",
    "    \"acquire_q1\": device_setup.logical_signal_groups[\"q1\"].logical_signals[\"acquire_line\"],\n",
    "}"
   ]
  },
  {
   "cell_type": "markdown",
   "id": "cd97d37a-c3d9-480a-94ed-568bc237bd64",
   "metadata": {},
   "source": [
    "## 5.2 Run the Experiment and Plot the Measurement Results and Pulse Sequence"
   ]
  },
  {
   "cell_type": "code",
   "execution_count": null,
   "id": "478636d8-c4f3-4a6d-b601-a56316735386",
   "metadata": {},
   "outputs": [],
   "source": [
    "# map exp to qubit 0\n",
    "exp.set_signal_map(map_q0q1)\n",
    "\n",
    "# create and connect to session\n",
    "session = Session(device_setup=device_setup)\n",
    "session.connect(do_emulation=use_emulation)\n",
    "\n",
    "# run on both qubits simultaneously\n",
    "my_results = session.run(exp, do_simulation=True)"
   ]
  },
  {
   "cell_type": "code",
   "execution_count": null,
   "id": "13fbc2fe",
   "metadata": {
    "ExecuteTime": {
     "end_time": "2021-12-06T23:14:37.515807Z",
     "start_time": "2021-12-06T23:14:36.844486Z"
    }
   },
   "outputs": [],
   "source": [
    "# Plot the simulated signal outputs\n",
    "plot_output_signals_2(my_results)"
   ]
  },
  {
   "cell_type": "code",
   "execution_count": null,
   "id": "b7f32809",
   "metadata": {},
   "outputs": [],
   "source": [
    "# plot measurement results - qubit 0\n",
    "plot_result_2d(my_results, 'q0')"
   ]
  },
  {
   "cell_type": "code",
   "execution_count": null,
   "id": "7fd2af51",
   "metadata": {},
   "outputs": [],
   "source": [
    "# plot measurement results - qubit 1\n",
    "plot_result_2d(my_results, 'q1')"
   ]
  },
  {
   "cell_type": "code",
   "execution_count": null,
   "id": "0c71bb6c",
   "metadata": {},
   "outputs": [],
   "source": [
    "# use pulse sheet viewer to display the pulse sequence - only recommended for small number of averages and sweep steps to avoid performance issues\n",
    "compiled_exp = session.compiled_experiment\n",
    "show_pulse_sheet(\"Ramsey for two\", compiled_exp)"
   ]
  },
  {
   "cell_type": "code",
   "execution_count": null,
   "id": "b676def4",
   "metadata": {},
   "outputs": [],
   "source": []
  }
 ],
 "metadata": {
  "hide_input": false,
  "kernelspec": {
   "display_name": "Python 3.10.6 64-bit ('0.67')",
   "language": "python",
   "name": "python3"
  },
  "language_info": {
   "codemirror_mode": {
    "name": "ipython",
    "version": 3
   },
   "file_extension": ".py",
   "mimetype": "text/x-python",
   "name": "python",
   "nbconvert_exporter": "python",
   "pygments_lexer": "ipython3",
   "version": "3.10.6"
  },
  "toc": {
   "base_numbering": 1,
   "nav_menu": {},
   "number_sections": true,
   "sideBar": true,
   "skip_h1_title": false,
   "title_cell": "Table of Contents",
   "title_sidebar": "Contents",
   "toc_cell": false,
   "toc_position": {
    "height": "calc(100% - 180px)",
    "left": "10px",
    "top": "150px",
    "width": "426.667px"
   },
   "toc_section_display": true,
   "toc_window_display": true
  },
  "varInspector": {
   "cols": {
    "lenName": 16,
    "lenType": 16,
    "lenVar": 40
   },
   "kernels_config": {
    "python": {
     "delete_cmd_postfix": "",
     "delete_cmd_prefix": "del ",
     "library": "var_list.py",
     "varRefreshCmd": "print(var_dic_list())"
    },
    "r": {
     "delete_cmd_postfix": ") ",
     "delete_cmd_prefix": "rm(",
     "library": "var_list.r",
     "varRefreshCmd": "cat(var_dic_list()) "
    }
   },
   "types_to_exclude": [
    "module",
    "function",
    "builtin_function_or_method",
    "instance",
    "_Feature"
   ],
   "window_display": false
  },
  "vscode": {
   "interpreter": {
    "hash": "2964833902abb4b504aeb8d051fc3da97bb3d067d9ea2cab4642be07339a901d"
   }
  }
 },
 "nbformat": 4,
 "nbformat_minor": 5
}
