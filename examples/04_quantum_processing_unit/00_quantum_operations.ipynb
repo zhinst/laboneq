{
 "cells": [
  {
   "cell_type": "markdown",
   "id": "5560685f-39f6-49c4-ab59-ebbd73ed3926",
   "metadata": {},
   "source": [
    "# Quantum Operations\n",
    "\n",
    "LabOne Q provides a natural language for describing and implementing quantum circuits using quantum operations. To learn more about what quantum operations are in LabOne Q, have a look [here](https://docs.zhinst.com/labone_q_user_manual/core/functionality_and_concepts/04_quantum_processing_unit/tutorials/00_quantum_operations.html)\n",
    "\n",
    "In this tutorial, we will show you how to define a set of quantum operation and how to use it in a LabOne Q \n",
    "[Experiments](https://docs.zhinst.com/labone_q_user_manual/core/functionality_and_concepts/05_experiment/concepts/index.html) implementing an\n",
    "experimental pulse sequence.\n",
    "\n",
    "Before we start, let's first define a [DeviceSetup](https://docs.zhinst.com/labone_q_user_manual/core/functionality_and_concepts/00_device_setup/concepts/index.html#devicesetup-class) and three [Transmon](https://docs.zhinst.com/labone_q_user_manual/core/reference/dsl/quantum.html#laboneq.dsl.quantum.transmon.Transmon) qubits. We will use the latter when calling our quantum operations."
   ]
  },
  {
   "cell_type": "markdown",
   "id": "c522efd0-d098-4c16-9c79-890638467622",
   "metadata": {},
   "source": [
    "#### Device Setup and Qubits\n",
    "\n",
    "We will define our `DeviceSetup` and 3 `Transmon` qubits using the helper function `generate_device_setup_qubits`."
   ]
  },
  {
   "cell_type": "code",
   "execution_count": null,
   "id": "326f3a7c-3c93-4c3c-99b2-814f84ebaca9",
   "metadata": {},
   "outputs": [],
   "source": [
    "from __future__ import annotations  # needed for type setting in python 3.9\n",
    "\n",
    "from laboneq.contrib.example_helpers.generate_device_setup import (\n",
    "    generate_device_setup_qubits,\n",
    ")"
   ]
  },
  {
   "cell_type": "code",
   "execution_count": null,
   "id": "5782f762-a91b-402c-8939-57b3fcaa5a79",
   "metadata": {},
   "outputs": [],
   "source": [
    "# specify the number of qubits you want to use\n",
    "number_of_qubits = 3"
   ]
  },
  {
   "cell_type": "code",
   "execution_count": null,
   "id": "d04cc3d6-8f0a-48bb-b185-710fe9aecdcb",
   "metadata": {},
   "outputs": [],
   "source": [
    "# generate the device setup using a helper function\n",
    "setup, qubits = generate_device_setup_qubits(\n",
    "    number_qubits=number_of_qubits,\n",
    "    pqsc=[{\"serial\": \"DEV10001\"}],\n",
    "    hdawg=[\n",
    "        {\n",
    "            \"serial\": \"DEV8001\",\n",
    "            \"number_of_channels\": 8,\n",
    "            \"options\": None,\n",
    "        }\n",
    "    ],\n",
    "    shfqc=[\n",
    "        {\n",
    "            \"serial\": \"DEV12001\",\n",
    "            \"number_of_channels\": 6,\n",
    "            \"readout_multiplex\": 3,\n",
    "            \"options\": None,\n",
    "        }\n",
    "    ],\n",
    "    include_flux_lines=True,\n",
    "    multiplex_drive_lines=True,  # adds drive_ef\n",
    "    server_host=\"localhost\",\n",
    "    setup_name=\"device_setup\",\n",
    ")"
   ]
  },
  {
   "cell_type": "markdown",
   "id": "e9c75394-9370-4120-8d95-03865d4dfa70",
   "metadata": {},
   "source": [
    "### Defining a set of quantum operations\n",
    "\n",
    "Quantum operations are implemented as methods of a class inheriting from \n",
    "[dsl.QuantumOperations](https://docs.zhinst.com/labone_q_user_manual/core/reference/dsl/quantum.html#laboneq.dsl.quantum.quantum_operations.QuantumOperations). Below, we write a new class called `TransmonOperations` acting on \n",
    "LabOne Q [Transmon](https://docs.zhinst.com/labone_q_user_manual/core/reference/dsl/quantum.html#laboneq.dsl.quantum.transmon.Transmon) qubits and containing only one simple `rx` operation:"
   ]
  },
  {
   "cell_type": "code",
   "execution_count": null,
   "id": "0c413a76-8484-4899-95ca-f262ccc6cd82",
   "metadata": {},
   "outputs": [],
   "source": [
    "from laboneq.simple import *\n",
    "from laboneq.dsl.quantum.transmon import Transmon\n",
    "\n",
    "\n",
    "class TransmonOperations(dsl.QuantumOperations):\n",
    "    QUBIT_TYPES = Transmon\n",
    "\n",
    "    @dsl.quantum_operation\n",
    "    def rx(\n",
    "        self,\n",
    "        q: Transmon,\n",
    "        amplitude: float | SweepParameter,\n",
    "        length: float | SweepParameter,\n",
    "        phase: float = 0.0,\n",
    "    ) -> None:\n",
    "        pulse_parameters = {\"function\": \"drag\", \"beta\": 0.01, \"sigma\": 0.21}\n",
    "        rx_pulse = dsl.create_pulse(pulse_parameters, name=\"rx_pulse\")\n",
    "\n",
    "        dsl.play(\n",
    "            q.signals[\"drive\"],\n",
    "            amplitude=amplitude,\n",
    "            length=length,\n",
    "            phase=phase,\n",
    "            pulse=rx_pulse,\n",
    "        )"
   ]
  },
  {
   "cell_type": "markdown",
   "id": "6868226c-9b3d-4eba-bbdb-adcba58203ad",
   "metadata": {},
   "source": [
    "Let's understand what the code above is doing:\n",
    "\n",
    "* We start be defining a new class called `TransmonOperations`, inheriting from `dsl.QuantumOperations`.\n",
    "\n",
    "* We specify `QUBIT_TYPES = Transmon`, saying that this class contains operations on `Transmon` qubits.\n",
    "\n",
    "* We define the `rx` operation by decorating a method called `rx` with the decorator `@dsl.quantum_operation`. The `rx` operation takes a qubit as the first input argument. **The first input argument(s) of any quantum operation must be the qubit(s). This is expected by the `@dsl.quantum_operation` decorator.**\n",
    "\n",
    "* We use `dsl.create_pulse` to create a [pulse functional](https://docs.zhinst.com/labone_q_user_manual/core/reference/dsl/experiment.html#laboneq.dsl.experiment.pulse_library.register_pulse_functional) from [the LabOne Q pulse library](https://docs.zhinst.com/labone_q_user_manual/core/reference/dsl/experiment.html#laboneq.dsl.experiment.pulse_library). We specify the pulse type \"drag\" under `pulse_parameters[\"function\"]`. The pulse type must correspond to the name of a pulse functional in the LabOne Q pulse library or one that was registered by the user as described [here](https://docs.zhinst.com/labone_q_user_manual/core/functionality_and_concepts/03_sections_pulses/tutorials/01_pulse_library.html#define-a-new-pulse-type-and-sweep-it).\n",
    "\n",
    "* Finally, we have the `play` command acting on the qubit signal line called \"drive_line\"."
   ]
  },
  {
   "cell_type": "markdown",
   "id": "06298cda-4d0c-4e48-bb16-8aa599a35807",
   "metadata": {},
   "source": [
    "### Examining the set of operations\n",
    "\n",
    "Let's instantiate our class of quantum operations and learn how to examine it."
   ]
  },
  {
   "cell_type": "code",
   "execution_count": null,
   "id": "1d5d7f92-dee1-4775-98dc-c651319e8441",
   "metadata": {},
   "outputs": [],
   "source": [
    "qops = TransmonOperations()"
   ]
  },
  {
   "cell_type": "markdown",
   "id": "ec04270c-bca2-46f7-97e9-4fa5c78208c6",
   "metadata": {},
   "source": [
    "The quantum operations have the attribute `QUBIT_TYPES` which specifies the type of qubits supported by the quantum operations object we've created. In our case, that's the `Transmon`:"
   ]
  },
  {
   "cell_type": "code",
   "execution_count": null,
   "id": "1d588a1a-be9f-4307-998e-69652dbb97e8",
   "metadata": {},
   "outputs": [],
   "source": [
    "qops.QUBIT_TYPES"
   ]
  },
  {
   "cell_type": "markdown",
   "id": "61783b0e-d554-46c3-8070-759ca4f221bc",
   "metadata": {},
   "source": [
    "Next, we list the operations contained in `TransmonOperations`:"
   ]
  },
  {
   "cell_type": "code",
   "execution_count": null,
   "id": "5a976d35-55c8-45e2-92c1-4e6374983f9f",
   "metadata": {},
   "outputs": [],
   "source": [
    "qops.keys()"
   ]
  },
  {
   "cell_type": "markdown",
   "id": "58f91c51-82c7-4ef5-9ee5-03b6de10de76",
   "metadata": {},
   "source": [
    "We see a list with the one operation we have implemented, `rx`. \n",
    "\n",
    "Let's now inspect the docstring and the source code of this operation. Being able to do this is very useful if you do not have access to the source code."
   ]
  },
  {
   "cell_type": "code",
   "execution_count": null,
   "id": "fe734019-577a-4b17-b23f-51bd65f4a905",
   "metadata": {
    "scrolled": true
   },
   "outputs": [],
   "source": [
    "# docstring\n",
    "qops.rx?"
   ]
  },
  {
   "cell_type": "code",
   "execution_count": null,
   "id": "e697bff8-3a6d-4c83-bfbd-e34d4a6c068b",
   "metadata": {
    "scrolled": true
   },
   "outputs": [],
   "source": [
    "# source code\n",
    "qops.rx.src"
   ]
  },
  {
   "cell_type": "markdown",
   "id": "78059caa-97bc-4898-a46d-fb84f7046caf",
   "metadata": {},
   "source": [
    "In addition to `.src` each quantum operation also has three special attributes:\n",
    "\n",
    "* `.op`: This returns the function that implements the quantum operation. In our case, this is the bare, undecorated `rx` method we've defined above.\n",
    "* `.omit_section(...)`: This method builds the quantum operation but without a containing section and without reserving the qubit signals. This is useful if one wants to define a quantum operation in terms of another, but not have deeply nested sections.\n",
    "* `.omit_reserves(...)`: The method builds the quantum operation but doesn't reserve the qubit signals. This is useful if you want to manage the reserved signals yourself.\n",
    "\n",
    "We'll use `.omit_section` and `.omit_reserves` once we've seen [how to register a quantum operation to an existing set](#registering-a-new-quantum-operation-to-an-existing-set)."
   ]
  },
  {
   "cell_type": "code",
   "execution_count": null,
   "id": "7b681423-a40c-47d1-9ed5-b5acdefb0a33",
   "metadata": {},
   "outputs": [],
   "source": [
    "qops.rx.op"
   ]
  },
  {
   "cell_type": "markdown",
   "id": "30c92b45-aa7a-497f-8009-acaaf56828b2",
   "metadata": {},
   "source": [
    "### Calling a quantum operation\n",
    "\n",
    "Calling a quantum operation by itself produces a LabOne Q section:"
   ]
  },
  {
   "cell_type": "code",
   "execution_count": null,
   "id": "ae303237-a65d-4bc9-aa6a-cf9fa01d14f5",
   "metadata": {
    "scrolled": true
   },
   "outputs": [],
   "source": [
    "section = qops.rx(qubits[0], 1, 50e-9)\n",
    "section"
   ]
  },
  {
   "cell_type": "markdown",
   "id": "8661423c-4748-49be-87fb-7b726a6cea71",
   "metadata": {},
   "source": [
    "Some things to note about the section:\n",
    "\n",
    "* The section name is the name of the quantum operation, followed by the UIDs of the qubits it is applied to.\n",
    "* The section UID is automatically generated from the name.\n",
    "* The section starts by reserving all the signal lines of the qubit it operates on so that operations acting on the same qubits never overlap."
   ]
  },
  {
   "cell_type": "markdown",
   "id": "ae63a3a4-cceb-44ab-af2e-9b70a7ee228d",
   "metadata": {},
   "source": [
    "### Registering a new quantum operation to an existing set\n",
    "\n",
    "To add a new operation to an existing set do one of the following:\n",
    "\n",
    "* if the class definition is available (`TransmonOperations` above), then you can add a new operation to the source code of this class and reinstantiate `qops = TransmonOperations()`.\n",
    "\n",
    "* register a new quantum operation to an existing set. \n",
    "\n",
    "Let's have a look at how you can do the latter."
   ]
  },
  {
   "cell_type": "markdown",
   "id": "406d2303-e96d-4d20-93d9-c222ee97db25",
   "metadata": {},
   "source": [
    "Say you want to register a new operation called `simple_rx` to the existing set `qops`. You can do this in three ways:\n",
    "\n",
    "1. Using the `@qops.register` decorator, where `qops` here is the name we have chosen for our instance of `TransmonOperations`. Applying the decorator `qops.register` wraps the function `simple_rx` in a quantum operation and registers it with our current set of operations, `qops`."
   ]
  },
  {
   "cell_type": "code",
   "execution_count": null,
   "id": "d653ebbe-4550-46cc-b4e3-364ab41eec06",
   "metadata": {},
   "outputs": [],
   "source": [
    "@qops.register\n",
    "def simple_rx(self, q, amplitude, phase=0):\n",
    "    \"\"\"A square-shaped RX pulse of fixed length (50 ns).\"\"\"\n",
    "    dsl.play(\n",
    "        q.signals[\"drive\"],\n",
    "        amplitude=amplitude,\n",
    "        phase=phase,\n",
    "        length=50e-9,  # fix the length\n",
    "        pulse=dsl.pulse_library.const(),\n",
    "    )"
   ]
  },
  {
   "cell_type": "markdown",
   "id": "5b87b61776c15cbd",
   "metadata": {},
   "source": [
    "We can confirm that our new operation is registered by checking that its in our set of operations, or by looking it up as an attribute or element of our operations:"
   ]
  },
  {
   "cell_type": "code",
   "execution_count": null,
   "id": "f8c08209c8385eba",
   "metadata": {},
   "outputs": [],
   "source": [
    "\"simple_rx\" in qops"
   ]
  },
  {
   "cell_type": "code",
   "execution_count": null,
   "id": "bf206f64c8bc60ea",
   "metadata": {},
   "outputs": [],
   "source": [
    "qops.simple_rx"
   ]
  },
  {
   "cell_type": "code",
   "execution_count": null,
   "id": "44a2ad62769a80b3",
   "metadata": {},
   "outputs": [],
   "source": [
    "qops[\"simple_rx\"]"
   ]
  },
  {
   "cell_type": "code",
   "execution_count": null,
   "id": "6cf7649de5d99269",
   "metadata": {},
   "outputs": [],
   "source": [
    "qops.keys()"
   ]
  },
  {
   "cell_type": "markdown",
   "id": "f3065ffbab37b7e0",
   "metadata": {},
   "source": [
    "Let's run our new operation and examine the section it produces:"
   ]
  },
  {
   "cell_type": "code",
   "execution_count": null,
   "id": "d269b94f7eebd51e",
   "metadata": {
    "scrolled": true
   },
   "outputs": [],
   "source": [
    "qops.simple_rx(qubits[0], 1)"
   ]
  },
  {
   "cell_type": "markdown",
   "id": "d006c4d9427ee947",
   "metadata": {},
   "source": [
    "If an operation with the same name already exists it will be replaced, so the next two code cells will replace the above definition of `simple_rx`."
   ]
  },
  {
   "cell_type": "markdown",
   "id": "7a739755-5469-4a31-bb9f-b5f16634e637",
   "metadata": {},
   "source": [
    "2. Using the `@dsl.quantum_operation` and the `register` method of `qops`. Passing the decorated `simple_rx` to `qops.register` registers it with our current set of operations, `qops`."
   ]
  },
  {
   "cell_type": "code",
   "execution_count": null,
   "id": "fd368960-915e-461a-b701-109e3f6d5774",
   "metadata": {},
   "outputs": [],
   "source": [
    "@dsl.quantum_operation\n",
    "def simple_rx(self, q, amplitude, phase=0):\n",
    "    \"\"\"A square-shaped RX pulse of fixed length (50 ns).\"\"\"\n",
    "    dsl.play(\n",
    "        q.signals[\"drive\"],\n",
    "        amplitude=amplitude,\n",
    "        phase=phase,\n",
    "        length=50e-9,  # fix the length\n",
    "        pulse=dsl.pulse_library.const(),\n",
    "    )\n",
    "\n",
    "\n",
    "qops.register(simple_rx)"
   ]
  },
  {
   "cell_type": "markdown",
   "id": "62fee847-f41f-44e7-9d7e-54d34fb1e427",
   "metadata": {},
   "source": [
    "3. Using both the `@qops.register` and `@dsl.quantum_operation` decorators:"
   ]
  },
  {
   "cell_type": "code",
   "execution_count": null,
   "id": "19cfd337-e898-406f-a595-682f87817173",
   "metadata": {},
   "outputs": [],
   "source": [
    "@qops.register\n",
    "@dsl.quantum_operation\n",
    "def simple_rx(self, q, amplitude, phase=0):\n",
    "    \"\"\"A square-shaped RX pulse of fixed length (50 ns).\"\"\"\n",
    "    dsl.play(\n",
    "        q.signals[\"drive\"],\n",
    "        amplitude=amplitude,\n",
    "        phase=phase,\n",
    "        length=50e-9,  # fix the length\n",
    "        pulse=dsl.pulse_library.const(),\n",
    "    )"
   ]
  },
  {
   "cell_type": "markdown",
   "id": "572b8ac6-a417-49bf-b6b9-4c7f47159bdd",
   "metadata": {},
   "source": [
    "### Aliases for quantum operations\n",
    "\n",
    "We can also create aliases for existing quantum operations that are already registered by assigning additional names for them:"
   ]
  },
  {
   "cell_type": "code",
   "execution_count": null,
   "id": "bc7ed1bb-a971-4211-a25b-b2e7f988763d",
   "metadata": {},
   "outputs": [],
   "source": [
    "qops[\"rx_fixed_length\"] = qops.simple_rx"
   ]
  },
  {
   "cell_type": "code",
   "execution_count": null,
   "id": "e2482f5b-718d-4d7e-ab98-1e7472199977",
   "metadata": {},
   "outputs": [],
   "source": [
    "qops.keys()"
   ]
  },
  {
   "cell_type": "markdown",
   "id": "34357fa9-a114-471d-a3da-23bec757ad09",
   "metadata": {},
   "source": [
    "### Replacing a quantum operation\n",
    "\n",
    "You can easily replace a quantum operation with another by simple assignment. Let's replace our original `rx` operation with `simple_rx`."
   ]
  },
  {
   "cell_type": "code",
   "execution_count": null,
   "id": "9542dfb3-fd60-4964-9014-659182e72c62",
   "metadata": {},
   "outputs": [],
   "source": [
    "qops[\"rx\"] = qops.simple_rx  # replace the rx gate"
   ]
  },
  {
   "cell_type": "markdown",
   "id": "8cc1c4c1-8931-47f8-bf45-bfe998f65449",
   "metadata": {},
   "source": [
    "Check that the section produced by calling the new `rx` operation is the same as that produced by calling `simple_rx` above:"
   ]
  },
  {
   "cell_type": "code",
   "execution_count": null,
   "id": "c78d4138-e475-473d-9cd6-744ec28b302e",
   "metadata": {
    "scrolled": true
   },
   "outputs": [],
   "source": [
    "qops.rx(qubits[0], 1)"
   ]
  },
  {
   "cell_type": "markdown",
   "id": "aa21f38c-037b-4ba7-9f6c-6ade92f47e86",
   "metadata": {},
   "source": [
    "The original `rx` operation is still available in `qops.BASE_OPS`, which contains the original quantum operations defined in the class implementation. \n",
    "\n",
    "Let's put the original `rx` implementation back so that we don't confuse ourselves later:"
   ]
  },
  {
   "cell_type": "code",
   "execution_count": null,
   "id": "188fc946-cec4-499a-ba12-bde682823103",
   "metadata": {},
   "outputs": [],
   "source": [
    "qops[\"rx\"] = qops.BASE_OPS[\"rx\"]"
   ]
  },
  {
   "cell_type": "markdown",
   "id": "c6586c57-2ad9-4514-ae88-ef413107442e",
   "metadata": {},
   "source": [
    "### Using omit_section\n",
    "\n",
    "Let's say that we'd like to write an `x180` operation that reuses the `rx_fixed_length` operation. An `x180` operation is essentially and `rx` with the phase fixed at 0 degrees and the amplitude always given by the $\\pi$-pulse amplitude of the qubit. Let's assume the $\\pi$-pulse amplitude is 0.75. We can write then define our `x180` operation as:"
   ]
  },
  {
   "cell_type": "code",
   "execution_count": null,
   "id": "47f6d9d4-9fa6-44f8-8266-bc9db0851228",
   "metadata": {},
   "outputs": [],
   "source": [
    "@qops.register\n",
    "def x180(self, q):\n",
    "    pi_amp = 0.75\n",
    "    return self.rx_fixed_length(q, amplitude=pi_amp, phase=0)"
   ]
  },
  {
   "cell_type": "markdown",
   "id": "e8fa274c-a0f8-4ddc-9e41-99c7600036d5",
   "metadata": {},
   "source": [
    "However, when we call this we will have deeply nested sections and many signal lines reserved. This obscures the structure of our experiment:"
   ]
  },
  {
   "cell_type": "code",
   "execution_count": null,
   "id": "8d668612-3f90-4301-ace3-d1fc0a284df1",
   "metadata": {
    "scrolled": true
   },
   "outputs": [],
   "source": [
    "section = qops.x180(qubits[0])\n",
    "section"
   ]
  },
  {
   "cell_type": "markdown",
   "id": "1640f1be-9eb8-401e-9955-9993f6d14363",
   "metadata": {},
   "source": [
    "We can remove the extra section and signal reservations by calling our inner operation using `.omit_section` instead:"
   ]
  },
  {
   "cell_type": "code",
   "execution_count": null,
   "id": "d8b0831c-c3b2-4ee3-bd56-4271af933f5f",
   "metadata": {},
   "outputs": [],
   "source": [
    "@qops.register\n",
    "def x180(self, q):\n",
    "    pi_amp = 0.75\n",
    "    return self.rx_fixed_length.omit_section(q, amplitude=pi_amp, phase=0)"
   ]
  },
  {
   "cell_type": "markdown",
   "id": "2ec746d5-b02e-4ee6-846a-8af5e38d5f32",
   "metadata": {},
   "source": [
    "Note how much simpler the section structure looks now:"
   ]
  },
  {
   "cell_type": "code",
   "execution_count": null,
   "id": "bb09d18e-e3d5-4598-8b64-67f4fb662191",
   "metadata": {
    "scrolled": true
   },
   "outputs": [],
   "source": [
    "section = qops.x180(qubits[0])\n",
    "section"
   ]
  },
  {
   "cell_type": "markdown",
   "id": "d3f6aa43-253b-4d91-bf85-c67358243045",
   "metadata": {},
   "source": [
    "The `.omit_section` attribute also gives you greater control over the timing when creating your `Experiment` pulse sequence. You can choose to only add this wrapping `Section` when you need it. "
   ]
  },
  {
   "cell_type": "markdown",
   "id": "dccc1c8a-b3b6-4cdb-ac7b-986fa48f23d5",
   "metadata": {},
   "source": [
    "### Using omit_reserves\n",
    "\n",
    "By default the `Section` created by a quantum operation reserves all of the qubit signals so that two operations on the same qubit cannot overlap. In some circumstances, you one might wish to not reserve the qubit signals and to manage the avoidance of overlaps yourself.\n",
    "\n",
    "In these cases `.omit_reserves` is helpful.\n",
    "\n",
    "Let's look at what the `x180` section looks like without the reserves:"
   ]
  },
  {
   "cell_type": "code",
   "execution_count": null,
   "id": "75790067-38ad-4f07-9c06-e466f49de075",
   "metadata": {
    "scrolled": true
   },
   "outputs": [],
   "source": [
    "section = qops.x180.omit_reserves(qubits[0])\n",
    "section"
   ]
  },
  {
   "cell_type": "markdown",
   "id": "3d565c66-68c2-4e69-9fda-484effe9c4e3",
   "metadata": {},
   "source": [
    "### Setting section attributes\n",
    "\n",
    "Sometimes an operation will need to set special [section attributes](https://docs.zhinst.com/labone_q_user_manual/core/functionality_and_concepts/03_sections_pulses/concepts/index.html) such as `on_system_grid`.\n",
    "\n",
    "This can be done by retrieving the current section and directly manipulating it.\n",
    "\n",
    "To demonstrate, we'll create an operation whose section is required to be on the system grid:"
   ]
  },
  {
   "cell_type": "code",
   "execution_count": null,
   "id": "2097977c-5f7f-4ad7-88a9-96d5d696768c",
   "metadata": {},
   "outputs": [],
   "source": [
    "@qops.register\n",
    "def op_on_system_grid(self, q):\n",
    "    section = dsl.active_section()\n",
    "    section.on_system_grid = True\n",
    "    # ... play pulses, etc."
   ]
  },
  {
   "cell_type": "markdown",
   "id": "93ef8dcb-c865-4bad-b493-a5d2e0f2b090",
   "metadata": {},
   "source": [
    "And then call it to confirm that the section has indeed been set to be on the grid:"
   ]
  },
  {
   "cell_type": "code",
   "execution_count": null,
   "id": "bb75bd1e-58a1-4f73-a5ff-973332914878",
   "metadata": {},
   "outputs": [],
   "source": [
    "section = qops.op_on_system_grid(qubits[0])\n",
    "section.on_system_grid"
   ]
  },
  {
   "cell_type": "markdown",
   "id": "08951ffb-e020-49c3-b6b1-b977bd256f35",
   "metadata": {},
   "source": [
    "### Accessing experiment calibration\n",
    "\n",
    "When an `Experiment` pulse sequence is created from a function decorated with `@qubit_experiment`, its calibration is initialized from the qubits it operates on. Typically oscillator frequencies and other [properties of the SignalCalibrations](https://docs.zhinst.com/labone_q_user_manual/core/functionality_and_concepts/02_logical_signals/concepts/02_calibration_properties.html) are set.\n",
    "\n",
    "Sometimes it may be useful for quantum operations to access or manipulate this configuration. They can do this by calling `dsl.experiment_calibration`, which returns the calibration set for the current experiment.\n",
    "\n",
    "**Note**:\n",
    "\n",
    "* The experiment calibration is only accessible if there is an `Experiment`, so quantum operations that call `experiment_calibration` can only be called when creating an `Experiment` and will raise an exception otherwise.\n",
    "\n",
    "* There is only a single experiment calibration per experiment, so if multiple quantum operations modify the same calibration items, only the last modification will be retained.\n",
    "\n",
    "\n",
    "Here is how we define a quantum operation that accesses the calibration:"
   ]
  },
  {
   "cell_type": "code",
   "execution_count": null,
   "id": "cbc032a4-3764-4837-8604-dda486522267",
   "metadata": {},
   "outputs": [],
   "source": [
    "@qops.register\n",
    "def op_that_examines_signal_calibration(self, q):\n",
    "    calibration = dsl.experiment_calibration()\n",
    "    signal_calibration = calibration[q.signals[\"drive\"]]\n",
    "    # ... examine or set calibration, play pulses, etc, e.g.:\n",
    "    signal_calibration.oscillator.frequency = 0.2121e9"
   ]
  },
  {
   "cell_type": "markdown",
   "id": "65c16991-6b32-48d4-bbc9-5519a17e942d",
   "metadata": {},
   "source": [
    "### Near-time quantum operations\n",
    "\n",
    "Most quantum operations are used inside real-time acquisition loops. That is, they are intended to be called inside a [dsl.acquire_loop_rt](https://docs.zhinst.com/labone_q_user_manual/core/functionality_and_concepts/03_sections_pulses/concepts/04_averaging_sweeping.html#the-real-time-acquisition-loop) block.\n",
    "\n",
    "Some operations must be called in near-time, that is, outside the `dsl.acquire_loop_rt` block. In particular, operations that call [near-time callback functions](https://docs.zhinst.com/labone_q_user_manual/core/functionality_and_concepts/05_experiment/concepts/01_callback_functions.html) using `dsl.call` must be declared as near-time operations.\n",
    "\n",
    "Let's see how to write such an operation:"
   ]
  },
  {
   "cell_type": "code",
   "execution_count": null,
   "id": "a1c55ef8-6f6d-4353-9ed5-48ee9032def5",
   "metadata": {},
   "outputs": [],
   "source": [
    "@qops.register\n",
    "@dsl.quantum_operation(neartime=True)\n",
    "def set_dc_bias(qops, qubit, voltage):\n",
    "    dsl.call(\"set_dc_bias\", voltage=voltage)"
   ]
  },
  {
   "cell_type": "markdown",
   "id": "c873114f-5b51-4fb3-a675-b940b434a7f5",
   "metadata": {},
   "source": [
    "The `@dsl.quantum_operation(neartime=True)` decorator marks the operation as near-time. The function `dsl.call` makes a near-time callback to a pre-defined near-time function registered to the `Session` as described [here](https://docs.zhinst.com/labone_q_user_manual/core/functionality_and_concepts/05_experiment/concepts/01_callback_functions.html#registering-near-time-callback-functions). We have not done this in this example.\n",
    "\n",
    "The section created looks as follows:"
   ]
  },
  {
   "cell_type": "code",
   "execution_count": null,
   "id": "f12f45e8-67e6-4165-b206-37c762a24366",
   "metadata": {},
   "outputs": [],
   "source": [
    "section = qops.set_dc_bias(qubits[0], 1.5)\n",
    "section"
   ]
  },
  {
   "cell_type": "markdown",
   "id": "7c2f8747-3a8d-4d65-b31e-a90cb9ea7a65",
   "metadata": {},
   "source": [
    "Note that the `execution_type` is set to `ExecutionType.NEAR_TIME`. This ensures that the LabOne Q compiler will raise an error if the operation is called inside the `dsl.acquire_loop_rt` block.\n",
    "\n",
    "The section also does not reserve any signals. A near-time operation does not use any signals, since operations on signals are real-time."
   ]
  },
  {
   "cell_type": "markdown",
   "id": "3f62640b-d167-4875-bbca-8a815b706ffd",
   "metadata": {},
   "source": [
    "### Broadcasting quantum operations\n",
    "\n",
    "The general idea behind this features was explained in the page on [the concepts of quantum operations](https://docs.zhinst.com/labone_q_user_manual/core/functionality_and_concepts/04_quantum_processing_unit/concepts/index.html#quantum-operations). Here, we will show you how this works at the moment.\n",
    "\n",
    "<p style=\"color: red;\">Note that the broadcasting feature is currently an experimental \n",
    "feature and might still change in the future.</p>"
   ]
  },
  {
   "cell_type": "markdown",
   "id": "d8bdce09-4274-4a3b-a61f-0982a1229118",
   "metadata": {},
   "source": [
    "We activate broadcasting just by supplying a list of qubits instead of a single qubit, like so:"
   ]
  },
  {
   "cell_type": "code",
   "execution_count": null,
   "id": "f465cd73-2f74-4147-83fe-ebb7f6d0df27",
   "metadata": {},
   "outputs": [],
   "source": [
    "sections = qops.x180(qubits)"
   ]
  },
  {
   "cell_type": "markdown",
   "id": "ddfe7c5f-a226-4e7a-9ce8-1c27fdbd14ee",
   "metadata": {},
   "source": [
    "It created one section for each of our qubits:"
   ]
  },
  {
   "cell_type": "code",
   "execution_count": null,
   "id": "bdd5e6ef-47ee-4185-a68f-a2ff23936da4",
   "metadata": {},
   "outputs": [],
   "source": [
    "[section.name for section in sections]"
   ]
  },
  {
   "cell_type": "markdown",
   "id": "bffc2883-833a-42a2-9cf4-41c52e811866",
   "metadata": {},
   "source": [
    "Note that the sections returned are in the same order as the list of qubits we provided. This ordering is guaranteed by the broadcasting machinery so you can rely on it if you need to.\n",
    "\n",
    "If we look at one of these sections, we can see it looks just like the section created by calling the operation with the corresponding single qubit.\n",
    "\n",
    "Here is the section for qubit `q2`:"
   ]
  },
  {
   "cell_type": "code",
   "execution_count": null,
   "id": "73331e6b-a61e-4506-ab51-bc63ce5ef76b",
   "metadata": {
    "scrolled": true
   },
   "outputs": [],
   "source": [
    "sections[2]"
   ]
  },
  {
   "cell_type": "markdown",
   "id": "24379c40-fe32-4564-be50-ef6903ba16d3",
   "metadata": {},
   "source": [
    "What about operations that take additional parameters like `rx`?\n",
    "In these cases you can choose whether to supply one value for the parameter for all the qubits, or one value for each qubit.\n",
    "\n",
    "We'll try a single value for all qubits first:"
   ]
  },
  {
   "cell_type": "code",
   "execution_count": null,
   "id": "ca377843-17b8-447a-863f-e001e8be0384",
   "metadata": {},
   "outputs": [],
   "source": [
    "sections = qops.rx_fixed_length(qubits, amplitude=0.25)"
   ]
  },
  {
   "cell_type": "markdown",
   "id": "71f49e66-6001-4b51-a43f-cadc90ff80f5",
   "metadata": {},
   "source": [
    "If we take a look at the amplitudes of the pulses of each qubit, we'll see that they're all the same:"
   ]
  },
  {
   "cell_type": "code",
   "execution_count": null,
   "id": "60a9217b-d899-428b-a4a0-50f4399536be",
   "metadata": {},
   "outputs": [],
   "source": [
    "def print_rx_amplitudes(sections):\n",
    "    \"\"\"Print the amplitude of rx operation pulses.\"\"\"\n",
    "    print(\"Amplitudes\")\n",
    "    print(\"----------\")\n",
    "    for section in sections:\n",
    "        print(section.children[-1].amplitude)\n",
    "\n",
    "\n",
    "print_rx_amplitudes(sections)"
   ]
  },
  {
   "cell_type": "markdown",
   "id": "96737843-a624-4cf4-952a-0e732aa64eca",
   "metadata": {},
   "source": [
    "Now let's try passing a different amplitude for each qubit:"
   ]
  },
  {
   "cell_type": "code",
   "execution_count": null,
   "id": "aabf2e16-680e-419c-b973-a2efc058c9d3",
   "metadata": {},
   "outputs": [],
   "source": [
    "sections = qops.rx_fixed_length(\n",
    "    qubits, amplitude=[1 / (i + 1) for i in range(len(qubits))]\n",
    ")\n",
    "\n",
    "print_rx_amplitudes(sections)"
   ]
  },
  {
   "cell_type": "markdown",
   "id": "48d04431-1b18-4e2b-abd6-5759c543ab53",
   "metadata": {},
   "source": [
    "What happens if you supply a different number of amplitudes and qubits? You will get an error like this:"
   ]
  },
  {
   "cell_type": "code",
   "execution_count": null,
   "id": "b3f2be8c-c496-4b00-9fec-9d44e1eb98ee",
   "metadata": {},
   "outputs": [],
   "source": [
    "import numpy as np\n",
    "\n",
    "try:\n",
    "    # only one amplitude is supplied but there are 3 qubits\n",
    "    sections = qops.rx(qubits, [np.pi])\n",
    "except ValueError as e:\n",
    "    print(e)"
   ]
  },
  {
   "cell_type": "markdown",
   "id": "20291a1d-5ec7-46f7-a5c6-c97840da2670",
   "metadata": {},
   "source": [
    "Broadcasting is powerful and a little complex. Just remember that it generates one operation section for each qubit.\n",
    "\n",
    "If you need to write a quantum operation that should never be broadcast, for example an operation such as a QFT (Quantum Fourier Transform) that already takes in a list of qubits, one can use `@quantum_operation(broadcast=False)` like this: "
   ]
  },
  {
   "cell_type": "code",
   "execution_count": null,
   "id": "f89c6f93-96f3-4d9a-b2fd-09100c4d7e41",
   "metadata": {},
   "outputs": [],
   "source": [
    "@dsl.quantum_operation(broadcast=False)\n",
    "def x180_never_broadcast(qop, qubits):\n",
    "    for q in qubits:\n",
    "        qops.x180(q)\n",
    "\n",
    "\n",
    "qops.register(x180_never_broadcast)"
   ]
  },
  {
   "cell_type": "markdown",
   "id": "51b0ce16-5ec3-41e2-bd58-2fd3a1b4090c",
   "metadata": {},
   "source": [
    "Now when we call `x180_never_broadcast` with a list of qubits it will not use the broadcast functionality but just call the operation we implemented:"
   ]
  },
  {
   "cell_type": "code",
   "execution_count": null,
   "id": "8995b563-4e11-4fb1-b5eb-d7a05282f559",
   "metadata": {},
   "outputs": [],
   "source": [
    "section = qops.x180_never_broadcast(qubits)\n",
    "section.name"
   ]
  },
  {
   "cell_type": "markdown",
   "id": "d1cec1aa-936d-4434-809f-ce6ced992ba9",
   "metadata": {},
   "source": [
    "As you can see, it returned just one section that applies X90 gates to each qubit."
   ]
  },
  {
   "cell_type": "markdown",
   "id": "4a67d1ae-9a1d-485a-81da-583fcfdac056",
   "metadata": {},
   "source": [
    "### Combining quantum operations\n",
    "\n",
    "In general, quantum processing units are complicated objects with different kinds of quantum elements, each with their own set of quantum operations. In these cases, it may be useful to combine quantum operations to deal with such a mixed set of quantum elements.\n",
    "\n",
    "In the examples above, we defined the `TransmonOperations`, which are designed to act solely on `Transmon` qubits. Let us consider the case where we also have a different kind of qubit called `AlternativeTransmon`, with its own set of operations called `AlternativeTransmonOperations`."
   ]
  },
  {
   "cell_type": "code",
   "execution_count": null,
   "id": "503661d8-16d6-4b49-a4c8-3a6267ebcb17",
   "metadata": {},
   "outputs": [],
   "source": [
    "class AlternativeTransmon(QuantumElement):\n",
    "    REQUIRED_SIGNALS = (\"acquire\", \"drive\", \"measure\")\n",
    "\n",
    "\n",
    "class AlternativeTransmonOperations(dsl.QuantumOperations):\n",
    "    QUBIT_TYPES = AlternativeTransmon\n",
    "\n",
    "    @dsl.quantum_operation\n",
    "    def rx(\n",
    "        self,\n",
    "        q: AlternativeTransmon,\n",
    "        amplitude: float | SweepParameter,\n",
    "        length: float | SweepParameter,\n",
    "        phase: float = 0.0,\n",
    "    ) -> None:\n",
    "        pulse_parameters = {\"function\": \"drag\", \"beta\": 0.02, \"sigma\": 0.42}\n",
    "        rx_pulse = dsl.create_pulse(pulse_parameters, name=\"rx_pulse\")\n",
    "\n",
    "        dsl.play(\n",
    "            q.signals[\"drive\"],\n",
    "            amplitude=amplitude,\n",
    "            length=length,\n",
    "            phase=phase,\n",
    "            pulse=rx_pulse,\n",
    "        )"
   ]
  },
  {
   "cell_type": "markdown",
   "id": "f834a97a-981f-430d-b38b-7cc5858aaadc",
   "metadata": {},
   "source": [
    "As we can see, the `AlternativeTransmonOperations` class acts solely on `AlternativeTransmon` objects and also has a method named `rx` with slightly different values of `beta` and `sigma` in its `pulse_parameters`.\n",
    "\n",
    "Let us now combine these quantum operations into a single quantum operations class called `CombinedOperations`."
   ]
  },
  {
   "cell_type": "code",
   "execution_count": null,
   "id": "6e42bb1d-b7e5-4916-8356-73150f194154",
   "metadata": {},
   "outputs": [],
   "source": [
    "class CombinedOperations(TransmonOperations, AlternativeTransmonOperations):\n",
    "    pass\n",
    "\n",
    "\n",
    "combined_qops = CombinedOperations()"
   ]
  },
  {
   "cell_type": "markdown",
   "id": "7fbad5d2-bacf-49d8-8100-345da11283e1",
   "metadata": {},
   "source": [
    "Since `TransmonOperations` support `Transmon` qubits and `AlternativeTransmonOperations` support `AlternativeTransmon` qubits, our combined class can support both. "
   ]
  },
  {
   "cell_type": "code",
   "execution_count": null,
   "id": "203f9d7d-3ae7-4b5f-9dc9-346e13eaffdb",
   "metadata": {},
   "outputs": [],
   "source": [
    "combined_qops.QUBIT_TYPES"
   ]
  },
  {
   "cell_type": "markdown",
   "id": "e38b9793-1155-4a14-a74e-99ec0f0c1070",
   "metadata": {},
   "source": [
    "By examining the keys of this combined instance, we can see that `CombinedOperations` still only has one operation `rx`."
   ]
  },
  {
   "cell_type": "code",
   "execution_count": null,
   "id": "76a6df30-25fc-453b-b3be-16f26be721a3",
   "metadata": {},
   "outputs": [],
   "source": [
    "combined_qops.keys()"
   ]
  },
  {
   "cell_type": "markdown",
   "id": "7767f6db-72e0-4f50-bd5e-6c0267cb6e3d",
   "metadata": {},
   "source": [
    "However, the operation `rx` is a `MultiMethod`, which means that it is a dictionary of functions that are dispatched based on their type signature. Let us take a closer look at what this means."
   ]
  },
  {
   "cell_type": "markdown",
   "id": "80a8cff2-b652-4ead-b4e1-47247f8d0023",
   "metadata": {},
   "source": [
    "We can start by re-examining the source code of the `rx` operation."
   ]
  },
  {
   "cell_type": "code",
   "execution_count": null,
   "id": "2837d87a-91ef-4deb-ba93-f159e5239359",
   "metadata": {},
   "outputs": [],
   "source": [
    "combined_qops.rx.src"
   ]
  },
  {
   "cell_type": "markdown",
   "id": "0aefba6d-2cd1-4884-a976-b30f2686e4cb",
   "metadata": {},
   "source": [
    "Here, we can see that there are two versions of the `rx` function that are registered. One with the type signature `('object', 'AlternativeTransmon', 'float' | 'SweepParameter', 'float' | 'SweepParameter', 'float')` and the other with the type signature \n",
    "`('object', 'Transmon', 'float' | 'SweepParameter', 'float' | 'SweepParameter', 'float')`.\n",
    "\n",
    "Note that, in LabOne Q, we only dispatch based on type signatures that are of the same length, and only on the `QuantumElement` types. Therefore, for the purposes of dispatching, the type of other parameters in the type signature is considered `object`. Keyword arguments are ignored. We can examine the `MultiMethod` dictionary to see precisely how the `rx` operation is dispatched."
   ]
  },
  {
   "cell_type": "code",
   "execution_count": null,
   "id": "2059ae9d-66c9-4464-8515-18291035e0c5",
   "metadata": {},
   "outputs": [],
   "source": [
    "combined_qops.rx.op"
   ]
  },
  {
   "cell_type": "markdown",
   "id": "60931d48-f612-4574-9ebe-0dcf8188c31b",
   "metadata": {},
   "source": [
    "In the example above, our `MultiMethod` has two entries: one where the first positional argument is a `Transmon`, and one where the first positional argument is an `AlternativeTransmon`. To verify that this `MultiMethod` is working as expected, let us try to call `rx` with different types and check that the `beta` and `sigma` values are reported correctly."
   ]
  },
  {
   "cell_type": "code",
   "execution_count": null,
   "id": "529c7200-0252-4a29-9559-795e341b0c9d",
   "metadata": {},
   "outputs": [],
   "source": [
    "qubit = qubits[0]\n",
    "print(f\"Calling rx with {type(qubit).__name__} argument:\")\n",
    "section = combined_qops.rx(qubit, 1, 50e-9)\n",
    "print(section)"
   ]
  },
  {
   "cell_type": "code",
   "execution_count": null,
   "id": "ccf9ae1e-4180-4807-9427-dbfaab4cb5ab",
   "metadata": {},
   "outputs": [],
   "source": [
    "alt_qubit = AlternativeTransmon(\n",
    "    uid=\"alt_q0\",\n",
    "    signals={\n",
    "        \"acquire\": \"alt_q0/acquire\",\n",
    "        \"drive\": \"alt_q0/drive\",\n",
    "        \"measure\": \"alt_q0/measure\",\n",
    "    },\n",
    ")\n",
    "print(f\"Calling rx with {type(alt_qubit).__name__} argument:\")\n",
    "alt_section = combined_qops.rx(alt_qubit, 1, 50e-9)\n",
    "print(alt_section)"
   ]
  },
  {
   "cell_type": "markdown",
   "id": "e3edb195-b4ac-42d6-8670-8bc6f9831fdd",
   "metadata": {},
   "source": [
    "As expected, the two sections are effectively the same, apart from the `beta` and `sigma` values in their `pulse_parameters`. This shows that the function dispatching is working correctly."
   ]
  },
  {
   "cell_type": "markdown",
   "id": "6482c447-5b60-4a3e-bccf-974a6aeb3de4",
   "metadata": {},
   "source": [
    "This tutorial has introduced the quantum operations feature of LabOne Q. \n",
    "\n",
    "Check out the [LabOne Q Applications Library](https://github.com/zhinst/laboneq-applications), where you can find our implementation of a set of [quantum operations for superconducting tunable-transmon qubits](https://docs.zhinst.com/labone_q_user_manual/applications_library/tutorials/sources/quantum_operations.html). "
   ]
  }
 ],
 "metadata": {
  "kernelspec": {
   "display_name": "Python 3 (ipykernel)",
   "language": "python",
   "name": "python3"
  },
  "language_info": {
   "codemirror_mode": {
    "name": "ipython",
    "version": 3
   },
   "file_extension": ".py",
   "mimetype": "text/x-python",
   "name": "python",
   "nbconvert_exporter": "python",
   "pygments_lexer": "ipython3",
   "version": "3.13.2"
  }
 },
 "nbformat": 4,
 "nbformat_minor": 5
}
