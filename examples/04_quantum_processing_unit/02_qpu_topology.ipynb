{
 "cells": [
  {
   "cell_type": "markdown",
   "id": "d3611cf6-7a79-458d-95a1-0d3cd5c4915a",
   "metadata": {},
   "source": [
    "# QPU and QPU Topology\n",
    "\n",
    "In a typical experiment, the quantum elements that we would like to control are on a quantum processing unit (QPU) with a given topology, which describes how the quantum elements are connected to each other. Understanding the properties of the QPU is important in a variety of situations, such as applying multi-qubit gates or compensating for crosstalk.\n",
    "\n",
    "In LabOne Q, we use the [dsl.QPU](https://docs.zhinst.com/labone_q_user_manual/core/reference/dsl/quantum.html#laboneq.dsl.quantum.qpu.QPU) class to organize this information, which takes the given quantum elements and quantum operations as input arguments. The default QPU topology is then constructed on initialization from these quantum elements and is accessible via the `topology` attribute. Additional connections in the topology can be made at a later stage.\n",
    "\n",
    "In this tutorial, we will go through the basic properties of the `QPU` class, including: how to initialize a QPU, how to modify its topology, and how this may be applied in the context of a real experiment."
   ]
  },
  {
   "cell_type": "markdown",
   "id": "602fb977-057a-4cf7-8f13-1d5c59461888",
   "metadata": {},
   "source": [
    "## Imports"
   ]
  },
  {
   "cell_type": "code",
   "execution_count": null,
   "id": "f2434940-6d0b-4c0c-997b-aed3d13f2ffc",
   "metadata": {},
   "outputs": [],
   "source": [
    "import attrs\n",
    "\n",
    "from laboneq.core.utilities.dsl_dataclass_decorator import classformatter\n",
    "from laboneq.dsl.quantum import (\n",
    "    QPU,\n",
    "    Transmon,\n",
    "    QuantumOperations,\n",
    "    QuantumParameters,\n",
    "    QuantumElement,\n",
    ")\n",
    "from laboneq.simple import *"
   ]
  },
  {
   "cell_type": "markdown",
   "id": "5328a607-09c3-48aa-99e3-daf06cf5275b",
   "metadata": {},
   "source": [
    "## Define the quantum elements and operations\n",
    "\n",
    "Following from the previous tutorials, we will demonstrate the functionality of the QPU class using `Transmon` qubits. We start by defining an example qubit template together with a set of example qubit operations."
   ]
  },
  {
   "cell_type": "code",
   "execution_count": null,
   "id": "d18d31cc-14c6-4d57-909e-5b8d3b2de7e8",
   "metadata": {},
   "outputs": [],
   "source": [
    "def qubit_template(i):\n",
    "    return Transmon(\n",
    "        uid=f\"q{i}\",\n",
    "        signals={\n",
    "            \"drive\": f\"q{i}/drive\",\n",
    "            \"measure\": f\"q{i}/measure\",\n",
    "            \"acquire\": f\"q{i}/acquire\",\n",
    "        },\n",
    "        parameters={\"resonance_frequency_ge\": i},\n",
    "    )\n",
    "\n",
    "\n",
    "class TransmonOperations(QuantumOperations):\n",
    "    QUBIT_TYPES = Transmon"
   ]
  },
  {
   "cell_type": "markdown",
   "id": "647052fa-6e5b-4e3d-a4b4-a446b3592176",
   "metadata": {},
   "source": [
    "In addition to qubits, we may also have other quantum elements on the QPU. For example, we define a custom `Coupler` quantum element below, together with its associated `CouplerOperations`."
   ]
  },
  {
   "cell_type": "code",
   "execution_count": null,
   "id": "692ce5d3-17f0-4817-9c34-63eae2022f73",
   "metadata": {},
   "outputs": [],
   "source": [
    "@classformatter\n",
    "@attrs.define(kw_only=True)\n",
    "class CouplerParameters(QuantumParameters):\n",
    "    amplitude: float = 0.5\n",
    "    length: float = 100e-9\n",
    "    pulse: dict = attrs.field(factory=lambda: {\"function\": \"gaussian_square\"})\n",
    "\n",
    "\n",
    "class Coupler(QuantumElement):\n",
    "    PARAMETERS_TYPE = CouplerParameters\n",
    "    REQUIRED_SIGNALS = (\"flux\",)\n",
    "\n",
    "\n",
    "class CouplerOperations(QuantumOperations):\n",
    "    QUBIT_TYPES = Coupler\n",
    "\n",
    "\n",
    "c0 = Coupler(\n",
    "    uid=\"c0\",\n",
    "    signals={\"flux\": \"c0/flux\"},\n",
    ")"
   ]
  },
  {
   "cell_type": "markdown",
   "id": "a8ad267d-fd8c-4fbb-ac11-ec0d793c0083",
   "metadata": {},
   "source": [
    "## Define the QPU"
   ]
  },
  {
   "cell_type": "markdown",
   "id": "d56b04d4-af2d-4bec-9a54-f386660f2634",
   "metadata": {},
   "source": [
    "A `QPU` object can be defined from a single quantum element, a sequence of quantum elements, or a dictionary of quantum element groups, together with a subclass, or list, of `QuantumOperations`. For example, we can define a QPU simply using a list of quantum elements, as shown below.\n",
    "\n",
    "<div class=\"alert alert-block alert-info\">\n",
    "<b>Note:</b>\n",
    "\n",
    "If a list of quantum operations is given, these are combined into a single class. For further details, please see the tutorial on [combining quantum operations](https://docs.zhinst.com/labone_q_user_manual/core/functionality_and_concepts/04_quantum_processing_unit/tutorials/00_quantum_operations.html#combining-quantum-operations).\n",
    "</div>"
   ]
  },
  {
   "cell_type": "code",
   "execution_count": null,
   "id": "0bc60411-b6b1-4873-bcf8-79778a478b88",
   "metadata": {
    "scrolled": true
   },
   "outputs": [],
   "source": [
    "quantum_element_list = [qubit_template(i) for i in range(2)] + [c0]\n",
    "qpu = QPU(\n",
    "    quantum_elements=quantum_element_list,\n",
    "    quantum_operations=[TransmonOperations, CouplerOperations],\n",
    ")\n",
    "qpu"
   ]
  },
  {
   "cell_type": "markdown",
   "id": "1a997b84-9d18-4e4d-8916-5a686b6e7a3a",
   "metadata": {},
   "source": [
    "In this case, we can see that we have three quantum elements on our QPU with UIDs: `q0`, `q1`, `c0`. This corresponds to two transmon qubits and one tunable coupler in the experiment. We can access these quantum elements directly from the QPU by UID, slice, or subclass."
   ]
  },
  {
   "cell_type": "code",
   "execution_count": null,
   "id": "2bab6046-e161-4ff4-b5ee-1b68f0f809d2",
   "metadata": {},
   "outputs": [],
   "source": [
    "qpu[\"q0\"]  # returns a single quantum element by UID\n",
    "qpu[[\"q0\", \"q1\"]]  # returns a list of quantum elements by UID\n",
    "qpu[:2]  # returns the first two quantum elements by slice\n",
    "qpu[Transmon]  # returns the quantum elements of a given type"
   ]
  },
  {
   "cell_type": "markdown",
   "id": "d941c31b-3f7c-421e-93a5-2a3305ba69f6",
   "metadata": {},
   "source": [
    "If there are multiple kinds of quantum elements present in the QPU, then it may be useful to categorise them into groups. The advantage of this is that we can then conveniently retrieve these custom groups as attributes of `qpu.groups`. The behaviour of the QPU is otherwise unaffected."
   ]
  },
  {
   "cell_type": "code",
   "execution_count": null,
   "id": "b350cab0-25df-4b4c-a62a-7b2f079cdb01",
   "metadata": {},
   "outputs": [],
   "source": [
    "quantum_element_dict = {\n",
    "    \"qubits\": [qubit_template(i) for i in range(2)],\n",
    "    \"couplers\": [c0],\n",
    "}\n",
    "qpu = QPU(\n",
    "    quantum_elements=quantum_element_dict,\n",
    "    quantum_operations=[TransmonOperations, CouplerOperations],\n",
    ")\n",
    "qpu.groups.qubits\n",
    "qpu.groups.couplers"
   ]
  },
  {
   "cell_type": "markdown",
   "id": "ccbe4d6b-6cfe-4ac9-b3f0-40d088776252",
   "metadata": {},
   "source": [
    "The instructions that our QPU supports are the `TransmonOperations` that we defined above. There are no connections between our quantum elements by default and so there are currently no edges in the `topology` attribute. "
   ]
  },
  {
   "cell_type": "markdown",
   "id": "93d5c075-d920-4b72-bd5b-23a1139bba69",
   "metadata": {},
   "source": [
    "## Define the QPU topology\n",
    "\n",
    "By default, all of the quantum elements on the QPU are initialized as disconnected nodes in the QPU topology. We can check this by plotting the initial QPU topology graph with `disconnected=True`. Note that the `quantum_elements` argument for `QPU` is a complete list of all the quantum elements present on the QPU and therefore, nodes cannot be added or removed from the topology after the QPU has been defined."
   ]
  },
  {
   "cell_type": "code",
   "execution_count": null,
   "id": "d7ad6ba8-6b0d-4446-a0d8-3f44a106160b",
   "metadata": {},
   "outputs": [],
   "source": [
    "qpu.topology.plot(disconnected=True)"
   ]
  },
  {
   "cell_type": "markdown",
   "id": "ec5149a2-077a-45aa-8923-63621a5206ee",
   "metadata": {},
   "source": [
    "### Nodes\n",
    "\n",
    "The information about the nodes can be looked up using the `nodes` and `node_keys` iterators. The `nodes` iterator generates the quantum elements at the nodes, and the `node_keys` iterator generates the UIDs of the quantum_elements at the nodes."
   ]
  },
  {
   "cell_type": "code",
   "execution_count": null,
   "id": "b8a70623-fd16-40c5-93ce-1157fae3dad2",
   "metadata": {
    "scrolled": true
   },
   "outputs": [],
   "source": [
    "for node in qpu.topology.nodes():\n",
    "    print(node)"
   ]
  },
  {
   "cell_type": "code",
   "execution_count": null,
   "id": "11d9da7c-f1bc-4398-adc3-5dca0226fcb0",
   "metadata": {},
   "outputs": [],
   "source": [
    "for node_key in qpu.topology.node_keys():\n",
    "    print(node_key)"
   ]
  },
  {
   "cell_type": "markdown",
   "id": "07a29ec5-bad3-4770-85a9-486a2a173224",
   "metadata": {},
   "source": [
    "It is also possible to retrieve the information on a specific node in the graph using the `get_node` method."
   ]
  },
  {
   "cell_type": "code",
   "execution_count": null,
   "id": "0d86c777-11d9-4859-be9e-724edab397a5",
   "metadata": {},
   "outputs": [],
   "source": [
    "qpu.topology.get_node(\"q0\")"
   ]
  },
  {
   "cell_type": "markdown",
   "id": "80665a05-baa5-4879-89d5-18290784bb31",
   "metadata": {},
   "source": [
    "<div class=\"alert alert-block alert-info\">\n",
    "<b>Note:</b>\n",
    "\n",
    "The node retrieval methods in the `QPUTopology` class are provided for completeness. Accessing the nodes in `QPUTopology` is discouraged, in favour of equivalent methods in the `QPU` class. \n",
    "    \n",
    "For example, we recommend using `qpu[\"q0\"]` instead of `qpu.topology.get_node(\"q0\")`. \n",
    "</div>"
   ]
  },
  {
   "cell_type": "markdown",
   "id": "2696b62a-efa8-4b63-9402-c98b3aea229d",
   "metadata": {},
   "source": [
    "### Edges\n",
    "\n",
    "Since the nodes represent the complete set of quantum elements on the QPU, and therefore cannot be changed after the QPU is defined, modifications to the QPU topology come in the form of adding and removing edges. An edge is a directed connection between two nodes. Optionally, an edge may also have its own set of parameters and/or its own associated quantum element.\n",
    "\n",
    "<div class=\"alert alert-block alert-info\">\n",
    "<b>Note:</b>\n",
    "The quantum element associated to an edge may only come from the pool of quantum elements that are present on the QPU.\n",
    "</div>\n",
    "\n",
    "Since there may be multiple edges between two nodes on the QPU, we provide each edge with a user-defined string called a `tag`. In this way, an edge may be accessed via the tuple `(tag, source_node, target_node)`, where `tag` is a user-defined string, `source_node` is the UID of the source node, and `target_node` is the UID of the target node.\n",
    "\n",
    "Here, we will look at a few examples to demonstrate how this works. We start by adding a single edge between nodes 0 and 1. The edge appears on the graph as an arrow going from the source to the target node. The edge tag is labeled on the arrow. Analogously, edges may be removed using the `remove_edge` method."
   ]
  },
  {
   "cell_type": "code",
   "execution_count": null,
   "id": "9dbbdda7-c3a3-4626-aed5-54df8c21e4a4",
   "metadata": {
    "scrolled": true
   },
   "outputs": [],
   "source": [
    "qpu.topology.add_edge(\"empty\", \"q0\", \"q1\")\n",
    "qpu.topology.plot()"
   ]
  },
  {
   "cell_type": "markdown",
   "id": "5a36725d-d4cc-4f52-876a-e3b890c83714",
   "metadata": {},
   "source": [
    "In this fashion, we can continue to add edges to the graph until the topology of the QPU is accurately described. For example, we can add an additional edge from node 0 to node 1, and we can add an edge in the opposite direction, from node 1 to node 0. Each edge may also have a set of edge parameters and its own quantum element. In the example below, we add the coupler `c0` to the edge going from `q0` to `q1`. For clarity, the edge quantum element UID is printed next to the edge tag."
   ]
  },
  {
   "cell_type": "code",
   "execution_count": null,
   "id": "8fed110b-8e49-4417-a7b1-8a36a363e8b6",
   "metadata": {},
   "outputs": [],
   "source": [
    "qpu.topology.add_edge(\"coupler\", \"q0\", \"q1\", quantum_element=\"c0\")\n",
    "qpu.topology.add_edge(\"empty\", \"q1\", \"q0\")\n",
    "qpu.topology.plot()"
   ]
  },
  {
   "cell_type": "markdown",
   "id": "2f8f35fe-6948-4b6e-8032-1b2dae05b439",
   "metadata": {},
   "source": [
    "Similar to the nodes, information about the edges may be looked up using the `edges` and `edge_keys` iterators. The `edges` iterator generates the edges in the graph, which are `TopologyEdge` objects, and the `edge_keys` iterator generates the keys of the edges, which are the `(tag, source_node, target_node)` tuples."
   ]
  },
  {
   "cell_type": "code",
   "execution_count": null,
   "id": "9ef958ff-112f-469e-b086-3a94a10fe243",
   "metadata": {},
   "outputs": [],
   "source": [
    "for edges in qpu.topology.edges():\n",
    "    print(edges)"
   ]
  },
  {
   "cell_type": "code",
   "execution_count": null,
   "id": "f9bb3544-abf4-4a95-9ca4-237b0c0e0378",
   "metadata": {},
   "outputs": [],
   "source": [
    "for edge_key in qpu.topology.edge_keys():\n",
    "    print(edge_key)"
   ]
  },
  {
   "cell_type": "markdown",
   "id": "54f58829-73fd-429c-a77c-d3e7a36f4ff2",
   "metadata": {},
   "source": [
    "It is also possible to retrieve the information on a particular edge directly from the QPU topology."
   ]
  },
  {
   "cell_type": "code",
   "execution_count": null,
   "id": "84b2c8df-9d47-4eba-9fd3-59d0d303933f",
   "metadata": {},
   "outputs": [],
   "source": [
    "qpu.topology[\"coupler\", \"q0\", \"q1\"]"
   ]
  },
  {
   "cell_type": "markdown",
   "id": "6b897408-f364-4987-a562-3e1f03d7d7b6",
   "metadata": {},
   "source": [
    "Alternatively, we can retrieve information on multiple edges by replacing one or more of the edge key elements with null slices. For example, we can list all of the outgoing edges from \"q0\"."
   ]
  },
  {
   "cell_type": "code",
   "execution_count": null,
   "id": "216182a4-68d9-410b-882f-2fe123d27824",
   "metadata": {},
   "outputs": [],
   "source": [
    "qpu.topology[:, \"q0\", :]"
   ]
  },
  {
   "cell_type": "markdown",
   "id": "37c59a4b-0f49-4121-9b89-1bca654cd281",
   "metadata": {},
   "source": [
    "To improve the plot readability, we can fix the positions of the quantum elements, set an equal aspect ratio, and omit the edge tags."
   ]
  },
  {
   "cell_type": "code",
   "execution_count": null,
   "id": "361b0759-5098-464b-ac55-74f1f905e05d",
   "metadata": {},
   "outputs": [],
   "source": [
    "qpu.topology.plot(\n",
    "    fixed_pos={\"q0\": (0, 0), \"q1\": (1, 0)}, equal_aspect=True, show_tags=False\n",
    ")"
   ]
  },
  {
   "cell_type": "markdown",
   "id": "649f58c65c426a81",
   "metadata": {},
   "source": [
    "We can also check and filter the list of neighboring nodes using the `neighbors` method. Using this, we can check for example, whether all qubits are connected before performing a quantum operation."
   ]
  },
  {
   "cell_type": "code",
   "execution_count": null,
   "id": "74be9a700938e111",
   "metadata": {},
   "outputs": [],
   "source": [
    "qpu.topology.neighbors(\"q0\")"
   ]
  },
  {
   "cell_type": "markdown",
   "id": "3789c6ef8787ca1c",
   "metadata": {},
   "source": [
    "#### Edge parameters\n",
    "\n",
    "We have seen above that the edges are directional `(tag, source_node, target_node)`. This feature together with the ability to attach parameters to an edge is useful for defining directional two-qubit gates, such as `iSWAP_q0_q1` and `iSWAP_q1_q0`. Let's see how we can do this using edge parameters."
   ]
  },
  {
   "cell_type": "markdown",
   "id": "e45b159165d59e5b",
   "metadata": {},
   "source": [
    "In the example below, we pass a custom `IswapParameters` class to the `add_edge` method.\n",
    "\n",
    "<div class=\"alert alert-block alert-info\">\n",
    "<b>Note:</b>\n",
    "Mutable default values are discouraged in python. To avoid this, we initialize dictionary attributes using `attrs` factories.\n",
    "</div>\n",
    "\n",
    "For further instructions on how to define your own subclass of `QuantumParameters`, please see the [Quantum Elements tutorial](https://docs.zhinst.com/labone_q_user_manual/core/functionality_and_concepts/04_quantum_processing_unit/tutorials/01_quantum_elements.html#define-the-parameters)."
   ]
  },
  {
   "cell_type": "code",
   "execution_count": null,
   "id": "78b40d80a0e23694",
   "metadata": {},
   "outputs": [],
   "source": [
    "def default_control_pulse():\n",
    "    return {\n",
    "        \"function\": \"gaussian_square\",\n",
    "        \"amplitude\": 0.9,\n",
    "        \"length\": 100e-9,\n",
    "    }\n",
    "\n",
    "\n",
    "def default_coupler_pulse():\n",
    "    return {\n",
    "        \"function\": \"const\",\n",
    "        \"amplitude\": 0.9,\n",
    "        \"length\": 100e-9,\n",
    "    }\n",
    "\n",
    "\n",
    "@classformatter\n",
    "@attrs.define(kw_only=True)\n",
    "class IswapParameters(QuantumParameters):\n",
    "    control_pulse: dict = attrs.field(factory=default_control_pulse)\n",
    "    coupler_pulse: dict = attrs.field(factory=default_coupler_pulse)"
   ]
  },
  {
   "cell_type": "markdown",
   "id": "d15a32c6002db10",
   "metadata": {},
   "source": [
    "Next, we create two new edges that are both called `iswap` and have the coupler `c0` as a quantum element. One edge is directed from `q0` to `q1` and the other from `q1` to `q0`. We add the `IswapParameters` to both edges:"
   ]
  },
  {
   "cell_type": "code",
   "execution_count": null,
   "id": "e0c0fb6ce63b96a2",
   "metadata": {},
   "outputs": [],
   "source": [
    "qpu.topology.add_edge(\n",
    "    \"iswap\", \"q0\", \"q1\", quantum_element=c0, parameters=IswapParameters()\n",
    ")\n",
    "qpu.topology.add_edge(\n",
    "    \"iswap\", \"q1\", \"q0\", quantum_element=c0, parameters=IswapParameters()\n",
    ")\n",
    "qpu.topology.plot()"
   ]
  },
  {
   "cell_type": "markdown",
   "id": "d2330afab183d224",
   "metadata": {},
   "source": [
    "We can now set different values for the parameters of the two edges, corresponding to the different implementations of those two gates:"
   ]
  },
  {
   "cell_type": "code",
   "execution_count": null,
   "id": "1f7546868864ab85",
   "metadata": {},
   "outputs": [],
   "source": [
    "qpu.topology[\"iswap\", \"q0\", \"q1\"].parameters.control_pulse[\"amplitude\"] = 0.25\n",
    "qpu.topology[\"iswap\", \"q0\", \"q1\"].parameters.coupler_pulse[\"amplitude\"] = 0.25\n",
    "\n",
    "qpu.topology[\"iswap\", \"q1\", \"q0\"].parameters.control_pulse[\"amplitude\"] = 0.5\n",
    "qpu.topology[\"iswap\", \"q1\", \"q0\"].parameters.coupler_pulse[\"amplitude\"] = 0.5"
   ]
  },
  {
   "cell_type": "code",
   "execution_count": null,
   "id": "9fdbbfe07b9c6d7f",
   "metadata": {},
   "outputs": [],
   "source": [
    "qpu.topology[\"iswap\", \"q0\", \"q1\"]"
   ]
  },
  {
   "cell_type": "code",
   "execution_count": null,
   "id": "97c44c4f-2b2b-4f5b-b4d8-2f340d4b6326",
   "metadata": {},
   "outputs": [],
   "source": [
    "qpu.topology[\"iswap\", \"q1\", \"q0\"]"
   ]
  },
  {
   "cell_type": "markdown",
   "id": "e7adfcb2-d625-4f9b-9cad-7d7b5f2da8f0",
   "metadata": {},
   "source": [
    "The parameters for the quantum elements and/or topology edges may also be modified at a later stage using the `QPU.update` method. For example, if we would like to set the `iswap` edge amplitudes in the example above both to `0.5`, but the amplitude of the coupler to `1`, we may write:"
   ]
  },
  {
   "cell_type": "code",
   "execution_count": null,
   "id": "e03ecfcf-307a-499a-a663-6d03c7daba65",
   "metadata": {},
   "outputs": [],
   "source": [
    "new_parameters = {\n",
    "    (\"iswap\", \"q0\", \"q1\"): {\n",
    "        \"control_pulse\": {\"amplitude\": 0.5},\n",
    "        \"coupler_pulse\": {\"amplitude\": 0.5},\n",
    "    },\n",
    "    \"c0\": {\"amplitude\": 1},\n",
    "}\n",
    "qpu.update(new_parameters)"
   ]
  },
  {
   "cell_type": "code",
   "execution_count": null,
   "id": "d051e676-9fc2-474a-a459-a7324ea71f7b",
   "metadata": {},
   "outputs": [],
   "source": [
    "qpu.topology[\"iswap\", \"q0\", \"q1\"]"
   ]
  },
  {
   "cell_type": "code",
   "execution_count": null,
   "id": "951d9103-759f-46ed-9b8a-7935a0170f8f",
   "metadata": {},
   "outputs": [],
   "source": [
    "qpu[\"c0\"]"
   ]
  },
  {
   "cell_type": "markdown",
   "id": "4223e78f-5c01-4399-84be-b48275075c5a",
   "metadata": {},
   "source": [
    "## Saving/loading the QPU\n",
    "\n",
    "Finally, we can view the summary information for our newly-defined QPU by printing the `QPU` object."
   ]
  },
  {
   "cell_type": "code",
   "execution_count": null,
   "id": "9df070dd-6cfe-4e92-9b67-067f1f14dfc6",
   "metadata": {},
   "outputs": [],
   "source": [
    "qpu"
   ]
  },
  {
   "cell_type": "markdown",
   "id": "a75cd439-d488-4877-a82e-c78050b734a3",
   "metadata": {},
   "source": [
    "Here, we can see that we have three edge tags in our topology graph: `empty`, `coupler`, and `iswap`. Since `empty` and `iswap` appear twice and `coupler` appears once, our topology graph has five edges in total.\n",
    "\n",
    "Once we are finished, the QPU object may be saved and loaded just like other quantum objects in LabOne Q, using the `save`/`load` methods from `laboneq.serializers`.\n",
    "\n",
    "For further information on designing your own experiment in LabOne Q, please see the [LabOne Q Applications Library](https://docs.zhinst.com/labone_q_user_manual/applications_library/index.html)."
   ]
  }
 ],
 "metadata": {
  "kernelspec": {
   "display_name": "Python 3 (ipykernel)",
   "language": "python",
   "name": "python3"
  },
  "language_info": {
   "codemirror_mode": {
    "name": "ipython",
    "version": 3
   },
   "file_extension": ".py",
   "mimetype": "text/x-python",
   "name": "python",
   "nbconvert_exporter": "python",
   "pygments_lexer": "ipython3",
   "version": "3.13.2"
  }
 },
 "nbformat": 4,
 "nbformat_minor": 5
}
