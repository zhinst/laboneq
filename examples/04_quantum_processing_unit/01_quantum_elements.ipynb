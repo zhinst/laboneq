{
 "cells": [
  {
   "cell_type": "markdown",
   "id": "e410a078-4687-4c32-b3c2-e903bb828d86",
   "metadata": {},
   "source": [
    "# Quantum Elements\n",
    "\n",
    "It is useful to think of the quantum device we are controlling in terms of components such as qubits, couplers or TWPAs (Travelling Wave Parametric Amplifiers). This allows us to define experiments in terms of operations on these components, rather than having to always think in terms of actions on individual signal lines.\n",
    "\n",
    "In LabOne Q, these components are modelled using the [dsl.QuantumElement](https://docs.zhinst.com/labone_q_user_manual/core/reference/dsl/quantum.html#laboneq.dsl.quantum.quantum_element.QuantumElement) class.\n",
    "\n",
    "A `QuantumElement` consists of:\n",
    "\n",
    "* a set of logical signal lines used to control and/or measure the component, and\n",
    "* a set of parameters for controlling the component\n",
    "\n",
    "Each logical signal line is associated with a name that specifies its function.\n",
    "\n",
    "For example, a transmon qubit might have a signal named `drive` that is mapped to the logical signal `q0/drive` that is used to drive the G-E transition of the qubit and a parameter named `resonance_frequency_ge` that specifies the frequency of the G-E transition in Hz.\n",
    "\n",
    "`QuantumElement` is a base class that contains only the core functionality needed to describe a quantum component. Each group using LabOne Q will likely want create their own sub-class of `QuantumElement` that describes their own components.\n",
    "\n",
    "In this tutorial, we'll go through everything provided by the `QuantumElement` base class and show you how to go about writing your own.\n",
    "\n",
    "In addition to the `QuantumElement` class, LabOne Q provides two sub-classes:\n",
    "\n",
    "* `Transmon`: A demonstration transmon component.\n",
    "* `TunableTransmon`: A tunable transmon component regularly tested on real tunable transmons.\n",
    "\n",
    "You should not use either of these classes in your own experiments but you are welcome to copy them and use them as the starting point for defining your own quantum components.\n",
    "\n",
    "<div class=\"alert alert-block alert-info\">\n",
    "<b>Note:</b> The <em>QuantumElement</em> class changed significantly in LabOne Q 2.44. This tutorial\n",
    "also provides a short section on how to save such older quantum elements in LabOne Q 2.43 or earlier and load them in LabOne 2.44 or later.\n",
    "</div>\n",
    "\n",
    "No tunable transmons were harmed during the writing of this tutorial."
   ]
  },
  {
   "cell_type": "markdown",
   "id": "88387bef-8c9e-497d-a5f5-474dee4d0762",
   "metadata": {},
   "source": [
    "## Imports"
   ]
  },
  {
   "cell_type": "code",
   "execution_count": null,
   "id": "fd5cd6b4-d702-4b56-97de-048f9ad1a4ec",
   "metadata": {},
   "outputs": [],
   "source": [
    "from __future__ import annotations\n",
    "\n",
    "# Import required packages\n",
    "from laboneq.contrib.example_helpers.generate_device_setup import (\n",
    "    generate_device_setup,\n",
    ")\n",
    "import laboneq.serializers"
   ]
  },
  {
   "cell_type": "markdown",
   "id": "4e2f0b65-6e28-424b-bb9f-447d446d8fbe",
   "metadata": {},
   "source": [
    "## A first look at a quantum element\n",
    "\n",
    "Let's start by taking a look at the demonstration `Transmon` quantum element."
   ]
  },
  {
   "cell_type": "code",
   "execution_count": null,
   "id": "1ae45513-8918-4117-b132-edc52030438f",
   "metadata": {},
   "outputs": [],
   "source": [
    "from laboneq.simple import Transmon"
   ]
  },
  {
   "cell_type": "markdown",
   "id": "80ac9361-9b33-4cd4-83f4-26054462b0fe",
   "metadata": {},
   "source": [
    "To create a `Transmon` we need to specify a `uid` and the map from the signal roles to the corresponding logical signal paths for the particular qubit: "
   ]
  },
  {
   "cell_type": "code",
   "execution_count": null,
   "id": "4adc5a03-6156-4a13-b467-1b5d8fdfc537",
   "metadata": {},
   "outputs": [],
   "source": [
    "q0 = Transmon(\n",
    "    uid=\"q0\",\n",
    "    signals={\n",
    "        \"drive\": \"q0/drive\",\n",
    "        \"measure\": \"q0/measure\",\n",
    "        \"acquire\": \"q0/acquire\",\n",
    "    },\n",
    ")"
   ]
  },
  {
   "cell_type": "markdown",
   "id": "3499b12c-f266-40f3-ad90-253967033da7",
   "metadata": {},
   "source": [
    "The list of required signal roles is available via the `REQUIRED_SIGNALS` attribute of the class. Required signal roles must be supplied when the qubit is created:"
   ]
  },
  {
   "cell_type": "code",
   "execution_count": null,
   "id": "58056161-546d-46e3-bf50-363044d94154",
   "metadata": {},
   "outputs": [],
   "source": [
    "Transmon.REQUIRED_SIGNALS"
   ]
  },
  {
   "cell_type": "markdown",
   "id": "7ee3fea9-0238-401d-a207-2770bed7b10d",
   "metadata": {},
   "source": [
    "There is also a list of optional signal roles. For `Transmon` these are:"
   ]
  },
  {
   "cell_type": "code",
   "execution_count": null,
   "id": "30ef408d-2a1d-41e2-8d03-acc4bf1603c3",
   "metadata": {},
   "outputs": [],
   "source": [
    "Transmon.OPTIONAL_SIGNALS"
   ]
  },
  {
   "cell_type": "markdown",
   "id": "e85725c9-6371-48bc-9c37-ec2777ce00af",
   "metadata": {},
   "source": [
    "Let's print out the qubit we just created. We didn't supply any parameters when we created `q0` so the parameter values are the defaults:"
   ]
  },
  {
   "cell_type": "code",
   "execution_count": null,
   "id": "4acb3260-8194-488a-9c62-bcd593b5e9e8",
   "metadata": {},
   "outputs": [],
   "source": [
    "q0"
   ]
  },
  {
   "cell_type": "markdown",
   "id": "14ee31bf-d490-49cf-8efd-e4e8d936f52f",
   "metadata": {},
   "source": [
    "We can also access the parameters individually:"
   ]
  },
  {
   "cell_type": "code",
   "execution_count": null,
   "id": "64a237ab-42c3-45ae-938b-025cef3b4b3c",
   "metadata": {},
   "outputs": [],
   "source": [
    "q0.parameters.drive_range"
   ]
  },
  {
   "cell_type": "markdown",
   "id": "2b689c4c-64b9-4a65-986f-2fd7e6693fa0",
   "metadata": {},
   "source": [
    "Or print out just the parameters"
   ]
  },
  {
   "cell_type": "code",
   "execution_count": null,
   "id": "dbcb6651-3e48-4222-a883-fa4af25eb53e",
   "metadata": {},
   "outputs": [],
   "source": [
    "q0.parameters"
   ]
  },
  {
   "cell_type": "markdown",
   "id": "38898598-e860-43ac-94b2-6792fa43254c",
   "metadata": {},
   "source": [
    "The `uid` and `signals` can also be accessed directly:"
   ]
  },
  {
   "cell_type": "code",
   "execution_count": null,
   "id": "9aca617f-4373-42cf-9829-0322a3e6a1ae",
   "metadata": {},
   "outputs": [],
   "source": [
    "q0.uid"
   ]
  },
  {
   "cell_type": "code",
   "execution_count": null,
   "id": "38687f5d-3dc7-46f2-80a9-d2408f1112bb",
   "metadata": {},
   "outputs": [],
   "source": [
    "q0.signals"
   ]
  },
  {
   "cell_type": "markdown",
   "id": "65f47862-0ca5-420c-95bf-91918f891284",
   "metadata": {},
   "source": [
    "Parameter values can be supplied when a qubit is created:"
   ]
  },
  {
   "cell_type": "code",
   "execution_count": null,
   "id": "59c91fae-edf4-4b25-b087-cc7520da9b19",
   "metadata": {},
   "outputs": [],
   "source": [
    "q0 = Transmon(\n",
    "    uid=\"q0\",\n",
    "    signals={\n",
    "        \"drive\": \"q0/drive\",\n",
    "        \"measure\": \"q0/measure\",\n",
    "        \"acquire\": \"q0/acquire\",\n",
    "    },\n",
    "    parameters={\n",
    "        \"resonance_frequency_ge\": 5.0e9,\n",
    "    },\n",
    ")\n",
    "q0"
   ]
  },
  {
   "cell_type": "markdown",
   "id": "eba71902-9bd7-4c30-8fc7-46255a368baa",
   "metadata": {},
   "source": [
    "Or replaced, which creates a new qubit with the updated parameters:"
   ]
  },
  {
   "cell_type": "code",
   "execution_count": null,
   "id": "ae17ccbc-0168-40c2-816a-f3b088072c68",
   "metadata": {},
   "outputs": [],
   "source": [
    "q0_custom = q0.replace(resonance_frequency_ge=5.1e9)\n",
    "q0_custom"
   ]
  },
  {
   "cell_type": "markdown",
   "id": "d00c2164-11bc-4986-a54d-275184c76446",
   "metadata": {},
   "source": [
    "If you need a copy of the qubit with the same parameters, you can call `.copy`:"
   ]
  },
  {
   "cell_type": "code",
   "execution_count": null,
   "id": "d1024212-35b8-4ef5-87c1-2be77004c68b",
   "metadata": {},
   "outputs": [],
   "source": [
    "q0_copy = q0.copy()\n",
    "q0_copy"
   ]
  },
  {
   "cell_type": "markdown",
   "id": "10eabf24-501a-4a8d-be52-29736490b110",
   "metadata": {},
   "source": [
    "Or, if needed, you can create a copy of just the parameters:"
   ]
  },
  {
   "cell_type": "code",
   "execution_count": null,
   "id": "59aba38c-6a30-42ec-84cb-6ec94df96f5b",
   "metadata": {},
   "outputs": [],
   "source": [
    "q0_parameters_copy = q0.parameters.copy()\n",
    "q0_parameters_copy"
   ]
  },
  {
   "cell_type": "markdown",
   "id": "40117929-a876-47b9-b758-fe96b6af09eb",
   "metadata": {},
   "source": [
    "Lastly, qubit parameters can be modified in-place using `.update`. Using `.replace` is preferred because places where a reference to a qubit is held might not be expecting it to change, but sometimes one wants to really modify an existing qubit. For example, one might wish to update the parameters of the quantum elements in a QPU. One uses `.update` as follows:"
   ]
  },
  {
   "cell_type": "code",
   "execution_count": null,
   "id": "c94f2bfa-4dde-4cf5-b10e-7f028e3a8987",
   "metadata": {},
   "outputs": [],
   "source": [
    "q0.update(resonance_frequency_ge=5.2e9)\n",
    "q0"
   ]
  },
  {
   "cell_type": "markdown",
   "id": "f466716b-e9a7-4eac-b7a4-617b22118a10",
   "metadata": {},
   "source": [
    "Lastly, if one requires a parameters object by itself, one may be created using `.create_parameters` either on the quantum element class:"
   ]
  },
  {
   "cell_type": "code",
   "execution_count": null,
   "id": "98bfba65-ea21-4be0-af03-1e05b6258563",
   "metadata": {},
   "outputs": [],
   "source": [
    "params = Transmon.create_parameters(resonance_frequency_ef=6.7e9)\n",
    "params"
   ]
  },
  {
   "cell_type": "markdown",
   "id": "6ba2346e-9d93-45ca-8727-3a0afdf42eb0",
   "metadata": {},
   "source": [
    "Or directly on a quantum element instance:"
   ]
  },
  {
   "cell_type": "code",
   "execution_count": null,
   "id": "7cfcb196-dc48-4d10-b7ac-21a0e04c9ce5",
   "metadata": {},
   "outputs": [],
   "source": [
    "params = q0.create_parameters(resonance_frequency_ef=6.7e9)\n",
    "params"
   ]
  },
  {
   "cell_type": "markdown",
   "id": "a82b08a9-4ba4-4505-a65e-d3e66fbda983",
   "metadata": {},
   "source": [
    "## Saving and loading quantum elements"
   ]
  },
  {
   "cell_type": "markdown",
   "id": "73761eff-0681-4c65-a57d-350b1de40af8",
   "metadata": {},
   "source": [
    "Quantum elements may be saved and loaded using LabOne Q's serializers from `laboneq.serializers`. Let's import the serializers and save our transmon qubit:"
   ]
  },
  {
   "cell_type": "code",
   "execution_count": null,
   "id": "7e470cdb-6be5-4768-9a57-46196e4cd8e0",
   "metadata": {},
   "outputs": [],
   "source": [
    "laboneq.serializers.save(q0, \"q0.json\")"
   ]
  },
  {
   "cell_type": "markdown",
   "id": "a734bdd8-f4c7-4564-ae69-856fb7b3e8b2",
   "metadata": {},
   "source": [
    "And we can load it back using `.load`:"
   ]
  },
  {
   "cell_type": "code",
   "execution_count": null,
   "id": "4ee41d29-91ac-460f-9bc7-5e2c41b38132",
   "metadata": {},
   "outputs": [],
   "source": [
    "q0_loaded = laboneq.serializers.load(\"q0.json\")"
   ]
  },
  {
   "cell_type": "code",
   "execution_count": null,
   "id": "302b04b6-2f65-4e12-95d3-2c4c1bc5e4a0",
   "metadata": {},
   "outputs": [],
   "source": [
    "q0_loaded"
   ]
  },
  {
   "cell_type": "markdown",
   "id": "712ba294-0f5f-4607-97eb-d194c84eff8a",
   "metadata": {},
   "source": [
    "If you write your own quantum element class, you will still be able to save and load it using `.save` and `.load`. See the section on writing your own QuantumElement below."
   ]
  },
  {
   "cell_type": "markdown",
   "id": "76a947aa-83e0-4bd8-b157-6bc1dfcc31f5",
   "metadata": {},
   "source": [
    "<div class=\"alert alert-block alert-info\">\n",
    "<b>Note:</b>\n",
    "The <em>QuantumElement</em> class has .save(...) and .load(...) methods. These are deprecated and will be removed in the future. They existed to support LabOne Q's previous serializer and now are identical to the `.save` and `.load` functions used above.\n",
    "</div>"
   ]
  },
  {
   "cell_type": "markdown",
   "id": "87f6ae5a-12d9-45c2-b656-14bd0319b4b7",
   "metadata": {},
   "source": [
    "### Loading quantum elements from before LabOne Q 2.44"
   ]
  },
  {
   "cell_type": "markdown",
   "id": "05672edf-9692-494a-aee6-d20940704b0c",
   "metadata": {},
   "source": [
    "Prior to LabOne Q 2.44, quantum elements were saved and loaded using LabOne Q's previous serializer which did not support saving and loading custom QuantumElements. It only supported saving and loading the built-in `Qubit` and `Transmon` classes.\n",
    "\n",
    "If you saved `Qubit` or `Transmon` instances with LabOne Q 2.43 or earlier, you can load them as follows:\n",
    "\n",
    "* Install LabOne Q 2.43.\n",
    "* Load the `Qubit` or `Transmon` instance using, e.g., `q = Transmon.load(...)`.\n",
    "* Save the `Qubit` or `Transmon` instance using `laboneq.serializers.save(q, ...)`.\n",
    "* Install LabOne Q 2.44 or later.\n",
    "* Load the `Qubit` or `Transmon` instance you just saved using `q = laboneq.serializers.load(...)`."
   ]
  },
  {
   "cell_type": "markdown",
   "id": "300e88b0-b845-43f9-a818-b5926ad52632",
   "metadata": {},
   "source": [
    "## Creating quantum elements from a device setup"
   ]
  },
  {
   "cell_type": "markdown",
   "id": "97ec6615-e6d6-401f-98c8-2f012e5862bf",
   "metadata": {},
   "source": [
    "It is common to define a logical signal group for each quantum element in one's device setup using the following convention:\n",
    "\n",
    "* The UID of the logical signal group is the UID of the quantum element, e.g. `q0`.\n",
    "* For each logical signal in the group, the name of the logical signal is the signal's role within the quantum element, e.g. `drive`, `measure`, `acquire`.\n",
    "\n",
    "If you follow the above convention, the `QuantumElement` base class provides two methods to allow you to create your quantum elements from the logical signal groups:\n",
    "\n",
    "* **from_device_setup(...)**: Returns a `QuantumElement` for each logical signal group in the device setup.\n",
    "* **from_logical_signal_group(...)**: Returns a single `QuantumElement` for the given logical signal group.\n",
    "\n",
    "We'll see how to use these two methods below, but first we need to create a device setup:"
   ]
  },
  {
   "cell_type": "code",
   "execution_count": null,
   "id": "fd77e993-5a16-43e0-90fb-2e0d549c12ad",
   "metadata": {},
   "outputs": [],
   "source": [
    "# specify the number of qubits you want to use\n",
    "number_of_qubits = 2\n",
    "\n",
    "# generate the device setup and the qubit objects using a helper function\n",
    "device_setup = generate_device_setup(\n",
    "    number_qubits=number_of_qubits,\n",
    "    shfqc=[\n",
    "        {\n",
    "            \"serial\": \"DEV12001\",\n",
    "            \"zsync\": 1,\n",
    "            \"number_of_channels\": 6,\n",
    "            \"readout_multiplex\": 6,\n",
    "            \"options\": None,\n",
    "        }\n",
    "    ],\n",
    "    include_flux_lines=False,\n",
    "    server_host=\"localhost\",\n",
    "    setup_name=f\"my_{number_of_qubits}_fixed_qubit_setup\",\n",
    ")"
   ]
  },
  {
   "cell_type": "markdown",
   "id": "853e7024-c267-4444-9242-2d3efc55faca",
   "metadata": {},
   "source": [
    "Now that we have a device setup, we can load all the qubits from it:"
   ]
  },
  {
   "cell_type": "code",
   "execution_count": null,
   "id": "b0dcb042-d29e-4fdd-b53d-99f6a1354837",
   "metadata": {},
   "outputs": [],
   "source": [
    "qubits = Transmon.from_device_setup(device_setup)"
   ]
  },
  {
   "cell_type": "code",
   "execution_count": null,
   "id": "30fe7f6c-5aaf-4b65-b75b-428a5af1268b",
   "metadata": {},
   "outputs": [],
   "source": [
    "qubits"
   ]
  },
  {
   "cell_type": "markdown",
   "id": "8e184a7f-01f0-4c86-bccd-71e92073acf3",
   "metadata": {},
   "source": [
    "Note that the class used, in this case `Transmon`, must match the kind of quantum element described by your device setup."
   ]
  },
  {
   "cell_type": "markdown",
   "id": "410d982b-3597-40ff-99f3-b93c2199578c",
   "metadata": {},
   "source": [
    "If you wish, you may specify parameters for each qubit using the `parameters` argument to `from_device_setup`. The `parameters` argument accepts a dictionary that maps quantum element `UIDs` to the parameters for that element, like so:"
   ]
  },
  {
   "cell_type": "code",
   "execution_count": null,
   "id": "35c0d0a7-f43e-4499-842b-a1ef05cc5f9e",
   "metadata": {},
   "outputs": [],
   "source": [
    "qubits = Transmon.from_device_setup(\n",
    "    device_setup,\n",
    "    parameters={\n",
    "        \"q0\": {\n",
    "            \"resonance_frequency_ge\": 5.1e9,\n",
    "            \"drive_lo_frequency\": 5.0e9,\n",
    "        },\n",
    "        \"q1\": {\n",
    "            \"resonance_frequency_ge\": 5.2e9,\n",
    "            \"drive_lo_frequency\": 5.0e9,\n",
    "        },\n",
    "    },\n",
    ")\n",
    "qubits"
   ]
  },
  {
   "cell_type": "markdown",
   "id": "ca019267-9ac0-4397-8e3b-6155d951478a",
   "metadata": {},
   "source": [
    "Alternatively, you might wish to load qubits from the devices setup individually using `from_logical_signal_group`:"
   ]
  },
  {
   "cell_type": "code",
   "execution_count": null,
   "id": "7188f79f-1e83-4d2c-9b48-77197825ffc0",
   "metadata": {},
   "outputs": [],
   "source": [
    "q1_signal_group = device_setup.logical_signal_groups[\"q1\"]\n",
    "q1 = Transmon.from_logical_signal_group(q1_signal_group.uid, q1_signal_group)"
   ]
  },
  {
   "cell_type": "markdown",
   "id": "fe3773e6-6e7d-4137-8e20-701dc030c93a",
   "metadata": {},
   "source": [
    "Here too the class used, i.e. `Transmon`, must match the kind of quantum element described by the logical signal group.\n",
    "\n",
    "The first parameter specifies the UID of the qubit. You may choose to give it a UID that is different to that of the logical signal group.\n",
    "\n",
    "You may also choose to pass parameters for the quantum element using the `parameters` argument."
   ]
  },
  {
   "cell_type": "markdown",
   "id": "5606d193-cd96-4d6b-898b-0681c4d30ef3",
   "metadata": {},
   "source": [
    "## Experiment signals and calibration"
   ]
  },
  {
   "cell_type": "markdown",
   "id": "088aa224-6af5-4ab3-b092-c353accf32a4",
   "metadata": {},
   "source": [
    "Once we have quantum element objects, we need to use them in our experiments. We saw in the previous tutorial how we can write [quantum operations](https://docs.zhinst.com/labone_q_user_manual/core/functionality_and_concepts/04_quantum_processing_unit/tutorials/00_quantum_operations.html).\n",
    "\n",
    "QuantumElement classes also provide a list of experiment signals and qubit calibration (which can be used either as experiment signal calibration or device calibration)."
   ]
  },
  {
   "cell_type": "markdown",
   "id": "c4fc6d2a-25f1-4c37-aadd-01986e6752eb",
   "metadata": {},
   "source": [
    "The `.experiment_signals` method lists the experiment signals used by the qubit and the logical signal they are mapped to:"
   ]
  },
  {
   "cell_type": "code",
   "execution_count": null,
   "id": "cd33e1fe-a8e6-4f21-9294-2b1834a558a6",
   "metadata": {},
   "outputs": [],
   "source": [
    "q0.experiment_signals()"
   ]
  },
  {
   "cell_type": "markdown",
   "id": "b7eb040a-6f80-4f46-b0bf-04ae237b3ed6",
   "metadata": {},
   "source": [
    "The `.calibration` method needs to be implemented by each kind of `QuantumElement`. The default method on the `QuantumElement` class returns an empty set of calibration. The calibration returned typically depends on the quantum element parameters. Here is the default calibration returned by the `Transmon` class:"
   ]
  },
  {
   "cell_type": "code",
   "execution_count": null,
   "id": "1102c182-76c2-4964-89c1-c6f1de10735a",
   "metadata": {},
   "outputs": [],
   "source": [
    "q0.calibration()"
   ]
  },
  {
   "cell_type": "markdown",
   "id": "963878e3-4f33-4754-ab2e-4fce2bc0c00e",
   "metadata": {},
   "source": [
    "## Writing your own QuantumElement"
   ]
  },
  {
   "cell_type": "markdown",
   "id": "20c044bf-6748-4f31-ad20-be0559e53f0c",
   "metadata": {},
   "source": [
    "LabOne Q includes the `QuantumElement` base class and the `Transmon` class, but you'll want to write your own `QuantumElement` sub-class for your own qubits. In this section we'll show you how.\n",
    "\n",
    "Before starting to code your class, you should think about:\n",
    "\n",
    "* What signals are connected to the quantum element?\n",
    "* What parameters are needed to calibrate it?\n",
    "\n",
    "When thinking about the signals and parameters, it might be useful to think about what operations you'd like to perform on these elements and how they will be calibrated.\n",
    "\n",
    "Once you know the set of signals each element will have, you can start writing your quantum element class:"
   ]
  },
  {
   "cell_type": "markdown",
   "id": "39ed636c-a1d9-48d1-b0be-e4fa5dda2303",
   "metadata": {},
   "source": [
    "### Specifying the signal roles"
   ]
  },
  {
   "cell_type": "markdown",
   "id": "e2847858-f666-49b1-acef-fab42e93df48",
   "metadata": {},
   "source": [
    "Once you know the set of signals each element will have, you can start writing your quantum element class:"
   ]
  },
  {
   "cell_type": "code",
   "execution_count": null,
   "id": "beb9e001-46ca-4af8-ab27-9144d1324e1b",
   "metadata": {},
   "outputs": [],
   "source": [
    "import attrs\n",
    "\n",
    "from laboneq.simple import QuantumElement\n",
    "\n",
    "\n",
    "@attrs.define()\n",
    "class MiniTransmon(QuantumElement):\n",
    "    REQUIRED_SIGNALS = (\n",
    "        \"acquire\",\n",
    "        \"drive\",\n",
    "        \"measure\",\n",
    "    )\n",
    "\n",
    "    OPTIONAL_SIGNALS = ()\n",
    "    SIGNAL_ALIASES = {}"
   ]
  },
  {
   "cell_type": "markdown",
   "id": "a8f30d70-035d-4592-9ec2-e2592cd32ecd",
   "metadata": {},
   "source": [
    "Let's go through what we've written above. First, the boilerplate:\n",
    "\n",
    "* `import attrs`: `QuantumElement`s are written using the [attrs](https://attrs.org/) library. The `attrs` library was the inspiration for Python's `dataclasses`. It addition it provides validation for the fields of the class.\n",
    "* `@attrs.define()`: This marks our new class as an `attrs` class.\n",
    "* `class MiniTransmon(QuantumElement)`: Our class, `MiniTransform`, inherits from `QuantumElement`.\n",
    "\n",
    "The boilerplate will remain the same. You need to decide on the signals:\n",
    "\n",
    "* `REQUIRED_SIGNALS`: This tuple lists the names of the signal line roles that must always be present when your quantum element is instantiated.\n",
    "* `OPTIONAL_SIGNALS`: And this lists the optional signal roles. These may or may not be present.\n",
    "\n",
    "In our example, the required signal roles are `acquire`, `drive` and `measure`. For simplicity we've left the list of optional signals blank.\n",
    "\n",
    "We can also add `SIGNAL_ALIASES`, which provide alternative names for the signal roles. These allow for backward compatibility with existing signal names. For example, if in the past we have called the `drive` role `drive_line` we could add:\n",
    "\n",
    "```python\n",
    "    SIGNAL_ALIASES = {\n",
    "        \"drive_line\": \"drive\",\n",
    "    }\n",
    "```\n",
    "\n",
    "Unless you specifically need such aliases, just leave them blank as we did above."
   ]
  },
  {
   "cell_type": "markdown",
   "id": "05a38ae7-f1ba-4481-a279-8d9e9e99f584",
   "metadata": {},
   "source": [
    "### Define the parameters"
   ]
  },
  {
   "cell_type": "markdown",
   "id": "2c361d18-af8c-44b1-a9b1-ef28aa458b6a",
   "metadata": {},
   "source": [
    "With the signals defined, the next step is to define our parameters. Here we will only define two parameters. In practice there may be many more.\n",
    "\n",
    "The parameters are specified on a separate class that inherits from `QuantumParameters`. We will then attach it to the class we wrote above by adding `PARAMETERS_TYPE = MiniTransmonParameters` to the class.\n",
    "\n",
    "Here is our `MiniTransmonParameters` class:"
   ]
  },
  {
   "cell_type": "code",
   "execution_count": null,
   "id": "3427aee0-607e-41c5-8bf9-48e40c7016a0",
   "metadata": {},
   "outputs": [],
   "source": [
    "from laboneq.simple import QuantumParameters\n",
    "\n",
    "\n",
    "@attrs.define(kw_only=True)\n",
    "class MiniTransmonParameters(QuantumParameters):\n",
    "    \"\"\"MiniTransmon parameters.\n",
    "\n",
    "    Attributes\n",
    "    ----------\n",
    "    resonance_frequency_ge:\n",
    "        The resonance frequency of the 0-1 transition (Hz).\n",
    "    drive_lo_frequency:\n",
    "        The frequency of the drive signal local oscillator (Hz).\n",
    "    \"\"\"\n",
    "\n",
    "    resonance_frequency_ge: float | None = None\n",
    "    drive_lo_frequency: float | None = None"
   ]
  },
  {
   "cell_type": "markdown",
   "id": "d7474318-9a28-4b0a-824f-69333c1e5e76",
   "metadata": {},
   "source": [
    "We'll go through it in detail as we did for the `MiniTransmon` class above:\n",
    "\n",
    "* `@attrs.define(kw_only=True)`: The quantum parameters are also an `attrs` class. Here we pass `kw_only=True` which prevents parameters being passed as positional arguments when the class is instantiated. This prevents accidentally relying on the parameter ordering.\n",
    "* `class MiniTransmonParameters(QuantumParameters)`: Our `MiniTransformParameters` inherit from `QuantumParameters`.\n",
    "\n",
    "We've nicely documented our parameters in the class docstring (highly recommended) and then defined them in the class body using:\n",
    "\n",
    "```python\n",
    "    resonance_frequency_ge: float | None = None\n",
    "    drive_lo_frequency: float | None = None\n",
    "```\n",
    "\n",
    "Since these have type annotations, `attrs` will automatically add them to the parameter class it creates.\n",
    "\n",
    "To bring everything together we add the `PARAMETERS_TYPE = MiniTransmonParameters` to the definition of our `TransmonParameters` class:"
   ]
  },
  {
   "cell_type": "code",
   "execution_count": null,
   "id": "35b851aa-f97f-4de3-aab6-26e2f0313096",
   "metadata": {},
   "outputs": [],
   "source": [
    "@attrs.define()\n",
    "class MiniTransmon(QuantumElement):\n",
    "    PARAMETERS_TYPE = MiniTransmonParameters\n",
    "\n",
    "    REQUIRED_SIGNALS = (\n",
    "        \"acquire\",\n",
    "        \"drive\",\n",
    "        \"measure\",\n",
    "    )\n",
    "\n",
    "    OPTIONAL_SIGNALS = ()\n",
    "    SIGNAL_ALIASES = {}"
   ]
  },
  {
   "cell_type": "markdown",
   "id": "3b15a291-d534-43f2-b046-839c0203bb1a",
   "metadata": {},
   "source": [
    "Now let's try it out:"
   ]
  },
  {
   "cell_type": "code",
   "execution_count": null,
   "id": "f027cd69-dbfa-4ce1-9bda-7a2dfbca1f39",
   "metadata": {},
   "outputs": [],
   "source": [
    "t0 = MiniTransmon(\n",
    "    uid=\"t0\",\n",
    "    signals={\n",
    "        \"acquire\": \"t0/acquire\",\n",
    "        \"drive\": \"t0/drive\",\n",
    "        \"measure\": \"t0/measure\",\n",
    "    },\n",
    "    parameters={\n",
    "        \"resonance_frequency_ge\": 5.1e9,\n",
    "        \"drive_lo_frequency\": 5.0e9,\n",
    "    },\n",
    ")\n",
    "t0"
   ]
  },
  {
   "cell_type": "markdown",
   "id": "470f6cbf8568ac08",
   "metadata": {},
   "source": [
    "Our `MiniTransmon` has the following experiment signals and parameters:"
   ]
  },
  {
   "cell_type": "code",
   "execution_count": null,
   "id": "9185e9ee8a5ea858",
   "metadata": {},
   "outputs": [],
   "source": [
    "t0.experiment_signals()"
   ]
  },
  {
   "cell_type": "code",
   "execution_count": null,
   "id": "2047ee36-a385-4a88-97e2-25edb895de47",
   "metadata": {},
   "outputs": [],
   "source": [
    "t0.parameters"
   ]
  },
  {
   "cell_type": "markdown",
   "id": "5ee161b621dccfc1",
   "metadata": {},
   "source": [
    "Notice that there is an additional parameter called `custom`. This is automatically provided by the `QuantumParameters` class as a way of storing on the fly a dictionary of custom parameters with attribute-style access. This provides additional flexibility for prototyping and testing. You can simply add a new custom parameter as follows:"
   ]
  },
  {
   "cell_type": "code",
   "execution_count": null,
   "id": "59e31e82fe451841",
   "metadata": {},
   "outputs": [],
   "source": [
    "t0.parameters.custom.my_new_parameter = 10"
   ]
  },
  {
   "cell_type": "code",
   "execution_count": null,
   "id": "5558ab30278eff9b",
   "metadata": {},
   "outputs": [],
   "source": [
    "t0.parameters"
   ]
  },
  {
   "cell_type": "markdown",
   "id": "7ce1666a-6030-4715-be58-47832a32da4d",
   "metadata": {},
   "source": [
    "Notice also that the calibration is still empty because we haven't defined it yet:"
   ]
  },
  {
   "cell_type": "code",
   "execution_count": null,
   "id": "2a6b16e0-1156-4592-ae43-c790edbff8d3",
   "metadata": {},
   "outputs": [],
   "source": [
    "t0.calibration()"
   ]
  },
  {
   "cell_type": "markdown",
   "id": "f2231f85-7422-4e21-b1ec-b7cf17225c36",
   "metadata": {},
   "source": [
    "Let's write a calibration method."
   ]
  },
  {
   "cell_type": "markdown",
   "id": "30182795-9d37-4e0f-83bd-45fb5e0d0553",
   "metadata": {},
   "source": [
    "### Writing a calibration method"
   ]
  },
  {
   "cell_type": "markdown",
   "id": "f1ed3bb9-45cb-4e5c-94d3-67592f6191f4",
   "metadata": {},
   "source": [
    "The only method you need to write yourself for your quantum element class is `.calibration()`. This should return a `Calibration` holding the required calibration for each signal line used by the quantum element.\n",
    "\n",
    "In the example below, we return just calibration for the `drive` line. A completely implementation would likely also return calibration for the other signal lines."
   ]
  },
  {
   "cell_type": "code",
   "execution_count": null,
   "id": "6c558629-43de-4f24-bfa6-99cd659b991b",
   "metadata": {},
   "outputs": [],
   "source": [
    "from laboneq.simple import Calibration, ModulationType, Oscillator, SignalCalibration\n",
    "\n",
    "\n",
    "@attrs.define()\n",
    "class MiniTransmon(QuantumElement):\n",
    "    PARAMETERS_TYPE = MiniTransmonParameters\n",
    "\n",
    "    REQUIRED_SIGNALS = (\n",
    "        \"acquire\",\n",
    "        \"drive\",\n",
    "        \"measure\",\n",
    "    )\n",
    "\n",
    "    OPTIONAL_SIGNALS = ()\n",
    "    SIGNAL_ALIASES = {}\n",
    "\n",
    "    def calibration(self) -> Calibration:\n",
    "        \"\"\"Calibration for the MiniTransmon.\"\"\"\n",
    "        # define the local oscillator if `drive_lo_frequency` was specified:\n",
    "        if self.parameters.drive_lo_frequency is not None:\n",
    "            drive_lo = Oscillator(\n",
    "                uid=f\"{self.uid}_drive_local_osc\",\n",
    "                frequency=self.parameters.drive_lo_frequency,\n",
    "            )\n",
    "        else:\n",
    "            drive_lo = None\n",
    "\n",
    "        # calculate the drive line RF frequency:\n",
    "        if (\n",
    "            self.parameters.drive_lo_frequency is not None\n",
    "            and self.parameters.resonance_frequency_ge is not None\n",
    "        ):\n",
    "            drive_rf_frequency = (\n",
    "                self.parameters.resonance_frequency_ge\n",
    "                - self.parameters.drive_lo_frequency\n",
    "            )\n",
    "        else:\n",
    "            drive_rf_frequency = None\n",
    "\n",
    "        calibration = {}\n",
    "\n",
    "        # define the drive signal calibration:\n",
    "        sig_cal = SignalCalibration()\n",
    "        if drive_rf_frequency is not None:\n",
    "            sig_cal.oscillator = Oscillator(\n",
    "                uid=f\"{self.uid}_drive_ge_osc\",\n",
    "                frequency=drive_rf_frequency,\n",
    "                modulation_type=ModulationType.AUTO,\n",
    "            )\n",
    "        sig_cal.local_oscillator = drive_lo\n",
    "\n",
    "        calibration[self.signals[\"drive\"]] = sig_cal\n",
    "\n",
    "        return Calibration(calibration)"
   ]
  },
  {
   "cell_type": "markdown",
   "id": "11e73420-81c7-4a1f-ba73-f3ff5f3aa663",
   "metadata": {},
   "source": [
    "Things to note in the implementation above:\n",
    "\n",
    "* If parameters are optional, we only create the corresponding calibration entries if the parameters are present.\n",
    "* We build up a set of calibration in the `calibration` dictionary. The keys of this dictionary are the logical signal names. That is, for example, `self.signals[\"drive\"]` and not simply `\"drive\"`. The values are instances of `SignalCalibration`.\n",
    "\n",
    "Let's create an instance of our new `MiniTransmon` with calibration:"
   ]
  },
  {
   "cell_type": "code",
   "execution_count": null,
   "id": "9cff39e4-cba7-470d-8847-a9e4abeb94bf",
   "metadata": {},
   "outputs": [],
   "source": [
    "t0 = MiniTransmon(\n",
    "    uid=\"t0\",\n",
    "    signals={\n",
    "        \"acquire\": \"t0/acquire\",\n",
    "        \"drive\": \"t0/drive\",\n",
    "        \"measure\": \"t0/measure\",\n",
    "    },\n",
    "    parameters={\n",
    "        \"resonance_frequency_ge\": 5.1e9,\n",
    "        \"drive_lo_frequency\": 5.0e9,\n",
    "    },\n",
    ")\n",
    "t0"
   ]
  },
  {
   "cell_type": "markdown",
   "id": "08aa08a7-bc79-4824-8d5a-17173495be9d",
   "metadata": {},
   "source": [
    "Add examine the calibration:"
   ]
  },
  {
   "cell_type": "code",
   "execution_count": null,
   "id": "ef96d52c-d94c-4ba5-ab3e-8031280fbe14",
   "metadata": {},
   "outputs": [],
   "source": [
    "t0.calibration()"
   ]
  },
  {
   "cell_type": "markdown",
   "id": "52968505-f1bf-41bf-a4ce-972d0804686a",
   "metadata": {},
   "source": [
    "If we remove the `drive_lo_frequency` from the parameters, the calibration for the drive line will no longer be defined:"
   ]
  },
  {
   "cell_type": "code",
   "execution_count": null,
   "id": "157ead24-42e3-435f-8bd5-d86db57c2148",
   "metadata": {},
   "outputs": [],
   "source": [
    "t0_without_lo = t0.replace(drive_lo_frequency=None)\n",
    "t0_without_lo.calibration()"
   ]
  },
  {
   "cell_type": "markdown",
   "id": "0d3f8f36-d840-4590-b369-809e53511ab0",
   "metadata": {},
   "source": [
    "### Parameter validation"
   ]
  },
  {
   "cell_type": "markdown",
   "id": "c7b3c990-8472-4fe0-b313-f596339a2143",
   "metadata": {},
   "source": [
    "If you wish to provide validation of your parameters, the `attrs` library provides great support for adding it. You can learn how to do this in the [attrs validation guide](https://www.attrs.org/en/stable/examples.html#validators)."
   ]
  }
 ],
 "metadata": {
  "kernelspec": {
   "display_name": "Python 3 (ipykernel)",
   "language": "python",
   "name": "python3"
  },
  "language_info": {
   "codemirror_mode": {
    "name": "ipython",
    "version": 3
   },
   "file_extension": ".py",
   "mimetype": "text/x-python",
   "name": "python",
   "nbconvert_exporter": "python",
   "pygments_lexer": "ipython3",
   "version": "3.13.2"
  }
 },
 "nbformat": 4,
 "nbformat_minor": 5
}
