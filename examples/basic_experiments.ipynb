{
 "cells": [
  {
   "cell_type": "markdown",
   "id": "0ed599f8-b026-4714-8243-4df4bc485ea6",
   "metadata": {},
   "source": [
    "# Basic Experiments\n",
    "\n",
    "In this reference notebook we show how to define basic qubit tuneup experiments"
   ]
  },
  {
   "cell_type": "markdown",
   "id": "961a420e-7dc7-46fd-aea8-12af1cea8aa2",
   "metadata": {},
   "source": [
    "# 0. General Imports and Definitions"
   ]
  },
  {
   "cell_type": "markdown",
   "id": "2a01d7d5-527b-4324-aa74-95d768f9a2ef",
   "metadata": {},
   "source": [
    "## 0.1 Python Imports"
   ]
  },
  {
   "cell_type": "code",
   "execution_count": null,
   "id": "537d6564",
   "metadata": {
    "ExecuteTime": {
     "end_time": "2021-12-06T23:14:33.099597Z",
     "start_time": "2021-12-06T23:14:31.715508Z"
    }
   },
   "outputs": [],
   "source": [
    "%config IPCompleter.greedy=True\n",
    "\n",
    "# convenience import for all QCCS software functionality\n",
    "from laboneq.simple import *\n",
    "\n",
    "# helper import\n",
    "from example_notebook_helper import *"
   ]
  },
  {
   "cell_type": "markdown",
   "id": "c8aa3c8e-12ce-4f86-a5bb-7f76e0c0f5d7",
   "metadata": {},
   "source": [
    "# 1. Define Device Setup and Calibration"
   ]
  },
  {
   "cell_type": "markdown",
   "id": "f44d74bf-d663-4421-b826-bd156e65415c",
   "metadata": {},
   "source": [
    "## 1.1 Define a Device Setup\n",
    "\n",
    "Descriptor contains all information on instruments used, internal connections between instruments as well as wiring to the experiment"
   ]
  },
  {
   "cell_type": "code",
   "execution_count": null,
   "id": "c4275166",
   "metadata": {
    "ExecuteTime": {
     "end_time": "2021-12-06T23:14:33.115126Z",
     "start_time": "2021-12-06T23:14:33.099597Z"
    }
   },
   "outputs": [],
   "source": [
    "descriptor=\"\"\"\\\n",
    "instrument_list:\n",
    "  HDAWG:\n",
    "  - address: DEV8001\n",
    "    uid: device_hdawg \n",
    "  UHFQA:\n",
    "  - address: DEV2001    \n",
    "    uid: device_uhfqa\n",
    "  PQSC:  \n",
    "  - address: DEV10001\n",
    "    uid: device_pqsc\n",
    "connections:\n",
    "  device_hdawg:    \n",
    "    - iq_signal: q0/drive_line\n",
    "      ports: [SIGOUTS/0, SIGOUTS/1]        \n",
    "    - iq_signal: q1/drive_line\n",
    "      ports: [SIGOUTS/2, SIGOUTS/3]\n",
    "    - rf_signal: q0/flux_line\n",
    "      ports: [SIGOUTS/4]        \n",
    "    - rf_signal: q1/flux_line\n",
    "      ports: [SIGOUTS/5]              \n",
    "    - to: device_uhfqa\n",
    "      port: DIOS/0\n",
    "  device_uhfqa:    \n",
    "    - iq_signal: q0/measure_line\n",
    "      ports: [SIGOUTS/0, SIGOUTS/1]        \n",
    "    - acquire_signal: q0/acquire_line\n",
    "    - iq_signal: q1/measure_line\n",
    "      ports: [SIGOUTS/0, SIGOUTS/1]        \n",
    "    - acquire_signal: q1/acquire_line\n",
    "  device_pqsc:\n",
    "    - to: device_hdawg\n",
    "      port: ZSYNCS/0\n",
    "\"\"\""
   ]
  },
  {
   "cell_type": "markdown",
   "id": "81eae8d4-aaac-486e-ae41-0c0bc01c706e",
   "metadata": {},
   "source": [
    "## 1.2 Define Calibration Settings\n",
    "\n",
    "Modify the calibration on the device setup with known parameters for qubit control and readout - qubit control and readout frequencies, mixer calibration corrections"
   ]
  },
  {
   "cell_type": "code",
   "execution_count": null,
   "id": "c92e41eb",
   "metadata": {
    "ExecuteTime": {
     "end_time": "2021-12-06T23:14:33.151459Z",
     "start_time": "2021-12-06T23:14:33.120171Z"
    }
   },
   "outputs": [],
   "source": [
    "# functions that modifies the calibration on a given device setup\n",
    "def calibrate_devices(device_setup):\n",
    "    ## qubit 0\n",
    "    # calibration setting for drive line for qubit 0\n",
    "    device_setup.logical_signal_groups[\"q0\"].logical_signals[\"drive_line\"].calibration = SignalCalibration(\n",
    "        # oscillator settings - frequency and type of oscillator used to modulate the pulses applied through this signal line\n",
    "        oscillator=Oscillator(\n",
    "            uid=\"drive_q0_osc\",\n",
    "            frequency=1e8,\n",
    "            modulation_type=ModulationType.HARDWARE),\n",
    "        # mixer calibration settings to compensate for non-ideal mixer configuration\n",
    "        mixer_calibration=MixerCalibration(\n",
    "            voltage_offsets=[0.0, 0.0],\n",
    "            correction_matrix=[\n",
    "                [1.0, 0.0],\n",
    "                [0.0, 1.0],\n",
    "            ]\n",
    "        ),\n",
    "        # global and static delay of logical signal line: use to align pulses and compensate skew\n",
    "        port_delay=0,       # applied to corresponding instrument node, bound to hardware limits\n",
    "        delay_signal=0,     # inserted in sequencer code, bound to waveform granularity\n",
    "    )\n",
    "    # calibration setting for flux line for qubit 0\n",
    "    device_setup.logical_signal_groups[\"q0\"].logical_signals[\"flux_line\"].calibration = SignalCalibration(\n",
    "        # global and static delay of logical signal line: use to align pulses and compensate skew\n",
    "        port_delay=0,       # applied to corresponding instrument node, bound to hardware limits\n",
    "        delay_signal=0,     # inserted in sequencer code, bound to waveform granularity\n",
    "    )\n",
    "    # calibration setting for readout pulse line for qubit 0\n",
    "    device_setup.logical_signal_groups[\"q0\"].logical_signals[\"measure_line\"].calibration = SignalCalibration(\n",
    "        oscillator = Oscillator(\n",
    "            uid=\"measure_q0_osc\",\n",
    "            frequency=1e8,\n",
    "            modulation_type=ModulationType.SOFTWARE),\n",
    "        delay_signal=0,     # inserted in sequencer code, bound to waveform granularity\n",
    "        )\n",
    "    # calibration setting for data acquisition line for qubit 0\n",
    "    device_setup.logical_signal_groups[\"q0\"].logical_signals[\"acquire_line\"].calibration = SignalCalibration(\n",
    "        oscillator=Oscillator(\n",
    "            uid=\"acquire_osc\",\n",
    "            frequency=1e8,\n",
    "            modulation_type=ModulationType.SOFTWARE),\n",
    "        # delays the start of integration in relation to the start of the readout pulse to compensate for signal propagation time\n",
    "        port_delay=10e-9,   # applied to corresponding instrument node, bound to hardware limits\n",
    "        delay_signal=0,     # inserted in sequencer code, bound to waveform granularity\n",
    "    )\n",
    "    ## qubit 1\n",
    "    # calibration setting for drive line for qubit 1\n",
    "    device_setup.logical_signal_groups[\"q1\"].logical_signals[\"drive_line\"].calibration = SignalCalibration(\n",
    "        oscillator=Oscillator(\n",
    "            uid=\"drive_q1_osc\",\n",
    "            frequency=.5e8,\n",
    "            modulation_type=ModulationType.HARDWARE),\n",
    "        mixer_calibration=MixerCalibration(\n",
    "            voltage_offsets=[0.0, 0.0],\n",
    "            correction_matrix=[\n",
    "                [1.0, 0.0],\n",
    "                [0.0, 1.0],\n",
    "            ]\n",
    "        ),\n",
    "        # global and static delay of logical signal line: use to align pulses and compensate skew\n",
    "        port_delay=0,\n",
    "        delay_signal=0,\n",
    "    )\n",
    "    # calibration setting for flux line for qubit 1\n",
    "    device_setup.logical_signal_groups[\"q1\"].logical_signals[\"flux_line\"].calibration = SignalCalibration(\n",
    "        # global and static delay of logical signal line: use to align pulses and compensate skew\n",
    "        port_delay=0,\n",
    "        delay_signal=0,\n",
    "    )\n",
    "    # calibration setting for readout pulse line for qubit 0\n",
    "    device_setup.logical_signal_groups[\"q1\"].logical_signals[\"measure_line\"].calibration = SignalCalibration(\n",
    "        oscillator=Oscillator(\n",
    "            uid=\"measure_q1_osc\",\n",
    "            frequency=.5e8,\n",
    "            modulation_type=ModulationType.SOFTWARE),\n",
    "        delay_signal=0,\n",
    "    )\n",
    "    # calibration setting for data acquisition line for qubit 0\n",
    "    device_setup.logical_signal_groups[\"q1\"].logical_signals[\"acquire_line\"].calibration = SignalCalibration(\n",
    "        oscillator=Oscillator(\n",
    "            uid=\"acquire_q1_osc\",\n",
    "            frequency=.5e8,\n",
    "            modulation_type=ModulationType.SOFTWARE),\n",
    "        # delays the start of integration in relation to the start of the readout pulse to compensate for signal propagation time\n",
    "        port_delay=10e-9,\n",
    "        delay_signal=0,\n",
    "    )"
   ]
  },
  {
   "cell_type": "markdown",
   "id": "ce42775c-9f55-422d-8430-595a620cba87",
   "metadata": {},
   "source": [
    "## 1.3 Create Device Setup and Apply Calibration Settings"
   ]
  },
  {
   "cell_type": "code",
   "execution_count": null,
   "id": "9593232d",
   "metadata": {
    "ExecuteTime": {
     "end_time": "2021-12-06T23:14:33.167077Z",
     "start_time": "2021-12-06T23:14:33.151459Z"
    }
   },
   "outputs": [],
   "source": [
    "# Function returning a calibrated device setup \n",
    "def create_device_setup():\n",
    "    device_setup = DeviceSetup.from_descriptor(\n",
    "        descriptor,\n",
    "        server_host=\"my_ip_address\",    # ip address of the LabOne dataserver used to communicate with the instruments\n",
    "        server_port=\"8004\",             # port number of the dataserver - default is 8004\n",
    "        setup_name=\"my_QCCS_setup\",     # setup name\n",
    "    ) \n",
    "    calibrate_devices(device_setup)\n",
    "    return device_setup\n",
    "\n",
    "# create device setup\n",
    "device_setup = create_device_setup()"
   ]
  },
  {
   "cell_type": "code",
   "execution_count": null,
   "id": "8c59159f",
   "metadata": {},
   "outputs": [],
   "source": [
    "# use emulation mode - change, if running on hardware\n",
    "use_emulation=True"
   ]
  },
  {
   "cell_type": "markdown",
   "id": "cfdea1e4-0d6e-4b6d-b9fb-5f3bdc8f84c6",
   "metadata": {},
   "source": [
    "# 2. Resonator Spectroscopy\n",
    "\n",
    "Find the resonance frequency of the qubit readout resonator by looking at the transmission or reflection of a probe signal applied through the readout line"
   ]
  },
  {
   "cell_type": "markdown",
   "id": "d7caa8f4-9cd8-46b4-8ff4-543e4e56670d",
   "metadata": {},
   "source": [
    "## 2.1 Define the Experiment"
   ]
  },
  {
   "cell_type": "code",
   "execution_count": null,
   "id": "cfeea6ba",
   "metadata": {
    "ExecuteTime": {
     "end_time": "2021-12-06T23:14:33.464992Z",
     "start_time": "2021-12-06T23:14:33.204407Z"
    }
   },
   "outputs": [],
   "source": [
    "# define sweep parameter - sweep over frequency of readout pulse\n",
    "start = -100e6\n",
    "stop = 100e6\n",
    "count = 20\n",
    "\n",
    "sweep_parameter = LinearSweepParameter(uid=\"sp1\", start=start, stop=stop, count=count)\n",
    "\n",
    "# define number of averages\n",
    "average_exponent = 4  # used for 2^n averages, n=average_exponent, maximum: n = 17\n",
    "\n",
    "# Create Experiment - uses only a readout pulse and a data acquisition line\n",
    "exp = Experiment(\n",
    "    uid=\"Resonator Spectroscopy\",\n",
    "    signals=[\n",
    "        ExperimentSignal(\"measure\"), \n",
    "        ExperimentSignal(\"acquire\"),\n",
    "        ],\n",
    ")\n",
    "## experimental pulse sequence\n",
    "# outer loop - near-time sweep over readout pulse frequency\n",
    "with exp.sweep(uid=\"sweep\", parameter=sweep_parameter):\n",
    "    # inner loop - real-time, sequential averaging in spectroscopy mode\n",
    "    with exp.acquire_loop_rt(\n",
    "            uid=\"shots\",\n",
    "            count=pow(2, average_exponent),\n",
    "            averaging_mode=AveragingMode.SEQUENTIAL,\n",
    "            acquisition_type=AcquisitionType.SPECTROSCOPY,\n",
    "        ):\n",
    "        # readout pulse and data acquisition\n",
    "        with exp.section(uid=\"spectroscopy\"):\n",
    "            exp.play(\n",
    "                signal=\"measure\",\n",
    "                pulse=pulse_library.const(length=1e-6, amplitude=1.0),\n",
    "            )\n",
    "            exp.acquire(\n",
    "                signal=\"acquire\",\n",
    "                handle=\"ac_0\",\n",
    "                length=1e-6,\n",
    "            )\n",
    "        # relax time after readout - for signal processing and qubit relaxation to groundstate\n",
    "        with exp.section(uid=\"relax\"):\n",
    "            exp.delay(signal=\"measure\", time=1e-6)"
   ]
  },
  {
   "cell_type": "code",
   "execution_count": null,
   "id": "fa85e073",
   "metadata": {},
   "outputs": [],
   "source": [
    "# calibration  for qubit 0\n",
    "calib_q0 = Calibration()\n",
    "calib_q0['measure'] = SignalCalibration(\n",
    "    oscillator = Oscillator(\n",
    "        frequency=sweep_parameter,\n",
    "        modulation_type=ModulationType.HARDWARE,\n",
    "    )\n",
    ")\n",
    "# signal map for qubit 0\n",
    "map_q0 = {\n",
    "    \"measure\": \"/logical_signal_groups/q0/measure_line\",\n",
    "    \"acquire\": \"/logical_signal_groups/q0/acquire_line\"\n",
    "    }"
   ]
  },
  {
   "cell_type": "markdown",
   "id": "db6ec116-41db-4c23-8657-c2f3d2b27b3a",
   "metadata": {},
   "source": [
    "## 2.2 Run the Experiment and Plot the Measurement Results and Pulse Sequence"
   ]
  },
  {
   "cell_type": "code",
   "execution_count": null,
   "id": "76dc600f",
   "metadata": {},
   "outputs": [],
   "source": [
    "# create and connect to session\n",
    "session = Session(device_setup=device_setup)\n",
    "session.connect(do_emulation=use_emulation)\n",
    "\n",
    "# set experiment calibration and signal map\n",
    "exp.set_calibration(calib_q0)\n",
    "exp.set_signal_map(map_q0)\n",
    "\n",
    "# run experiment\n",
    "my_results = session.run(exp, do_simulation=True)"
   ]
  },
  {
   "cell_type": "code",
   "execution_count": null,
   "id": "38fe966e",
   "metadata": {},
   "outputs": [],
   "source": [
    "# Plot the simulated waveforms\n",
    "plot_output_signals(my_results, uhfqa=0)"
   ]
  },
  {
   "cell_type": "code",
   "execution_count": null,
   "id": "f30cbce6",
   "metadata": {},
   "outputs": [],
   "source": [
    "# use pulse sheet viewer to display the pulse sequence - only recommended for small number of averages and sweep steps to avoid performance issues\n",
    "compiled_exp = session.compiled_experiment\n",
    "show_pulse_sheet(\"Resonator Spectroscopy\", compiled_exp)"
   ]
  },
  {
   "cell_type": "markdown",
   "id": "4ecbf581-b2e9-4f44-a6da-4f16f7a13291",
   "metadata": {},
   "source": [
    "# 3. Pulsed Qubit Spectroscopy\n",
    "\n",
    "Find the resonance frequency of the qubit by looking at the change in resonator transmission when sweeping the frequency of a qubit excitation pulse"
   ]
  },
  {
   "cell_type": "markdown",
   "id": "55540be2-0163-4eb4-8929-068fed757795",
   "metadata": {},
   "source": [
    "## 3.1 Define the Experiment"
   ]
  },
  {
   "cell_type": "code",
   "execution_count": null,
   "id": "ec2de91b",
   "metadata": {},
   "outputs": [],
   "source": [
    "## define pulses\n",
    "\n",
    "# qubit drive pulse\n",
    "const_iq_100ns = pulse_library.const(\n",
    "    uid=\"const_iq_100ns\", length=100e-9, amplitude=1.0\n",
    ")\n",
    "# readout drive pulse\n",
    "readout_pulse = pulse_library.const(\n",
    "    uid=\"readout_pulse\", length=400e-9, amplitude=1.0\n",
    ")\n",
    "# readout weights for integration\n",
    "readout_weighting_function = pulse_library.const(\n",
    "    uid=\"readout_weighting_function\", length=200e-9, amplitude=1.0\n",
    ")\n",
    "\n",
    "## define calibration settings for readout - set on DeviceSetup as a  baseline calibration\n",
    "\n",
    "lsg = device_setup.logical_signal_groups[\"q0\"].logical_signals\n",
    "# Use the result from resonator spectroscopy experiment to define readout frequency\n",
    "lsg[\"measure_line\"].calibration.oscillator.frequency = 100e6\n",
    "# use software modulation to enable multiplexed qubit readout\n",
    "lsg[\"measure_line\"].oscillator.modulation_type = ModulationType.SOFTWARE\n",
    "lsg[\"acquire_line\"].calibration.oscillator.frequency = 100e6\n",
    "lsg[\"acquire_line\"].oscillator.modulation_type = ModulationType.SOFTWARE\n",
    "\n",
    "lsg = device_setup.logical_signal_groups[\"q1\"].logical_signals\n",
    "# Use the result from resonator spectroscopy experiment to define readout frequency\n",
    "lsg[\"measure_line\"].calibration.oscillator.frequency = 50e6\n",
    "lsg[\"measure_line\"].oscillator.modulation_type = ModulationType.SOFTWARE\n",
    "lsg[\"acquire_line\"].calibration.oscillator.frequency = 50e6\n",
    "lsg[\"acquire_line\"].oscillator.modulation_type = ModulationType.SOFTWARE\n"
   ]
  },
  {
   "cell_type": "code",
   "execution_count": null,
   "id": "48543684",
   "metadata": {
    "ExecuteTime": {
     "end_time": "2021-12-06T23:14:34.438486Z",
     "start_time": "2021-12-06T23:14:34.037887Z"
    }
   },
   "outputs": [],
   "source": [
    "# define sweep parameter - sweep over the frequency of a qubit excitation pulse\n",
    "start = 40e6\n",
    "stop = 200e6\n",
    "count = 40\n",
    "\n",
    "sweep_parameter = LinearSweepParameter(uid=\"freq-qubit\", start=start, stop=stop, count=count)\n",
    "\n",
    "# define number of averages\n",
    "average_exponent = 4  # used for 2^n averages, n=average_exponent, maximum: n = 17\n",
    "\n",
    "# Create Experiment - no explicit mapping to qubit lines\n",
    "exp = Experiment(\n",
    "    uid=\"Qubit Spectroscopy\",\n",
    "    signals=[\n",
    "        ExperimentSignal(\"drive\"),\n",
    "        ExperimentSignal(\"measure\"),\n",
    "        ExperimentSignal(\"acquire\"),\n",
    "    ],\n",
    ")\n",
    "## experimental pulse sequence\n",
    "# outer loop - near-time sweep over qubit drive frequency\n",
    "with exp.sweep(uid=\"sweep\", parameter=sweep_parameter, execution_type=ExecutionType.NEAR_TIME):\n",
    "    # inner loop - real-time, sequential averaging in standard integration mode\n",
    "    with exp.acquire_loop_rt(uid=\"shots\", count=pow(2, average_exponent),\n",
    "        averaging_mode=AveragingMode.SEQUENTIAL, acquisition_type=AcquisitionType.INTEGRATION\n",
    "        ):\n",
    "        # qubit excitation pulse - frequency will be swept\n",
    "        with exp.section(uid=\"qubit_excitation\"):\n",
    "            exp.play(signal=\"drive\", pulse=const_iq_100ns)\n",
    "        # readout and data acquisition\n",
    "        with exp.section(uid=\"qubit_readout\"):\n",
    "            exp.reserve(signal=\"drive\")\n",
    "            # play readout pulse\n",
    "            exp.play(signal=\"measure\", pulse=readout_pulse)\n",
    "            # signal data acquisition\n",
    "            exp.acquire(\n",
    "                signal=\"acquire\",\n",
    "                handle=\"ac_0\",\n",
    "                kernel=readout_weighting_function,\n",
    "            )\n",
    "        # relax time after readout - for signal processing and qubit relaxation to groundstate\n",
    "        with exp.section(uid=\"relax\"):\n",
    "            exp.delay(signal=\"measure\", time=1e-6)"
   ]
  },
  {
   "cell_type": "code",
   "execution_count": null,
   "id": "0a80371d",
   "metadata": {},
   "outputs": [],
   "source": [
    "# define experiment calibration - sweep over qubit drive frequency\n",
    "exp_calib = Calibration()\n",
    "exp_calib[\"drive\"] = SignalCalibration(\n",
    "    oscillator=Oscillator(\n",
    "        frequency=sweep_parameter,\n",
    "        modulation_type=ModulationType.HARDWARE,\n",
    "    )\n",
    ")\n",
    "\n",
    "# define signal maps for qubit 0\n",
    "map_q0 = {\n",
    "    \"drive\": device_setup.logical_signal_groups[\"q0\"].logical_signals[\"drive_line\"],\n",
    "    \"measure\": device_setup.logical_signal_groups[\"q0\"].logical_signals[\"measure_line\"],\n",
    "    \"acquire\": device_setup.logical_signal_groups[\"q0\"].logical_signals[\"acquire_line\"],\n",
    "}\n",
    "# ... and qubit 1\n",
    "map_q1 = {\n",
    "    \"drive\": device_setup.logical_signal_groups[\"q1\"].logical_signals[\"drive_line\"],\n",
    "    \"measure\": device_setup.logical_signal_groups[\"q1\"].logical_signals[\"measure_line\"],\n",
    "    \"acquire\": device_setup.logical_signal_groups[\"q1\"].logical_signals[\"acquire_line\"],\n",
    "}"
   ]
  },
  {
   "cell_type": "markdown",
   "id": "192639da-1b74-43dd-a72d-923c5a0227f4",
   "metadata": {},
   "source": [
    "## 3.2 Run the Experiment and Plot the Measurement Results and Pulse Sequence"
   ]
  },
  {
   "cell_type": "code",
   "execution_count": null,
   "id": "3c6b420c",
   "metadata": {},
   "outputs": [],
   "source": [
    "# set calibration and signal map for qubit 0\n",
    "exp.set_calibration(exp_calib)\n",
    "exp.set_signal_map(map_q0)\n",
    "\n",
    "# create a session and connect to it\n",
    "session = Session(device_setup=device_setup)\n",
    "session.connect(do_emulation=use_emulation)\n",
    "\n",
    "# run experiment on qubit 0 \n",
    "my_results = session.run(exp)"
   ]
  },
  {
   "cell_type": "code",
   "execution_count": null,
   "id": "72cad906",
   "metadata": {},
   "outputs": [],
   "source": [
    "# set calibration and signal map for qubit 1\n",
    "exp.set_calibration(exp_calib)\n",
    "exp.set_signal_map(map_q1)\n",
    "\n",
    "# create a session and connect to it\n",
    "session = Session(device_setup=device_setup)\n",
    "session.connect(do_emulation=use_emulation)\n",
    "\n",
    "# run experiment on qubit 1\n",
    "my_results = session.run(exp, do_simulation=True)"
   ]
  },
  {
   "cell_type": "code",
   "execution_count": null,
   "id": "9a6ae803",
   "metadata": {},
   "outputs": [],
   "source": [
    "# Plot the simulated waveforms\n",
    "plot_output_signals(my_results, uhfqa=1, hdawg_drive=0)"
   ]
  },
  {
   "cell_type": "code",
   "execution_count": null,
   "id": "b941deda",
   "metadata": {
    "ExecuteTime": {
     "end_time": "2021-12-06T23:14:35.139445Z",
     "start_time": "2021-12-06T23:14:34.438486Z"
    }
   },
   "outputs": [],
   "source": [
    "# plot measurement results\n",
    "plot_result_2d(my_results, 'ac_0')"
   ]
  },
  {
   "cell_type": "code",
   "execution_count": null,
   "id": "46c830ba",
   "metadata": {},
   "outputs": [],
   "source": [
    "# use pulse sheet viewer to display the pulse sequence - only recommended for small number of averages and sweep steps to avoid performance issues\n",
    "compiled_exp = session.compiled_experiment\n",
    "show_pulse_sheet(\"Qubit Spectroscopy\", compiled_exp)"
   ]
  },
  {
   "cell_type": "markdown",
   "id": "38438dd2-6905-4f99-a556-bb27363c3a1f",
   "metadata": {},
   "source": [
    "# 4. Amplitude Rabi Experiment\n",
    "\n",
    "Sweep the pulse amplitude of a qubit drive pulse to determine the ideal amplitudes for specific qubit rotation angles"
   ]
  },
  {
   "cell_type": "markdown",
   "id": "d068797e-1673-4a5b-93c2-c450e8c061ab",
   "metadata": {},
   "source": [
    "## 4.1 Define the Experiment"
   ]
  },
  {
   "cell_type": "code",
   "execution_count": null,
   "id": "b1dbdd2a",
   "metadata": {},
   "outputs": [],
   "source": [
    "## define pulses\n",
    "\n",
    "# qubit drive pulse - unit amplitude, but will be scaled with sweep parameter\n",
    "x90 = pulse_library.gaussian(uid=\"x90\", length=100e-9, amplitude=1.0)\n",
    "# readout drive pulse\n",
    "readout_pulse = pulse_library.const(\n",
    "    uid=\"readout_pulse\", length=400e-9, amplitude=1.0\n",
    ")\n",
    "# readout integration weights\n",
    "readout_weighting_function = pulse_library.const(\n",
    "    uid=\"readout_weighting_function\", length=400e-9, amplitude=1.0\n",
    ")\n",
    "\n",
    "## define calibration settings for readout and drive - set here into the baseline calibration on DeviceSetup \n",
    "\n",
    "lsg = device_setup.logical_signal_groups[\"q0\"].logical_signals\n",
    "# Use the result from pulsed qubit spectroscopy experiment to define qubit drive frequency\n",
    "lsg[\"drive_line\"].calibration.oscillator.frequency = 100e6\n",
    "lsg[\"drive_line\"].oscillator.modulation_type = ModulationType.HARDWARE\n",
    "# Use the result from resonator spectroscopy experiment to define readout frequency\n",
    "lsg[\"measure_line\"].calibration.oscillator.frequency = 100e6\n",
    "# use software mode to enable multiplexed qubit readout \n",
    "lsg[\"measure_line\"].oscillator.modulation_type = ModulationType.SOFTWARE\n",
    "lsg[\"acquire_line\"].calibration.oscillator.frequency = 100e6\n",
    "lsg[\"acquire_line\"].oscillator.modulation_type = ModulationType.SOFTWARE\n",
    "\n",
    "lsg = device_setup.logical_signal_groups[\"q1\"].logical_signals\n",
    "# Use the result from pulsed qubit spectroscopy experiment to define qubit drive frequency\n",
    "lsg[\"drive_line\"].calibration.oscillator.frequency = 50e6\n",
    "lsg[\"drive_line\"].oscillator.modulation_type = ModulationType.HARDWARE\n",
    "# Use the result from resonator spectroscopy experiment to define readout frequency\n",
    "lsg[\"measure_line\"].calibration.oscillator.frequency = 50e6\n",
    "lsg[\"measure_line\"].oscillator.modulation_type = ModulationType.SOFTWARE\n",
    "lsg[\"acquire_line\"].calibration.oscillator.frequency = 50e6\n",
    "lsg[\"acquire_line\"].oscillator.modulation_type = ModulationType.SOFTWARE"
   ]
  },
  {
   "cell_type": "code",
   "execution_count": null,
   "id": "4b1deeb5",
   "metadata": {
    "ExecuteTime": {
     "end_time": "2021-12-06T23:14:35.740577Z",
     "start_time": "2021-12-06T23:14:35.139445Z"
    }
   },
   "outputs": [],
   "source": [
    "# set up sweep parameter - drive amplitude\n",
    "start = 0.1\n",
    "stop = 1\n",
    "count = 10\n",
    "sweep_parameter = LinearSweepParameter(uid=\"amplitude\", start=start, stop=stop, count=count)\n",
    "\n",
    "# number of averages\n",
    "average_exponent = 1  # used for 2^n averages, n=average_exponent, maximum: n = 17\n",
    "\n",
    "# Create Experiment\n",
    "exp = Experiment(\n",
    "    uid=\"Amplitude Rabi\",\n",
    "    signals=[\n",
    "        ExperimentSignal(\"drive\"),\n",
    "        ExperimentSignal(\"measure\"),\n",
    "        ExperimentSignal(\"acquire\"),\n",
    "    ],\n",
    ")\n",
    "## experimental pulse sequence\n",
    "# outer loop - real-time, cyclic averaging in standard integration mode\n",
    "with exp.acquire_loop_rt(uid=\"shots\", count=pow(2, average_exponent),\n",
    "    averaging_mode=AveragingMode.CYCLIC, acquisition_type=AcquisitionType.INTEGRATION\n",
    "    ):\n",
    "    # inner loop - real-time sweep of qubit drive pulse amplitude\n",
    "    with exp.sweep(uid=\"sweep\", parameter=sweep_parameter):\n",
    "            # qubit excitation - pulse amplitude will be swept\n",
    "            with exp.section(uid=\"qubit_excitation\"):\n",
    "                exp.play(signal=\"drive\", pulse=x90, amplitude=sweep_parameter)\n",
    "            # qubit readout pulse and data acquisition\n",
    "            with exp.section(uid=\"qubit_readout\"):\n",
    "                exp.reserve(signal=\"drive\")\n",
    "                # play readout pulse\n",
    "                exp.play(signal=\"measure\", pulse=readout_pulse)\n",
    "                # signal data acquisition\n",
    "                exp.acquire(\n",
    "                    signal=\"acquire\",\n",
    "                    handle=\"ac_0\",\n",
    "                    kernel=readout_weighting_function,\n",
    "                )\n",
    "            # relax time after readout - for signal processing and qubit relaxation to groundstate\n",
    "            with exp.section(uid=\"relax\"):\n",
    "                exp.delay(signal=\"measure\", time=1e-6)"
   ]
  },
  {
   "cell_type": "code",
   "execution_count": null,
   "id": "b10527ec",
   "metadata": {},
   "outputs": [],
   "source": [
    "# define signal maps for qubit 0\n",
    "map_q0 = {\n",
    "    \"drive\": device_setup.logical_signal_groups[\"q0\"].logical_signals[\"drive_line\"],\n",
    "    \"measure\": device_setup.logical_signal_groups[\"q0\"].logical_signals[\"measure_line\"],\n",
    "    \"acquire\": device_setup.logical_signal_groups[\"q0\"].logical_signals[\"acquire_line\"],\n",
    "}\n",
    "# ... - and qubit 1\n",
    "map_q1 = {\n",
    "    \"drive\": device_setup.logical_signal_groups[\"q1\"].logical_signals[\"drive_line\"],\n",
    "    \"measure\": device_setup.logical_signal_groups[\"q1\"].logical_signals[\"measure_line\"],\n",
    "    \"acquire\": device_setup.logical_signal_groups[\"q1\"].logical_signals[\"acquire_line\"],\n",
    "}"
   ]
  },
  {
   "cell_type": "markdown",
   "id": "7e485382-ccd1-4c32-8253-1f5e9e2ad127",
   "metadata": {},
   "source": [
    "## 4.2 Run the Experiment and Plot the Measurement Results and Pulse Sequence"
   ]
  },
  {
   "cell_type": "code",
   "execution_count": null,
   "id": "dc48e4a3",
   "metadata": {},
   "outputs": [],
   "source": [
    "# set signal map to qubit 0\n",
    "exp.set_signal_map(map_q0)\n",
    "\n",
    "# create and connect to session\n",
    "session = Session(device_setup=device_setup)\n",
    "session.connect(do_emulation=use_emulation)\n",
    "\n",
    "# run experiment on qubit 0\n",
    "my_results = session.run(exp, do_simulation=True)"
   ]
  },
  {
   "cell_type": "code",
   "execution_count": null,
   "id": "f8acb08a",
   "metadata": {},
   "outputs": [],
   "source": [
    "# set signal map to qubit 1\n",
    "exp.set_signal_map(map_q1)\n",
    "\n",
    "# create and connect to session\n",
    "session = Session(device_setup=device_setup)\n",
    "session.connect(do_emulation=use_emulation)\n",
    "\n",
    "# run experiment on qubit 1\n",
    "my_results = session.run(exp, do_simulation=True)"
   ]
  },
  {
   "cell_type": "code",
   "execution_count": null,
   "id": "225f0f78",
   "metadata": {},
   "outputs": [],
   "source": [
    "# Plot simulated output signals\n",
    "plot_output_signals(my_results, uhfqa=1, hdawg_drive=0)"
   ]
  },
  {
   "cell_type": "code",
   "execution_count": null,
   "id": "3c3cb2d3",
   "metadata": {
    "ExecuteTime": {
     "end_time": "2021-12-06T23:14:36.373217Z",
     "start_time": "2021-12-06T23:14:35.742540Z"
    }
   },
   "outputs": [],
   "source": [
    "# plot measurement results\n",
    "plot_result_2d(my_results, 'ac_0')"
   ]
  },
  {
   "cell_type": "code",
   "execution_count": null,
   "id": "71910b2b",
   "metadata": {},
   "outputs": [],
   "source": [
    "# use pulse sheet viewer to display the pulse sequence - only recommended for small number of averages and sweep steps to avoid performance issues\n",
    "compiled_exp = session.compiled_experiment\n",
    "show_pulse_sheet(\"Amplitude Rabi\", compiled_exp)"
   ]
  },
  {
   "cell_type": "markdown",
   "id": "f4a0f631-ec16-436b-9e38-fdb306ff052c",
   "metadata": {
    "tags": []
   },
   "source": [
    "# 5. Ramsey Experiment\n",
    "\n",
    "Sweep the delay between two slightly detuned pi/2 pulses to determine the qubit dephasing time as well as fine calibration its excited state frequency"
   ]
  },
  {
   "cell_type": "markdown",
   "id": "ac0d5da7-7416-4f32-b3e8-0114efd383f7",
   "metadata": {},
   "source": [
    "## 5.1 Define the Experiment"
   ]
  },
  {
   "cell_type": "code",
   "execution_count": null,
   "id": "0dc0ba0a-bc2e-456f-a3d0-e03c1de52ec4",
   "metadata": {},
   "outputs": [],
   "source": [
    "## define pulses\n",
    "\n",
    "# qubit drive pulse - use amplitude calibrated by amplitude Rabi experiment\n",
    "x90 = pulse_library.gaussian(uid=\"x90\", length=100e-9, amplitude=0.66)\n",
    "# readout drive pulse\n",
    "readout_pulse = pulse_library.const(\n",
    "    uid=\"readout_pulse\", length=400e-9, amplitude=1.0\n",
    ")\n",
    "# readout integration weights\n",
    "readout_weighting_function = pulse_library.const(\n",
    "    uid=\"readout_weighting_function\", length=400e-9, amplitude=1.0\n",
    ")\n",
    "\n",
    "## calibration settings for readout and drive already set in the baseline calibration on DeviceSetup"
   ]
  },
  {
   "cell_type": "code",
   "execution_count": null,
   "id": "3d1cbd3d",
   "metadata": {
    "ExecuteTime": {
     "end_time": "2021-12-06T23:14:36.843184Z",
     "start_time": "2021-12-06T23:14:36.375034Z"
    },
    "tags": []
   },
   "outputs": [],
   "source": [
    "# set up sweep parameter - delay between pi/2 pulses\n",
    "start = 0.0\n",
    "stop = 1000e-9\n",
    "count = 10\n",
    "\n",
    "sweep_parameter = LinearSweepParameter(uid=\"delay\", start=start, stop=stop, count=count)\n",
    "\n",
    "# number of averages\n",
    "average_exponent = 1  # used for 2^n averages, n=average_exponent, maximum: n = 17\n",
    "\n",
    "# Create Experiment\n",
    "exp = Experiment(\n",
    "    uid=\"Ramsey\",\n",
    "    signals=[\n",
    "        ExperimentSignal(\"drive\"),\n",
    "        ExperimentSignal(\"measure\"),\n",
    "        ExperimentSignal(\"acquire\"),\n",
    "    ],\n",
    ")\n",
    "## experimental pulse sequence\n",
    "# outer loop - real-time, cyclic averaging in standard integration mode\n",
    "with exp.acquire_loop_rt(uid=\"shots\", count=pow(2, average_exponent),\n",
    "    averaging_mode=AveragingMode.CYCLIC, acquisition_type=AcquisitionType.INTEGRATION\n",
    "    ):\n",
    "    # inner loop - real-time sweep over delay between qubit pulses\n",
    "    with exp.sweep(uid=\"sweep\", parameter=sweep_parameter):\n",
    "        # qubit drive pulses - use right-aligned, constant length section to optimize overall experimental sequence\n",
    "        # another way of implementation with a right-aligned sweep section and repetition time AUTO is shown in T1 experiment below\n",
    "        with exp.section(uid=\"qubit_excitation\", length=stop+2*x90.length, alignment=SectionAlignment.RIGHT):\n",
    "            exp.play(signal=\"drive\", pulse=x90)\n",
    "            exp.delay(signal=\"drive\", time=sweep_parameter)\n",
    "            exp.play(signal=\"drive\", pulse=x90)\n",
    "        # qubit readout pulse and data acquisition\n",
    "        with exp.section(uid=\"qubit_readout\"):\n",
    "            exp.reserve(signal=\"drive\")\n",
    "            # play readout pulse\n",
    "            exp.play(signal=\"measure\", pulse=readout_pulse)\n",
    "            # signal data acquisition\n",
    "            exp.acquire(\n",
    "                signal=\"acquire\",\n",
    "                handle=\"ac_0\",\n",
    "                kernel=readout_weighting_function,\n",
    "            )\n",
    "        # relax time after readout - for signal processing and qubit relaxation to groundstate\n",
    "        with exp.section(uid=\"relax\"):\n",
    "            exp.delay(signal=\"measure\", time=1e-6)"
   ]
  },
  {
   "cell_type": "code",
   "execution_count": null,
   "id": "4cae7fb5",
   "metadata": {},
   "outputs": [],
   "source": [
    "# define signal maps for qubit 0\n",
    "map_q0 = {\n",
    "    \"drive\": device_setup.logical_signal_groups[\"q0\"].logical_signals[\"drive_line\"],\n",
    "    \"measure\": device_setup.logical_signal_groups[\"q0\"].logical_signals[\"measure_line\"],\n",
    "    \"acquire\": device_setup.logical_signal_groups[\"q0\"].logical_signals[\"acquire_line\"],\n",
    "}\n",
    "# ... and qubit 1\n",
    "map_q1 = {\n",
    "    \"drive\": device_setup.logical_signal_groups[\"q1\"].logical_signals[\"drive_line\"],\n",
    "    \"measure\": device_setup.logical_signal_groups[\"q1\"].logical_signals[\"measure_line\"],\n",
    "    \"acquire\": device_setup.logical_signal_groups[\"q1\"].logical_signals[\"acquire_line\"],\n",
    "}"
   ]
  },
  {
   "cell_type": "markdown",
   "id": "cd97d37a-c3d9-480a-94ed-568bc237bd64",
   "metadata": {},
   "source": [
    "## 5.2 Run the Experiment and Plot the Measurement Results and Pulse Sequence"
   ]
  },
  {
   "cell_type": "code",
   "execution_count": null,
   "id": "478636d8-c4f3-4a6d-b601-a56316735386",
   "metadata": {},
   "outputs": [],
   "source": [
    "# map exp to qubit 0\n",
    "exp.set_signal_map(map_q0)\n",
    "\n",
    "# create and connect to session\n",
    "session = Session(device_setup=device_setup)\n",
    "session.connect(do_emulation=use_emulation)\n",
    "\n",
    "# run on qubit 0\n",
    "my_results = session.run(exp, do_simulation=True)"
   ]
  },
  {
   "cell_type": "code",
   "execution_count": null,
   "id": "748a37f8-2ce1-4b52-b79f-dbce289e6d59",
   "metadata": {},
   "outputs": [],
   "source": [
    "# map exp to qubit 1\n",
    "exp.set_signal_map(map_q1)\n",
    "\n",
    "# create and connect to session\n",
    "session = Session(device_setup=device_setup)\n",
    "session.connect(do_emulation=use_emulation)\n",
    "\n",
    "# run on qubit 1\n",
    "my_results = session.run(exp, do_simulation=True)"
   ]
  },
  {
   "cell_type": "code",
   "execution_count": null,
   "id": "ac624ae7",
   "metadata": {},
   "outputs": [],
   "source": [
    "# Plot the simulated waveforms\n",
    "plot_output_signals(my_results, uhfqa=1, hdawg_drive=0)"
   ]
  },
  {
   "cell_type": "code",
   "execution_count": null,
   "id": "13fbc2fe",
   "metadata": {
    "ExecuteTime": {
     "end_time": "2021-12-06T23:14:37.515807Z",
     "start_time": "2021-12-06T23:14:36.844486Z"
    }
   },
   "outputs": [],
   "source": [
    "# plot measurement results\n",
    "plot_result_2d(my_results, 'ac_0')"
   ]
  },
  {
   "cell_type": "code",
   "execution_count": null,
   "id": "0c71bb6c",
   "metadata": {},
   "outputs": [],
   "source": [
    "# use pulse sheet viewer to display the pulse sequence - only recommended for small number of averages and sweep steps to avoid performance issues\n",
    "compiled_exp = session.compiled_experiment\n",
    "show_pulse_sheet(\"Ramsey\", compiled_exp)"
   ]
  },
  {
   "cell_type": "markdown",
   "id": "ce742ecc-02f5-4dc5-9044-5fbbbc2c5698",
   "metadata": {
    "tags": []
   },
   "source": [
    "# 6. T1 Experiment\n",
    "\n",
    "Sweep the delay between a qubit excitation pulse and the readout to measure the energy relaxation time of the qubit"
   ]
  },
  {
   "cell_type": "markdown",
   "id": "76f8bebd-da55-487e-b290-9dc15f495678",
   "metadata": {},
   "source": [
    "## 6.1 Define the Experiment"
   ]
  },
  {
   "cell_type": "code",
   "execution_count": null,
   "id": "854c9b93",
   "metadata": {},
   "outputs": [],
   "source": [
    "## define pulses\n",
    "\n",
    "# qubit drive pulse - use amplitude calibrated by amplitude Rabi experiment\n",
    "x180 = pulse_library.gaussian(uid=\"x180\", length=100e-9, amplitude=0.66)\n",
    "# readout drive pulse\n",
    "readout_pulse = pulse_library.const(\n",
    "    uid=\"readout_pulse\", length=400e-9, amplitude=1.0\n",
    ")\n",
    "# readout integration weights\n",
    "readout_weighting_function = pulse_library.const(\n",
    "    uid=\"readout_weighting_function\", length=400e-9, amplitude=1.0\n",
    ")\n",
    "\n",
    "## calibration settings for readout and drive already set in the baseline calibration on DeviceSetup"
   ]
  },
  {
   "cell_type": "code",
   "execution_count": null,
   "id": "f3f974fb",
   "metadata": {},
   "outputs": [],
   "source": [
    "# sweep parameter - delay before readout / after pi pulse\n",
    "count = 10\n",
    "start = 0\n",
    "stop = 1e-6\n",
    "sweep_parameter = LinearSweepParameter(uid=\"delay\", start=start, stop=stop, count=count)\n",
    "\n",
    "# number of averages\n",
    "average_exponent = 10  # used for 2^n averages, n=average_exponent, maximum: n = 17\n",
    "\n",
    "# Create Experiment\n",
    "exp = Experiment(\n",
    "    uid=\"T1 experiment\",\n",
    "    signals=[\n",
    "        ExperimentSignal(\"drive\"),\n",
    "        ExperimentSignal(\"measure\"),\n",
    "        ExperimentSignal(\"acquire\"),\n",
    "    ],\n",
    ")\n",
    "## experimental pulse sequence\n",
    "# outer loop - real-time, cyclic averaging in standard integration mode\n",
    "with exp.acquire_loop_rt(uid=\"shots\", count=pow(2, average_exponent),\n",
    "    averaging_mode=AveragingMode.CYCLIC, acquisition_type=AcquisitionType.INTEGRATION,\n",
    "    repetition_mode=RepetitionMode.AUTO # compiler sets repetition time to shortest possible constant time\n",
    "    ):\n",
    "    # inner loop - sweep over delay between qubit excitation and readout pulse\n",
    "    # right alignment makes sure the readout section follows a fixed timing, being the last element in each shot\n",
    "    with exp.sweep(uid=\"sweep\", parameter=sweep_parameter, alignment=SectionAlignment.RIGHT):\n",
    "        # qubit drive pulse followed by variable delay\n",
    "        with exp.section(uid=\"qubit_excitation\", alignment=SectionAlignment.RIGHT):\n",
    "            exp.play(signal=\"drive\", pulse=x180)\n",
    "            exp.delay(signal=\"drive\", time=sweep_parameter)\n",
    "        # qubit readout pulse and data acquisition\n",
    "        with exp.section(uid=\"qubit_readout\"):\n",
    "            exp.reserve(signal=\"drive\")\n",
    "            # play readout pulse\n",
    "            exp.play(signal=\"measure\", pulse=readout_pulse)\n",
    "            # signal data acquisition\n",
    "            exp.acquire(\n",
    "                signal=\"acquire\",\n",
    "                handle=\"ac_0\",\n",
    "                kernel=readout_weighting_function,\n",
    "            )\n",
    "        # relax time after readout - for signal processing and qubit relaxation to groundstate\n",
    "        with exp.section(uid=\"relax\"):\n",
    "            exp.delay(signal=\"measure\", time=1e-6)"
   ]
  },
  {
   "cell_type": "code",
   "execution_count": null,
   "id": "51b9e15f",
   "metadata": {},
   "outputs": [],
   "source": [
    "# define signal maps for qubit 0\n",
    "map_q0 = {\n",
    "    \"drive\": device_setup.logical_signal_groups[\"q0\"].logical_signals[\"drive_line\"],\n",
    "    \"measure\": device_setup.logical_signal_groups[\"q0\"].logical_signals[\"measure_line\"],\n",
    "    \"acquire\": device_setup.logical_signal_groups[\"q0\"].logical_signals[\"acquire_line\"],\n",
    "}\n",
    "# ... and qubit 1\n",
    "map_q1 = {\n",
    "    \"drive\": device_setup.logical_signal_groups[\"q1\"].logical_signals[\"drive_line\"],\n",
    "    \"measure\": device_setup.logical_signal_groups[\"q1\"].logical_signals[\"measure_line\"],\n",
    "    \"acquire\": device_setup.logical_signal_groups[\"q1\"].logical_signals[\"acquire_line\"],\n",
    "}"
   ]
  },
  {
   "cell_type": "markdown",
   "id": "62b0e602-da60-468b-ae92-64ecc8fcc4c0",
   "metadata": {},
   "source": [
    "## 6.2 Run the Experiment and Plot the Measurement Results and Pulse Sequence"
   ]
  },
  {
   "cell_type": "code",
   "execution_count": null,
   "id": "794f06be-5a6f-4425-b678-a59c8b1ab593",
   "metadata": {},
   "outputs": [],
   "source": [
    "# map exp to qubit 0\n",
    "exp.set_signal_map(map_q0)\n",
    "\n",
    "# create and connect to session\n",
    "session = Session(device_setup=device_setup)\n",
    "session.connect(do_emulation=use_emulation)\n",
    "\n",
    "# run on qubit 0\n",
    "my_results = session.run(exp, do_simulation=True)"
   ]
  },
  {
   "cell_type": "code",
   "execution_count": null,
   "id": "1e59ea78",
   "metadata": {},
   "outputs": [],
   "source": [
    "# map exp to qubit 1\n",
    "exp.set_signal_map(map_q1)\n",
    "\n",
    "# create and connect to session\n",
    "session = Session(device_setup=device_setup)\n",
    "session.connect(do_emulation=use_emulation)\n",
    "\n",
    "# run on qubit 1\n",
    "my_results = session.run(exp, do_simulation=True)"
   ]
  },
  {
   "cell_type": "code",
   "execution_count": null,
   "id": "707f46b2",
   "metadata": {},
   "outputs": [],
   "source": [
    "# Plot the simulated waveforms\n",
    "plot_output_signals(my_results, uhfqa=1, hdawg_drive=0)"
   ]
  },
  {
   "cell_type": "code",
   "execution_count": null,
   "id": "afae69e0",
   "metadata": {
    "ExecuteTime": {
     "end_time": "2021-12-06T23:14:38.746459Z",
     "start_time": "2021-12-06T23:14:38.091919Z"
    }
   },
   "outputs": [],
   "source": [
    "# plot measurement results\n",
    "plot_result_2d(my_results, 'ac_0')"
   ]
  },
  {
   "cell_type": "code",
   "execution_count": null,
   "id": "91baa7a5",
   "metadata": {},
   "outputs": [],
   "source": [
    "# use pulse sheet viewer to display the pulse sequence - only recommended for small number of averages and sweep steps to avoid performance issues\n",
    "compiled_exp = session.compiled_experiment\n",
    "show_pulse_sheet(\"T1\", compiled_exp)"
   ]
  },
  {
   "cell_type": "markdown",
   "id": "75eb03f9-bf90-4f5c-a12b-f86b73872c22",
   "metadata": {
    "tags": []
   },
   "source": [
    "# 7. Ramsey with Sampled Pulse Definition\n",
    "\n",
    "Sweep the delay between two slightly detuned pi/2 pulses to determine the qubit dephasing time as well as fine calibration its excited state frequency\n",
    "\n",
    "Here use a user defined pulse, given as complex valued numpy array "
   ]
  },
  {
   "cell_type": "markdown",
   "id": "f5982a0b-1c39-40bc-993e-7df9af3eb013",
   "metadata": {},
   "source": [
    "## 7.1 Pulse definition"
   ]
  },
  {
   "cell_type": "code",
   "execution_count": null,
   "id": "8b05ae3a",
   "metadata": {
    "ExecuteTime": {
     "end_time": "2021-12-06T23:14:38.777179Z",
     "start_time": "2021-12-06T23:14:38.746459Z"
    }
   },
   "outputs": [],
   "source": [
    "## define pulses\n",
    "\n",
    "# qubit drive pulse as sampled complex pulse\n",
    "x90_length = 100e-9\n",
    "num_samples = round((x90_length * 2.4e9)) # 2.4 GS/s is the sampling rate of the HDAWG which plays the qubit drive pulse\n",
    "samples_complex = np.transpose(np.array([np.arange(num_samples) *(1/num_samples) , np.arange(num_samples) *(1/num_samples)]))\n",
    "\n",
    "x90 = pulse_library.sampled_pulse_complex(samples=samples_complex, uid=\"x90\")\n",
    "# readout drive pulse\n",
    "readout_pulse = pulse_library.const(\n",
    "    uid=\"readout_pulse\", length=400e-9, amplitude=1.0\n",
    ")\n",
    "# readout integration weights\n",
    "readout_weighting_function = pulse_library.const(\n",
    "    uid=\"readout_weighting_function\", length=200e-9, amplitude=1.0\n",
    ")\n",
    "\n",
    "## calibration settings for readout and drive already set in the baseline calibration on DeviceSetup"
   ]
  },
  {
   "cell_type": "markdown",
   "id": "0dcbc56d-20e2-4622-b7df-d7886e187cc8",
   "metadata": {},
   "source": [
    "## 7.2 Define the Experiment"
   ]
  },
  {
   "cell_type": "code",
   "execution_count": null,
   "id": "2d68fc64",
   "metadata": {
    "ExecuteTime": {
     "end_time": "2021-12-06T23:14:39.278987Z",
     "start_time": "2021-12-06T23:14:38.777179Z"
    }
   },
   "outputs": [],
   "source": [
    "# set up sweep parameter - delay between pi/2 pulses\n",
    "start = 0.0\n",
    "stop = 1000e-9\n",
    "count = 10\n",
    "\n",
    "sweep_parameter = LinearSweepParameter(\n",
    "    uid=\"delay\", start=start, stop=stop, count=count)\n",
    "\n",
    "# number of averages\n",
    "average_exponent = 1  # used for 2^n averages, n=average_exponent, maximum: n = 17\n",
    "\n",
    "# Create Experiment\n",
    "exp = Experiment(\n",
    "    uid=\"Ramsey\",\n",
    "    signals=[\n",
    "        ExperimentSignal(\"drive\"),\n",
    "        ExperimentSignal(\"measure\"),\n",
    "        ExperimentSignal(\"acquire\"),\n",
    "    ],\n",
    ")\n",
    "## experimental sequence\n",
    "# outer loop - real-time, cyclic averaging in standard integration mode\n",
    "with exp.acquire_loop_rt(uid=\"shots\", count=pow(2, average_exponent),\n",
    "    averaging_mode=AveragingMode.CYCLIC, acquisition_type=AcquisitionType.INTEGRATION\n",
    "    ):\n",
    "    # inner loop - sweep over delay between qubit drive pulses\n",
    "    with exp.sweep(uid=\"sweep\", parameter=sweep_parameter):\n",
    "        # qubit excitation pulses - use right-aligned, constant length section to optimise pulse timings\n",
    "        with exp.section(uid=\"qubit_excitation\", length=stop + 2 * x90_length, alignment=SectionAlignment.RIGHT):\n",
    "            exp.play(signal=\"drive\", pulse=x90)\n",
    "            exp.delay(signal=\"drive\", time=sweep_parameter)\n",
    "            exp.play(signal=\"drive\", pulse=x90)\n",
    "        # qubit readout pulse and data acquisition \n",
    "        with exp.section(uid=\"qubit_readout\"):\n",
    "            exp.reserve(signal=\"drive\")\n",
    "            # play readout pulse\n",
    "            exp.play(signal=\"measure\", pulse=readout_pulse)\n",
    "            # signal data acquisition\n",
    "            exp.acquire(\n",
    "                signal=\"acquire\",\n",
    "                handle=\"ac_0\",\n",
    "                kernel=readout_weighting_function,\n",
    "            )\n",
    "        # relax time after readout - for signal processing and qubit relaxation to groundstate\n",
    "        with exp.section(uid=\"relax\"):\n",
    "            exp.delay(signal=\"measure\", time=1e-6)"
   ]
  },
  {
   "cell_type": "code",
   "execution_count": null,
   "id": "45a0bab5",
   "metadata": {},
   "outputs": [],
   "source": [
    "# define signal maps for different qubits\n",
    "map_q0 = {\n",
    "    \"drive\": device_setup.logical_signal_groups[\"q0\"].logical_signals[\"drive_line\"],\n",
    "    \"measure\": device_setup.logical_signal_groups[\"q0\"].logical_signals[\"measure_line\"],\n",
    "    \"acquire\": device_setup.logical_signal_groups[\"q0\"].logical_signals[\"acquire_line\"],\n",
    "}\n",
    "\n",
    "map_q1 = {\n",
    "    \"drive\": device_setup.logical_signal_groups[\"q1\"].logical_signals[\"drive_line\"],\n",
    "    \"measure\": device_setup.logical_signal_groups[\"q1\"].logical_signals[\"measure_line\"],\n",
    "    \"acquire\": device_setup.logical_signal_groups[\"q1\"].logical_signals[\"acquire_line\"],\n",
    "}"
   ]
  },
  {
   "cell_type": "markdown",
   "id": "07957303-15c0-4251-9783-ea3ccd31dfb6",
   "metadata": {},
   "source": [
    "##  7.3 Run the Experiment and Plot the Measurement Results and Pulse Sequence"
   ]
  },
  {
   "cell_type": "code",
   "execution_count": null,
   "id": "2a7e25cb",
   "metadata": {},
   "outputs": [],
   "source": [
    "# set experiment to map to qubit 0\n",
    "exp.set_signal_map(map_q0)\n",
    "\n",
    "# create and connect to session\n",
    "session = Session(device_setup=device_setup)\n",
    "session.connect(do_emulation=use_emulation)\n",
    "\n",
    "# run experiment on qubit 0\n",
    "my_results = session.run(exp, do_simulation=True)"
   ]
  },
  {
   "cell_type": "code",
   "execution_count": null,
   "id": "0bf5d22d-f451-45e6-a260-b49930eb39ef",
   "metadata": {},
   "outputs": [],
   "source": [
    "# set experiment to map to qubit 1\n",
    "exp.set_signal_map(map_q1)\n",
    "\n",
    "# create and connect to session\n",
    "session = Session(device_setup=device_setup)\n",
    "session.connect(do_emulation=use_emulation)\n",
    "\n",
    "# run experiment on qubit 1\n",
    "my_results = session.run(exp, do_simulation=True)"
   ]
  },
  {
   "cell_type": "code",
   "execution_count": null,
   "id": "89cdc818",
   "metadata": {},
   "outputs": [],
   "source": [
    "# Plot the simulated waveforms\n",
    "plot_output_signals(my_results, uhfqa=1, hdawg_drive=0)"
   ]
  },
  {
   "cell_type": "code",
   "execution_count": null,
   "id": "4c177489",
   "metadata": {
    "ExecuteTime": {
     "end_time": "2021-12-06T23:14:40.010829Z",
     "start_time": "2021-12-06T23:14:39.278987Z"
    }
   },
   "outputs": [],
   "source": [
    "# plot measurement results\n",
    "plot_result_2d(my_results, 'ac_0')"
   ]
  },
  {
   "cell_type": "code",
   "execution_count": null,
   "id": "084f4c90",
   "metadata": {},
   "outputs": [],
   "source": [
    "# use pulse sheet viewer to display the pulse sequence - only recommended for small number of averages and sweep steps to avoid performance issues\n",
    "compiled_exp = session.compiled_experiment\n",
    "show_pulse_sheet(\"T1\", compiled_exp)"
   ]
  },
  {
   "cell_type": "markdown",
   "id": "e3e6f040-090c-48ed-9822-8897636ff850",
   "metadata": {},
   "source": [
    "# 8. Pulsed Qubit Spectroscopy for flux dependent qubit\n",
    "\n",
    "Find the flux dependent resonance frequency of a qubit by looking at the change in resonator transmission when sweeping the frequency of a qubit excitation pulse"
   ]
  },
  {
   "cell_type": "markdown",
   "id": "be8430c9-7c2b-4ef5-ba50-805b66c197b2",
   "metadata": {},
   "source": [
    "## 8.1 Define the Experiment"
   ]
  },
  {
   "cell_type": "code",
   "execution_count": null,
   "id": "dc70073c-413a-4314-b84e-dd092f5698b1",
   "metadata": {},
   "outputs": [],
   "source": [
    "## define pulses\n",
    "\n",
    "# flux pulse - applied during whole experimental pulse sequence\n",
    "const_flux = pulse_library.const(\n",
    "    uid=\"const_flux\", length=600e-9, amplitude=1.0\n",
    ")\n",
    "# qubit drive pulse\n",
    "const_iq_100ns = pulse_library.const(\n",
    "    uid=\"const_iq_100ns\", length=100e-9, amplitude=1.0\n",
    ")\n",
    "# readout drive pulse\n",
    "readout_pulse = pulse_library.const(\n",
    "    uid=\"readout_pulse\", length=400e-9, amplitude=1.0\n",
    ")\n",
    "# readout weights for integration\n",
    "readout_weighting_function = pulse_library.const(\n",
    "    uid=\"readout_weighting_function\", length=200e-9, amplitude=1.0\n",
    ")\n",
    "\n",
    "## define calibration settings for readout - set on DeviceSetup as a  baseline calibration\n",
    "\n",
    "lsg = device_setup.logical_signal_groups[\"q0\"].logical_signals\n",
    "# Use the result from resonator spectroscopy experiment to define readout frequency\n",
    "lsg[\"measure_line\"].calibration.oscillator.frequency = 100e6\n",
    "lsg[\"measure_line\"].oscillator.modulation_type = ModulationType.SOFTWARE\n",
    "lsg[\"acquire_line\"].calibration.port_delay=150e-9   # allow readout signal to settle before data acquisition\n",
    "lsg[\"acquire_line\"].calibration.oscillator.frequency = 100e6\n",
    "lsg[\"acquire_line\"].oscillator.modulation_type = ModulationType.SOFTWARE\n",
    "\n",
    "lsg = device_setup.logical_signal_groups[\"q1\"].logical_signals\n",
    "# Use the result from resonator spectroscopy experiment to define readout frequency\n",
    "lsg[\"measure_line\"].calibration.oscillator.frequency = 50e6\n",
    "lsg[\"measure_line\"].oscillator.modulation_type = ModulationType.SOFTWARE\n",
    "lsg[\"acquire_line\"].calibration.port_delay=150e-9   # allow readout signal to settle before data acquisition\n",
    "lsg[\"acquire_line\"].calibration.oscillator.frequency = 50e6\n",
    "lsg[\"acquire_line\"].oscillator.modulation_type = ModulationType.SOFTWARE\n"
   ]
  },
  {
   "cell_type": "code",
   "execution_count": null,
   "id": "9a935a2c-c4b7-41dd-befb-a5a63c4d362f",
   "metadata": {
    "ExecuteTime": {
     "end_time": "2021-12-06T23:14:34.438486Z",
     "start_time": "2021-12-06T23:14:34.037887Z"
    }
   },
   "outputs": [],
   "source": [
    "# define sweep parameter - sweep over the frequency of a qubit excitation pulse\n",
    "start = 40e6\n",
    "stop = 200e6\n",
    "count = 40\n",
    "\n",
    "sweep_parameter = LinearSweepParameter(uid=\"freq-qubit\", start=start, stop=stop, count=count)\n",
    "\n",
    "# define flux sweep parameters\n",
    "flux_count = 20\n",
    "\n",
    "flux_sweep = LinearSweepParameter(uid=\"flux_qubit\", start=0, stop=1, count=flux_count)\n",
    "\n",
    "# define number of averages\n",
    "average_exponent = 4  # used for 2^n averages, n=average_exponent, maximum: n = 17"
   ]
  },
  {
   "cell_type": "code",
   "execution_count": null,
   "id": "81d99b05",
   "metadata": {},
   "outputs": [],
   "source": [
    "# Create Experiment - no explicit mapping to qubit lines\n",
    "exp = Experiment(\n",
    "    uid=\"Qubit Flux Spectroscopy\",\n",
    "    signals=[\n",
    "        ExperimentSignal(\"flux\"),\n",
    "        ExperimentSignal(\"drive\"),\n",
    "        ExperimentSignal(\"measure\"),\n",
    "        ExperimentSignal(\"acquire\"),\n",
    "    ],\n",
    ")\n",
    "## experimental pulse sequence\n",
    "# outer loop - near-time sweep over qubit drive frequency\n",
    "with exp.sweep(uid=\"sweep\", parameter=sweep_parameter, execution_type=ExecutionType.NEAR_TIME):\n",
    "    # inner loop - real-time, sequential averaging in standard integration mode\n",
    "    with exp.acquire_loop_rt(uid=\"shots\", count=pow(2, average_exponent),\n",
    "        averaging_mode=AveragingMode.CYCLIC, acquisition_type=AcquisitionType.INTEGRATION\n",
    "        ):\n",
    "        # inner loop - adjust flux bias to qubit\n",
    "        with exp.sweep(uid=\"flux_sweep\", parameter=flux_sweep):\n",
    "            with exp.section(uid=\"flux bias\"):\n",
    "                exp.play(signal=\"flux\", pulse=const_flux)\n",
    "            # qubit excitation pulse - frequency will be swept\n",
    "            with exp.section(uid=\"qubit_excitation\"):\n",
    "                # allow for transients to settle\n",
    "                exp.delay(signal=\"drive\", time=100e-9)\n",
    "                # play excitation pulse\n",
    "                exp.play(signal=\"drive\", pulse=const_iq_100ns)\n",
    "            # readout and data acquisition\n",
    "            with exp.section(uid=\"qubit_readout\"):\n",
    "                exp.reserve(signal=\"drive\")\n",
    "                # play readout pulse\n",
    "                exp.play(signal=\"measure\", pulse=readout_pulse)\n",
    "                # signal data acquisition\n",
    "                exp.acquire(\n",
    "                    signal=\"acquire\",\n",
    "                    handle=\"ac_0\",\n",
    "                    kernel=readout_weighting_function,\n",
    "                )\n",
    "            # relax time after readout - for signal processing and qubit relaxation to groundstate\n",
    "            with exp.section(uid=\"relax\"):\n",
    "                exp.delay(signal=\"measure\", time=1e-6)"
   ]
  },
  {
   "cell_type": "code",
   "execution_count": null,
   "id": "2fc447da-e023-40ae-84e0-7226d7de0b97",
   "metadata": {},
   "outputs": [],
   "source": [
    "# define experiment calibration - sweep over qubit drive frequency\n",
    "exp_calib = Calibration()\n",
    "exp_calib[\"drive\"] = SignalCalibration(\n",
    "    oscillator=Oscillator(\n",
    "        frequency=sweep_parameter,\n",
    "        modulation_type=ModulationType.HARDWARE,\n",
    "    )\n",
    ")\n",
    "\n",
    "# define signal maps for qubit 0\n",
    "map_q0 = {\n",
    "    \"flux\": device_setup.logical_signal_groups[\"q0\"].logical_signals[\"flux_line\"],\n",
    "    \"drive\": device_setup.logical_signal_groups[\"q0\"].logical_signals[\"drive_line\"],\n",
    "    \"measure\": device_setup.logical_signal_groups[\"q0\"].logical_signals[\"measure_line\"],\n",
    "    \"acquire\": device_setup.logical_signal_groups[\"q0\"].logical_signals[\"acquire_line\"],\n",
    "}\n",
    "# ... and qubit 1\n",
    "map_q1 = {\n",
    "    \"flux\": device_setup.logical_signal_groups[\"q1\"].logical_signals[\"flux_line\"],\n",
    "    \"drive\": device_setup.logical_signal_groups[\"q1\"].logical_signals[\"drive_line\"],\n",
    "    \"measure\": device_setup.logical_signal_groups[\"q1\"].logical_signals[\"measure_line\"],\n",
    "    \"acquire\": device_setup.logical_signal_groups[\"q1\"].logical_signals[\"acquire_line\"],\n",
    "}"
   ]
  },
  {
   "cell_type": "markdown",
   "id": "3a6f57de-d25c-4c12-9c29-072c3b75b88d",
   "metadata": {},
   "source": [
    "## 8.2 Run the Experiment and Plot the Measurement Results and Pulse Sequence"
   ]
  },
  {
   "cell_type": "code",
   "execution_count": null,
   "id": "468a5aab-a529-400a-94e6-f1137374cc78",
   "metadata": {},
   "outputs": [],
   "source": [
    "# set calibration and signal map for qubit 0\n",
    "exp.set_calibration(exp_calib)\n",
    "exp.set_signal_map(map_q0)\n",
    "\n",
    "# create a session and connect to it\n",
    "session = Session(device_setup=device_setup)\n",
    "session.connect(do_emulation=use_emulation)\n",
    "\n",
    "# run experiment on qubit 0 \n",
    "my_results = session.run(exp, do_simulation=True)"
   ]
  },
  {
   "cell_type": "code",
   "execution_count": null,
   "id": "106d3c69-fb46-43d8-849e-5ac6ae57d890",
   "metadata": {},
   "outputs": [],
   "source": [
    "# set calibration and signal map for qubit 1\n",
    "exp.set_calibration(exp_calib)\n",
    "exp.set_signal_map(map_q1)\n",
    "\n",
    "# create a session and connect to it\n",
    "session = Session(device_setup=device_setup)\n",
    "session.connect(do_emulation=use_emulation)\n",
    "\n",
    "# run experiment on qubit 1\n",
    "my_results = session.run(exp, do_simulation=True)"
   ]
  },
  {
   "cell_type": "code",
   "execution_count": null,
   "id": "aafef5bb",
   "metadata": {},
   "outputs": [],
   "source": [
    "# Plot the simulated waveforms\n",
    "plot_output_signals(my_results, uhfqa=2, hdawg_drive=0, hdawg_flux=1)"
   ]
  },
  {
   "cell_type": "code",
   "execution_count": null,
   "id": "f8e6837a-64c3-4387-8d47-38a7f28fc05c",
   "metadata": {
    "ExecuteTime": {
     "end_time": "2021-12-06T23:14:35.139445Z",
     "start_time": "2021-12-06T23:14:34.438486Z"
    }
   },
   "outputs": [],
   "source": [
    "# plot measurement results\n",
    "plot_result_3d(my_results, 'ac_0')"
   ]
  },
  {
   "cell_type": "code",
   "execution_count": null,
   "id": "57b152bc-7460-4c33-94c5-8af99ff3c4ec",
   "metadata": {},
   "outputs": [],
   "source": [
    "# use pulse sheet viewer to display the pulse sequence - only recommended for small number of averages and sweep steps to avoid performance issues\n",
    "compiled_exp = session.compiled_experiment\n",
    "show_pulse_sheet(\"Qubit Flux Spectroscopy\", compiled_exp)"
   ]
  },
  {
   "cell_type": "markdown",
   "id": "f6ead121",
   "metadata": {},
   "source": [
    "# 9. Flux-Scope Experiment\n",
    "\n",
    "Experiment to characterise the distortions of flux pulses due to the imperfect signal lines, following chapter 4.4.3 in https://www.research-collection.ethz.ch/handle/20.500.11850/153681"
   ]
  },
  {
   "cell_type": "markdown",
   "id": "7afbdca5",
   "metadata": {},
   "source": [
    "## 9.1 Define the Experiment"
   ]
  },
  {
   "cell_type": "code",
   "execution_count": null,
   "id": "6e76d60e",
   "metadata": {},
   "outputs": [],
   "source": [
    "# Pulse definitions\n",
    "\n",
    "# qubit excitation pulse - amplitude such that if pulse is resonant, results in pi rotation\n",
    "x180 = pulse_library.gaussian(uid=\"x180\", length=20e-9, amplitude=0.66)\n",
    "\n",
    "# flux pulse - constant length and amplitude\n",
    "flux_pulse = pulse_library.const(uid=\"flux_pulse\", length=400e-9, amplitude=0.5)\n",
    "\n",
    "# readout drive pulse\n",
    "readout_pulse = pulse_library.const(\n",
    "    uid=\"readout_pulse\", length=250e-9, amplitude=1.0\n",
    ")\n",
    "# readout weights for integration\n",
    "readout_weighting_function = pulse_library.const(\n",
    "    uid=\"readout_weighting_function\", length=200e-9, amplitude=1.0\n",
    ")\n",
    "\n",
    "# assuming all calibration settings are already correct\n"
   ]
  },
  {
   "cell_type": "code",
   "execution_count": null,
   "id": "929a268b",
   "metadata": {},
   "outputs": [],
   "source": [
    "# define sweep parameters\n",
    "\n",
    "# qubit excitation pulse frequency sweep\n",
    "start_freq = 40e6\n",
    "stop_freq = 200e6\n",
    "count_freq = 11\n",
    "\n",
    "sweep_frequency = LinearSweepParameter(uid=\"freq-qubit\", start=start_freq, stop=stop_freq, count=count_freq)\n",
    "\n",
    "# sweep delay between start of flux pulse and start of qubit excitation pulse\n",
    "start_delay = 0\n",
    "stop_delay = flux_pulse.length - x180.length\n",
    "count_delay = 11\n",
    "\n",
    "sweep_delay = LinearSweepParameter(uid=\"delay\", start=start_delay,  stop=stop_delay, count=count_delay)\n",
    "\n",
    "# define number of averages\n",
    "average_exponent = 10  # used for 2^n averages, n=average_exponent, maximum: n = 19\n"
   ]
  },
  {
   "cell_type": "code",
   "execution_count": null,
   "id": "701cd1b3",
   "metadata": {},
   "outputs": [],
   "source": [
    "# Create Experiment\n",
    "exp = Experiment(\n",
    "    \"Flux Scope\",\n",
    "    signals=[\n",
    "        ExperimentSignal(\"drive\"),\n",
    "        ExperimentSignal(\"flux\"),\n",
    "        ExperimentSignal(\"measure\"),\n",
    "        ExperimentSignal(\"acquire\"),\n",
    "    ],\n",
    ")\n",
    "\n",
    "## experimental pulse sequence\n",
    "# outer sweep - qubit excitation frequency\n",
    "with exp.sweep(uid=\"frequency_sweep\", parameter=sweep_frequency, execution_type=ExecutionType.NEAR_TIME):\n",
    "    # real-time acquisiton loop in integration mode\n",
    "    with exp.acquire_loop_rt(uid=\"shots\", count=pow(2, average_exponent),\n",
    "        averaging_mode=AveragingMode.CYCLIC, acquisition_type=AcquisitionType.INTEGRATION\n",
    "    ):\n",
    "        # inner sweep - delay between start of qubit excitation pulse and start of flux pulse\n",
    "        with exp.sweep(uid=\"sweep\", parameter=sweep_delay):\n",
    "            # flux pulse\n",
    "            with exp.section(uid=\"qubit_detuning\"): \n",
    "                exp.play(signal=\"flux\", pulse=flux_pulse)\n",
    "            # qubit excitation pulse - delayed with respect to start of flux pulse\n",
    "            with exp.section(uid=\"qubit_excitation\"):\n",
    "                exp.delay(signal=\"drive\", time=sweep_delay)\n",
    "                exp.play(signal=\"drive\", pulse=x180)\n",
    "            # readout and data acquisition\n",
    "            with exp.section(uid=\"qubit_readout\"):\n",
    "                exp.reserve(signal=\"drive\")\n",
    "                exp.reserve(signal=\"flux\")\n",
    "                exp.play(signal=\"measure\", pulse=readout_pulse)\n",
    "                exp.acquire(\n",
    "                    signal=\"acquire\",\n",
    "                    handle=\"ac_0\",\n",
    "                    kernel=readout_weighting_function,\n",
    "                )\n",
    "            # relax time after readout - for signal processing and qubit relaxation to groundstate\n",
    "            with exp.section(uid=\"relax\"):\n",
    "                exp.delay(signal=\"measure\", time=1e-6)  "
   ]
  },
  {
   "cell_type": "code",
   "execution_count": null,
   "id": "1f804d0a",
   "metadata": {},
   "outputs": [],
   "source": [
    "# define experiment calibration - sweep over qubit drive frequency\n",
    "exp_calib = Calibration()\n",
    "exp_calib[\"drive\"] = SignalCalibration(\n",
    "    oscillator=Oscillator(\n",
    "        frequency=sweep_frequency,\n",
    "        modulation_type=ModulationType.HARDWARE,\n",
    "    )\n",
    ")\n",
    "\n",
    "# define signal maps for qubit 0\n",
    "map_q0 = {\n",
    "    \"flux\": device_setup.logical_signal_groups[\"q0\"].logical_signals[\"flux_line\"],\n",
    "    \"drive\": device_setup.logical_signal_groups[\"q0\"].logical_signals[\"drive_line\"],\n",
    "    \"measure\": device_setup.logical_signal_groups[\"q0\"].logical_signals[\"measure_line\"],\n",
    "    \"acquire\": device_setup.logical_signal_groups[\"q0\"].logical_signals[\"acquire_line\"],\n",
    "}\n",
    "# ... and qubit 1\n",
    "map_q1 = {\n",
    "    \"flux\": device_setup.logical_signal_groups[\"q1\"].logical_signals[\"flux_line\"],\n",
    "    \"drive\": device_setup.logical_signal_groups[\"q1\"].logical_signals[\"drive_line\"],\n",
    "    \"measure\": device_setup.logical_signal_groups[\"q1\"].logical_signals[\"measure_line\"],\n",
    "    \"acquire\": device_setup.logical_signal_groups[\"q1\"].logical_signals[\"acquire_line\"],\n",
    "}"
   ]
  },
  {
   "cell_type": "markdown",
   "id": "2c4a02bc-a500-4acd-a5b0-d8ed4302bec0",
   "metadata": {},
   "source": [
    "## 9.2 Run the Experiment and Plot the Measurement Results and Pulse Sequence"
   ]
  },
  {
   "cell_type": "code",
   "execution_count": null,
   "id": "3e20c471-a819-4b58-8616-a9f987affd84",
   "metadata": {},
   "outputs": [],
   "source": [
    "# set calibration and signal map for qubit 0\n",
    "exp.set_calibration(exp_calib)\n",
    "exp.set_signal_map(map_q0)\n",
    "\n",
    "# create a session and connect to it\n",
    "session = Session(device_setup=device_setup)\n",
    "session.connect(do_emulation=use_emulation)\n",
    "\n",
    "# run experiment on qubit 0 \n",
    "my_results = session.run(exp, do_simulation=True)"
   ]
  },
  {
   "cell_type": "code",
   "execution_count": null,
   "id": "80af8a70",
   "metadata": {},
   "outputs": [],
   "source": [
    "# Plot the simulated waveforms\n",
    "plot_output_signals(my_results, uhfqa=2, hdawg_drive=0, hdawg_flux=1)"
   ]
  },
  {
   "cell_type": "code",
   "execution_count": null,
   "id": "8b89154f-b2bd-4cf9-8450-3908372618ed",
   "metadata": {
    "ExecuteTime": {
     "end_time": "2021-12-06T23:14:35.139445Z",
     "start_time": "2021-12-06T23:14:34.438486Z"
    }
   },
   "outputs": [],
   "source": [
    "# plot measurement results\n",
    "plot_result_3d(my_results, 'ac_0')"
   ]
  },
  {
   "cell_type": "code",
   "execution_count": null,
   "id": "a8c5a5fe-4a30-4922-94ad-1ff9bffe5b05",
   "metadata": {},
   "outputs": [],
   "source": [
    "# use pulse sheet viewer to display the pulse sequence - only recommended for small number of averages and sweep steps to avoid performance issues\n",
    "compiled_exp = session.compiled_experiment\n",
    "show_pulse_sheet(\"Flux Scope Experiment\", compiled_exp)"
   ]
  },
  {
   "cell_type": "markdown",
   "id": "4cff8208-5413-4449-982e-d68f532f5fd2",
   "metadata": {},
   "source": [
    "# 10. Cryoscope experiment\n",
    "\n",
    "Alternate experiment to characterise the pulse distortions from line impedance, following https://arxiv.org/pdf/1907.04818.pdf - Ramsey sequence with fixed timing and variable flux pulse in between - sweeping flux pulse length and amplitude\n",
    "\n",
    "Please note that number of sweep steps is currently (version 0.65) limited by the instruction limit on the quantum analyzer. This is due to incomplete compression of its sequencerC code."
   ]
  },
  {
   "cell_type": "markdown",
   "id": "9543bc09-aa41-4af1-bec1-f050d61b901e",
   "metadata": {},
   "source": [
    "## 10.1 Define the Experiment"
   ]
  },
  {
   "cell_type": "code",
   "execution_count": null,
   "id": "fb419230-1410-4173-9781-ecca9017a0e1",
   "metadata": {},
   "outputs": [],
   "source": [
    "## define standard pulses\n",
    "\n",
    "# qubit drive pulse - pi/2 rotation\n",
    "x90 = pulse_library.gaussian(\n",
    "    uid=\"x90\", length=100e-9, amplitude=0.66\n",
    ")\n",
    "# readout drive pulse\n",
    "readout_pulse = pulse_library.const(\n",
    "    uid=\"readout_pulse\", length=250e-9, amplitude=1.0\n",
    ")\n",
    "# readout weights for integration\n",
    "readout_weighting_function = pulse_library.const(\n",
    "    uid=\"readout_weighting_function\", length=200e-9, amplitude=1.0\n",
    ")\n",
    "\n",
    "# assuming all calibration settings are already correct"
   ]
  },
  {
   "cell_type": "code",
   "execution_count": null,
   "id": "00fbcf36-6a9f-4541-a6b1-d79d93835abf",
   "metadata": {
    "ExecuteTime": {
     "end_time": "2021-12-06T23:14:34.438486Z",
     "start_time": "2021-12-06T23:14:34.037887Z"
    }
   },
   "outputs": [],
   "source": [
    "# define near time sweep parameter - pulse length\n",
    "length_start = 10e-9\n",
    "length_stop = 100e-9\n",
    "length_count = 5    # known issue: limited to max. 30 steps\n",
    "\n",
    "# flux_lengths = np.linspace(length_start, length_stop, length_count)\n",
    "flux_lengths = LinearSweepParameter(start = length_start, stop = length_stop, count = length_count)\n",
    "\n",
    "# define a dict of pulses based on the pulse length\n",
    "flux_pulses = {}\n",
    "for length in flux_lengths.values:\n",
    "    flux_name = 'flux_' + str(round(1e9 * length))\n",
    "    flux_pulses[flux_name] = pulse_library.const(uid=flux_name, length=length, amplitude=1.0)"
   ]
  },
  {
   "cell_type": "code",
   "execution_count": null,
   "id": "477e0940",
   "metadata": {},
   "outputs": [],
   "source": [
    "# define flux amplitude sweep parameter\n",
    "flux_amp_count = 3\n",
    "\n",
    "flux_amp_sweep = LinearSweepParameter(uid=\"flux_qubit\", start=0.1, stop=1, count=flux_amp_count)\n",
    "\n",
    "# define number of averages\n",
    "average_exponent = 1  # used for 2^n averages, n=average_exponent, maximum: n = 17"
   ]
  },
  {
   "cell_type": "code",
   "execution_count": null,
   "id": "6c37a3b2",
   "metadata": {},
   "outputs": [],
   "source": [
    "# Create Experiment - no explicit mapping to qubit lines\n",
    "exp = Experiment(\n",
    "    uid=\"Cryoscope experiment\",\n",
    "    signals=[\n",
    "        ExperimentSignal(\"flux\"),\n",
    "        ExperimentSignal(\"drive\"),\n",
    "        ExperimentSignal(\"measure\"),\n",
    "        ExperimentSignal(\"acquire\"),\n",
    "    ],\n",
    ")\n",
    "\n",
    "with exp.acquire_loop_rt(uid=\"shots\", count=pow(2, average_exponent),\n",
    "    averaging_mode=AveragingMode.CYCLIC, acquisition_type=AcquisitionType.INTEGRATION\n",
    "):\n",
    "    with exp.sweep(parameter=flux_amp_sweep):\n",
    "        for length in flux_lengths.values:\n",
    "            flux_name = 'flux_' + str(round(1e9 * length))\n",
    "            with exp.section(uid=\"shot_\"+flux_name):                \n",
    "                # qubit excitation pulses - Ramsey with fixed timing \n",
    "                with exp.section():\n",
    "                    # play first Ramsey excitation pulse\n",
    "                    exp.play(signal=\"drive\", pulse=x90)\n",
    "                    exp.delay(signal=\"drive\", time=2*length_stop)\n",
    "                    # play second Ramsey excitation pulse\n",
    "                    exp.play(signal=\"drive\", pulse=x90)\n",
    "                # interleaved flux pulse with variable length and amplitude\n",
    "                with exp.section():\n",
    "                    # delay while first Ramsey pulse is played\n",
    "                    exp.delay(signal=\"flux\", time=x90.length)\n",
    "                    # flux pulse\n",
    "                    exp.play(signal=\"flux\", pulse=flux_pulses[flux_name], amplitude=flux_amp_sweep)\n",
    "                # readout and data acquisition\n",
    "                with exp.section():\n",
    "                    exp.reserve(signal=\"drive\")\n",
    "                    exp.reserve(signal=\"flux\")\n",
    "                    # play readout pulse\n",
    "                    exp.play(signal=\"measure\", pulse=readout_pulse)\n",
    "                    # signal data acquisition\n",
    "                    exp.acquire(\n",
    "                        signal=\"acquire\",\n",
    "                        handle=\"ac_0\",\n",
    "                        kernel=readout_weighting_function,\n",
    "                    )\n",
    "                # relax time after readout - for signal processing and qubit relaxation to groundstate\n",
    "                with exp.section():\n",
    "                    exp.delay(signal=\"measure\", time=1e-6)"
   ]
  },
  {
   "cell_type": "code",
   "execution_count": null,
   "id": "8f7b418b-88ce-460c-8868-cef36c20e44e",
   "metadata": {},
   "outputs": [],
   "source": [
    "# define signal maps for qubit 0\n",
    "map_q0 = {\n",
    "    \"flux\": device_setup.logical_signal_groups[\"q0\"].logical_signals[\"flux_line\"],\n",
    "    \"drive\": device_setup.logical_signal_groups[\"q0\"].logical_signals[\"drive_line\"],\n",
    "    \"measure\": device_setup.logical_signal_groups[\"q0\"].logical_signals[\"measure_line\"],\n",
    "    \"acquire\": device_setup.logical_signal_groups[\"q0\"].logical_signals[\"acquire_line\"],\n",
    "}\n",
    "# ... and qubit 1\n",
    "map_q1 = {\n",
    "    \"flux\": device_setup.logical_signal_groups[\"q1\"].logical_signals[\"flux_line\"],\n",
    "    \"drive\": device_setup.logical_signal_groups[\"q1\"].logical_signals[\"drive_line\"],\n",
    "    \"measure\": device_setup.logical_signal_groups[\"q1\"].logical_signals[\"measure_line\"],\n",
    "    \"acquire\": device_setup.logical_signal_groups[\"q1\"].logical_signals[\"acquire_line\"],\n",
    "}"
   ]
  },
  {
   "cell_type": "markdown",
   "id": "cccae36a-a47f-4328-8f8a-062b8836f574",
   "metadata": {},
   "source": [
    "## 10.2 Run the Experiment and Plot the Measurement Results and Pulse Sequence"
   ]
  },
  {
   "cell_type": "code",
   "execution_count": null,
   "id": "0fe76b8b",
   "metadata": {},
   "outputs": [],
   "source": [
    "# set calibration and signal map for qubit 0\n",
    "exp.set_signal_map(map_q0)\n",
    "\n",
    "# create a session and connect to it\n",
    "session = Session(device_setup=device_setup)\n",
    "session.connect(do_emulation=use_emulation)\n",
    "session.max_simulation_time = 5e-6\n",
    "\n",
    "my_results = session.run(exp, do_simulation=True)"
   ]
  },
  {
   "cell_type": "code",
   "execution_count": null,
   "id": "d2a67b55",
   "metadata": {},
   "outputs": [],
   "source": [
    "# Plot the simulated waveforms\n",
    "plot_output_signals(my_results, uhfqa=2, hdawg_drive=0, hdawg_flux=1)"
   ]
  },
  {
   "cell_type": "code",
   "execution_count": null,
   "id": "78d14df6-7851-4551-83b5-55adcf0e8938",
   "metadata": {
    "ExecuteTime": {
     "end_time": "2021-12-06T23:14:35.139445Z",
     "start_time": "2021-12-06T23:14:34.438486Z"
    }
   },
   "outputs": [],
   "source": [
    "# plot measurement results\n",
    "plot_result_3d(my_results, 'ac_0')"
   ]
  },
  {
   "cell_type": "code",
   "execution_count": null,
   "id": "5f28d4fd",
   "metadata": {},
   "outputs": [],
   "source": [
    "# use pulse sheet viewer to display the pulse sequence - only recommended for small number of averages and sweep steps to avoid performance issues\n",
    "# compiled_exp = session.compiled_experiment\n",
    "show_pulse_sheet(\"Cryoscope\", session.compiled_experiment)"
   ]
  }
 ],
 "metadata": {
  "hide_input": false,
  "kernelspec": {
   "display_name": "Python 3.10.6 64-bit ('develop')",
   "language": "python",
   "name": "python3"
  },
  "language_info": {
   "codemirror_mode": {
    "name": "ipython",
    "version": 3
   },
   "file_extension": ".py",
   "mimetype": "text/x-python",
   "name": "python",
   "nbconvert_exporter": "python",
   "pygments_lexer": "ipython3",
   "version": "3.10.6"
  },
  "toc": {
   "base_numbering": 1,
   "nav_menu": {},
   "number_sections": true,
   "sideBar": true,
   "skip_h1_title": false,
   "title_cell": "Table of Contents",
   "title_sidebar": "Contents",
   "toc_cell": false,
   "toc_position": {
    "height": "calc(100% - 180px)",
    "left": "10px",
    "top": "150px",
    "width": "426.667px"
   },
   "toc_section_display": true,
   "toc_window_display": true
  },
  "varInspector": {
   "cols": {
    "lenName": 16,
    "lenType": 16,
    "lenVar": 40
   },
   "kernels_config": {
    "python": {
     "delete_cmd_postfix": "",
     "delete_cmd_prefix": "del ",
     "library": "var_list.py",
     "varRefreshCmd": "print(var_dic_list())"
    },
    "r": {
     "delete_cmd_postfix": ") ",
     "delete_cmd_prefix": "rm(",
     "library": "var_list.r",
     "varRefreshCmd": "cat(var_dic_list()) "
    }
   },
   "types_to_exclude": [
    "module",
    "function",
    "builtin_function_or_method",
    "instance",
    "_Feature"
   ],
   "window_display": false
  },
  "vscode": {
   "interpreter": {
    "hash": "60d19ab31e2602c798ebca92c5e0dbbdfa80da3d3e1986ed50be48b7d4d0a8f7"
   }
  }
 },
 "nbformat": 4,
 "nbformat_minor": 5
}
