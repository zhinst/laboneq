{
 "cells": [
  {
   "cell_type": "markdown",
   "id": "771e7eff",
   "metadata": {},
   "source": [
    "# Prerequisites"
   ]
  },
  {
   "cell_type": "code",
   "execution_count": null,
   "id": "09fe582e",
   "metadata": {
    "ExecuteTime": {
     "end_time": "2021-10-28T10:18:26.421932Z",
     "start_time": "2021-10-28T10:18:25.038035Z"
    }
   },
   "outputs": [],
   "source": [
    "%config IPCompleter.greedy=True\n",
    "\n",
    "# convenience import for all QCCS software functionality\n",
    "from laboneq.simple import *\n",
    "\n",
    "# helper import\n",
    "from example_notebook_helper import *\n",
    "# pretty printing\n",
    "from pprint import pprint"
   ]
  },
  {
   "cell_type": "code",
   "execution_count": null,
   "id": "9ac23cb7",
   "metadata": {
    "ExecuteTime": {
     "end_time": "2021-10-28T10:18:26.440188Z",
     "start_time": "2021-10-28T10:18:26.421932Z"
    }
   },
   "outputs": [],
   "source": [
    "descriptor=\"\"\"\\\n",
    "instrument_list:\n",
    "  HDAWG:\n",
    "  - address: DEV1001\n",
    "    uid: device_hdawg \n",
    "  UHFQA:\n",
    "  - address: DEV2001    \n",
    "    uid: device_uhfqa\n",
    "  PQSC:  \n",
    "  - address: DEV3001\n",
    "    uid: device_pqsc\n",
    "connections:\n",
    "  device_hdawg:    \n",
    "    - iq_signal: q0/drive_line\n",
    "      ports: [SIGOUTS/0, SIGOUTS/1]        \n",
    "    - iq_signal: q1/drive_line\n",
    "      ports: [SIGOUTS/2, SIGOUTS/3]\n",
    "    - rf_signal: q0/flux_line\n",
    "      ports: [SIGOUTS/4]        \n",
    "    - rf_signal: q1/flux_line\n",
    "      ports: [SIGOUTS/5]              \n",
    "    - to: device_uhfqa\n",
    "      port: DIOS/0\n",
    "  device_uhfqa:    \n",
    "    - iq_signal: q0/measure_line\n",
    "      ports: [SIGOUTS/0, SIGOUTS/1]        \n",
    "    - acquire_signal: q0/acquire_line\n",
    "    - iq_signal: q1/measure_line\n",
    "      ports: [SIGOUTS/0, SIGOUTS/1]        \n",
    "    - acquire_signal: q1/acquire_line\n",
    "  device_pqsc:\n",
    "    - to: device_hdawg\n",
    "      port: ZSYNCS/0\n",
    "\"\"\""
   ]
  },
  {
   "cell_type": "code",
   "execution_count": null,
   "id": "55001de3",
   "metadata": {
    "ExecuteTime": {
     "end_time": "2021-10-28T10:18:26.471336Z",
     "start_time": "2021-10-28T10:18:26.440188Z"
    }
   },
   "outputs": [],
   "source": [
    "def calibrate_devices(device_setup):\n",
    "    \n",
    "    device_setup.logical_signal_groups[\"q0\"].logical_signals[\"drive_line\"].calibration = \\\n",
    "        SignalCalibration(\n",
    "            oscillator=Oscillator(\n",
    "                uid=\"drive_q0_osc\",\n",
    "                frequency=1e8,\n",
    "                modulation_type=ModulationType.HARDWARE\n",
    "            ),\n",
    "            mixer_calibration=MixerCalibration(\n",
    "                voltage_offsets=[0.02, 0.01],\n",
    "                correction_matrix = [\n",
    "                    [1.0, 0.0],\n",
    "                    [0.0, 1.0],\n",
    "                ]\n",
    "            )\n",
    "        )\n",
    "    device_setup.logical_signal_groups[\"q0\"].logical_signals[\"measure_line\"].calibration = \\\n",
    "        SignalCalibration(\n",
    "            oscillator=Oscillator(\n",
    "                uid=\"measure_q0_osc\",\n",
    "                frequency=1e8,\n",
    "                modulation_type=ModulationType.SOFTWARE\n",
    "            ),\n",
    "            mixer_calibration=MixerCalibration(\n",
    "                voltage_offsets=[0.02, 0.01],\n",
    "                correction_matrix = [\n",
    "                    [1.0, 0.0],\n",
    "                    [0.0, 1.0],\n",
    "                ]\n",
    "            )\n",
    "        )\n",
    "    device_setup.logical_signal_groups[\"q0\"].logical_signals[\"acquire_line\"].oscillator = Oscillator(\n",
    "        uid=\"acquire_q0_osc\",\n",
    "        frequency=1e8,\n",
    "        modulation_type=ModulationType.SOFTWARE\n",
    "    )\n",
    "    \n",
    "    device_setup.logical_signal_groups[\"q1\"].logical_signals[\"drive_line\"].calibration = \\\n",
    "        SignalCalibration(\n",
    "            oscillator=Oscillator(\n",
    "                uid=\"drive_q1_osc\",\n",
    "                frequency=1e8,\n",
    "                modulation_type=ModulationType.HARDWARE\n",
    "            ),\n",
    "            mixer_calibration=MixerCalibration(\n",
    "                voltage_offsets=[0.02, 0.01],\n",
    "                correction_matrix = [\n",
    "                    [1.0, 0.0],\n",
    "                    [0.0, 1.0],\n",
    "                ]\n",
    "            )\n",
    "        )\n",
    "    device_setup.logical_signal_groups[\"q1\"].logical_signals[\"measure_line\"].calibration = \\\n",
    "        SignalCalibration(\n",
    "            oscillator = Oscillator(\n",
    "                uid=\"measure_q1_osc\",\n",
    "                frequency=1e8,\n",
    "                modulation_type=ModulationType.SOFTWARE\n",
    "            ),\n",
    "            mixer_calibration=MixerCalibration(\n",
    "                voltage_offsets=[0.02, 0.01],\n",
    "                correction_matrix = [\n",
    "                    [1.0, 0.0],\n",
    "                    [0.0, 1.0],\n",
    "                ]\n",
    "            )\n",
    "        )\n",
    "    device_setup.logical_signal_groups[\"q1\"].logical_signals[\"acquire_line\"].oscillator = Oscillator(\n",
    "        uid=\"acquire_q1_osc\",\n",
    "        frequency=1e8,\n",
    "        modulation_type=ModulationType.SOFTWARE\n",
    "    )"
   ]
  },
  {
   "cell_type": "code",
   "execution_count": null,
   "id": "dfcaf748",
   "metadata": {
    "ExecuteTime": {
     "end_time": "2021-10-28T10:18:26.492578Z",
     "start_time": "2021-10-28T10:18:26.475922Z"
    }
   },
   "outputs": [],
   "source": [
    "device_setup = DeviceSetup.from_descriptor(\n",
    "    descriptor,\n",
    "    server_host=\"111.22.33.44\",\n",
    "    server_port=\"8004\",\n",
    "    setup_name=\"ZI_QCCS\",\n",
    ") \n",
    "calibrate_devices(device_setup)"
   ]
  },
  {
   "cell_type": "code",
   "execution_count": null,
   "id": "debb49d6",
   "metadata": {
    "ExecuteTime": {
     "end_time": "2021-10-28T10:18:26.508215Z",
     "start_time": "2021-10-28T10:18:26.492578Z"
    }
   },
   "outputs": [],
   "source": [
    "# Create Resonator Spectroscopy example experiment\n",
    "exp = Experiment(\n",
    "    uid=\"Resonator Spectroscopy\",\n",
    "    signals=[ExperimentSignal(\"q0_measure\"), ExperimentSignal(\"q0_acquire\")],\n",
    ")\n",
    "\n",
    "# Connect experiment signals to logical signals\n",
    "exp.map_signal(\n",
    "    \"q0_measure\",\n",
    "    device_setup.logical_signal_groups[\"q0\"].logical_signals[\"measure_line\"],\n",
    ")\n",
    "exp.map_signal(\n",
    "    \"q0_acquire\",\n",
    "    device_setup.logical_signal_groups[\"q0\"].logical_signals[\"acquire_line\"],\n",
    ")\n",
    "\n",
    "start = -100e6\n",
    "stop = 100e6\n",
    "count = 20\n",
    "average_exponent = 10  # used for 2^n averages, n=average_exponent, maximum: n = 17\n",
    "\n",
    "sweep_parameter = LinearSweepParameter(uid=\"sweep_param\", start=start, stop=stop, count=count)\n",
    "\n",
    "device_setup.logical_signal_groups[\"q0\"].logical_signals[\n",
    "    \"measure_line\"\n",
    "].oscillator.frequency = sweep_parameter\n",
    "device_setup.logical_signal_groups[\"q0\"].logical_signals[\n",
    "    \"measure_line\"\n",
    "].oscillator.modulation_type = ModulationType.HARDWARE\n",
    "\n",
    "\n",
    "with exp.sweep(uid=\"sweep\", parameter=sweep_parameter):\n",
    "    with exp.acquire_loop_rt(uid=\"avg\", count=pow(2, average_exponent), averaging_mode=AveragingMode.SEQUENTIAL,acquisition_type=AcquisitionType.SPECTROSCOPY):\n",
    "        with exp.section(uid=\"spectroscopy\"):\n",
    "            exp.play(\n",
    "                signal=\"q0_measure\",\n",
    "                pulse=pulse_library.const(length=1e-6, amplitude=1.0),\n",
    "            )\n",
    "            exp.acquire(\n",
    "                signal=\"q0_acquire\", \n",
    "                handle=\"h\",\n",
    "                length=1e-6,\n",
    "            )\n",
    "        with exp.section(uid=\"relax\"):\n",
    "            exp.play(\n",
    "                signal=\"q0_measure\",\n",
    "                pulse=pulse_library.const(length=1e-6, amplitude=0.0),\n",
    "            )  # KNOWN ISSUE: Need to wait for 1us to prevent QA holdoff error"
   ]
  },
  {
   "cell_type": "markdown",
   "id": "c6460f9b",
   "metadata": {},
   "source": [
    "# Session instantiation"
   ]
  },
  {
   "cell_type": "code",
   "execution_count": null,
   "id": "908f939f",
   "metadata": {
    "ExecuteTime": {
     "end_time": "2021-10-28T10:18:26.540015Z",
     "start_time": "2021-10-28T10:18:26.508215Z"
    }
   },
   "outputs": [],
   "source": [
    "session = Session(device_setup=device_setup)\n",
    "session.connect(do_emulation=True)"
   ]
  },
  {
   "cell_type": "markdown",
   "id": "c6ec7b08",
   "metadata": {},
   "source": [
    "# Experiment compilation"
   ]
  },
  {
   "cell_type": "code",
   "execution_count": null,
   "id": "e801abd3",
   "metadata": {
    "ExecuteTime": {
     "end_time": "2021-10-28T10:18:26.671242Z",
     "start_time": "2021-10-28T10:18:26.543488Z"
    }
   },
   "outputs": [],
   "source": [
    "compiled_experiment = session.compile(experiment=exp, do_simulation=True)"
   ]
  },
  {
   "cell_type": "markdown",
   "id": "88798ec6",
   "metadata": {},
   "source": [
    "Compiled experiment can also be retrieved from the session at any time, once available:"
   ]
  },
  {
   "cell_type": "code",
   "execution_count": null,
   "id": "6fbcf932",
   "metadata": {
    "ExecuteTime": {
     "end_time": "2021-10-28T10:18:26.686852Z",
     "start_time": "2021-10-28T10:18:26.671242Z"
    }
   },
   "outputs": [],
   "source": [
    "compiled_experiment = session.compiled_experiment"
   ]
  },
  {
   "cell_type": "markdown",
   "id": "edf40dd9",
   "metadata": {},
   "source": [
    "# Experiment execution\n",
    "\n",
    "Returns a reference to the results object obtained by running this experiment"
   ]
  },
  {
   "cell_type": "code",
   "execution_count": null,
   "id": "c97a458c",
   "metadata": {
    "ExecuteTime": {
     "end_time": "2021-10-28T10:18:26.839873Z",
     "start_time": "2021-10-28T10:18:26.703889Z"
    }
   },
   "outputs": [],
   "source": [
    "my_results = session.run(compiled_experiment, do_simulation=True)"
   ]
  },
  {
   "cell_type": "markdown",
   "id": "defb6204",
   "metadata": {},
   "source": [
    "# Result Handling"
   ]
  },
  {
   "cell_type": "markdown",
   "id": "894cd6e7",
   "metadata": {},
   "source": [
    "Results are available after executing an experiment:"
   ]
  },
  {
   "cell_type": "markdown",
   "id": "fcb9cf95",
   "metadata": {},
   "source": [
    "## Get a results object\n",
    "containing all relevant data from the last execution"
   ]
  },
  {
   "cell_type": "code",
   "execution_count": null,
   "id": "3d4cfb38",
   "metadata": {
    "ExecuteTime": {
     "end_time": "2021-10-28T10:18:27.087232Z",
     "start_time": "2021-10-28T10:18:27.057950Z"
    }
   },
   "outputs": [],
   "source": [
    "results = session.results"
   ]
  },
  {
   "cell_type": "markdown",
   "id": "f4f9bcc0",
   "metadata": {},
   "source": [
    "> **Note:** This results object contains a reference of the data stored in the session\n",
    "and care has to be taken when using this to not affect the results in the session."
   ]
  },
  {
   "cell_type": "code",
   "execution_count": null,
   "id": "3d4cfb38",
   "metadata": {
    "ExecuteTime": {
     "end_time": "2021-10-28T10:18:27.087232Z",
     "start_time": "2021-10-28T10:18:27.057950Z"
    }
   },
   "outputs": [],
   "source": [
    "results_copy = session.get_results()"
   ]
  },
  {
   "cell_type": "markdown",
   "id": "f4f9bcc0",
   "metadata": {},
   "source": [
    "> **Note:** To obtain a copy of the results contained within the session, use the get_results method instead"
   ]
  },
  {
   "cell_type": "code",
   "execution_count": null,
   "id": "480ce057",
   "metadata": {
    "ExecuteTime": {
     "end_time": "2021-10-28T10:18:27.122060Z",
     "start_time": "2021-10-28T10:18:27.090805Z"
    }
   },
   "outputs": [],
   "source": [
    "device_setup            = results.device_setup\n",
    "device_calibration      = results.device_calibration\n",
    "experiment              = results.experiment\n",
    "experiment_calibration  = results.experiment_calibration\n",
    "signal_map              = results.signal_map\n",
    "compiled_experiment     = results.compiled_experiment\n",
    "output_signals          = results.compiled_experiment.output_signals\n",
    "acquired_results        = results.acquired_results"
   ]
  },
  {
   "cell_type": "markdown",
   "id": "fa85988c",
   "metadata": {},
   "source": [
    "## Compiled Experiment"
   ]
  },
  {
   "cell_type": "code",
   "execution_count": null,
   "id": "f870ab22",
   "metadata": {
    "ExecuteTime": {
     "end_time": "2021-10-28T10:18:27.140239Z",
     "start_time": "2021-10-28T10:18:27.124579Z"
    }
   },
   "outputs": [],
   "source": [
    "recipe = compiled_experiment.recipe\n",
    "src = compiled_experiment.src\n",
    "waves = compiled_experiment.waves"
   ]
  },
  {
   "cell_type": "markdown",
   "id": "d943cf47",
   "metadata": {},
   "source": [
    "## Acquired Results\n",
    "The structure of the acquired results will change. For now, it is just adapted to the current controller implementation."
   ]
  },
  {
   "cell_type": "code",
   "execution_count": null,
   "id": "6faab255",
   "metadata": {
    "ExecuteTime": {
     "end_time": "2021-10-28T10:18:27.187114Z",
     "start_time": "2021-10-28T10:18:27.140239Z"
    }
   },
   "outputs": [],
   "source": [
    "pprint(acquired_results)"
   ]
  },
  {
   "cell_type": "markdown",
   "id": "b1623e5c",
   "metadata": {},
   "source": [
    "## Device Output Signals"
   ]
  },
  {
   "cell_type": "code",
   "execution_count": null,
   "id": "f6b77f06",
   "metadata": {
    "ExecuteTime": {
     "end_time": "2021-10-28T10:18:27.217955Z",
     "start_time": "2021-10-28T10:18:27.187114Z"
    }
   },
   "outputs": [],
   "source": [
    "output_signals.signals"
   ]
  },
  {
   "cell_type": "markdown",
   "id": "b3a15441",
   "metadata": {},
   "source": [
    "## Convenience getters on Results object\n",
    "Get output signal by device_uid:"
   ]
  },
  {
   "cell_type": "code",
   "execution_count": null,
   "id": "5841dd27",
   "metadata": {
    "ExecuteTime": {
     "end_time": "2021-10-28T10:18:27.240479Z",
     "start_time": "2021-10-28T10:18:27.222068Z"
    }
   },
   "outputs": [],
   "source": [
    "compiled_experiment.get_output_signals(device_uid=\"device_uhfqa\")"
   ]
  },
  {
   "cell_type": "markdown",
   "id": "a35104d8",
   "metadata": {},
   "source": [
    "Get acquired results for a given buffer (handle):"
   ]
  },
  {
   "cell_type": "code",
   "execution_count": null,
   "id": "e8fa5095",
   "metadata": {
    "ExecuteTime": {
     "end_time": "2021-10-28T10:18:27.255476Z",
     "start_time": "2021-10-28T10:18:27.244477Z"
    }
   },
   "outputs": [],
   "source": [
    "acquired_data = results.get_data('h')\n",
    "# 1D -> one axis only\n",
    "axis_grid = results.get_axis('h')[0]\n",
    "axis_name = results.get_axis_name('h')[0]"
   ]
  },
  {
   "cell_type": "markdown",
   "id": "bceaaaf3",
   "metadata": {},
   "source": [
    "# Serialization"
   ]
  },
  {
   "cell_type": "markdown",
   "id": "fd342d95",
   "metadata": {},
   "source": [
    "Save the entire session as executed above:"
   ]
  },
  {
   "cell_type": "code",
   "execution_count": null,
   "id": "5ac64990",
   "metadata": {},
   "outputs": [],
   "source": [
    "session.save(\"my_session.json\")"
   ]
  },
  {
   "cell_type": "markdown",
   "id": "0f3f01b9",
   "metadata": {},
   "source": [
    "Save individual data entities from the session:"
   ]
  },
  {
   "cell_type": "code",
   "execution_count": null,
   "id": "62fdfaa3",
   "metadata": {},
   "outputs": [],
   "source": [
    "session.save_device_setup(\"my_device_setup.json\")\n",
    "session.save_experiment(\"my_experiment.json\")\n",
    "session.save_compiled_experiment(\"my_compiled_experiment.json\")\n",
    "session.save_device_calibration(\"my_device_calibration.json\")\n",
    "session.save_experiment_calibration(\"my_experiment_calibration.json\")\n",
    "session.save_signal_map(\"my_signal_map.json\")\n",
    "session.save_results(\"my_results.json\")"
   ]
  },
  {
   "cell_type": "markdown",
   "id": "22d737ca",
   "metadata": {},
   "source": [
    "Load serialized session into a new session:"
   ]
  },
  {
   "cell_type": "code",
   "execution_count": null,
   "id": "a4bc6fe8",
   "metadata": {},
   "outputs": [],
   "source": [
    "new_session = Session.load(\"my_session.json\")"
   ]
  },
  {
   "cell_type": "markdown",
   "id": "19499e76",
   "metadata": {},
   "source": [
    "Connect and rerun the loaded session:"
   ]
  },
  {
   "cell_type": "code",
   "execution_count": null,
   "id": "2c68586a",
   "metadata": {},
   "outputs": [],
   "source": [
    "new_session.connect(do_emulation=True)\n",
    "new_results = new_session.run()"
   ]
  },
  {
   "cell_type": "markdown",
   "id": "27ab9e72",
   "metadata": {},
   "source": [
    "Load individual data entities into the session:"
   ]
  },
  {
   "cell_type": "code",
   "execution_count": null,
   "id": "c20f0b54",
   "metadata": {},
   "outputs": [],
   "source": [
    "session.load_device_setup(\"my_device_setup.json\")\n",
    "session.load_experiment(\"my_experiment.json\")\n",
    "session.load_compiled_experiment(\"my_compiled_experiment.json\")\n",
    "session.load_device_calibration(\"my_device_calibration.json\")\n",
    "session.load_experiment_calibration(\"my_experiment_calibration.json\")\n",
    "session.load_signal_map(\"my_signal_map.json\")\n"
   ]
  },
  {
   "cell_type": "markdown",
   "id": "c5a373e2",
   "metadata": {},
   "source": [
    "Load data entities separately:"
   ]
  },
  {
   "cell_type": "code",
   "execution_count": null,
   "id": "a209e393",
   "metadata": {},
   "outputs": [],
   "source": [
    "my_device_setup = DeviceSetup.load(\"my_device_setup.json\")\n",
    "my_experiment = Experiment.load(\"my_experiment.json\")\n",
    "compiled_experiment = CompiledExperiment.load(\"my_compiled_experiment.json\")\n",
    "my_device_calibration = Calibration.load(\"my_device_calibration.json\")\n",
    "my_experiment_calibration = Calibration.load(\"my_experiment_calibration.json\")\n",
    "my_results = Results.load(\"my_results.json\")\n",
    "\n",
    "# Signal Maps can only be loaded on and applied to an existing Experiment:\n",
    "my_experiment.load_signal_map(\"my_signal_map.json\")\n",
    "\n",
    "print(my_device_setup)"
   ]
  },
  {
   "cell_type": "markdown",
   "id": "7ae9cab0",
   "metadata": {},
   "source": [
    "# Plotting"
   ]
  },
  {
   "cell_type": "markdown",
   "id": "4653ff5a",
   "metadata": {},
   "source": [
    "Plotting the acquired results:"
   ]
  },
  {
   "cell_type": "code",
   "execution_count": null,
   "id": "d6be0425",
   "metadata": {
    "ExecuteTime": {
     "end_time": "2021-10-28T10:18:28.087735Z",
     "start_time": "2021-10-28T10:18:27.942122Z"
    }
   },
   "outputs": [],
   "source": [
    "import matplotlib.pyplot as plt\n",
    "import numpy as np\n",
    "\n",
    "plt.plot(axis_grid, np.absolute(acquired_data))\n",
    "plt.xlabel(axis_name)"
   ]
  },
  {
   "cell_type": "markdown",
   "id": "b86d7abb",
   "metadata": {},
   "source": [
    "Plotting device output signals:"
   ]
  },
  {
   "cell_type": "code",
   "execution_count": null,
   "id": "b8d19f41",
   "metadata": {
    "ExecuteTime": {
     "end_time": "2021-10-28T10:18:28.403932Z",
     "start_time": "2021-10-28T10:18:28.087735Z"
    }
   },
   "outputs": [],
   "source": [
    "# Plot simulated output signals\n",
    "fig, ax = plt.subplots(3, 1, figsize=(5, 5), sharex=True)\n",
    "fig.subplots_adjust(hspace=0.4)\n",
    "\n",
    "channels_uhfqa = results.compiled_experiment.output_signals.signals[0][\"channels\"]\n",
    "time = channels_uhfqa[0].time_axis\n",
    "ax[0].plot(time, channels_uhfqa[0].data)\n",
    "ax[0].set_ylabel(\"Amplitude\")\n",
    "ax[0].set_title(\"Readout pulse I\")\n",
    "ax[1].plot(time, channels_uhfqa[1].data)\n",
    "ax[1].set_ylabel(\"Amplitude\")\n",
    "ax[1].set_title(\"Readout pulse Q\")\n",
    "time = channels_uhfqa[2].time_axis\n",
    "ax[2].plot(time, channels_uhfqa[2].data)\n",
    "ax[2].set_title(\"QA trigger\")"
   ]
  },
  {
   "cell_type": "code",
   "execution_count": null,
   "id": "19dab51f",
   "metadata": {},
   "outputs": [],
   "source": []
  }
 ],
 "metadata": {
  "hide_input": false,
  "kernelspec": {
   "display_name": "Python 3.10.6 64-bit ('repo')",
   "language": "python",
   "name": "python3"
  },
  "language_info": {
   "codemirror_mode": {
    "name": "ipython",
    "version": 3
   },
   "file_extension": ".py",
   "mimetype": "text/x-python",
   "name": "python",
   "nbconvert_exporter": "python",
   "pygments_lexer": "ipython3",
   "version": "3.10.6"
  },
  "toc": {
   "base_numbering": 1,
   "nav_menu": {},
   "number_sections": true,
   "sideBar": true,
   "skip_h1_title": false,
   "title_cell": "Table of Contents",
   "title_sidebar": "Contents",
   "toc_cell": false,
   "toc_position": {},
   "toc_section_display": true,
   "toc_window_display": false
  },
  "varInspector": {
   "cols": {
    "lenName": 16,
    "lenType": 16,
    "lenVar": 40
   },
   "kernels_config": {
    "python": {
     "delete_cmd_postfix": "",
     "delete_cmd_prefix": "del ",
     "library": "var_list.py",
     "varRefreshCmd": "print(var_dic_list())"
    },
    "r": {
     "delete_cmd_postfix": ") ",
     "delete_cmd_prefix": "rm(",
     "library": "var_list.r",
     "varRefreshCmd": "cat(var_dic_list()) "
    }
   },
   "types_to_exclude": [
    "module",
    "function",
    "builtin_function_or_method",
    "instance",
    "_Feature"
   ],
   "window_display": false
  },
  "vscode": {
   "interpreter": {
    "hash": "3e8e885d6bbb2dc7ef38d883ae575c046c45459cb969ded50795d3dc0072533d"
   }
  }
 },
 "nbformat": 4,
 "nbformat_minor": 5
}
