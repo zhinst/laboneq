{
 "cells": [
  {
   "cell_type": "code",
   "execution_count": null,
   "id": "ddadf1f7",
   "metadata": {},
   "outputs": [],
   "source": [
    "from laboneq_benchmark.device_setups import (\n",
    "    create_benchmark_device_setup_qpu,\n",
    "    create_benchmark_device_setup,\n",
    ")\n",
    "from laboneq_benchmark.experiments import (\n",
    "    rb_parallel,\n",
    "    ramsey_parallel,\n",
    "    # amplitude_rabi_parallel,\n",
    "    two_qubit_RB,\n",
    ")\n",
    "\n",
    "import matplotlib.pyplot as plt\n",
    "import pickle\n",
    "import glob\n",
    "import numpy as np\n",
    "\n",
    "from laboneq_benchmark import benchmark, extract_metadata, extract_duration\n",
    "\n",
    "from laboneq import __version__ as laboneq_version"
   ]
  },
  {
   "cell_type": "markdown",
   "id": "3c170f00",
   "metadata": {},
   "source": [
    "## Quickstart"
   ]
  },
  {
   "cell_type": "code",
   "execution_count": null,
   "id": "bb581215",
   "metadata": {},
   "outputs": [],
   "source": [
    "qubit_counts = [1, 2]\n",
    "\n",
    "benchmark_results = []\n",
    "for n_qubit in qubit_counts:\n",
    "    device_setup = create_benchmark_device_setup(\n",
    "        number_of_qubits=n_qubit, calibrate_setup=False\n",
    "    )\n",
    "    experiment = rb_parallel(\n",
    "        qubits=list(device_setup.qubits.values())[:n_qubit],\n",
    "        sequence_exponent=8,\n",
    "        chunk_count=10,\n",
    "        n_sequences_per_length=20,\n",
    "        do_readout=False,\n",
    "        prng_seed=42,\n",
    "    )\n",
    "    benchmark_result = benchmark(\n",
    "        device_setup=device_setup,\n",
    "        experiment=experiment,\n",
    "        metadata={\"qubits.count\": n_qubit, \"number_average\": 2**12},\n",
    "    )\n",
    "    benchmark_results.append(benchmark_result)"
   ]
  },
  {
   "cell_type": "markdown",
   "id": "af682651",
   "metadata": {},
   "source": [
    "## API overview"
   ]
  },
  {
   "cell_type": "markdown",
   "id": "08526e72",
   "metadata": {},
   "source": [
    "To dictionary format, e.g. for saving"
   ]
  },
  {
   "cell_type": "code",
   "execution_count": null,
   "id": "aa0dc884",
   "metadata": {},
   "outputs": [],
   "source": [
    "benchmark_results[0].to_dict()"
   ]
  },
  {
   "cell_type": "markdown",
   "id": "435b34e9",
   "metadata": {},
   "source": [
    "Operations query"
   ]
  },
  {
   "cell_type": "code",
   "execution_count": null,
   "id": "3f4d713b",
   "metadata": {},
   "outputs": [],
   "source": [
    "# Available operations\n",
    "benchmark_results[0].operation_names()"
   ]
  },
  {
   "cell_type": "code",
   "execution_count": null,
   "id": "b59f6416",
   "metadata": {},
   "outputs": [],
   "source": [
    "# Query specific operation\n",
    "benchmark_results[0].get_operation(\"experiment-compile\").to_dict()"
   ]
  },
  {
   "cell_type": "markdown",
   "id": "8f1e59b7",
   "metadata": {},
   "source": [
    "Benchmark run metadata"
   ]
  },
  {
   "cell_type": "code",
   "execution_count": null,
   "id": "eff134b0",
   "metadata": {},
   "outputs": [],
   "source": [
    "benchmark_results[0].metadata"
   ]
  },
  {
   "cell_type": "markdown",
   "id": "8657538e",
   "metadata": {},
   "source": []
  },
  {
   "cell_type": "markdown",
   "id": "e99b3a44",
   "metadata": {},
   "source": [
    "## Benchmark runs - parallel Ramsey\n",
    "\n",
    "Create and compile a Ramsey experiment in parallel on a configurable number of qubits. \n",
    "\n",
    "Tested to run with LabOne Q versions from 2.41.0."
   ]
  },
  {
   "cell_type": "code",
   "execution_count": null,
   "id": "0de9dfec",
   "metadata": {},
   "outputs": [],
   "source": [
    "number_of_qubits = range(12, 193, 24)\n",
    "number_sweep_steps = 201\n",
    "\n",
    "benchmark_results_ramsey = []\n",
    "for number in number_of_qubits:\n",
    "    print(f\"Generating and compiling parallel Ramsey experiment for {number} qubits\")\n",
    "    device_setup = create_benchmark_device_setup(\n",
    "        number_of_qubits=number, calibrate_setup=False\n",
    "    )\n",
    "    experiment = ramsey_parallel(\n",
    "        qubits=list(device_setup.qubits.values())[:number],\n",
    "        number_sweep_steps=number_sweep_steps,\n",
    "        chunk_count=1,\n",
    "    )\n",
    "    benchmark_result = benchmark(\n",
    "        device_setup=device_setup,\n",
    "        experiment=experiment,\n",
    "        metadata={\n",
    "            \"number_sweep_steps\": number_sweep_steps,\n",
    "            \"qubits.count\": number,\n",
    "        },\n",
    "    )\n",
    "    benchmark_results_ramsey.append(benchmark_result)"
   ]
  },
  {
   "cell_type": "code",
   "execution_count": null,
   "id": "b73f8339",
   "metadata": {},
   "outputs": [],
   "source": [
    "with open(f\"data/Ramsey/benchmark_results_ramsey_{laboneq_version}.pkl\", \"wb\") as f:\n",
    "    pickle.dump(benchmark_results_ramsey, f)"
   ]
  },
  {
   "cell_type": "code",
   "execution_count": null,
   "id": "af22a7f1",
   "metadata": {},
   "outputs": [],
   "source": [
    "qubit_numbers_ramsey = extract_metadata(benchmark_results_ramsey, \"qubits.count\")\n",
    "compilation_duration_ramsey = extract_duration(\n",
    "    benchmark_results_ramsey, \"experiment-compile\"\n",
    ")\n",
    "code_generator_duration_ramsey = extract_duration(\n",
    "    benchmark_results_ramsey, \"laboneq.compiler.generate-code\"\n",
    ")"
   ]
  },
  {
   "cell_type": "markdown",
   "id": "de271a47",
   "metadata": {},
   "source": [
    "plot data"
   ]
  },
  {
   "cell_type": "code",
   "execution_count": null,
   "id": "af7f77b0",
   "metadata": {},
   "outputs": [],
   "source": [
    "plt.plot(\n",
    "    qubit_numbers_ramsey,\n",
    "    compilation_duration_ramsey,\n",
    "    label=f\"Total Compilation time - version {laboneq_version}\",\n",
    ")\n",
    "plt.plot(\n",
    "    qubit_numbers_ramsey,\n",
    "    code_generator_duration_ramsey,\n",
    "    label=f\"Code Generation time - version {laboneq_version}\",\n",
    ")\n",
    "plt.xlabel(\"Number of qubits in Ramsey experiment\")\n",
    "plt.ylabel(\"Code generation & Compilation time [s]\")\n",
    "plt.legend()\n",
    "plt.show()"
   ]
  },
  {
   "cell_type": "markdown",
   "id": "c0a2f6dc",
   "metadata": {},
   "source": [
    "## Benchmark runs - parallel single qubit RB\n",
    "\n",
    "Create and compile a randomized benchmarking experiment in parallel on a configurable number of qubits for a specific clifford sequence length. \n",
    "\n",
    "Tested to run with LabOne Q versions from 2.41.0."
   ]
  },
  {
   "cell_type": "code",
   "execution_count": null,
   "id": "d889ce71",
   "metadata": {},
   "outputs": [],
   "source": [
    "sequence_exponents = [2, 3, 4, 5, 6, 7, 8, 9, 10, 11, 12, 13]\n",
    "number_of_qubits = 4\n",
    "\n",
    "benchmark_results_rb = []\n",
    "for sequence_exponent in sequence_exponents:\n",
    "    print(\n",
    "        f\"Generating and compiling parallel RB experiment for {number_of_qubits} qubits and {2**sequence_exponent} clifford gates\"\n",
    "    )\n",
    "    device_setup = create_benchmark_device_setup(\n",
    "        number_of_qubits=number_of_qubits, calibrate_setup=False\n",
    "    )\n",
    "    experiment = rb_parallel(\n",
    "        qubits=list(device_setup.qubits.values())[:number_of_qubits],\n",
    "        sequence_exponent=sequence_exponent,\n",
    "        chunk_count=20,\n",
    "        n_sequences_per_length=40,\n",
    "    )\n",
    "    benchmark_result = benchmark(\n",
    "        device_setup=device_setup,\n",
    "        experiment=experiment,\n",
    "        metadata={\n",
    "            \"qubits.count\": number_of_qubits,\n",
    "            \"sequence_exponent\": sequence_exponent,\n",
    "        },\n",
    "    )\n",
    "    benchmark_results_rb.append(benchmark_result)"
   ]
  },
  {
   "cell_type": "code",
   "execution_count": null,
   "id": "b7035676",
   "metadata": {},
   "outputs": [],
   "source": [
    "with open(f\"data/RB/benchmark_results_rb_{laboneq_version}.pkl\", \"wb\") as f:\n",
    "    pickle.dump(benchmark_results_rb, f)"
   ]
  },
  {
   "cell_type": "code",
   "execution_count": null,
   "id": "c5094404",
   "metadata": {},
   "outputs": [],
   "source": [
    "sequence_exponents_rb = extract_metadata(benchmark_results_rb, \"sequence_exponent\")\n",
    "compilation_duration_rb = extract_duration(benchmark_results_rb, \"experiment-compile\")\n",
    "code_generator_duration_rb = extract_duration(\n",
    "    benchmark_results_rb, \"laboneq.compiler.generate-code\"\n",
    ")"
   ]
  },
  {
   "cell_type": "markdown",
   "id": "77328166",
   "metadata": {},
   "source": [
    "plot data"
   ]
  },
  {
   "cell_type": "code",
   "execution_count": null,
   "id": "8fc65b33",
   "metadata": {},
   "outputs": [],
   "source": [
    "plt.plot(\n",
    "    2**sequence_exponents_rb,\n",
    "    compilation_duration_rb,\n",
    "    label=f\"Total Compilation time - version {laboneq_version}\",\n",
    ")\n",
    "plt.plot(\n",
    "    2**sequence_exponents_rb,\n",
    "    code_generator_duration_rb,\n",
    "    label=f\"Code Generation time - version {laboneq_version}\",\n",
    ")\n",
    "plt.xlabel(\"Length of RB sequence\")\n",
    "plt.ylabel(\"Code generation & Compilation time [s]\")\n",
    "plt.legend()\n",
    "plt.show()"
   ]
  },
  {
   "cell_type": "markdown",
   "id": "5370cfa7",
   "metadata": {},
   "source": [
    "## Benchmark runs - two qubit RB from Qiskit\n",
    "\n",
    "This experiment requires some functionality that is only available in later versions of LabOne Q - the earliest tested version is 2.57.0"
   ]
  },
  {
   "cell_type": "code",
   "execution_count": null,
   "id": "2008f50a",
   "metadata": {},
   "outputs": [],
   "source": [
    "sequence_exponents = [2, 3, 4, 5, 6, 7, 8]\n",
    "\n",
    "benchmark_results_2qb_rb = []\n",
    "for sequence_exponent in sequence_exponents:\n",
    "    print(\n",
    "        f\"Generating and compiling two-Qubit RB experiment from Qiskit with {2**sequence_exponent} clifford gates\"\n",
    "    )\n",
    "    device_setup, qpu = create_benchmark_device_setup_qpu(\n",
    "        number_of_qubits=2, calibrate_setup=False\n",
    "    )\n",
    "    experiment = two_qubit_RB(\n",
    "        device_setup=device_setup,\n",
    "        qpu=qpu,\n",
    "        sequence_exponent=sequence_exponent,\n",
    "        chunk_count=40,\n",
    "        n_sequences_per_length=40,\n",
    "    )\n",
    "    benchmark_result = benchmark(\n",
    "        device_setup=device_setup,\n",
    "        experiment=experiment,\n",
    "        metadata={\n",
    "            \"sequence_exponent\": sequence_exponent,\n",
    "        },\n",
    "    )\n",
    "    benchmark_results_2qb_rb.append(benchmark_result)"
   ]
  },
  {
   "cell_type": "code",
   "execution_count": null,
   "id": "6129ad02",
   "metadata": {},
   "outputs": [],
   "source": [
    "with open(f\"data/2QB_RB/benchmark_results_2qb_rb_{laboneq_version}.pkl\", \"wb\") as f:\n",
    "    pickle.dump(benchmark_results_2qb_rb, f)"
   ]
  },
  {
   "cell_type": "code",
   "execution_count": null,
   "id": "01346dab",
   "metadata": {},
   "outputs": [],
   "source": [
    "sequence_exponents_2qb_rb = extract_metadata(\n",
    "    benchmark_results_2qb_rb, \"sequence_exponent\"\n",
    ")\n",
    "compilation_duration_2qb_rb = extract_duration(\n",
    "    benchmark_results_2qb_rb, \"experiment-compile\"\n",
    ")\n",
    "code_generator_duration_2qb_rb = extract_duration(\n",
    "    benchmark_results_2qb_rb, \"laboneq.compiler.generate-code\"\n",
    ")\n",
    "creation_duration_2qb_rb = extract_duration(\n",
    "    benchmark_results_2qb_rb, \"experiment-creation\"\n",
    ")"
   ]
  },
  {
   "cell_type": "code",
   "execution_count": null,
   "id": "ae68fe94",
   "metadata": {},
   "outputs": [],
   "source": [
    "plt.plot(\n",
    "    2**sequence_exponents_2qb_rb,\n",
    "    compilation_duration_2qb_rb,\n",
    "    label=f\"Total Compilation time - version {laboneq_version}\",\n",
    ")\n",
    "plt.plot(\n",
    "    2**sequence_exponents_2qb_rb,\n",
    "    code_generator_duration_2qb_rb,\n",
    "    label=f\"Code generation - version {laboneq_version}\",\n",
    ")\n",
    "plt.plot(\n",
    "    2**sequence_exponents_2qb_rb,\n",
    "    creation_duration_2qb_rb,\n",
    "    label=f\"Experiment creation time - version {laboneq_version}\",\n",
    ")\n",
    "plt.xlabel(\"Length of two qubit RB sequence\")\n",
    "plt.ylabel(\"Experiment creation & Compilation times [s]\")\n",
    "plt.legend()\n",
    "plt.show()"
   ]
  },
  {
   "cell_type": "markdown",
   "id": "5490af84",
   "metadata": {},
   "source": [
    "# Load and display data"
   ]
  },
  {
   "cell_type": "markdown",
   "id": "b0ab4603",
   "metadata": {},
   "source": [
    "### Ramsey benchmarking"
   ]
  },
  {
   "cell_type": "code",
   "execution_count": null,
   "id": "deb20663",
   "metadata": {},
   "outputs": [],
   "source": [
    "ramsey_files = glob.glob(\"data/Ramsey/*.pkl\")\n",
    "ramsey_files.sort()\n",
    "ramsey_files"
   ]
  },
  {
   "cell_type": "code",
   "execution_count": null,
   "id": "0daa2841",
   "metadata": {},
   "outputs": [],
   "source": [
    "ramsey_data = {}\n",
    "for file in ramsey_files:\n",
    "    file_version = file[-10:-4]\n",
    "    with open(file, \"rb\") as f:\n",
    "        loaded_data = pickle.load(f)\n",
    "    ramsey_data[file_version] = {\n",
    "        \"qubit_count\": extract_metadata(loaded_data, \"qubits.count\"),\n",
    "        \"compilation_duration\": extract_duration(loaded_data, \"experiment-compile\"),\n",
    "        \"code_generator_duration\": extract_duration(\n",
    "            loaded_data, \"laboneq.compiler.generate-code\"\n",
    "        ),\n",
    "    }"
   ]
  },
  {
   "cell_type": "code",
   "execution_count": null,
   "id": "b092d8a0",
   "metadata": {},
   "outputs": [],
   "source": [
    "for version in ramsey_data.keys():\n",
    "    plt.loglog(\n",
    "        ramsey_data[version][\"qubit_count\"],\n",
    "        ramsey_data[version][\"compilation_duration\"],\n",
    "        label=f\"{version}\",\n",
    "    )\n",
    "plt.title(\"Total Compilation Time - parallel Ramsey Experiment\")\n",
    "plt.xlabel(\"Number of qubits in Ramsey experiment\")\n",
    "plt.ylabel(\"Compilation time [s]\")\n",
    "plt.legend()\n",
    "plt.show()"
   ]
  },
  {
   "cell_type": "code",
   "execution_count": null,
   "id": "c742a27b",
   "metadata": {},
   "outputs": [],
   "source": [
    "for version in ramsey_data.keys():\n",
    "    if version in [\"2.41.0\", \"2.47.0\", \"2.54.0\", \"2.59.0\"]:\n",
    "        plt.loglog(\n",
    "            ramsey_data[version][\"qubit_count\"],\n",
    "            ramsey_data[version][\"code_generator_duration\"],\n",
    "            label=f\"{version}\",\n",
    "        )\n",
    "plt.loglog(\n",
    "    np.linspace(12, 180, 12),\n",
    "    0.01 * np.linspace(12, 180, 12) ** 2,\n",
    "    \"--\",\n",
    "    label=\"quadratic\",\n",
    ")\n",
    "plt.loglog(\n",
    "    np.linspace(12, 180, 12), 0.005 * np.linspace(12, 180, 12), \"--\", label=\"linear\"\n",
    ")\n",
    "plt.title(\"Code Generation Time - parallel Ramsey Experiment\")\n",
    "plt.xlabel(\"Number of qubits in Ramsey experiment\")\n",
    "plt.ylabel(\"Code Generation time [s]\")\n",
    "plt.legend()\n",
    "# plt.savefig(\"CodeGeneration_Ramsey.svg\", format=\"svg\")\n",
    "plt.show()"
   ]
  },
  {
   "cell_type": "markdown",
   "id": "d987787f",
   "metadata": {},
   "source": [
    "### RB benchmarking"
   ]
  },
  {
   "cell_type": "code",
   "execution_count": null,
   "id": "c7103b87",
   "metadata": {},
   "outputs": [],
   "source": [
    "rb_files = glob.glob(\"data/RB/*.pkl\")\n",
    "rb_files.sort()\n",
    "rb_files"
   ]
  },
  {
   "cell_type": "code",
   "execution_count": null,
   "id": "126950f6",
   "metadata": {},
   "outputs": [],
   "source": [
    "rb_data = {}\n",
    "for file in rb_files[0:10]:\n",
    "    file_version = file[-10:-4]\n",
    "    # print(file_version)\n",
    "    with open(file, \"rb\") as f:\n",
    "        loaded_data = pickle.load(f)\n",
    "    # print(loaded_data)\n",
    "    rb_data[file_version] = {\n",
    "        \"sequence_exponent\": extract_metadata(loaded_data, \"sequence_exponent\"),\n",
    "        \"compilation_duration\": extract_duration(loaded_data, \"experiment-compile\"),\n",
    "        \"code_generator_duration\": extract_duration(\n",
    "            loaded_data, \"laboneq.compiler.generate-code\"\n",
    "        ),\n",
    "    }"
   ]
  },
  {
   "cell_type": "code",
   "execution_count": null,
   "id": "fe43c2d8",
   "metadata": {},
   "outputs": [],
   "source": [
    "for version in rb_data.keys():\n",
    "    plt.plot(\n",
    "        2 ** rb_data[version][\"sequence_exponent\"],\n",
    "        rb_data[version][\"compilation_duration\"],\n",
    "        label=f\"{version}\",\n",
    "    )\n",
    "plt.title(\"Total Compilation Time - 4 qubit RB Experiment\")\n",
    "plt.xlabel(\"Number of Clifford gates\")\n",
    "plt.ylabel(\"Compilation time [s]\")\n",
    "plt.legend()\n",
    "plt.show()"
   ]
  },
  {
   "cell_type": "code",
   "execution_count": null,
   "id": "c766a20b",
   "metadata": {},
   "outputs": [],
   "source": [
    "for version in rb_data.keys():\n",
    "    plt.plot(\n",
    "        2 ** rb_data[version][\"sequence_exponent\"],\n",
    "        rb_data[version][\"code_generator_duration\"],\n",
    "        label=f\"{version}\",\n",
    "    )\n",
    "plt.title(\"Code Generation Time - 4 qubit RB Experiment\")\n",
    "plt.xlabel(\"Number of Clifford gates\")\n",
    "plt.ylabel(\"Compilation time [s]\")\n",
    "plt.legend()\n",
    "plt.show()"
   ]
  },
  {
   "cell_type": "code",
   "execution_count": null,
   "id": "13acebb6",
   "metadata": {},
   "outputs": [],
   "source": [
    "versions = []\n",
    "code_times = []\n",
    "for version in rb_data.keys():\n",
    "    versions.append(version)\n",
    "    code_times.append(rb_data[version][\"code_generator_duration\"][-1])\n",
    "\n",
    "plt.plot(\n",
    "    versions,\n",
    "    code_times,\n",
    "    label=f\"RB with 8192 gates - x{round(code_times[0] / code_times[-1])} improvement\",\n",
    ")\n",
    "\n",
    "versions = []\n",
    "compile_times = []\n",
    "code_times = []\n",
    "for version in ramsey_data.keys():\n",
    "    versions.append(version)\n",
    "    code_times.append(ramsey_data[version][\"code_generator_duration\"][-1])\n",
    "\n",
    "plt.plot(\n",
    "    versions,\n",
    "    code_times,\n",
    "    label=f\"Ramsey on 180 qubits - x{round(code_times[0] / code_times[-1])} improvement\",\n",
    ")\n",
    "\n",
    "plt.xticks(ticks=versions, labels=versions)\n",
    "plt.xlabel(\"LabOne Q version\")\n",
    "plt.ylabel(\"Code Generation Duration [s]\")\n",
    "plt.ylim(0, 300)\n",
    "plt.legend()\n",
    "# plt.savefig(\"CodeGeneration_Overview.svg\", format=\"svg\")\n",
    "plt.show()"
   ]
  },
  {
   "cell_type": "code",
   "execution_count": null,
   "id": "a6a0238e",
   "metadata": {},
   "outputs": [],
   "source": [
    "versions = []\n",
    "compile_times = []\n",
    "for version in rb_data.keys():\n",
    "    versions.append(version)\n",
    "    compile_times.append(rb_data[version][\"compilation_duration\"][-1])\n",
    "\n",
    "plt.plot(\n",
    "    versions,\n",
    "    compile_times,\n",
    "    label=f\"RB with 8192 gates - x{round(compile_times[0] / compile_times[-1])} improvement\",\n",
    ")\n",
    "\n",
    "versions = []\n",
    "compile_times = []\n",
    "for version in ramsey_data.keys():\n",
    "    versions.append(version)\n",
    "    compile_times.append(ramsey_data[version][\"compilation_duration\"][-1])\n",
    "\n",
    "plt.plot(\n",
    "    versions,\n",
    "    compile_times,\n",
    "    label=f\"Ramsey on 180 qubits - x{round(compile_times[0] / compile_times[-1])} improvement\",\n",
    ")\n",
    "\n",
    "plt.xticks(ticks=versions, labels=versions)\n",
    "plt.xlabel(\"LabOne Q version\")\n",
    "plt.ylabel(\"Total Compilation Duration [s]\")\n",
    "plt.ylim(0, 340)\n",
    "plt.legend()\n",
    "# plt.savefig(\"Compiler_Overview.svg\", format=\"svg\")\n",
    "plt.show()"
   ]
  },
  {
   "cell_type": "code",
   "execution_count": null,
   "id": "358ccabe",
   "metadata": {},
   "outputs": [],
   "source": []
  }
 ],
 "metadata": {
  "kernelspec": {
   "display_name": "repo",
   "language": "python",
   "name": "python3"
  },
  "language_info": {
   "codemirror_mode": {
    "name": "ipython",
    "version": 3
   },
   "file_extension": ".py",
   "mimetype": "text/x-python",
   "name": "python",
   "nbconvert_exporter": "python",
   "pygments_lexer": "ipython3",
   "version": "3.13.7"
  }
 },
 "nbformat": 4,
 "nbformat_minor": 5
}
